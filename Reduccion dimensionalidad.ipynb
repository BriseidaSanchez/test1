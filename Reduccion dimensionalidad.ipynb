{
 "cells": [
  {
   "cell_type": "code",
   "execution_count": 958,
   "metadata": {
    "ExecuteTime": {
     "end_time": "2021-08-21T16:49:16.701676Z",
     "start_time": "2021-08-21T16:49:16.689677Z"
    }
   },
   "outputs": [
    {
     "data": {
      "text/html": [
       "        <script type=\"text/javascript\">\n",
       "        window.PlotlyConfig = {MathJaxConfig: 'local'};\n",
       "        if (window.MathJax) {MathJax.Hub.Config({SVG: {font: \"STIX-Web\"}});}\n",
       "        if (typeof require !== 'undefined') {\n",
       "        require.undef(\"plotly\");\n",
       "        requirejs.config({\n",
       "            paths: {\n",
       "                'plotly': ['https://cdn.plot.ly/plotly-latest.min']\n",
       "            }\n",
       "        });\n",
       "        require(['plotly'], function(Plotly) {\n",
       "            window._Plotly = Plotly;\n",
       "        });\n",
       "        }\n",
       "        </script>\n",
       "        "
      ]
     },
     "metadata": {},
     "output_type": "display_data"
    }
   ],
   "source": [
    "import pandas as pd\n",
    "import cufflinks as cf\n",
    "import warnings\n",
    "import sys\n",
    "import matplotlib.pyplot as plt\n",
    "import numpy as np\n",
    "from scipy.stats import chisquare\n",
    "from  functools import reduce\n",
    "import re\n",
    "from plotly.offline import plot,iplot\n",
    "pd.options.plotting.backend = \"plotly\"\n",
    "import plotly.graph_objects as go\n",
    "import plotly.express as px#graficos express\n",
    "import sys\n",
    "warnings.filterwarnings(\"ignore\")\n",
    "cf.go_offline()\n",
    "pd.set_option(\"display.max_columns\",200)"
   ]
  },
  {
   "cell_type": "code",
   "execution_count": 959,
   "metadata": {
    "ExecuteTime": {
     "end_time": "2021-08-21T16:49:16.716672Z",
     "start_time": "2021-08-21T16:49:16.703676Z"
    }
   },
   "outputs": [],
   "source": [
    "def chi_square(df,col,valor_miss):\n",
    "    x_i=df[col].fillna(valor_miss).value_counts()\n",
    "    k=x_i.sum()\n",
    "    p_i=df[col].dropna().value_counts(1)\n",
    "    m_i=k*p_i\n",
    "    chi=chisquare(f_obs=x_i,f_exp=m_i)\n",
    "    p_val=chi.pvalue\n",
    "    alpha=0.05\n",
    "    if p_val<alpha:\n",
    "        print(\"Rechazamos HO(La porporción de categorias es la misma que la general)\")\n",
    "    else:\n",
    "        print(\"Aceptamos HO(La porporción de categorias es la misma que la general)\")"
   ]
  },
  {
   "cell_type": "code",
   "execution_count": 960,
   "metadata": {
    "ExecuteTime": {
     "end_time": "2021-08-21T16:49:16.732677Z",
     "start_time": "2021-08-21T16:49:16.719676Z"
    }
   },
   "outputs": [],
   "source": [
    "def other(df,col,n):\n",
    "    aux=list(df[col].value_counts(1).index[n:].values)\n",
    "    dictio_aux=dict(zip(aux,[\"otro\"]*len(aux)))\n",
    "    df[col]=df[col].replace(dictio_aux)\n",
    "    return df\n",
    "\n",
    "def multiple_replace(string, rep_dict):\n",
    "    pattern = re.compile(\"|\".join([re.escape(k) for k in sorted(rep_dict,key=len,reverse=True)]), flags=re.DOTALL)\n",
    "    return pattern.sub(lambda x: rep_dict[x.group(0)]+\"_\", string)"
   ]
  },
  {
   "cell_type": "code",
   "execution_count": 961,
   "metadata": {
    "ExecuteTime": {
     "end_time": "2021-08-21T16:49:16.747675Z",
     "start_time": "2021-08-21T16:49:16.735691Z"
    }
   },
   "outputs": [],
   "source": [
    "## Multicolinealidad Categoricas##\n",
    "def multicolinealidad_cate(df,y,threshold=5,only_final_vif=True):\n",
    "    '''\n",
    "    Función para calcular el VIF Genralizado, (GVIF, Fox and Monette 1992)\n",
    "    Las variables no deben de deben de estar transformadas con OneHotEncoder ya que la función lo realiza internamnete.\n",
    "    Args:\n",
    "        df\n",
    "        y\n",
    "        threshold\n",
    "        only_final_vif\n",
    "    \n",
    "    Returns:\n",
    "        pandas data frame: a data frame, indexed by factor of the GVIF, GVIF^(1/2Df), VIF^(1/2Df)^2 \n",
    "        dictionary: Dictionary of column names (keys) and GVIF ** (1 / (2 * Df)) ** 2 (values)\n",
    "    '''\n",
    "\n",
    "    df_x = df.drop(y,axis=1)\n",
    "    #Guardamos los nombres de las columnas añadiendo el prefijo\n",
    "\n",
    "    onehot_list = list(df_x.select_dtypes(include=['category', 'object', 'string']).columns)\n",
    "    #Generamos las variables dummy \n",
    "    \n",
    "    df_1hot = pd.get_dummies(df_x, drop_first=True, dummy_na=False, prefix_sep='_')\n",
    "\n",
    "\n",
    "    #Dataframe vacio para guardar los resultados\n",
    "    gvif_df = pd.DataFrame(columns = ['factor','GVIF','Df','GVIF^(1/2Df)', 'VIF'])\n",
    "\n",
    "    # Iteramos sobre las columas\n",
    "    for (columnName, columnData) in df_x.iteritems():\n",
    "        #Si se generaron las de una columna, es decir la variable tiene más de dos posibilidades utilizamos todas las variables creadas\n",
    "        \n",
    "        if columnName in onehot_list:\n",
    "            X1 = df_1hot.loc[:, df_1hot.columns.str.startswith(columnName)]\n",
    "            X2 = df_1hot.loc[:, ~df_1hot.columns.str.startswith(columnName)]\n",
    "        else:\n",
    "            X1 = df_1hot[[columnName]].values\n",
    "            X2 = df_1hot.loc[:, df_1hot.columns != columnName].values\n",
    "        display(X1)\n",
    "        # Calculamose gvif\n",
    "        #A la matriz de correlación de las variables codificadas en caliente del atributo en consideración.\n",
    "        #B la matriz de correlación de todos los demás atributos del conjunto de datos (uno codificado en dummy y numérico) excluyendo los de A.\n",
    "        #C la matriz de correlación de las variables consideradas tanto en A como en B.\n",
    "        #GVIF= (det(A)*det(B))/det(C)\n",
    "        display(np.corrcoef(X1, rowvar=False))\n",
    "        gvif = np.linalg.det(np.array(np.corrcoef(X1, rowvar=False), ndmin=2)) * np.linalg.det(np.corrcoef(X2, rowvar=False)) / np.linalg.det(np.corrcoef(np.append(X1, X2, axis=1), rowvar=False))\n",
    "        #(GVIF) elevado a (1 / (2 * grados de libertad))\n",
    "        #Los grados de libertad es 1-n (n=Número de opciones que tiene la variable categorica)\n",
    "        gvif_12df = np.power(gvif, 1 / (2 * X1.shape[1]))\n",
    "        gvif_12df_sq = gvif_12df ** 2\n",
    "        DF =  X1.shape[1]\n",
    "    \n",
    "\n",
    "        # \n",
    "        new_row = {'factor': columnName, 'GVIF': gvif,'Df':DF, 'GVIF^(1/2Df)': gvif_12df, 'VIF': gvif_12df_sq}\n",
    "        gvif_df = gvif_df.append(new_row, ignore_index=True)\n",
    "\n",
    "    gvif_df = gvif_df.set_index('factor')\n",
    "    if only_final_vif:\n",
    "        gvif_df_final = gvif_df.drop(['GVIF','Df','GVIF^(1/2Df)'],axis=1)\n",
    "    else:\n",
    "        gvif_df_final = gvif_df \n",
    "    gvif_filter = gvif_df.loc[gvif_df['VIF'] >= threshold]['VIF'].to_dict()\n",
    "    if gvif_filter:\n",
    "        for i in gvif_filter.keys():\n",
    "            df_x_m = df_x.drop([i],axis=1)\n",
    "    else:\n",
    "        df_x_m = df_x\n",
    "    df_m=pd.concat([df_x_m,df[y]],axis=1)\n",
    "    return gvif_df_final,gvif_filter,df_m\n"
   ]
  },
  {
   "cell_type": "code",
   "execution_count": 962,
   "metadata": {
    "ExecuteTime": {
     "end_time": "2021-08-21T16:49:16.779673Z",
     "start_time": "2021-08-21T16:49:16.748674Z"
    }
   },
   "outputs": [],
   "source": [
    "sys.path.append(\"../libreria/\")"
   ]
  },
  {
   "cell_type": "code",
   "execution_count": 963,
   "metadata": {
    "ExecuteTime": {
     "end_time": "2021-08-21T16:49:16.795672Z",
     "start_time": "2021-08-21T16:49:16.781675Z"
    }
   },
   "outputs": [],
   "source": [
    "from libreria import rename_cols,completitud,text_clean,box,histogram"
   ]
  },
  {
   "cell_type": "code",
   "execution_count": 964,
   "metadata": {
    "ExecuteTime": {
     "end_time": "2021-08-21T16:49:16.827674Z",
     "start_time": "2021-08-21T16:49:16.797677Z"
    }
   },
   "outputs": [],
   "source": [
    "df=pd.read_csv(\"../datos/dataset_house_prices.csv\")"
   ]
  },
  {
   "cell_type": "markdown",
   "metadata": {},
   "source": [
    "## Variables"
   ]
  },
  {
   "cell_type": "markdown",
   "metadata": {},
   "source": [
    "**El problema**\n",
    "\n",
    "En análisis exploratorio tiene el objetivo de entender el significado y la relevancia de cada variable con respecto al problema. Además apartir de este análisis se pueden determinar que acciones tomar para cada variable En este caso:\n",
    "\n",
    "- La relevancia de la variable en la compra de una casa.\n",
    "- La importancia de la variable.\n",
    "- Solapamiento con otras variables.\n",
    "\n",
    "\n",
    "Variable objetivo : 'SalePrice'.\n",
    "\n",
    "- MSSubClass: clase de construcción\n",
    "- MSZoning: clasificación de la zona\n",
    "- LotFrontage: pies lineales de calle de la parcela\n",
    "- LotArea: tamaño de la parcela en pies cuadrados\n",
    "- Street: tipo de acceso por carretera\n",
    "- Alley: tipo de acceso al callejón\n",
    "- LotShape: forma de la parcela\n",
    "- LandContour: planitud de la parcela\n",
    "- Utilities: servicios públicos disponibles\n",
    "- LotConfig: Configuración de parcela\n",
    "- LandSlope: pendiente de la parcela\n",
    "- Neighborhood: ubicación física dentro de los límites de la ciudad de Ames\n",
    "- Condition1: proximidad a la carretera principal o al ferrocarril\n",
    "- Condition2: proximidad a la carretera principal o al ferrocarril (si hay un segundo)\n",
    "- BldgType: tipo de vivienda\n",
    "- HouseStyle: estilo de vivienda\n",
    "- OverallQual: calidad general del material y del acabado\n",
    "- OverallCond: condición general\n",
    "- YearBuilt: fecha original de construcción\n",
    "- YearRemodAdd: fecha de remodelación\n",
    "- RoofStyle: tipo de cubierta\n",
    "- RoofMatl: material del techo\n",
    "- Exterior1st: revestimiento exterior de la casa\n",
    "- Exterior2nd: revestimiento exterior de la casa (si hay más de un material)\n",
    "- MasVnrType: tipo de revestimiento de mampostería\n",
    "- MasVnrArea: área de revestimiento de mampostería en pies cuadrados\n",
    "- ExterQual: calidad del material exterior\n",
    "- ExterCond: estado del material en el exterior\n",
    "- Foundation: tipo de cimentación\n",
    "- BsmtQual: altura del sótano\n",
    "- BsmtCond: estado general del sótano\n",
    "- BsmtExposure: paredes del sótano a nivel de calle o de jardín\n",
    "- BsmtFinType1: calidad del área acabada del sótano\n",
    "- BsmtFinSF1: pies cuadrados de la superficie acabada tipo 1\n",
    "- BsmtFinType2: calidad de la segunda superficie acabada (si existe)\n",
    "- BsmtFinSF2: Pies cuadrados de la superficie acabada tipo 2\n",
    "- BsmtUnfSF: pies cuadrados del área sin terminar del sótano\n",
    "- TotalBsmtSF: pies cuadrados totales del sótano\n",
    "- Heating: tipo de calefacción\n",
    "- HeatingQC: calidad y estado de la calefacción\n",
    "- CentralAir: aire acondicionado central\n",
    "- Electrical: sistema eléctrico\n",
    "- 1erFlrSF: área en pies cuadrados de la primera planta (o planta baja)\n",
    "- 2ndFlrSF: área en pies cuadrados de la segunda planta\n",
    "- LowQualFinSF: pies cuadrados acabados de baja calidad (todos los pisos)\n",
    "- GrLivArea: superficie habitable por encima del nivel del suelo en pies cuadrados\n",
    "- BsmtFullBath: cuartos de baño completos en el sótano\n",
    "- BsmtHalfBath: medio baño del sótano\n",
    "- FullBath: baños completos sobre el nivel del suelo\n",
    "- HalfBath: medios baños sobre el nivel del suelo\n",
    "- Bedroom: número de dormitorios por encima del nivel del sótano\n",
    "- Kitchen: número de cocinas\n",
    "- KitchenQual: calidad de la cocina\n",
    "- TotRmsAbvGrd: total de habitaciones por encima del nivel del suelo (no incluye baños)\n",
    "- Functional: valoración de la funcionalidad de la vivienda\n",
    "- Fireplaces: número de chimeneas\n",
    "- FireplaceQu: calidad de la chimenea\n",
    "- GarageType: ubicación del garaje\n",
    "- GarageYrBlt: año de construcción del garaje\n",
    "- GarageFinish: acabado interior del garaje\n",
    "- GarageCars: tamaño del garaje en capacidad de coches\n",
    "- GarageArea: tamaño del garaje en pies cuadrados\n",
    "- GarageQual: calidad de garaje\n",
    "- GarageCond: condición de garaje\n",
    "- PavedDrive: calzada asfaltada\n",
    "- WoodDeckSF: area de plataforma de madera en pies cuadrados\n",
    "- OpenPorchSF: área de porche abierto en pies cuadrados\n",
    "- EnclosedPorch: área de porche cerrada en pies cuadrados\n",
    "- 3SsnPorch: área de porche de tres estaciones en pies cuadrados\n",
    "- ScreenPorch: superficie acristalada del porche en pies cuadrados\n",
    "- PoolArea: área de la piscina en pies cuadrados\n",
    "- PoolQC: calidad de la piscina\n",
    "- Fence: calidad de la valla\n",
    "- MiscFeature: característica miscelánea no cubierta en otras categorías\n",
    "- MiscVal: valor en dólares de la característica miscelánea\n",
    "- MoSold: mes de venta\n",
    "- YrSold: año de venta\n",
    "- SaleType: tipo de venta\n",
    "- SaleCondition: Condiciones de venta"
   ]
  },
  {
   "cell_type": "code",
   "execution_count": 965,
   "metadata": {
    "ExecuteTime": {
     "end_time": "2021-08-21T16:49:16.843673Z",
     "start_time": "2021-08-21T16:49:16.830686Z"
    }
   },
   "outputs": [],
   "source": [
    "v_feats=[\"MSSubClass\",\"MSZoning\",\"Street\",\"Alley\",\"LotShape\",\"LandContour\",\"Utilities\",\"LotConfig\",\"LandSlope\",\"Condition1\",\"Condition2\",\"BldgType\",\"HouseStyle\",\"OverallQual\",\"OverallCond\",\n",
    "        \"YearBuilt\",\"YearRemodAdd\",\"RoofStyle\",\"RoofMatl\",\"MasVnrType\",\"ExterQual\",\n",
    "        \"ExterCond\",\"Foundation\",\"BsmtQual\",\"BsmtCond\",\"BsmtExposure\",\"BsmtFinType1\",\"BsmtFinType2\",\n",
    "        \"Heating\",\"HeatingQC\",\"CentralAir\",\"Electrical\",\"LowQualFinSF\",\"BsmtHalfBath\",\"FullBath\",\"KitchenAbvGr\",\"KitchenQual\",\"Functional\",\"Fireplaces\",\"FireplaceQu\",\n",
    "        \"GarageType\",\"GarageYrBlt\",\"GarageFinish\",\"GarageQual\",\"GarageCond\",\"PavedDrive\",\"PoolQC\",\"Fence\",\n",
    "        \"MiscFeature\",\"MoSold\",\"YrSold\",\"SaleType\",\"SaleCondition\"]\n",
    "c_feats=[\"LotFrontage\",\"LotArea\",\"MasVnrArea\",\"BsmtFinSF1\",\"BsmtFinSF2\",\"BsmtUnfSF\",\"TotalBsmtSF\",\"1stFlrSF\",\n",
    "        \"2ndFlrSF\",\"GrLivArea\",\"GarageArea\",\"WoodDeckSF\",\"OpenPorchSF\",\"EnclosedPorch\",\"3SsnPorch\",\"ScreenPorch\",\n",
    "        \"PoolArea\",\"MiscVal\",\"BedroomAbvGr\",\"HalfBath\",\"GarageCars\",\"BsmtFullBath\",\"TotRmsAbvGrd\"]\n",
    "tgt=[\"SalePrice\"]\n",
    "\n",
    "df=rename_cols(df,v_feats,\"v_\")\n",
    "df=rename_cols(df,c_feats,\"c_\")\n",
    "df=rename_cols(df,tgt,\"tgt_\")"
   ]
  },
  {
   "cell_type": "code",
   "execution_count": 966,
   "metadata": {
    "ExecuteTime": {
     "end_time": "2021-08-21T16:49:16.859676Z",
     "start_time": "2021-08-21T16:49:16.846679Z"
    }
   },
   "outputs": [],
   "source": [
    "#Eliminamos aquellas variables que que hacen referencia a la venta\n",
    "df.drop(columns=[\"v_SaleType\",\"v_SaleCondition\"],inplace=True)"
   ]
  },
  {
   "cell_type": "code",
   "execution_count": 967,
   "metadata": {
    "ExecuteTime": {
     "end_time": "2021-08-21T16:49:16.875673Z",
     "start_time": "2021-08-21T16:49:16.861675Z"
    }
   },
   "outputs": [],
   "source": [
    "df.drop(columns=[\"Neighborhood\",\"Exterior2nd\",\"Exterior1st\",\"v_YrSold\",\"v_MoSold\"],inplace=True)"
   ]
  },
  {
   "cell_type": "code",
   "execution_count": 968,
   "metadata": {
    "ExecuteTime": {
     "end_time": "2021-08-21T16:49:16.923675Z",
     "start_time": "2021-08-21T16:49:16.877681Z"
    }
   },
   "outputs": [
    {
     "data": {
      "text/html": [
       "<div>\n",
       "<style scoped>\n",
       "    .dataframe tbody tr th:only-of-type {\n",
       "        vertical-align: middle;\n",
       "    }\n",
       "\n",
       "    .dataframe tbody tr th {\n",
       "        vertical-align: top;\n",
       "    }\n",
       "\n",
       "    .dataframe thead th {\n",
       "        text-align: right;\n",
       "    }\n",
       "</style>\n",
       "<table border=\"1\" class=\"dataframe\">\n",
       "  <thead>\n",
       "    <tr style=\"text-align: right;\">\n",
       "      <th></th>\n",
       "      <th>Id</th>\n",
       "      <th>v_MSSubClass</th>\n",
       "      <th>v_MSZoning</th>\n",
       "      <th>c_LotFrontage</th>\n",
       "      <th>c_LotArea</th>\n",
       "      <th>v_Street</th>\n",
       "      <th>v_Alley</th>\n",
       "      <th>v_LotShape</th>\n",
       "      <th>v_LandContour</th>\n",
       "      <th>v_Utilities</th>\n",
       "      <th>v_LotConfig</th>\n",
       "      <th>v_LandSlope</th>\n",
       "      <th>v_Condition1</th>\n",
       "      <th>v_Condition2</th>\n",
       "      <th>v_BldgType</th>\n",
       "      <th>v_HouseStyle</th>\n",
       "      <th>v_OverallQual</th>\n",
       "      <th>v_OverallCond</th>\n",
       "      <th>v_YearBuilt</th>\n",
       "      <th>v_YearRemodAdd</th>\n",
       "      <th>v_RoofStyle</th>\n",
       "      <th>v_RoofMatl</th>\n",
       "      <th>v_MasVnrType</th>\n",
       "      <th>c_MasVnrArea</th>\n",
       "      <th>v_ExterQual</th>\n",
       "      <th>v_ExterCond</th>\n",
       "      <th>v_Foundation</th>\n",
       "      <th>v_BsmtQual</th>\n",
       "      <th>v_BsmtCond</th>\n",
       "      <th>v_BsmtExposure</th>\n",
       "      <th>v_BsmtFinType1</th>\n",
       "      <th>c_BsmtFinSF1</th>\n",
       "      <th>v_BsmtFinType2</th>\n",
       "      <th>c_BsmtFinSF2</th>\n",
       "      <th>c_BsmtUnfSF</th>\n",
       "      <th>c_TotalBsmtSF</th>\n",
       "      <th>v_Heating</th>\n",
       "      <th>v_HeatingQC</th>\n",
       "      <th>v_CentralAir</th>\n",
       "      <th>v_Electrical</th>\n",
       "      <th>c_1stFlrSF</th>\n",
       "      <th>c_2ndFlrSF</th>\n",
       "      <th>v_LowQualFinSF</th>\n",
       "      <th>c_GrLivArea</th>\n",
       "      <th>c_BsmtFullBath</th>\n",
       "      <th>v_BsmtHalfBath</th>\n",
       "      <th>v_FullBath</th>\n",
       "      <th>c_HalfBath</th>\n",
       "      <th>c_BedroomAbvGr</th>\n",
       "      <th>v_KitchenAbvGr</th>\n",
       "      <th>v_KitchenQual</th>\n",
       "      <th>c_TotRmsAbvGrd</th>\n",
       "      <th>v_Functional</th>\n",
       "      <th>v_Fireplaces</th>\n",
       "      <th>v_FireplaceQu</th>\n",
       "      <th>v_GarageType</th>\n",
       "      <th>v_GarageYrBlt</th>\n",
       "      <th>v_GarageFinish</th>\n",
       "      <th>c_GarageCars</th>\n",
       "      <th>c_GarageArea</th>\n",
       "      <th>v_GarageQual</th>\n",
       "      <th>v_GarageCond</th>\n",
       "      <th>v_PavedDrive</th>\n",
       "      <th>c_WoodDeckSF</th>\n",
       "      <th>c_OpenPorchSF</th>\n",
       "      <th>c_EnclosedPorch</th>\n",
       "      <th>c_3SsnPorch</th>\n",
       "      <th>c_ScreenPorch</th>\n",
       "      <th>c_PoolArea</th>\n",
       "      <th>v_PoolQC</th>\n",
       "      <th>v_Fence</th>\n",
       "      <th>v_MiscFeature</th>\n",
       "      <th>c_MiscVal</th>\n",
       "      <th>tgt_SalePrice</th>\n",
       "    </tr>\n",
       "  </thead>\n",
       "  <tbody>\n",
       "  </tbody>\n",
       "</table>\n",
       "</div>"
      ],
      "text/plain": [
       "Empty DataFrame\n",
       "Columns: [Id, v_MSSubClass, v_MSZoning, c_LotFrontage, c_LotArea, v_Street, v_Alley, v_LotShape, v_LandContour, v_Utilities, v_LotConfig, v_LandSlope, v_Condition1, v_Condition2, v_BldgType, v_HouseStyle, v_OverallQual, v_OverallCond, v_YearBuilt, v_YearRemodAdd, v_RoofStyle, v_RoofMatl, v_MasVnrType, c_MasVnrArea, v_ExterQual, v_ExterCond, v_Foundation, v_BsmtQual, v_BsmtCond, v_BsmtExposure, v_BsmtFinType1, c_BsmtFinSF1, v_BsmtFinType2, c_BsmtFinSF2, c_BsmtUnfSF, c_TotalBsmtSF, v_Heating, v_HeatingQC, v_CentralAir, v_Electrical, c_1stFlrSF, c_2ndFlrSF, v_LowQualFinSF, c_GrLivArea, c_BsmtFullBath, v_BsmtHalfBath, v_FullBath, c_HalfBath, c_BedroomAbvGr, v_KitchenAbvGr, v_KitchenQual, c_TotRmsAbvGrd, v_Functional, v_Fireplaces, v_FireplaceQu, v_GarageType, v_GarageYrBlt, v_GarageFinish, c_GarageCars, c_GarageArea, v_GarageQual, v_GarageCond, v_PavedDrive, c_WoodDeckSF, c_OpenPorchSF, c_EnclosedPorch, c_3SsnPorch, c_ScreenPorch, c_PoolArea, v_PoolQC, v_Fence, v_MiscFeature, c_MiscVal, tgt_SalePrice]\n",
       "Index: []"
      ]
     },
     "execution_count": 968,
     "metadata": {},
     "output_type": "execute_result"
    }
   ],
   "source": [
    "#NO hay duplicados\n",
    "df[df.duplicated(subset=[\"Id\"])]"
   ]
  },
  {
   "cell_type": "code",
   "execution_count": 969,
   "metadata": {
    "ExecuteTime": {
     "end_time": "2021-08-21T16:49:17.162714Z",
     "start_time": "2021-08-21T16:49:16.925676Z"
    },
    "scrolled": true
   },
   "outputs": [],
   "source": [
    "#Variables para limpiar el texto\n",
    "features=list(filter(lambda x: x not in [\"v_GarageYrBlt\",\"v_YearBuilt\"],df.filter(like=\"v_\") ))\n",
    "\n",
    "\n",
    "for col in features:\n",
    "    df[col]=df[col].fillna(\"nan\").astype(str).map(text_clean).replace(\"nan\",np.nan)"
   ]
  },
  {
   "cell_type": "code",
   "execution_count": 970,
   "metadata": {
    "ExecuteTime": {
     "end_time": "2021-08-21T16:49:17.274704Z",
     "start_time": "2021-08-21T16:49:17.163673Z"
    }
   },
   "outputs": [
    {
     "data": {
      "application/vnd.plotly.v1+json": {
       "config": {
        "plotlyServerURL": "https://plot.ly"
       },
       "data": [
        {
         "histfunc": "count",
         "histnorm": "",
         "marker": {
          "color": "rgba(0, 62, 108, 1.0)",
          "line": {
           "color": "#4D5663",
           "width": 1.3
          }
         },
         "name": "tgt_SalePrice",
         "nbinsx": 5,
         "opacity": 0.9,
         "orientation": "v",
         "type": "histogram",
         "x": [
          208500,
          181500,
          223500,
          140000,
          250000,
          143000,
          307000,
          200000,
          129900,
          118000,
          129500,
          345000,
          144000,
          279500,
          157000,
          132000,
          149000,
          90000,
          159000,
          139000,
          325300,
          139400,
          230000,
          129900,
          154000,
          256300,
          134800,
          306000,
          207500,
          68500,
          40000,
          149350,
          179900,
          165500,
          277500,
          309000,
          145000,
          153000,
          109000,
          82000,
          160000,
          170000,
          144000,
          130250,
          141000,
          319900,
          239686,
          249700,
          113000,
          127000,
          177000,
          114500,
          110000,
          385000,
          130000,
          180500,
          172500,
          196500,
          438780,
          124900,
          158000,
          101000,
          202500,
          140000,
          219500,
          317000,
          180000,
          226000,
          80000,
          225000,
          244000,
          129500,
          185000,
          144900,
          107400,
          91000,
          135750,
          127000,
          136500,
          110000,
          193500,
          153500,
          245000,
          126500,
          168500,
          260000,
          174000,
          164500,
          85000,
          123600,
          109900,
          98600,
          163500,
          133900,
          204750,
          185000,
          214000,
          94750,
          83000,
          128950,
          205000,
          178000,
          118964,
          198900,
          169500,
          250000,
          100000,
          115000,
          115000,
          190000,
          136900,
          180000,
          383970,
          217000,
          259500,
          176000,
          139000,
          155000,
          320000,
          163990,
          180000,
          100000,
          136000,
          153900,
          181000,
          84500,
          128000,
          87000,
          155000,
          150000,
          226000,
          244000,
          150750,
          220000,
          180000,
          174000,
          143000,
          171000,
          230000,
          231500,
          115000,
          260000,
          166000,
          204000,
          125000,
          130000,
          105000,
          222500,
          141000,
          115000,
          122000,
          372402,
          190000,
          235000,
          125000,
          79000,
          109500,
          269500,
          254900,
          320000,
          162500,
          412500,
          220000,
          103200,
          152000,
          127500,
          190000,
          325624,
          183500,
          228000,
          128500,
          215000,
          239000,
          163000,
          184000,
          243000,
          211000,
          172500,
          501837,
          100000,
          177000,
          200100,
          120000,
          200000,
          127000,
          475000,
          173000,
          135000,
          153337,
          286000,
          315000,
          184000,
          192000,
          130000,
          127000,
          148500,
          311872,
          235000,
          104000,
          274900,
          140000,
          171500,
          112000,
          149000,
          110000,
          180500,
          143900,
          141000,
          277000,
          145000,
          98000,
          186000,
          252678,
          156000,
          161750,
          134450,
          210000,
          107000,
          311500,
          167240,
          204900,
          200000,
          179900,
          97000,
          386250,
          112000,
          290000,
          106000,
          125000,
          192500,
          148000,
          403000,
          94500,
          128200,
          216500,
          89500,
          185500,
          194500,
          318000,
          113000,
          262500,
          110500,
          79000,
          120000,
          205000,
          241500,
          137000,
          140000,
          180000,
          277000,
          76500,
          235000,
          173000,
          158000,
          145000,
          230000,
          207500,
          220000,
          231500,
          97000,
          176000,
          276000,
          151000,
          130000,
          73000,
          175500,
          185000,
          179500,
          120500,
          148000,
          266000,
          241500,
          290000,
          139000,
          124500,
          205000,
          201000,
          141000,
          415298,
          192000,
          228500,
          185000,
          207500,
          244600,
          179200,
          164700,
          159000,
          88000,
          122000,
          153575,
          233230,
          135900,
          131000,
          235000,
          167000,
          142500,
          152000,
          239000,
          175000,
          158500,
          157000,
          267000,
          205000,
          149900,
          295000,
          305900,
          225000,
          89500,
          82500,
          360000,
          165600,
          132000,
          119900,
          375000,
          178000,
          188500,
          260000,
          270000,
          260000,
          187500,
          342643,
          354000,
          301000,
          126175,
          242000,
          87000,
          324000,
          145250,
          214500,
          78000,
          119000,
          139000,
          284000,
          207000,
          192000,
          228950,
          377426,
          214000,
          202500,
          155000,
          202900,
          82000,
          87500,
          266000,
          85000,
          140200,
          151500,
          157500,
          154000,
          437154,
          318061,
          190000,
          95000,
          105900,
          140000,
          177500,
          173000,
          134000,
          130000,
          280000,
          156000,
          145000,
          198500,
          118000,
          190000,
          147000,
          159000,
          165000,
          132000,
          162000,
          172400,
          134432,
          125000,
          123000,
          219500,
          61000,
          148000,
          340000,
          394432,
          179000,
          127000,
          187750,
          213500,
          76000,
          240000,
          192000,
          81000,
          125000,
          191000,
          426000,
          119000,
          215000,
          106500,
          100000,
          109000,
          129000,
          123000,
          169500,
          67000,
          241000,
          245500,
          164990,
          108000,
          258000,
          168000,
          150000,
          115000,
          177000,
          280000,
          339750,
          60000,
          145000,
          222000,
          115000,
          228000,
          181134,
          149500,
          239000,
          126000,
          142000,
          206300,
          215000,
          113000,
          315000,
          139000,
          135000,
          275000,
          109008,
          195400,
          175000,
          85400,
          79900,
          122500,
          181000,
          81000,
          212000,
          116000,
          119000,
          90350,
          110000,
          555000,
          118000,
          162900,
          172500,
          210000,
          127500,
          190000,
          199900,
          119500,
          120000,
          110000,
          280000,
          204000,
          210000,
          188000,
          175500,
          98000,
          256000,
          161000,
          110000,
          263435,
          155000,
          62383,
          188700,
          124000,
          178740,
          167000,
          146500,
          250000,
          187000,
          212000,
          190000,
          148000,
          440000,
          251000,
          132500,
          208900,
          380000,
          297000,
          89471,
          326000,
          374000,
          155000,
          164000,
          132500,
          147000,
          156000,
          175000,
          160000,
          86000,
          115000,
          133000,
          172785,
          155000,
          91300,
          34900,
          430000,
          184000,
          130000,
          120000,
          113000,
          226700,
          140000,
          289000,
          147000,
          124500,
          215000,
          208300,
          161000,
          124500,
          164900,
          202665,
          129900,
          134000,
          96500,
          402861,
          158000,
          265000,
          211000,
          234000,
          106250,
          150000,
          159000,
          184750,
          315750,
          176000,
          132000,
          446261,
          86000,
          200624,
          175000,
          128000,
          107500,
          39300,
          178000,
          107500,
          188000,
          111250,
          158000,
          272000,
          315000,
          248000,
          213250,
          133000,
          179665,
          229000,
          210000,
          129500,
          125000,
          263000,
          140000,
          112500,
          255500,
          108000,
          284000,
          113000,
          141000,
          108000,
          175000,
          234000,
          121500,
          170000,
          108000,
          185000,
          268000,
          128000,
          325000,
          214000,
          316600,
          135960,
          142600,
          120000,
          224500,
          170000,
          139000,
          118500,
          145000,
          164500,
          146000,
          131500,
          181900,
          253293,
          118500,
          325000,
          133000,
          369900,
          130000,
          137000,
          143000,
          79500,
          185900,
          451950,
          138000,
          140000,
          110000,
          319000,
          114504,
          194201,
          217500,
          151000,
          275000,
          141000,
          220000,
          151000,
          221000,
          205000,
          152000,
          225000,
          359100,
          118500,
          313000,
          148000,
          261500,
          147000,
          75500,
          137500,
          183200,
          105500,
          314813,
          305000,
          67000,
          240000,
          135000,
          168500,
          165150,
          160000,
          139900,
          153000,
          135000,
          168500,
          124000,
          209500,
          82500,
          139400,
          144000,
          200000,
          60000,
          93000,
          85000,
          264561,
          274000,
          226000,
          345000,
          152000,
          370878,
          143250,
          98300,
          155000,
          155000,
          84500,
          205950,
          108000,
          191000,
          135000,
          350000,
          88000,
          145500,
          149000,
          97500,
          167000,
          197900,
          402000,
          110000,
          137500,
          423000,
          230500,
          129000,
          193500,
          168000,
          137500,
          173500,
          103600,
          165000,
          257500,
          140000,
          148500,
          87000,
          109500,
          372500,
          128500,
          143000,
          159434,
          173000,
          285000,
          221000,
          207500,
          227875,
          148800,
          392000,
          194700,
          141000,
          755000,
          335000,
          108480,
          141500,
          176000,
          89000,
          123500,
          138500,
          196000,
          312500,
          140000,
          361919,
          140000,
          213000,
          55000,
          302000,
          254000,
          179540,
          109900,
          52000,
          102776,
          189000,
          129000,
          130500,
          165000,
          159500,
          157000,
          341000,
          128500,
          275000,
          143000,
          124500,
          135000,
          320000,
          120500,
          222000,
          194500,
          110000,
          103000,
          236500,
          187500,
          222500,
          131400,
          108000,
          163000,
          93500,
          239900,
          179000,
          190000,
          132000,
          142000,
          179000,
          175000,
          180000,
          299800,
          236000,
          265979,
          260400,
          98000,
          96500,
          162000,
          217000,
          275500,
          156000,
          172500,
          212000,
          158900,
          179400,
          290000,
          127500,
          100000,
          215200,
          337000,
          270000,
          264132,
          196500,
          160000,
          216837,
          538000,
          134900,
          102000,
          107000,
          114500,
          395000,
          162000,
          221500,
          142500,
          144000,
          135000,
          176000,
          175900,
          187100,
          165500,
          128000,
          161500,
          139000,
          233000,
          107900,
          187500,
          160200,
          146800,
          269790,
          225000,
          194500,
          171000,
          143500,
          110000,
          485000,
          175000,
          200000,
          109900,
          189000,
          582933,
          118000,
          227680,
          135500,
          223500,
          159950,
          106000,
          181000,
          144500,
          55993,
          157900,
          116000,
          224900,
          137000,
          271000,
          155000,
          224000,
          183000,
          93000,
          225000,
          139500,
          232600,
          385000,
          109500,
          189000,
          185000,
          147400,
          166000,
          151000,
          237000,
          167000,
          139950,
          128000,
          153500,
          100000,
          144000,
          130500,
          140000,
          157500,
          174900,
          141000,
          153900,
          171000,
          213000,
          133500,
          240000,
          187000,
          131500,
          215000,
          164000,
          158000,
          170000,
          127000,
          147000,
          174000,
          152000,
          250000,
          189950,
          131500,
          152000,
          132500,
          250580,
          148500,
          248900,
          129000,
          169000,
          236000,
          109500,
          200500,
          116000,
          133000,
          66500,
          303477,
          132250,
          350000,
          148000,
          136500,
          157000,
          187500,
          178000,
          118500,
          100000,
          328900,
          145000,
          135500,
          268000,
          149500,
          122900,
          172500,
          154500,
          165000,
          118858,
          140000,
          106500,
          142953,
          611657,
          135000,
          110000,
          153000,
          180000,
          240000,
          125500,
          128000,
          255000,
          250000,
          131000,
          174000,
          154300,
          143500,
          88000,
          145000,
          173733,
          75000,
          35311,
          135000,
          238000,
          176500,
          201000,
          145900,
          169990,
          193000,
          207500,
          175000,
          285000,
          176000,
          236500,
          222000,
          201000,
          117500,
          320000,
          190000,
          242000,
          79900,
          184900,
          253000,
          239799,
          244400,
          150900,
          214000,
          150000,
          143000,
          137500,
          124900,
          143000,
          270000,
          192500,
          197500,
          129000,
          119900,
          133900,
          172000,
          127500,
          145000,
          124000,
          132000,
          185000,
          155000,
          116500,
          272000,
          155000,
          239000,
          214900,
          178900,
          160000,
          135000,
          37900,
          140000,
          135000,
          173000,
          99500,
          182000,
          167500,
          165000,
          85500,
          199900,
          110000,
          139000,
          178400,
          336000,
          159895,
          255900,
          126000,
          125000,
          117000,
          395192,
          195000,
          197000,
          348000,
          168000,
          187000,
          173900,
          337500,
          121600,
          136500,
          185000,
          91000,
          206000,
          82000,
          86000,
          232000,
          136905,
          181000,
          149900,
          163500,
          88000,
          240000,
          102000,
          135000,
          100000,
          165000,
          85000,
          119200,
          227000,
          203000,
          187500,
          160000,
          213490,
          176000,
          194000,
          87000,
          191000,
          287000,
          112500,
          167500,
          293077,
          105000,
          118000,
          160000,
          197000,
          310000,
          230000,
          119750,
          84000,
          315500,
          287000,
          97000,
          80000,
          155000,
          173000,
          196000,
          262280,
          278000,
          139600,
          556581,
          145000,
          115000,
          84900,
          176485,
          200141,
          165000,
          144500,
          255000,
          180000,
          185850,
          248000,
          335000,
          220000,
          213500,
          81000,
          90000,
          110500,
          154000,
          328000,
          178000,
          167900,
          151400,
          135000,
          135000,
          154000,
          91500,
          159500,
          194000,
          219500,
          170000,
          138800,
          155900,
          126000,
          145000,
          133000,
          192000,
          160000,
          187500,
          147000,
          83500,
          252000,
          137500,
          197000,
          92900,
          160000,
          136500,
          146000,
          129000,
          176432,
          127000,
          170000,
          128000,
          157000,
          60000,
          119500,
          135000,
          159500,
          106000,
          325000,
          179900,
          274725,
          181000,
          280000,
          188000,
          205000,
          129900,
          134500,
          117000,
          318000,
          184100,
          130000,
          140000,
          133700,
          118400,
          212900,
          112000,
          118000,
          163900,
          115000,
          174000,
          259000,
          215000,
          140000,
          135000,
          93500,
          117500,
          239500,
          169000,
          102000,
          119000,
          94000,
          196000,
          144000,
          139000,
          197500,
          424870,
          80000,
          80000,
          149000,
          180000,
          174500,
          116900,
          143000,
          124000,
          149900,
          230000,
          120500,
          201800,
          218000,
          179900,
          230000,
          235128,
          185000,
          146000,
          224000,
          129000,
          108959,
          194000,
          233170,
          245350,
          173000,
          235000,
          625000,
          171000,
          163000,
          171900,
          200500,
          239000,
          285000,
          119500,
          115000,
          154900,
          93000,
          250000,
          392500,
          745000,
          120000,
          186700,
          104900,
          95000,
          262000,
          195000,
          189000,
          168000,
          174000,
          125000,
          165000,
          158000,
          176000,
          219210,
          144000,
          178000,
          148000,
          116050,
          197900,
          117000,
          213000,
          153500,
          271900,
          107000,
          200000,
          140000,
          290000,
          189000,
          164000,
          113000,
          145000,
          134500,
          125000,
          112000,
          229456,
          80500,
          91500,
          115000,
          134000,
          143000,
          137900,
          184000,
          145000,
          214000,
          147000,
          367294,
          127000,
          190000,
          132500,
          101800,
          142000,
          130000,
          138887,
          175500,
          195000,
          142500,
          265900,
          224900,
          248328,
          170000,
          465000,
          230000,
          178000,
          186500,
          169900,
          129500,
          119000,
          244000,
          171750,
          130000,
          294000,
          165400,
          127500,
          301500,
          99900,
          190000,
          151000,
          181000,
          128900,
          161500,
          180500,
          181000,
          183900,
          122000,
          378500,
          381000,
          144000,
          260000,
          185750,
          137000,
          177000,
          139000,
          137000,
          162000,
          197900,
          237000,
          68400,
          227000,
          180000,
          150500,
          139000,
          169000,
          132500,
          143000,
          190000,
          278000,
          281000,
          180500,
          119500,
          107500,
          162900,
          115000,
          138500,
          155000,
          140000,
          160000,
          154000,
          225000,
          177500,
          290000,
          232000,
          130000,
          325000,
          202500,
          138000,
          147000,
          179200,
          335000,
          203000,
          302000,
          333168,
          119000,
          206900,
          295493,
          208900,
          275000,
          111000,
          156500,
          72500,
          190000,
          82500,
          147000,
          55000,
          79000,
          130500,
          256000,
          176500,
          227000,
          132500,
          100000,
          125500,
          125000,
          167900,
          135000,
          52500,
          200000,
          128500,
          123000,
          155000,
          228500,
          177000,
          155835,
          108500,
          262500,
          283463,
          215000,
          122000,
          200000,
          171000,
          134900,
          410000,
          235000,
          170000,
          110000,
          149900,
          177500,
          315000,
          189000,
          260000,
          104900,
          156932,
          144152,
          216000,
          193000,
          127000,
          144000,
          232000,
          105000,
          165500,
          274300,
          466500,
          250000,
          239000,
          91000,
          117000,
          83000,
          167500,
          58500,
          237500,
          157000,
          112000,
          105000,
          125500,
          250000,
          136000,
          377500,
          131000,
          235000,
          124000,
          123000,
          163000,
          246578,
          281213,
          160000,
          137500,
          138000,
          137450,
          120000,
          193000,
          193879,
          282922,
          105000,
          275000,
          133000,
          112000,
          125500,
          215000,
          230000,
          140000,
          90000,
          257000,
          207000,
          175900,
          122500,
          340000,
          124000,
          223000,
          179900,
          127500,
          136500,
          274970,
          144000,
          142000,
          271000,
          140000,
          119000,
          182900,
          192140,
          143750,
          64500,
          186500,
          160000,
          174000,
          120500,
          394617,
          149700,
          197000,
          191000,
          149300,
          310000,
          121000,
          179600,
          129000,
          157900,
          240000,
          112000,
          92000,
          136000,
          287090,
          145000,
          84500,
          185000,
          175000,
          210000,
          266500,
          142125,
          147500
         ]
        }
       ],
       "layout": {
        "barmode": "overlay",
        "font": {
         "color": "black",
         "family": "Courier New, monospace"
        },
        "template": {
         "data": {
          "bar": [
           {
            "error_x": {
             "color": "#2a3f5f"
            },
            "error_y": {
             "color": "#2a3f5f"
            },
            "marker": {
             "line": {
              "color": "white",
              "width": 0.5
             }
            },
            "type": "bar"
           }
          ],
          "barpolar": [
           {
            "marker": {
             "line": {
              "color": "white",
              "width": 0.5
             }
            },
            "type": "barpolar"
           }
          ],
          "carpet": [
           {
            "aaxis": {
             "endlinecolor": "#2a3f5f",
             "gridcolor": "#C8D4E3",
             "linecolor": "#C8D4E3",
             "minorgridcolor": "#C8D4E3",
             "startlinecolor": "#2a3f5f"
            },
            "baxis": {
             "endlinecolor": "#2a3f5f",
             "gridcolor": "#C8D4E3",
             "linecolor": "#C8D4E3",
             "minorgridcolor": "#C8D4E3",
             "startlinecolor": "#2a3f5f"
            },
            "type": "carpet"
           }
          ],
          "choropleth": [
           {
            "colorbar": {
             "outlinewidth": 0,
             "ticks": ""
            },
            "type": "choropleth"
           }
          ],
          "contour": [
           {
            "colorbar": {
             "outlinewidth": 0,
             "ticks": ""
            },
            "colorscale": [
             [
              0,
              "#0d0887"
             ],
             [
              0.1111111111111111,
              "#46039f"
             ],
             [
              0.2222222222222222,
              "#7201a8"
             ],
             [
              0.3333333333333333,
              "#9c179e"
             ],
             [
              0.4444444444444444,
              "#bd3786"
             ],
             [
              0.5555555555555556,
              "#d8576b"
             ],
             [
              0.6666666666666666,
              "#ed7953"
             ],
             [
              0.7777777777777778,
              "#fb9f3a"
             ],
             [
              0.8888888888888888,
              "#fdca26"
             ],
             [
              1,
              "#f0f921"
             ]
            ],
            "type": "contour"
           }
          ],
          "contourcarpet": [
           {
            "colorbar": {
             "outlinewidth": 0,
             "ticks": ""
            },
            "type": "contourcarpet"
           }
          ],
          "heatmap": [
           {
            "colorbar": {
             "outlinewidth": 0,
             "ticks": ""
            },
            "colorscale": [
             [
              0,
              "#0d0887"
             ],
             [
              0.1111111111111111,
              "#46039f"
             ],
             [
              0.2222222222222222,
              "#7201a8"
             ],
             [
              0.3333333333333333,
              "#9c179e"
             ],
             [
              0.4444444444444444,
              "#bd3786"
             ],
             [
              0.5555555555555556,
              "#d8576b"
             ],
             [
              0.6666666666666666,
              "#ed7953"
             ],
             [
              0.7777777777777778,
              "#fb9f3a"
             ],
             [
              0.8888888888888888,
              "#fdca26"
             ],
             [
              1,
              "#f0f921"
             ]
            ],
            "type": "heatmap"
           }
          ],
          "heatmapgl": [
           {
            "colorbar": {
             "outlinewidth": 0,
             "ticks": ""
            },
            "colorscale": [
             [
              0,
              "#0d0887"
             ],
             [
              0.1111111111111111,
              "#46039f"
             ],
             [
              0.2222222222222222,
              "#7201a8"
             ],
             [
              0.3333333333333333,
              "#9c179e"
             ],
             [
              0.4444444444444444,
              "#bd3786"
             ],
             [
              0.5555555555555556,
              "#d8576b"
             ],
             [
              0.6666666666666666,
              "#ed7953"
             ],
             [
              0.7777777777777778,
              "#fb9f3a"
             ],
             [
              0.8888888888888888,
              "#fdca26"
             ],
             [
              1,
              "#f0f921"
             ]
            ],
            "type": "heatmapgl"
           }
          ],
          "histogram": [
           {
            "marker": {
             "colorbar": {
              "outlinewidth": 0,
              "ticks": ""
             }
            },
            "type": "histogram"
           }
          ],
          "histogram2d": [
           {
            "colorbar": {
             "outlinewidth": 0,
             "ticks": ""
            },
            "colorscale": [
             [
              0,
              "#0d0887"
             ],
             [
              0.1111111111111111,
              "#46039f"
             ],
             [
              0.2222222222222222,
              "#7201a8"
             ],
             [
              0.3333333333333333,
              "#9c179e"
             ],
             [
              0.4444444444444444,
              "#bd3786"
             ],
             [
              0.5555555555555556,
              "#d8576b"
             ],
             [
              0.6666666666666666,
              "#ed7953"
             ],
             [
              0.7777777777777778,
              "#fb9f3a"
             ],
             [
              0.8888888888888888,
              "#fdca26"
             ],
             [
              1,
              "#f0f921"
             ]
            ],
            "type": "histogram2d"
           }
          ],
          "histogram2dcontour": [
           {
            "colorbar": {
             "outlinewidth": 0,
             "ticks": ""
            },
            "colorscale": [
             [
              0,
              "#0d0887"
             ],
             [
              0.1111111111111111,
              "#46039f"
             ],
             [
              0.2222222222222222,
              "#7201a8"
             ],
             [
              0.3333333333333333,
              "#9c179e"
             ],
             [
              0.4444444444444444,
              "#bd3786"
             ],
             [
              0.5555555555555556,
              "#d8576b"
             ],
             [
              0.6666666666666666,
              "#ed7953"
             ],
             [
              0.7777777777777778,
              "#fb9f3a"
             ],
             [
              0.8888888888888888,
              "#fdca26"
             ],
             [
              1,
              "#f0f921"
             ]
            ],
            "type": "histogram2dcontour"
           }
          ],
          "mesh3d": [
           {
            "colorbar": {
             "outlinewidth": 0,
             "ticks": ""
            },
            "type": "mesh3d"
           }
          ],
          "parcoords": [
           {
            "line": {
             "colorbar": {
              "outlinewidth": 0,
              "ticks": ""
             }
            },
            "type": "parcoords"
           }
          ],
          "pie": [
           {
            "automargin": true,
            "type": "pie"
           }
          ],
          "scatter": [
           {
            "marker": {
             "colorbar": {
              "outlinewidth": 0,
              "ticks": ""
             }
            },
            "type": "scatter"
           }
          ],
          "scatter3d": [
           {
            "line": {
             "colorbar": {
              "outlinewidth": 0,
              "ticks": ""
             }
            },
            "marker": {
             "colorbar": {
              "outlinewidth": 0,
              "ticks": ""
             }
            },
            "type": "scatter3d"
           }
          ],
          "scattercarpet": [
           {
            "marker": {
             "colorbar": {
              "outlinewidth": 0,
              "ticks": ""
             }
            },
            "type": "scattercarpet"
           }
          ],
          "scattergeo": [
           {
            "marker": {
             "colorbar": {
              "outlinewidth": 0,
              "ticks": ""
             }
            },
            "type": "scattergeo"
           }
          ],
          "scattergl": [
           {
            "marker": {
             "colorbar": {
              "outlinewidth": 0,
              "ticks": ""
             }
            },
            "type": "scattergl"
           }
          ],
          "scattermapbox": [
           {
            "marker": {
             "colorbar": {
              "outlinewidth": 0,
              "ticks": ""
             }
            },
            "type": "scattermapbox"
           }
          ],
          "scatterpolar": [
           {
            "marker": {
             "colorbar": {
              "outlinewidth": 0,
              "ticks": ""
             }
            },
            "type": "scatterpolar"
           }
          ],
          "scatterpolargl": [
           {
            "marker": {
             "colorbar": {
              "outlinewidth": 0,
              "ticks": ""
             }
            },
            "type": "scatterpolargl"
           }
          ],
          "scatterternary": [
           {
            "marker": {
             "colorbar": {
              "outlinewidth": 0,
              "ticks": ""
             }
            },
            "type": "scatterternary"
           }
          ],
          "surface": [
           {
            "colorbar": {
             "outlinewidth": 0,
             "ticks": ""
            },
            "colorscale": [
             [
              0,
              "#0d0887"
             ],
             [
              0.1111111111111111,
              "#46039f"
             ],
             [
              0.2222222222222222,
              "#7201a8"
             ],
             [
              0.3333333333333333,
              "#9c179e"
             ],
             [
              0.4444444444444444,
              "#bd3786"
             ],
             [
              0.5555555555555556,
              "#d8576b"
             ],
             [
              0.6666666666666666,
              "#ed7953"
             ],
             [
              0.7777777777777778,
              "#fb9f3a"
             ],
             [
              0.8888888888888888,
              "#fdca26"
             ],
             [
              1,
              "#f0f921"
             ]
            ],
            "type": "surface"
           }
          ],
          "table": [
           {
            "cells": {
             "fill": {
              "color": "#EBF0F8"
             },
             "line": {
              "color": "white"
             }
            },
            "header": {
             "fill": {
              "color": "#C8D4E3"
             },
             "line": {
              "color": "white"
             }
            },
            "type": "table"
           }
          ]
         },
         "layout": {
          "annotationdefaults": {
           "arrowcolor": "#2a3f5f",
           "arrowhead": 0,
           "arrowwidth": 1
          },
          "autotypenumbers": "strict",
          "coloraxis": {
           "colorbar": {
            "outlinewidth": 0,
            "ticks": ""
           }
          },
          "colorscale": {
           "diverging": [
            [
             0,
             "#8e0152"
            ],
            [
             0.1,
             "#c51b7d"
            ],
            [
             0.2,
             "#de77ae"
            ],
            [
             0.3,
             "#f1b6da"
            ],
            [
             0.4,
             "#fde0ef"
            ],
            [
             0.5,
             "#f7f7f7"
            ],
            [
             0.6,
             "#e6f5d0"
            ],
            [
             0.7,
             "#b8e186"
            ],
            [
             0.8,
             "#7fbc41"
            ],
            [
             0.9,
             "#4d9221"
            ],
            [
             1,
             "#276419"
            ]
           ],
           "sequential": [
            [
             0,
             "#0d0887"
            ],
            [
             0.1111111111111111,
             "#46039f"
            ],
            [
             0.2222222222222222,
             "#7201a8"
            ],
            [
             0.3333333333333333,
             "#9c179e"
            ],
            [
             0.4444444444444444,
             "#bd3786"
            ],
            [
             0.5555555555555556,
             "#d8576b"
            ],
            [
             0.6666666666666666,
             "#ed7953"
            ],
            [
             0.7777777777777778,
             "#fb9f3a"
            ],
            [
             0.8888888888888888,
             "#fdca26"
            ],
            [
             1,
             "#f0f921"
            ]
           ],
           "sequentialminus": [
            [
             0,
             "#0d0887"
            ],
            [
             0.1111111111111111,
             "#46039f"
            ],
            [
             0.2222222222222222,
             "#7201a8"
            ],
            [
             0.3333333333333333,
             "#9c179e"
            ],
            [
             0.4444444444444444,
             "#bd3786"
            ],
            [
             0.5555555555555556,
             "#d8576b"
            ],
            [
             0.6666666666666666,
             "#ed7953"
            ],
            [
             0.7777777777777778,
             "#fb9f3a"
            ],
            [
             0.8888888888888888,
             "#fdca26"
            ],
            [
             1,
             "#f0f921"
            ]
           ]
          },
          "colorway": [
           "#636efa",
           "#EF553B",
           "#00cc96",
           "#ab63fa",
           "#FFA15A",
           "#19d3f3",
           "#FF6692",
           "#B6E880",
           "#FF97FF",
           "#FECB52"
          ],
          "font": {
           "color": "#2a3f5f"
          },
          "geo": {
           "bgcolor": "white",
           "lakecolor": "white",
           "landcolor": "white",
           "showlakes": true,
           "showland": true,
           "subunitcolor": "#C8D4E3"
          },
          "hoverlabel": {
           "align": "left"
          },
          "hovermode": "closest",
          "mapbox": {
           "style": "light"
          },
          "paper_bgcolor": "white",
          "plot_bgcolor": "white",
          "polar": {
           "angularaxis": {
            "gridcolor": "#EBF0F8",
            "linecolor": "#EBF0F8",
            "ticks": ""
           },
           "bgcolor": "white",
           "radialaxis": {
            "gridcolor": "#EBF0F8",
            "linecolor": "#EBF0F8",
            "ticks": ""
           }
          },
          "scene": {
           "xaxis": {
            "backgroundcolor": "white",
            "gridcolor": "#DFE8F3",
            "gridwidth": 2,
            "linecolor": "#EBF0F8",
            "showbackground": true,
            "ticks": "",
            "zerolinecolor": "#EBF0F8"
           },
           "yaxis": {
            "backgroundcolor": "white",
            "gridcolor": "#DFE8F3",
            "gridwidth": 2,
            "linecolor": "#EBF0F8",
            "showbackground": true,
            "ticks": "",
            "zerolinecolor": "#EBF0F8"
           },
           "zaxis": {
            "backgroundcolor": "white",
            "gridcolor": "#DFE8F3",
            "gridwidth": 2,
            "linecolor": "#EBF0F8",
            "showbackground": true,
            "ticks": "",
            "zerolinecolor": "#EBF0F8"
           }
          },
          "shapedefaults": {
           "line": {
            "color": "#2a3f5f"
           }
          },
          "ternary": {
           "aaxis": {
            "gridcolor": "#DFE8F3",
            "linecolor": "#A2B1C6",
            "ticks": ""
           },
           "baxis": {
            "gridcolor": "#DFE8F3",
            "linecolor": "#A2B1C6",
            "ticks": ""
           },
           "bgcolor": "white",
           "caxis": {
            "gridcolor": "#DFE8F3",
            "linecolor": "#A2B1C6",
            "ticks": ""
           }
          },
          "title": {
           "x": 0.05
          },
          "xaxis": {
           "automargin": true,
           "gridcolor": "#EBF0F8",
           "linecolor": "#EBF0F8",
           "ticks": "",
           "title": {
            "standoff": 15
           },
           "zerolinecolor": "#EBF0F8",
           "zerolinewidth": 2
          },
          "yaxis": {
           "automargin": true,
           "gridcolor": "#EBF0F8",
           "linecolor": "#EBF0F8",
           "ticks": "",
           "title": {
            "standoff": 15
           },
           "zerolinecolor": "#EBF0F8",
           "zerolinewidth": 2
          }
         }
        },
        "title": {
         "font": {
          "color": "#004878",
          "family": "Courier New, monospace",
          "size": 30
         },
         "text": "tgt_SalePrice"
        },
        "xaxis": {
         "title": {
          "font": {
           "color": "#002e4d",
           "family": "Courier New, monospace",
           "size": 18
          }
         }
        }
       }
      },
      "text/html": [
       "<div>                            <div id=\"a7d31cb7-3fde-414c-9ed0-4ade7cad2a39\" class=\"plotly-graph-div\" style=\"height:525px; width:100%;\"></div>            <script type=\"text/javascript\">                require([\"plotly\"], function(Plotly) {                    window.PLOTLYENV=window.PLOTLYENV || {};                                    if (document.getElementById(\"a7d31cb7-3fde-414c-9ed0-4ade7cad2a39\")) {                    Plotly.newPlot(                        \"a7d31cb7-3fde-414c-9ed0-4ade7cad2a39\",                        [{\"histfunc\": \"count\", \"histnorm\": \"\", \"marker\": {\"color\": \"rgba(0, 62, 108, 1.0)\", \"line\": {\"color\": \"#4D5663\", \"width\": 1.3}}, \"name\": \"tgt_SalePrice\", \"nbinsx\": 5, \"opacity\": 0.9, \"orientation\": \"v\", \"type\": \"histogram\", \"x\": [208500, 181500, 223500, 140000, 250000, 143000, 307000, 200000, 129900, 118000, 129500, 345000, 144000, 279500, 157000, 132000, 149000, 90000, 159000, 139000, 325300, 139400, 230000, 129900, 154000, 256300, 134800, 306000, 207500, 68500, 40000, 149350, 179900, 165500, 277500, 309000, 145000, 153000, 109000, 82000, 160000, 170000, 144000, 130250, 141000, 319900, 239686, 249700, 113000, 127000, 177000, 114500, 110000, 385000, 130000, 180500, 172500, 196500, 438780, 124900, 158000, 101000, 202500, 140000, 219500, 317000, 180000, 226000, 80000, 225000, 244000, 129500, 185000, 144900, 107400, 91000, 135750, 127000, 136500, 110000, 193500, 153500, 245000, 126500, 168500, 260000, 174000, 164500, 85000, 123600, 109900, 98600, 163500, 133900, 204750, 185000, 214000, 94750, 83000, 128950, 205000, 178000, 118964, 198900, 169500, 250000, 100000, 115000, 115000, 190000, 136900, 180000, 383970, 217000, 259500, 176000, 139000, 155000, 320000, 163990, 180000, 100000, 136000, 153900, 181000, 84500, 128000, 87000, 155000, 150000, 226000, 244000, 150750, 220000, 180000, 174000, 143000, 171000, 230000, 231500, 115000, 260000, 166000, 204000, 125000, 130000, 105000, 222500, 141000, 115000, 122000, 372402, 190000, 235000, 125000, 79000, 109500, 269500, 254900, 320000, 162500, 412500, 220000, 103200, 152000, 127500, 190000, 325624, 183500, 228000, 128500, 215000, 239000, 163000, 184000, 243000, 211000, 172500, 501837, 100000, 177000, 200100, 120000, 200000, 127000, 475000, 173000, 135000, 153337, 286000, 315000, 184000, 192000, 130000, 127000, 148500, 311872, 235000, 104000, 274900, 140000, 171500, 112000, 149000, 110000, 180500, 143900, 141000, 277000, 145000, 98000, 186000, 252678, 156000, 161750, 134450, 210000, 107000, 311500, 167240, 204900, 200000, 179900, 97000, 386250, 112000, 290000, 106000, 125000, 192500, 148000, 403000, 94500, 128200, 216500, 89500, 185500, 194500, 318000, 113000, 262500, 110500, 79000, 120000, 205000, 241500, 137000, 140000, 180000, 277000, 76500, 235000, 173000, 158000, 145000, 230000, 207500, 220000, 231500, 97000, 176000, 276000, 151000, 130000, 73000, 175500, 185000, 179500, 120500, 148000, 266000, 241500, 290000, 139000, 124500, 205000, 201000, 141000, 415298, 192000, 228500, 185000, 207500, 244600, 179200, 164700, 159000, 88000, 122000, 153575, 233230, 135900, 131000, 235000, 167000, 142500, 152000, 239000, 175000, 158500, 157000, 267000, 205000, 149900, 295000, 305900, 225000, 89500, 82500, 360000, 165600, 132000, 119900, 375000, 178000, 188500, 260000, 270000, 260000, 187500, 342643, 354000, 301000, 126175, 242000, 87000, 324000, 145250, 214500, 78000, 119000, 139000, 284000, 207000, 192000, 228950, 377426, 214000, 202500, 155000, 202900, 82000, 87500, 266000, 85000, 140200, 151500, 157500, 154000, 437154, 318061, 190000, 95000, 105900, 140000, 177500, 173000, 134000, 130000, 280000, 156000, 145000, 198500, 118000, 190000, 147000, 159000, 165000, 132000, 162000, 172400, 134432, 125000, 123000, 219500, 61000, 148000, 340000, 394432, 179000, 127000, 187750, 213500, 76000, 240000, 192000, 81000, 125000, 191000, 426000, 119000, 215000, 106500, 100000, 109000, 129000, 123000, 169500, 67000, 241000, 245500, 164990, 108000, 258000, 168000, 150000, 115000, 177000, 280000, 339750, 60000, 145000, 222000, 115000, 228000, 181134, 149500, 239000, 126000, 142000, 206300, 215000, 113000, 315000, 139000, 135000, 275000, 109008, 195400, 175000, 85400, 79900, 122500, 181000, 81000, 212000, 116000, 119000, 90350, 110000, 555000, 118000, 162900, 172500, 210000, 127500, 190000, 199900, 119500, 120000, 110000, 280000, 204000, 210000, 188000, 175500, 98000, 256000, 161000, 110000, 263435, 155000, 62383, 188700, 124000, 178740, 167000, 146500, 250000, 187000, 212000, 190000, 148000, 440000, 251000, 132500, 208900, 380000, 297000, 89471, 326000, 374000, 155000, 164000, 132500, 147000, 156000, 175000, 160000, 86000, 115000, 133000, 172785, 155000, 91300, 34900, 430000, 184000, 130000, 120000, 113000, 226700, 140000, 289000, 147000, 124500, 215000, 208300, 161000, 124500, 164900, 202665, 129900, 134000, 96500, 402861, 158000, 265000, 211000, 234000, 106250, 150000, 159000, 184750, 315750, 176000, 132000, 446261, 86000, 200624, 175000, 128000, 107500, 39300, 178000, 107500, 188000, 111250, 158000, 272000, 315000, 248000, 213250, 133000, 179665, 229000, 210000, 129500, 125000, 263000, 140000, 112500, 255500, 108000, 284000, 113000, 141000, 108000, 175000, 234000, 121500, 170000, 108000, 185000, 268000, 128000, 325000, 214000, 316600, 135960, 142600, 120000, 224500, 170000, 139000, 118500, 145000, 164500, 146000, 131500, 181900, 253293, 118500, 325000, 133000, 369900, 130000, 137000, 143000, 79500, 185900, 451950, 138000, 140000, 110000, 319000, 114504, 194201, 217500, 151000, 275000, 141000, 220000, 151000, 221000, 205000, 152000, 225000, 359100, 118500, 313000, 148000, 261500, 147000, 75500, 137500, 183200, 105500, 314813, 305000, 67000, 240000, 135000, 168500, 165150, 160000, 139900, 153000, 135000, 168500, 124000, 209500, 82500, 139400, 144000, 200000, 60000, 93000, 85000, 264561, 274000, 226000, 345000, 152000, 370878, 143250, 98300, 155000, 155000, 84500, 205950, 108000, 191000, 135000, 350000, 88000, 145500, 149000, 97500, 167000, 197900, 402000, 110000, 137500, 423000, 230500, 129000, 193500, 168000, 137500, 173500, 103600, 165000, 257500, 140000, 148500, 87000, 109500, 372500, 128500, 143000, 159434, 173000, 285000, 221000, 207500, 227875, 148800, 392000, 194700, 141000, 755000, 335000, 108480, 141500, 176000, 89000, 123500, 138500, 196000, 312500, 140000, 361919, 140000, 213000, 55000, 302000, 254000, 179540, 109900, 52000, 102776, 189000, 129000, 130500, 165000, 159500, 157000, 341000, 128500, 275000, 143000, 124500, 135000, 320000, 120500, 222000, 194500, 110000, 103000, 236500, 187500, 222500, 131400, 108000, 163000, 93500, 239900, 179000, 190000, 132000, 142000, 179000, 175000, 180000, 299800, 236000, 265979, 260400, 98000, 96500, 162000, 217000, 275500, 156000, 172500, 212000, 158900, 179400, 290000, 127500, 100000, 215200, 337000, 270000, 264132, 196500, 160000, 216837, 538000, 134900, 102000, 107000, 114500, 395000, 162000, 221500, 142500, 144000, 135000, 176000, 175900, 187100, 165500, 128000, 161500, 139000, 233000, 107900, 187500, 160200, 146800, 269790, 225000, 194500, 171000, 143500, 110000, 485000, 175000, 200000, 109900, 189000, 582933, 118000, 227680, 135500, 223500, 159950, 106000, 181000, 144500, 55993, 157900, 116000, 224900, 137000, 271000, 155000, 224000, 183000, 93000, 225000, 139500, 232600, 385000, 109500, 189000, 185000, 147400, 166000, 151000, 237000, 167000, 139950, 128000, 153500, 100000, 144000, 130500, 140000, 157500, 174900, 141000, 153900, 171000, 213000, 133500, 240000, 187000, 131500, 215000, 164000, 158000, 170000, 127000, 147000, 174000, 152000, 250000, 189950, 131500, 152000, 132500, 250580, 148500, 248900, 129000, 169000, 236000, 109500, 200500, 116000, 133000, 66500, 303477, 132250, 350000, 148000, 136500, 157000, 187500, 178000, 118500, 100000, 328900, 145000, 135500, 268000, 149500, 122900, 172500, 154500, 165000, 118858, 140000, 106500, 142953, 611657, 135000, 110000, 153000, 180000, 240000, 125500, 128000, 255000, 250000, 131000, 174000, 154300, 143500, 88000, 145000, 173733, 75000, 35311, 135000, 238000, 176500, 201000, 145900, 169990, 193000, 207500, 175000, 285000, 176000, 236500, 222000, 201000, 117500, 320000, 190000, 242000, 79900, 184900, 253000, 239799, 244400, 150900, 214000, 150000, 143000, 137500, 124900, 143000, 270000, 192500, 197500, 129000, 119900, 133900, 172000, 127500, 145000, 124000, 132000, 185000, 155000, 116500, 272000, 155000, 239000, 214900, 178900, 160000, 135000, 37900, 140000, 135000, 173000, 99500, 182000, 167500, 165000, 85500, 199900, 110000, 139000, 178400, 336000, 159895, 255900, 126000, 125000, 117000, 395192, 195000, 197000, 348000, 168000, 187000, 173900, 337500, 121600, 136500, 185000, 91000, 206000, 82000, 86000, 232000, 136905, 181000, 149900, 163500, 88000, 240000, 102000, 135000, 100000, 165000, 85000, 119200, 227000, 203000, 187500, 160000, 213490, 176000, 194000, 87000, 191000, 287000, 112500, 167500, 293077, 105000, 118000, 160000, 197000, 310000, 230000, 119750, 84000, 315500, 287000, 97000, 80000, 155000, 173000, 196000, 262280, 278000, 139600, 556581, 145000, 115000, 84900, 176485, 200141, 165000, 144500, 255000, 180000, 185850, 248000, 335000, 220000, 213500, 81000, 90000, 110500, 154000, 328000, 178000, 167900, 151400, 135000, 135000, 154000, 91500, 159500, 194000, 219500, 170000, 138800, 155900, 126000, 145000, 133000, 192000, 160000, 187500, 147000, 83500, 252000, 137500, 197000, 92900, 160000, 136500, 146000, 129000, 176432, 127000, 170000, 128000, 157000, 60000, 119500, 135000, 159500, 106000, 325000, 179900, 274725, 181000, 280000, 188000, 205000, 129900, 134500, 117000, 318000, 184100, 130000, 140000, 133700, 118400, 212900, 112000, 118000, 163900, 115000, 174000, 259000, 215000, 140000, 135000, 93500, 117500, 239500, 169000, 102000, 119000, 94000, 196000, 144000, 139000, 197500, 424870, 80000, 80000, 149000, 180000, 174500, 116900, 143000, 124000, 149900, 230000, 120500, 201800, 218000, 179900, 230000, 235128, 185000, 146000, 224000, 129000, 108959, 194000, 233170, 245350, 173000, 235000, 625000, 171000, 163000, 171900, 200500, 239000, 285000, 119500, 115000, 154900, 93000, 250000, 392500, 745000, 120000, 186700, 104900, 95000, 262000, 195000, 189000, 168000, 174000, 125000, 165000, 158000, 176000, 219210, 144000, 178000, 148000, 116050, 197900, 117000, 213000, 153500, 271900, 107000, 200000, 140000, 290000, 189000, 164000, 113000, 145000, 134500, 125000, 112000, 229456, 80500, 91500, 115000, 134000, 143000, 137900, 184000, 145000, 214000, 147000, 367294, 127000, 190000, 132500, 101800, 142000, 130000, 138887, 175500, 195000, 142500, 265900, 224900, 248328, 170000, 465000, 230000, 178000, 186500, 169900, 129500, 119000, 244000, 171750, 130000, 294000, 165400, 127500, 301500, 99900, 190000, 151000, 181000, 128900, 161500, 180500, 181000, 183900, 122000, 378500, 381000, 144000, 260000, 185750, 137000, 177000, 139000, 137000, 162000, 197900, 237000, 68400, 227000, 180000, 150500, 139000, 169000, 132500, 143000, 190000, 278000, 281000, 180500, 119500, 107500, 162900, 115000, 138500, 155000, 140000, 160000, 154000, 225000, 177500, 290000, 232000, 130000, 325000, 202500, 138000, 147000, 179200, 335000, 203000, 302000, 333168, 119000, 206900, 295493, 208900, 275000, 111000, 156500, 72500, 190000, 82500, 147000, 55000, 79000, 130500, 256000, 176500, 227000, 132500, 100000, 125500, 125000, 167900, 135000, 52500, 200000, 128500, 123000, 155000, 228500, 177000, 155835, 108500, 262500, 283463, 215000, 122000, 200000, 171000, 134900, 410000, 235000, 170000, 110000, 149900, 177500, 315000, 189000, 260000, 104900, 156932, 144152, 216000, 193000, 127000, 144000, 232000, 105000, 165500, 274300, 466500, 250000, 239000, 91000, 117000, 83000, 167500, 58500, 237500, 157000, 112000, 105000, 125500, 250000, 136000, 377500, 131000, 235000, 124000, 123000, 163000, 246578, 281213, 160000, 137500, 138000, 137450, 120000, 193000, 193879, 282922, 105000, 275000, 133000, 112000, 125500, 215000, 230000, 140000, 90000, 257000, 207000, 175900, 122500, 340000, 124000, 223000, 179900, 127500, 136500, 274970, 144000, 142000, 271000, 140000, 119000, 182900, 192140, 143750, 64500, 186500, 160000, 174000, 120500, 394617, 149700, 197000, 191000, 149300, 310000, 121000, 179600, 129000, 157900, 240000, 112000, 92000, 136000, 287090, 145000, 84500, 185000, 175000, 210000, 266500, 142125, 147500]}],                        {\"barmode\": \"overlay\", \"font\": {\"color\": \"black\", \"family\": \"Courier New, monospace\"}, \"template\": {\"data\": {\"bar\": [{\"error_x\": {\"color\": \"#2a3f5f\"}, \"error_y\": {\"color\": \"#2a3f5f\"}, \"marker\": {\"line\": {\"color\": \"white\", \"width\": 0.5}}, \"type\": \"bar\"}], \"barpolar\": [{\"marker\": {\"line\": {\"color\": \"white\", \"width\": 0.5}}, \"type\": \"barpolar\"}], \"carpet\": [{\"aaxis\": {\"endlinecolor\": \"#2a3f5f\", \"gridcolor\": \"#C8D4E3\", \"linecolor\": \"#C8D4E3\", \"minorgridcolor\": \"#C8D4E3\", \"startlinecolor\": \"#2a3f5f\"}, \"baxis\": {\"endlinecolor\": \"#2a3f5f\", \"gridcolor\": \"#C8D4E3\", \"linecolor\": \"#C8D4E3\", \"minorgridcolor\": \"#C8D4E3\", \"startlinecolor\": \"#2a3f5f\"}, \"type\": \"carpet\"}], \"choropleth\": [{\"colorbar\": {\"outlinewidth\": 0, \"ticks\": \"\"}, \"type\": \"choropleth\"}], \"contour\": [{\"colorbar\": {\"outlinewidth\": 0, \"ticks\": \"\"}, \"colorscale\": [[0.0, \"#0d0887\"], [0.1111111111111111, \"#46039f\"], [0.2222222222222222, \"#7201a8\"], [0.3333333333333333, \"#9c179e\"], [0.4444444444444444, \"#bd3786\"], [0.5555555555555556, \"#d8576b\"], [0.6666666666666666, \"#ed7953\"], [0.7777777777777778, \"#fb9f3a\"], [0.8888888888888888, \"#fdca26\"], [1.0, \"#f0f921\"]], \"type\": \"contour\"}], \"contourcarpet\": [{\"colorbar\": {\"outlinewidth\": 0, \"ticks\": \"\"}, \"type\": \"contourcarpet\"}], \"heatmap\": [{\"colorbar\": {\"outlinewidth\": 0, \"ticks\": \"\"}, \"colorscale\": [[0.0, \"#0d0887\"], [0.1111111111111111, \"#46039f\"], [0.2222222222222222, \"#7201a8\"], [0.3333333333333333, \"#9c179e\"], [0.4444444444444444, \"#bd3786\"], [0.5555555555555556, \"#d8576b\"], [0.6666666666666666, \"#ed7953\"], [0.7777777777777778, \"#fb9f3a\"], [0.8888888888888888, \"#fdca26\"], [1.0, \"#f0f921\"]], \"type\": \"heatmap\"}], \"heatmapgl\": [{\"colorbar\": {\"outlinewidth\": 0, \"ticks\": \"\"}, \"colorscale\": [[0.0, \"#0d0887\"], [0.1111111111111111, \"#46039f\"], [0.2222222222222222, \"#7201a8\"], [0.3333333333333333, \"#9c179e\"], [0.4444444444444444, \"#bd3786\"], [0.5555555555555556, \"#d8576b\"], [0.6666666666666666, \"#ed7953\"], [0.7777777777777778, \"#fb9f3a\"], [0.8888888888888888, \"#fdca26\"], [1.0, \"#f0f921\"]], \"type\": \"heatmapgl\"}], \"histogram\": [{\"marker\": {\"colorbar\": {\"outlinewidth\": 0, \"ticks\": \"\"}}, \"type\": \"histogram\"}], \"histogram2d\": [{\"colorbar\": {\"outlinewidth\": 0, \"ticks\": \"\"}, \"colorscale\": [[0.0, \"#0d0887\"], [0.1111111111111111, \"#46039f\"], [0.2222222222222222, \"#7201a8\"], [0.3333333333333333, \"#9c179e\"], [0.4444444444444444, \"#bd3786\"], [0.5555555555555556, \"#d8576b\"], [0.6666666666666666, \"#ed7953\"], [0.7777777777777778, \"#fb9f3a\"], [0.8888888888888888, \"#fdca26\"], [1.0, \"#f0f921\"]], \"type\": \"histogram2d\"}], \"histogram2dcontour\": [{\"colorbar\": {\"outlinewidth\": 0, \"ticks\": \"\"}, \"colorscale\": [[0.0, \"#0d0887\"], [0.1111111111111111, \"#46039f\"], [0.2222222222222222, \"#7201a8\"], [0.3333333333333333, \"#9c179e\"], [0.4444444444444444, \"#bd3786\"], [0.5555555555555556, \"#d8576b\"], [0.6666666666666666, \"#ed7953\"], [0.7777777777777778, \"#fb9f3a\"], [0.8888888888888888, \"#fdca26\"], [1.0, \"#f0f921\"]], \"type\": \"histogram2dcontour\"}], \"mesh3d\": [{\"colorbar\": {\"outlinewidth\": 0, \"ticks\": \"\"}, \"type\": \"mesh3d\"}], \"parcoords\": [{\"line\": {\"colorbar\": {\"outlinewidth\": 0, \"ticks\": \"\"}}, \"type\": \"parcoords\"}], \"pie\": [{\"automargin\": true, \"type\": \"pie\"}], \"scatter\": [{\"marker\": {\"colorbar\": {\"outlinewidth\": 0, \"ticks\": \"\"}}, \"type\": \"scatter\"}], \"scatter3d\": [{\"line\": {\"colorbar\": {\"outlinewidth\": 0, \"ticks\": \"\"}}, \"marker\": {\"colorbar\": {\"outlinewidth\": 0, \"ticks\": \"\"}}, \"type\": \"scatter3d\"}], \"scattercarpet\": [{\"marker\": {\"colorbar\": {\"outlinewidth\": 0, \"ticks\": \"\"}}, \"type\": \"scattercarpet\"}], \"scattergeo\": [{\"marker\": {\"colorbar\": {\"outlinewidth\": 0, \"ticks\": \"\"}}, \"type\": \"scattergeo\"}], \"scattergl\": [{\"marker\": {\"colorbar\": {\"outlinewidth\": 0, \"ticks\": \"\"}}, \"type\": \"scattergl\"}], \"scattermapbox\": [{\"marker\": {\"colorbar\": {\"outlinewidth\": 0, \"ticks\": \"\"}}, \"type\": \"scattermapbox\"}], \"scatterpolar\": [{\"marker\": {\"colorbar\": {\"outlinewidth\": 0, \"ticks\": \"\"}}, \"type\": \"scatterpolar\"}], \"scatterpolargl\": [{\"marker\": {\"colorbar\": {\"outlinewidth\": 0, \"ticks\": \"\"}}, \"type\": \"scatterpolargl\"}], \"scatterternary\": [{\"marker\": {\"colorbar\": {\"outlinewidth\": 0, \"ticks\": \"\"}}, \"type\": \"scatterternary\"}], \"surface\": [{\"colorbar\": {\"outlinewidth\": 0, \"ticks\": \"\"}, \"colorscale\": [[0.0, \"#0d0887\"], [0.1111111111111111, \"#46039f\"], [0.2222222222222222, \"#7201a8\"], [0.3333333333333333, \"#9c179e\"], [0.4444444444444444, \"#bd3786\"], [0.5555555555555556, \"#d8576b\"], [0.6666666666666666, \"#ed7953\"], [0.7777777777777778, \"#fb9f3a\"], [0.8888888888888888, \"#fdca26\"], [1.0, \"#f0f921\"]], \"type\": \"surface\"}], \"table\": [{\"cells\": {\"fill\": {\"color\": \"#EBF0F8\"}, \"line\": {\"color\": \"white\"}}, \"header\": {\"fill\": {\"color\": \"#C8D4E3\"}, \"line\": {\"color\": \"white\"}}, \"type\": \"table\"}]}, \"layout\": {\"annotationdefaults\": {\"arrowcolor\": \"#2a3f5f\", \"arrowhead\": 0, \"arrowwidth\": 1}, \"autotypenumbers\": \"strict\", \"coloraxis\": {\"colorbar\": {\"outlinewidth\": 0, \"ticks\": \"\"}}, \"colorscale\": {\"diverging\": [[0, \"#8e0152\"], [0.1, \"#c51b7d\"], [0.2, \"#de77ae\"], [0.3, \"#f1b6da\"], [0.4, \"#fde0ef\"], [0.5, \"#f7f7f7\"], [0.6, \"#e6f5d0\"], [0.7, \"#b8e186\"], [0.8, \"#7fbc41\"], [0.9, \"#4d9221\"], [1, \"#276419\"]], \"sequential\": [[0.0, \"#0d0887\"], [0.1111111111111111, \"#46039f\"], [0.2222222222222222, \"#7201a8\"], [0.3333333333333333, \"#9c179e\"], [0.4444444444444444, \"#bd3786\"], [0.5555555555555556, \"#d8576b\"], [0.6666666666666666, \"#ed7953\"], [0.7777777777777778, \"#fb9f3a\"], [0.8888888888888888, \"#fdca26\"], [1.0, \"#f0f921\"]], \"sequentialminus\": [[0.0, \"#0d0887\"], [0.1111111111111111, \"#46039f\"], [0.2222222222222222, \"#7201a8\"], [0.3333333333333333, \"#9c179e\"], [0.4444444444444444, \"#bd3786\"], [0.5555555555555556, \"#d8576b\"], [0.6666666666666666, \"#ed7953\"], [0.7777777777777778, \"#fb9f3a\"], [0.8888888888888888, \"#fdca26\"], [1.0, \"#f0f921\"]]}, \"colorway\": [\"#636efa\", \"#EF553B\", \"#00cc96\", \"#ab63fa\", \"#FFA15A\", \"#19d3f3\", \"#FF6692\", \"#B6E880\", \"#FF97FF\", \"#FECB52\"], \"font\": {\"color\": \"#2a3f5f\"}, \"geo\": {\"bgcolor\": \"white\", \"lakecolor\": \"white\", \"landcolor\": \"white\", \"showlakes\": true, \"showland\": true, \"subunitcolor\": \"#C8D4E3\"}, \"hoverlabel\": {\"align\": \"left\"}, \"hovermode\": \"closest\", \"mapbox\": {\"style\": \"light\"}, \"paper_bgcolor\": \"white\", \"plot_bgcolor\": \"white\", \"polar\": {\"angularaxis\": {\"gridcolor\": \"#EBF0F8\", \"linecolor\": \"#EBF0F8\", \"ticks\": \"\"}, \"bgcolor\": \"white\", \"radialaxis\": {\"gridcolor\": \"#EBF0F8\", \"linecolor\": \"#EBF0F8\", \"ticks\": \"\"}}, \"scene\": {\"xaxis\": {\"backgroundcolor\": \"white\", \"gridcolor\": \"#DFE8F3\", \"gridwidth\": 2, \"linecolor\": \"#EBF0F8\", \"showbackground\": true, \"ticks\": \"\", \"zerolinecolor\": \"#EBF0F8\"}, \"yaxis\": {\"backgroundcolor\": \"white\", \"gridcolor\": \"#DFE8F3\", \"gridwidth\": 2, \"linecolor\": \"#EBF0F8\", \"showbackground\": true, \"ticks\": \"\", \"zerolinecolor\": \"#EBF0F8\"}, \"zaxis\": {\"backgroundcolor\": \"white\", \"gridcolor\": \"#DFE8F3\", \"gridwidth\": 2, \"linecolor\": \"#EBF0F8\", \"showbackground\": true, \"ticks\": \"\", \"zerolinecolor\": \"#EBF0F8\"}}, \"shapedefaults\": {\"line\": {\"color\": \"#2a3f5f\"}}, \"ternary\": {\"aaxis\": {\"gridcolor\": \"#DFE8F3\", \"linecolor\": \"#A2B1C6\", \"ticks\": \"\"}, \"baxis\": {\"gridcolor\": \"#DFE8F3\", \"linecolor\": \"#A2B1C6\", \"ticks\": \"\"}, \"bgcolor\": \"white\", \"caxis\": {\"gridcolor\": \"#DFE8F3\", \"linecolor\": \"#A2B1C6\", \"ticks\": \"\"}}, \"title\": {\"x\": 0.05}, \"xaxis\": {\"automargin\": true, \"gridcolor\": \"#EBF0F8\", \"linecolor\": \"#EBF0F8\", \"ticks\": \"\", \"title\": {\"standoff\": 15}, \"zerolinecolor\": \"#EBF0F8\", \"zerolinewidth\": 2}, \"yaxis\": {\"automargin\": true, \"gridcolor\": \"#EBF0F8\", \"linecolor\": \"#EBF0F8\", \"ticks\": \"\", \"title\": {\"standoff\": 15}, \"zerolinecolor\": \"#EBF0F8\", \"zerolinewidth\": 2}}}, \"title\": {\"font\": {\"color\": \"#004878\", \"family\": \"Courier New, monospace\", \"size\": 30}, \"text\": \"tgt_SalePrice\"}, \"xaxis\": {\"title\": {\"font\": {\"color\": \"#002e4d\", \"family\": \"Courier New, monospace\", \"size\": 18}}}},                        {\"responsive\": true}                    ).then(function(){\n",
       "                            \n",
       "var gd = document.getElementById('a7d31cb7-3fde-414c-9ed0-4ade7cad2a39');\n",
       "var x = new MutationObserver(function (mutations, observer) {{\n",
       "        var display = window.getComputedStyle(gd).display;\n",
       "        if (!display || display === 'none') {{\n",
       "            console.log([gd, 'removed!']);\n",
       "            Plotly.purge(gd);\n",
       "            observer.disconnect();\n",
       "        }}\n",
       "}});\n",
       "\n",
       "// Listen for the removal of the full notebook cells\n",
       "var notebookContainer = gd.closest('#notebook-container');\n",
       "if (notebookContainer) {{\n",
       "    x.observe(notebookContainer, {childList: true});\n",
       "}}\n",
       "\n",
       "// Listen for the clearing of the current output cell\n",
       "var outputEl = gd.closest('.output');\n",
       "if (outputEl) {{\n",
       "    x.observe(outputEl, {childList: true});\n",
       "}}\n",
       "\n",
       "                        })                };                });            </script>        </div>"
      ]
     },
     "metadata": {},
     "output_type": "display_data"
    }
   ],
   "source": [
    "histogram(df,\"tgt_SalePrice\",5,\"tgt_SalePrice\").show()"
   ]
  },
  {
   "cell_type": "code",
   "execution_count": 971,
   "metadata": {
    "ExecuteTime": {
     "end_time": "2021-08-21T16:49:17.290678Z",
     "start_time": "2021-08-21T16:49:17.276678Z"
    },
    "scrolled": true
   },
   "outputs": [],
   "source": [
    "miss=completitud(df)"
   ]
  },
  {
   "cell_type": "code",
   "execution_count": 972,
   "metadata": {
    "ExecuteTime": {
     "end_time": "2021-08-21T16:49:17.322715Z",
     "start_time": "2021-08-21T16:49:17.292679Z"
    }
   },
   "outputs": [
    {
     "data": {
      "text/html": [
       "<div>\n",
       "<style scoped>\n",
       "    .dataframe tbody tr th:only-of-type {\n",
       "        vertical-align: middle;\n",
       "    }\n",
       "\n",
       "    .dataframe tbody tr th {\n",
       "        vertical-align: top;\n",
       "    }\n",
       "\n",
       "    .dataframe thead th {\n",
       "        text-align: right;\n",
       "    }\n",
       "</style>\n",
       "<table border=\"1\" class=\"dataframe\">\n",
       "  <thead>\n",
       "    <tr style=\"text-align: right;\">\n",
       "      <th></th>\n",
       "      <th>columna</th>\n",
       "      <th>total</th>\n",
       "      <th>completitud</th>\n",
       "    </tr>\n",
       "  </thead>\n",
       "  <tbody>\n",
       "    <tr>\n",
       "      <th>0</th>\n",
       "      <td>v_PoolQC</td>\n",
       "      <td>1453</td>\n",
       "      <td>0.479452</td>\n",
       "    </tr>\n",
       "    <tr>\n",
       "      <th>1</th>\n",
       "      <td>v_MiscFeature</td>\n",
       "      <td>1406</td>\n",
       "      <td>3.698630</td>\n",
       "    </tr>\n",
       "    <tr>\n",
       "      <th>2</th>\n",
       "      <td>v_Alley</td>\n",
       "      <td>1369</td>\n",
       "      <td>6.232877</td>\n",
       "    </tr>\n",
       "    <tr>\n",
       "      <th>3</th>\n",
       "      <td>v_Fence</td>\n",
       "      <td>1179</td>\n",
       "      <td>19.246575</td>\n",
       "    </tr>\n",
       "    <tr>\n",
       "      <th>4</th>\n",
       "      <td>v_FireplaceQu</td>\n",
       "      <td>690</td>\n",
       "      <td>52.739726</td>\n",
       "    </tr>\n",
       "    <tr>\n",
       "      <th>...</th>\n",
       "      <td>...</td>\n",
       "      <td>...</td>\n",
       "      <td>...</td>\n",
       "    </tr>\n",
       "    <tr>\n",
       "      <th>69</th>\n",
       "      <td>c_MiscVal</td>\n",
       "      <td>0</td>\n",
       "      <td>100.000000</td>\n",
       "    </tr>\n",
       "    <tr>\n",
       "      <th>70</th>\n",
       "      <td>v_HeatingQC</td>\n",
       "      <td>0</td>\n",
       "      <td>100.000000</td>\n",
       "    </tr>\n",
       "    <tr>\n",
       "      <th>71</th>\n",
       "      <td>v_CentralAir</td>\n",
       "      <td>0</td>\n",
       "      <td>100.000000</td>\n",
       "    </tr>\n",
       "    <tr>\n",
       "      <th>72</th>\n",
       "      <td>c_2ndFlrSF</td>\n",
       "      <td>0</td>\n",
       "      <td>100.000000</td>\n",
       "    </tr>\n",
       "    <tr>\n",
       "      <th>73</th>\n",
       "      <td>tgt_SalePrice</td>\n",
       "      <td>0</td>\n",
       "      <td>100.000000</td>\n",
       "    </tr>\n",
       "  </tbody>\n",
       "</table>\n",
       "<p>74 rows × 3 columns</p>\n",
       "</div>"
      ],
      "text/plain": [
       "          columna  total  completitud\n",
       "0        v_PoolQC   1453     0.479452\n",
       "1   v_MiscFeature   1406     3.698630\n",
       "2         v_Alley   1369     6.232877\n",
       "3         v_Fence   1179    19.246575\n",
       "4   v_FireplaceQu    690    52.739726\n",
       "..            ...    ...          ...\n",
       "69      c_MiscVal      0   100.000000\n",
       "70    v_HeatingQC      0   100.000000\n",
       "71   v_CentralAir      0   100.000000\n",
       "72     c_2ndFlrSF      0   100.000000\n",
       "73  tgt_SalePrice      0   100.000000\n",
       "\n",
       "[74 rows x 3 columns]"
      ]
     },
     "execution_count": 972,
     "metadata": {},
     "output_type": "execute_result"
    }
   ],
   "source": [
    "miss"
   ]
  },
  {
   "cell_type": "code",
   "execution_count": 973,
   "metadata": {
    "ExecuteTime": {
     "end_time": "2021-08-21T16:49:17.338674Z",
     "start_time": "2021-08-21T16:49:17.324674Z"
    }
   },
   "outputs": [],
   "source": [
    "null_cols=list(miss[miss[\"completitud\"]<80][\"columna\"].values)"
   ]
  },
  {
   "cell_type": "code",
   "execution_count": 974,
   "metadata": {
    "ExecuteTime": {
     "end_time": "2021-08-21T16:49:17.354675Z",
     "start_time": "2021-08-21T16:49:17.340673Z"
    }
   },
   "outputs": [
    {
     "data": {
      "text/plain": [
       "['v_PoolQC', 'v_MiscFeature', 'v_Alley', 'v_Fence', 'v_FireplaceQu']"
      ]
     },
     "execution_count": 974,
     "metadata": {},
     "output_type": "execute_result"
    }
   ],
   "source": [
    "null_cols"
   ]
  },
  {
   "cell_type": "code",
   "execution_count": 975,
   "metadata": {
    "ExecuteTime": {
     "end_time": "2021-08-21T16:49:17.386676Z",
     "start_time": "2021-08-21T16:49:17.358680Z"
    },
    "scrolled": true
   },
   "outputs": [],
   "source": [
    "df=df.drop(columns=null_cols)"
   ]
  },
  {
   "cell_type": "code",
   "execution_count": 976,
   "metadata": {
    "ExecuteTime": {
     "end_time": "2021-08-21T16:49:17.402679Z",
     "start_time": "2021-08-21T16:49:17.390683Z"
    },
    "scrolled": true
   },
   "outputs": [],
   "source": [
    "df[\"v_MSSubClass\"]=df[\"v_MSSubClass\"].astype(int)"
   ]
  },
  {
   "cell_type": "code",
   "execution_count": 977,
   "metadata": {
    "ExecuteTime": {
     "end_time": "2021-08-21T16:49:17.434676Z",
     "start_time": "2021-08-21T16:49:17.407677Z"
    }
   },
   "outputs": [],
   "source": [
    "df_multi=df.copy()"
   ]
  },
  {
   "cell_type": "code",
   "execution_count": 978,
   "metadata": {
    "ExecuteTime": {
     "end_time": "2021-08-21T16:49:17.449674Z",
     "start_time": "2021-08-21T16:49:17.438680Z"
    }
   },
   "outputs": [],
   "source": [
    "df_multi=df.copy()"
   ]
  },
  {
   "cell_type": "markdown",
   "metadata": {},
   "source": [
    "## Isolation Forest"
   ]
  },
  {
   "cell_type": "markdown",
   "metadata": {},
   "source": [
    "**La clase sklearn.ensemble.IsolationForest incorpora las principales funcionalidades que se necesitan a la hora de trabajar con modelos Isolation Forest. Los principales argumentos para entrenar este tipo de modelos son:**\n",
    "\n",
    "- n_estimators: número de árboles que forman el modelo.\n",
    "\n",
    "- max_samples: número de observaciones empleadas para entrenar cada árbol.\n",
    "\n",
    "- max_features : El número de características que se extraerán de X para entrenar cada estimador base.\n",
    "\n",
    "- contamination: proporción de anomalías esperadas en los datos de entrenamiento. En base a este valor, se establece el límite acorde al cual se clasifican las observaciones en normales o anómalas.\n",
    "\n",
    "- random_state: semilla para garantizar la reproducibilidad de los resultados.\n",
    "\n",
    "- Se procede a entrenar un modelo asumiendo que hay un 1% de observaciones anómalas en el conjunto de entrenamiento."
   ]
  },
  {
   "cell_type": "code",
   "execution_count": 979,
   "metadata": {
    "ExecuteTime": {
     "end_time": "2021-08-21T16:49:17.465674Z",
     "start_time": "2021-08-21T16:49:17.452680Z"
    }
   },
   "outputs": [],
   "source": [
    "from sklearn.ensemble import IsolationForest"
   ]
  },
  {
   "cell_type": "code",
   "execution_count": 980,
   "metadata": {
    "ExecuteTime": {
     "end_time": "2021-08-21T16:49:17.481675Z",
     "start_time": "2021-08-21T16:49:17.470674Z"
    }
   },
   "outputs": [],
   "source": [
    "df=df.drop(columns=[\"Id\"])"
   ]
  },
  {
   "cell_type": "code",
   "execution_count": 981,
   "metadata": {
    "ExecuteTime": {
     "end_time": "2021-08-21T16:49:17.496675Z",
     "start_time": "2021-08-21T16:49:17.484676Z"
    }
   },
   "outputs": [
    {
     "data": {
      "text/plain": [
       "(1460, 68)"
      ]
     },
     "execution_count": 981,
     "metadata": {},
     "output_type": "execute_result"
    }
   ],
   "source": [
    "df.shape"
   ]
  },
  {
   "cell_type": "code",
   "execution_count": 982,
   "metadata": {
    "ExecuteTime": {
     "end_time": "2021-08-21T16:49:17.512674Z",
     "start_time": "2021-08-21T16:49:17.497675Z"
    }
   },
   "outputs": [],
   "source": [
    "df_iso=df.filter(like=\"c_\").dropna()"
   ]
  },
  {
   "cell_type": "code",
   "execution_count": 983,
   "metadata": {
    "ExecuteTime": {
     "end_time": "2021-08-21T16:49:17.717685Z",
     "start_time": "2021-08-21T16:49:17.514678Z"
    }
   },
   "outputs": [
    {
     "data": {
      "text/plain": [
       "IsolationForest(contamination=0.2, max_features=23, n_estimators=50)"
      ]
     },
     "execution_count": 983,
     "metadata": {},
     "output_type": "execute_result"
    }
   ],
   "source": [
    "#max_features=1\n",
    "max_features=df_iso.shape[1]\n",
    "n_estimators=50\n",
    "max_samples='auto'\n",
    "contamination=float(0.2)\n",
    "model=IsolationForest(max_features = max_features, n_estimators=n_estimators, max_samples=max_samples, contamination=contamination)\n",
    "model.fit(df_iso)"
   ]
  },
  {
   "cell_type": "markdown",
   "metadata": {},
   "source": [
    "- Los modelos IsolationForest tienen dos métodos de predicción con los que se obtiene distinta información.\n",
    "\n",
    "- Con el método predict() se devuelve directamente la clasificación de anomalía (-1) o no anomalía (1) acorde a la proporción de contaminación que se ha indicado en la definición del modelo."
   ]
  },
  {
   "cell_type": "code",
   "execution_count": 984,
   "metadata": {
    "ExecuteTime": {
     "end_time": "2021-08-21T16:49:17.781673Z",
     "start_time": "2021-08-21T16:49:17.719675Z"
    }
   },
   "outputs": [],
   "source": [
    "df_iso[\"outlier\"]=model.predict(df_iso)"
   ]
  },
  {
   "cell_type": "code",
   "execution_count": 985,
   "metadata": {
    "ExecuteTime": {
     "end_time": "2021-08-21T16:49:17.796675Z",
     "start_time": "2021-08-21T16:49:17.783674Z"
    }
   },
   "outputs": [
    {
     "data": {
      "text/plain": [
       " 1    956\n",
       "-1    239\n",
       "Name: outlier, dtype: int64"
      ]
     },
     "execution_count": 985,
     "metadata": {},
     "output_type": "execute_result"
    }
   ],
   "source": [
    "df_iso[\"outlier\"].value_counts()"
   ]
  },
  {
   "cell_type": "code",
   "execution_count": 986,
   "metadata": {
    "ExecuteTime": {
     "end_time": "2021-08-21T16:49:17.812673Z",
     "start_time": "2021-08-21T16:49:17.797674Z"
    },
    "scrolled": true
   },
   "outputs": [
    {
     "data": {
      "text/plain": [
       "0.2"
      ]
     },
     "execution_count": 986,
     "metadata": {},
     "output_type": "execute_result"
    }
   ],
   "source": [
    "df_iso[df_iso[\"outlier\"]==-1].shape[0]/df_iso.shape[0]"
   ]
  },
  {
   "cell_type": "code",
   "execution_count": 987,
   "metadata": {
    "ExecuteTime": {
     "end_time": "2021-08-21T16:49:17.828674Z",
     "start_time": "2021-08-21T16:49:17.814674Z"
    },
    "scrolled": true
   },
   "outputs": [],
   "source": [
    "indices=list(df_iso[df_iso[\"outlier\"]==1].index)"
   ]
  },
  {
   "cell_type": "code",
   "execution_count": 988,
   "metadata": {
    "ExecuteTime": {
     "end_time": "2021-08-21T16:49:17.844673Z",
     "start_time": "2021-08-21T16:49:17.830676Z"
    }
   },
   "outputs": [],
   "source": [
    "df=df.iloc[indices]"
   ]
  },
  {
   "cell_type": "code",
   "execution_count": 989,
   "metadata": {
    "ExecuteTime": {
     "end_time": "2021-08-21T16:49:17.860675Z",
     "start_time": "2021-08-21T16:49:17.846678Z"
    }
   },
   "outputs": [],
   "source": [
    "df.reset_index(drop=True,inplace=True)"
   ]
  },
  {
   "cell_type": "code",
   "execution_count": null,
   "metadata": {},
   "outputs": [],
   "source": []
  },
  {
   "cell_type": "markdown",
   "metadata": {},
   "source": [
    "## MISSINGS"
   ]
  },
  {
   "cell_type": "markdown",
   "metadata": {},
   "source": [
    "### Variables unitarias"
   ]
  },
  {
   "cell_type": "code",
   "execution_count": 990,
   "metadata": {
    "ExecuteTime": {
     "end_time": "2021-08-21T16:49:17.876674Z",
     "start_time": "2021-08-21T16:49:17.861675Z"
    }
   },
   "outputs": [],
   "source": [
    "#Eliminamos Variables unarias"
   ]
  },
  {
   "cell_type": "code",
   "execution_count": 991,
   "metadata": {
    "ExecuteTime": {
     "end_time": "2021-08-21T16:49:17.908674Z",
     "start_time": "2021-08-21T16:49:17.877673Z"
    }
   },
   "outputs": [
    {
     "data": {
      "text/html": [
       "<div>\n",
       "<style scoped>\n",
       "    .dataframe tbody tr th:only-of-type {\n",
       "        vertical-align: middle;\n",
       "    }\n",
       "\n",
       "    .dataframe tbody tr th {\n",
       "        vertical-align: top;\n",
       "    }\n",
       "\n",
       "    .dataframe thead th {\n",
       "        text-align: right;\n",
       "    }\n",
       "</style>\n",
       "<table border=\"1\" class=\"dataframe\">\n",
       "  <thead>\n",
       "    <tr style=\"text-align: right;\">\n",
       "      <th></th>\n",
       "      <th>v_Utilities</th>\n",
       "      <th>v_Street</th>\n",
       "    </tr>\n",
       "  </thead>\n",
       "  <tbody>\n",
       "    <tr>\n",
       "      <th>count</th>\n",
       "      <td>956</td>\n",
       "      <td>956</td>\n",
       "    </tr>\n",
       "    <tr>\n",
       "      <th>unique</th>\n",
       "      <td>1</td>\n",
       "      <td>2</td>\n",
       "    </tr>\n",
       "    <tr>\n",
       "      <th>top</th>\n",
       "      <td>allpub</td>\n",
       "      <td>pave</td>\n",
       "    </tr>\n",
       "    <tr>\n",
       "      <th>freq</th>\n",
       "      <td>956</td>\n",
       "      <td>953</td>\n",
       "    </tr>\n",
       "  </tbody>\n",
       "</table>\n",
       "</div>"
      ],
      "text/plain": [
       "       v_Utilities v_Street\n",
       "count          956      956\n",
       "unique           1        2\n",
       "top         allpub     pave\n",
       "freq           956      953"
      ]
     },
     "execution_count": 991,
     "metadata": {},
     "output_type": "execute_result"
    }
   ],
   "source": [
    "df[[\"v_Utilities\",\"v_Street\"]].describe()"
   ]
  },
  {
   "cell_type": "code",
   "execution_count": 992,
   "metadata": {
    "ExecuteTime": {
     "end_time": "2021-08-21T16:49:17.924690Z",
     "start_time": "2021-08-21T16:49:17.910683Z"
    }
   },
   "outputs": [],
   "source": [
    "df.drop(columns=[\"v_Utilities\"],inplace=True)"
   ]
  },
  {
   "cell_type": "code",
   "execution_count": 993,
   "metadata": {
    "ExecuteTime": {
     "end_time": "2021-08-21T16:49:17.956688Z",
     "start_time": "2021-08-21T16:49:17.927678Z"
    }
   },
   "outputs": [],
   "source": [
    "miss=completitud(df)\n",
    "\n",
    "miss_cols=list(miss[miss[\"completitud\"]<100][\"columna\"].values)"
   ]
  },
  {
   "cell_type": "code",
   "execution_count": 994,
   "metadata": {
    "ExecuteTime": {
     "end_time": "2021-08-21T16:49:17.988673Z",
     "start_time": "2021-08-21T16:49:17.959685Z"
    },
    "scrolled": true
   },
   "outputs": [
    {
     "data": {
      "text/html": [
       "<div>\n",
       "<style scoped>\n",
       "    .dataframe tbody tr th:only-of-type {\n",
       "        vertical-align: middle;\n",
       "    }\n",
       "\n",
       "    .dataframe tbody tr th {\n",
       "        vertical-align: top;\n",
       "    }\n",
       "\n",
       "    .dataframe thead th {\n",
       "        text-align: right;\n",
       "    }\n",
       "</style>\n",
       "<table border=\"1\" class=\"dataframe\">\n",
       "  <thead>\n",
       "    <tr style=\"text-align: right;\">\n",
       "      <th></th>\n",
       "      <th>columna</th>\n",
       "      <th>total</th>\n",
       "      <th>completitud</th>\n",
       "    </tr>\n",
       "  </thead>\n",
       "  <tbody>\n",
       "    <tr>\n",
       "      <th>0</th>\n",
       "      <td>v_GarageQual</td>\n",
       "      <td>35</td>\n",
       "      <td>96.338912</td>\n",
       "    </tr>\n",
       "    <tr>\n",
       "      <th>1</th>\n",
       "      <td>v_GarageType</td>\n",
       "      <td>35</td>\n",
       "      <td>96.338912</td>\n",
       "    </tr>\n",
       "    <tr>\n",
       "      <th>2</th>\n",
       "      <td>v_GarageYrBlt</td>\n",
       "      <td>35</td>\n",
       "      <td>96.338912</td>\n",
       "    </tr>\n",
       "    <tr>\n",
       "      <th>3</th>\n",
       "      <td>v_GarageFinish</td>\n",
       "      <td>35</td>\n",
       "      <td>96.338912</td>\n",
       "    </tr>\n",
       "    <tr>\n",
       "      <th>4</th>\n",
       "      <td>v_GarageCond</td>\n",
       "      <td>35</td>\n",
       "      <td>96.338912</td>\n",
       "    </tr>\n",
       "    <tr>\n",
       "      <th>...</th>\n",
       "      <td>...</td>\n",
       "      <td>...</td>\n",
       "      <td>...</td>\n",
       "    </tr>\n",
       "    <tr>\n",
       "      <th>62</th>\n",
       "      <td>c_BsmtUnfSF</td>\n",
       "      <td>0</td>\n",
       "      <td>100.000000</td>\n",
       "    </tr>\n",
       "    <tr>\n",
       "      <th>63</th>\n",
       "      <td>c_TotalBsmtSF</td>\n",
       "      <td>0</td>\n",
       "      <td>100.000000</td>\n",
       "    </tr>\n",
       "    <tr>\n",
       "      <th>64</th>\n",
       "      <td>c_MiscVal</td>\n",
       "      <td>0</td>\n",
       "      <td>100.000000</td>\n",
       "    </tr>\n",
       "    <tr>\n",
       "      <th>65</th>\n",
       "      <td>v_YearBuilt</td>\n",
       "      <td>0</td>\n",
       "      <td>100.000000</td>\n",
       "    </tr>\n",
       "    <tr>\n",
       "      <th>66</th>\n",
       "      <td>tgt_SalePrice</td>\n",
       "      <td>0</td>\n",
       "      <td>100.000000</td>\n",
       "    </tr>\n",
       "  </tbody>\n",
       "</table>\n",
       "<p>67 rows × 3 columns</p>\n",
       "</div>"
      ],
      "text/plain": [
       "           columna  total  completitud\n",
       "0     v_GarageQual     35    96.338912\n",
       "1     v_GarageType     35    96.338912\n",
       "2    v_GarageYrBlt     35    96.338912\n",
       "3   v_GarageFinish     35    96.338912\n",
       "4     v_GarageCond     35    96.338912\n",
       "..             ...    ...          ...\n",
       "62     c_BsmtUnfSF      0   100.000000\n",
       "63   c_TotalBsmtSF      0   100.000000\n",
       "64       c_MiscVal      0   100.000000\n",
       "65     v_YearBuilt      0   100.000000\n",
       "66   tgt_SalePrice      0   100.000000\n",
       "\n",
       "[67 rows x 3 columns]"
      ]
     },
     "execution_count": 994,
     "metadata": {},
     "output_type": "execute_result"
    }
   ],
   "source": [
    "miss"
   ]
  },
  {
   "cell_type": "code",
   "execution_count": 995,
   "metadata": {
    "ExecuteTime": {
     "end_time": "2021-08-21T16:49:18.004673Z",
     "start_time": "2021-08-21T16:49:17.990675Z"
    }
   },
   "outputs": [
    {
     "data": {
      "text/plain": [
       "['v_GarageQual',\n",
       " 'v_GarageType',\n",
       " 'v_GarageYrBlt',\n",
       " 'v_GarageFinish',\n",
       " 'v_GarageCond',\n",
       " 'v_BsmtExposure',\n",
       " 'v_BsmtFinType2',\n",
       " 'v_BsmtQual',\n",
       " 'v_BsmtFinType1',\n",
       " 'v_BsmtCond',\n",
       " 'v_Electrical']"
      ]
     },
     "execution_count": 995,
     "metadata": {},
     "output_type": "execute_result"
    }
   ],
   "source": [
    "miss_cols"
   ]
  },
  {
   "cell_type": "markdown",
   "metadata": {},
   "source": [
    "### NORMALIZAMOS DISCRETAS"
   ]
  },
  {
   "cell_type": "code",
   "execution_count": 996,
   "metadata": {
    "ExecuteTime": {
     "end_time": "2021-08-21T16:49:18.020672Z",
     "start_time": "2021-08-21T16:49:18.006676Z"
    }
   },
   "outputs": [],
   "source": [
    "v_=list(filter(lambda x:\"v_\" in x,miss_cols))\n",
    "v_=[x for x in v_ if x!=\"v_GarageYrBlt\"]"
   ]
  },
  {
   "cell_type": "code",
   "execution_count": 997,
   "metadata": {
    "ExecuteTime": {
     "end_time": "2021-08-21T16:49:18.066674Z",
     "start_time": "2021-08-21T16:49:18.021673Z"
    },
    "scrolled": true
   },
   "outputs": [
    {
     "name": "stdout",
     "output_type": "stream",
     "text": [
      "v_GarageQual\n",
      "35\n",
      "35\n",
      "v_GarageType\n",
      "35\n",
      "35\n",
      "v_GarageFinish\n",
      "35\n",
      "35\n",
      "v_GarageCond\n",
      "35\n",
      "35\n",
      "v_BsmtExposure\n",
      "20\n",
      "20\n",
      "v_BsmtFinType2\n",
      "19\n",
      "19\n",
      "v_BsmtQual\n",
      "19\n",
      "19\n",
      "v_BsmtFinType1\n",
      "19\n",
      "19\n",
      "v_BsmtCond\n",
      "19\n",
      "19\n",
      "v_Electrical\n",
      "1\n",
      "1\n"
     ]
    }
   ],
   "source": [
    "for col in v_:\n",
    "    print(col)\n",
    "    print(df[col].isnull().sum())\n",
    "    df[col]=df[col].fillna(\"nan\").astype(str).map(text_clean).replace(\"nan\",np.nan)\n",
    "    print(df[col].isnull().sum())"
   ]
  },
  {
   "cell_type": "code",
   "execution_count": 998,
   "metadata": {
    "ExecuteTime": {
     "end_time": "2021-08-21T16:49:18.113676Z",
     "start_time": "2021-08-21T16:49:18.067674Z"
    },
    "scrolled": true
   },
   "outputs": [
    {
     "name": "stdout",
     "output_type": "stream",
     "text": [
      "v_GarageQual\n"
     ]
    },
    {
     "data": {
      "text/plain": [
       "ta    0.938111\n",
       "fa    0.045603\n",
       "gd    0.010858\n",
       "po    0.003257\n",
       "ex    0.002172\n",
       "Name: v_GarageQual, dtype: float64"
      ]
     },
     "metadata": {},
     "output_type": "display_data"
    },
    {
     "name": "stdout",
     "output_type": "stream",
     "text": [
      "\n",
      "\n",
      "v_GarageType\n"
     ]
    },
    {
     "data": {
      "text/plain": [
       "attchd     0.601520\n",
       "detchd     0.331162\n",
       "builtin    0.044517\n",
       "basment    0.013029\n",
       "carport    0.006515\n",
       "2types     0.003257\n",
       "Name: v_GarageType, dtype: float64"
      ]
     },
     "metadata": {},
     "output_type": "display_data"
    },
    {
     "name": "stdout",
     "output_type": "stream",
     "text": [
      "\n",
      "\n",
      "v_GarageFinish\n"
     ]
    },
    {
     "data": {
      "text/plain": [
       "unf    0.483170\n",
       "rfn    0.298588\n",
       "fin    0.218241\n",
       "Name: v_GarageFinish, dtype: float64"
      ]
     },
     "metadata": {},
     "output_type": "display_data"
    },
    {
     "name": "stdout",
     "output_type": "stream",
     "text": [
      "\n",
      "\n",
      "v_GarageCond\n"
     ]
    },
    {
     "data": {
      "text/plain": [
       "ta    0.952226\n",
       "fa    0.034745\n",
       "po    0.006515\n",
       "gd    0.004343\n",
       "ex    0.002172\n",
       "Name: v_GarageCond, dtype: float64"
      ]
     },
     "metadata": {},
     "output_type": "display_data"
    },
    {
     "name": "stdout",
     "output_type": "stream",
     "text": [
      "\n",
      "\n",
      "v_BsmtExposure\n"
     ]
    },
    {
     "data": {
      "text/plain": [
       "no    0.713675\n",
       "av    0.150641\n",
       "mn    0.080128\n",
       "gd    0.055556\n",
       "Name: v_BsmtExposure, dtype: float64"
      ]
     },
     "metadata": {},
     "output_type": "display_data"
    },
    {
     "name": "stdout",
     "output_type": "stream",
     "text": [
      "\n",
      "\n",
      "v_BsmtFinType2\n"
     ]
    },
    {
     "data": {
      "text/plain": [
       "unf    0.902882\n",
       "lwq    0.029883\n",
       "rec    0.027748\n",
       "blq    0.025614\n",
       "alq    0.009605\n",
       "glq    0.004269\n",
       "Name: v_BsmtFinType2, dtype: float64"
      ]
     },
     "metadata": {},
     "output_type": "display_data"
    },
    {
     "name": "stdout",
     "output_type": "stream",
     "text": [
      "\n",
      "\n",
      "v_BsmtQual\n"
     ]
    },
    {
     "data": {
      "text/plain": [
       "ta    0.485592\n",
       "gd    0.430096\n",
       "ex    0.051227\n",
       "fa    0.033084\n",
       "Name: v_BsmtQual, dtype: float64"
      ]
     },
     "metadata": {},
     "output_type": "display_data"
    },
    {
     "name": "stdout",
     "output_type": "stream",
     "text": [
      "\n",
      "\n",
      "v_BsmtFinType1\n"
     ]
    },
    {
     "data": {
      "text/plain": [
       "unf    0.331910\n",
       "glq    0.258271\n",
       "alq    0.154749\n",
       "blq    0.103522\n",
       "rec    0.102455\n",
       "lwq    0.049093\n",
       "Name: v_BsmtFinType1, dtype: float64"
      ]
     },
     "metadata": {},
     "output_type": "display_data"
    },
    {
     "name": "stdout",
     "output_type": "stream",
     "text": [
      "\n",
      "\n",
      "v_BsmtCond\n"
     ]
    },
    {
     "data": {
      "text/plain": [
       "ta    0.919957\n",
       "gd    0.043757\n",
       "fa    0.035219\n",
       "po    0.001067\n",
       "Name: v_BsmtCond, dtype: float64"
      ]
     },
     "metadata": {},
     "output_type": "display_data"
    },
    {
     "name": "stdout",
     "output_type": "stream",
     "text": [
      "\n",
      "\n",
      "v_Electrical\n"
     ]
    },
    {
     "data": {
      "text/plain": [
       "sbrkr    0.900524\n",
       "fusea    0.073298\n",
       "fusef    0.021990\n",
       "fusep    0.003141\n",
       "mix      0.001047\n",
       "Name: v_Electrical, dtype: float64"
      ]
     },
     "metadata": {},
     "output_type": "display_data"
    },
    {
     "name": "stdout",
     "output_type": "stream",
     "text": [
      "\n",
      "\n"
     ]
    }
   ],
   "source": [
    "for col in v_:\n",
    "    print(col)\n",
    "    display(df[col].value_counts(1))\n",
    "    print(\"\\n\")"
   ]
  },
  {
   "cell_type": "code",
   "execution_count": 999,
   "metadata": {
    "ExecuteTime": {
     "end_time": "2021-08-21T16:49:18.129674Z",
     "start_time": "2021-08-21T16:49:18.115677Z"
    }
   },
   "outputs": [],
   "source": [
    "##\"v_GarageType\"\n",
    "##\"v_Electrical\"\n",
    "#MasVnrType"
   ]
  },
  {
   "cell_type": "code",
   "execution_count": 1000,
   "metadata": {
    "ExecuteTime": {
     "end_time": "2021-08-21T16:49:18.145684Z",
     "start_time": "2021-08-21T16:49:18.131680Z"
    }
   },
   "outputs": [],
   "source": [
    "dictionary={\"v_BldgType\":1,\"v_Foundation\":2,\"v_Functional\":1,\"v_Heating\":1,\"v_HouseStyle\":3,\"v_LandContour\":1,\n",
    "\"v_LandSlope\":1,\"v_LotConfig\":2,\"v_LotShape\":1,\"v_MSZoning\":2,\"v_RoofMatl\":1,\"v_RoofStyle\":2,\"v_Condition2\":1,\"v_Condition1\":1,\"v_BsmtFinType2\":1,\"v_BsmtFinType1\":3,\"v_BsmtExposure\":1}"
   ]
  },
  {
   "cell_type": "code",
   "execution_count": 1001,
   "metadata": {
    "ExecuteTime": {
     "end_time": "2021-08-21T16:49:18.272672Z",
     "start_time": "2021-08-21T16:49:18.150679Z"
    },
    "scrolled": true
   },
   "outputs": [
    {
     "name": "stdout",
     "output_type": "stream",
     "text": [
      "v_BldgType\n",
      "1fam    809\n",
      "otro    147\n",
      "Name: v_BldgType, dtype: int64\n",
      "v_Foundation\n",
      "pconc     416\n",
      "cblock    407\n",
      "otro      133\n",
      "Name: v_Foundation, dtype: int64\n",
      "v_Functional\n",
      "typ     892\n",
      "otro     64\n",
      "Name: v_Functional, dtype: int64\n",
      "v_Heating\n",
      "gasa    935\n",
      "otro     21\n",
      "Name: v_Heating, dtype: int64\n",
      "v_HouseStyle\n",
      "1story    486\n",
      "2story    273\n",
      "1 5fin    115\n",
      "otro       82\n",
      "Name: v_HouseStyle, dtype: int64\n",
      "v_LandContour\n",
      "lvl     873\n",
      "otro     83\n",
      "Name: v_LandContour, dtype: int64\n",
      "v_LandSlope\n",
      "gtl     924\n",
      "otro     32\n",
      "Name: v_LandSlope, dtype: int64\n",
      "v_LotConfig\n",
      "inside    743\n",
      "corner    154\n",
      "otro       59\n",
      "Name: v_LotConfig, dtype: int64\n",
      "v_LotShape\n",
      "reg     707\n",
      "otro    249\n",
      "Name: v_LotShape, dtype: int64\n",
      "v_MSZoning\n",
      "rl      725\n",
      "rm      164\n",
      "otro     67\n",
      "Name: v_MSZoning, dtype: int64\n",
      "v_RoofMatl\n",
      "compshg    950\n",
      "otro         6\n",
      "Name: v_RoofMatl, dtype: int64\n",
      "v_RoofStyle\n",
      "gable    782\n",
      "hip      160\n",
      "otro      14\n",
      "Name: v_RoofStyle, dtype: int64\n",
      "v_Condition2\n",
      "norm    947\n",
      "otro      9\n",
      "Name: v_Condition2, dtype: int64\n",
      "v_Condition1\n",
      "norm    831\n",
      "otro    125\n",
      "Name: v_Condition1, dtype: int64\n",
      "v_BsmtFinType2\n",
      "unf     846\n",
      "otro     91\n",
      "Name: v_BsmtFinType2, dtype: int64\n",
      "v_BsmtFinType1\n",
      "unf     311\n",
      "glq     242\n",
      "otro    239\n",
      "alq     145\n",
      "Name: v_BsmtFinType1, dtype: int64\n",
      "v_BsmtExposure\n",
      "no      668\n",
      "otro    268\n",
      "Name: v_BsmtExposure, dtype: int64\n"
     ]
    }
   ],
   "source": [
    "for i,j in dictionary.items():\n",
    "    print(i)\n",
    "    df=other(df,i,j)\n",
    "    print(df[i].value_counts())"
   ]
  },
  {
   "cell_type": "code",
   "execution_count": 1002,
   "metadata": {
    "ExecuteTime": {
     "end_time": "2021-08-21T16:49:18.288687Z",
     "start_time": "2021-08-21T16:49:18.274677Z"
    }
   },
   "outputs": [],
   "source": [
    "dictio_GarageType=dict(zip(list(df[\"v_GarageType\"].value_counts().index[-3:]),[\"otro\"]*3))\n",
    "dictio_electrical=dict(zip(list(df[\"v_Electrical\"].value_counts().index[-3:]),[\"otro\"]*3))\n",
    "dictio_MasVnrType=dict(zip(list(df[\"v_MasVnrType\"].value_counts().index[-2:]),[\"otro\"]*2))"
   ]
  },
  {
   "cell_type": "code",
   "execution_count": 1003,
   "metadata": {
    "ExecuteTime": {
     "end_time": "2021-08-21T16:49:18.304675Z",
     "start_time": "2021-08-21T16:49:18.291675Z"
    }
   },
   "outputs": [],
   "source": [
    "df[\"v_GarageType\"]=df[\"v_GarageType\"].replace(dictio_GarageType)\n",
    "df[\"v_Electrical\"]=df[\"v_Electrical\"].replace(dictio_electrical)\n",
    "df[\"v_MasVnrType\"]=df[\"v_MasVnrType\"].replace(dictio_MasVnrType)"
   ]
  },
  {
   "cell_type": "code",
   "execution_count": 1004,
   "metadata": {
    "ExecuteTime": {
     "end_time": "2021-08-21T16:49:18.320677Z",
     "start_time": "2021-08-21T16:49:18.306674Z"
    }
   },
   "outputs": [
    {
     "data": {
      "text/plain": [
       "attchd     0.601520\n",
       "detchd     0.331162\n",
       "builtin    0.044517\n",
       "otro       0.022801\n",
       "Name: v_GarageType, dtype: float64"
      ]
     },
     "execution_count": 1004,
     "metadata": {},
     "output_type": "execute_result"
    }
   ],
   "source": [
    "df[\"v_GarageType\"].value_counts(1)"
   ]
  },
  {
   "cell_type": "code",
   "execution_count": 1005,
   "metadata": {
    "ExecuteTime": {
     "end_time": "2021-08-21T16:49:18.336673Z",
     "start_time": "2021-08-21T16:49:18.322677Z"
    }
   },
   "outputs": [
    {
     "data": {
      "text/plain": [
       "sbrkr    0.900524\n",
       "fusea    0.073298\n",
       "otro     0.026178\n",
       "Name: v_Electrical, dtype: float64"
      ]
     },
     "execution_count": 1005,
     "metadata": {},
     "output_type": "execute_result"
    }
   ],
   "source": [
    "df[\"v_Electrical\"].value_counts(1)"
   ]
  },
  {
   "cell_type": "code",
   "execution_count": 1006,
   "metadata": {
    "ExecuteTime": {
     "end_time": "2021-08-21T16:49:18.352673Z",
     "start_time": "2021-08-21T16:49:18.338672Z"
    }
   },
   "outputs": [],
   "source": [
    "## \"v_GarageQual\",\"v_GarageCond\""
   ]
  },
  {
   "cell_type": "code",
   "execution_count": 1007,
   "metadata": {
    "ExecuteTime": {
     "end_time": "2021-08-21T16:49:18.368675Z",
     "start_time": "2021-08-21T16:49:18.354675Z"
    }
   },
   "outputs": [
    {
     "data": {
      "text/plain": [
       "ta    0.938111\n",
       "fa    0.045603\n",
       "gd    0.010858\n",
       "po    0.003257\n",
       "ex    0.002172\n",
       "Name: v_GarageQual, dtype: float64"
      ]
     },
     "execution_count": 1007,
     "metadata": {},
     "output_type": "execute_result"
    }
   ],
   "source": [
    "df[\"v_GarageQual\"].value_counts(1)"
   ]
  },
  {
   "cell_type": "code",
   "execution_count": 1008,
   "metadata": {
    "ExecuteTime": {
     "end_time": "2021-08-21T16:49:18.384679Z",
     "start_time": "2021-08-21T16:49:18.370677Z"
    }
   },
   "outputs": [
    {
     "data": {
      "text/plain": [
       "ta    0.952226\n",
       "fa    0.034745\n",
       "po    0.006515\n",
       "gd    0.004343\n",
       "ex    0.002172\n",
       "Name: v_GarageCond, dtype: float64"
      ]
     },
     "execution_count": 1008,
     "metadata": {},
     "output_type": "execute_result"
    }
   ],
   "source": [
    "df[\"v_GarageCond\"].value_counts(1)"
   ]
  },
  {
   "cell_type": "code",
   "execution_count": 1009,
   "metadata": {
    "ExecuteTime": {
     "end_time": "2021-08-21T16:49:18.400679Z",
     "start_time": "2021-08-21T16:49:18.386674Z"
    }
   },
   "outputs": [],
   "source": [
    "dictio_qual_cond=dict(zip([\"ex\",\"gd\",\"ta\",\"fa\",\"po\"],[3,3,2,1,1]))"
   ]
  },
  {
   "cell_type": "code",
   "execution_count": 1010,
   "metadata": {
    "ExecuteTime": {
     "end_time": "2021-08-21T16:49:18.416674Z",
     "start_time": "2021-08-21T16:49:18.401674Z"
    }
   },
   "outputs": [],
   "source": [
    "feats_replace_cond_qual=[\"v_GarageQual\",\"v_GarageCond\",\"v_BsmtCond\",\"v_BsmtQual\",\"v_ExterCond\",\"v_ExterQual\",\"v_HeatingQC\",\"v_KitchenQual\"]"
   ]
  },
  {
   "cell_type": "code",
   "execution_count": 1011,
   "metadata": {
    "ExecuteTime": {
     "end_time": "2021-08-21T16:49:18.495674Z",
     "start_time": "2021-08-21T16:49:18.418673Z"
    },
    "scrolled": true
   },
   "outputs": [
    {
     "name": "stdout",
     "output_type": "stream",
     "text": [
      "v_GarageQual\n",
      "2.0    0.938111\n",
      "1.0    0.048860\n",
      "3.0    0.013029\n",
      "Name: v_GarageQual, dtype: float64\n",
      "\n",
      "\n",
      "v_GarageCond\n",
      "2.0    0.952226\n",
      "1.0    0.041260\n",
      "3.0    0.006515\n",
      "Name: v_GarageCond, dtype: float64\n",
      "\n",
      "\n",
      "v_BsmtCond\n",
      "2.0    0.919957\n",
      "3.0    0.043757\n",
      "1.0    0.036286\n",
      "Name: v_BsmtCond, dtype: float64\n",
      "\n",
      "\n",
      "v_BsmtQual\n",
      "2.0    0.485592\n",
      "3.0    0.481323\n",
      "1.0    0.033084\n",
      "Name: v_BsmtQual, dtype: float64\n",
      "\n",
      "\n",
      "v_ExterCond\n",
      "2    0.884937\n",
      "3    0.095188\n",
      "1    0.019874\n",
      "Name: v_ExterCond, dtype: float64\n",
      "\n",
      "\n",
      "v_ExterQual\n",
      "2    0.654812\n",
      "3    0.335774\n",
      "1    0.009414\n",
      "Name: v_ExterQual, dtype: float64\n",
      "\n",
      "\n",
      "v_HeatingQC\n",
      "3    0.673640\n",
      "2    0.289749\n",
      "1    0.036611\n",
      "Name: v_HeatingQC, dtype: float64\n",
      "\n",
      "\n",
      "v_KitchenQual\n",
      "2    0.532427\n",
      "3    0.440377\n",
      "1    0.027197\n",
      "Name: v_KitchenQual, dtype: float64\n",
      "\n",
      "\n"
     ]
    }
   ],
   "source": [
    "for feat in feats_replace_cond_qual:\n",
    "    print(feat)\n",
    "    df[feat]=df[feat].replace(dictio_qual_cond)\n",
    "    print(df[feat].value_counts(1))\n",
    "    print(\"\\n\")"
   ]
  },
  {
   "cell_type": "code",
   "execution_count": 1012,
   "metadata": {
    "ExecuteTime": {
     "end_time": "2021-08-21T16:49:18.527674Z",
     "start_time": "2021-08-21T16:49:18.497675Z"
    }
   },
   "outputs": [
    {
     "data": {
      "text/html": [
       "<div>\n",
       "<style scoped>\n",
       "    .dataframe tbody tr th:only-of-type {\n",
       "        vertical-align: middle;\n",
       "    }\n",
       "\n",
       "    .dataframe tbody tr th {\n",
       "        vertical-align: top;\n",
       "    }\n",
       "\n",
       "    .dataframe thead th {\n",
       "        text-align: right;\n",
       "    }\n",
       "</style>\n",
       "<table border=\"1\" class=\"dataframe\">\n",
       "  <thead>\n",
       "    <tr style=\"text-align: right;\">\n",
       "      <th></th>\n",
       "      <th>columna</th>\n",
       "      <th>total</th>\n",
       "      <th>completitud</th>\n",
       "    </tr>\n",
       "  </thead>\n",
       "  <tbody>\n",
       "    <tr>\n",
       "      <th>0</th>\n",
       "      <td>v_GarageQual</td>\n",
       "      <td>35</td>\n",
       "      <td>96.338912</td>\n",
       "    </tr>\n",
       "    <tr>\n",
       "      <th>1</th>\n",
       "      <td>v_GarageType</td>\n",
       "      <td>35</td>\n",
       "      <td>96.338912</td>\n",
       "    </tr>\n",
       "    <tr>\n",
       "      <th>2</th>\n",
       "      <td>v_GarageYrBlt</td>\n",
       "      <td>35</td>\n",
       "      <td>96.338912</td>\n",
       "    </tr>\n",
       "    <tr>\n",
       "      <th>3</th>\n",
       "      <td>v_GarageFinish</td>\n",
       "      <td>35</td>\n",
       "      <td>96.338912</td>\n",
       "    </tr>\n",
       "    <tr>\n",
       "      <th>4</th>\n",
       "      <td>v_GarageCond</td>\n",
       "      <td>35</td>\n",
       "      <td>96.338912</td>\n",
       "    </tr>\n",
       "    <tr>\n",
       "      <th>5</th>\n",
       "      <td>v_BsmtExposure</td>\n",
       "      <td>20</td>\n",
       "      <td>97.907950</td>\n",
       "    </tr>\n",
       "    <tr>\n",
       "      <th>6</th>\n",
       "      <td>v_BsmtFinType2</td>\n",
       "      <td>19</td>\n",
       "      <td>98.012552</td>\n",
       "    </tr>\n",
       "    <tr>\n",
       "      <th>7</th>\n",
       "      <td>v_BsmtQual</td>\n",
       "      <td>19</td>\n",
       "      <td>98.012552</td>\n",
       "    </tr>\n",
       "    <tr>\n",
       "      <th>8</th>\n",
       "      <td>v_BsmtFinType1</td>\n",
       "      <td>19</td>\n",
       "      <td>98.012552</td>\n",
       "    </tr>\n",
       "    <tr>\n",
       "      <th>9</th>\n",
       "      <td>v_BsmtCond</td>\n",
       "      <td>19</td>\n",
       "      <td>98.012552</td>\n",
       "    </tr>\n",
       "    <tr>\n",
       "      <th>10</th>\n",
       "      <td>v_Electrical</td>\n",
       "      <td>1</td>\n",
       "      <td>99.895397</td>\n",
       "    </tr>\n",
       "  </tbody>\n",
       "</table>\n",
       "</div>"
      ],
      "text/plain": [
       "           columna  total  completitud\n",
       "0     v_GarageQual     35    96.338912\n",
       "1     v_GarageType     35    96.338912\n",
       "2    v_GarageYrBlt     35    96.338912\n",
       "3   v_GarageFinish     35    96.338912\n",
       "4     v_GarageCond     35    96.338912\n",
       "5   v_BsmtExposure     20    97.907950\n",
       "6   v_BsmtFinType2     19    98.012552\n",
       "7       v_BsmtQual     19    98.012552\n",
       "8   v_BsmtFinType1     19    98.012552\n",
       "9       v_BsmtCond     19    98.012552\n",
       "10    v_Electrical      1    99.895397"
      ]
     },
     "execution_count": 1012,
     "metadata": {},
     "output_type": "execute_result"
    }
   ],
   "source": [
    "miss=completitud(df)\n",
    "miss[miss[\"completitud\"]<100]"
   ]
  },
  {
   "cell_type": "code",
   "execution_count": 1013,
   "metadata": {
    "ExecuteTime": {
     "end_time": "2021-08-21T16:49:18.543675Z",
     "start_time": "2021-08-21T16:49:18.528673Z"
    }
   },
   "outputs": [],
   "source": [
    "#Remplazamos los valores de la fecha de construccion del garage por la fecha de construcción de la propiedad\n",
    "df['v_GarageYrBlt']=df['v_GarageYrBlt'].fillna(df['v_YearBuilt']).astype(float)"
   ]
  },
  {
   "cell_type": "code",
   "execution_count": 1014,
   "metadata": {
    "ExecuteTime": {
     "end_time": "2021-08-21T16:49:18.575674Z",
     "start_time": "2021-08-21T16:49:18.545676Z"
    },
    "scrolled": true
   },
   "outputs": [
    {
     "data": {
      "text/html": [
       "<div>\n",
       "<style scoped>\n",
       "    .dataframe tbody tr th:only-of-type {\n",
       "        vertical-align: middle;\n",
       "    }\n",
       "\n",
       "    .dataframe tbody tr th {\n",
       "        vertical-align: top;\n",
       "    }\n",
       "\n",
       "    .dataframe thead th {\n",
       "        text-align: right;\n",
       "    }\n",
       "</style>\n",
       "<table border=\"1\" class=\"dataframe\">\n",
       "  <thead>\n",
       "    <tr style=\"text-align: right;\">\n",
       "      <th></th>\n",
       "      <th>columna</th>\n",
       "      <th>total</th>\n",
       "      <th>completitud</th>\n",
       "    </tr>\n",
       "  </thead>\n",
       "  <tbody>\n",
       "    <tr>\n",
       "      <th>0</th>\n",
       "      <td>v_GarageQual</td>\n",
       "      <td>35</td>\n",
       "      <td>96.338912</td>\n",
       "    </tr>\n",
       "    <tr>\n",
       "      <th>1</th>\n",
       "      <td>v_GarageType</td>\n",
       "      <td>35</td>\n",
       "      <td>96.338912</td>\n",
       "    </tr>\n",
       "    <tr>\n",
       "      <th>2</th>\n",
       "      <td>v_GarageFinish</td>\n",
       "      <td>35</td>\n",
       "      <td>96.338912</td>\n",
       "    </tr>\n",
       "    <tr>\n",
       "      <th>3</th>\n",
       "      <td>v_GarageCond</td>\n",
       "      <td>35</td>\n",
       "      <td>96.338912</td>\n",
       "    </tr>\n",
       "    <tr>\n",
       "      <th>4</th>\n",
       "      <td>v_BsmtExposure</td>\n",
       "      <td>20</td>\n",
       "      <td>97.907950</td>\n",
       "    </tr>\n",
       "    <tr>\n",
       "      <th>5</th>\n",
       "      <td>v_BsmtQual</td>\n",
       "      <td>19</td>\n",
       "      <td>98.012552</td>\n",
       "    </tr>\n",
       "    <tr>\n",
       "      <th>6</th>\n",
       "      <td>v_BsmtFinType2</td>\n",
       "      <td>19</td>\n",
       "      <td>98.012552</td>\n",
       "    </tr>\n",
       "    <tr>\n",
       "      <th>7</th>\n",
       "      <td>v_BsmtCond</td>\n",
       "      <td>19</td>\n",
       "      <td>98.012552</td>\n",
       "    </tr>\n",
       "    <tr>\n",
       "      <th>8</th>\n",
       "      <td>v_BsmtFinType1</td>\n",
       "      <td>19</td>\n",
       "      <td>98.012552</td>\n",
       "    </tr>\n",
       "    <tr>\n",
       "      <th>9</th>\n",
       "      <td>v_Electrical</td>\n",
       "      <td>1</td>\n",
       "      <td>99.895397</td>\n",
       "    </tr>\n",
       "  </tbody>\n",
       "</table>\n",
       "</div>"
      ],
      "text/plain": [
       "          columna  total  completitud\n",
       "0    v_GarageQual     35    96.338912\n",
       "1    v_GarageType     35    96.338912\n",
       "2  v_GarageFinish     35    96.338912\n",
       "3    v_GarageCond     35    96.338912\n",
       "4  v_BsmtExposure     20    97.907950\n",
       "5      v_BsmtQual     19    98.012552\n",
       "6  v_BsmtFinType2     19    98.012552\n",
       "7      v_BsmtCond     19    98.012552\n",
       "8  v_BsmtFinType1     19    98.012552\n",
       "9    v_Electrical      1    99.895397"
      ]
     },
     "execution_count": 1014,
     "metadata": {},
     "output_type": "execute_result"
    }
   ],
   "source": [
    "miss=completitud(df)\n",
    "\n",
    "miss[miss[\"completitud\"]<100]"
   ]
  },
  {
   "cell_type": "markdown",
   "metadata": {},
   "source": [
    "### CATEGORICAS"
   ]
  },
  {
   "cell_type": "code",
   "execution_count": 1015,
   "metadata": {
    "ExecuteTime": {
     "end_time": "2021-08-21T16:49:18.590687Z",
     "start_time": "2021-08-21T16:49:18.577690Z"
    }
   },
   "outputs": [],
   "source": [
    "from sklearn.model_selection import train_test_split"
   ]
  },
  {
   "cell_type": "code",
   "execution_count": 1016,
   "metadata": {
    "ExecuteTime": {
     "end_time": "2021-08-21T16:49:18.606672Z",
     "start_time": "2021-08-21T16:49:18.592673Z"
    }
   },
   "outputs": [],
   "source": [
    "X_train,X_test=train_test_split(df,test_size=.2,random_state=413)"
   ]
  },
  {
   "cell_type": "code",
   "execution_count": 1017,
   "metadata": {
    "ExecuteTime": {
     "end_time": "2021-08-21T16:49:18.637673Z",
     "start_time": "2021-08-21T16:49:18.608675Z"
    }
   },
   "outputs": [
    {
     "data": {
      "text/html": [
       "<div>\n",
       "<style scoped>\n",
       "    .dataframe tbody tr th:only-of-type {\n",
       "        vertical-align: middle;\n",
       "    }\n",
       "\n",
       "    .dataframe tbody tr th {\n",
       "        vertical-align: top;\n",
       "    }\n",
       "\n",
       "    .dataframe thead th {\n",
       "        text-align: right;\n",
       "    }\n",
       "</style>\n",
       "<table border=\"1\" class=\"dataframe\">\n",
       "  <thead>\n",
       "    <tr style=\"text-align: right;\">\n",
       "      <th></th>\n",
       "      <th>columna</th>\n",
       "      <th>total</th>\n",
       "      <th>completitud</th>\n",
       "    </tr>\n",
       "  </thead>\n",
       "  <tbody>\n",
       "    <tr>\n",
       "      <th>0</th>\n",
       "      <td>v_GarageQual</td>\n",
       "      <td>35</td>\n",
       "      <td>96.338912</td>\n",
       "    </tr>\n",
       "    <tr>\n",
       "      <th>1</th>\n",
       "      <td>v_GarageType</td>\n",
       "      <td>35</td>\n",
       "      <td>96.338912</td>\n",
       "    </tr>\n",
       "    <tr>\n",
       "      <th>2</th>\n",
       "      <td>v_GarageFinish</td>\n",
       "      <td>35</td>\n",
       "      <td>96.338912</td>\n",
       "    </tr>\n",
       "    <tr>\n",
       "      <th>3</th>\n",
       "      <td>v_GarageCond</td>\n",
       "      <td>35</td>\n",
       "      <td>96.338912</td>\n",
       "    </tr>\n",
       "    <tr>\n",
       "      <th>4</th>\n",
       "      <td>v_BsmtExposure</td>\n",
       "      <td>20</td>\n",
       "      <td>97.907950</td>\n",
       "    </tr>\n",
       "    <tr>\n",
       "      <th>5</th>\n",
       "      <td>v_BsmtQual</td>\n",
       "      <td>19</td>\n",
       "      <td>98.012552</td>\n",
       "    </tr>\n",
       "    <tr>\n",
       "      <th>6</th>\n",
       "      <td>v_BsmtFinType2</td>\n",
       "      <td>19</td>\n",
       "      <td>98.012552</td>\n",
       "    </tr>\n",
       "    <tr>\n",
       "      <th>7</th>\n",
       "      <td>v_BsmtCond</td>\n",
       "      <td>19</td>\n",
       "      <td>98.012552</td>\n",
       "    </tr>\n",
       "    <tr>\n",
       "      <th>8</th>\n",
       "      <td>v_BsmtFinType1</td>\n",
       "      <td>19</td>\n",
       "      <td>98.012552</td>\n",
       "    </tr>\n",
       "    <tr>\n",
       "      <th>9</th>\n",
       "      <td>v_Electrical</td>\n",
       "      <td>1</td>\n",
       "      <td>99.895397</td>\n",
       "    </tr>\n",
       "  </tbody>\n",
       "</table>\n",
       "</div>"
      ],
      "text/plain": [
       "          columna  total  completitud\n",
       "0    v_GarageQual     35    96.338912\n",
       "1    v_GarageType     35    96.338912\n",
       "2  v_GarageFinish     35    96.338912\n",
       "3    v_GarageCond     35    96.338912\n",
       "4  v_BsmtExposure     20    97.907950\n",
       "5      v_BsmtQual     19    98.012552\n",
       "6  v_BsmtFinType2     19    98.012552\n",
       "7      v_BsmtCond     19    98.012552\n",
       "8  v_BsmtFinType1     19    98.012552\n",
       "9    v_Electrical      1    99.895397"
      ]
     },
     "execution_count": 1017,
     "metadata": {},
     "output_type": "execute_result"
    }
   ],
   "source": [
    "miss=completitud(df)\n",
    "\n",
    "miss[miss[\"completitud\"]<100]"
   ]
  },
  {
   "cell_type": "code",
   "execution_count": 1018,
   "metadata": {
    "ExecuteTime": {
     "end_time": "2021-08-21T16:49:18.653674Z",
     "start_time": "2021-08-21T16:49:18.639677Z"
    }
   },
   "outputs": [],
   "source": [
    "v_feats=list(filter(lambda x:\"v_\" in x,list(miss[miss[\"completitud\"]<100][\"columna\"].values)))"
   ]
  },
  {
   "cell_type": "code",
   "execution_count": 1019,
   "metadata": {
    "ExecuteTime": {
     "end_time": "2021-08-21T16:49:18.669675Z",
     "start_time": "2021-08-21T16:49:18.655677Z"
    }
   },
   "outputs": [
    {
     "data": {
      "text/plain": [
       "['v_GarageQual',\n",
       " 'v_GarageType',\n",
       " 'v_GarageFinish',\n",
       " 'v_GarageCond',\n",
       " 'v_BsmtExposure',\n",
       " 'v_BsmtQual',\n",
       " 'v_BsmtFinType2',\n",
       " 'v_BsmtCond',\n",
       " 'v_BsmtFinType1',\n",
       " 'v_Electrical']"
      ]
     },
     "execution_count": 1019,
     "metadata": {},
     "output_type": "execute_result"
    }
   ],
   "source": [
    "v_feats"
   ]
  },
  {
   "cell_type": "code",
   "execution_count": 1020,
   "metadata": {
    "ExecuteTime": {
     "end_time": "2021-08-21T16:49:18.716674Z",
     "start_time": "2021-08-21T16:49:18.671676Z"
    },
    "scrolled": true
   },
   "outputs": [
    {
     "name": "stdout",
     "output_type": "stream",
     "text": [
      "v_GarageQual\n",
      "2.0\n",
      "Aceptamos HO(La porporción de categorias es la misma que la general)\n",
      "None\n",
      "\n",
      "\n",
      "v_GarageType\n",
      "attchd\n",
      "Aceptamos HO(La porporción de categorias es la misma que la general)\n",
      "None\n",
      "\n",
      "\n",
      "v_GarageFinish\n",
      "unf\n",
      "Aceptamos HO(La porporción de categorias es la misma que la general)\n",
      "None\n",
      "\n",
      "\n",
      "v_GarageCond\n",
      "2.0\n",
      "Aceptamos HO(La porporción de categorias es la misma que la general)\n",
      "None\n",
      "\n",
      "\n",
      "v_BsmtExposure\n",
      "no\n",
      "Aceptamos HO(La porporción de categorias es la misma que la general)\n",
      "None\n",
      "\n",
      "\n",
      "v_BsmtQual\n",
      "2.0\n",
      "Aceptamos HO(La porporción de categorias es la misma que la general)\n",
      "None\n",
      "\n",
      "\n",
      "v_BsmtFinType2\n",
      "unf\n",
      "Aceptamos HO(La porporción de categorias es la misma que la general)\n",
      "None\n",
      "\n",
      "\n",
      "v_BsmtCond\n",
      "2.0\n",
      "Aceptamos HO(La porporción de categorias es la misma que la general)\n",
      "None\n",
      "\n",
      "\n",
      "v_BsmtFinType1\n",
      "unf\n",
      "Aceptamos HO(La porporción de categorias es la misma que la general)\n",
      "None\n",
      "\n",
      "\n",
      "v_Electrical\n",
      "sbrkr\n",
      "Aceptamos HO(La porporción de categorias es la misma que la general)\n",
      "None\n",
      "\n",
      "\n"
     ]
    }
   ],
   "source": [
    "for column in v_feats:\n",
    "    print(column)\n",
    "    value=X_train[column].value_counts().index[0]\n",
    "    print(value)\n",
    "    print(chi_square(df,column,value))\n",
    "    print(\"\\n\")"
   ]
  },
  {
   "cell_type": "code",
   "execution_count": 1021,
   "metadata": {
    "ExecuteTime": {
     "end_time": "2021-08-21T16:49:18.732674Z",
     "start_time": "2021-08-21T16:49:18.717675Z"
    }
   },
   "outputs": [],
   "source": [
    "from sklearn.impute import SimpleImputer"
   ]
  },
  {
   "cell_type": "code",
   "execution_count": 1022,
   "metadata": {
    "ExecuteTime": {
     "end_time": "2021-08-21T16:49:18.748673Z",
     "start_time": "2021-08-21T16:49:18.734693Z"
    }
   },
   "outputs": [],
   "source": [
    "imp=SimpleImputer(missing_values=np.nan,strategy=\"most_frequent\")"
   ]
  },
  {
   "cell_type": "code",
   "execution_count": 1023,
   "metadata": {
    "ExecuteTime": {
     "end_time": "2021-08-21T16:49:18.764685Z",
     "start_time": "2021-08-21T16:49:18.750675Z"
    }
   },
   "outputs": [
    {
     "data": {
      "text/plain": [
       "SimpleImputer(strategy='most_frequent')"
      ]
     },
     "execution_count": 1023,
     "metadata": {},
     "output_type": "execute_result"
    }
   ],
   "source": [
    "imp.fit(X_train[v_feats])"
   ]
  },
  {
   "cell_type": "code",
   "execution_count": 1024,
   "metadata": {
    "ExecuteTime": {
     "end_time": "2021-08-21T16:49:18.780675Z",
     "start_time": "2021-08-21T16:49:18.766674Z"
    }
   },
   "outputs": [],
   "source": [
    "X_train.reset_index(drop=True,inplace=True)\n",
    "X_test.reset_index(drop=True,inplace=True)"
   ]
  },
  {
   "cell_type": "code",
   "execution_count": 1025,
   "metadata": {
    "ExecuteTime": {
     "end_time": "2021-08-21T16:49:18.828673Z",
     "start_time": "2021-08-21T16:49:18.791692Z"
    }
   },
   "outputs": [],
   "source": [
    "X_train[v_feats]=pd.DataFrame(imp.transform(X_train[v_feats]),columns=v_feats)"
   ]
  },
  {
   "cell_type": "code",
   "execution_count": 1026,
   "metadata": {
    "ExecuteTime": {
     "end_time": "2021-08-21T16:49:18.859674Z",
     "start_time": "2021-08-21T16:49:18.830675Z"
    }
   },
   "outputs": [],
   "source": [
    "X_test[v_feats]=pd.DataFrame(imp.transform(X_test[v_feats]),columns=v_feats)"
   ]
  },
  {
   "cell_type": "code",
   "execution_count": 1027,
   "metadata": {
    "ExecuteTime": {
     "end_time": "2021-08-21T16:49:18.875677Z",
     "start_time": "2021-08-21T16:49:18.860674Z"
    }
   },
   "outputs": [
    {
     "data": {
      "text/html": [
       "<div>\n",
       "<style scoped>\n",
       "    .dataframe tbody tr th:only-of-type {\n",
       "        vertical-align: middle;\n",
       "    }\n",
       "\n",
       "    .dataframe tbody tr th {\n",
       "        vertical-align: top;\n",
       "    }\n",
       "\n",
       "    .dataframe thead th {\n",
       "        text-align: right;\n",
       "    }\n",
       "</style>\n",
       "<table border=\"1\" class=\"dataframe\">\n",
       "  <thead>\n",
       "    <tr style=\"text-align: right;\">\n",
       "      <th></th>\n",
       "      <th>columna</th>\n",
       "      <th>total</th>\n",
       "      <th>completitud</th>\n",
       "    </tr>\n",
       "  </thead>\n",
       "  <tbody>\n",
       "  </tbody>\n",
       "</table>\n",
       "</div>"
      ],
      "text/plain": [
       "Empty DataFrame\n",
       "Columns: [columna, total, completitud]\n",
       "Index: []"
      ]
     },
     "execution_count": 1027,
     "metadata": {},
     "output_type": "execute_result"
    }
   ],
   "source": [
    "miss=completitud(X_train)\n",
    "\n",
    "miss[miss[\"completitud\"]<100]"
   ]
  },
  {
   "cell_type": "code",
   "execution_count": 1028,
   "metadata": {
    "ExecuteTime": {
     "end_time": "2021-08-21T16:49:20.110706Z",
     "start_time": "2021-08-21T16:49:20.095681Z"
    }
   },
   "outputs": [
    {
     "data": {
      "text/html": [
       "<div>\n",
       "<style scoped>\n",
       "    .dataframe tbody tr th:only-of-type {\n",
       "        vertical-align: middle;\n",
       "    }\n",
       "\n",
       "    .dataframe tbody tr th {\n",
       "        vertical-align: top;\n",
       "    }\n",
       "\n",
       "    .dataframe thead th {\n",
       "        text-align: right;\n",
       "    }\n",
       "</style>\n",
       "<table border=\"1\" class=\"dataframe\">\n",
       "  <thead>\n",
       "    <tr style=\"text-align: right;\">\n",
       "      <th></th>\n",
       "      <th>columna</th>\n",
       "      <th>total</th>\n",
       "      <th>completitud</th>\n",
       "    </tr>\n",
       "  </thead>\n",
       "  <tbody>\n",
       "  </tbody>\n",
       "</table>\n",
       "</div>"
      ],
      "text/plain": [
       "Empty DataFrame\n",
       "Columns: [columna, total, completitud]\n",
       "Index: []"
      ]
     },
     "execution_count": 1028,
     "metadata": {},
     "output_type": "execute_result"
    }
   ],
   "source": [
    "miss=completitud(X_test)\n",
    "\n",
    "miss[miss[\"completitud\"]<100]"
   ]
  },
  {
   "cell_type": "markdown",
   "metadata": {},
   "source": [
    "## Reduccion de dimensiones"
   ]
  },
  {
   "cell_type": "code",
   "execution_count": 1029,
   "metadata": {
    "ExecuteTime": {
     "end_time": "2021-08-21T16:49:44.897240Z",
     "start_time": "2021-08-21T16:49:44.880241Z"
    }
   },
   "outputs": [],
   "source": [
    "X_train[\"v_GarageYrBlt\"]=X_train[\"v_GarageYrBlt\"].astype(int)\n",
    "X_test[\"v_GarageYrBlt\"]=X_test[\"v_GarageYrBlt\"].astype(int)\n",
    "X_train[\"v_YearRemodAdd\"]=X_train[\"v_YearRemodAdd\"].astype(int)\n",
    "X_test[\"v_YearRemodAdd\"]=X_test[\"v_YearRemodAdd\"].astype(int)"
   ]
  },
  {
   "cell_type": "code",
   "execution_count": 1030,
   "metadata": {
    "ExecuteTime": {
     "end_time": "2021-08-21T16:49:46.544789Z",
     "start_time": "2021-08-21T16:49:46.487821Z"
    }
   },
   "outputs": [
    {
     "data": {
      "text/html": [
       "<div>\n",
       "<style scoped>\n",
       "    .dataframe tbody tr th:only-of-type {\n",
       "        vertical-align: middle;\n",
       "    }\n",
       "\n",
       "    .dataframe tbody tr th {\n",
       "        vertical-align: top;\n",
       "    }\n",
       "\n",
       "    .dataframe thead th {\n",
       "        text-align: right;\n",
       "    }\n",
       "</style>\n",
       "<table border=\"1\" class=\"dataframe\">\n",
       "  <thead>\n",
       "    <tr style=\"text-align: right;\">\n",
       "      <th></th>\n",
       "      <th>v_MSSubClass</th>\n",
       "      <th>v_MSZoning</th>\n",
       "      <th>c_LotFrontage</th>\n",
       "      <th>c_LotArea</th>\n",
       "      <th>v_Street</th>\n",
       "      <th>v_LotShape</th>\n",
       "      <th>v_LandContour</th>\n",
       "      <th>v_LotConfig</th>\n",
       "      <th>v_LandSlope</th>\n",
       "      <th>v_Condition1</th>\n",
       "      <th>v_Condition2</th>\n",
       "      <th>v_BldgType</th>\n",
       "      <th>v_HouseStyle</th>\n",
       "      <th>v_OverallQual</th>\n",
       "      <th>v_OverallCond</th>\n",
       "      <th>v_YearBuilt</th>\n",
       "      <th>v_YearRemodAdd</th>\n",
       "      <th>v_RoofStyle</th>\n",
       "      <th>v_RoofMatl</th>\n",
       "      <th>v_MasVnrType</th>\n",
       "      <th>c_MasVnrArea</th>\n",
       "      <th>v_ExterQual</th>\n",
       "      <th>v_ExterCond</th>\n",
       "      <th>v_Foundation</th>\n",
       "      <th>v_BsmtQual</th>\n",
       "      <th>v_BsmtCond</th>\n",
       "      <th>v_BsmtExposure</th>\n",
       "      <th>v_BsmtFinType1</th>\n",
       "      <th>c_BsmtFinSF1</th>\n",
       "      <th>v_BsmtFinType2</th>\n",
       "      <th>c_BsmtFinSF2</th>\n",
       "      <th>c_BsmtUnfSF</th>\n",
       "      <th>c_TotalBsmtSF</th>\n",
       "      <th>v_Heating</th>\n",
       "      <th>v_HeatingQC</th>\n",
       "      <th>v_CentralAir</th>\n",
       "      <th>v_Electrical</th>\n",
       "      <th>c_1stFlrSF</th>\n",
       "      <th>c_2ndFlrSF</th>\n",
       "      <th>v_LowQualFinSF</th>\n",
       "      <th>c_GrLivArea</th>\n",
       "      <th>c_BsmtFullBath</th>\n",
       "      <th>v_BsmtHalfBath</th>\n",
       "      <th>v_FullBath</th>\n",
       "      <th>c_HalfBath</th>\n",
       "      <th>c_BedroomAbvGr</th>\n",
       "      <th>v_KitchenAbvGr</th>\n",
       "      <th>v_KitchenQual</th>\n",
       "      <th>c_TotRmsAbvGrd</th>\n",
       "      <th>v_Functional</th>\n",
       "      <th>v_Fireplaces</th>\n",
       "      <th>v_GarageType</th>\n",
       "      <th>v_GarageYrBlt</th>\n",
       "      <th>v_GarageFinish</th>\n",
       "      <th>c_GarageCars</th>\n",
       "      <th>c_GarageArea</th>\n",
       "      <th>v_GarageQual</th>\n",
       "      <th>v_GarageCond</th>\n",
       "      <th>v_PavedDrive</th>\n",
       "      <th>c_WoodDeckSF</th>\n",
       "      <th>c_OpenPorchSF</th>\n",
       "      <th>c_EnclosedPorch</th>\n",
       "      <th>c_3SsnPorch</th>\n",
       "      <th>c_ScreenPorch</th>\n",
       "      <th>c_PoolArea</th>\n",
       "      <th>c_MiscVal</th>\n",
       "      <th>tgt_SalePrice</th>\n",
       "    </tr>\n",
       "  </thead>\n",
       "  <tbody>\n",
       "    <tr>\n",
       "      <th>0</th>\n",
       "      <td>90</td>\n",
       "      <td>rm</td>\n",
       "      <td>110.0</td>\n",
       "      <td>8472</td>\n",
       "      <td>grvl</td>\n",
       "      <td>otro</td>\n",
       "      <td>otro</td>\n",
       "      <td>corner</td>\n",
       "      <td>otro</td>\n",
       "      <td>otro</td>\n",
       "      <td>norm</td>\n",
       "      <td>otro</td>\n",
       "      <td>1story</td>\n",
       "      <td>5</td>\n",
       "      <td>5</td>\n",
       "      <td>1963</td>\n",
       "      <td>1963</td>\n",
       "      <td>gable</td>\n",
       "      <td>compshg</td>\n",
       "      <td>none</td>\n",
       "      <td>0.0</td>\n",
       "      <td>1</td>\n",
       "      <td>2</td>\n",
       "      <td>cblock</td>\n",
       "      <td>3.0</td>\n",
       "      <td>2.0</td>\n",
       "      <td>otro</td>\n",
       "      <td>otro</td>\n",
       "      <td>104</td>\n",
       "      <td>otro</td>\n",
       "      <td>712</td>\n",
       "      <td>0</td>\n",
       "      <td>816</td>\n",
       "      <td>gasa</td>\n",
       "      <td>2</td>\n",
       "      <td>n</td>\n",
       "      <td>sbrkr</td>\n",
       "      <td>816</td>\n",
       "      <td>0</td>\n",
       "      <td>0</td>\n",
       "      <td>816</td>\n",
       "      <td>1</td>\n",
       "      <td>0</td>\n",
       "      <td>1</td>\n",
       "      <td>0</td>\n",
       "      <td>2</td>\n",
       "      <td>1</td>\n",
       "      <td>2</td>\n",
       "      <td>5</td>\n",
       "      <td>typ</td>\n",
       "      <td>0</td>\n",
       "      <td>otro</td>\n",
       "      <td>1963</td>\n",
       "      <td>unf</td>\n",
       "      <td>2</td>\n",
       "      <td>516</td>\n",
       "      <td>2.0</td>\n",
       "      <td>2.0</td>\n",
       "      <td>y</td>\n",
       "      <td>106</td>\n",
       "      <td>0</td>\n",
       "      <td>0</td>\n",
       "      <td>0</td>\n",
       "      <td>0</td>\n",
       "      <td>0</td>\n",
       "      <td>0</td>\n",
       "      <td>110000</td>\n",
       "    </tr>\n",
       "    <tr>\n",
       "      <th>1</th>\n",
       "      <td>50</td>\n",
       "      <td>rm</td>\n",
       "      <td>52.0</td>\n",
       "      <td>6240</td>\n",
       "      <td>pave</td>\n",
       "      <td>reg</td>\n",
       "      <td>lvl</td>\n",
       "      <td>inside</td>\n",
       "      <td>gtl</td>\n",
       "      <td>norm</td>\n",
       "      <td>norm</td>\n",
       "      <td>1fam</td>\n",
       "      <td>1 5fin</td>\n",
       "      <td>6</td>\n",
       "      <td>6</td>\n",
       "      <td>1934</td>\n",
       "      <td>1950</td>\n",
       "      <td>gable</td>\n",
       "      <td>compshg</td>\n",
       "      <td>none</td>\n",
       "      <td>0.0</td>\n",
       "      <td>2</td>\n",
       "      <td>2</td>\n",
       "      <td>pconc</td>\n",
       "      <td>2.0</td>\n",
       "      <td>2.0</td>\n",
       "      <td>no</td>\n",
       "      <td>unf</td>\n",
       "      <td>0</td>\n",
       "      <td>unf</td>\n",
       "      <td>0</td>\n",
       "      <td>816</td>\n",
       "      <td>816</td>\n",
       "      <td>gasa</td>\n",
       "      <td>2</td>\n",
       "      <td>y</td>\n",
       "      <td>sbrkr</td>\n",
       "      <td>816</td>\n",
       "      <td>0</td>\n",
       "      <td>360</td>\n",
       "      <td>1176</td>\n",
       "      <td>0</td>\n",
       "      <td>0</td>\n",
       "      <td>1</td>\n",
       "      <td>0</td>\n",
       "      <td>3</td>\n",
       "      <td>1</td>\n",
       "      <td>2</td>\n",
       "      <td>6</td>\n",
       "      <td>typ</td>\n",
       "      <td>1</td>\n",
       "      <td>detchd</td>\n",
       "      <td>1985</td>\n",
       "      <td>unf</td>\n",
       "      <td>2</td>\n",
       "      <td>528</td>\n",
       "      <td>2.0</td>\n",
       "      <td>2.0</td>\n",
       "      <td>y</td>\n",
       "      <td>112</td>\n",
       "      <td>0</td>\n",
       "      <td>0</td>\n",
       "      <td>0</td>\n",
       "      <td>0</td>\n",
       "      <td>0</td>\n",
       "      <td>400</td>\n",
       "      <td>114500</td>\n",
       "    </tr>\n",
       "    <tr>\n",
       "      <th>2</th>\n",
       "      <td>160</td>\n",
       "      <td>otro</td>\n",
       "      <td>24.0</td>\n",
       "      <td>2544</td>\n",
       "      <td>pave</td>\n",
       "      <td>reg</td>\n",
       "      <td>lvl</td>\n",
       "      <td>inside</td>\n",
       "      <td>gtl</td>\n",
       "      <td>norm</td>\n",
       "      <td>norm</td>\n",
       "      <td>otro</td>\n",
       "      <td>2story</td>\n",
       "      <td>7</td>\n",
       "      <td>5</td>\n",
       "      <td>2005</td>\n",
       "      <td>2005</td>\n",
       "      <td>gable</td>\n",
       "      <td>compshg</td>\n",
       "      <td>none</td>\n",
       "      <td>0.0</td>\n",
       "      <td>3</td>\n",
       "      <td>2</td>\n",
       "      <td>pconc</td>\n",
       "      <td>3.0</td>\n",
       "      <td>2.0</td>\n",
       "      <td>no</td>\n",
       "      <td>unf</td>\n",
       "      <td>0</td>\n",
       "      <td>unf</td>\n",
       "      <td>0</td>\n",
       "      <td>600</td>\n",
       "      <td>600</td>\n",
       "      <td>gasa</td>\n",
       "      <td>3</td>\n",
       "      <td>y</td>\n",
       "      <td>sbrkr</td>\n",
       "      <td>520</td>\n",
       "      <td>623</td>\n",
       "      <td>80</td>\n",
       "      <td>1223</td>\n",
       "      <td>0</td>\n",
       "      <td>0</td>\n",
       "      <td>2</td>\n",
       "      <td>1</td>\n",
       "      <td>2</td>\n",
       "      <td>1</td>\n",
       "      <td>3</td>\n",
       "      <td>4</td>\n",
       "      <td>typ</td>\n",
       "      <td>0</td>\n",
       "      <td>detchd</td>\n",
       "      <td>2005</td>\n",
       "      <td>rfn</td>\n",
       "      <td>2</td>\n",
       "      <td>480</td>\n",
       "      <td>2.0</td>\n",
       "      <td>2.0</td>\n",
       "      <td>y</td>\n",
       "      <td>0</td>\n",
       "      <td>166</td>\n",
       "      <td>0</td>\n",
       "      <td>0</td>\n",
       "      <td>0</td>\n",
       "      <td>0</td>\n",
       "      <td>0</td>\n",
       "      <td>147400</td>\n",
       "    </tr>\n",
       "    <tr>\n",
       "      <th>3</th>\n",
       "      <td>30</td>\n",
       "      <td>rl</td>\n",
       "      <td>80.0</td>\n",
       "      <td>11600</td>\n",
       "      <td>pave</td>\n",
       "      <td>reg</td>\n",
       "      <td>lvl</td>\n",
       "      <td>inside</td>\n",
       "      <td>gtl</td>\n",
       "      <td>norm</td>\n",
       "      <td>norm</td>\n",
       "      <td>1fam</td>\n",
       "      <td>1story</td>\n",
       "      <td>4</td>\n",
       "      <td>5</td>\n",
       "      <td>1922</td>\n",
       "      <td>1950</td>\n",
       "      <td>gable</td>\n",
       "      <td>compshg</td>\n",
       "      <td>none</td>\n",
       "      <td>0.0</td>\n",
       "      <td>2</td>\n",
       "      <td>2</td>\n",
       "      <td>otro</td>\n",
       "      <td>1.0</td>\n",
       "      <td>2.0</td>\n",
       "      <td>no</td>\n",
       "      <td>unf</td>\n",
       "      <td>0</td>\n",
       "      <td>unf</td>\n",
       "      <td>0</td>\n",
       "      <td>700</td>\n",
       "      <td>700</td>\n",
       "      <td>gasa</td>\n",
       "      <td>3</td>\n",
       "      <td>y</td>\n",
       "      <td>sbrkr</td>\n",
       "      <td>1180</td>\n",
       "      <td>0</td>\n",
       "      <td>0</td>\n",
       "      <td>1180</td>\n",
       "      <td>0</td>\n",
       "      <td>0</td>\n",
       "      <td>1</td>\n",
       "      <td>0</td>\n",
       "      <td>2</td>\n",
       "      <td>1</td>\n",
       "      <td>1</td>\n",
       "      <td>5</td>\n",
       "      <td>typ</td>\n",
       "      <td>1</td>\n",
       "      <td>detchd</td>\n",
       "      <td>1922</td>\n",
       "      <td>unf</td>\n",
       "      <td>1</td>\n",
       "      <td>252</td>\n",
       "      <td>2.0</td>\n",
       "      <td>1.0</td>\n",
       "      <td>y</td>\n",
       "      <td>0</td>\n",
       "      <td>0</td>\n",
       "      <td>67</td>\n",
       "      <td>0</td>\n",
       "      <td>0</td>\n",
       "      <td>0</td>\n",
       "      <td>0</td>\n",
       "      <td>137500</td>\n",
       "    </tr>\n",
       "    <tr>\n",
       "      <th>4</th>\n",
       "      <td>30</td>\n",
       "      <td>rm</td>\n",
       "      <td>60.0</td>\n",
       "      <td>9786</td>\n",
       "      <td>pave</td>\n",
       "      <td>reg</td>\n",
       "      <td>lvl</td>\n",
       "      <td>inside</td>\n",
       "      <td>gtl</td>\n",
       "      <td>norm</td>\n",
       "      <td>norm</td>\n",
       "      <td>1fam</td>\n",
       "      <td>1story</td>\n",
       "      <td>3</td>\n",
       "      <td>4</td>\n",
       "      <td>1922</td>\n",
       "      <td>1950</td>\n",
       "      <td>hip</td>\n",
       "      <td>compshg</td>\n",
       "      <td>none</td>\n",
       "      <td>0.0</td>\n",
       "      <td>2</td>\n",
       "      <td>2</td>\n",
       "      <td>otro</td>\n",
       "      <td>2.0</td>\n",
       "      <td>1.0</td>\n",
       "      <td>no</td>\n",
       "      <td>unf</td>\n",
       "      <td>0</td>\n",
       "      <td>unf</td>\n",
       "      <td>0</td>\n",
       "      <td>1007</td>\n",
       "      <td>1007</td>\n",
       "      <td>gasa</td>\n",
       "      <td>1</td>\n",
       "      <td>n</td>\n",
       "      <td>sbrkr</td>\n",
       "      <td>1077</td>\n",
       "      <td>0</td>\n",
       "      <td>0</td>\n",
       "      <td>1077</td>\n",
       "      <td>0</td>\n",
       "      <td>0</td>\n",
       "      <td>1</td>\n",
       "      <td>0</td>\n",
       "      <td>3</td>\n",
       "      <td>1</td>\n",
       "      <td>2</td>\n",
       "      <td>6</td>\n",
       "      <td>typ</td>\n",
       "      <td>1</td>\n",
       "      <td>detchd</td>\n",
       "      <td>1922</td>\n",
       "      <td>unf</td>\n",
       "      <td>1</td>\n",
       "      <td>210</td>\n",
       "      <td>2.0</td>\n",
       "      <td>1.0</td>\n",
       "      <td>p</td>\n",
       "      <td>0</td>\n",
       "      <td>100</td>\n",
       "      <td>48</td>\n",
       "      <td>0</td>\n",
       "      <td>0</td>\n",
       "      <td>0</td>\n",
       "      <td>0</td>\n",
       "      <td>91000</td>\n",
       "    </tr>\n",
       "    <tr>\n",
       "      <th>...</th>\n",
       "      <td>...</td>\n",
       "      <td>...</td>\n",
       "      <td>...</td>\n",
       "      <td>...</td>\n",
       "      <td>...</td>\n",
       "      <td>...</td>\n",
       "      <td>...</td>\n",
       "      <td>...</td>\n",
       "      <td>...</td>\n",
       "      <td>...</td>\n",
       "      <td>...</td>\n",
       "      <td>...</td>\n",
       "      <td>...</td>\n",
       "      <td>...</td>\n",
       "      <td>...</td>\n",
       "      <td>...</td>\n",
       "      <td>...</td>\n",
       "      <td>...</td>\n",
       "      <td>...</td>\n",
       "      <td>...</td>\n",
       "      <td>...</td>\n",
       "      <td>...</td>\n",
       "      <td>...</td>\n",
       "      <td>...</td>\n",
       "      <td>...</td>\n",
       "      <td>...</td>\n",
       "      <td>...</td>\n",
       "      <td>...</td>\n",
       "      <td>...</td>\n",
       "      <td>...</td>\n",
       "      <td>...</td>\n",
       "      <td>...</td>\n",
       "      <td>...</td>\n",
       "      <td>...</td>\n",
       "      <td>...</td>\n",
       "      <td>...</td>\n",
       "      <td>...</td>\n",
       "      <td>...</td>\n",
       "      <td>...</td>\n",
       "      <td>...</td>\n",
       "      <td>...</td>\n",
       "      <td>...</td>\n",
       "      <td>...</td>\n",
       "      <td>...</td>\n",
       "      <td>...</td>\n",
       "      <td>...</td>\n",
       "      <td>...</td>\n",
       "      <td>...</td>\n",
       "      <td>...</td>\n",
       "      <td>...</td>\n",
       "      <td>...</td>\n",
       "      <td>...</td>\n",
       "      <td>...</td>\n",
       "      <td>...</td>\n",
       "      <td>...</td>\n",
       "      <td>...</td>\n",
       "      <td>...</td>\n",
       "      <td>...</td>\n",
       "      <td>...</td>\n",
       "      <td>...</td>\n",
       "      <td>...</td>\n",
       "      <td>...</td>\n",
       "      <td>...</td>\n",
       "      <td>...</td>\n",
       "      <td>...</td>\n",
       "      <td>...</td>\n",
       "      <td>...</td>\n",
       "    </tr>\n",
       "    <tr>\n",
       "      <th>759</th>\n",
       "      <td>70</td>\n",
       "      <td>rl</td>\n",
       "      <td>55.0</td>\n",
       "      <td>10592</td>\n",
       "      <td>pave</td>\n",
       "      <td>reg</td>\n",
       "      <td>lvl</td>\n",
       "      <td>inside</td>\n",
       "      <td>gtl</td>\n",
       "      <td>norm</td>\n",
       "      <td>norm</td>\n",
       "      <td>1fam</td>\n",
       "      <td>2story</td>\n",
       "      <td>6</td>\n",
       "      <td>7</td>\n",
       "      <td>1923</td>\n",
       "      <td>1996</td>\n",
       "      <td>hip</td>\n",
       "      <td>compshg</td>\n",
       "      <td>none</td>\n",
       "      <td>0.0</td>\n",
       "      <td>2</td>\n",
       "      <td>3</td>\n",
       "      <td>pconc</td>\n",
       "      <td>2.0</td>\n",
       "      <td>1.0</td>\n",
       "      <td>no</td>\n",
       "      <td>unf</td>\n",
       "      <td>0</td>\n",
       "      <td>unf</td>\n",
       "      <td>0</td>\n",
       "      <td>602</td>\n",
       "      <td>602</td>\n",
       "      <td>gasa</td>\n",
       "      <td>2</td>\n",
       "      <td>y</td>\n",
       "      <td>sbrkr</td>\n",
       "      <td>900</td>\n",
       "      <td>602</td>\n",
       "      <td>0</td>\n",
       "      <td>1502</td>\n",
       "      <td>0</td>\n",
       "      <td>0</td>\n",
       "      <td>1</td>\n",
       "      <td>1</td>\n",
       "      <td>3</td>\n",
       "      <td>1</td>\n",
       "      <td>3</td>\n",
       "      <td>7</td>\n",
       "      <td>typ</td>\n",
       "      <td>2</td>\n",
       "      <td>detchd</td>\n",
       "      <td>1923</td>\n",
       "      <td>unf</td>\n",
       "      <td>1</td>\n",
       "      <td>180</td>\n",
       "      <td>2.0</td>\n",
       "      <td>2.0</td>\n",
       "      <td>y</td>\n",
       "      <td>96</td>\n",
       "      <td>0</td>\n",
       "      <td>112</td>\n",
       "      <td>0</td>\n",
       "      <td>53</td>\n",
       "      <td>0</td>\n",
       "      <td>0</td>\n",
       "      <td>165000</td>\n",
       "    </tr>\n",
       "    <tr>\n",
       "      <th>760</th>\n",
       "      <td>60</td>\n",
       "      <td>rl</td>\n",
       "      <td>70.0</td>\n",
       "      <td>8750</td>\n",
       "      <td>pave</td>\n",
       "      <td>reg</td>\n",
       "      <td>lvl</td>\n",
       "      <td>inside</td>\n",
       "      <td>gtl</td>\n",
       "      <td>norm</td>\n",
       "      <td>norm</td>\n",
       "      <td>1fam</td>\n",
       "      <td>2story</td>\n",
       "      <td>6</td>\n",
       "      <td>5</td>\n",
       "      <td>1998</td>\n",
       "      <td>1998</td>\n",
       "      <td>gable</td>\n",
       "      <td>compshg</td>\n",
       "      <td>brkface</td>\n",
       "      <td>116.0</td>\n",
       "      <td>2</td>\n",
       "      <td>2</td>\n",
       "      <td>pconc</td>\n",
       "      <td>3.0</td>\n",
       "      <td>2.0</td>\n",
       "      <td>no</td>\n",
       "      <td>glq</td>\n",
       "      <td>505</td>\n",
       "      <td>unf</td>\n",
       "      <td>0</td>\n",
       "      <td>299</td>\n",
       "      <td>804</td>\n",
       "      <td>gasa</td>\n",
       "      <td>3</td>\n",
       "      <td>y</td>\n",
       "      <td>sbrkr</td>\n",
       "      <td>804</td>\n",
       "      <td>878</td>\n",
       "      <td>0</td>\n",
       "      <td>1682</td>\n",
       "      <td>0</td>\n",
       "      <td>0</td>\n",
       "      <td>2</td>\n",
       "      <td>1</td>\n",
       "      <td>3</td>\n",
       "      <td>1</td>\n",
       "      <td>3</td>\n",
       "      <td>7</td>\n",
       "      <td>typ</td>\n",
       "      <td>0</td>\n",
       "      <td>attchd</td>\n",
       "      <td>1998</td>\n",
       "      <td>rfn</td>\n",
       "      <td>2</td>\n",
       "      <td>523</td>\n",
       "      <td>2.0</td>\n",
       "      <td>2.0</td>\n",
       "      <td>y</td>\n",
       "      <td>0</td>\n",
       "      <td>77</td>\n",
       "      <td>0</td>\n",
       "      <td>0</td>\n",
       "      <td>0</td>\n",
       "      <td>0</td>\n",
       "      <td>0</td>\n",
       "      <td>200500</td>\n",
       "    </tr>\n",
       "    <tr>\n",
       "      <th>761</th>\n",
       "      <td>85</td>\n",
       "      <td>rl</td>\n",
       "      <td>69.0</td>\n",
       "      <td>10205</td>\n",
       "      <td>pave</td>\n",
       "      <td>otro</td>\n",
       "      <td>lvl</td>\n",
       "      <td>inside</td>\n",
       "      <td>gtl</td>\n",
       "      <td>norm</td>\n",
       "      <td>norm</td>\n",
       "      <td>1fam</td>\n",
       "      <td>otro</td>\n",
       "      <td>5</td>\n",
       "      <td>5</td>\n",
       "      <td>1962</td>\n",
       "      <td>1962</td>\n",
       "      <td>gable</td>\n",
       "      <td>compshg</td>\n",
       "      <td>none</td>\n",
       "      <td>0.0</td>\n",
       "      <td>2</td>\n",
       "      <td>2</td>\n",
       "      <td>cblock</td>\n",
       "      <td>2.0</td>\n",
       "      <td>2.0</td>\n",
       "      <td>otro</td>\n",
       "      <td>otro</td>\n",
       "      <td>784</td>\n",
       "      <td>unf</td>\n",
       "      <td>0</td>\n",
       "      <td>141</td>\n",
       "      <td>925</td>\n",
       "      <td>gasa</td>\n",
       "      <td>2</td>\n",
       "      <td>y</td>\n",
       "      <td>sbrkr</td>\n",
       "      <td>999</td>\n",
       "      <td>0</td>\n",
       "      <td>0</td>\n",
       "      <td>999</td>\n",
       "      <td>1</td>\n",
       "      <td>0</td>\n",
       "      <td>1</td>\n",
       "      <td>0</td>\n",
       "      <td>3</td>\n",
       "      <td>1</td>\n",
       "      <td>2</td>\n",
       "      <td>6</td>\n",
       "      <td>typ</td>\n",
       "      <td>0</td>\n",
       "      <td>attchd</td>\n",
       "      <td>1962</td>\n",
       "      <td>unf</td>\n",
       "      <td>1</td>\n",
       "      <td>300</td>\n",
       "      <td>2.0</td>\n",
       "      <td>2.0</td>\n",
       "      <td>y</td>\n",
       "      <td>150</td>\n",
       "      <td>72</td>\n",
       "      <td>0</td>\n",
       "      <td>0</td>\n",
       "      <td>0</td>\n",
       "      <td>0</td>\n",
       "      <td>0</td>\n",
       "      <td>134500</td>\n",
       "    </tr>\n",
       "    <tr>\n",
       "      <th>762</th>\n",
       "      <td>60</td>\n",
       "      <td>rl</td>\n",
       "      <td>68.0</td>\n",
       "      <td>8935</td>\n",
       "      <td>pave</td>\n",
       "      <td>otro</td>\n",
       "      <td>lvl</td>\n",
       "      <td>inside</td>\n",
       "      <td>gtl</td>\n",
       "      <td>norm</td>\n",
       "      <td>norm</td>\n",
       "      <td>1fam</td>\n",
       "      <td>2story</td>\n",
       "      <td>7</td>\n",
       "      <td>5</td>\n",
       "      <td>2002</td>\n",
       "      <td>2002</td>\n",
       "      <td>gable</td>\n",
       "      <td>compshg</td>\n",
       "      <td>brkface</td>\n",
       "      <td>95.0</td>\n",
       "      <td>3</td>\n",
       "      <td>2</td>\n",
       "      <td>pconc</td>\n",
       "      <td>3.0</td>\n",
       "      <td>2.0</td>\n",
       "      <td>no</td>\n",
       "      <td>unf</td>\n",
       "      <td>0</td>\n",
       "      <td>unf</td>\n",
       "      <td>0</td>\n",
       "      <td>831</td>\n",
       "      <td>831</td>\n",
       "      <td>gasa</td>\n",
       "      <td>3</td>\n",
       "      <td>y</td>\n",
       "      <td>sbrkr</td>\n",
       "      <td>831</td>\n",
       "      <td>829</td>\n",
       "      <td>0</td>\n",
       "      <td>1660</td>\n",
       "      <td>0</td>\n",
       "      <td>0</td>\n",
       "      <td>2</td>\n",
       "      <td>1</td>\n",
       "      <td>3</td>\n",
       "      <td>1</td>\n",
       "      <td>3</td>\n",
       "      <td>7</td>\n",
       "      <td>typ</td>\n",
       "      <td>0</td>\n",
       "      <td>attchd</td>\n",
       "      <td>2002</td>\n",
       "      <td>rfn</td>\n",
       "      <td>2</td>\n",
       "      <td>493</td>\n",
       "      <td>2.0</td>\n",
       "      <td>2.0</td>\n",
       "      <td>y</td>\n",
       "      <td>144</td>\n",
       "      <td>68</td>\n",
       "      <td>0</td>\n",
       "      <td>0</td>\n",
       "      <td>0</td>\n",
       "      <td>0</td>\n",
       "      <td>0</td>\n",
       "      <td>195000</td>\n",
       "    </tr>\n",
       "    <tr>\n",
       "      <th>763</th>\n",
       "      <td>20</td>\n",
       "      <td>rl</td>\n",
       "      <td>77.0</td>\n",
       "      <td>9320</td>\n",
       "      <td>pave</td>\n",
       "      <td>otro</td>\n",
       "      <td>lvl</td>\n",
       "      <td>inside</td>\n",
       "      <td>gtl</td>\n",
       "      <td>norm</td>\n",
       "      <td>norm</td>\n",
       "      <td>1fam</td>\n",
       "      <td>1story</td>\n",
       "      <td>4</td>\n",
       "      <td>5</td>\n",
       "      <td>1959</td>\n",
       "      <td>1959</td>\n",
       "      <td>gable</td>\n",
       "      <td>compshg</td>\n",
       "      <td>none</td>\n",
       "      <td>0.0</td>\n",
       "      <td>2</td>\n",
       "      <td>2</td>\n",
       "      <td>cblock</td>\n",
       "      <td>2.0</td>\n",
       "      <td>2.0</td>\n",
       "      <td>no</td>\n",
       "      <td>alq</td>\n",
       "      <td>569</td>\n",
       "      <td>unf</td>\n",
       "      <td>0</td>\n",
       "      <td>381</td>\n",
       "      <td>950</td>\n",
       "      <td>gasa</td>\n",
       "      <td>1</td>\n",
       "      <td>y</td>\n",
       "      <td>sbrkr</td>\n",
       "      <td>1225</td>\n",
       "      <td>0</td>\n",
       "      <td>0</td>\n",
       "      <td>1225</td>\n",
       "      <td>1</td>\n",
       "      <td>0</td>\n",
       "      <td>1</td>\n",
       "      <td>1</td>\n",
       "      <td>3</td>\n",
       "      <td>1</td>\n",
       "      <td>2</td>\n",
       "      <td>6</td>\n",
       "      <td>typ</td>\n",
       "      <td>0</td>\n",
       "      <td>attchd</td>\n",
       "      <td>1959</td>\n",
       "      <td>unf</td>\n",
       "      <td>0</td>\n",
       "      <td>0</td>\n",
       "      <td>2.0</td>\n",
       "      <td>2.0</td>\n",
       "      <td>y</td>\n",
       "      <td>352</td>\n",
       "      <td>0</td>\n",
       "      <td>0</td>\n",
       "      <td>0</td>\n",
       "      <td>0</td>\n",
       "      <td>0</td>\n",
       "      <td>400</td>\n",
       "      <td>128950</td>\n",
       "    </tr>\n",
       "  </tbody>\n",
       "</table>\n",
       "<p>764 rows × 67 columns</p>\n",
       "</div>"
      ],
      "text/plain": [
       "     v_MSSubClass v_MSZoning  c_LotFrontage  c_LotArea v_Street v_LotShape  \\\n",
       "0              90         rm          110.0       8472     grvl       otro   \n",
       "1              50         rm           52.0       6240     pave        reg   \n",
       "2             160       otro           24.0       2544     pave        reg   \n",
       "3              30         rl           80.0      11600     pave        reg   \n",
       "4              30         rm           60.0       9786     pave        reg   \n",
       "..            ...        ...            ...        ...      ...        ...   \n",
       "759            70         rl           55.0      10592     pave        reg   \n",
       "760            60         rl           70.0       8750     pave        reg   \n",
       "761            85         rl           69.0      10205     pave       otro   \n",
       "762            60         rl           68.0       8935     pave       otro   \n",
       "763            20         rl           77.0       9320     pave       otro   \n",
       "\n",
       "    v_LandContour v_LotConfig v_LandSlope v_Condition1 v_Condition2  \\\n",
       "0            otro      corner        otro         otro         norm   \n",
       "1             lvl      inside         gtl         norm         norm   \n",
       "2             lvl      inside         gtl         norm         norm   \n",
       "3             lvl      inside         gtl         norm         norm   \n",
       "4             lvl      inside         gtl         norm         norm   \n",
       "..            ...         ...         ...          ...          ...   \n",
       "759           lvl      inside         gtl         norm         norm   \n",
       "760           lvl      inside         gtl         norm         norm   \n",
       "761           lvl      inside         gtl         norm         norm   \n",
       "762           lvl      inside         gtl         norm         norm   \n",
       "763           lvl      inside         gtl         norm         norm   \n",
       "\n",
       "    v_BldgType v_HouseStyle v_OverallQual v_OverallCond  v_YearBuilt  \\\n",
       "0         otro       1story             5             5         1963   \n",
       "1         1fam       1 5fin             6             6         1934   \n",
       "2         otro       2story             7             5         2005   \n",
       "3         1fam       1story             4             5         1922   \n",
       "4         1fam       1story             3             4         1922   \n",
       "..         ...          ...           ...           ...          ...   \n",
       "759       1fam       2story             6             7         1923   \n",
       "760       1fam       2story             6             5         1998   \n",
       "761       1fam         otro             5             5         1962   \n",
       "762       1fam       2story             7             5         2002   \n",
       "763       1fam       1story             4             5         1959   \n",
       "\n",
       "     v_YearRemodAdd v_RoofStyle v_RoofMatl v_MasVnrType  c_MasVnrArea  \\\n",
       "0              1963       gable    compshg         none           0.0   \n",
       "1              1950       gable    compshg         none           0.0   \n",
       "2              2005       gable    compshg         none           0.0   \n",
       "3              1950       gable    compshg         none           0.0   \n",
       "4              1950         hip    compshg         none           0.0   \n",
       "..              ...         ...        ...          ...           ...   \n",
       "759            1996         hip    compshg         none           0.0   \n",
       "760            1998       gable    compshg      brkface         116.0   \n",
       "761            1962       gable    compshg         none           0.0   \n",
       "762            2002       gable    compshg      brkface          95.0   \n",
       "763            1959       gable    compshg         none           0.0   \n",
       "\n",
       "     v_ExterQual  v_ExterCond v_Foundation v_BsmtQual v_BsmtCond  \\\n",
       "0              1            2       cblock        3.0        2.0   \n",
       "1              2            2        pconc        2.0        2.0   \n",
       "2              3            2        pconc        3.0        2.0   \n",
       "3              2            2         otro        1.0        2.0   \n",
       "4              2            2         otro        2.0        1.0   \n",
       "..           ...          ...          ...        ...        ...   \n",
       "759            2            3        pconc        2.0        1.0   \n",
       "760            2            2        pconc        3.0        2.0   \n",
       "761            2            2       cblock        2.0        2.0   \n",
       "762            3            2        pconc        3.0        2.0   \n",
       "763            2            2       cblock        2.0        2.0   \n",
       "\n",
       "    v_BsmtExposure v_BsmtFinType1  c_BsmtFinSF1 v_BsmtFinType2  c_BsmtFinSF2  \\\n",
       "0             otro           otro           104           otro           712   \n",
       "1               no            unf             0            unf             0   \n",
       "2               no            unf             0            unf             0   \n",
       "3               no            unf             0            unf             0   \n",
       "4               no            unf             0            unf             0   \n",
       "..             ...            ...           ...            ...           ...   \n",
       "759             no            unf             0            unf             0   \n",
       "760             no            glq           505            unf             0   \n",
       "761           otro           otro           784            unf             0   \n",
       "762             no            unf             0            unf             0   \n",
       "763             no            alq           569            unf             0   \n",
       "\n",
       "     c_BsmtUnfSF  c_TotalBsmtSF v_Heating  v_HeatingQC v_CentralAir  \\\n",
       "0              0            816      gasa            2            n   \n",
       "1            816            816      gasa            2            y   \n",
       "2            600            600      gasa            3            y   \n",
       "3            700            700      gasa            3            y   \n",
       "4           1007           1007      gasa            1            n   \n",
       "..           ...            ...       ...          ...          ...   \n",
       "759          602            602      gasa            2            y   \n",
       "760          299            804      gasa            3            y   \n",
       "761          141            925      gasa            2            y   \n",
       "762          831            831      gasa            3            y   \n",
       "763          381            950      gasa            1            y   \n",
       "\n",
       "    v_Electrical  c_1stFlrSF  c_2ndFlrSF v_LowQualFinSF  c_GrLivArea  \\\n",
       "0          sbrkr         816           0              0          816   \n",
       "1          sbrkr         816           0            360         1176   \n",
       "2          sbrkr         520         623             80         1223   \n",
       "3          sbrkr        1180           0              0         1180   \n",
       "4          sbrkr        1077           0              0         1077   \n",
       "..           ...         ...         ...            ...          ...   \n",
       "759        sbrkr         900         602              0         1502   \n",
       "760        sbrkr         804         878              0         1682   \n",
       "761        sbrkr         999           0              0          999   \n",
       "762        sbrkr         831         829              0         1660   \n",
       "763        sbrkr        1225           0              0         1225   \n",
       "\n",
       "     c_BsmtFullBath v_BsmtHalfBath v_FullBath  c_HalfBath  c_BedroomAbvGr  \\\n",
       "0                 1              0          1           0               2   \n",
       "1                 0              0          1           0               3   \n",
       "2                 0              0          2           1               2   \n",
       "3                 0              0          1           0               2   \n",
       "4                 0              0          1           0               3   \n",
       "..              ...            ...        ...         ...             ...   \n",
       "759               0              0          1           1               3   \n",
       "760               0              0          2           1               3   \n",
       "761               1              0          1           0               3   \n",
       "762               0              0          2           1               3   \n",
       "763               1              0          1           1               3   \n",
       "\n",
       "    v_KitchenAbvGr  v_KitchenQual  c_TotRmsAbvGrd v_Functional v_Fireplaces  \\\n",
       "0                1              2               5          typ            0   \n",
       "1                1              2               6          typ            1   \n",
       "2                1              3               4          typ            0   \n",
       "3                1              1               5          typ            1   \n",
       "4                1              2               6          typ            1   \n",
       "..             ...            ...             ...          ...          ...   \n",
       "759              1              3               7          typ            2   \n",
       "760              1              3               7          typ            0   \n",
       "761              1              2               6          typ            0   \n",
       "762              1              3               7          typ            0   \n",
       "763              1              2               6          typ            0   \n",
       "\n",
       "    v_GarageType  v_GarageYrBlt v_GarageFinish  c_GarageCars  c_GarageArea  \\\n",
       "0           otro           1963            unf             2           516   \n",
       "1         detchd           1985            unf             2           528   \n",
       "2         detchd           2005            rfn             2           480   \n",
       "3         detchd           1922            unf             1           252   \n",
       "4         detchd           1922            unf             1           210   \n",
       "..           ...            ...            ...           ...           ...   \n",
       "759       detchd           1923            unf             1           180   \n",
       "760       attchd           1998            rfn             2           523   \n",
       "761       attchd           1962            unf             1           300   \n",
       "762       attchd           2002            rfn             2           493   \n",
       "763       attchd           1959            unf             0             0   \n",
       "\n",
       "    v_GarageQual v_GarageCond v_PavedDrive  c_WoodDeckSF  c_OpenPorchSF  \\\n",
       "0            2.0          2.0            y           106              0   \n",
       "1            2.0          2.0            y           112              0   \n",
       "2            2.0          2.0            y             0            166   \n",
       "3            2.0          1.0            y             0              0   \n",
       "4            2.0          1.0            p             0            100   \n",
       "..           ...          ...          ...           ...            ...   \n",
       "759          2.0          2.0            y            96              0   \n",
       "760          2.0          2.0            y             0             77   \n",
       "761          2.0          2.0            y           150             72   \n",
       "762          2.0          2.0            y           144             68   \n",
       "763          2.0          2.0            y           352              0   \n",
       "\n",
       "     c_EnclosedPorch  c_3SsnPorch  c_ScreenPorch  c_PoolArea  c_MiscVal  \\\n",
       "0                  0            0              0           0          0   \n",
       "1                  0            0              0           0        400   \n",
       "2                  0            0              0           0          0   \n",
       "3                 67            0              0           0          0   \n",
       "4                 48            0              0           0          0   \n",
       "..               ...          ...            ...         ...        ...   \n",
       "759              112            0             53           0          0   \n",
       "760                0            0              0           0          0   \n",
       "761                0            0              0           0          0   \n",
       "762                0            0              0           0          0   \n",
       "763                0            0              0           0        400   \n",
       "\n",
       "     tgt_SalePrice  \n",
       "0           110000  \n",
       "1           114500  \n",
       "2           147400  \n",
       "3           137500  \n",
       "4            91000  \n",
       "..             ...  \n",
       "759         165000  \n",
       "760         200500  \n",
       "761         134500  \n",
       "762         195000  \n",
       "763         128950  \n",
       "\n",
       "[764 rows x 67 columns]"
      ]
     },
     "execution_count": 1030,
     "metadata": {},
     "output_type": "execute_result"
    }
   ],
   "source": [
    "X_train"
   ]
  },
  {
   "cell_type": "markdown",
   "metadata": {},
   "source": [
    "### Relación de valor perdido"
   ]
  },
  {
   "cell_type": "code",
   "execution_count": 1032,
   "metadata": {
    "ExecuteTime": {
     "end_time": "2021-08-21T16:49:58.608262Z",
     "start_time": "2021-08-21T16:49:58.558269Z"
    }
   },
   "outputs": [
    {
     "data": {
      "text/html": [
       "<div>\n",
       "<style scoped>\n",
       "    .dataframe tbody tr th:only-of-type {\n",
       "        vertical-align: middle;\n",
       "    }\n",
       "\n",
       "    .dataframe tbody tr th {\n",
       "        vertical-align: top;\n",
       "    }\n",
       "\n",
       "    .dataframe thead th {\n",
       "        text-align: right;\n",
       "    }\n",
       "</style>\n",
       "<table border=\"1\" class=\"dataframe\">\n",
       "  <thead>\n",
       "    <tr style=\"text-align: right;\">\n",
       "      <th></th>\n",
       "      <th>columna</th>\n",
       "      <th>total</th>\n",
       "      <th>completitud</th>\n",
       "    </tr>\n",
       "  </thead>\n",
       "  <tbody>\n",
       "    <tr>\n",
       "      <th>0</th>\n",
       "      <td>v_MSSubClass</td>\n",
       "      <td>0</td>\n",
       "      <td>100.0</td>\n",
       "    </tr>\n",
       "    <tr>\n",
       "      <th>1</th>\n",
       "      <td>v_CentralAir</td>\n",
       "      <td>0</td>\n",
       "      <td>100.0</td>\n",
       "    </tr>\n",
       "    <tr>\n",
       "      <th>2</th>\n",
       "      <td>v_Electrical</td>\n",
       "      <td>0</td>\n",
       "      <td>100.0</td>\n",
       "    </tr>\n",
       "    <tr>\n",
       "      <th>3</th>\n",
       "      <td>c_1stFlrSF</td>\n",
       "      <td>0</td>\n",
       "      <td>100.0</td>\n",
       "    </tr>\n",
       "    <tr>\n",
       "      <th>4</th>\n",
       "      <td>c_2ndFlrSF</td>\n",
       "      <td>0</td>\n",
       "      <td>100.0</td>\n",
       "    </tr>\n",
       "    <tr>\n",
       "      <th>...</th>\n",
       "      <td>...</td>\n",
       "      <td>...</td>\n",
       "      <td>...</td>\n",
       "    </tr>\n",
       "    <tr>\n",
       "      <th>62</th>\n",
       "      <td>c_BsmtFinSF1</td>\n",
       "      <td>0</td>\n",
       "      <td>100.0</td>\n",
       "    </tr>\n",
       "    <tr>\n",
       "      <th>63</th>\n",
       "      <td>v_BsmtFinType2</td>\n",
       "      <td>0</td>\n",
       "      <td>100.0</td>\n",
       "    </tr>\n",
       "    <tr>\n",
       "      <th>64</th>\n",
       "      <td>c_BsmtFinSF2</td>\n",
       "      <td>0</td>\n",
       "      <td>100.0</td>\n",
       "    </tr>\n",
       "    <tr>\n",
       "      <th>65</th>\n",
       "      <td>v_YearRemodAdd</td>\n",
       "      <td>0</td>\n",
       "      <td>100.0</td>\n",
       "    </tr>\n",
       "    <tr>\n",
       "      <th>66</th>\n",
       "      <td>tgt_SalePrice</td>\n",
       "      <td>0</td>\n",
       "      <td>100.0</td>\n",
       "    </tr>\n",
       "  </tbody>\n",
       "</table>\n",
       "<p>67 rows × 3 columns</p>\n",
       "</div>"
      ],
      "text/plain": [
       "           columna  total  completitud\n",
       "0     v_MSSubClass      0        100.0\n",
       "1     v_CentralAir      0        100.0\n",
       "2     v_Electrical      0        100.0\n",
       "3       c_1stFlrSF      0        100.0\n",
       "4       c_2ndFlrSF      0        100.0\n",
       "..             ...    ...          ...\n",
       "62    c_BsmtFinSF1      0        100.0\n",
       "63  v_BsmtFinType2      0        100.0\n",
       "64    c_BsmtFinSF2      0        100.0\n",
       "65  v_YearRemodAdd      0        100.0\n",
       "66   tgt_SalePrice      0        100.0\n",
       "\n",
       "[67 rows x 3 columns]"
      ]
     },
     "execution_count": 1032,
     "metadata": {},
     "output_type": "execute_result"
    }
   ],
   "source": [
    "completitud(X_train)"
   ]
  },
  {
   "cell_type": "markdown",
   "metadata": {},
   "source": [
    "### Filtro de baja varianza"
   ]
  },
  {
   "cell_type": "code",
   "execution_count": 1033,
   "metadata": {
    "ExecuteTime": {
     "end_time": "2021-08-21T16:50:27.269749Z",
     "start_time": "2021-08-21T16:50:27.159753Z"
    },
    "scrolled": true
   },
   "outputs": [
    {
     "data": {
      "text/html": [
       "<div>\n",
       "<style scoped>\n",
       "    .dataframe tbody tr th:only-of-type {\n",
       "        vertical-align: middle;\n",
       "    }\n",
       "\n",
       "    .dataframe tbody tr th {\n",
       "        vertical-align: top;\n",
       "    }\n",
       "\n",
       "    .dataframe thead th {\n",
       "        text-align: right;\n",
       "    }\n",
       "</style>\n",
       "<table border=\"1\" class=\"dataframe\">\n",
       "  <thead>\n",
       "    <tr style=\"text-align: right;\">\n",
       "      <th></th>\n",
       "      <th>c_LotFrontage</th>\n",
       "      <th>c_LotArea</th>\n",
       "      <th>c_MasVnrArea</th>\n",
       "      <th>c_BsmtFinSF1</th>\n",
       "      <th>c_BsmtFinSF2</th>\n",
       "      <th>c_BsmtUnfSF</th>\n",
       "      <th>c_TotalBsmtSF</th>\n",
       "      <th>c_1stFlrSF</th>\n",
       "      <th>c_2ndFlrSF</th>\n",
       "      <th>c_GrLivArea</th>\n",
       "      <th>c_BsmtFullBath</th>\n",
       "      <th>c_HalfBath</th>\n",
       "      <th>c_BedroomAbvGr</th>\n",
       "      <th>c_TotRmsAbvGrd</th>\n",
       "      <th>c_GarageCars</th>\n",
       "      <th>c_GarageArea</th>\n",
       "      <th>c_WoodDeckSF</th>\n",
       "      <th>c_OpenPorchSF</th>\n",
       "      <th>c_EnclosedPorch</th>\n",
       "      <th>c_3SsnPorch</th>\n",
       "      <th>c_ScreenPorch</th>\n",
       "      <th>c_PoolArea</th>\n",
       "      <th>c_MiscVal</th>\n",
       "    </tr>\n",
       "  </thead>\n",
       "  <tbody>\n",
       "    <tr>\n",
       "      <th>count</th>\n",
       "      <td>764.000000</td>\n",
       "      <td>764.000000</td>\n",
       "      <td>764.000000</td>\n",
       "      <td>764.000000</td>\n",
       "      <td>764.000000</td>\n",
       "      <td>764.000000</td>\n",
       "      <td>764.000000</td>\n",
       "      <td>764.000000</td>\n",
       "      <td>764.000000</td>\n",
       "      <td>764.000000</td>\n",
       "      <td>764.000000</td>\n",
       "      <td>764.000000</td>\n",
       "      <td>764.000000</td>\n",
       "      <td>764.000000</td>\n",
       "      <td>764.000000</td>\n",
       "      <td>764.000000</td>\n",
       "      <td>764.000000</td>\n",
       "      <td>764.000000</td>\n",
       "      <td>764.000000</td>\n",
       "      <td>764.000000</td>\n",
       "      <td>764.000000</td>\n",
       "      <td>764.000000</td>\n",
       "      <td>764.000000</td>\n",
       "    </tr>\n",
       "    <tr>\n",
       "      <th>mean</th>\n",
       "      <td>67.176702</td>\n",
       "      <td>8883.808901</td>\n",
       "      <td>68.327225</td>\n",
       "      <td>379.238220</td>\n",
       "      <td>34.332461</td>\n",
       "      <td>570.674084</td>\n",
       "      <td>984.244764</td>\n",
       "      <td>1081.092932</td>\n",
       "      <td>307.938482</td>\n",
       "      <td>1392.912304</td>\n",
       "      <td>0.353403</td>\n",
       "      <td>0.341623</td>\n",
       "      <td>2.786649</td>\n",
       "      <td>6.242147</td>\n",
       "      <td>1.701571</td>\n",
       "      <td>448.650524</td>\n",
       "      <td>73.500000</td>\n",
       "      <td>35.965969</td>\n",
       "      <td>23.725131</td>\n",
       "      <td>3.184555</td>\n",
       "      <td>9.882199</td>\n",
       "      <td>0.848168</td>\n",
       "      <td>10.829843</td>\n",
       "    </tr>\n",
       "    <tr>\n",
       "      <th>std</th>\n",
       "      <td>19.709793</td>\n",
       "      <td>3201.077710</td>\n",
       "      <td>126.503830</td>\n",
       "      <td>382.827808</td>\n",
       "      <td>127.638002</td>\n",
       "      <td>388.374483</td>\n",
       "      <td>341.000408</td>\n",
       "      <td>302.061437</td>\n",
       "      <td>384.412530</td>\n",
       "      <td>385.782314</td>\n",
       "      <td>0.478340</td>\n",
       "      <td>0.474565</td>\n",
       "      <td>0.649855</td>\n",
       "      <td>1.299361</td>\n",
       "      <td>0.675307</td>\n",
       "      <td>183.634737</td>\n",
       "      <td>103.034007</td>\n",
       "      <td>48.612992</td>\n",
       "      <td>60.199475</td>\n",
       "      <td>29.860554</td>\n",
       "      <td>40.852344</td>\n",
       "      <td>23.443817</td>\n",
       "      <td>96.142573</td>\n",
       "    </tr>\n",
       "    <tr>\n",
       "      <th>min</th>\n",
       "      <td>21.000000</td>\n",
       "      <td>1300.000000</td>\n",
       "      <td>0.000000</td>\n",
       "      <td>0.000000</td>\n",
       "      <td>0.000000</td>\n",
       "      <td>0.000000</td>\n",
       "      <td>0.000000</td>\n",
       "      <td>483.000000</td>\n",
       "      <td>0.000000</td>\n",
       "      <td>520.000000</td>\n",
       "      <td>0.000000</td>\n",
       "      <td>0.000000</td>\n",
       "      <td>1.000000</td>\n",
       "      <td>3.000000</td>\n",
       "      <td>0.000000</td>\n",
       "      <td>0.000000</td>\n",
       "      <td>0.000000</td>\n",
       "      <td>0.000000</td>\n",
       "      <td>0.000000</td>\n",
       "      <td>0.000000</td>\n",
       "      <td>0.000000</td>\n",
       "      <td>0.000000</td>\n",
       "      <td>0.000000</td>\n",
       "    </tr>\n",
       "    <tr>\n",
       "      <th>10%</th>\n",
       "      <td>43.000000</td>\n",
       "      <td>5000.000000</td>\n",
       "      <td>0.000000</td>\n",
       "      <td>0.000000</td>\n",
       "      <td>0.000000</td>\n",
       "      <td>108.000000</td>\n",
       "      <td>624.300000</td>\n",
       "      <td>756.000000</td>\n",
       "      <td>0.000000</td>\n",
       "      <td>910.600000</td>\n",
       "      <td>0.000000</td>\n",
       "      <td>0.000000</td>\n",
       "      <td>2.000000</td>\n",
       "      <td>5.000000</td>\n",
       "      <td>1.000000</td>\n",
       "      <td>240.000000</td>\n",
       "      <td>0.000000</td>\n",
       "      <td>0.000000</td>\n",
       "      <td>0.000000</td>\n",
       "      <td>0.000000</td>\n",
       "      <td>0.000000</td>\n",
       "      <td>0.000000</td>\n",
       "      <td>0.000000</td>\n",
       "    </tr>\n",
       "    <tr>\n",
       "      <th>20%</th>\n",
       "      <td>52.000000</td>\n",
       "      <td>6787.200000</td>\n",
       "      <td>0.000000</td>\n",
       "      <td>0.000000</td>\n",
       "      <td>0.000000</td>\n",
       "      <td>216.000000</td>\n",
       "      <td>735.000000</td>\n",
       "      <td>832.000000</td>\n",
       "      <td>0.000000</td>\n",
       "      <td>1040.600000</td>\n",
       "      <td>0.000000</td>\n",
       "      <td>0.000000</td>\n",
       "      <td>2.000000</td>\n",
       "      <td>5.000000</td>\n",
       "      <td>1.000000</td>\n",
       "      <td>288.000000</td>\n",
       "      <td>0.000000</td>\n",
       "      <td>0.000000</td>\n",
       "      <td>0.000000</td>\n",
       "      <td>0.000000</td>\n",
       "      <td>0.000000</td>\n",
       "      <td>0.000000</td>\n",
       "      <td>0.000000</td>\n",
       "    </tr>\n",
       "    <tr>\n",
       "      <th>30%</th>\n",
       "      <td>60.000000</td>\n",
       "      <td>7626.900000</td>\n",
       "      <td>0.000000</td>\n",
       "      <td>0.000000</td>\n",
       "      <td>0.000000</td>\n",
       "      <td>303.900000</td>\n",
       "      <td>815.900000</td>\n",
       "      <td>894.000000</td>\n",
       "      <td>0.000000</td>\n",
       "      <td>1141.900000</td>\n",
       "      <td>0.000000</td>\n",
       "      <td>0.000000</td>\n",
       "      <td>2.000000</td>\n",
       "      <td>6.000000</td>\n",
       "      <td>1.000000</td>\n",
       "      <td>352.000000</td>\n",
       "      <td>0.000000</td>\n",
       "      <td>0.000000</td>\n",
       "      <td>0.000000</td>\n",
       "      <td>0.000000</td>\n",
       "      <td>0.000000</td>\n",
       "      <td>0.000000</td>\n",
       "      <td>0.000000</td>\n",
       "    </tr>\n",
       "    <tr>\n",
       "      <th>40%</th>\n",
       "      <td>60.000000</td>\n",
       "      <td>8400.000000</td>\n",
       "      <td>0.000000</td>\n",
       "      <td>131.400000</td>\n",
       "      <td>0.000000</td>\n",
       "      <td>412.200000</td>\n",
       "      <td>874.400000</td>\n",
       "      <td>955.000000</td>\n",
       "      <td>0.000000</td>\n",
       "      <td>1247.200000</td>\n",
       "      <td>0.000000</td>\n",
       "      <td>0.000000</td>\n",
       "      <td>3.000000</td>\n",
       "      <td>6.000000</td>\n",
       "      <td>2.000000</td>\n",
       "      <td>420.000000</td>\n",
       "      <td>0.000000</td>\n",
       "      <td>0.000000</td>\n",
       "      <td>0.000000</td>\n",
       "      <td>0.000000</td>\n",
       "      <td>0.000000</td>\n",
       "      <td>0.000000</td>\n",
       "      <td>0.000000</td>\n",
       "    </tr>\n",
       "    <tr>\n",
       "      <th>50%</th>\n",
       "      <td>66.000000</td>\n",
       "      <td>8874.500000</td>\n",
       "      <td>0.000000</td>\n",
       "      <td>329.000000</td>\n",
       "      <td>0.000000</td>\n",
       "      <td>529.000000</td>\n",
       "      <td>936.000000</td>\n",
       "      <td>1038.500000</td>\n",
       "      <td>0.000000</td>\n",
       "      <td>1352.000000</td>\n",
       "      <td>0.000000</td>\n",
       "      <td>0.000000</td>\n",
       "      <td>3.000000</td>\n",
       "      <td>6.000000</td>\n",
       "      <td>2.000000</td>\n",
       "      <td>460.000000</td>\n",
       "      <td>0.000000</td>\n",
       "      <td>18.000000</td>\n",
       "      <td>0.000000</td>\n",
       "      <td>0.000000</td>\n",
       "      <td>0.000000</td>\n",
       "      <td>0.000000</td>\n",
       "      <td>0.000000</td>\n",
       "    </tr>\n",
       "    <tr>\n",
       "      <th>60%</th>\n",
       "      <td>70.000000</td>\n",
       "      <td>9524.000000</td>\n",
       "      <td>0.000000</td>\n",
       "      <td>464.800000</td>\n",
       "      <td>0.000000</td>\n",
       "      <td>638.000000</td>\n",
       "      <td>1026.000000</td>\n",
       "      <td>1102.200000</td>\n",
       "      <td>382.800000</td>\n",
       "      <td>1478.800000</td>\n",
       "      <td>0.000000</td>\n",
       "      <td>0.000000</td>\n",
       "      <td>3.000000</td>\n",
       "      <td>6.000000</td>\n",
       "      <td>2.000000</td>\n",
       "      <td>489.400000</td>\n",
       "      <td>49.000000</td>\n",
       "      <td>35.800000</td>\n",
       "      <td>0.000000</td>\n",
       "      <td>0.000000</td>\n",
       "      <td>0.000000</td>\n",
       "      <td>0.000000</td>\n",
       "      <td>0.000000</td>\n",
       "    </tr>\n",
       "    <tr>\n",
       "      <th>70%</th>\n",
       "      <td>75.000000</td>\n",
       "      <td>10171.400000</td>\n",
       "      <td>70.200000</td>\n",
       "      <td>600.200000</td>\n",
       "      <td>0.000000</td>\n",
       "      <td>744.200000</td>\n",
       "      <td>1117.300000</td>\n",
       "      <td>1208.200000</td>\n",
       "      <td>600.000000</td>\n",
       "      <td>1593.200000</td>\n",
       "      <td>1.000000</td>\n",
       "      <td>1.000000</td>\n",
       "      <td>3.000000</td>\n",
       "      <td>7.000000</td>\n",
       "      <td>2.000000</td>\n",
       "      <td>528.000000</td>\n",
       "      <td>120.000000</td>\n",
       "      <td>48.000000</td>\n",
       "      <td>0.000000</td>\n",
       "      <td>0.000000</td>\n",
       "      <td>0.000000</td>\n",
       "      <td>0.000000</td>\n",
       "      <td>0.000000</td>\n",
       "    </tr>\n",
       "    <tr>\n",
       "      <th>80%</th>\n",
       "      <td>80.000000</td>\n",
       "      <td>10896.400000</td>\n",
       "      <td>136.400000</td>\n",
       "      <td>721.600000</td>\n",
       "      <td>0.000000</td>\n",
       "      <td>876.000000</td>\n",
       "      <td>1256.800000</td>\n",
       "      <td>1336.400000</td>\n",
       "      <td>733.000000</td>\n",
       "      <td>1716.000000</td>\n",
       "      <td>1.000000</td>\n",
       "      <td>1.000000</td>\n",
       "      <td>3.000000</td>\n",
       "      <td>7.000000</td>\n",
       "      <td>2.000000</td>\n",
       "      <td>576.000000</td>\n",
       "      <td>168.000000</td>\n",
       "      <td>68.000000</td>\n",
       "      <td>0.000000</td>\n",
       "      <td>0.000000</td>\n",
       "      <td>0.000000</td>\n",
       "      <td>0.000000</td>\n",
       "      <td>0.000000</td>\n",
       "    </tr>\n",
       "    <tr>\n",
       "      <th>90%</th>\n",
       "      <td>88.000000</td>\n",
       "      <td>12252.400000</td>\n",
       "      <td>243.700000</td>\n",
       "      <td>921.400000</td>\n",
       "      <td>0.000000</td>\n",
       "      <td>1098.400000</td>\n",
       "      <td>1465.100000</td>\n",
       "      <td>1525.700000</td>\n",
       "      <td>866.000000</td>\n",
       "      <td>1910.100000</td>\n",
       "      <td>1.000000</td>\n",
       "      <td>1.000000</td>\n",
       "      <td>4.000000</td>\n",
       "      <td>8.000000</td>\n",
       "      <td>2.000000</td>\n",
       "      <td>672.000000</td>\n",
       "      <td>216.000000</td>\n",
       "      <td>104.700000</td>\n",
       "      <td>112.000000</td>\n",
       "      <td>0.000000</td>\n",
       "      <td>0.000000</td>\n",
       "      <td>0.000000</td>\n",
       "      <td>0.000000</td>\n",
       "    </tr>\n",
       "    <tr>\n",
       "      <th>100%</th>\n",
       "      <td>182.000000</td>\n",
       "      <td>31770.000000</td>\n",
       "      <td>894.000000</td>\n",
       "      <td>1513.000000</td>\n",
       "      <td>1127.000000</td>\n",
       "      <td>1836.000000</td>\n",
       "      <td>2110.000000</td>\n",
       "      <td>2158.000000</td>\n",
       "      <td>1370.000000</td>\n",
       "      <td>2727.000000</td>\n",
       "      <td>1.000000</td>\n",
       "      <td>1.000000</td>\n",
       "      <td>5.000000</td>\n",
       "      <td>11.000000</td>\n",
       "      <td>4.000000</td>\n",
       "      <td>1053.000000</td>\n",
       "      <td>635.000000</td>\n",
       "      <td>247.000000</td>\n",
       "      <td>330.000000</td>\n",
       "      <td>508.000000</td>\n",
       "      <td>291.000000</td>\n",
       "      <td>648.000000</td>\n",
       "      <td>2000.000000</td>\n",
       "    </tr>\n",
       "    <tr>\n",
       "      <th>max</th>\n",
       "      <td>182.000000</td>\n",
       "      <td>31770.000000</td>\n",
       "      <td>894.000000</td>\n",
       "      <td>1513.000000</td>\n",
       "      <td>1127.000000</td>\n",
       "      <td>1836.000000</td>\n",
       "      <td>2110.000000</td>\n",
       "      <td>2158.000000</td>\n",
       "      <td>1370.000000</td>\n",
       "      <td>2727.000000</td>\n",
       "      <td>1.000000</td>\n",
       "      <td>1.000000</td>\n",
       "      <td>5.000000</td>\n",
       "      <td>11.000000</td>\n",
       "      <td>4.000000</td>\n",
       "      <td>1053.000000</td>\n",
       "      <td>635.000000</td>\n",
       "      <td>247.000000</td>\n",
       "      <td>330.000000</td>\n",
       "      <td>508.000000</td>\n",
       "      <td>291.000000</td>\n",
       "      <td>648.000000</td>\n",
       "      <td>2000.000000</td>\n",
       "    </tr>\n",
       "  </tbody>\n",
       "</table>\n",
       "</div>"
      ],
      "text/plain": [
       "       c_LotFrontage     c_LotArea  c_MasVnrArea  c_BsmtFinSF1  c_BsmtFinSF2  \\\n",
       "count     764.000000    764.000000    764.000000    764.000000    764.000000   \n",
       "mean       67.176702   8883.808901     68.327225    379.238220     34.332461   \n",
       "std        19.709793   3201.077710    126.503830    382.827808    127.638002   \n",
       "min        21.000000   1300.000000      0.000000      0.000000      0.000000   \n",
       "10%        43.000000   5000.000000      0.000000      0.000000      0.000000   \n",
       "20%        52.000000   6787.200000      0.000000      0.000000      0.000000   \n",
       "30%        60.000000   7626.900000      0.000000      0.000000      0.000000   \n",
       "40%        60.000000   8400.000000      0.000000    131.400000      0.000000   \n",
       "50%        66.000000   8874.500000      0.000000    329.000000      0.000000   \n",
       "60%        70.000000   9524.000000      0.000000    464.800000      0.000000   \n",
       "70%        75.000000  10171.400000     70.200000    600.200000      0.000000   \n",
       "80%        80.000000  10896.400000    136.400000    721.600000      0.000000   \n",
       "90%        88.000000  12252.400000    243.700000    921.400000      0.000000   \n",
       "100%      182.000000  31770.000000    894.000000   1513.000000   1127.000000   \n",
       "max       182.000000  31770.000000    894.000000   1513.000000   1127.000000   \n",
       "\n",
       "       c_BsmtUnfSF  c_TotalBsmtSF   c_1stFlrSF   c_2ndFlrSF  c_GrLivArea  \\\n",
       "count   764.000000     764.000000   764.000000   764.000000   764.000000   \n",
       "mean    570.674084     984.244764  1081.092932   307.938482  1392.912304   \n",
       "std     388.374483     341.000408   302.061437   384.412530   385.782314   \n",
       "min       0.000000       0.000000   483.000000     0.000000   520.000000   \n",
       "10%     108.000000     624.300000   756.000000     0.000000   910.600000   \n",
       "20%     216.000000     735.000000   832.000000     0.000000  1040.600000   \n",
       "30%     303.900000     815.900000   894.000000     0.000000  1141.900000   \n",
       "40%     412.200000     874.400000   955.000000     0.000000  1247.200000   \n",
       "50%     529.000000     936.000000  1038.500000     0.000000  1352.000000   \n",
       "60%     638.000000    1026.000000  1102.200000   382.800000  1478.800000   \n",
       "70%     744.200000    1117.300000  1208.200000   600.000000  1593.200000   \n",
       "80%     876.000000    1256.800000  1336.400000   733.000000  1716.000000   \n",
       "90%    1098.400000    1465.100000  1525.700000   866.000000  1910.100000   \n",
       "100%   1836.000000    2110.000000  2158.000000  1370.000000  2727.000000   \n",
       "max    1836.000000    2110.000000  2158.000000  1370.000000  2727.000000   \n",
       "\n",
       "       c_BsmtFullBath  c_HalfBath  c_BedroomAbvGr  c_TotRmsAbvGrd  \\\n",
       "count      764.000000  764.000000      764.000000      764.000000   \n",
       "mean         0.353403    0.341623        2.786649        6.242147   \n",
       "std          0.478340    0.474565        0.649855        1.299361   \n",
       "min          0.000000    0.000000        1.000000        3.000000   \n",
       "10%          0.000000    0.000000        2.000000        5.000000   \n",
       "20%          0.000000    0.000000        2.000000        5.000000   \n",
       "30%          0.000000    0.000000        2.000000        6.000000   \n",
       "40%          0.000000    0.000000        3.000000        6.000000   \n",
       "50%          0.000000    0.000000        3.000000        6.000000   \n",
       "60%          0.000000    0.000000        3.000000        6.000000   \n",
       "70%          1.000000    1.000000        3.000000        7.000000   \n",
       "80%          1.000000    1.000000        3.000000        7.000000   \n",
       "90%          1.000000    1.000000        4.000000        8.000000   \n",
       "100%         1.000000    1.000000        5.000000       11.000000   \n",
       "max          1.000000    1.000000        5.000000       11.000000   \n",
       "\n",
       "       c_GarageCars  c_GarageArea  c_WoodDeckSF  c_OpenPorchSF  \\\n",
       "count    764.000000    764.000000    764.000000     764.000000   \n",
       "mean       1.701571    448.650524     73.500000      35.965969   \n",
       "std        0.675307    183.634737    103.034007      48.612992   \n",
       "min        0.000000      0.000000      0.000000       0.000000   \n",
       "10%        1.000000    240.000000      0.000000       0.000000   \n",
       "20%        1.000000    288.000000      0.000000       0.000000   \n",
       "30%        1.000000    352.000000      0.000000       0.000000   \n",
       "40%        2.000000    420.000000      0.000000       0.000000   \n",
       "50%        2.000000    460.000000      0.000000      18.000000   \n",
       "60%        2.000000    489.400000     49.000000      35.800000   \n",
       "70%        2.000000    528.000000    120.000000      48.000000   \n",
       "80%        2.000000    576.000000    168.000000      68.000000   \n",
       "90%        2.000000    672.000000    216.000000     104.700000   \n",
       "100%       4.000000   1053.000000    635.000000     247.000000   \n",
       "max        4.000000   1053.000000    635.000000     247.000000   \n",
       "\n",
       "       c_EnclosedPorch  c_3SsnPorch  c_ScreenPorch  c_PoolArea    c_MiscVal  \n",
       "count       764.000000   764.000000     764.000000  764.000000   764.000000  \n",
       "mean         23.725131     3.184555       9.882199    0.848168    10.829843  \n",
       "std          60.199475    29.860554      40.852344   23.443817    96.142573  \n",
       "min           0.000000     0.000000       0.000000    0.000000     0.000000  \n",
       "10%           0.000000     0.000000       0.000000    0.000000     0.000000  \n",
       "20%           0.000000     0.000000       0.000000    0.000000     0.000000  \n",
       "30%           0.000000     0.000000       0.000000    0.000000     0.000000  \n",
       "40%           0.000000     0.000000       0.000000    0.000000     0.000000  \n",
       "50%           0.000000     0.000000       0.000000    0.000000     0.000000  \n",
       "60%           0.000000     0.000000       0.000000    0.000000     0.000000  \n",
       "70%           0.000000     0.000000       0.000000    0.000000     0.000000  \n",
       "80%           0.000000     0.000000       0.000000    0.000000     0.000000  \n",
       "90%         112.000000     0.000000       0.000000    0.000000     0.000000  \n",
       "100%        330.000000   508.000000     291.000000  648.000000  2000.000000  \n",
       "max         330.000000   508.000000     291.000000  648.000000  2000.000000  "
      ]
     },
     "execution_count": 1033,
     "metadata": {},
     "output_type": "execute_result"
    }
   ],
   "source": [
    "X_train.filter(like=\"c_\").describe(percentiles=np.arange(0.1,1.1,.1))"
   ]
  },
  {
   "cell_type": "code",
   "execution_count": 1034,
   "metadata": {
    "ExecuteTime": {
     "end_time": "2021-08-21T16:53:25.930291Z",
     "start_time": "2021-08-21T16:53:25.908260Z"
    }
   },
   "outputs": [],
   "source": [
    "X_train.drop(columns=[\"c_BsmtFullBath\",\"c_PoolArea\"],inplace=True)\n",
    "X_test.drop(columns=[\"c_BsmtFullBath\",\"c_PoolArea\"],inplace=True)"
   ]
  },
  {
   "cell_type": "code",
   "execution_count": 1035,
   "metadata": {
    "ExecuteTime": {
     "end_time": "2021-08-21T16:54:12.387653Z",
     "start_time": "2021-08-21T16:54:12.378656Z"
    }
   },
   "outputs": [],
   "source": [
    "X_train.drop(columns=[\"c_MasVnrArea\"],inplace=True)\n",
    "X_test.drop(columns=[\"c_MasVnrArea\"],inplace=True)"
   ]
  },
  {
   "cell_type": "code",
   "execution_count": null,
   "metadata": {},
   "outputs": [],
   "source": []
  },
  {
   "cell_type": "markdown",
   "metadata": {},
   "source": [
    "### Filtro de alta correlación"
   ]
  },
  {
   "cell_type": "markdown",
   "metadata": {},
   "source": [
    "- La Correlación se utiliza para probar las relaciones entre variables cuantitativas o variables categóricas. En otras palabras, es una medida de cómo se relacionan las cosas. El estudio de cómo se correlacionan las variables se denomina análisis de correlación.\n",
    "- Un coeficiente de correlación proporciona un resumen numérico del grado de asociación entre dos variables.\n",
    "- Tipos:\n",
    "- **Correlación r de Pearson: la correlación r de Pearson es el estadístico de correlación más utilizado para medir el grado de relación entre variables relacionadas linealmente. Por ejemplo, en el mercado de valores, si queremos medir cómo se relacionan dos acciones entre sí, se utiliza la correlación r de Pearson para medir el grado de relación entre las dos. La correlación punto-biserial se realiza con la fórmula de correlación de Pearson excepto que una de las variables es dicotómica.**\n",
    "- **Correlación de rango de Kendall: la correlación de rango de Kendall es una prueba no paramétrica que mide la fuerza de la dependencia entre dos variables. Si consideramos dos muestras, ayb, donde cada tamaño de muestra es n, sabemos que el número total de emparejamientos con a b es n (n-1) / 2.**\n",
    "- **Correlación de rango de Spearman: la correlación de rango de Spearman es una prueba no paramétrica que se utiliza para medir el grado de asociación entre dos variables. La prueba de correlación de rango de Spearman no conlleva ninguna suposición sobre la distribución de los datos y es el análisis de correlación apropiado cuando las variables se miden en una escala que es al menos ordinal.**"
   ]
  },
  {
   "cell_type": "markdown",
   "metadata": {},
   "source": [
    "https://www.google.com/url?sa=i&url=https%3A%2F%2Fmedium.com%2F%40outside2SDs%2Fan-overview-of-correlation-measures-between-categorical-and-continuous-variables-4c7f85610365&psig=AOvVaw3KaiD8_vD816QPDiI7Uz8s&ust=1622782900559000&source=images&cd=vfe&ved=0CAIQjRxqFwoTCIjvg8fX-vACFQAAAAAdAAAAABAD"
   ]
  },
  {
   "cell_type": "code",
   "execution_count": 1036,
   "metadata": {
    "ExecuteTime": {
     "end_time": "2021-08-21T17:11:29.577696Z",
     "start_time": "2021-08-21T17:11:29.521698Z"
    },
    "scrolled": false
   },
   "outputs": [
    {
     "data": {
      "application/vnd.plotly.v1+json": {
       "config": {
        "linkText": "Export to plot.ly",
        "plotlyServerURL": "https://plot.ly",
        "showLink": true
       },
       "data": [
        {
         "colorscale": [
          [
           0,
           "rgb(255,247,236)"
          ],
          [
           0.125,
           "rgb(254,232,200)"
          ],
          [
           0.25,
           "rgb(253,212,158)"
          ],
          [
           0.375,
           "rgb(253,187,132)"
          ],
          [
           0.5,
           "rgb(252,141,89)"
          ],
          [
           0.625,
           "rgb(239,101,72)"
          ],
          [
           0.75,
           "rgb(215,48,31)"
          ],
          [
           0.875,
           "rgb(179,0,0)"
          ],
          [
           1,
           "rgb(127,0,0)"
          ]
         ],
         "type": "heatmap",
         "x": [
          "c_LotFrontage",
          "c_LotArea",
          "c_BsmtFinSF1",
          "c_BsmtFinSF2",
          "c_BsmtUnfSF",
          "c_TotalBsmtSF",
          "c_1stFlrSF",
          "c_2ndFlrSF",
          "c_GrLivArea",
          "c_HalfBath",
          "c_BedroomAbvGr",
          "c_TotRmsAbvGrd",
          "c_GarageCars",
          "c_GarageArea",
          "c_WoodDeckSF",
          "c_OpenPorchSF",
          "c_EnclosedPorch",
          "c_3SsnPorch",
          "c_ScreenPorch",
          "c_MiscVal"
         ],
         "y": [
          "c_LotFrontage",
          "c_LotArea",
          "c_BsmtFinSF1",
          "c_BsmtFinSF2",
          "c_BsmtUnfSF",
          "c_TotalBsmtSF",
          "c_1stFlrSF",
          "c_2ndFlrSF",
          "c_GrLivArea",
          "c_HalfBath",
          "c_BedroomAbvGr",
          "c_TotRmsAbvGrd",
          "c_GarageCars",
          "c_GarageArea",
          "c_WoodDeckSF",
          "c_OpenPorchSF",
          "c_EnclosedPorch",
          "c_3SsnPorch",
          "c_ScreenPorch",
          "c_MiscVal"
         ],
         "z": [
          [
           1,
           0.6511062231146368,
           0.17922483486920457,
           0.09576928464202553,
           0.03128149532718623,
           0.3433567425493085,
           0.3819573387713446,
           -0.012712690838602611,
           0.2805094366328047,
           0.060432038582161736,
           0.313969753369199,
           0.2961599392066281,
           0.2521286969259245,
           0.29391518332522804,
           0.048339398092009794,
           0.09888217383840939,
           -0.13134239429329297,
           0.07048865433055242,
           0.06643729713428112,
           0.0010031531656518329
          ],
          [
           0.6511062231146368,
           1,
           0.10628597190535467,
           0.023384789003967222,
           0.08815808808781285,
           0.2810375178444615,
           0.3370785896184804,
           0.0871312881452911,
           0.35602583511196,
           0.11436826220053398,
           0.33412330513908317,
           0.36661110150611625,
           0.2488015073774713,
           0.28096030453948045,
           0.11045131340721942,
           0.11932544987405118,
           -0.08350558384306972,
           0.06307332227463083,
           0.07815920891912538,
           0.041344024339604525
          ],
          [
           0.17922483486920457,
           0.10628597190535467,
           1,
           0.07202387107282848,
           -0.616344549099751,
           0.42239027193860984,
           0.3439670175007011,
           -0.27181099192878794,
           -0.008944753064763306,
           -0.09885771699805396,
           -0.058535913308345844,
           -0.06914607964809147,
           0.10341471183553635,
           0.1833761326643688,
           0.15060391548734212,
           0.0443343573003941,
           -0.1918959522495421,
           0.039010608997929755,
           0.10205833862537343,
           -0.031493769237752774
          ],
          [
           0.09576928464202553,
           0.023384789003967222,
           0.07202387107282848,
           1,
           -0.31053322356019863,
           0.0489316604491137,
           0.03696993681935983,
           -0.1278805782757276,
           -0.10922801385572027,
           -0.039677750322928335,
           0.0491124432987285,
           -0.08864431667897466,
           -0.10775239948725346,
           -0.034720163717082024,
           0.06181004811713941,
           -0.12100270664543483,
           0.03840678409018545,
           -0.0073569880548323965,
           -0.004438223299690165,
           0.015938424884728575
          ],
          [
           0.03128149532718623,
           0.08815808808781285,
           -0.616344549099751,
           -0.31053322356019863,
           1,
           0.3044197364114741,
           0.18718581469955747,
           0.08198032873234042,
           0.263851382004036,
           0.008635512243151906,
           0.10360870390849239,
           0.22361801537888726,
           0.16376598865853384,
           0.09413746577611114,
           -0.029887977258907687,
           0.1536947907075956,
           0.0696532888584831,
           0.06882860196014175,
           -0.02705359730863575,
           -0.041428585284988426
          ],
          [
           0.3433567425493085,
           0.2810375178444615,
           0.42239027193860984,
           0.0489316604491137,
           0.3044197364114741,
           1,
           0.817904770697284,
           -0.39815466018322226,
           0.2555379893678099,
           -0.19463967987292732,
           0.051694713442437375,
           0.15042838343287318,
           0.3610279351739105,
           0.3929742831033454,
           0.19903826841881353,
           0.22098953814721622,
           -0.21068225327330814,
           0.10013093038033069,
           0.08262896707437829,
           -0.09237233738456645
          ],
          [
           0.3819573387713446,
           0.3370785896184804,
           0.3439670175007011,
           0.03696993681935983,
           0.18718581469955747,
           0.817904770697284,
           1,
           -0.41300160063342856,
           0.35446169349737694,
           -0.2435485415204427,
           0.0913220827406841,
           0.256719705603942,
           0.36037860550735684,
           0.40035562324614726,
           0.16870114883058573,
           0.18028900436239112,
           -0.1580113366920531,
           0.0737033365644694,
           0.11211577280055206,
           -0.03273279915710252
          ],
          [
           -0.012712690838602611,
           0.0871312881452911,
           -0.27181099192878794,
           -0.1278805782757276,
           0.08198032873234042,
           -0.39815466018322226,
           -0.41300160063342856,
           1,
           0.656231607353901,
           0.628896186056878,
           0.4468811107250622,
           0.5688524871877503,
           0.1311161771819981,
           0.0587529390867887,
           0.026089838955929555,
           0.20510990072086224,
           0.05474783008874048,
           -0.040682857076798126,
           -0.02352207094373166,
           -0.06097294972778831
          ],
          [
           0.2805094366328047,
           0.35602583511196,
           -0.008944753064763306,
           -0.10922801385572027,
           0.263851382004036,
           0.2555379893678099,
           0.35446169349737694,
           0.656231607353901,
           1,
           0.4403366362880337,
           0.5197188776821938,
           0.8086790930605604,
           0.45650235036960557,
           0.39715239494744864,
           0.1822052484724354,
           0.3679278592638165,
           -0.06920731774123723,
           0.024689777488585165,
           0.07138125172327725,
           -0.09853792565143761
          ],
          [
           0.060432038582161736,
           0.11436826220053398,
           -0.09885771699805396,
           -0.039677750322928335,
           0.008635512243151906,
           -0.19463967987292732,
           -0.2435485415204427,
           0.628896186056878,
           0.4403366362880337,
           1,
           0.2951377112471954,
           0.35984854797715715,
           0.17332281174002565,
           0.09946318961845461,
           0.0824503399607492,
           0.26130540729598367,
           -0.13047174956458976,
           -0.0022370154491674673,
           0.010186516685184745,
           -0.06251368024974115
          ],
          [
           0.313969753369199,
           0.33412330513908317,
           -0.058535913308345844,
           0.0491124432987285,
           0.10360870390849239,
           0.051694713442437375,
           0.0913220827406841,
           0.4468811107250622,
           0.5197188776821938,
           0.2951377112471954,
           1,
           0.6264147828761348,
           0.12324785927719799,
           0.10751219383451224,
           0.03192243671014734,
           0.07539561533827119,
           -0.018826249051236824,
           0.0134228407295994,
           0.05491249452505436,
           -0.041724357513586746
          ],
          [
           0.2961599392066281,
           0.36661110150611625,
           -0.06914607964809147,
           -0.08864431667897466,
           0.22361801537888726,
           0.15042838343287318,
           0.256719705603942,
           0.5688524871877503,
           0.8086790930605604,
           0.35984854797715715,
           0.6264147828761348,
           1,
           0.33131674092299873,
           0.26330045272676134,
           0.14583785674146568,
           0.24666113497232084,
           -0.03369668526034184,
           -0.005162395529572783,
           0.014164789673799768,
           -0.03218257806095641
          ],
          [
           0.2521286969259245,
           0.2488015073774713,
           0.10341471183553635,
           -0.10775239948725346,
           0.16376598865853384,
           0.3610279351739105,
           0.36037860550735684,
           0.1311161771819981,
           0.45650235036960557,
           0.17332281174002565,
           0.12324785927719799,
           0.33131674092299873,
           1,
           0.8281625726235805,
           0.2263552193752963,
           0.34240563676961316,
           -0.25625369811548526,
           0.04679126886905178,
           0.01528882021457522,
           -0.01496418982420737
          ],
          [
           0.29391518332522804,
           0.28096030453948045,
           0.1833761326643688,
           -0.034720163717082024,
           0.09413746577611114,
           0.3929742831033454,
           0.40035562324614726,
           0.0587529390867887,
           0.39715239494744864,
           0.09946318961845461,
           0.10751219383451224,
           0.26330045272676134,
           0.8281625726235805,
           1,
           0.20944975066082516,
           0.3347156011590167,
           -0.24211150940513307,
           0.0465872943750308,
           0.026054927008732905,
           0.021337789843587848
          ],
          [
           0.048339398092009794,
           0.11045131340721942,
           0.15060391548734212,
           0.06181004811713941,
           -0.029887977258907687,
           0.19903826841881353,
           0.16870114883058573,
           0.026089838955929555,
           0.1822052484724354,
           0.0824503399607492,
           0.03192243671014734,
           0.14583785674146568,
           0.2263552193752963,
           0.20944975066082516,
           1,
           0.10867101202552962,
           -0.15896001396010537,
           -0.06233410913631466,
           -0.10654152353245236,
           0.007567933985598332
          ],
          [
           0.09888217383840939,
           0.11932544987405118,
           0.0443343573003941,
           -0.12100270664543483,
           0.1536947907075956,
           0.22098953814721622,
           0.18028900436239112,
           0.20510990072086224,
           0.3679278592638165,
           0.26130540729598367,
           0.07539561533827119,
           0.24666113497232084,
           0.34240563676961316,
           0.3347156011590167,
           0.10867101202552962,
           1,
           -0.23034958169718847,
           -0.005985379867945856,
           -0.03115210059663536,
           -0.08607505995940112
          ],
          [
           -0.13134239429329297,
           -0.08350558384306972,
           -0.1918959522495421,
           0.03840678409018545,
           0.0696532888584831,
           -0.21068225327330814,
           -0.1580113366920531,
           0.05474783008874048,
           -0.06920731774123723,
           -0.13047174956458976,
           -0.018826249051236824,
           -0.03369668526034184,
           -0.25625369811548526,
           -0.24211150940513307,
           -0.15896001396010537,
           -0.23034958169718847,
           1,
           -0.030337159412749556,
           -0.06974742669002774,
           0.011620990422357959
          ],
          [
           0.07048865433055242,
           0.06307332227463083,
           0.039010608997929755,
           -0.0073569880548323965,
           0.06882860196014175,
           0.10013093038033069,
           0.0737033365644694,
           -0.040682857076798126,
           0.024689777488585165,
           -0.0022370154491674673,
           0.0134228407295994,
           -0.005162395529572783,
           0.04679126886905178,
           0.0465872943750308,
           -0.06233410913631466,
           -0.005985379867945856,
           -0.030337159412749556,
           1,
           -0.03231929373115057,
           -0.01787483998631498
          ],
          [
           0.06643729713428112,
           0.07815920891912538,
           0.10205833862537343,
           -0.004438223299690165,
           -0.02705359730863575,
           0.08262896707437829,
           0.11211577280055206,
           -0.02352207094373166,
           0.07138125172327725,
           0.010186516685184745,
           0.05491249452505436,
           0.014164789673799768,
           0.01528882021457522,
           0.026054927008732905,
           -0.10654152353245236,
           -0.03115210059663536,
           -0.06974742669002774,
           -0.03231929373115057,
           1,
           0.0020347285027728546
          ],
          [
           0.0010031531656518329,
           0.041344024339604525,
           -0.031493769237752774,
           0.015938424884728575,
           -0.041428585284988426,
           -0.09237233738456645,
           -0.03273279915710252,
           -0.06097294972778831,
           -0.09853792565143761,
           -0.06251368024974115,
           -0.041724357513586746,
           -0.03218257806095641,
           -0.01496418982420737,
           0.021337789843587848,
           0.007567933985598332,
           -0.08607505995940112,
           0.011620990422357959,
           -0.01787483998631498,
           0.0020347285027728546,
           1
          ]
         ],
         "zmax": 1,
         "zmin": -0.616344549099751
        }
       ],
       "layout": {
        "legend": {
         "bgcolor": "#F5F6F9",
         "font": {
          "color": "#4D5663"
         }
        },
        "paper_bgcolor": "#F5F6F9",
        "plot_bgcolor": "#F5F6F9",
        "template": {
         "data": {
          "bar": [
           {
            "error_x": {
             "color": "#2a3f5f"
            },
            "error_y": {
             "color": "#2a3f5f"
            },
            "marker": {
             "line": {
              "color": "#E5ECF6",
              "width": 0.5
             }
            },
            "type": "bar"
           }
          ],
          "barpolar": [
           {
            "marker": {
             "line": {
              "color": "#E5ECF6",
              "width": 0.5
             }
            },
            "type": "barpolar"
           }
          ],
          "carpet": [
           {
            "aaxis": {
             "endlinecolor": "#2a3f5f",
             "gridcolor": "white",
             "linecolor": "white",
             "minorgridcolor": "white",
             "startlinecolor": "#2a3f5f"
            },
            "baxis": {
             "endlinecolor": "#2a3f5f",
             "gridcolor": "white",
             "linecolor": "white",
             "minorgridcolor": "white",
             "startlinecolor": "#2a3f5f"
            },
            "type": "carpet"
           }
          ],
          "choropleth": [
           {
            "colorbar": {
             "outlinewidth": 0,
             "ticks": ""
            },
            "type": "choropleth"
           }
          ],
          "contour": [
           {
            "colorbar": {
             "outlinewidth": 0,
             "ticks": ""
            },
            "colorscale": [
             [
              0,
              "#0d0887"
             ],
             [
              0.1111111111111111,
              "#46039f"
             ],
             [
              0.2222222222222222,
              "#7201a8"
             ],
             [
              0.3333333333333333,
              "#9c179e"
             ],
             [
              0.4444444444444444,
              "#bd3786"
             ],
             [
              0.5555555555555556,
              "#d8576b"
             ],
             [
              0.6666666666666666,
              "#ed7953"
             ],
             [
              0.7777777777777778,
              "#fb9f3a"
             ],
             [
              0.8888888888888888,
              "#fdca26"
             ],
             [
              1,
              "#f0f921"
             ]
            ],
            "type": "contour"
           }
          ],
          "contourcarpet": [
           {
            "colorbar": {
             "outlinewidth": 0,
             "ticks": ""
            },
            "type": "contourcarpet"
           }
          ],
          "heatmap": [
           {
            "colorbar": {
             "outlinewidth": 0,
             "ticks": ""
            },
            "colorscale": [
             [
              0,
              "#0d0887"
             ],
             [
              0.1111111111111111,
              "#46039f"
             ],
             [
              0.2222222222222222,
              "#7201a8"
             ],
             [
              0.3333333333333333,
              "#9c179e"
             ],
             [
              0.4444444444444444,
              "#bd3786"
             ],
             [
              0.5555555555555556,
              "#d8576b"
             ],
             [
              0.6666666666666666,
              "#ed7953"
             ],
             [
              0.7777777777777778,
              "#fb9f3a"
             ],
             [
              0.8888888888888888,
              "#fdca26"
             ],
             [
              1,
              "#f0f921"
             ]
            ],
            "type": "heatmap"
           }
          ],
          "heatmapgl": [
           {
            "colorbar": {
             "outlinewidth": 0,
             "ticks": ""
            },
            "colorscale": [
             [
              0,
              "#0d0887"
             ],
             [
              0.1111111111111111,
              "#46039f"
             ],
             [
              0.2222222222222222,
              "#7201a8"
             ],
             [
              0.3333333333333333,
              "#9c179e"
             ],
             [
              0.4444444444444444,
              "#bd3786"
             ],
             [
              0.5555555555555556,
              "#d8576b"
             ],
             [
              0.6666666666666666,
              "#ed7953"
             ],
             [
              0.7777777777777778,
              "#fb9f3a"
             ],
             [
              0.8888888888888888,
              "#fdca26"
             ],
             [
              1,
              "#f0f921"
             ]
            ],
            "type": "heatmapgl"
           }
          ],
          "histogram": [
           {
            "marker": {
             "colorbar": {
              "outlinewidth": 0,
              "ticks": ""
             }
            },
            "type": "histogram"
           }
          ],
          "histogram2d": [
           {
            "colorbar": {
             "outlinewidth": 0,
             "ticks": ""
            },
            "colorscale": [
             [
              0,
              "#0d0887"
             ],
             [
              0.1111111111111111,
              "#46039f"
             ],
             [
              0.2222222222222222,
              "#7201a8"
             ],
             [
              0.3333333333333333,
              "#9c179e"
             ],
             [
              0.4444444444444444,
              "#bd3786"
             ],
             [
              0.5555555555555556,
              "#d8576b"
             ],
             [
              0.6666666666666666,
              "#ed7953"
             ],
             [
              0.7777777777777778,
              "#fb9f3a"
             ],
             [
              0.8888888888888888,
              "#fdca26"
             ],
             [
              1,
              "#f0f921"
             ]
            ],
            "type": "histogram2d"
           }
          ],
          "histogram2dcontour": [
           {
            "colorbar": {
             "outlinewidth": 0,
             "ticks": ""
            },
            "colorscale": [
             [
              0,
              "#0d0887"
             ],
             [
              0.1111111111111111,
              "#46039f"
             ],
             [
              0.2222222222222222,
              "#7201a8"
             ],
             [
              0.3333333333333333,
              "#9c179e"
             ],
             [
              0.4444444444444444,
              "#bd3786"
             ],
             [
              0.5555555555555556,
              "#d8576b"
             ],
             [
              0.6666666666666666,
              "#ed7953"
             ],
             [
              0.7777777777777778,
              "#fb9f3a"
             ],
             [
              0.8888888888888888,
              "#fdca26"
             ],
             [
              1,
              "#f0f921"
             ]
            ],
            "type": "histogram2dcontour"
           }
          ],
          "mesh3d": [
           {
            "colorbar": {
             "outlinewidth": 0,
             "ticks": ""
            },
            "type": "mesh3d"
           }
          ],
          "parcoords": [
           {
            "line": {
             "colorbar": {
              "outlinewidth": 0,
              "ticks": ""
             }
            },
            "type": "parcoords"
           }
          ],
          "pie": [
           {
            "automargin": true,
            "type": "pie"
           }
          ],
          "scatter": [
           {
            "marker": {
             "colorbar": {
              "outlinewidth": 0,
              "ticks": ""
             }
            },
            "type": "scatter"
           }
          ],
          "scatter3d": [
           {
            "line": {
             "colorbar": {
              "outlinewidth": 0,
              "ticks": ""
             }
            },
            "marker": {
             "colorbar": {
              "outlinewidth": 0,
              "ticks": ""
             }
            },
            "type": "scatter3d"
           }
          ],
          "scattercarpet": [
           {
            "marker": {
             "colorbar": {
              "outlinewidth": 0,
              "ticks": ""
             }
            },
            "type": "scattercarpet"
           }
          ],
          "scattergeo": [
           {
            "marker": {
             "colorbar": {
              "outlinewidth": 0,
              "ticks": ""
             }
            },
            "type": "scattergeo"
           }
          ],
          "scattergl": [
           {
            "marker": {
             "colorbar": {
              "outlinewidth": 0,
              "ticks": ""
             }
            },
            "type": "scattergl"
           }
          ],
          "scattermapbox": [
           {
            "marker": {
             "colorbar": {
              "outlinewidth": 0,
              "ticks": ""
             }
            },
            "type": "scattermapbox"
           }
          ],
          "scatterpolar": [
           {
            "marker": {
             "colorbar": {
              "outlinewidth": 0,
              "ticks": ""
             }
            },
            "type": "scatterpolar"
           }
          ],
          "scatterpolargl": [
           {
            "marker": {
             "colorbar": {
              "outlinewidth": 0,
              "ticks": ""
             }
            },
            "type": "scatterpolargl"
           }
          ],
          "scatterternary": [
           {
            "marker": {
             "colorbar": {
              "outlinewidth": 0,
              "ticks": ""
             }
            },
            "type": "scatterternary"
           }
          ],
          "surface": [
           {
            "colorbar": {
             "outlinewidth": 0,
             "ticks": ""
            },
            "colorscale": [
             [
              0,
              "#0d0887"
             ],
             [
              0.1111111111111111,
              "#46039f"
             ],
             [
              0.2222222222222222,
              "#7201a8"
             ],
             [
              0.3333333333333333,
              "#9c179e"
             ],
             [
              0.4444444444444444,
              "#bd3786"
             ],
             [
              0.5555555555555556,
              "#d8576b"
             ],
             [
              0.6666666666666666,
              "#ed7953"
             ],
             [
              0.7777777777777778,
              "#fb9f3a"
             ],
             [
              0.8888888888888888,
              "#fdca26"
             ],
             [
              1,
              "#f0f921"
             ]
            ],
            "type": "surface"
           }
          ],
          "table": [
           {
            "cells": {
             "fill": {
              "color": "#EBF0F8"
             },
             "line": {
              "color": "white"
             }
            },
            "header": {
             "fill": {
              "color": "#C8D4E3"
             },
             "line": {
              "color": "white"
             }
            },
            "type": "table"
           }
          ]
         },
         "layout": {
          "annotationdefaults": {
           "arrowcolor": "#2a3f5f",
           "arrowhead": 0,
           "arrowwidth": 1
          },
          "autotypenumbers": "strict",
          "coloraxis": {
           "colorbar": {
            "outlinewidth": 0,
            "ticks": ""
           }
          },
          "colorscale": {
           "diverging": [
            [
             0,
             "#8e0152"
            ],
            [
             0.1,
             "#c51b7d"
            ],
            [
             0.2,
             "#de77ae"
            ],
            [
             0.3,
             "#f1b6da"
            ],
            [
             0.4,
             "#fde0ef"
            ],
            [
             0.5,
             "#f7f7f7"
            ],
            [
             0.6,
             "#e6f5d0"
            ],
            [
             0.7,
             "#b8e186"
            ],
            [
             0.8,
             "#7fbc41"
            ],
            [
             0.9,
             "#4d9221"
            ],
            [
             1,
             "#276419"
            ]
           ],
           "sequential": [
            [
             0,
             "#0d0887"
            ],
            [
             0.1111111111111111,
             "#46039f"
            ],
            [
             0.2222222222222222,
             "#7201a8"
            ],
            [
             0.3333333333333333,
             "#9c179e"
            ],
            [
             0.4444444444444444,
             "#bd3786"
            ],
            [
             0.5555555555555556,
             "#d8576b"
            ],
            [
             0.6666666666666666,
             "#ed7953"
            ],
            [
             0.7777777777777778,
             "#fb9f3a"
            ],
            [
             0.8888888888888888,
             "#fdca26"
            ],
            [
             1,
             "#f0f921"
            ]
           ],
           "sequentialminus": [
            [
             0,
             "#0d0887"
            ],
            [
             0.1111111111111111,
             "#46039f"
            ],
            [
             0.2222222222222222,
             "#7201a8"
            ],
            [
             0.3333333333333333,
             "#9c179e"
            ],
            [
             0.4444444444444444,
             "#bd3786"
            ],
            [
             0.5555555555555556,
             "#d8576b"
            ],
            [
             0.6666666666666666,
             "#ed7953"
            ],
            [
             0.7777777777777778,
             "#fb9f3a"
            ],
            [
             0.8888888888888888,
             "#fdca26"
            ],
            [
             1,
             "#f0f921"
            ]
           ]
          },
          "colorway": [
           "#636efa",
           "#EF553B",
           "#00cc96",
           "#ab63fa",
           "#FFA15A",
           "#19d3f3",
           "#FF6692",
           "#B6E880",
           "#FF97FF",
           "#FECB52"
          ],
          "font": {
           "color": "#2a3f5f"
          },
          "geo": {
           "bgcolor": "white",
           "lakecolor": "white",
           "landcolor": "#E5ECF6",
           "showlakes": true,
           "showland": true,
           "subunitcolor": "white"
          },
          "hoverlabel": {
           "align": "left"
          },
          "hovermode": "closest",
          "mapbox": {
           "style": "light"
          },
          "paper_bgcolor": "white",
          "plot_bgcolor": "#E5ECF6",
          "polar": {
           "angularaxis": {
            "gridcolor": "white",
            "linecolor": "white",
            "ticks": ""
           },
           "bgcolor": "#E5ECF6",
           "radialaxis": {
            "gridcolor": "white",
            "linecolor": "white",
            "ticks": ""
           }
          },
          "scene": {
           "xaxis": {
            "backgroundcolor": "#E5ECF6",
            "gridcolor": "white",
            "gridwidth": 2,
            "linecolor": "white",
            "showbackground": true,
            "ticks": "",
            "zerolinecolor": "white"
           },
           "yaxis": {
            "backgroundcolor": "#E5ECF6",
            "gridcolor": "white",
            "gridwidth": 2,
            "linecolor": "white",
            "showbackground": true,
            "ticks": "",
            "zerolinecolor": "white"
           },
           "zaxis": {
            "backgroundcolor": "#E5ECF6",
            "gridcolor": "white",
            "gridwidth": 2,
            "linecolor": "white",
            "showbackground": true,
            "ticks": "",
            "zerolinecolor": "white"
           }
          },
          "shapedefaults": {
           "line": {
            "color": "#2a3f5f"
           }
          },
          "ternary": {
           "aaxis": {
            "gridcolor": "white",
            "linecolor": "white",
            "ticks": ""
           },
           "baxis": {
            "gridcolor": "white",
            "linecolor": "white",
            "ticks": ""
           },
           "bgcolor": "#E5ECF6",
           "caxis": {
            "gridcolor": "white",
            "linecolor": "white",
            "ticks": ""
           }
          },
          "title": {
           "x": 0.05
          },
          "xaxis": {
           "automargin": true,
           "gridcolor": "white",
           "linecolor": "white",
           "ticks": "",
           "title": {
            "standoff": 15
           },
           "zerolinecolor": "white",
           "zerolinewidth": 2
          },
          "yaxis": {
           "automargin": true,
           "gridcolor": "white",
           "linecolor": "white",
           "ticks": "",
           "title": {
            "standoff": 15
           },
           "zerolinecolor": "white",
           "zerolinewidth": 2
          }
         }
        },
        "title": {
         "font": {
          "color": "#4D5663"
         },
         "text": "Matriz de Correlación"
        },
        "xaxis": {
         "gridcolor": "#E1E5ED",
         "showgrid": true,
         "tickfont": {
          "color": "#4D5663"
         },
         "title": {
          "font": {
           "color": "#4D5663"
          },
          "text": ""
         },
         "zerolinecolor": "#E1E5ED"
        },
        "yaxis": {
         "gridcolor": "#E1E5ED",
         "showgrid": true,
         "tickfont": {
          "color": "#4D5663"
         },
         "title": {
          "font": {
           "color": "#4D5663"
          },
          "text": ""
         },
         "zerolinecolor": "#E1E5ED"
        }
       }
      },
      "text/html": [
       "<div>                            <div id=\"a0c24962-5614-4efe-b7d5-ec63c7b5f2bf\" class=\"plotly-graph-div\" style=\"height:525px; width:100%;\"></div>            <script type=\"text/javascript\">                require([\"plotly\"], function(Plotly) {                    window.PLOTLYENV=window.PLOTLYENV || {};\n",
       "                    window.PLOTLYENV.BASE_URL='https://plot.ly';                                    if (document.getElementById(\"a0c24962-5614-4efe-b7d5-ec63c7b5f2bf\")) {                    Plotly.newPlot(                        \"a0c24962-5614-4efe-b7d5-ec63c7b5f2bf\",                        [{\"colorscale\": [[0.0, \"rgb(255,247,236)\"], [0.125, \"rgb(254,232,200)\"], [0.25, \"rgb(253,212,158)\"], [0.375, \"rgb(253,187,132)\"], [0.5, \"rgb(252,141,89)\"], [0.625, \"rgb(239,101,72)\"], [0.75, \"rgb(215,48,31)\"], [0.875, \"rgb(179,0,0)\"], [1.0, \"rgb(127,0,0)\"]], \"type\": \"heatmap\", \"x\": [\"c_LotFrontage\", \"c_LotArea\", \"c_BsmtFinSF1\", \"c_BsmtFinSF2\", \"c_BsmtUnfSF\", \"c_TotalBsmtSF\", \"c_1stFlrSF\", \"c_2ndFlrSF\", \"c_GrLivArea\", \"c_HalfBath\", \"c_BedroomAbvGr\", \"c_TotRmsAbvGrd\", \"c_GarageCars\", \"c_GarageArea\", \"c_WoodDeckSF\", \"c_OpenPorchSF\", \"c_EnclosedPorch\", \"c_3SsnPorch\", \"c_ScreenPorch\", \"c_MiscVal\"], \"y\": [\"c_LotFrontage\", \"c_LotArea\", \"c_BsmtFinSF1\", \"c_BsmtFinSF2\", \"c_BsmtUnfSF\", \"c_TotalBsmtSF\", \"c_1stFlrSF\", \"c_2ndFlrSF\", \"c_GrLivArea\", \"c_HalfBath\", \"c_BedroomAbvGr\", \"c_TotRmsAbvGrd\", \"c_GarageCars\", \"c_GarageArea\", \"c_WoodDeckSF\", \"c_OpenPorchSF\", \"c_EnclosedPorch\", \"c_3SsnPorch\", \"c_ScreenPorch\", \"c_MiscVal\"], \"z\": [[1.0, 0.6511062231146368, 0.17922483486920457, 0.09576928464202553, 0.03128149532718623, 0.3433567425493085, 0.3819573387713446, -0.012712690838602611, 0.2805094366328047, 0.060432038582161736, 0.313969753369199, 0.2961599392066281, 0.2521286969259245, 0.29391518332522804, 0.048339398092009794, 0.09888217383840939, -0.13134239429329297, 0.07048865433055242, 0.06643729713428112, 0.0010031531656518329], [0.6511062231146368, 1.0, 0.10628597190535467, 0.023384789003967222, 0.08815808808781285, 0.2810375178444615, 0.3370785896184804, 0.0871312881452911, 0.35602583511196, 0.11436826220053398, 0.33412330513908317, 0.36661110150611625, 0.2488015073774713, 0.28096030453948045, 0.11045131340721942, 0.11932544987405118, -0.08350558384306972, 0.06307332227463083, 0.07815920891912538, 0.041344024339604525], [0.17922483486920457, 0.10628597190535467, 1.0, 0.07202387107282848, -0.616344549099751, 0.42239027193860984, 0.3439670175007011, -0.27181099192878794, -0.008944753064763306, -0.09885771699805396, -0.058535913308345844, -0.06914607964809147, 0.10341471183553635, 0.1833761326643688, 0.15060391548734212, 0.0443343573003941, -0.1918959522495421, 0.039010608997929755, 0.10205833862537343, -0.031493769237752774], [0.09576928464202553, 0.023384789003967222, 0.07202387107282848, 1.0, -0.31053322356019863, 0.0489316604491137, 0.03696993681935983, -0.1278805782757276, -0.10922801385572027, -0.039677750322928335, 0.0491124432987285, -0.08864431667897466, -0.10775239948725346, -0.034720163717082024, 0.06181004811713941, -0.12100270664543483, 0.03840678409018545, -0.0073569880548323965, -0.004438223299690165, 0.015938424884728575], [0.03128149532718623, 0.08815808808781285, -0.616344549099751, -0.31053322356019863, 1.0, 0.3044197364114741, 0.18718581469955747, 0.08198032873234042, 0.263851382004036, 0.008635512243151906, 0.10360870390849239, 0.22361801537888726, 0.16376598865853384, 0.09413746577611114, -0.029887977258907687, 0.1536947907075956, 0.0696532888584831, 0.06882860196014175, -0.02705359730863575, -0.041428585284988426], [0.3433567425493085, 0.2810375178444615, 0.42239027193860984, 0.0489316604491137, 0.3044197364114741, 1.0, 0.817904770697284, -0.39815466018322226, 0.2555379893678099, -0.19463967987292732, 0.051694713442437375, 0.15042838343287318, 0.3610279351739105, 0.3929742831033454, 0.19903826841881353, 0.22098953814721622, -0.21068225327330814, 0.10013093038033069, 0.08262896707437829, -0.09237233738456645], [0.3819573387713446, 0.3370785896184804, 0.3439670175007011, 0.03696993681935983, 0.18718581469955747, 0.817904770697284, 1.0, -0.41300160063342856, 0.35446169349737694, -0.2435485415204427, 0.0913220827406841, 0.256719705603942, 0.36037860550735684, 0.40035562324614726, 0.16870114883058573, 0.18028900436239112, -0.1580113366920531, 0.0737033365644694, 0.11211577280055206, -0.03273279915710252], [-0.012712690838602611, 0.0871312881452911, -0.27181099192878794, -0.1278805782757276, 0.08198032873234042, -0.39815466018322226, -0.41300160063342856, 1.0, 0.656231607353901, 0.628896186056878, 0.4468811107250622, 0.5688524871877503, 0.1311161771819981, 0.0587529390867887, 0.026089838955929555, 0.20510990072086224, 0.05474783008874048, -0.040682857076798126, -0.02352207094373166, -0.06097294972778831], [0.2805094366328047, 0.35602583511196, -0.008944753064763306, -0.10922801385572027, 0.263851382004036, 0.2555379893678099, 0.35446169349737694, 0.656231607353901, 1.0, 0.4403366362880337, 0.5197188776821938, 0.8086790930605604, 0.45650235036960557, 0.39715239494744864, 0.1822052484724354, 0.3679278592638165, -0.06920731774123723, 0.024689777488585165, 0.07138125172327725, -0.09853792565143761], [0.060432038582161736, 0.11436826220053398, -0.09885771699805396, -0.039677750322928335, 0.008635512243151906, -0.19463967987292732, -0.2435485415204427, 0.628896186056878, 0.4403366362880337, 1.0, 0.2951377112471954, 0.35984854797715715, 0.17332281174002565, 0.09946318961845461, 0.0824503399607492, 0.26130540729598367, -0.13047174956458976, -0.0022370154491674673, 0.010186516685184745, -0.06251368024974115], [0.313969753369199, 0.33412330513908317, -0.058535913308345844, 0.0491124432987285, 0.10360870390849239, 0.051694713442437375, 0.0913220827406841, 0.4468811107250622, 0.5197188776821938, 0.2951377112471954, 1.0, 0.6264147828761348, 0.12324785927719799, 0.10751219383451224, 0.03192243671014734, 0.07539561533827119, -0.018826249051236824, 0.0134228407295994, 0.05491249452505436, -0.041724357513586746], [0.2961599392066281, 0.36661110150611625, -0.06914607964809147, -0.08864431667897466, 0.22361801537888726, 0.15042838343287318, 0.256719705603942, 0.5688524871877503, 0.8086790930605604, 0.35984854797715715, 0.6264147828761348, 1.0, 0.33131674092299873, 0.26330045272676134, 0.14583785674146568, 0.24666113497232084, -0.03369668526034184, -0.005162395529572783, 0.014164789673799768, -0.03218257806095641], [0.2521286969259245, 0.2488015073774713, 0.10341471183553635, -0.10775239948725346, 0.16376598865853384, 0.3610279351739105, 0.36037860550735684, 0.1311161771819981, 0.45650235036960557, 0.17332281174002565, 0.12324785927719799, 0.33131674092299873, 1.0, 0.8281625726235805, 0.2263552193752963, 0.34240563676961316, -0.25625369811548526, 0.04679126886905178, 0.01528882021457522, -0.01496418982420737], [0.29391518332522804, 0.28096030453948045, 0.1833761326643688, -0.034720163717082024, 0.09413746577611114, 0.3929742831033454, 0.40035562324614726, 0.0587529390867887, 0.39715239494744864, 0.09946318961845461, 0.10751219383451224, 0.26330045272676134, 0.8281625726235805, 1.0, 0.20944975066082516, 0.3347156011590167, -0.24211150940513307, 0.0465872943750308, 0.026054927008732905, 0.021337789843587848], [0.048339398092009794, 0.11045131340721942, 0.15060391548734212, 0.06181004811713941, -0.029887977258907687, 0.19903826841881353, 0.16870114883058573, 0.026089838955929555, 0.1822052484724354, 0.0824503399607492, 0.03192243671014734, 0.14583785674146568, 0.2263552193752963, 0.20944975066082516, 1.0, 0.10867101202552962, -0.15896001396010537, -0.06233410913631466, -0.10654152353245236, 0.007567933985598332], [0.09888217383840939, 0.11932544987405118, 0.0443343573003941, -0.12100270664543483, 0.1536947907075956, 0.22098953814721622, 0.18028900436239112, 0.20510990072086224, 0.3679278592638165, 0.26130540729598367, 0.07539561533827119, 0.24666113497232084, 0.34240563676961316, 0.3347156011590167, 0.10867101202552962, 1.0, -0.23034958169718847, -0.005985379867945856, -0.03115210059663536, -0.08607505995940112], [-0.13134239429329297, -0.08350558384306972, -0.1918959522495421, 0.03840678409018545, 0.0696532888584831, -0.21068225327330814, -0.1580113366920531, 0.05474783008874048, -0.06920731774123723, -0.13047174956458976, -0.018826249051236824, -0.03369668526034184, -0.25625369811548526, -0.24211150940513307, -0.15896001396010537, -0.23034958169718847, 1.0, -0.030337159412749556, -0.06974742669002774, 0.011620990422357959], [0.07048865433055242, 0.06307332227463083, 0.039010608997929755, -0.0073569880548323965, 0.06882860196014175, 0.10013093038033069, 0.0737033365644694, -0.040682857076798126, 0.024689777488585165, -0.0022370154491674673, 0.0134228407295994, -0.005162395529572783, 0.04679126886905178, 0.0465872943750308, -0.06233410913631466, -0.005985379867945856, -0.030337159412749556, 1.0, -0.03231929373115057, -0.01787483998631498], [0.06643729713428112, 0.07815920891912538, 0.10205833862537343, -0.004438223299690165, -0.02705359730863575, 0.08262896707437829, 0.11211577280055206, -0.02352207094373166, 0.07138125172327725, 0.010186516685184745, 0.05491249452505436, 0.014164789673799768, 0.01528882021457522, 0.026054927008732905, -0.10654152353245236, -0.03115210059663536, -0.06974742669002774, -0.03231929373115057, 1.0, 0.0020347285027728546], [0.0010031531656518329, 0.041344024339604525, -0.031493769237752774, 0.015938424884728575, -0.041428585284988426, -0.09237233738456645, -0.03273279915710252, -0.06097294972778831, -0.09853792565143761, -0.06251368024974115, -0.041724357513586746, -0.03218257806095641, -0.01496418982420737, 0.021337789843587848, 0.007567933985598332, -0.08607505995940112, 0.011620990422357959, -0.01787483998631498, 0.0020347285027728546, 1.0]], \"zmax\": 1.0, \"zmin\": -0.616344549099751}],                        {\"legend\": {\"bgcolor\": \"#F5F6F9\", \"font\": {\"color\": \"#4D5663\"}}, \"paper_bgcolor\": \"#F5F6F9\", \"plot_bgcolor\": \"#F5F6F9\", \"template\": {\"data\": {\"bar\": [{\"error_x\": {\"color\": \"#2a3f5f\"}, \"error_y\": {\"color\": \"#2a3f5f\"}, \"marker\": {\"line\": {\"color\": \"#E5ECF6\", \"width\": 0.5}}, \"type\": \"bar\"}], \"barpolar\": [{\"marker\": {\"line\": {\"color\": \"#E5ECF6\", \"width\": 0.5}}, \"type\": \"barpolar\"}], \"carpet\": [{\"aaxis\": {\"endlinecolor\": \"#2a3f5f\", \"gridcolor\": \"white\", \"linecolor\": \"white\", \"minorgridcolor\": \"white\", \"startlinecolor\": \"#2a3f5f\"}, \"baxis\": {\"endlinecolor\": \"#2a3f5f\", \"gridcolor\": \"white\", \"linecolor\": \"white\", \"minorgridcolor\": \"white\", \"startlinecolor\": \"#2a3f5f\"}, \"type\": \"carpet\"}], \"choropleth\": [{\"colorbar\": {\"outlinewidth\": 0, \"ticks\": \"\"}, \"type\": \"choropleth\"}], \"contour\": [{\"colorbar\": {\"outlinewidth\": 0, \"ticks\": \"\"}, \"colorscale\": [[0.0, \"#0d0887\"], [0.1111111111111111, \"#46039f\"], [0.2222222222222222, \"#7201a8\"], [0.3333333333333333, \"#9c179e\"], [0.4444444444444444, \"#bd3786\"], [0.5555555555555556, \"#d8576b\"], [0.6666666666666666, \"#ed7953\"], [0.7777777777777778, \"#fb9f3a\"], [0.8888888888888888, \"#fdca26\"], [1.0, \"#f0f921\"]], \"type\": \"contour\"}], \"contourcarpet\": [{\"colorbar\": {\"outlinewidth\": 0, \"ticks\": \"\"}, \"type\": \"contourcarpet\"}], \"heatmap\": [{\"colorbar\": {\"outlinewidth\": 0, \"ticks\": \"\"}, \"colorscale\": [[0.0, \"#0d0887\"], [0.1111111111111111, \"#46039f\"], [0.2222222222222222, \"#7201a8\"], [0.3333333333333333, \"#9c179e\"], [0.4444444444444444, \"#bd3786\"], [0.5555555555555556, \"#d8576b\"], [0.6666666666666666, \"#ed7953\"], [0.7777777777777778, \"#fb9f3a\"], [0.8888888888888888, \"#fdca26\"], [1.0, \"#f0f921\"]], \"type\": \"heatmap\"}], \"heatmapgl\": [{\"colorbar\": {\"outlinewidth\": 0, \"ticks\": \"\"}, \"colorscale\": [[0.0, \"#0d0887\"], [0.1111111111111111, \"#46039f\"], [0.2222222222222222, \"#7201a8\"], [0.3333333333333333, \"#9c179e\"], [0.4444444444444444, \"#bd3786\"], [0.5555555555555556, \"#d8576b\"], [0.6666666666666666, \"#ed7953\"], [0.7777777777777778, \"#fb9f3a\"], [0.8888888888888888, \"#fdca26\"], [1.0, \"#f0f921\"]], \"type\": \"heatmapgl\"}], \"histogram\": [{\"marker\": {\"colorbar\": {\"outlinewidth\": 0, \"ticks\": \"\"}}, \"type\": \"histogram\"}], \"histogram2d\": [{\"colorbar\": {\"outlinewidth\": 0, \"ticks\": \"\"}, \"colorscale\": [[0.0, \"#0d0887\"], [0.1111111111111111, \"#46039f\"], [0.2222222222222222, \"#7201a8\"], [0.3333333333333333, \"#9c179e\"], [0.4444444444444444, \"#bd3786\"], [0.5555555555555556, \"#d8576b\"], [0.6666666666666666, \"#ed7953\"], [0.7777777777777778, \"#fb9f3a\"], [0.8888888888888888, \"#fdca26\"], [1.0, \"#f0f921\"]], \"type\": \"histogram2d\"}], \"histogram2dcontour\": [{\"colorbar\": {\"outlinewidth\": 0, \"ticks\": \"\"}, \"colorscale\": [[0.0, \"#0d0887\"], [0.1111111111111111, \"#46039f\"], [0.2222222222222222, \"#7201a8\"], [0.3333333333333333, \"#9c179e\"], [0.4444444444444444, \"#bd3786\"], [0.5555555555555556, \"#d8576b\"], [0.6666666666666666, \"#ed7953\"], [0.7777777777777778, \"#fb9f3a\"], [0.8888888888888888, \"#fdca26\"], [1.0, \"#f0f921\"]], \"type\": \"histogram2dcontour\"}], \"mesh3d\": [{\"colorbar\": {\"outlinewidth\": 0, \"ticks\": \"\"}, \"type\": \"mesh3d\"}], \"parcoords\": [{\"line\": {\"colorbar\": {\"outlinewidth\": 0, \"ticks\": \"\"}}, \"type\": \"parcoords\"}], \"pie\": [{\"automargin\": true, \"type\": \"pie\"}], \"scatter\": [{\"marker\": {\"colorbar\": {\"outlinewidth\": 0, \"ticks\": \"\"}}, \"type\": \"scatter\"}], \"scatter3d\": [{\"line\": {\"colorbar\": {\"outlinewidth\": 0, \"ticks\": \"\"}}, \"marker\": {\"colorbar\": {\"outlinewidth\": 0, \"ticks\": \"\"}}, \"type\": \"scatter3d\"}], \"scattercarpet\": [{\"marker\": {\"colorbar\": {\"outlinewidth\": 0, \"ticks\": \"\"}}, \"type\": \"scattercarpet\"}], \"scattergeo\": [{\"marker\": {\"colorbar\": {\"outlinewidth\": 0, \"ticks\": \"\"}}, \"type\": \"scattergeo\"}], \"scattergl\": [{\"marker\": {\"colorbar\": {\"outlinewidth\": 0, \"ticks\": \"\"}}, \"type\": \"scattergl\"}], \"scattermapbox\": [{\"marker\": {\"colorbar\": {\"outlinewidth\": 0, \"ticks\": \"\"}}, \"type\": \"scattermapbox\"}], \"scatterpolar\": [{\"marker\": {\"colorbar\": {\"outlinewidth\": 0, \"ticks\": \"\"}}, \"type\": \"scatterpolar\"}], \"scatterpolargl\": [{\"marker\": {\"colorbar\": {\"outlinewidth\": 0, \"ticks\": \"\"}}, \"type\": \"scatterpolargl\"}], \"scatterternary\": [{\"marker\": {\"colorbar\": {\"outlinewidth\": 0, \"ticks\": \"\"}}, \"type\": \"scatterternary\"}], \"surface\": [{\"colorbar\": {\"outlinewidth\": 0, \"ticks\": \"\"}, \"colorscale\": [[0.0, \"#0d0887\"], [0.1111111111111111, \"#46039f\"], [0.2222222222222222, \"#7201a8\"], [0.3333333333333333, \"#9c179e\"], [0.4444444444444444, \"#bd3786\"], [0.5555555555555556, \"#d8576b\"], [0.6666666666666666, \"#ed7953\"], [0.7777777777777778, \"#fb9f3a\"], [0.8888888888888888, \"#fdca26\"], [1.0, \"#f0f921\"]], \"type\": \"surface\"}], \"table\": [{\"cells\": {\"fill\": {\"color\": \"#EBF0F8\"}, \"line\": {\"color\": \"white\"}}, \"header\": {\"fill\": {\"color\": \"#C8D4E3\"}, \"line\": {\"color\": \"white\"}}, \"type\": \"table\"}]}, \"layout\": {\"annotationdefaults\": {\"arrowcolor\": \"#2a3f5f\", \"arrowhead\": 0, \"arrowwidth\": 1}, \"autotypenumbers\": \"strict\", \"coloraxis\": {\"colorbar\": {\"outlinewidth\": 0, \"ticks\": \"\"}}, \"colorscale\": {\"diverging\": [[0, \"#8e0152\"], [0.1, \"#c51b7d\"], [0.2, \"#de77ae\"], [0.3, \"#f1b6da\"], [0.4, \"#fde0ef\"], [0.5, \"#f7f7f7\"], [0.6, \"#e6f5d0\"], [0.7, \"#b8e186\"], [0.8, \"#7fbc41\"], [0.9, \"#4d9221\"], [1, \"#276419\"]], \"sequential\": [[0.0, \"#0d0887\"], [0.1111111111111111, \"#46039f\"], [0.2222222222222222, \"#7201a8\"], [0.3333333333333333, \"#9c179e\"], [0.4444444444444444, \"#bd3786\"], [0.5555555555555556, \"#d8576b\"], [0.6666666666666666, \"#ed7953\"], [0.7777777777777778, \"#fb9f3a\"], [0.8888888888888888, \"#fdca26\"], [1.0, \"#f0f921\"]], \"sequentialminus\": [[0.0, \"#0d0887\"], [0.1111111111111111, \"#46039f\"], [0.2222222222222222, \"#7201a8\"], [0.3333333333333333, \"#9c179e\"], [0.4444444444444444, \"#bd3786\"], [0.5555555555555556, \"#d8576b\"], [0.6666666666666666, \"#ed7953\"], [0.7777777777777778, \"#fb9f3a\"], [0.8888888888888888, \"#fdca26\"], [1.0, \"#f0f921\"]]}, \"colorway\": [\"#636efa\", \"#EF553B\", \"#00cc96\", \"#ab63fa\", \"#FFA15A\", \"#19d3f3\", \"#FF6692\", \"#B6E880\", \"#FF97FF\", \"#FECB52\"], \"font\": {\"color\": \"#2a3f5f\"}, \"geo\": {\"bgcolor\": \"white\", \"lakecolor\": \"white\", \"landcolor\": \"#E5ECF6\", \"showlakes\": true, \"showland\": true, \"subunitcolor\": \"white\"}, \"hoverlabel\": {\"align\": \"left\"}, \"hovermode\": \"closest\", \"mapbox\": {\"style\": \"light\"}, \"paper_bgcolor\": \"white\", \"plot_bgcolor\": \"#E5ECF6\", \"polar\": {\"angularaxis\": {\"gridcolor\": \"white\", \"linecolor\": \"white\", \"ticks\": \"\"}, \"bgcolor\": \"#E5ECF6\", \"radialaxis\": {\"gridcolor\": \"white\", \"linecolor\": \"white\", \"ticks\": \"\"}}, \"scene\": {\"xaxis\": {\"backgroundcolor\": \"#E5ECF6\", \"gridcolor\": \"white\", \"gridwidth\": 2, \"linecolor\": \"white\", \"showbackground\": true, \"ticks\": \"\", \"zerolinecolor\": \"white\"}, \"yaxis\": {\"backgroundcolor\": \"#E5ECF6\", \"gridcolor\": \"white\", \"gridwidth\": 2, \"linecolor\": \"white\", \"showbackground\": true, \"ticks\": \"\", \"zerolinecolor\": \"white\"}, \"zaxis\": {\"backgroundcolor\": \"#E5ECF6\", \"gridcolor\": \"white\", \"gridwidth\": 2, \"linecolor\": \"white\", \"showbackground\": true, \"ticks\": \"\", \"zerolinecolor\": \"white\"}}, \"shapedefaults\": {\"line\": {\"color\": \"#2a3f5f\"}}, \"ternary\": {\"aaxis\": {\"gridcolor\": \"white\", \"linecolor\": \"white\", \"ticks\": \"\"}, \"baxis\": {\"gridcolor\": \"white\", \"linecolor\": \"white\", \"ticks\": \"\"}, \"bgcolor\": \"#E5ECF6\", \"caxis\": {\"gridcolor\": \"white\", \"linecolor\": \"white\", \"ticks\": \"\"}}, \"title\": {\"x\": 0.05}, \"xaxis\": {\"automargin\": true, \"gridcolor\": \"white\", \"linecolor\": \"white\", \"ticks\": \"\", \"title\": {\"standoff\": 15}, \"zerolinecolor\": \"white\", \"zerolinewidth\": 2}, \"yaxis\": {\"automargin\": true, \"gridcolor\": \"white\", \"linecolor\": \"white\", \"ticks\": \"\", \"title\": {\"standoff\": 15}, \"zerolinecolor\": \"white\", \"zerolinewidth\": 2}}}, \"title\": {\"font\": {\"color\": \"#4D5663\"}, \"text\": \"Matriz de Correlaci\\u00f3n\"}, \"xaxis\": {\"gridcolor\": \"#E1E5ED\", \"showgrid\": true, \"tickfont\": {\"color\": \"#4D5663\"}, \"title\": {\"font\": {\"color\": \"#4D5663\"}, \"text\": \"\"}, \"zerolinecolor\": \"#E1E5ED\"}, \"yaxis\": {\"gridcolor\": \"#E1E5ED\", \"showgrid\": true, \"tickfont\": {\"color\": \"#4D5663\"}, \"title\": {\"font\": {\"color\": \"#4D5663\"}, \"text\": \"\"}, \"zerolinecolor\": \"#E1E5ED\"}},                        {\"showLink\": true, \"linkText\": \"Export to plot.ly\", \"plotlyServerURL\": \"https://plot.ly\", \"responsive\": true}                    ).then(function(){\n",
       "                            \n",
       "var gd = document.getElementById('a0c24962-5614-4efe-b7d5-ec63c7b5f2bf');\n",
       "var x = new MutationObserver(function (mutations, observer) {{\n",
       "        var display = window.getComputedStyle(gd).display;\n",
       "        if (!display || display === 'none') {{\n",
       "            console.log([gd, 'removed!']);\n",
       "            Plotly.purge(gd);\n",
       "            observer.disconnect();\n",
       "        }}\n",
       "}});\n",
       "\n",
       "// Listen for the removal of the full notebook cells\n",
       "var notebookContainer = gd.closest('#notebook-container');\n",
       "if (notebookContainer) {{\n",
       "    x.observe(notebookContainer, {childList: true});\n",
       "}}\n",
       "\n",
       "// Listen for the clearing of the current output cell\n",
       "var outputEl = gd.closest('.output');\n",
       "if (outputEl) {{\n",
       "    x.observe(outputEl, {childList: true});\n",
       "}}\n",
       "\n",
       "                        })                };                });            </script>        </div>"
      ]
     },
     "metadata": {},
     "output_type": "display_data"
    }
   ],
   "source": [
    "X_train[[x for x in X_train if x!=\"tgt_SalePrice\"]].filter(like=\"c_\").corr(method=\"spearman\").iplot(kind=\"heatmap\",colorscale=\"orrd\",title=\"Matriz de Correlación\")"
   ]
  },
  {
   "cell_type": "markdown",
   "metadata": {},
   "source": [
    "- GrLivArea: superficie habitable por encima del nivel del suelo en pies cuadrados\n",
    "- TotRmsAbvGrd: total de habitaciones por encima del nivel del suelo (no incluye baños)\n",
    "- GarageCars: tamaño del garaje en capacidad de coches\n",
    "- GarageArea: tamaño del garaje en pies cuadrados"
   ]
  },
  {
   "cell_type": "code",
   "execution_count": 1037,
   "metadata": {
    "ExecuteTime": {
     "end_time": "2021-08-21T17:12:50.566994Z",
     "start_time": "2021-08-21T17:12:50.548990Z"
    }
   },
   "outputs": [],
   "source": [
    "corr=X_train[[x for x in X_train if x!=\"tgt_SalePrice\"]].filter(like=\"c_\").corr(method=\"spearman\")"
   ]
  },
  {
   "cell_type": "code",
   "execution_count": 1038,
   "metadata": {
    "ExecuteTime": {
     "end_time": "2021-08-21T17:12:50.932036Z",
     "start_time": "2021-08-21T17:12:50.919034Z"
    },
    "scrolled": true
   },
   "outputs": [
    {
     "data": {
      "text/plain": [
       "Index(['v_MSSubClass', 'v_MSZoning', 'v_Street', 'v_LotShape', 'v_LandContour',\n",
       "       'v_LotConfig', 'v_LandSlope', 'v_Condition1', 'v_Condition2',\n",
       "       'v_BldgType', 'v_HouseStyle', 'v_OverallQual', 'v_OverallCond',\n",
       "       'v_YearBuilt', 'v_YearRemodAdd', 'v_RoofStyle', 'v_RoofMatl',\n",
       "       'v_MasVnrType', 'v_ExterQual', 'v_ExterCond', 'v_Foundation',\n",
       "       'v_BsmtQual', 'v_BsmtCond', 'v_BsmtExposure', 'v_BsmtFinType1',\n",
       "       'v_BsmtFinType2', 'v_Heating', 'v_HeatingQC', 'v_CentralAir',\n",
       "       'v_Electrical', 'v_LowQualFinSF', 'v_BsmtHalfBath', 'v_FullBath',\n",
       "       'v_KitchenAbvGr', 'v_KitchenQual', 'v_Functional', 'v_Fireplaces',\n",
       "       'v_GarageType', 'v_GarageYrBlt', 'v_GarageFinish', 'v_GarageQual',\n",
       "       'v_GarageCond', 'v_PavedDrive'],\n",
       "      dtype='object')"
      ]
     },
     "execution_count": 1038,
     "metadata": {},
     "output_type": "execute_result"
    }
   ],
   "source": [
    "X_train.filter(like=\"v_\").columns"
   ]
  },
  {
   "cell_type": "code",
   "execution_count": 1040,
   "metadata": {
    "ExecuteTime": {
     "end_time": "2021-08-21T17:13:06.110471Z",
     "start_time": "2021-08-21T17:13:06.103431Z"
    }
   },
   "outputs": [],
   "source": [
    "corr=abs(corr)"
   ]
  },
  {
   "cell_type": "code",
   "execution_count": 1041,
   "metadata": {
    "ExecuteTime": {
     "end_time": "2021-08-21T17:13:06.633481Z",
     "start_time": "2021-08-21T17:13:06.485471Z"
    },
    "scrolled": true
   },
   "outputs": [
    {
     "data": {
      "text/html": [
       "<div>\n",
       "<style scoped>\n",
       "    .dataframe tbody tr th:only-of-type {\n",
       "        vertical-align: middle;\n",
       "    }\n",
       "\n",
       "    .dataframe tbody tr th {\n",
       "        vertical-align: top;\n",
       "    }\n",
       "\n",
       "    .dataframe thead th {\n",
       "        text-align: right;\n",
       "    }\n",
       "</style>\n",
       "<table border=\"1\" class=\"dataframe\">\n",
       "  <thead>\n",
       "    <tr style=\"text-align: right;\">\n",
       "      <th></th>\n",
       "      <th>c_LotFrontage</th>\n",
       "    </tr>\n",
       "  </thead>\n",
       "  <tbody>\n",
       "    <tr>\n",
       "      <th>c_LotFrontage</th>\n",
       "      <td>1.0</td>\n",
       "    </tr>\n",
       "  </tbody>\n",
       "</table>\n",
       "</div>"
      ],
      "text/plain": [
       "               c_LotFrontage\n",
       "c_LotFrontage            1.0"
      ]
     },
     "metadata": {},
     "output_type": "display_data"
    },
    {
     "data": {
      "text/html": [
       "<div>\n",
       "<style scoped>\n",
       "    .dataframe tbody tr th:only-of-type {\n",
       "        vertical-align: middle;\n",
       "    }\n",
       "\n",
       "    .dataframe tbody tr th {\n",
       "        vertical-align: top;\n",
       "    }\n",
       "\n",
       "    .dataframe thead th {\n",
       "        text-align: right;\n",
       "    }\n",
       "</style>\n",
       "<table border=\"1\" class=\"dataframe\">\n",
       "  <thead>\n",
       "    <tr style=\"text-align: right;\">\n",
       "      <th></th>\n",
       "      <th>c_LotArea</th>\n",
       "    </tr>\n",
       "  </thead>\n",
       "  <tbody>\n",
       "    <tr>\n",
       "      <th>c_LotArea</th>\n",
       "      <td>1.0</td>\n",
       "    </tr>\n",
       "  </tbody>\n",
       "</table>\n",
       "</div>"
      ],
      "text/plain": [
       "           c_LotArea\n",
       "c_LotArea        1.0"
      ]
     },
     "metadata": {},
     "output_type": "display_data"
    },
    {
     "data": {
      "text/html": [
       "<div>\n",
       "<style scoped>\n",
       "    .dataframe tbody tr th:only-of-type {\n",
       "        vertical-align: middle;\n",
       "    }\n",
       "\n",
       "    .dataframe tbody tr th {\n",
       "        vertical-align: top;\n",
       "    }\n",
       "\n",
       "    .dataframe thead th {\n",
       "        text-align: right;\n",
       "    }\n",
       "</style>\n",
       "<table border=\"1\" class=\"dataframe\">\n",
       "  <thead>\n",
       "    <tr style=\"text-align: right;\">\n",
       "      <th></th>\n",
       "      <th>c_BsmtFinSF1</th>\n",
       "    </tr>\n",
       "  </thead>\n",
       "  <tbody>\n",
       "    <tr>\n",
       "      <th>c_BsmtFinSF1</th>\n",
       "      <td>1.0</td>\n",
       "    </tr>\n",
       "  </tbody>\n",
       "</table>\n",
       "</div>"
      ],
      "text/plain": [
       "              c_BsmtFinSF1\n",
       "c_BsmtFinSF1           1.0"
      ]
     },
     "metadata": {},
     "output_type": "display_data"
    },
    {
     "data": {
      "text/html": [
       "<div>\n",
       "<style scoped>\n",
       "    .dataframe tbody tr th:only-of-type {\n",
       "        vertical-align: middle;\n",
       "    }\n",
       "\n",
       "    .dataframe tbody tr th {\n",
       "        vertical-align: top;\n",
       "    }\n",
       "\n",
       "    .dataframe thead th {\n",
       "        text-align: right;\n",
       "    }\n",
       "</style>\n",
       "<table border=\"1\" class=\"dataframe\">\n",
       "  <thead>\n",
       "    <tr style=\"text-align: right;\">\n",
       "      <th></th>\n",
       "      <th>c_BsmtFinSF2</th>\n",
       "    </tr>\n",
       "  </thead>\n",
       "  <tbody>\n",
       "    <tr>\n",
       "      <th>c_BsmtFinSF2</th>\n",
       "      <td>1.0</td>\n",
       "    </tr>\n",
       "  </tbody>\n",
       "</table>\n",
       "</div>"
      ],
      "text/plain": [
       "              c_BsmtFinSF2\n",
       "c_BsmtFinSF2           1.0"
      ]
     },
     "metadata": {},
     "output_type": "display_data"
    },
    {
     "data": {
      "text/html": [
       "<div>\n",
       "<style scoped>\n",
       "    .dataframe tbody tr th:only-of-type {\n",
       "        vertical-align: middle;\n",
       "    }\n",
       "\n",
       "    .dataframe tbody tr th {\n",
       "        vertical-align: top;\n",
       "    }\n",
       "\n",
       "    .dataframe thead th {\n",
       "        text-align: right;\n",
       "    }\n",
       "</style>\n",
       "<table border=\"1\" class=\"dataframe\">\n",
       "  <thead>\n",
       "    <tr style=\"text-align: right;\">\n",
       "      <th></th>\n",
       "      <th>c_BsmtUnfSF</th>\n",
       "    </tr>\n",
       "  </thead>\n",
       "  <tbody>\n",
       "    <tr>\n",
       "      <th>c_BsmtUnfSF</th>\n",
       "      <td>1.0</td>\n",
       "    </tr>\n",
       "  </tbody>\n",
       "</table>\n",
       "</div>"
      ],
      "text/plain": [
       "             c_BsmtUnfSF\n",
       "c_BsmtUnfSF          1.0"
      ]
     },
     "metadata": {},
     "output_type": "display_data"
    },
    {
     "data": {
      "text/html": [
       "<div>\n",
       "<style scoped>\n",
       "    .dataframe tbody tr th:only-of-type {\n",
       "        vertical-align: middle;\n",
       "    }\n",
       "\n",
       "    .dataframe tbody tr th {\n",
       "        vertical-align: top;\n",
       "    }\n",
       "\n",
       "    .dataframe thead th {\n",
       "        text-align: right;\n",
       "    }\n",
       "</style>\n",
       "<table border=\"1\" class=\"dataframe\">\n",
       "  <thead>\n",
       "    <tr style=\"text-align: right;\">\n",
       "      <th></th>\n",
       "      <th>c_TotalBsmtSF</th>\n",
       "    </tr>\n",
       "  </thead>\n",
       "  <tbody>\n",
       "    <tr>\n",
       "      <th>c_TotalBsmtSF</th>\n",
       "      <td>1.000000</td>\n",
       "    </tr>\n",
       "    <tr>\n",
       "      <th>c_1stFlrSF</th>\n",
       "      <td>0.817905</td>\n",
       "    </tr>\n",
       "  </tbody>\n",
       "</table>\n",
       "</div>"
      ],
      "text/plain": [
       "               c_TotalBsmtSF\n",
       "c_TotalBsmtSF       1.000000\n",
       "c_1stFlrSF          0.817905"
      ]
     },
     "metadata": {},
     "output_type": "display_data"
    },
    {
     "data": {
      "text/html": [
       "<div>\n",
       "<style scoped>\n",
       "    .dataframe tbody tr th:only-of-type {\n",
       "        vertical-align: middle;\n",
       "    }\n",
       "\n",
       "    .dataframe tbody tr th {\n",
       "        vertical-align: top;\n",
       "    }\n",
       "\n",
       "    .dataframe thead th {\n",
       "        text-align: right;\n",
       "    }\n",
       "</style>\n",
       "<table border=\"1\" class=\"dataframe\">\n",
       "  <thead>\n",
       "    <tr style=\"text-align: right;\">\n",
       "      <th></th>\n",
       "      <th>c_1stFlrSF</th>\n",
       "    </tr>\n",
       "  </thead>\n",
       "  <tbody>\n",
       "    <tr>\n",
       "      <th>c_TotalBsmtSF</th>\n",
       "      <td>0.817905</td>\n",
       "    </tr>\n",
       "    <tr>\n",
       "      <th>c_1stFlrSF</th>\n",
       "      <td>1.000000</td>\n",
       "    </tr>\n",
       "  </tbody>\n",
       "</table>\n",
       "</div>"
      ],
      "text/plain": [
       "               c_1stFlrSF\n",
       "c_TotalBsmtSF    0.817905\n",
       "c_1stFlrSF       1.000000"
      ]
     },
     "metadata": {},
     "output_type": "display_data"
    },
    {
     "data": {
      "text/html": [
       "<div>\n",
       "<style scoped>\n",
       "    .dataframe tbody tr th:only-of-type {\n",
       "        vertical-align: middle;\n",
       "    }\n",
       "\n",
       "    .dataframe tbody tr th {\n",
       "        vertical-align: top;\n",
       "    }\n",
       "\n",
       "    .dataframe thead th {\n",
       "        text-align: right;\n",
       "    }\n",
       "</style>\n",
       "<table border=\"1\" class=\"dataframe\">\n",
       "  <thead>\n",
       "    <tr style=\"text-align: right;\">\n",
       "      <th></th>\n",
       "      <th>c_2ndFlrSF</th>\n",
       "    </tr>\n",
       "  </thead>\n",
       "  <tbody>\n",
       "    <tr>\n",
       "      <th>c_2ndFlrSF</th>\n",
       "      <td>1.0</td>\n",
       "    </tr>\n",
       "  </tbody>\n",
       "</table>\n",
       "</div>"
      ],
      "text/plain": [
       "            c_2ndFlrSF\n",
       "c_2ndFlrSF         1.0"
      ]
     },
     "metadata": {},
     "output_type": "display_data"
    },
    {
     "data": {
      "text/html": [
       "<div>\n",
       "<style scoped>\n",
       "    .dataframe tbody tr th:only-of-type {\n",
       "        vertical-align: middle;\n",
       "    }\n",
       "\n",
       "    .dataframe tbody tr th {\n",
       "        vertical-align: top;\n",
       "    }\n",
       "\n",
       "    .dataframe thead th {\n",
       "        text-align: right;\n",
       "    }\n",
       "</style>\n",
       "<table border=\"1\" class=\"dataframe\">\n",
       "  <thead>\n",
       "    <tr style=\"text-align: right;\">\n",
       "      <th></th>\n",
       "      <th>c_GrLivArea</th>\n",
       "    </tr>\n",
       "  </thead>\n",
       "  <tbody>\n",
       "    <tr>\n",
       "      <th>c_GrLivArea</th>\n",
       "      <td>1.000000</td>\n",
       "    </tr>\n",
       "    <tr>\n",
       "      <th>c_TotRmsAbvGrd</th>\n",
       "      <td>0.808679</td>\n",
       "    </tr>\n",
       "  </tbody>\n",
       "</table>\n",
       "</div>"
      ],
      "text/plain": [
       "                c_GrLivArea\n",
       "c_GrLivArea        1.000000\n",
       "c_TotRmsAbvGrd     0.808679"
      ]
     },
     "metadata": {},
     "output_type": "display_data"
    },
    {
     "data": {
      "text/html": [
       "<div>\n",
       "<style scoped>\n",
       "    .dataframe tbody tr th:only-of-type {\n",
       "        vertical-align: middle;\n",
       "    }\n",
       "\n",
       "    .dataframe tbody tr th {\n",
       "        vertical-align: top;\n",
       "    }\n",
       "\n",
       "    .dataframe thead th {\n",
       "        text-align: right;\n",
       "    }\n",
       "</style>\n",
       "<table border=\"1\" class=\"dataframe\">\n",
       "  <thead>\n",
       "    <tr style=\"text-align: right;\">\n",
       "      <th></th>\n",
       "      <th>c_HalfBath</th>\n",
       "    </tr>\n",
       "  </thead>\n",
       "  <tbody>\n",
       "    <tr>\n",
       "      <th>c_HalfBath</th>\n",
       "      <td>1.0</td>\n",
       "    </tr>\n",
       "  </tbody>\n",
       "</table>\n",
       "</div>"
      ],
      "text/plain": [
       "            c_HalfBath\n",
       "c_HalfBath         1.0"
      ]
     },
     "metadata": {},
     "output_type": "display_data"
    },
    {
     "data": {
      "text/html": [
       "<div>\n",
       "<style scoped>\n",
       "    .dataframe tbody tr th:only-of-type {\n",
       "        vertical-align: middle;\n",
       "    }\n",
       "\n",
       "    .dataframe tbody tr th {\n",
       "        vertical-align: top;\n",
       "    }\n",
       "\n",
       "    .dataframe thead th {\n",
       "        text-align: right;\n",
       "    }\n",
       "</style>\n",
       "<table border=\"1\" class=\"dataframe\">\n",
       "  <thead>\n",
       "    <tr style=\"text-align: right;\">\n",
       "      <th></th>\n",
       "      <th>c_BedroomAbvGr</th>\n",
       "    </tr>\n",
       "  </thead>\n",
       "  <tbody>\n",
       "    <tr>\n",
       "      <th>c_BedroomAbvGr</th>\n",
       "      <td>1.0</td>\n",
       "    </tr>\n",
       "  </tbody>\n",
       "</table>\n",
       "</div>"
      ],
      "text/plain": [
       "                c_BedroomAbvGr\n",
       "c_BedroomAbvGr             1.0"
      ]
     },
     "metadata": {},
     "output_type": "display_data"
    },
    {
     "data": {
      "text/html": [
       "<div>\n",
       "<style scoped>\n",
       "    .dataframe tbody tr th:only-of-type {\n",
       "        vertical-align: middle;\n",
       "    }\n",
       "\n",
       "    .dataframe tbody tr th {\n",
       "        vertical-align: top;\n",
       "    }\n",
       "\n",
       "    .dataframe thead th {\n",
       "        text-align: right;\n",
       "    }\n",
       "</style>\n",
       "<table border=\"1\" class=\"dataframe\">\n",
       "  <thead>\n",
       "    <tr style=\"text-align: right;\">\n",
       "      <th></th>\n",
       "      <th>c_TotRmsAbvGrd</th>\n",
       "    </tr>\n",
       "  </thead>\n",
       "  <tbody>\n",
       "    <tr>\n",
       "      <th>c_GrLivArea</th>\n",
       "      <td>0.808679</td>\n",
       "    </tr>\n",
       "    <tr>\n",
       "      <th>c_TotRmsAbvGrd</th>\n",
       "      <td>1.000000</td>\n",
       "    </tr>\n",
       "  </tbody>\n",
       "</table>\n",
       "</div>"
      ],
      "text/plain": [
       "                c_TotRmsAbvGrd\n",
       "c_GrLivArea           0.808679\n",
       "c_TotRmsAbvGrd        1.000000"
      ]
     },
     "metadata": {},
     "output_type": "display_data"
    },
    {
     "data": {
      "text/html": [
       "<div>\n",
       "<style scoped>\n",
       "    .dataframe tbody tr th:only-of-type {\n",
       "        vertical-align: middle;\n",
       "    }\n",
       "\n",
       "    .dataframe tbody tr th {\n",
       "        vertical-align: top;\n",
       "    }\n",
       "\n",
       "    .dataframe thead th {\n",
       "        text-align: right;\n",
       "    }\n",
       "</style>\n",
       "<table border=\"1\" class=\"dataframe\">\n",
       "  <thead>\n",
       "    <tr style=\"text-align: right;\">\n",
       "      <th></th>\n",
       "      <th>c_GarageCars</th>\n",
       "    </tr>\n",
       "  </thead>\n",
       "  <tbody>\n",
       "    <tr>\n",
       "      <th>c_GarageCars</th>\n",
       "      <td>1.000000</td>\n",
       "    </tr>\n",
       "    <tr>\n",
       "      <th>c_GarageArea</th>\n",
       "      <td>0.828163</td>\n",
       "    </tr>\n",
       "  </tbody>\n",
       "</table>\n",
       "</div>"
      ],
      "text/plain": [
       "              c_GarageCars\n",
       "c_GarageCars      1.000000\n",
       "c_GarageArea      0.828163"
      ]
     },
     "metadata": {},
     "output_type": "display_data"
    },
    {
     "data": {
      "text/html": [
       "<div>\n",
       "<style scoped>\n",
       "    .dataframe tbody tr th:only-of-type {\n",
       "        vertical-align: middle;\n",
       "    }\n",
       "\n",
       "    .dataframe tbody tr th {\n",
       "        vertical-align: top;\n",
       "    }\n",
       "\n",
       "    .dataframe thead th {\n",
       "        text-align: right;\n",
       "    }\n",
       "</style>\n",
       "<table border=\"1\" class=\"dataframe\">\n",
       "  <thead>\n",
       "    <tr style=\"text-align: right;\">\n",
       "      <th></th>\n",
       "      <th>c_GarageArea</th>\n",
       "    </tr>\n",
       "  </thead>\n",
       "  <tbody>\n",
       "    <tr>\n",
       "      <th>c_GarageCars</th>\n",
       "      <td>0.828163</td>\n",
       "    </tr>\n",
       "    <tr>\n",
       "      <th>c_GarageArea</th>\n",
       "      <td>1.000000</td>\n",
       "    </tr>\n",
       "  </tbody>\n",
       "</table>\n",
       "</div>"
      ],
      "text/plain": [
       "              c_GarageArea\n",
       "c_GarageCars      0.828163\n",
       "c_GarageArea      1.000000"
      ]
     },
     "metadata": {},
     "output_type": "display_data"
    },
    {
     "data": {
      "text/html": [
       "<div>\n",
       "<style scoped>\n",
       "    .dataframe tbody tr th:only-of-type {\n",
       "        vertical-align: middle;\n",
       "    }\n",
       "\n",
       "    .dataframe tbody tr th {\n",
       "        vertical-align: top;\n",
       "    }\n",
       "\n",
       "    .dataframe thead th {\n",
       "        text-align: right;\n",
       "    }\n",
       "</style>\n",
       "<table border=\"1\" class=\"dataframe\">\n",
       "  <thead>\n",
       "    <tr style=\"text-align: right;\">\n",
       "      <th></th>\n",
       "      <th>c_WoodDeckSF</th>\n",
       "    </tr>\n",
       "  </thead>\n",
       "  <tbody>\n",
       "    <tr>\n",
       "      <th>c_WoodDeckSF</th>\n",
       "      <td>1.0</td>\n",
       "    </tr>\n",
       "  </tbody>\n",
       "</table>\n",
       "</div>"
      ],
      "text/plain": [
       "              c_WoodDeckSF\n",
       "c_WoodDeckSF           1.0"
      ]
     },
     "metadata": {},
     "output_type": "display_data"
    },
    {
     "data": {
      "text/html": [
       "<div>\n",
       "<style scoped>\n",
       "    .dataframe tbody tr th:only-of-type {\n",
       "        vertical-align: middle;\n",
       "    }\n",
       "\n",
       "    .dataframe tbody tr th {\n",
       "        vertical-align: top;\n",
       "    }\n",
       "\n",
       "    .dataframe thead th {\n",
       "        text-align: right;\n",
       "    }\n",
       "</style>\n",
       "<table border=\"1\" class=\"dataframe\">\n",
       "  <thead>\n",
       "    <tr style=\"text-align: right;\">\n",
       "      <th></th>\n",
       "      <th>c_OpenPorchSF</th>\n",
       "    </tr>\n",
       "  </thead>\n",
       "  <tbody>\n",
       "    <tr>\n",
       "      <th>c_OpenPorchSF</th>\n",
       "      <td>1.0</td>\n",
       "    </tr>\n",
       "  </tbody>\n",
       "</table>\n",
       "</div>"
      ],
      "text/plain": [
       "               c_OpenPorchSF\n",
       "c_OpenPorchSF            1.0"
      ]
     },
     "metadata": {},
     "output_type": "display_data"
    },
    {
     "data": {
      "text/html": [
       "<div>\n",
       "<style scoped>\n",
       "    .dataframe tbody tr th:only-of-type {\n",
       "        vertical-align: middle;\n",
       "    }\n",
       "\n",
       "    .dataframe tbody tr th {\n",
       "        vertical-align: top;\n",
       "    }\n",
       "\n",
       "    .dataframe thead th {\n",
       "        text-align: right;\n",
       "    }\n",
       "</style>\n",
       "<table border=\"1\" class=\"dataframe\">\n",
       "  <thead>\n",
       "    <tr style=\"text-align: right;\">\n",
       "      <th></th>\n",
       "      <th>c_EnclosedPorch</th>\n",
       "    </tr>\n",
       "  </thead>\n",
       "  <tbody>\n",
       "    <tr>\n",
       "      <th>c_EnclosedPorch</th>\n",
       "      <td>1.0</td>\n",
       "    </tr>\n",
       "  </tbody>\n",
       "</table>\n",
       "</div>"
      ],
      "text/plain": [
       "                 c_EnclosedPorch\n",
       "c_EnclosedPorch              1.0"
      ]
     },
     "metadata": {},
     "output_type": "display_data"
    },
    {
     "data": {
      "text/html": [
       "<div>\n",
       "<style scoped>\n",
       "    .dataframe tbody tr th:only-of-type {\n",
       "        vertical-align: middle;\n",
       "    }\n",
       "\n",
       "    .dataframe tbody tr th {\n",
       "        vertical-align: top;\n",
       "    }\n",
       "\n",
       "    .dataframe thead th {\n",
       "        text-align: right;\n",
       "    }\n",
       "</style>\n",
       "<table border=\"1\" class=\"dataframe\">\n",
       "  <thead>\n",
       "    <tr style=\"text-align: right;\">\n",
       "      <th></th>\n",
       "      <th>c_3SsnPorch</th>\n",
       "    </tr>\n",
       "  </thead>\n",
       "  <tbody>\n",
       "    <tr>\n",
       "      <th>c_3SsnPorch</th>\n",
       "      <td>1.0</td>\n",
       "    </tr>\n",
       "  </tbody>\n",
       "</table>\n",
       "</div>"
      ],
      "text/plain": [
       "             c_3SsnPorch\n",
       "c_3SsnPorch          1.0"
      ]
     },
     "metadata": {},
     "output_type": "display_data"
    },
    {
     "data": {
      "text/html": [
       "<div>\n",
       "<style scoped>\n",
       "    .dataframe tbody tr th:only-of-type {\n",
       "        vertical-align: middle;\n",
       "    }\n",
       "\n",
       "    .dataframe tbody tr th {\n",
       "        vertical-align: top;\n",
       "    }\n",
       "\n",
       "    .dataframe thead th {\n",
       "        text-align: right;\n",
       "    }\n",
       "</style>\n",
       "<table border=\"1\" class=\"dataframe\">\n",
       "  <thead>\n",
       "    <tr style=\"text-align: right;\">\n",
       "      <th></th>\n",
       "      <th>c_ScreenPorch</th>\n",
       "    </tr>\n",
       "  </thead>\n",
       "  <tbody>\n",
       "    <tr>\n",
       "      <th>c_ScreenPorch</th>\n",
       "      <td>1.0</td>\n",
       "    </tr>\n",
       "  </tbody>\n",
       "</table>\n",
       "</div>"
      ],
      "text/plain": [
       "               c_ScreenPorch\n",
       "c_ScreenPorch            1.0"
      ]
     },
     "metadata": {},
     "output_type": "display_data"
    },
    {
     "data": {
      "text/html": [
       "<div>\n",
       "<style scoped>\n",
       "    .dataframe tbody tr th:only-of-type {\n",
       "        vertical-align: middle;\n",
       "    }\n",
       "\n",
       "    .dataframe tbody tr th {\n",
       "        vertical-align: top;\n",
       "    }\n",
       "\n",
       "    .dataframe thead th {\n",
       "        text-align: right;\n",
       "    }\n",
       "</style>\n",
       "<table border=\"1\" class=\"dataframe\">\n",
       "  <thead>\n",
       "    <tr style=\"text-align: right;\">\n",
       "      <th></th>\n",
       "      <th>c_MiscVal</th>\n",
       "    </tr>\n",
       "  </thead>\n",
       "  <tbody>\n",
       "    <tr>\n",
       "      <th>c_MiscVal</th>\n",
       "      <td>1.0</td>\n",
       "    </tr>\n",
       "  </tbody>\n",
       "</table>\n",
       "</div>"
      ],
      "text/plain": [
       "           c_MiscVal\n",
       "c_MiscVal        1.0"
      ]
     },
     "metadata": {},
     "output_type": "display_data"
    }
   ],
   "source": [
    "for col in corr.columns:\n",
    "    display(corr[[col]][corr[[col]]>.8].dropna())"
   ]
  },
  {
   "cell_type": "code",
   "execution_count": 1042,
   "metadata": {
    "ExecuteTime": {
     "end_time": "2021-08-21T17:13:50.638653Z",
     "start_time": "2021-08-21T17:13:50.623653Z"
    }
   },
   "outputs": [],
   "source": [
    "X_train.drop(columns=[\"c_TotRmsAbvGrd\",\"c_GarageCars\"],inplace=True)\n",
    "X_test.drop(columns=[\"c_TotRmsAbvGrd\",\"c_GarageCars\"],inplace=True)"
   ]
  },
  {
   "cell_type": "code",
   "execution_count": 1043,
   "metadata": {
    "ExecuteTime": {
     "end_time": "2021-08-21T17:13:52.665794Z",
     "start_time": "2021-08-21T17:13:52.640797Z"
    }
   },
   "outputs": [],
   "source": [
    "corr=X_train[[x for x in X_train if x!=\"tgt_SalePrice\"]].filter(like=\"c_\").corr(method=\"spearman\")\n",
    "corr=abs(corr)"
   ]
  },
  {
   "cell_type": "code",
   "execution_count": null,
   "metadata": {},
   "outputs": [],
   "source": []
  },
  {
   "cell_type": "code",
   "execution_count": 1044,
   "metadata": {
    "ExecuteTime": {
     "end_time": "2021-08-21T17:13:53.484763Z",
     "start_time": "2021-08-21T17:13:53.465730Z"
    }
   },
   "outputs": [],
   "source": [
    "X_train.drop(columns=[\"c_1stFlrSF\"],inplace=True)\n",
    "X_test.drop(columns=[\"c_1stFlrSF\"],inplace=True)"
   ]
  },
  {
   "cell_type": "code",
   "execution_count": 1045,
   "metadata": {
    "ExecuteTime": {
     "end_time": "2021-08-21T17:13:55.118970Z",
     "start_time": "2021-08-21T17:13:54.985970Z"
    },
    "scrolled": true
   },
   "outputs": [
    {
     "data": {
      "text/html": [
       "<div>\n",
       "<style scoped>\n",
       "    .dataframe tbody tr th:only-of-type {\n",
       "        vertical-align: middle;\n",
       "    }\n",
       "\n",
       "    .dataframe tbody tr th {\n",
       "        vertical-align: top;\n",
       "    }\n",
       "\n",
       "    .dataframe thead th {\n",
       "        text-align: right;\n",
       "    }\n",
       "</style>\n",
       "<table border=\"1\" class=\"dataframe\">\n",
       "  <thead>\n",
       "    <tr style=\"text-align: right;\">\n",
       "      <th></th>\n",
       "      <th>c_LotFrontage</th>\n",
       "    </tr>\n",
       "  </thead>\n",
       "  <tbody>\n",
       "    <tr>\n",
       "      <th>c_LotFrontage</th>\n",
       "      <td>1.0</td>\n",
       "    </tr>\n",
       "  </tbody>\n",
       "</table>\n",
       "</div>"
      ],
      "text/plain": [
       "               c_LotFrontage\n",
       "c_LotFrontage            1.0"
      ]
     },
     "metadata": {},
     "output_type": "display_data"
    },
    {
     "data": {
      "text/html": [
       "<div>\n",
       "<style scoped>\n",
       "    .dataframe tbody tr th:only-of-type {\n",
       "        vertical-align: middle;\n",
       "    }\n",
       "\n",
       "    .dataframe tbody tr th {\n",
       "        vertical-align: top;\n",
       "    }\n",
       "\n",
       "    .dataframe thead th {\n",
       "        text-align: right;\n",
       "    }\n",
       "</style>\n",
       "<table border=\"1\" class=\"dataframe\">\n",
       "  <thead>\n",
       "    <tr style=\"text-align: right;\">\n",
       "      <th></th>\n",
       "      <th>c_LotArea</th>\n",
       "    </tr>\n",
       "  </thead>\n",
       "  <tbody>\n",
       "    <tr>\n",
       "      <th>c_LotArea</th>\n",
       "      <td>1.0</td>\n",
       "    </tr>\n",
       "  </tbody>\n",
       "</table>\n",
       "</div>"
      ],
      "text/plain": [
       "           c_LotArea\n",
       "c_LotArea        1.0"
      ]
     },
     "metadata": {},
     "output_type": "display_data"
    },
    {
     "data": {
      "text/html": [
       "<div>\n",
       "<style scoped>\n",
       "    .dataframe tbody tr th:only-of-type {\n",
       "        vertical-align: middle;\n",
       "    }\n",
       "\n",
       "    .dataframe tbody tr th {\n",
       "        vertical-align: top;\n",
       "    }\n",
       "\n",
       "    .dataframe thead th {\n",
       "        text-align: right;\n",
       "    }\n",
       "</style>\n",
       "<table border=\"1\" class=\"dataframe\">\n",
       "  <thead>\n",
       "    <tr style=\"text-align: right;\">\n",
       "      <th></th>\n",
       "      <th>c_BsmtFinSF1</th>\n",
       "    </tr>\n",
       "  </thead>\n",
       "  <tbody>\n",
       "    <tr>\n",
       "      <th>c_BsmtFinSF1</th>\n",
       "      <td>1.0</td>\n",
       "    </tr>\n",
       "  </tbody>\n",
       "</table>\n",
       "</div>"
      ],
      "text/plain": [
       "              c_BsmtFinSF1\n",
       "c_BsmtFinSF1           1.0"
      ]
     },
     "metadata": {},
     "output_type": "display_data"
    },
    {
     "data": {
      "text/html": [
       "<div>\n",
       "<style scoped>\n",
       "    .dataframe tbody tr th:only-of-type {\n",
       "        vertical-align: middle;\n",
       "    }\n",
       "\n",
       "    .dataframe tbody tr th {\n",
       "        vertical-align: top;\n",
       "    }\n",
       "\n",
       "    .dataframe thead th {\n",
       "        text-align: right;\n",
       "    }\n",
       "</style>\n",
       "<table border=\"1\" class=\"dataframe\">\n",
       "  <thead>\n",
       "    <tr style=\"text-align: right;\">\n",
       "      <th></th>\n",
       "      <th>c_BsmtFinSF2</th>\n",
       "    </tr>\n",
       "  </thead>\n",
       "  <tbody>\n",
       "    <tr>\n",
       "      <th>c_BsmtFinSF2</th>\n",
       "      <td>1.0</td>\n",
       "    </tr>\n",
       "  </tbody>\n",
       "</table>\n",
       "</div>"
      ],
      "text/plain": [
       "              c_BsmtFinSF2\n",
       "c_BsmtFinSF2           1.0"
      ]
     },
     "metadata": {},
     "output_type": "display_data"
    },
    {
     "data": {
      "text/html": [
       "<div>\n",
       "<style scoped>\n",
       "    .dataframe tbody tr th:only-of-type {\n",
       "        vertical-align: middle;\n",
       "    }\n",
       "\n",
       "    .dataframe tbody tr th {\n",
       "        vertical-align: top;\n",
       "    }\n",
       "\n",
       "    .dataframe thead th {\n",
       "        text-align: right;\n",
       "    }\n",
       "</style>\n",
       "<table border=\"1\" class=\"dataframe\">\n",
       "  <thead>\n",
       "    <tr style=\"text-align: right;\">\n",
       "      <th></th>\n",
       "      <th>c_BsmtUnfSF</th>\n",
       "    </tr>\n",
       "  </thead>\n",
       "  <tbody>\n",
       "    <tr>\n",
       "      <th>c_BsmtUnfSF</th>\n",
       "      <td>1.0</td>\n",
       "    </tr>\n",
       "  </tbody>\n",
       "</table>\n",
       "</div>"
      ],
      "text/plain": [
       "             c_BsmtUnfSF\n",
       "c_BsmtUnfSF          1.0"
      ]
     },
     "metadata": {},
     "output_type": "display_data"
    },
    {
     "data": {
      "text/html": [
       "<div>\n",
       "<style scoped>\n",
       "    .dataframe tbody tr th:only-of-type {\n",
       "        vertical-align: middle;\n",
       "    }\n",
       "\n",
       "    .dataframe tbody tr th {\n",
       "        vertical-align: top;\n",
       "    }\n",
       "\n",
       "    .dataframe thead th {\n",
       "        text-align: right;\n",
       "    }\n",
       "</style>\n",
       "<table border=\"1\" class=\"dataframe\">\n",
       "  <thead>\n",
       "    <tr style=\"text-align: right;\">\n",
       "      <th></th>\n",
       "      <th>c_TotalBsmtSF</th>\n",
       "    </tr>\n",
       "  </thead>\n",
       "  <tbody>\n",
       "    <tr>\n",
       "      <th>c_TotalBsmtSF</th>\n",
       "      <td>1.000000</td>\n",
       "    </tr>\n",
       "    <tr>\n",
       "      <th>c_1stFlrSF</th>\n",
       "      <td>0.817905</td>\n",
       "    </tr>\n",
       "  </tbody>\n",
       "</table>\n",
       "</div>"
      ],
      "text/plain": [
       "               c_TotalBsmtSF\n",
       "c_TotalBsmtSF       1.000000\n",
       "c_1stFlrSF          0.817905"
      ]
     },
     "metadata": {},
     "output_type": "display_data"
    },
    {
     "data": {
      "text/html": [
       "<div>\n",
       "<style scoped>\n",
       "    .dataframe tbody tr th:only-of-type {\n",
       "        vertical-align: middle;\n",
       "    }\n",
       "\n",
       "    .dataframe tbody tr th {\n",
       "        vertical-align: top;\n",
       "    }\n",
       "\n",
       "    .dataframe thead th {\n",
       "        text-align: right;\n",
       "    }\n",
       "</style>\n",
       "<table border=\"1\" class=\"dataframe\">\n",
       "  <thead>\n",
       "    <tr style=\"text-align: right;\">\n",
       "      <th></th>\n",
       "      <th>c_1stFlrSF</th>\n",
       "    </tr>\n",
       "  </thead>\n",
       "  <tbody>\n",
       "    <tr>\n",
       "      <th>c_TotalBsmtSF</th>\n",
       "      <td>0.817905</td>\n",
       "    </tr>\n",
       "    <tr>\n",
       "      <th>c_1stFlrSF</th>\n",
       "      <td>1.000000</td>\n",
       "    </tr>\n",
       "  </tbody>\n",
       "</table>\n",
       "</div>"
      ],
      "text/plain": [
       "               c_1stFlrSF\n",
       "c_TotalBsmtSF    0.817905\n",
       "c_1stFlrSF       1.000000"
      ]
     },
     "metadata": {},
     "output_type": "display_data"
    },
    {
     "data": {
      "text/html": [
       "<div>\n",
       "<style scoped>\n",
       "    .dataframe tbody tr th:only-of-type {\n",
       "        vertical-align: middle;\n",
       "    }\n",
       "\n",
       "    .dataframe tbody tr th {\n",
       "        vertical-align: top;\n",
       "    }\n",
       "\n",
       "    .dataframe thead th {\n",
       "        text-align: right;\n",
       "    }\n",
       "</style>\n",
       "<table border=\"1\" class=\"dataframe\">\n",
       "  <thead>\n",
       "    <tr style=\"text-align: right;\">\n",
       "      <th></th>\n",
       "      <th>c_2ndFlrSF</th>\n",
       "    </tr>\n",
       "  </thead>\n",
       "  <tbody>\n",
       "    <tr>\n",
       "      <th>c_2ndFlrSF</th>\n",
       "      <td>1.0</td>\n",
       "    </tr>\n",
       "  </tbody>\n",
       "</table>\n",
       "</div>"
      ],
      "text/plain": [
       "            c_2ndFlrSF\n",
       "c_2ndFlrSF         1.0"
      ]
     },
     "metadata": {},
     "output_type": "display_data"
    },
    {
     "data": {
      "text/html": [
       "<div>\n",
       "<style scoped>\n",
       "    .dataframe tbody tr th:only-of-type {\n",
       "        vertical-align: middle;\n",
       "    }\n",
       "\n",
       "    .dataframe tbody tr th {\n",
       "        vertical-align: top;\n",
       "    }\n",
       "\n",
       "    .dataframe thead th {\n",
       "        text-align: right;\n",
       "    }\n",
       "</style>\n",
       "<table border=\"1\" class=\"dataframe\">\n",
       "  <thead>\n",
       "    <tr style=\"text-align: right;\">\n",
       "      <th></th>\n",
       "      <th>c_GrLivArea</th>\n",
       "    </tr>\n",
       "  </thead>\n",
       "  <tbody>\n",
       "    <tr>\n",
       "      <th>c_GrLivArea</th>\n",
       "      <td>1.0</td>\n",
       "    </tr>\n",
       "  </tbody>\n",
       "</table>\n",
       "</div>"
      ],
      "text/plain": [
       "             c_GrLivArea\n",
       "c_GrLivArea          1.0"
      ]
     },
     "metadata": {},
     "output_type": "display_data"
    },
    {
     "data": {
      "text/html": [
       "<div>\n",
       "<style scoped>\n",
       "    .dataframe tbody tr th:only-of-type {\n",
       "        vertical-align: middle;\n",
       "    }\n",
       "\n",
       "    .dataframe tbody tr th {\n",
       "        vertical-align: top;\n",
       "    }\n",
       "\n",
       "    .dataframe thead th {\n",
       "        text-align: right;\n",
       "    }\n",
       "</style>\n",
       "<table border=\"1\" class=\"dataframe\">\n",
       "  <thead>\n",
       "    <tr style=\"text-align: right;\">\n",
       "      <th></th>\n",
       "      <th>c_HalfBath</th>\n",
       "    </tr>\n",
       "  </thead>\n",
       "  <tbody>\n",
       "    <tr>\n",
       "      <th>c_HalfBath</th>\n",
       "      <td>1.0</td>\n",
       "    </tr>\n",
       "  </tbody>\n",
       "</table>\n",
       "</div>"
      ],
      "text/plain": [
       "            c_HalfBath\n",
       "c_HalfBath         1.0"
      ]
     },
     "metadata": {},
     "output_type": "display_data"
    },
    {
     "data": {
      "text/html": [
       "<div>\n",
       "<style scoped>\n",
       "    .dataframe tbody tr th:only-of-type {\n",
       "        vertical-align: middle;\n",
       "    }\n",
       "\n",
       "    .dataframe tbody tr th {\n",
       "        vertical-align: top;\n",
       "    }\n",
       "\n",
       "    .dataframe thead th {\n",
       "        text-align: right;\n",
       "    }\n",
       "</style>\n",
       "<table border=\"1\" class=\"dataframe\">\n",
       "  <thead>\n",
       "    <tr style=\"text-align: right;\">\n",
       "      <th></th>\n",
       "      <th>c_BedroomAbvGr</th>\n",
       "    </tr>\n",
       "  </thead>\n",
       "  <tbody>\n",
       "    <tr>\n",
       "      <th>c_BedroomAbvGr</th>\n",
       "      <td>1.0</td>\n",
       "    </tr>\n",
       "  </tbody>\n",
       "</table>\n",
       "</div>"
      ],
      "text/plain": [
       "                c_BedroomAbvGr\n",
       "c_BedroomAbvGr             1.0"
      ]
     },
     "metadata": {},
     "output_type": "display_data"
    },
    {
     "data": {
      "text/html": [
       "<div>\n",
       "<style scoped>\n",
       "    .dataframe tbody tr th:only-of-type {\n",
       "        vertical-align: middle;\n",
       "    }\n",
       "\n",
       "    .dataframe tbody tr th {\n",
       "        vertical-align: top;\n",
       "    }\n",
       "\n",
       "    .dataframe thead th {\n",
       "        text-align: right;\n",
       "    }\n",
       "</style>\n",
       "<table border=\"1\" class=\"dataframe\">\n",
       "  <thead>\n",
       "    <tr style=\"text-align: right;\">\n",
       "      <th></th>\n",
       "      <th>c_GarageArea</th>\n",
       "    </tr>\n",
       "  </thead>\n",
       "  <tbody>\n",
       "    <tr>\n",
       "      <th>c_GarageArea</th>\n",
       "      <td>1.0</td>\n",
       "    </tr>\n",
       "  </tbody>\n",
       "</table>\n",
       "</div>"
      ],
      "text/plain": [
       "              c_GarageArea\n",
       "c_GarageArea           1.0"
      ]
     },
     "metadata": {},
     "output_type": "display_data"
    },
    {
     "data": {
      "text/html": [
       "<div>\n",
       "<style scoped>\n",
       "    .dataframe tbody tr th:only-of-type {\n",
       "        vertical-align: middle;\n",
       "    }\n",
       "\n",
       "    .dataframe tbody tr th {\n",
       "        vertical-align: top;\n",
       "    }\n",
       "\n",
       "    .dataframe thead th {\n",
       "        text-align: right;\n",
       "    }\n",
       "</style>\n",
       "<table border=\"1\" class=\"dataframe\">\n",
       "  <thead>\n",
       "    <tr style=\"text-align: right;\">\n",
       "      <th></th>\n",
       "      <th>c_WoodDeckSF</th>\n",
       "    </tr>\n",
       "  </thead>\n",
       "  <tbody>\n",
       "    <tr>\n",
       "      <th>c_WoodDeckSF</th>\n",
       "      <td>1.0</td>\n",
       "    </tr>\n",
       "  </tbody>\n",
       "</table>\n",
       "</div>"
      ],
      "text/plain": [
       "              c_WoodDeckSF\n",
       "c_WoodDeckSF           1.0"
      ]
     },
     "metadata": {},
     "output_type": "display_data"
    },
    {
     "data": {
      "text/html": [
       "<div>\n",
       "<style scoped>\n",
       "    .dataframe tbody tr th:only-of-type {\n",
       "        vertical-align: middle;\n",
       "    }\n",
       "\n",
       "    .dataframe tbody tr th {\n",
       "        vertical-align: top;\n",
       "    }\n",
       "\n",
       "    .dataframe thead th {\n",
       "        text-align: right;\n",
       "    }\n",
       "</style>\n",
       "<table border=\"1\" class=\"dataframe\">\n",
       "  <thead>\n",
       "    <tr style=\"text-align: right;\">\n",
       "      <th></th>\n",
       "      <th>c_OpenPorchSF</th>\n",
       "    </tr>\n",
       "  </thead>\n",
       "  <tbody>\n",
       "    <tr>\n",
       "      <th>c_OpenPorchSF</th>\n",
       "      <td>1.0</td>\n",
       "    </tr>\n",
       "  </tbody>\n",
       "</table>\n",
       "</div>"
      ],
      "text/plain": [
       "               c_OpenPorchSF\n",
       "c_OpenPorchSF            1.0"
      ]
     },
     "metadata": {},
     "output_type": "display_data"
    },
    {
     "data": {
      "text/html": [
       "<div>\n",
       "<style scoped>\n",
       "    .dataframe tbody tr th:only-of-type {\n",
       "        vertical-align: middle;\n",
       "    }\n",
       "\n",
       "    .dataframe tbody tr th {\n",
       "        vertical-align: top;\n",
       "    }\n",
       "\n",
       "    .dataframe thead th {\n",
       "        text-align: right;\n",
       "    }\n",
       "</style>\n",
       "<table border=\"1\" class=\"dataframe\">\n",
       "  <thead>\n",
       "    <tr style=\"text-align: right;\">\n",
       "      <th></th>\n",
       "      <th>c_EnclosedPorch</th>\n",
       "    </tr>\n",
       "  </thead>\n",
       "  <tbody>\n",
       "    <tr>\n",
       "      <th>c_EnclosedPorch</th>\n",
       "      <td>1.0</td>\n",
       "    </tr>\n",
       "  </tbody>\n",
       "</table>\n",
       "</div>"
      ],
      "text/plain": [
       "                 c_EnclosedPorch\n",
       "c_EnclosedPorch              1.0"
      ]
     },
     "metadata": {},
     "output_type": "display_data"
    },
    {
     "data": {
      "text/html": [
       "<div>\n",
       "<style scoped>\n",
       "    .dataframe tbody tr th:only-of-type {\n",
       "        vertical-align: middle;\n",
       "    }\n",
       "\n",
       "    .dataframe tbody tr th {\n",
       "        vertical-align: top;\n",
       "    }\n",
       "\n",
       "    .dataframe thead th {\n",
       "        text-align: right;\n",
       "    }\n",
       "</style>\n",
       "<table border=\"1\" class=\"dataframe\">\n",
       "  <thead>\n",
       "    <tr style=\"text-align: right;\">\n",
       "      <th></th>\n",
       "      <th>c_3SsnPorch</th>\n",
       "    </tr>\n",
       "  </thead>\n",
       "  <tbody>\n",
       "    <tr>\n",
       "      <th>c_3SsnPorch</th>\n",
       "      <td>1.0</td>\n",
       "    </tr>\n",
       "  </tbody>\n",
       "</table>\n",
       "</div>"
      ],
      "text/plain": [
       "             c_3SsnPorch\n",
       "c_3SsnPorch          1.0"
      ]
     },
     "metadata": {},
     "output_type": "display_data"
    },
    {
     "data": {
      "text/html": [
       "<div>\n",
       "<style scoped>\n",
       "    .dataframe tbody tr th:only-of-type {\n",
       "        vertical-align: middle;\n",
       "    }\n",
       "\n",
       "    .dataframe tbody tr th {\n",
       "        vertical-align: top;\n",
       "    }\n",
       "\n",
       "    .dataframe thead th {\n",
       "        text-align: right;\n",
       "    }\n",
       "</style>\n",
       "<table border=\"1\" class=\"dataframe\">\n",
       "  <thead>\n",
       "    <tr style=\"text-align: right;\">\n",
       "      <th></th>\n",
       "      <th>c_ScreenPorch</th>\n",
       "    </tr>\n",
       "  </thead>\n",
       "  <tbody>\n",
       "    <tr>\n",
       "      <th>c_ScreenPorch</th>\n",
       "      <td>1.0</td>\n",
       "    </tr>\n",
       "  </tbody>\n",
       "</table>\n",
       "</div>"
      ],
      "text/plain": [
       "               c_ScreenPorch\n",
       "c_ScreenPorch            1.0"
      ]
     },
     "metadata": {},
     "output_type": "display_data"
    },
    {
     "data": {
      "text/html": [
       "<div>\n",
       "<style scoped>\n",
       "    .dataframe tbody tr th:only-of-type {\n",
       "        vertical-align: middle;\n",
       "    }\n",
       "\n",
       "    .dataframe tbody tr th {\n",
       "        vertical-align: top;\n",
       "    }\n",
       "\n",
       "    .dataframe thead th {\n",
       "        text-align: right;\n",
       "    }\n",
       "</style>\n",
       "<table border=\"1\" class=\"dataframe\">\n",
       "  <thead>\n",
       "    <tr style=\"text-align: right;\">\n",
       "      <th></th>\n",
       "      <th>c_MiscVal</th>\n",
       "    </tr>\n",
       "  </thead>\n",
       "  <tbody>\n",
       "    <tr>\n",
       "      <th>c_MiscVal</th>\n",
       "      <td>1.0</td>\n",
       "    </tr>\n",
       "  </tbody>\n",
       "</table>\n",
       "</div>"
      ],
      "text/plain": [
       "           c_MiscVal\n",
       "c_MiscVal        1.0"
      ]
     },
     "metadata": {},
     "output_type": "display_data"
    }
   ],
   "source": [
    "for col in corr.columns:\n",
    "    display(corr[[col]][corr[[col]]>.8].dropna())"
   ]
  },
  {
   "cell_type": "code",
   "execution_count": 1046,
   "metadata": {
    "ExecuteTime": {
     "end_time": "2021-08-21T17:13:57.691126Z",
     "start_time": "2021-08-21T17:13:57.642132Z"
    }
   },
   "outputs": [
    {
     "data": {
      "application/vnd.plotly.v1+json": {
       "config": {
        "linkText": "Export to plot.ly",
        "plotlyServerURL": "https://plot.ly",
        "showLink": true
       },
       "data": [
        {
         "colorscale": [
          [
           0,
           "rgb(255,247,236)"
          ],
          [
           0.125,
           "rgb(254,232,200)"
          ],
          [
           0.25,
           "rgb(253,212,158)"
          ],
          [
           0.375,
           "rgb(253,187,132)"
          ],
          [
           0.5,
           "rgb(252,141,89)"
          ],
          [
           0.625,
           "rgb(239,101,72)"
          ],
          [
           0.75,
           "rgb(215,48,31)"
          ],
          [
           0.875,
           "rgb(179,0,0)"
          ],
          [
           1,
           "rgb(127,0,0)"
          ]
         ],
         "type": "heatmap",
         "x": [
          "c_LotFrontage",
          "c_LotArea",
          "c_BsmtFinSF1",
          "c_BsmtFinSF2",
          "c_BsmtUnfSF",
          "c_TotalBsmtSF",
          "c_2ndFlrSF",
          "c_GrLivArea",
          "c_HalfBath",
          "c_BedroomAbvGr",
          "c_GarageArea",
          "c_WoodDeckSF",
          "c_OpenPorchSF",
          "c_EnclosedPorch",
          "c_3SsnPorch",
          "c_ScreenPorch",
          "c_MiscVal"
         ],
         "y": [
          "c_LotFrontage",
          "c_LotArea",
          "c_BsmtFinSF1",
          "c_BsmtFinSF2",
          "c_BsmtUnfSF",
          "c_TotalBsmtSF",
          "c_2ndFlrSF",
          "c_GrLivArea",
          "c_HalfBath",
          "c_BedroomAbvGr",
          "c_GarageArea",
          "c_WoodDeckSF",
          "c_OpenPorchSF",
          "c_EnclosedPorch",
          "c_3SsnPorch",
          "c_ScreenPorch",
          "c_MiscVal"
         ],
         "z": [
          [
           1,
           0.6511062231146368,
           0.17922483486920457,
           0.09576928464202553,
           0.03128149532718623,
           0.3433567425493085,
           -0.012712690838602611,
           0.2805094366328047,
           0.060432038582161736,
           0.313969753369199,
           0.29391518332522804,
           0.048339398092009794,
           0.09888217383840939,
           -0.13134239429329297,
           0.07048865433055242,
           0.06643729713428112,
           0.0010031531656518329
          ],
          [
           0.6511062231146368,
           1,
           0.10628597190535467,
           0.023384789003967222,
           0.08815808808781285,
           0.2810375178444615,
           0.0871312881452911,
           0.35602583511196,
           0.11436826220053398,
           0.33412330513908317,
           0.28096030453948045,
           0.11045131340721942,
           0.11932544987405118,
           -0.08350558384306972,
           0.06307332227463083,
           0.07815920891912538,
           0.041344024339604525
          ],
          [
           0.17922483486920457,
           0.10628597190535467,
           1,
           0.07202387107282848,
           -0.616344549099751,
           0.42239027193860984,
           -0.27181099192878794,
           -0.008944753064763306,
           -0.09885771699805396,
           -0.058535913308345844,
           0.1833761326643688,
           0.15060391548734212,
           0.0443343573003941,
           -0.1918959522495421,
           0.039010608997929755,
           0.10205833862537343,
           -0.031493769237752774
          ],
          [
           0.09576928464202553,
           0.023384789003967222,
           0.07202387107282848,
           1,
           -0.31053322356019863,
           0.0489316604491137,
           -0.1278805782757276,
           -0.10922801385572027,
           -0.039677750322928335,
           0.0491124432987285,
           -0.034720163717082024,
           0.06181004811713941,
           -0.12100270664543483,
           0.03840678409018545,
           -0.0073569880548323965,
           -0.004438223299690165,
           0.015938424884728575
          ],
          [
           0.03128149532718623,
           0.08815808808781285,
           -0.616344549099751,
           -0.31053322356019863,
           1,
           0.3044197364114741,
           0.08198032873234042,
           0.263851382004036,
           0.008635512243151906,
           0.10360870390849239,
           0.09413746577611114,
           -0.029887977258907687,
           0.1536947907075956,
           0.0696532888584831,
           0.06882860196014175,
           -0.02705359730863575,
           -0.041428585284988426
          ],
          [
           0.3433567425493085,
           0.2810375178444615,
           0.42239027193860984,
           0.0489316604491137,
           0.3044197364114741,
           1,
           -0.39815466018322226,
           0.2555379893678099,
           -0.19463967987292732,
           0.051694713442437375,
           0.3929742831033454,
           0.19903826841881353,
           0.22098953814721622,
           -0.21068225327330814,
           0.10013093038033069,
           0.08262896707437829,
           -0.09237233738456645
          ],
          [
           -0.012712690838602611,
           0.0871312881452911,
           -0.27181099192878794,
           -0.1278805782757276,
           0.08198032873234042,
           -0.39815466018322226,
           1,
           0.656231607353901,
           0.628896186056878,
           0.4468811107250622,
           0.0587529390867887,
           0.026089838955929555,
           0.20510990072086224,
           0.05474783008874048,
           -0.040682857076798126,
           -0.02352207094373166,
           -0.06097294972778831
          ],
          [
           0.2805094366328047,
           0.35602583511196,
           -0.008944753064763306,
           -0.10922801385572027,
           0.263851382004036,
           0.2555379893678099,
           0.656231607353901,
           1,
           0.4403366362880337,
           0.5197188776821938,
           0.39715239494744864,
           0.1822052484724354,
           0.3679278592638165,
           -0.06920731774123723,
           0.024689777488585165,
           0.07138125172327725,
           -0.09853792565143761
          ],
          [
           0.060432038582161736,
           0.11436826220053398,
           -0.09885771699805396,
           -0.039677750322928335,
           0.008635512243151906,
           -0.19463967987292732,
           0.628896186056878,
           0.4403366362880337,
           1,
           0.2951377112471954,
           0.09946318961845461,
           0.0824503399607492,
           0.26130540729598367,
           -0.13047174956458976,
           -0.0022370154491674673,
           0.010186516685184745,
           -0.06251368024974115
          ],
          [
           0.313969753369199,
           0.33412330513908317,
           -0.058535913308345844,
           0.0491124432987285,
           0.10360870390849239,
           0.051694713442437375,
           0.4468811107250622,
           0.5197188776821938,
           0.2951377112471954,
           1,
           0.10751219383451224,
           0.03192243671014734,
           0.07539561533827119,
           -0.018826249051236824,
           0.0134228407295994,
           0.05491249452505436,
           -0.041724357513586746
          ],
          [
           0.29391518332522804,
           0.28096030453948045,
           0.1833761326643688,
           -0.034720163717082024,
           0.09413746577611114,
           0.3929742831033454,
           0.0587529390867887,
           0.39715239494744864,
           0.09946318961845461,
           0.10751219383451224,
           1,
           0.20944975066082516,
           0.3347156011590167,
           -0.24211150940513307,
           0.0465872943750308,
           0.026054927008732905,
           0.021337789843587848
          ],
          [
           0.048339398092009794,
           0.11045131340721942,
           0.15060391548734212,
           0.06181004811713941,
           -0.029887977258907687,
           0.19903826841881353,
           0.026089838955929555,
           0.1822052484724354,
           0.0824503399607492,
           0.03192243671014734,
           0.20944975066082516,
           1,
           0.10867101202552962,
           -0.15896001396010537,
           -0.06233410913631466,
           -0.10654152353245236,
           0.007567933985598332
          ],
          [
           0.09888217383840939,
           0.11932544987405118,
           0.0443343573003941,
           -0.12100270664543483,
           0.1536947907075956,
           0.22098953814721622,
           0.20510990072086224,
           0.3679278592638165,
           0.26130540729598367,
           0.07539561533827119,
           0.3347156011590167,
           0.10867101202552962,
           1,
           -0.23034958169718847,
           -0.005985379867945856,
           -0.03115210059663536,
           -0.08607505995940112
          ],
          [
           -0.13134239429329297,
           -0.08350558384306972,
           -0.1918959522495421,
           0.03840678409018545,
           0.0696532888584831,
           -0.21068225327330814,
           0.05474783008874048,
           -0.06920731774123723,
           -0.13047174956458976,
           -0.018826249051236824,
           -0.24211150940513307,
           -0.15896001396010537,
           -0.23034958169718847,
           1,
           -0.030337159412749556,
           -0.06974742669002774,
           0.011620990422357959
          ],
          [
           0.07048865433055242,
           0.06307332227463083,
           0.039010608997929755,
           -0.0073569880548323965,
           0.06882860196014175,
           0.10013093038033069,
           -0.040682857076798126,
           0.024689777488585165,
           -0.0022370154491674673,
           0.0134228407295994,
           0.0465872943750308,
           -0.06233410913631466,
           -0.005985379867945856,
           -0.030337159412749556,
           1,
           -0.03231929373115057,
           -0.01787483998631498
          ],
          [
           0.06643729713428112,
           0.07815920891912538,
           0.10205833862537343,
           -0.004438223299690165,
           -0.02705359730863575,
           0.08262896707437829,
           -0.02352207094373166,
           0.07138125172327725,
           0.010186516685184745,
           0.05491249452505436,
           0.026054927008732905,
           -0.10654152353245236,
           -0.03115210059663536,
           -0.06974742669002774,
           -0.03231929373115057,
           1,
           0.0020347285027728546
          ],
          [
           0.0010031531656518329,
           0.041344024339604525,
           -0.031493769237752774,
           0.015938424884728575,
           -0.041428585284988426,
           -0.09237233738456645,
           -0.06097294972778831,
           -0.09853792565143761,
           -0.06251368024974115,
           -0.041724357513586746,
           0.021337789843587848,
           0.007567933985598332,
           -0.08607505995940112,
           0.011620990422357959,
           -0.01787483998631498,
           0.0020347285027728546,
           1
          ]
         ],
         "zmax": 1,
         "zmin": -0.616344549099751
        }
       ],
       "layout": {
        "legend": {
         "bgcolor": "#F5F6F9",
         "font": {
          "color": "#4D5663"
         }
        },
        "paper_bgcolor": "#F5F6F9",
        "plot_bgcolor": "#F5F6F9",
        "template": {
         "data": {
          "bar": [
           {
            "error_x": {
             "color": "#2a3f5f"
            },
            "error_y": {
             "color": "#2a3f5f"
            },
            "marker": {
             "line": {
              "color": "#E5ECF6",
              "width": 0.5
             }
            },
            "type": "bar"
           }
          ],
          "barpolar": [
           {
            "marker": {
             "line": {
              "color": "#E5ECF6",
              "width": 0.5
             }
            },
            "type": "barpolar"
           }
          ],
          "carpet": [
           {
            "aaxis": {
             "endlinecolor": "#2a3f5f",
             "gridcolor": "white",
             "linecolor": "white",
             "minorgridcolor": "white",
             "startlinecolor": "#2a3f5f"
            },
            "baxis": {
             "endlinecolor": "#2a3f5f",
             "gridcolor": "white",
             "linecolor": "white",
             "minorgridcolor": "white",
             "startlinecolor": "#2a3f5f"
            },
            "type": "carpet"
           }
          ],
          "choropleth": [
           {
            "colorbar": {
             "outlinewidth": 0,
             "ticks": ""
            },
            "type": "choropleth"
           }
          ],
          "contour": [
           {
            "colorbar": {
             "outlinewidth": 0,
             "ticks": ""
            },
            "colorscale": [
             [
              0,
              "#0d0887"
             ],
             [
              0.1111111111111111,
              "#46039f"
             ],
             [
              0.2222222222222222,
              "#7201a8"
             ],
             [
              0.3333333333333333,
              "#9c179e"
             ],
             [
              0.4444444444444444,
              "#bd3786"
             ],
             [
              0.5555555555555556,
              "#d8576b"
             ],
             [
              0.6666666666666666,
              "#ed7953"
             ],
             [
              0.7777777777777778,
              "#fb9f3a"
             ],
             [
              0.8888888888888888,
              "#fdca26"
             ],
             [
              1,
              "#f0f921"
             ]
            ],
            "type": "contour"
           }
          ],
          "contourcarpet": [
           {
            "colorbar": {
             "outlinewidth": 0,
             "ticks": ""
            },
            "type": "contourcarpet"
           }
          ],
          "heatmap": [
           {
            "colorbar": {
             "outlinewidth": 0,
             "ticks": ""
            },
            "colorscale": [
             [
              0,
              "#0d0887"
             ],
             [
              0.1111111111111111,
              "#46039f"
             ],
             [
              0.2222222222222222,
              "#7201a8"
             ],
             [
              0.3333333333333333,
              "#9c179e"
             ],
             [
              0.4444444444444444,
              "#bd3786"
             ],
             [
              0.5555555555555556,
              "#d8576b"
             ],
             [
              0.6666666666666666,
              "#ed7953"
             ],
             [
              0.7777777777777778,
              "#fb9f3a"
             ],
             [
              0.8888888888888888,
              "#fdca26"
             ],
             [
              1,
              "#f0f921"
             ]
            ],
            "type": "heatmap"
           }
          ],
          "heatmapgl": [
           {
            "colorbar": {
             "outlinewidth": 0,
             "ticks": ""
            },
            "colorscale": [
             [
              0,
              "#0d0887"
             ],
             [
              0.1111111111111111,
              "#46039f"
             ],
             [
              0.2222222222222222,
              "#7201a8"
             ],
             [
              0.3333333333333333,
              "#9c179e"
             ],
             [
              0.4444444444444444,
              "#bd3786"
             ],
             [
              0.5555555555555556,
              "#d8576b"
             ],
             [
              0.6666666666666666,
              "#ed7953"
             ],
             [
              0.7777777777777778,
              "#fb9f3a"
             ],
             [
              0.8888888888888888,
              "#fdca26"
             ],
             [
              1,
              "#f0f921"
             ]
            ],
            "type": "heatmapgl"
           }
          ],
          "histogram": [
           {
            "marker": {
             "colorbar": {
              "outlinewidth": 0,
              "ticks": ""
             }
            },
            "type": "histogram"
           }
          ],
          "histogram2d": [
           {
            "colorbar": {
             "outlinewidth": 0,
             "ticks": ""
            },
            "colorscale": [
             [
              0,
              "#0d0887"
             ],
             [
              0.1111111111111111,
              "#46039f"
             ],
             [
              0.2222222222222222,
              "#7201a8"
             ],
             [
              0.3333333333333333,
              "#9c179e"
             ],
             [
              0.4444444444444444,
              "#bd3786"
             ],
             [
              0.5555555555555556,
              "#d8576b"
             ],
             [
              0.6666666666666666,
              "#ed7953"
             ],
             [
              0.7777777777777778,
              "#fb9f3a"
             ],
             [
              0.8888888888888888,
              "#fdca26"
             ],
             [
              1,
              "#f0f921"
             ]
            ],
            "type": "histogram2d"
           }
          ],
          "histogram2dcontour": [
           {
            "colorbar": {
             "outlinewidth": 0,
             "ticks": ""
            },
            "colorscale": [
             [
              0,
              "#0d0887"
             ],
             [
              0.1111111111111111,
              "#46039f"
             ],
             [
              0.2222222222222222,
              "#7201a8"
             ],
             [
              0.3333333333333333,
              "#9c179e"
             ],
             [
              0.4444444444444444,
              "#bd3786"
             ],
             [
              0.5555555555555556,
              "#d8576b"
             ],
             [
              0.6666666666666666,
              "#ed7953"
             ],
             [
              0.7777777777777778,
              "#fb9f3a"
             ],
             [
              0.8888888888888888,
              "#fdca26"
             ],
             [
              1,
              "#f0f921"
             ]
            ],
            "type": "histogram2dcontour"
           }
          ],
          "mesh3d": [
           {
            "colorbar": {
             "outlinewidth": 0,
             "ticks": ""
            },
            "type": "mesh3d"
           }
          ],
          "parcoords": [
           {
            "line": {
             "colorbar": {
              "outlinewidth": 0,
              "ticks": ""
             }
            },
            "type": "parcoords"
           }
          ],
          "pie": [
           {
            "automargin": true,
            "type": "pie"
           }
          ],
          "scatter": [
           {
            "marker": {
             "colorbar": {
              "outlinewidth": 0,
              "ticks": ""
             }
            },
            "type": "scatter"
           }
          ],
          "scatter3d": [
           {
            "line": {
             "colorbar": {
              "outlinewidth": 0,
              "ticks": ""
             }
            },
            "marker": {
             "colorbar": {
              "outlinewidth": 0,
              "ticks": ""
             }
            },
            "type": "scatter3d"
           }
          ],
          "scattercarpet": [
           {
            "marker": {
             "colorbar": {
              "outlinewidth": 0,
              "ticks": ""
             }
            },
            "type": "scattercarpet"
           }
          ],
          "scattergeo": [
           {
            "marker": {
             "colorbar": {
              "outlinewidth": 0,
              "ticks": ""
             }
            },
            "type": "scattergeo"
           }
          ],
          "scattergl": [
           {
            "marker": {
             "colorbar": {
              "outlinewidth": 0,
              "ticks": ""
             }
            },
            "type": "scattergl"
           }
          ],
          "scattermapbox": [
           {
            "marker": {
             "colorbar": {
              "outlinewidth": 0,
              "ticks": ""
             }
            },
            "type": "scattermapbox"
           }
          ],
          "scatterpolar": [
           {
            "marker": {
             "colorbar": {
              "outlinewidth": 0,
              "ticks": ""
             }
            },
            "type": "scatterpolar"
           }
          ],
          "scatterpolargl": [
           {
            "marker": {
             "colorbar": {
              "outlinewidth": 0,
              "ticks": ""
             }
            },
            "type": "scatterpolargl"
           }
          ],
          "scatterternary": [
           {
            "marker": {
             "colorbar": {
              "outlinewidth": 0,
              "ticks": ""
             }
            },
            "type": "scatterternary"
           }
          ],
          "surface": [
           {
            "colorbar": {
             "outlinewidth": 0,
             "ticks": ""
            },
            "colorscale": [
             [
              0,
              "#0d0887"
             ],
             [
              0.1111111111111111,
              "#46039f"
             ],
             [
              0.2222222222222222,
              "#7201a8"
             ],
             [
              0.3333333333333333,
              "#9c179e"
             ],
             [
              0.4444444444444444,
              "#bd3786"
             ],
             [
              0.5555555555555556,
              "#d8576b"
             ],
             [
              0.6666666666666666,
              "#ed7953"
             ],
             [
              0.7777777777777778,
              "#fb9f3a"
             ],
             [
              0.8888888888888888,
              "#fdca26"
             ],
             [
              1,
              "#f0f921"
             ]
            ],
            "type": "surface"
           }
          ],
          "table": [
           {
            "cells": {
             "fill": {
              "color": "#EBF0F8"
             },
             "line": {
              "color": "white"
             }
            },
            "header": {
             "fill": {
              "color": "#C8D4E3"
             },
             "line": {
              "color": "white"
             }
            },
            "type": "table"
           }
          ]
         },
         "layout": {
          "annotationdefaults": {
           "arrowcolor": "#2a3f5f",
           "arrowhead": 0,
           "arrowwidth": 1
          },
          "autotypenumbers": "strict",
          "coloraxis": {
           "colorbar": {
            "outlinewidth": 0,
            "ticks": ""
           }
          },
          "colorscale": {
           "diverging": [
            [
             0,
             "#8e0152"
            ],
            [
             0.1,
             "#c51b7d"
            ],
            [
             0.2,
             "#de77ae"
            ],
            [
             0.3,
             "#f1b6da"
            ],
            [
             0.4,
             "#fde0ef"
            ],
            [
             0.5,
             "#f7f7f7"
            ],
            [
             0.6,
             "#e6f5d0"
            ],
            [
             0.7,
             "#b8e186"
            ],
            [
             0.8,
             "#7fbc41"
            ],
            [
             0.9,
             "#4d9221"
            ],
            [
             1,
             "#276419"
            ]
           ],
           "sequential": [
            [
             0,
             "#0d0887"
            ],
            [
             0.1111111111111111,
             "#46039f"
            ],
            [
             0.2222222222222222,
             "#7201a8"
            ],
            [
             0.3333333333333333,
             "#9c179e"
            ],
            [
             0.4444444444444444,
             "#bd3786"
            ],
            [
             0.5555555555555556,
             "#d8576b"
            ],
            [
             0.6666666666666666,
             "#ed7953"
            ],
            [
             0.7777777777777778,
             "#fb9f3a"
            ],
            [
             0.8888888888888888,
             "#fdca26"
            ],
            [
             1,
             "#f0f921"
            ]
           ],
           "sequentialminus": [
            [
             0,
             "#0d0887"
            ],
            [
             0.1111111111111111,
             "#46039f"
            ],
            [
             0.2222222222222222,
             "#7201a8"
            ],
            [
             0.3333333333333333,
             "#9c179e"
            ],
            [
             0.4444444444444444,
             "#bd3786"
            ],
            [
             0.5555555555555556,
             "#d8576b"
            ],
            [
             0.6666666666666666,
             "#ed7953"
            ],
            [
             0.7777777777777778,
             "#fb9f3a"
            ],
            [
             0.8888888888888888,
             "#fdca26"
            ],
            [
             1,
             "#f0f921"
            ]
           ]
          },
          "colorway": [
           "#636efa",
           "#EF553B",
           "#00cc96",
           "#ab63fa",
           "#FFA15A",
           "#19d3f3",
           "#FF6692",
           "#B6E880",
           "#FF97FF",
           "#FECB52"
          ],
          "font": {
           "color": "#2a3f5f"
          },
          "geo": {
           "bgcolor": "white",
           "lakecolor": "white",
           "landcolor": "#E5ECF6",
           "showlakes": true,
           "showland": true,
           "subunitcolor": "white"
          },
          "hoverlabel": {
           "align": "left"
          },
          "hovermode": "closest",
          "mapbox": {
           "style": "light"
          },
          "paper_bgcolor": "white",
          "plot_bgcolor": "#E5ECF6",
          "polar": {
           "angularaxis": {
            "gridcolor": "white",
            "linecolor": "white",
            "ticks": ""
           },
           "bgcolor": "#E5ECF6",
           "radialaxis": {
            "gridcolor": "white",
            "linecolor": "white",
            "ticks": ""
           }
          },
          "scene": {
           "xaxis": {
            "backgroundcolor": "#E5ECF6",
            "gridcolor": "white",
            "gridwidth": 2,
            "linecolor": "white",
            "showbackground": true,
            "ticks": "",
            "zerolinecolor": "white"
           },
           "yaxis": {
            "backgroundcolor": "#E5ECF6",
            "gridcolor": "white",
            "gridwidth": 2,
            "linecolor": "white",
            "showbackground": true,
            "ticks": "",
            "zerolinecolor": "white"
           },
           "zaxis": {
            "backgroundcolor": "#E5ECF6",
            "gridcolor": "white",
            "gridwidth": 2,
            "linecolor": "white",
            "showbackground": true,
            "ticks": "",
            "zerolinecolor": "white"
           }
          },
          "shapedefaults": {
           "line": {
            "color": "#2a3f5f"
           }
          },
          "ternary": {
           "aaxis": {
            "gridcolor": "white",
            "linecolor": "white",
            "ticks": ""
           },
           "baxis": {
            "gridcolor": "white",
            "linecolor": "white",
            "ticks": ""
           },
           "bgcolor": "#E5ECF6",
           "caxis": {
            "gridcolor": "white",
            "linecolor": "white",
            "ticks": ""
           }
          },
          "title": {
           "x": 0.05
          },
          "xaxis": {
           "automargin": true,
           "gridcolor": "white",
           "linecolor": "white",
           "ticks": "",
           "title": {
            "standoff": 15
           },
           "zerolinecolor": "white",
           "zerolinewidth": 2
          },
          "yaxis": {
           "automargin": true,
           "gridcolor": "white",
           "linecolor": "white",
           "ticks": "",
           "title": {
            "standoff": 15
           },
           "zerolinecolor": "white",
           "zerolinewidth": 2
          }
         }
        },
        "title": {
         "font": {
          "color": "#4D5663"
         },
         "text": "Matriz de Correlación"
        },
        "xaxis": {
         "gridcolor": "#E1E5ED",
         "showgrid": true,
         "tickfont": {
          "color": "#4D5663"
         },
         "title": {
          "font": {
           "color": "#4D5663"
          },
          "text": ""
         },
         "zerolinecolor": "#E1E5ED"
        },
        "yaxis": {
         "gridcolor": "#E1E5ED",
         "showgrid": true,
         "tickfont": {
          "color": "#4D5663"
         },
         "title": {
          "font": {
           "color": "#4D5663"
          },
          "text": ""
         },
         "zerolinecolor": "#E1E5ED"
        }
       }
      },
      "text/html": [
       "<div>                            <div id=\"b8bad1e3-efc4-49cb-9017-50ba21c84e69\" class=\"plotly-graph-div\" style=\"height:525px; width:100%;\"></div>            <script type=\"text/javascript\">                require([\"plotly\"], function(Plotly) {                    window.PLOTLYENV=window.PLOTLYENV || {};\n",
       "                    window.PLOTLYENV.BASE_URL='https://plot.ly';                                    if (document.getElementById(\"b8bad1e3-efc4-49cb-9017-50ba21c84e69\")) {                    Plotly.newPlot(                        \"b8bad1e3-efc4-49cb-9017-50ba21c84e69\",                        [{\"colorscale\": [[0.0, \"rgb(255,247,236)\"], [0.125, \"rgb(254,232,200)\"], [0.25, \"rgb(253,212,158)\"], [0.375, \"rgb(253,187,132)\"], [0.5, \"rgb(252,141,89)\"], [0.625, \"rgb(239,101,72)\"], [0.75, \"rgb(215,48,31)\"], [0.875, \"rgb(179,0,0)\"], [1.0, \"rgb(127,0,0)\"]], \"type\": \"heatmap\", \"x\": [\"c_LotFrontage\", \"c_LotArea\", \"c_BsmtFinSF1\", \"c_BsmtFinSF2\", \"c_BsmtUnfSF\", \"c_TotalBsmtSF\", \"c_2ndFlrSF\", \"c_GrLivArea\", \"c_HalfBath\", \"c_BedroomAbvGr\", \"c_GarageArea\", \"c_WoodDeckSF\", \"c_OpenPorchSF\", \"c_EnclosedPorch\", \"c_3SsnPorch\", \"c_ScreenPorch\", \"c_MiscVal\"], \"y\": [\"c_LotFrontage\", \"c_LotArea\", \"c_BsmtFinSF1\", \"c_BsmtFinSF2\", \"c_BsmtUnfSF\", \"c_TotalBsmtSF\", \"c_2ndFlrSF\", \"c_GrLivArea\", \"c_HalfBath\", \"c_BedroomAbvGr\", \"c_GarageArea\", \"c_WoodDeckSF\", \"c_OpenPorchSF\", \"c_EnclosedPorch\", \"c_3SsnPorch\", \"c_ScreenPorch\", \"c_MiscVal\"], \"z\": [[1.0, 0.6511062231146368, 0.17922483486920457, 0.09576928464202553, 0.03128149532718623, 0.3433567425493085, -0.012712690838602611, 0.2805094366328047, 0.060432038582161736, 0.313969753369199, 0.29391518332522804, 0.048339398092009794, 0.09888217383840939, -0.13134239429329297, 0.07048865433055242, 0.06643729713428112, 0.0010031531656518329], [0.6511062231146368, 1.0, 0.10628597190535467, 0.023384789003967222, 0.08815808808781285, 0.2810375178444615, 0.0871312881452911, 0.35602583511196, 0.11436826220053398, 0.33412330513908317, 0.28096030453948045, 0.11045131340721942, 0.11932544987405118, -0.08350558384306972, 0.06307332227463083, 0.07815920891912538, 0.041344024339604525], [0.17922483486920457, 0.10628597190535467, 1.0, 0.07202387107282848, -0.616344549099751, 0.42239027193860984, -0.27181099192878794, -0.008944753064763306, -0.09885771699805396, -0.058535913308345844, 0.1833761326643688, 0.15060391548734212, 0.0443343573003941, -0.1918959522495421, 0.039010608997929755, 0.10205833862537343, -0.031493769237752774], [0.09576928464202553, 0.023384789003967222, 0.07202387107282848, 1.0, -0.31053322356019863, 0.0489316604491137, -0.1278805782757276, -0.10922801385572027, -0.039677750322928335, 0.0491124432987285, -0.034720163717082024, 0.06181004811713941, -0.12100270664543483, 0.03840678409018545, -0.0073569880548323965, -0.004438223299690165, 0.015938424884728575], [0.03128149532718623, 0.08815808808781285, -0.616344549099751, -0.31053322356019863, 1.0, 0.3044197364114741, 0.08198032873234042, 0.263851382004036, 0.008635512243151906, 0.10360870390849239, 0.09413746577611114, -0.029887977258907687, 0.1536947907075956, 0.0696532888584831, 0.06882860196014175, -0.02705359730863575, -0.041428585284988426], [0.3433567425493085, 0.2810375178444615, 0.42239027193860984, 0.0489316604491137, 0.3044197364114741, 1.0, -0.39815466018322226, 0.2555379893678099, -0.19463967987292732, 0.051694713442437375, 0.3929742831033454, 0.19903826841881353, 0.22098953814721622, -0.21068225327330814, 0.10013093038033069, 0.08262896707437829, -0.09237233738456645], [-0.012712690838602611, 0.0871312881452911, -0.27181099192878794, -0.1278805782757276, 0.08198032873234042, -0.39815466018322226, 1.0, 0.656231607353901, 0.628896186056878, 0.4468811107250622, 0.0587529390867887, 0.026089838955929555, 0.20510990072086224, 0.05474783008874048, -0.040682857076798126, -0.02352207094373166, -0.06097294972778831], [0.2805094366328047, 0.35602583511196, -0.008944753064763306, -0.10922801385572027, 0.263851382004036, 0.2555379893678099, 0.656231607353901, 1.0, 0.4403366362880337, 0.5197188776821938, 0.39715239494744864, 0.1822052484724354, 0.3679278592638165, -0.06920731774123723, 0.024689777488585165, 0.07138125172327725, -0.09853792565143761], [0.060432038582161736, 0.11436826220053398, -0.09885771699805396, -0.039677750322928335, 0.008635512243151906, -0.19463967987292732, 0.628896186056878, 0.4403366362880337, 1.0, 0.2951377112471954, 0.09946318961845461, 0.0824503399607492, 0.26130540729598367, -0.13047174956458976, -0.0022370154491674673, 0.010186516685184745, -0.06251368024974115], [0.313969753369199, 0.33412330513908317, -0.058535913308345844, 0.0491124432987285, 0.10360870390849239, 0.051694713442437375, 0.4468811107250622, 0.5197188776821938, 0.2951377112471954, 1.0, 0.10751219383451224, 0.03192243671014734, 0.07539561533827119, -0.018826249051236824, 0.0134228407295994, 0.05491249452505436, -0.041724357513586746], [0.29391518332522804, 0.28096030453948045, 0.1833761326643688, -0.034720163717082024, 0.09413746577611114, 0.3929742831033454, 0.0587529390867887, 0.39715239494744864, 0.09946318961845461, 0.10751219383451224, 1.0, 0.20944975066082516, 0.3347156011590167, -0.24211150940513307, 0.0465872943750308, 0.026054927008732905, 0.021337789843587848], [0.048339398092009794, 0.11045131340721942, 0.15060391548734212, 0.06181004811713941, -0.029887977258907687, 0.19903826841881353, 0.026089838955929555, 0.1822052484724354, 0.0824503399607492, 0.03192243671014734, 0.20944975066082516, 1.0, 0.10867101202552962, -0.15896001396010537, -0.06233410913631466, -0.10654152353245236, 0.007567933985598332], [0.09888217383840939, 0.11932544987405118, 0.0443343573003941, -0.12100270664543483, 0.1536947907075956, 0.22098953814721622, 0.20510990072086224, 0.3679278592638165, 0.26130540729598367, 0.07539561533827119, 0.3347156011590167, 0.10867101202552962, 1.0, -0.23034958169718847, -0.005985379867945856, -0.03115210059663536, -0.08607505995940112], [-0.13134239429329297, -0.08350558384306972, -0.1918959522495421, 0.03840678409018545, 0.0696532888584831, -0.21068225327330814, 0.05474783008874048, -0.06920731774123723, -0.13047174956458976, -0.018826249051236824, -0.24211150940513307, -0.15896001396010537, -0.23034958169718847, 1.0, -0.030337159412749556, -0.06974742669002774, 0.011620990422357959], [0.07048865433055242, 0.06307332227463083, 0.039010608997929755, -0.0073569880548323965, 0.06882860196014175, 0.10013093038033069, -0.040682857076798126, 0.024689777488585165, -0.0022370154491674673, 0.0134228407295994, 0.0465872943750308, -0.06233410913631466, -0.005985379867945856, -0.030337159412749556, 1.0, -0.03231929373115057, -0.01787483998631498], [0.06643729713428112, 0.07815920891912538, 0.10205833862537343, -0.004438223299690165, -0.02705359730863575, 0.08262896707437829, -0.02352207094373166, 0.07138125172327725, 0.010186516685184745, 0.05491249452505436, 0.026054927008732905, -0.10654152353245236, -0.03115210059663536, -0.06974742669002774, -0.03231929373115057, 1.0, 0.0020347285027728546], [0.0010031531656518329, 0.041344024339604525, -0.031493769237752774, 0.015938424884728575, -0.041428585284988426, -0.09237233738456645, -0.06097294972778831, -0.09853792565143761, -0.06251368024974115, -0.041724357513586746, 0.021337789843587848, 0.007567933985598332, -0.08607505995940112, 0.011620990422357959, -0.01787483998631498, 0.0020347285027728546, 1.0]], \"zmax\": 1.0, \"zmin\": -0.616344549099751}],                        {\"legend\": {\"bgcolor\": \"#F5F6F9\", \"font\": {\"color\": \"#4D5663\"}}, \"paper_bgcolor\": \"#F5F6F9\", \"plot_bgcolor\": \"#F5F6F9\", \"template\": {\"data\": {\"bar\": [{\"error_x\": {\"color\": \"#2a3f5f\"}, \"error_y\": {\"color\": \"#2a3f5f\"}, \"marker\": {\"line\": {\"color\": \"#E5ECF6\", \"width\": 0.5}}, \"type\": \"bar\"}], \"barpolar\": [{\"marker\": {\"line\": {\"color\": \"#E5ECF6\", \"width\": 0.5}}, \"type\": \"barpolar\"}], \"carpet\": [{\"aaxis\": {\"endlinecolor\": \"#2a3f5f\", \"gridcolor\": \"white\", \"linecolor\": \"white\", \"minorgridcolor\": \"white\", \"startlinecolor\": \"#2a3f5f\"}, \"baxis\": {\"endlinecolor\": \"#2a3f5f\", \"gridcolor\": \"white\", \"linecolor\": \"white\", \"minorgridcolor\": \"white\", \"startlinecolor\": \"#2a3f5f\"}, \"type\": \"carpet\"}], \"choropleth\": [{\"colorbar\": {\"outlinewidth\": 0, \"ticks\": \"\"}, \"type\": \"choropleth\"}], \"contour\": [{\"colorbar\": {\"outlinewidth\": 0, \"ticks\": \"\"}, \"colorscale\": [[0.0, \"#0d0887\"], [0.1111111111111111, \"#46039f\"], [0.2222222222222222, \"#7201a8\"], [0.3333333333333333, \"#9c179e\"], [0.4444444444444444, \"#bd3786\"], [0.5555555555555556, \"#d8576b\"], [0.6666666666666666, \"#ed7953\"], [0.7777777777777778, \"#fb9f3a\"], [0.8888888888888888, \"#fdca26\"], [1.0, \"#f0f921\"]], \"type\": \"contour\"}], \"contourcarpet\": [{\"colorbar\": {\"outlinewidth\": 0, \"ticks\": \"\"}, \"type\": \"contourcarpet\"}], \"heatmap\": [{\"colorbar\": {\"outlinewidth\": 0, \"ticks\": \"\"}, \"colorscale\": [[0.0, \"#0d0887\"], [0.1111111111111111, \"#46039f\"], [0.2222222222222222, \"#7201a8\"], [0.3333333333333333, \"#9c179e\"], [0.4444444444444444, \"#bd3786\"], [0.5555555555555556, \"#d8576b\"], [0.6666666666666666, \"#ed7953\"], [0.7777777777777778, \"#fb9f3a\"], [0.8888888888888888, \"#fdca26\"], [1.0, \"#f0f921\"]], \"type\": \"heatmap\"}], \"heatmapgl\": [{\"colorbar\": {\"outlinewidth\": 0, \"ticks\": \"\"}, \"colorscale\": [[0.0, \"#0d0887\"], [0.1111111111111111, \"#46039f\"], [0.2222222222222222, \"#7201a8\"], [0.3333333333333333, \"#9c179e\"], [0.4444444444444444, \"#bd3786\"], [0.5555555555555556, \"#d8576b\"], [0.6666666666666666, \"#ed7953\"], [0.7777777777777778, \"#fb9f3a\"], [0.8888888888888888, \"#fdca26\"], [1.0, \"#f0f921\"]], \"type\": \"heatmapgl\"}], \"histogram\": [{\"marker\": {\"colorbar\": {\"outlinewidth\": 0, \"ticks\": \"\"}}, \"type\": \"histogram\"}], \"histogram2d\": [{\"colorbar\": {\"outlinewidth\": 0, \"ticks\": \"\"}, \"colorscale\": [[0.0, \"#0d0887\"], [0.1111111111111111, \"#46039f\"], [0.2222222222222222, \"#7201a8\"], [0.3333333333333333, \"#9c179e\"], [0.4444444444444444, \"#bd3786\"], [0.5555555555555556, \"#d8576b\"], [0.6666666666666666, \"#ed7953\"], [0.7777777777777778, \"#fb9f3a\"], [0.8888888888888888, \"#fdca26\"], [1.0, \"#f0f921\"]], \"type\": \"histogram2d\"}], \"histogram2dcontour\": [{\"colorbar\": {\"outlinewidth\": 0, \"ticks\": \"\"}, \"colorscale\": [[0.0, \"#0d0887\"], [0.1111111111111111, \"#46039f\"], [0.2222222222222222, \"#7201a8\"], [0.3333333333333333, \"#9c179e\"], [0.4444444444444444, \"#bd3786\"], [0.5555555555555556, \"#d8576b\"], [0.6666666666666666, \"#ed7953\"], [0.7777777777777778, \"#fb9f3a\"], [0.8888888888888888, \"#fdca26\"], [1.0, \"#f0f921\"]], \"type\": \"histogram2dcontour\"}], \"mesh3d\": [{\"colorbar\": {\"outlinewidth\": 0, \"ticks\": \"\"}, \"type\": \"mesh3d\"}], \"parcoords\": [{\"line\": {\"colorbar\": {\"outlinewidth\": 0, \"ticks\": \"\"}}, \"type\": \"parcoords\"}], \"pie\": [{\"automargin\": true, \"type\": \"pie\"}], \"scatter\": [{\"marker\": {\"colorbar\": {\"outlinewidth\": 0, \"ticks\": \"\"}}, \"type\": \"scatter\"}], \"scatter3d\": [{\"line\": {\"colorbar\": {\"outlinewidth\": 0, \"ticks\": \"\"}}, \"marker\": {\"colorbar\": {\"outlinewidth\": 0, \"ticks\": \"\"}}, \"type\": \"scatter3d\"}], \"scattercarpet\": [{\"marker\": {\"colorbar\": {\"outlinewidth\": 0, \"ticks\": \"\"}}, \"type\": \"scattercarpet\"}], \"scattergeo\": [{\"marker\": {\"colorbar\": {\"outlinewidth\": 0, \"ticks\": \"\"}}, \"type\": \"scattergeo\"}], \"scattergl\": [{\"marker\": {\"colorbar\": {\"outlinewidth\": 0, \"ticks\": \"\"}}, \"type\": \"scattergl\"}], \"scattermapbox\": [{\"marker\": {\"colorbar\": {\"outlinewidth\": 0, \"ticks\": \"\"}}, \"type\": \"scattermapbox\"}], \"scatterpolar\": [{\"marker\": {\"colorbar\": {\"outlinewidth\": 0, \"ticks\": \"\"}}, \"type\": \"scatterpolar\"}], \"scatterpolargl\": [{\"marker\": {\"colorbar\": {\"outlinewidth\": 0, \"ticks\": \"\"}}, \"type\": \"scatterpolargl\"}], \"scatterternary\": [{\"marker\": {\"colorbar\": {\"outlinewidth\": 0, \"ticks\": \"\"}}, \"type\": \"scatterternary\"}], \"surface\": [{\"colorbar\": {\"outlinewidth\": 0, \"ticks\": \"\"}, \"colorscale\": [[0.0, \"#0d0887\"], [0.1111111111111111, \"#46039f\"], [0.2222222222222222, \"#7201a8\"], [0.3333333333333333, \"#9c179e\"], [0.4444444444444444, \"#bd3786\"], [0.5555555555555556, \"#d8576b\"], [0.6666666666666666, \"#ed7953\"], [0.7777777777777778, \"#fb9f3a\"], [0.8888888888888888, \"#fdca26\"], [1.0, \"#f0f921\"]], \"type\": \"surface\"}], \"table\": [{\"cells\": {\"fill\": {\"color\": \"#EBF0F8\"}, \"line\": {\"color\": \"white\"}}, \"header\": {\"fill\": {\"color\": \"#C8D4E3\"}, \"line\": {\"color\": \"white\"}}, \"type\": \"table\"}]}, \"layout\": {\"annotationdefaults\": {\"arrowcolor\": \"#2a3f5f\", \"arrowhead\": 0, \"arrowwidth\": 1}, \"autotypenumbers\": \"strict\", \"coloraxis\": {\"colorbar\": {\"outlinewidth\": 0, \"ticks\": \"\"}}, \"colorscale\": {\"diverging\": [[0, \"#8e0152\"], [0.1, \"#c51b7d\"], [0.2, \"#de77ae\"], [0.3, \"#f1b6da\"], [0.4, \"#fde0ef\"], [0.5, \"#f7f7f7\"], [0.6, \"#e6f5d0\"], [0.7, \"#b8e186\"], [0.8, \"#7fbc41\"], [0.9, \"#4d9221\"], [1, \"#276419\"]], \"sequential\": [[0.0, \"#0d0887\"], [0.1111111111111111, \"#46039f\"], [0.2222222222222222, \"#7201a8\"], [0.3333333333333333, \"#9c179e\"], [0.4444444444444444, \"#bd3786\"], [0.5555555555555556, \"#d8576b\"], [0.6666666666666666, \"#ed7953\"], [0.7777777777777778, \"#fb9f3a\"], [0.8888888888888888, \"#fdca26\"], [1.0, \"#f0f921\"]], \"sequentialminus\": [[0.0, \"#0d0887\"], [0.1111111111111111, \"#46039f\"], [0.2222222222222222, \"#7201a8\"], [0.3333333333333333, \"#9c179e\"], [0.4444444444444444, \"#bd3786\"], [0.5555555555555556, \"#d8576b\"], [0.6666666666666666, \"#ed7953\"], [0.7777777777777778, \"#fb9f3a\"], [0.8888888888888888, \"#fdca26\"], [1.0, \"#f0f921\"]]}, \"colorway\": [\"#636efa\", \"#EF553B\", \"#00cc96\", \"#ab63fa\", \"#FFA15A\", \"#19d3f3\", \"#FF6692\", \"#B6E880\", \"#FF97FF\", \"#FECB52\"], \"font\": {\"color\": \"#2a3f5f\"}, \"geo\": {\"bgcolor\": \"white\", \"lakecolor\": \"white\", \"landcolor\": \"#E5ECF6\", \"showlakes\": true, \"showland\": true, \"subunitcolor\": \"white\"}, \"hoverlabel\": {\"align\": \"left\"}, \"hovermode\": \"closest\", \"mapbox\": {\"style\": \"light\"}, \"paper_bgcolor\": \"white\", \"plot_bgcolor\": \"#E5ECF6\", \"polar\": {\"angularaxis\": {\"gridcolor\": \"white\", \"linecolor\": \"white\", \"ticks\": \"\"}, \"bgcolor\": \"#E5ECF6\", \"radialaxis\": {\"gridcolor\": \"white\", \"linecolor\": \"white\", \"ticks\": \"\"}}, \"scene\": {\"xaxis\": {\"backgroundcolor\": \"#E5ECF6\", \"gridcolor\": \"white\", \"gridwidth\": 2, \"linecolor\": \"white\", \"showbackground\": true, \"ticks\": \"\", \"zerolinecolor\": \"white\"}, \"yaxis\": {\"backgroundcolor\": \"#E5ECF6\", \"gridcolor\": \"white\", \"gridwidth\": 2, \"linecolor\": \"white\", \"showbackground\": true, \"ticks\": \"\", \"zerolinecolor\": \"white\"}, \"zaxis\": {\"backgroundcolor\": \"#E5ECF6\", \"gridcolor\": \"white\", \"gridwidth\": 2, \"linecolor\": \"white\", \"showbackground\": true, \"ticks\": \"\", \"zerolinecolor\": \"white\"}}, \"shapedefaults\": {\"line\": {\"color\": \"#2a3f5f\"}}, \"ternary\": {\"aaxis\": {\"gridcolor\": \"white\", \"linecolor\": \"white\", \"ticks\": \"\"}, \"baxis\": {\"gridcolor\": \"white\", \"linecolor\": \"white\", \"ticks\": \"\"}, \"bgcolor\": \"#E5ECF6\", \"caxis\": {\"gridcolor\": \"white\", \"linecolor\": \"white\", \"ticks\": \"\"}}, \"title\": {\"x\": 0.05}, \"xaxis\": {\"automargin\": true, \"gridcolor\": \"white\", \"linecolor\": \"white\", \"ticks\": \"\", \"title\": {\"standoff\": 15}, \"zerolinecolor\": \"white\", \"zerolinewidth\": 2}, \"yaxis\": {\"automargin\": true, \"gridcolor\": \"white\", \"linecolor\": \"white\", \"ticks\": \"\", \"title\": {\"standoff\": 15}, \"zerolinecolor\": \"white\", \"zerolinewidth\": 2}}}, \"title\": {\"font\": {\"color\": \"#4D5663\"}, \"text\": \"Matriz de Correlaci\\u00f3n\"}, \"xaxis\": {\"gridcolor\": \"#E1E5ED\", \"showgrid\": true, \"tickfont\": {\"color\": \"#4D5663\"}, \"title\": {\"font\": {\"color\": \"#4D5663\"}, \"text\": \"\"}, \"zerolinecolor\": \"#E1E5ED\"}, \"yaxis\": {\"gridcolor\": \"#E1E5ED\", \"showgrid\": true, \"tickfont\": {\"color\": \"#4D5663\"}, \"title\": {\"font\": {\"color\": \"#4D5663\"}, \"text\": \"\"}, \"zerolinecolor\": \"#E1E5ED\"}},                        {\"showLink\": true, \"linkText\": \"Export to plot.ly\", \"plotlyServerURL\": \"https://plot.ly\", \"responsive\": true}                    ).then(function(){\n",
       "                            \n",
       "var gd = document.getElementById('b8bad1e3-efc4-49cb-9017-50ba21c84e69');\n",
       "var x = new MutationObserver(function (mutations, observer) {{\n",
       "        var display = window.getComputedStyle(gd).display;\n",
       "        if (!display || display === 'none') {{\n",
       "            console.log([gd, 'removed!']);\n",
       "            Plotly.purge(gd);\n",
       "            observer.disconnect();\n",
       "        }}\n",
       "}});\n",
       "\n",
       "// Listen for the removal of the full notebook cells\n",
       "var notebookContainer = gd.closest('#notebook-container');\n",
       "if (notebookContainer) {{\n",
       "    x.observe(notebookContainer, {childList: true});\n",
       "}}\n",
       "\n",
       "// Listen for the clearing of the current output cell\n",
       "var outputEl = gd.closest('.output');\n",
       "if (outputEl) {{\n",
       "    x.observe(outputEl, {childList: true});\n",
       "}}\n",
       "\n",
       "                        })                };                });            </script>        </div>"
      ]
     },
     "metadata": {},
     "output_type": "display_data"
    }
   ],
   "source": [
    "X_train[[x for x in X_train if x!=\"tgt_SalePrice\"]].filter(like=\"c_\").corr(method=\"spearman\").iplot(kind=\"heatmap\",colorscale=\"orrd\",title=\"Matriz de Correlación\")"
   ]
  },
  {
   "cell_type": "markdown",
   "metadata": {},
   "source": [
    "### Correlación (con el objetivo)"
   ]
  },
  {
   "cell_type": "code",
   "execution_count": 1047,
   "metadata": {
    "ExecuteTime": {
     "end_time": "2021-08-21T17:14:26.078912Z",
     "start_time": "2021-08-21T17:14:26.063905Z"
    }
   },
   "outputs": [],
   "source": [
    "feats=list(X_train.filter(like=\"c_\").columns)+[\"tgt_SalePrice\"]"
   ]
  },
  {
   "cell_type": "code",
   "execution_count": 1048,
   "metadata": {
    "ExecuteTime": {
     "end_time": "2021-08-21T17:14:26.583905Z",
     "start_time": "2021-08-21T17:14:26.520915Z"
    }
   },
   "outputs": [
    {
     "data": {
      "application/vnd.plotly.v1+json": {
       "config": {
        "linkText": "Export to plot.ly",
        "plotlyServerURL": "https://plot.ly",
        "showLink": true
       },
       "data": [
        {
         "colorscale": [
          [
           0,
           "rgb(255,247,236)"
          ],
          [
           0.125,
           "rgb(254,232,200)"
          ],
          [
           0.25,
           "rgb(253,212,158)"
          ],
          [
           0.375,
           "rgb(253,187,132)"
          ],
          [
           0.5,
           "rgb(252,141,89)"
          ],
          [
           0.625,
           "rgb(239,101,72)"
          ],
          [
           0.75,
           "rgb(215,48,31)"
          ],
          [
           0.875,
           "rgb(179,0,0)"
          ],
          [
           1,
           "rgb(127,0,0)"
          ]
         ],
         "type": "heatmap",
         "x": [
          "c_LotFrontage",
          "c_LotArea",
          "c_BsmtFinSF1",
          "c_BsmtFinSF2",
          "c_BsmtUnfSF",
          "c_TotalBsmtSF",
          "c_2ndFlrSF",
          "c_GrLivArea",
          "c_HalfBath",
          "c_BedroomAbvGr",
          "c_GarageArea",
          "c_WoodDeckSF",
          "c_OpenPorchSF",
          "c_EnclosedPorch",
          "c_3SsnPorch",
          "c_ScreenPorch",
          "c_MiscVal",
          "tgt_SalePrice"
         ],
         "y": [
          "c_LotFrontage",
          "c_LotArea",
          "c_BsmtFinSF1",
          "c_BsmtFinSF2",
          "c_BsmtUnfSF",
          "c_TotalBsmtSF",
          "c_2ndFlrSF",
          "c_GrLivArea",
          "c_HalfBath",
          "c_BedroomAbvGr",
          "c_GarageArea",
          "c_WoodDeckSF",
          "c_OpenPorchSF",
          "c_EnclosedPorch",
          "c_3SsnPorch",
          "c_ScreenPorch",
          "c_MiscVal",
          "tgt_SalePrice"
         ],
         "z": [
          [
           1,
           0.6511062231146368,
           0.17922483486920457,
           0.09576928464202553,
           0.03128149532718623,
           0.3433567425493085,
           -0.012712690838602611,
           0.2805094366328047,
           0.060432038582161736,
           0.313969753369199,
           0.29391518332522804,
           0.048339398092009794,
           0.09888217383840939,
           -0.13134239429329297,
           0.07048865433055242,
           0.06643729713428112,
           0.0010031531656518329,
           0.3573364922493946
          ],
          [
           0.6511062231146368,
           1,
           0.10628597190535467,
           0.023384789003967222,
           0.08815808808781285,
           0.2810375178444615,
           0.0871312881452911,
           0.35602583511196,
           0.11436826220053398,
           0.33412330513908317,
           0.28096030453948045,
           0.11045131340721942,
           0.11932544987405118,
           -0.08350558384306972,
           0.06307332227463083,
           0.07815920891912538,
           0.041344024339604525,
           0.3705338045055664
          ],
          [
           0.17922483486920457,
           0.10628597190535467,
           1,
           0.07202387107282848,
           -0.616344549099751,
           0.42239027193860984,
           -0.27181099192878794,
           -0.008944753064763306,
           -0.09885771699805396,
           -0.058535913308345844,
           0.1833761326643688,
           0.15060391548734212,
           0.0443343573003941,
           -0.1918959522495421,
           0.039010608997929755,
           0.10205833862537343,
           -0.031493769237752774,
           0.26848012228777146
          ],
          [
           0.09576928464202553,
           0.023384789003967222,
           0.07202387107282848,
           1,
           -0.31053322356019863,
           0.0489316604491137,
           -0.1278805782757276,
           -0.10922801385572027,
           -0.039677750322928335,
           0.0491124432987285,
           -0.034720163717082024,
           0.06181004811713941,
           -0.12100270664543483,
           0.03840678409018545,
           -0.0073569880548323965,
           -0.004438223299690165,
           0.015938424884728575,
           -0.0962238566624743
          ],
          [
           0.03128149532718623,
           0.08815808808781285,
           -0.616344549099751,
           -0.31053322356019863,
           1,
           0.3044197364114741,
           0.08198032873234042,
           0.263851382004036,
           0.008635512243151906,
           0.10360870390849239,
           0.09413746577611114,
           -0.029887977258907687,
           0.1536947907075956,
           0.0696532888584831,
           0.06882860196014175,
           -0.02705359730863575,
           -0.041428585284988426,
           0.19418809981441104
          ],
          [
           0.3433567425493085,
           0.2810375178444615,
           0.42239027193860984,
           0.0489316604491137,
           0.3044197364114741,
           1,
           -0.39815466018322226,
           0.2555379893678099,
           -0.19463967987292732,
           0.051694713442437375,
           0.3929742831033454,
           0.19903826841881353,
           0.22098953814721622,
           -0.21068225327330814,
           0.10013093038033069,
           0.08262896707437829,
           -0.09237233738456645,
           0.5498395482759126
          ],
          [
           -0.012712690838602611,
           0.0871312881452911,
           -0.27181099192878794,
           -0.1278805782757276,
           0.08198032873234042,
           -0.39815466018322226,
           1,
           0.656231607353901,
           0.628896186056878,
           0.4468811107250622,
           0.0587529390867887,
           0.026089838955929555,
           0.20510990072086224,
           0.05474783008874048,
           -0.040682857076798126,
           -0.02352207094373166,
           -0.06097294972778831,
           0.2392657015856028
          ],
          [
           0.2805094366328047,
           0.35602583511196,
           -0.008944753064763306,
           -0.10922801385572027,
           0.263851382004036,
           0.2555379893678099,
           0.656231607353901,
           1,
           0.4403366362880337,
           0.5197188776821938,
           0.39715239494744864,
           0.1822052484724354,
           0.3679278592638165,
           -0.06920731774123723,
           0.024689777488585165,
           0.07138125172327725,
           -0.09853792565143761,
           0.6890232341638843
          ],
          [
           0.060432038582161736,
           0.11436826220053398,
           -0.09885771699805396,
           -0.039677750322928335,
           0.008635512243151906,
           -0.19463967987292732,
           0.628896186056878,
           0.4403366362880337,
           1,
           0.2951377112471954,
           0.09946318961845461,
           0.0824503399607492,
           0.26130540729598367,
           -0.13047174956458976,
           -0.0022370154491674673,
           0.010186516685184745,
           -0.06251368024974115,
           0.3233329616962566
          ],
          [
           0.313969753369199,
           0.33412330513908317,
           -0.058535913308345844,
           0.0491124432987285,
           0.10360870390849239,
           0.051694713442437375,
           0.4468811107250622,
           0.5197188776821938,
           0.2951377112471954,
           1,
           0.10751219383451224,
           0.03192243671014734,
           0.07539561533827119,
           -0.018826249051236824,
           0.0134228407295994,
           0.05491249452505436,
           -0.041724357513586746,
           0.25156808395173397
          ],
          [
           0.29391518332522804,
           0.28096030453948045,
           0.1833761326643688,
           -0.034720163717082024,
           0.09413746577611114,
           0.3929742831033454,
           0.0587529390867887,
           0.39715239494744864,
           0.09946318961845461,
           0.10751219383451224,
           1,
           0.20944975066082516,
           0.3347156011590167,
           -0.24211150940513307,
           0.0465872943750308,
           0.026054927008732905,
           0.021337789843587848,
           0.6047124533960377
          ],
          [
           0.048339398092009794,
           0.11045131340721942,
           0.15060391548734212,
           0.06181004811713941,
           -0.029887977258907687,
           0.19903826841881353,
           0.026089838955929555,
           0.1822052484724354,
           0.0824503399607492,
           0.03192243671014734,
           0.20944975066082516,
           1,
           0.10867101202552962,
           -0.15896001396010537,
           -0.06233410913631466,
           -0.10654152353245236,
           0.007567933985598332,
           0.33599054904982767
          ],
          [
           0.09888217383840939,
           0.11932544987405118,
           0.0443343573003941,
           -0.12100270664543483,
           0.1536947907075956,
           0.22098953814721622,
           0.20510990072086224,
           0.3679278592638165,
           0.26130540729598367,
           0.07539561533827119,
           0.3347156011590167,
           0.10867101202552962,
           1,
           -0.23034958169718847,
           -0.005985379867945856,
           -0.03115210059663536,
           -0.08607505995940112,
           0.48402364552775834
          ],
          [
           -0.13134239429329297,
           -0.08350558384306972,
           -0.1918959522495421,
           0.03840678409018545,
           0.0696532888584831,
           -0.21068225327330814,
           0.05474783008874048,
           -0.06920731774123723,
           -0.13047174956458976,
           -0.018826249051236824,
           -0.24211150940513307,
           -0.15896001396010537,
           -0.23034958169718847,
           1,
           -0.030337159412749556,
           -0.06974742669002774,
           0.011620990422357959,
           -0.2898111258976572
          ],
          [
           0.07048865433055242,
           0.06307332227463083,
           0.039010608997929755,
           -0.0073569880548323965,
           0.06882860196014175,
           0.10013093038033069,
           -0.040682857076798126,
           0.024689777488585165,
           -0.0022370154491674673,
           0.0134228407295994,
           0.0465872943750308,
           -0.06233410913631466,
           -0.005985379867945856,
           -0.030337159412749556,
           1,
           -0.03231929373115057,
           -0.01787483998631498,
           0.06300309654258739
          ],
          [
           0.06643729713428112,
           0.07815920891912538,
           0.10205833862537343,
           -0.004438223299690165,
           -0.02705359730863575,
           0.08262896707437829,
           -0.02352207094373166,
           0.07138125172327725,
           0.010186516685184745,
           0.05491249452505436,
           0.026054927008732905,
           -0.10654152353245236,
           -0.03115210059663536,
           -0.06974742669002774,
           -0.03231929373115057,
           1,
           0.0020347285027728546,
           0.07036550890706753
          ],
          [
           0.0010031531656518329,
           0.041344024339604525,
           -0.031493769237752774,
           0.015938424884728575,
           -0.041428585284988426,
           -0.09237233738456645,
           -0.06097294972778831,
           -0.09853792565143761,
           -0.06251368024974115,
           -0.041724357513586746,
           0.021337789843587848,
           0.007567933985598332,
           -0.08607505995940112,
           0.011620990422357959,
           -0.01787483998631498,
           0.0020347285027728546,
           1,
           -0.11851411422777139
          ],
          [
           0.3573364922493946,
           0.3705338045055664,
           0.26848012228777146,
           -0.0962238566624743,
           0.19418809981441104,
           0.5498395482759126,
           0.2392657015856028,
           0.6890232341638843,
           0.3233329616962566,
           0.25156808395173397,
           0.6047124533960377,
           0.33599054904982767,
           0.48402364552775834,
           -0.2898111258976572,
           0.06300309654258739,
           0.07036550890706753,
           -0.11851411422777139,
           1
          ]
         ],
         "zmax": 1,
         "zmin": -0.616344549099751
        }
       ],
       "layout": {
        "legend": {
         "bgcolor": "#F5F6F9",
         "font": {
          "color": "#4D5663"
         }
        },
        "paper_bgcolor": "#F5F6F9",
        "plot_bgcolor": "#F5F6F9",
        "template": {
         "data": {
          "bar": [
           {
            "error_x": {
             "color": "#2a3f5f"
            },
            "error_y": {
             "color": "#2a3f5f"
            },
            "marker": {
             "line": {
              "color": "#E5ECF6",
              "width": 0.5
             }
            },
            "type": "bar"
           }
          ],
          "barpolar": [
           {
            "marker": {
             "line": {
              "color": "#E5ECF6",
              "width": 0.5
             }
            },
            "type": "barpolar"
           }
          ],
          "carpet": [
           {
            "aaxis": {
             "endlinecolor": "#2a3f5f",
             "gridcolor": "white",
             "linecolor": "white",
             "minorgridcolor": "white",
             "startlinecolor": "#2a3f5f"
            },
            "baxis": {
             "endlinecolor": "#2a3f5f",
             "gridcolor": "white",
             "linecolor": "white",
             "minorgridcolor": "white",
             "startlinecolor": "#2a3f5f"
            },
            "type": "carpet"
           }
          ],
          "choropleth": [
           {
            "colorbar": {
             "outlinewidth": 0,
             "ticks": ""
            },
            "type": "choropleth"
           }
          ],
          "contour": [
           {
            "colorbar": {
             "outlinewidth": 0,
             "ticks": ""
            },
            "colorscale": [
             [
              0,
              "#0d0887"
             ],
             [
              0.1111111111111111,
              "#46039f"
             ],
             [
              0.2222222222222222,
              "#7201a8"
             ],
             [
              0.3333333333333333,
              "#9c179e"
             ],
             [
              0.4444444444444444,
              "#bd3786"
             ],
             [
              0.5555555555555556,
              "#d8576b"
             ],
             [
              0.6666666666666666,
              "#ed7953"
             ],
             [
              0.7777777777777778,
              "#fb9f3a"
             ],
             [
              0.8888888888888888,
              "#fdca26"
             ],
             [
              1,
              "#f0f921"
             ]
            ],
            "type": "contour"
           }
          ],
          "contourcarpet": [
           {
            "colorbar": {
             "outlinewidth": 0,
             "ticks": ""
            },
            "type": "contourcarpet"
           }
          ],
          "heatmap": [
           {
            "colorbar": {
             "outlinewidth": 0,
             "ticks": ""
            },
            "colorscale": [
             [
              0,
              "#0d0887"
             ],
             [
              0.1111111111111111,
              "#46039f"
             ],
             [
              0.2222222222222222,
              "#7201a8"
             ],
             [
              0.3333333333333333,
              "#9c179e"
             ],
             [
              0.4444444444444444,
              "#bd3786"
             ],
             [
              0.5555555555555556,
              "#d8576b"
             ],
             [
              0.6666666666666666,
              "#ed7953"
             ],
             [
              0.7777777777777778,
              "#fb9f3a"
             ],
             [
              0.8888888888888888,
              "#fdca26"
             ],
             [
              1,
              "#f0f921"
             ]
            ],
            "type": "heatmap"
           }
          ],
          "heatmapgl": [
           {
            "colorbar": {
             "outlinewidth": 0,
             "ticks": ""
            },
            "colorscale": [
             [
              0,
              "#0d0887"
             ],
             [
              0.1111111111111111,
              "#46039f"
             ],
             [
              0.2222222222222222,
              "#7201a8"
             ],
             [
              0.3333333333333333,
              "#9c179e"
             ],
             [
              0.4444444444444444,
              "#bd3786"
             ],
             [
              0.5555555555555556,
              "#d8576b"
             ],
             [
              0.6666666666666666,
              "#ed7953"
             ],
             [
              0.7777777777777778,
              "#fb9f3a"
             ],
             [
              0.8888888888888888,
              "#fdca26"
             ],
             [
              1,
              "#f0f921"
             ]
            ],
            "type": "heatmapgl"
           }
          ],
          "histogram": [
           {
            "marker": {
             "colorbar": {
              "outlinewidth": 0,
              "ticks": ""
             }
            },
            "type": "histogram"
           }
          ],
          "histogram2d": [
           {
            "colorbar": {
             "outlinewidth": 0,
             "ticks": ""
            },
            "colorscale": [
             [
              0,
              "#0d0887"
             ],
             [
              0.1111111111111111,
              "#46039f"
             ],
             [
              0.2222222222222222,
              "#7201a8"
             ],
             [
              0.3333333333333333,
              "#9c179e"
             ],
             [
              0.4444444444444444,
              "#bd3786"
             ],
             [
              0.5555555555555556,
              "#d8576b"
             ],
             [
              0.6666666666666666,
              "#ed7953"
             ],
             [
              0.7777777777777778,
              "#fb9f3a"
             ],
             [
              0.8888888888888888,
              "#fdca26"
             ],
             [
              1,
              "#f0f921"
             ]
            ],
            "type": "histogram2d"
           }
          ],
          "histogram2dcontour": [
           {
            "colorbar": {
             "outlinewidth": 0,
             "ticks": ""
            },
            "colorscale": [
             [
              0,
              "#0d0887"
             ],
             [
              0.1111111111111111,
              "#46039f"
             ],
             [
              0.2222222222222222,
              "#7201a8"
             ],
             [
              0.3333333333333333,
              "#9c179e"
             ],
             [
              0.4444444444444444,
              "#bd3786"
             ],
             [
              0.5555555555555556,
              "#d8576b"
             ],
             [
              0.6666666666666666,
              "#ed7953"
             ],
             [
              0.7777777777777778,
              "#fb9f3a"
             ],
             [
              0.8888888888888888,
              "#fdca26"
             ],
             [
              1,
              "#f0f921"
             ]
            ],
            "type": "histogram2dcontour"
           }
          ],
          "mesh3d": [
           {
            "colorbar": {
             "outlinewidth": 0,
             "ticks": ""
            },
            "type": "mesh3d"
           }
          ],
          "parcoords": [
           {
            "line": {
             "colorbar": {
              "outlinewidth": 0,
              "ticks": ""
             }
            },
            "type": "parcoords"
           }
          ],
          "pie": [
           {
            "automargin": true,
            "type": "pie"
           }
          ],
          "scatter": [
           {
            "marker": {
             "colorbar": {
              "outlinewidth": 0,
              "ticks": ""
             }
            },
            "type": "scatter"
           }
          ],
          "scatter3d": [
           {
            "line": {
             "colorbar": {
              "outlinewidth": 0,
              "ticks": ""
             }
            },
            "marker": {
             "colorbar": {
              "outlinewidth": 0,
              "ticks": ""
             }
            },
            "type": "scatter3d"
           }
          ],
          "scattercarpet": [
           {
            "marker": {
             "colorbar": {
              "outlinewidth": 0,
              "ticks": ""
             }
            },
            "type": "scattercarpet"
           }
          ],
          "scattergeo": [
           {
            "marker": {
             "colorbar": {
              "outlinewidth": 0,
              "ticks": ""
             }
            },
            "type": "scattergeo"
           }
          ],
          "scattergl": [
           {
            "marker": {
             "colorbar": {
              "outlinewidth": 0,
              "ticks": ""
             }
            },
            "type": "scattergl"
           }
          ],
          "scattermapbox": [
           {
            "marker": {
             "colorbar": {
              "outlinewidth": 0,
              "ticks": ""
             }
            },
            "type": "scattermapbox"
           }
          ],
          "scatterpolar": [
           {
            "marker": {
             "colorbar": {
              "outlinewidth": 0,
              "ticks": ""
             }
            },
            "type": "scatterpolar"
           }
          ],
          "scatterpolargl": [
           {
            "marker": {
             "colorbar": {
              "outlinewidth": 0,
              "ticks": ""
             }
            },
            "type": "scatterpolargl"
           }
          ],
          "scatterternary": [
           {
            "marker": {
             "colorbar": {
              "outlinewidth": 0,
              "ticks": ""
             }
            },
            "type": "scatterternary"
           }
          ],
          "surface": [
           {
            "colorbar": {
             "outlinewidth": 0,
             "ticks": ""
            },
            "colorscale": [
             [
              0,
              "#0d0887"
             ],
             [
              0.1111111111111111,
              "#46039f"
             ],
             [
              0.2222222222222222,
              "#7201a8"
             ],
             [
              0.3333333333333333,
              "#9c179e"
             ],
             [
              0.4444444444444444,
              "#bd3786"
             ],
             [
              0.5555555555555556,
              "#d8576b"
             ],
             [
              0.6666666666666666,
              "#ed7953"
             ],
             [
              0.7777777777777778,
              "#fb9f3a"
             ],
             [
              0.8888888888888888,
              "#fdca26"
             ],
             [
              1,
              "#f0f921"
             ]
            ],
            "type": "surface"
           }
          ],
          "table": [
           {
            "cells": {
             "fill": {
              "color": "#EBF0F8"
             },
             "line": {
              "color": "white"
             }
            },
            "header": {
             "fill": {
              "color": "#C8D4E3"
             },
             "line": {
              "color": "white"
             }
            },
            "type": "table"
           }
          ]
         },
         "layout": {
          "annotationdefaults": {
           "arrowcolor": "#2a3f5f",
           "arrowhead": 0,
           "arrowwidth": 1
          },
          "autotypenumbers": "strict",
          "coloraxis": {
           "colorbar": {
            "outlinewidth": 0,
            "ticks": ""
           }
          },
          "colorscale": {
           "diverging": [
            [
             0,
             "#8e0152"
            ],
            [
             0.1,
             "#c51b7d"
            ],
            [
             0.2,
             "#de77ae"
            ],
            [
             0.3,
             "#f1b6da"
            ],
            [
             0.4,
             "#fde0ef"
            ],
            [
             0.5,
             "#f7f7f7"
            ],
            [
             0.6,
             "#e6f5d0"
            ],
            [
             0.7,
             "#b8e186"
            ],
            [
             0.8,
             "#7fbc41"
            ],
            [
             0.9,
             "#4d9221"
            ],
            [
             1,
             "#276419"
            ]
           ],
           "sequential": [
            [
             0,
             "#0d0887"
            ],
            [
             0.1111111111111111,
             "#46039f"
            ],
            [
             0.2222222222222222,
             "#7201a8"
            ],
            [
             0.3333333333333333,
             "#9c179e"
            ],
            [
             0.4444444444444444,
             "#bd3786"
            ],
            [
             0.5555555555555556,
             "#d8576b"
            ],
            [
             0.6666666666666666,
             "#ed7953"
            ],
            [
             0.7777777777777778,
             "#fb9f3a"
            ],
            [
             0.8888888888888888,
             "#fdca26"
            ],
            [
             1,
             "#f0f921"
            ]
           ],
           "sequentialminus": [
            [
             0,
             "#0d0887"
            ],
            [
             0.1111111111111111,
             "#46039f"
            ],
            [
             0.2222222222222222,
             "#7201a8"
            ],
            [
             0.3333333333333333,
             "#9c179e"
            ],
            [
             0.4444444444444444,
             "#bd3786"
            ],
            [
             0.5555555555555556,
             "#d8576b"
            ],
            [
             0.6666666666666666,
             "#ed7953"
            ],
            [
             0.7777777777777778,
             "#fb9f3a"
            ],
            [
             0.8888888888888888,
             "#fdca26"
            ],
            [
             1,
             "#f0f921"
            ]
           ]
          },
          "colorway": [
           "#636efa",
           "#EF553B",
           "#00cc96",
           "#ab63fa",
           "#FFA15A",
           "#19d3f3",
           "#FF6692",
           "#B6E880",
           "#FF97FF",
           "#FECB52"
          ],
          "font": {
           "color": "#2a3f5f"
          },
          "geo": {
           "bgcolor": "white",
           "lakecolor": "white",
           "landcolor": "#E5ECF6",
           "showlakes": true,
           "showland": true,
           "subunitcolor": "white"
          },
          "hoverlabel": {
           "align": "left"
          },
          "hovermode": "closest",
          "mapbox": {
           "style": "light"
          },
          "paper_bgcolor": "white",
          "plot_bgcolor": "#E5ECF6",
          "polar": {
           "angularaxis": {
            "gridcolor": "white",
            "linecolor": "white",
            "ticks": ""
           },
           "bgcolor": "#E5ECF6",
           "radialaxis": {
            "gridcolor": "white",
            "linecolor": "white",
            "ticks": ""
           }
          },
          "scene": {
           "xaxis": {
            "backgroundcolor": "#E5ECF6",
            "gridcolor": "white",
            "gridwidth": 2,
            "linecolor": "white",
            "showbackground": true,
            "ticks": "",
            "zerolinecolor": "white"
           },
           "yaxis": {
            "backgroundcolor": "#E5ECF6",
            "gridcolor": "white",
            "gridwidth": 2,
            "linecolor": "white",
            "showbackground": true,
            "ticks": "",
            "zerolinecolor": "white"
           },
           "zaxis": {
            "backgroundcolor": "#E5ECF6",
            "gridcolor": "white",
            "gridwidth": 2,
            "linecolor": "white",
            "showbackground": true,
            "ticks": "",
            "zerolinecolor": "white"
           }
          },
          "shapedefaults": {
           "line": {
            "color": "#2a3f5f"
           }
          },
          "ternary": {
           "aaxis": {
            "gridcolor": "white",
            "linecolor": "white",
            "ticks": ""
           },
           "baxis": {
            "gridcolor": "white",
            "linecolor": "white",
            "ticks": ""
           },
           "bgcolor": "#E5ECF6",
           "caxis": {
            "gridcolor": "white",
            "linecolor": "white",
            "ticks": ""
           }
          },
          "title": {
           "x": 0.05
          },
          "xaxis": {
           "automargin": true,
           "gridcolor": "white",
           "linecolor": "white",
           "ticks": "",
           "title": {
            "standoff": 15
           },
           "zerolinecolor": "white",
           "zerolinewidth": 2
          },
          "yaxis": {
           "automargin": true,
           "gridcolor": "white",
           "linecolor": "white",
           "ticks": "",
           "title": {
            "standoff": 15
           },
           "zerolinecolor": "white",
           "zerolinewidth": 2
          }
         }
        },
        "title": {
         "font": {
          "color": "#4D5663"
         },
         "text": "Matriz de Correlación"
        },
        "xaxis": {
         "gridcolor": "#E1E5ED",
         "showgrid": true,
         "tickfont": {
          "color": "#4D5663"
         },
         "title": {
          "font": {
           "color": "#4D5663"
          },
          "text": ""
         },
         "zerolinecolor": "#E1E5ED"
        },
        "yaxis": {
         "gridcolor": "#E1E5ED",
         "showgrid": true,
         "tickfont": {
          "color": "#4D5663"
         },
         "title": {
          "font": {
           "color": "#4D5663"
          },
          "text": ""
         },
         "zerolinecolor": "#E1E5ED"
        }
       }
      },
      "text/html": [
       "<div>                            <div id=\"660d4926-cc32-4810-b16b-b97fd303f554\" class=\"plotly-graph-div\" style=\"height:525px; width:100%;\"></div>            <script type=\"text/javascript\">                require([\"plotly\"], function(Plotly) {                    window.PLOTLYENV=window.PLOTLYENV || {};\n",
       "                    window.PLOTLYENV.BASE_URL='https://plot.ly';                                    if (document.getElementById(\"660d4926-cc32-4810-b16b-b97fd303f554\")) {                    Plotly.newPlot(                        \"660d4926-cc32-4810-b16b-b97fd303f554\",                        [{\"colorscale\": [[0.0, \"rgb(255,247,236)\"], [0.125, \"rgb(254,232,200)\"], [0.25, \"rgb(253,212,158)\"], [0.375, \"rgb(253,187,132)\"], [0.5, \"rgb(252,141,89)\"], [0.625, \"rgb(239,101,72)\"], [0.75, \"rgb(215,48,31)\"], [0.875, \"rgb(179,0,0)\"], [1.0, \"rgb(127,0,0)\"]], \"type\": \"heatmap\", \"x\": [\"c_LotFrontage\", \"c_LotArea\", \"c_BsmtFinSF1\", \"c_BsmtFinSF2\", \"c_BsmtUnfSF\", \"c_TotalBsmtSF\", \"c_2ndFlrSF\", \"c_GrLivArea\", \"c_HalfBath\", \"c_BedroomAbvGr\", \"c_GarageArea\", \"c_WoodDeckSF\", \"c_OpenPorchSF\", \"c_EnclosedPorch\", \"c_3SsnPorch\", \"c_ScreenPorch\", \"c_MiscVal\", \"tgt_SalePrice\"], \"y\": [\"c_LotFrontage\", \"c_LotArea\", \"c_BsmtFinSF1\", \"c_BsmtFinSF2\", \"c_BsmtUnfSF\", \"c_TotalBsmtSF\", \"c_2ndFlrSF\", \"c_GrLivArea\", \"c_HalfBath\", \"c_BedroomAbvGr\", \"c_GarageArea\", \"c_WoodDeckSF\", \"c_OpenPorchSF\", \"c_EnclosedPorch\", \"c_3SsnPorch\", \"c_ScreenPorch\", \"c_MiscVal\", \"tgt_SalePrice\"], \"z\": [[1.0, 0.6511062231146368, 0.17922483486920457, 0.09576928464202553, 0.03128149532718623, 0.3433567425493085, -0.012712690838602611, 0.2805094366328047, 0.060432038582161736, 0.313969753369199, 0.29391518332522804, 0.048339398092009794, 0.09888217383840939, -0.13134239429329297, 0.07048865433055242, 0.06643729713428112, 0.0010031531656518329, 0.3573364922493946], [0.6511062231146368, 1.0, 0.10628597190535467, 0.023384789003967222, 0.08815808808781285, 0.2810375178444615, 0.0871312881452911, 0.35602583511196, 0.11436826220053398, 0.33412330513908317, 0.28096030453948045, 0.11045131340721942, 0.11932544987405118, -0.08350558384306972, 0.06307332227463083, 0.07815920891912538, 0.041344024339604525, 0.3705338045055664], [0.17922483486920457, 0.10628597190535467, 1.0, 0.07202387107282848, -0.616344549099751, 0.42239027193860984, -0.27181099192878794, -0.008944753064763306, -0.09885771699805396, -0.058535913308345844, 0.1833761326643688, 0.15060391548734212, 0.0443343573003941, -0.1918959522495421, 0.039010608997929755, 0.10205833862537343, -0.031493769237752774, 0.26848012228777146], [0.09576928464202553, 0.023384789003967222, 0.07202387107282848, 1.0, -0.31053322356019863, 0.0489316604491137, -0.1278805782757276, -0.10922801385572027, -0.039677750322928335, 0.0491124432987285, -0.034720163717082024, 0.06181004811713941, -0.12100270664543483, 0.03840678409018545, -0.0073569880548323965, -0.004438223299690165, 0.015938424884728575, -0.0962238566624743], [0.03128149532718623, 0.08815808808781285, -0.616344549099751, -0.31053322356019863, 1.0, 0.3044197364114741, 0.08198032873234042, 0.263851382004036, 0.008635512243151906, 0.10360870390849239, 0.09413746577611114, -0.029887977258907687, 0.1536947907075956, 0.0696532888584831, 0.06882860196014175, -0.02705359730863575, -0.041428585284988426, 0.19418809981441104], [0.3433567425493085, 0.2810375178444615, 0.42239027193860984, 0.0489316604491137, 0.3044197364114741, 1.0, -0.39815466018322226, 0.2555379893678099, -0.19463967987292732, 0.051694713442437375, 0.3929742831033454, 0.19903826841881353, 0.22098953814721622, -0.21068225327330814, 0.10013093038033069, 0.08262896707437829, -0.09237233738456645, 0.5498395482759126], [-0.012712690838602611, 0.0871312881452911, -0.27181099192878794, -0.1278805782757276, 0.08198032873234042, -0.39815466018322226, 1.0, 0.656231607353901, 0.628896186056878, 0.4468811107250622, 0.0587529390867887, 0.026089838955929555, 0.20510990072086224, 0.05474783008874048, -0.040682857076798126, -0.02352207094373166, -0.06097294972778831, 0.2392657015856028], [0.2805094366328047, 0.35602583511196, -0.008944753064763306, -0.10922801385572027, 0.263851382004036, 0.2555379893678099, 0.656231607353901, 1.0, 0.4403366362880337, 0.5197188776821938, 0.39715239494744864, 0.1822052484724354, 0.3679278592638165, -0.06920731774123723, 0.024689777488585165, 0.07138125172327725, -0.09853792565143761, 0.6890232341638843], [0.060432038582161736, 0.11436826220053398, -0.09885771699805396, -0.039677750322928335, 0.008635512243151906, -0.19463967987292732, 0.628896186056878, 0.4403366362880337, 1.0, 0.2951377112471954, 0.09946318961845461, 0.0824503399607492, 0.26130540729598367, -0.13047174956458976, -0.0022370154491674673, 0.010186516685184745, -0.06251368024974115, 0.3233329616962566], [0.313969753369199, 0.33412330513908317, -0.058535913308345844, 0.0491124432987285, 0.10360870390849239, 0.051694713442437375, 0.4468811107250622, 0.5197188776821938, 0.2951377112471954, 1.0, 0.10751219383451224, 0.03192243671014734, 0.07539561533827119, -0.018826249051236824, 0.0134228407295994, 0.05491249452505436, -0.041724357513586746, 0.25156808395173397], [0.29391518332522804, 0.28096030453948045, 0.1833761326643688, -0.034720163717082024, 0.09413746577611114, 0.3929742831033454, 0.0587529390867887, 0.39715239494744864, 0.09946318961845461, 0.10751219383451224, 1.0, 0.20944975066082516, 0.3347156011590167, -0.24211150940513307, 0.0465872943750308, 0.026054927008732905, 0.021337789843587848, 0.6047124533960377], [0.048339398092009794, 0.11045131340721942, 0.15060391548734212, 0.06181004811713941, -0.029887977258907687, 0.19903826841881353, 0.026089838955929555, 0.1822052484724354, 0.0824503399607492, 0.03192243671014734, 0.20944975066082516, 1.0, 0.10867101202552962, -0.15896001396010537, -0.06233410913631466, -0.10654152353245236, 0.007567933985598332, 0.33599054904982767], [0.09888217383840939, 0.11932544987405118, 0.0443343573003941, -0.12100270664543483, 0.1536947907075956, 0.22098953814721622, 0.20510990072086224, 0.3679278592638165, 0.26130540729598367, 0.07539561533827119, 0.3347156011590167, 0.10867101202552962, 1.0, -0.23034958169718847, -0.005985379867945856, -0.03115210059663536, -0.08607505995940112, 0.48402364552775834], [-0.13134239429329297, -0.08350558384306972, -0.1918959522495421, 0.03840678409018545, 0.0696532888584831, -0.21068225327330814, 0.05474783008874048, -0.06920731774123723, -0.13047174956458976, -0.018826249051236824, -0.24211150940513307, -0.15896001396010537, -0.23034958169718847, 1.0, -0.030337159412749556, -0.06974742669002774, 0.011620990422357959, -0.2898111258976572], [0.07048865433055242, 0.06307332227463083, 0.039010608997929755, -0.0073569880548323965, 0.06882860196014175, 0.10013093038033069, -0.040682857076798126, 0.024689777488585165, -0.0022370154491674673, 0.0134228407295994, 0.0465872943750308, -0.06233410913631466, -0.005985379867945856, -0.030337159412749556, 1.0, -0.03231929373115057, -0.01787483998631498, 0.06300309654258739], [0.06643729713428112, 0.07815920891912538, 0.10205833862537343, -0.004438223299690165, -0.02705359730863575, 0.08262896707437829, -0.02352207094373166, 0.07138125172327725, 0.010186516685184745, 0.05491249452505436, 0.026054927008732905, -0.10654152353245236, -0.03115210059663536, -0.06974742669002774, -0.03231929373115057, 1.0, 0.0020347285027728546, 0.07036550890706753], [0.0010031531656518329, 0.041344024339604525, -0.031493769237752774, 0.015938424884728575, -0.041428585284988426, -0.09237233738456645, -0.06097294972778831, -0.09853792565143761, -0.06251368024974115, -0.041724357513586746, 0.021337789843587848, 0.007567933985598332, -0.08607505995940112, 0.011620990422357959, -0.01787483998631498, 0.0020347285027728546, 1.0, -0.11851411422777139], [0.3573364922493946, 0.3705338045055664, 0.26848012228777146, -0.0962238566624743, 0.19418809981441104, 0.5498395482759126, 0.2392657015856028, 0.6890232341638843, 0.3233329616962566, 0.25156808395173397, 0.6047124533960377, 0.33599054904982767, 0.48402364552775834, -0.2898111258976572, 0.06300309654258739, 0.07036550890706753, -0.11851411422777139, 1.0]], \"zmax\": 1.0, \"zmin\": -0.616344549099751}],                        {\"legend\": {\"bgcolor\": \"#F5F6F9\", \"font\": {\"color\": \"#4D5663\"}}, \"paper_bgcolor\": \"#F5F6F9\", \"plot_bgcolor\": \"#F5F6F9\", \"template\": {\"data\": {\"bar\": [{\"error_x\": {\"color\": \"#2a3f5f\"}, \"error_y\": {\"color\": \"#2a3f5f\"}, \"marker\": {\"line\": {\"color\": \"#E5ECF6\", \"width\": 0.5}}, \"type\": \"bar\"}], \"barpolar\": [{\"marker\": {\"line\": {\"color\": \"#E5ECF6\", \"width\": 0.5}}, \"type\": \"barpolar\"}], \"carpet\": [{\"aaxis\": {\"endlinecolor\": \"#2a3f5f\", \"gridcolor\": \"white\", \"linecolor\": \"white\", \"minorgridcolor\": \"white\", \"startlinecolor\": \"#2a3f5f\"}, \"baxis\": {\"endlinecolor\": \"#2a3f5f\", \"gridcolor\": \"white\", \"linecolor\": \"white\", \"minorgridcolor\": \"white\", \"startlinecolor\": \"#2a3f5f\"}, \"type\": \"carpet\"}], \"choropleth\": [{\"colorbar\": {\"outlinewidth\": 0, \"ticks\": \"\"}, \"type\": \"choropleth\"}], \"contour\": [{\"colorbar\": {\"outlinewidth\": 0, \"ticks\": \"\"}, \"colorscale\": [[0.0, \"#0d0887\"], [0.1111111111111111, \"#46039f\"], [0.2222222222222222, \"#7201a8\"], [0.3333333333333333, \"#9c179e\"], [0.4444444444444444, \"#bd3786\"], [0.5555555555555556, \"#d8576b\"], [0.6666666666666666, \"#ed7953\"], [0.7777777777777778, \"#fb9f3a\"], [0.8888888888888888, \"#fdca26\"], [1.0, \"#f0f921\"]], \"type\": \"contour\"}], \"contourcarpet\": [{\"colorbar\": {\"outlinewidth\": 0, \"ticks\": \"\"}, \"type\": \"contourcarpet\"}], \"heatmap\": [{\"colorbar\": {\"outlinewidth\": 0, \"ticks\": \"\"}, \"colorscale\": [[0.0, \"#0d0887\"], [0.1111111111111111, \"#46039f\"], [0.2222222222222222, \"#7201a8\"], [0.3333333333333333, \"#9c179e\"], [0.4444444444444444, \"#bd3786\"], [0.5555555555555556, \"#d8576b\"], [0.6666666666666666, \"#ed7953\"], [0.7777777777777778, \"#fb9f3a\"], [0.8888888888888888, \"#fdca26\"], [1.0, \"#f0f921\"]], \"type\": \"heatmap\"}], \"heatmapgl\": [{\"colorbar\": {\"outlinewidth\": 0, \"ticks\": \"\"}, \"colorscale\": [[0.0, \"#0d0887\"], [0.1111111111111111, \"#46039f\"], [0.2222222222222222, \"#7201a8\"], [0.3333333333333333, \"#9c179e\"], [0.4444444444444444, \"#bd3786\"], [0.5555555555555556, \"#d8576b\"], [0.6666666666666666, \"#ed7953\"], [0.7777777777777778, \"#fb9f3a\"], [0.8888888888888888, \"#fdca26\"], [1.0, \"#f0f921\"]], \"type\": \"heatmapgl\"}], \"histogram\": [{\"marker\": {\"colorbar\": {\"outlinewidth\": 0, \"ticks\": \"\"}}, \"type\": \"histogram\"}], \"histogram2d\": [{\"colorbar\": {\"outlinewidth\": 0, \"ticks\": \"\"}, \"colorscale\": [[0.0, \"#0d0887\"], [0.1111111111111111, \"#46039f\"], [0.2222222222222222, \"#7201a8\"], [0.3333333333333333, \"#9c179e\"], [0.4444444444444444, \"#bd3786\"], [0.5555555555555556, \"#d8576b\"], [0.6666666666666666, \"#ed7953\"], [0.7777777777777778, \"#fb9f3a\"], [0.8888888888888888, \"#fdca26\"], [1.0, \"#f0f921\"]], \"type\": \"histogram2d\"}], \"histogram2dcontour\": [{\"colorbar\": {\"outlinewidth\": 0, \"ticks\": \"\"}, \"colorscale\": [[0.0, \"#0d0887\"], [0.1111111111111111, \"#46039f\"], [0.2222222222222222, \"#7201a8\"], [0.3333333333333333, \"#9c179e\"], [0.4444444444444444, \"#bd3786\"], [0.5555555555555556, \"#d8576b\"], [0.6666666666666666, \"#ed7953\"], [0.7777777777777778, \"#fb9f3a\"], [0.8888888888888888, \"#fdca26\"], [1.0, \"#f0f921\"]], \"type\": \"histogram2dcontour\"}], \"mesh3d\": [{\"colorbar\": {\"outlinewidth\": 0, \"ticks\": \"\"}, \"type\": \"mesh3d\"}], \"parcoords\": [{\"line\": {\"colorbar\": {\"outlinewidth\": 0, \"ticks\": \"\"}}, \"type\": \"parcoords\"}], \"pie\": [{\"automargin\": true, \"type\": \"pie\"}], \"scatter\": [{\"marker\": {\"colorbar\": {\"outlinewidth\": 0, \"ticks\": \"\"}}, \"type\": \"scatter\"}], \"scatter3d\": [{\"line\": {\"colorbar\": {\"outlinewidth\": 0, \"ticks\": \"\"}}, \"marker\": {\"colorbar\": {\"outlinewidth\": 0, \"ticks\": \"\"}}, \"type\": \"scatter3d\"}], \"scattercarpet\": [{\"marker\": {\"colorbar\": {\"outlinewidth\": 0, \"ticks\": \"\"}}, \"type\": \"scattercarpet\"}], \"scattergeo\": [{\"marker\": {\"colorbar\": {\"outlinewidth\": 0, \"ticks\": \"\"}}, \"type\": \"scattergeo\"}], \"scattergl\": [{\"marker\": {\"colorbar\": {\"outlinewidth\": 0, \"ticks\": \"\"}}, \"type\": \"scattergl\"}], \"scattermapbox\": [{\"marker\": {\"colorbar\": {\"outlinewidth\": 0, \"ticks\": \"\"}}, \"type\": \"scattermapbox\"}], \"scatterpolar\": [{\"marker\": {\"colorbar\": {\"outlinewidth\": 0, \"ticks\": \"\"}}, \"type\": \"scatterpolar\"}], \"scatterpolargl\": [{\"marker\": {\"colorbar\": {\"outlinewidth\": 0, \"ticks\": \"\"}}, \"type\": \"scatterpolargl\"}], \"scatterternary\": [{\"marker\": {\"colorbar\": {\"outlinewidth\": 0, \"ticks\": \"\"}}, \"type\": \"scatterternary\"}], \"surface\": [{\"colorbar\": {\"outlinewidth\": 0, \"ticks\": \"\"}, \"colorscale\": [[0.0, \"#0d0887\"], [0.1111111111111111, \"#46039f\"], [0.2222222222222222, \"#7201a8\"], [0.3333333333333333, \"#9c179e\"], [0.4444444444444444, \"#bd3786\"], [0.5555555555555556, \"#d8576b\"], [0.6666666666666666, \"#ed7953\"], [0.7777777777777778, \"#fb9f3a\"], [0.8888888888888888, \"#fdca26\"], [1.0, \"#f0f921\"]], \"type\": \"surface\"}], \"table\": [{\"cells\": {\"fill\": {\"color\": \"#EBF0F8\"}, \"line\": {\"color\": \"white\"}}, \"header\": {\"fill\": {\"color\": \"#C8D4E3\"}, \"line\": {\"color\": \"white\"}}, \"type\": \"table\"}]}, \"layout\": {\"annotationdefaults\": {\"arrowcolor\": \"#2a3f5f\", \"arrowhead\": 0, \"arrowwidth\": 1}, \"autotypenumbers\": \"strict\", \"coloraxis\": {\"colorbar\": {\"outlinewidth\": 0, \"ticks\": \"\"}}, \"colorscale\": {\"diverging\": [[0, \"#8e0152\"], [0.1, \"#c51b7d\"], [0.2, \"#de77ae\"], [0.3, \"#f1b6da\"], [0.4, \"#fde0ef\"], [0.5, \"#f7f7f7\"], [0.6, \"#e6f5d0\"], [0.7, \"#b8e186\"], [0.8, \"#7fbc41\"], [0.9, \"#4d9221\"], [1, \"#276419\"]], \"sequential\": [[0.0, \"#0d0887\"], [0.1111111111111111, \"#46039f\"], [0.2222222222222222, \"#7201a8\"], [0.3333333333333333, \"#9c179e\"], [0.4444444444444444, \"#bd3786\"], [0.5555555555555556, \"#d8576b\"], [0.6666666666666666, \"#ed7953\"], [0.7777777777777778, \"#fb9f3a\"], [0.8888888888888888, \"#fdca26\"], [1.0, \"#f0f921\"]], \"sequentialminus\": [[0.0, \"#0d0887\"], [0.1111111111111111, \"#46039f\"], [0.2222222222222222, \"#7201a8\"], [0.3333333333333333, \"#9c179e\"], [0.4444444444444444, \"#bd3786\"], [0.5555555555555556, \"#d8576b\"], [0.6666666666666666, \"#ed7953\"], [0.7777777777777778, \"#fb9f3a\"], [0.8888888888888888, \"#fdca26\"], [1.0, \"#f0f921\"]]}, \"colorway\": [\"#636efa\", \"#EF553B\", \"#00cc96\", \"#ab63fa\", \"#FFA15A\", \"#19d3f3\", \"#FF6692\", \"#B6E880\", \"#FF97FF\", \"#FECB52\"], \"font\": {\"color\": \"#2a3f5f\"}, \"geo\": {\"bgcolor\": \"white\", \"lakecolor\": \"white\", \"landcolor\": \"#E5ECF6\", \"showlakes\": true, \"showland\": true, \"subunitcolor\": \"white\"}, \"hoverlabel\": {\"align\": \"left\"}, \"hovermode\": \"closest\", \"mapbox\": {\"style\": \"light\"}, \"paper_bgcolor\": \"white\", \"plot_bgcolor\": \"#E5ECF6\", \"polar\": {\"angularaxis\": {\"gridcolor\": \"white\", \"linecolor\": \"white\", \"ticks\": \"\"}, \"bgcolor\": \"#E5ECF6\", \"radialaxis\": {\"gridcolor\": \"white\", \"linecolor\": \"white\", \"ticks\": \"\"}}, \"scene\": {\"xaxis\": {\"backgroundcolor\": \"#E5ECF6\", \"gridcolor\": \"white\", \"gridwidth\": 2, \"linecolor\": \"white\", \"showbackground\": true, \"ticks\": \"\", \"zerolinecolor\": \"white\"}, \"yaxis\": {\"backgroundcolor\": \"#E5ECF6\", \"gridcolor\": \"white\", \"gridwidth\": 2, \"linecolor\": \"white\", \"showbackground\": true, \"ticks\": \"\", \"zerolinecolor\": \"white\"}, \"zaxis\": {\"backgroundcolor\": \"#E5ECF6\", \"gridcolor\": \"white\", \"gridwidth\": 2, \"linecolor\": \"white\", \"showbackground\": true, \"ticks\": \"\", \"zerolinecolor\": \"white\"}}, \"shapedefaults\": {\"line\": {\"color\": \"#2a3f5f\"}}, \"ternary\": {\"aaxis\": {\"gridcolor\": \"white\", \"linecolor\": \"white\", \"ticks\": \"\"}, \"baxis\": {\"gridcolor\": \"white\", \"linecolor\": \"white\", \"ticks\": \"\"}, \"bgcolor\": \"#E5ECF6\", \"caxis\": {\"gridcolor\": \"white\", \"linecolor\": \"white\", \"ticks\": \"\"}}, \"title\": {\"x\": 0.05}, \"xaxis\": {\"automargin\": true, \"gridcolor\": \"white\", \"linecolor\": \"white\", \"ticks\": \"\", \"title\": {\"standoff\": 15}, \"zerolinecolor\": \"white\", \"zerolinewidth\": 2}, \"yaxis\": {\"automargin\": true, \"gridcolor\": \"white\", \"linecolor\": \"white\", \"ticks\": \"\", \"title\": {\"standoff\": 15}, \"zerolinecolor\": \"white\", \"zerolinewidth\": 2}}}, \"title\": {\"font\": {\"color\": \"#4D5663\"}, \"text\": \"Matriz de Correlaci\\u00f3n\"}, \"xaxis\": {\"gridcolor\": \"#E1E5ED\", \"showgrid\": true, \"tickfont\": {\"color\": \"#4D5663\"}, \"title\": {\"font\": {\"color\": \"#4D5663\"}, \"text\": \"\"}, \"zerolinecolor\": \"#E1E5ED\"}, \"yaxis\": {\"gridcolor\": \"#E1E5ED\", \"showgrid\": true, \"tickfont\": {\"color\": \"#4D5663\"}, \"title\": {\"font\": {\"color\": \"#4D5663\"}, \"text\": \"\"}, \"zerolinecolor\": \"#E1E5ED\"}},                        {\"showLink\": true, \"linkText\": \"Export to plot.ly\", \"plotlyServerURL\": \"https://plot.ly\", \"responsive\": true}                    ).then(function(){\n",
       "                            \n",
       "var gd = document.getElementById('660d4926-cc32-4810-b16b-b97fd303f554');\n",
       "var x = new MutationObserver(function (mutations, observer) {{\n",
       "        var display = window.getComputedStyle(gd).display;\n",
       "        if (!display || display === 'none') {{\n",
       "            console.log([gd, 'removed!']);\n",
       "            Plotly.purge(gd);\n",
       "            observer.disconnect();\n",
       "        }}\n",
       "}});\n",
       "\n",
       "// Listen for the removal of the full notebook cells\n",
       "var notebookContainer = gd.closest('#notebook-container');\n",
       "if (notebookContainer) {{\n",
       "    x.observe(notebookContainer, {childList: true});\n",
       "}}\n",
       "\n",
       "// Listen for the clearing of the current output cell\n",
       "var outputEl = gd.closest('.output');\n",
       "if (outputEl) {{\n",
       "    x.observe(outputEl, {childList: true});\n",
       "}}\n",
       "\n",
       "                        })                };                });            </script>        </div>"
      ]
     },
     "metadata": {},
     "output_type": "display_data"
    }
   ],
   "source": [
    "X_train[feats].corr(method=\"spearman\").iplot(kind=\"heatmap\",colorscale=\"orrd\",title=\"Matriz de Correlación\")"
   ]
  },
  {
   "cell_type": "code",
   "execution_count": 1049,
   "metadata": {
    "ExecuteTime": {
     "end_time": "2021-08-21T17:14:27.348057Z",
     "start_time": "2021-08-21T17:14:27.324020Z"
    }
   },
   "outputs": [],
   "source": [
    "corr=X_train[feats].corr(method=\"spearman\")"
   ]
  },
  {
   "cell_type": "code",
   "execution_count": 1050,
   "metadata": {
    "ExecuteTime": {
     "end_time": "2021-08-21T17:14:27.839033Z",
     "start_time": "2021-08-21T17:14:27.819034Z"
    }
   },
   "outputs": [],
   "source": [
    "corr=abs(corr)"
   ]
  },
  {
   "cell_type": "code",
   "execution_count": 1051,
   "metadata": {
    "ExecuteTime": {
     "end_time": "2021-08-21T17:14:28.190553Z",
     "start_time": "2021-08-21T17:14:28.161579Z"
    },
    "scrolled": true
   },
   "outputs": [
    {
     "data": {
      "text/html": [
       "<style  type=\"text/css\" >\n",
       "#T_8fe7f_row0_col0{\n",
       "            background-color:  #023858;\n",
       "            color:  #f1f1f1;\n",
       "        }#T_8fe7f_row1_col0{\n",
       "            background-color:  #2484ba;\n",
       "            color:  #000000;\n",
       "        }#T_8fe7f_row2_col0{\n",
       "            background-color:  #4c99c5;\n",
       "            color:  #000000;\n",
       "        }#T_8fe7f_row3_col0{\n",
       "            background-color:  #69a5cc;\n",
       "            color:  #000000;\n",
       "        }#T_8fe7f_row4_col0{\n",
       "            background-color:  #88b1d4;\n",
       "            color:  #000000;\n",
       "        }#T_8fe7f_row5_col0{\n",
       "            background-color:  #b5c4df;\n",
       "            color:  #000000;\n",
       "        }#T_8fe7f_row6_col0{\n",
       "            background-color:  #bbc7e0;\n",
       "            color:  #000000;\n",
       "        }#T_8fe7f_row7_col0{\n",
       "            background-color:  #c2cbe2;\n",
       "            color:  #000000;\n",
       "        }#T_8fe7f_row8_col0{\n",
       "            background-color:  #c6cce3;\n",
       "            color:  #000000;\n",
       "        }#T_8fe7f_row9_col0{\n",
       "            background-color:  #d2d3e7;\n",
       "            color:  #000000;\n",
       "        }#T_8fe7f_row10_col0{\n",
       "            background-color:  #d7d6e9;\n",
       "            color:  #000000;\n",
       "        }#T_8fe7f_row11_col0{\n",
       "            background-color:  #dbdaeb;\n",
       "            color:  #000000;\n",
       "        }#T_8fe7f_row12_col0{\n",
       "            background-color:  #dedcec;\n",
       "            color:  #000000;\n",
       "        }#T_8fe7f_row13_col0{\n",
       "            background-color:  #e9e5f1;\n",
       "            color:  #000000;\n",
       "        }#T_8fe7f_row14_col0{\n",
       "            background-color:  #f6eff7;\n",
       "            color:  #000000;\n",
       "        }#T_8fe7f_row15_col0{\n",
       "            background-color:  #faf2f8;\n",
       "            color:  #000000;\n",
       "        }#T_8fe7f_row16_col0{\n",
       "            background-color:  #fef6fa;\n",
       "            color:  #000000;\n",
       "        }#T_8fe7f_row17_col0{\n",
       "            background-color:  #fff7fb;\n",
       "            color:  #000000;\n",
       "        }</style><table id=\"T_8fe7f_\" ><thead>    <tr>        <th class=\"blank level0\" ></th>        <th class=\"col_heading level0 col0\" >tgt_SalePrice</th>    </tr></thead><tbody>\n",
       "                <tr>\n",
       "                        <th id=\"T_8fe7f_level0_row0\" class=\"row_heading level0 row0\" >tgt_SalePrice</th>\n",
       "                        <td id=\"T_8fe7f_row0_col0\" class=\"data row0 col0\" >1.000000</td>\n",
       "            </tr>\n",
       "            <tr>\n",
       "                        <th id=\"T_8fe7f_level0_row1\" class=\"row_heading level0 row1\" >c_GrLivArea</th>\n",
       "                        <td id=\"T_8fe7f_row1_col0\" class=\"data row1 col0\" >0.689023</td>\n",
       "            </tr>\n",
       "            <tr>\n",
       "                        <th id=\"T_8fe7f_level0_row2\" class=\"row_heading level0 row2\" >c_GarageArea</th>\n",
       "                        <td id=\"T_8fe7f_row2_col0\" class=\"data row2 col0\" >0.604712</td>\n",
       "            </tr>\n",
       "            <tr>\n",
       "                        <th id=\"T_8fe7f_level0_row3\" class=\"row_heading level0 row3\" >c_TotalBsmtSF</th>\n",
       "                        <td id=\"T_8fe7f_row3_col0\" class=\"data row3 col0\" >0.549840</td>\n",
       "            </tr>\n",
       "            <tr>\n",
       "                        <th id=\"T_8fe7f_level0_row4\" class=\"row_heading level0 row4\" >c_OpenPorchSF</th>\n",
       "                        <td id=\"T_8fe7f_row4_col0\" class=\"data row4 col0\" >0.484024</td>\n",
       "            </tr>\n",
       "            <tr>\n",
       "                        <th id=\"T_8fe7f_level0_row5\" class=\"row_heading level0 row5\" >c_LotArea</th>\n",
       "                        <td id=\"T_8fe7f_row5_col0\" class=\"data row5 col0\" >0.370534</td>\n",
       "            </tr>\n",
       "            <tr>\n",
       "                        <th id=\"T_8fe7f_level0_row6\" class=\"row_heading level0 row6\" >c_LotFrontage</th>\n",
       "                        <td id=\"T_8fe7f_row6_col0\" class=\"data row6 col0\" >0.357336</td>\n",
       "            </tr>\n",
       "            <tr>\n",
       "                        <th id=\"T_8fe7f_level0_row7\" class=\"row_heading level0 row7\" >c_WoodDeckSF</th>\n",
       "                        <td id=\"T_8fe7f_row7_col0\" class=\"data row7 col0\" >0.335991</td>\n",
       "            </tr>\n",
       "            <tr>\n",
       "                        <th id=\"T_8fe7f_level0_row8\" class=\"row_heading level0 row8\" >c_HalfBath</th>\n",
       "                        <td id=\"T_8fe7f_row8_col0\" class=\"data row8 col0\" >0.323333</td>\n",
       "            </tr>\n",
       "            <tr>\n",
       "                        <th id=\"T_8fe7f_level0_row9\" class=\"row_heading level0 row9\" >c_EnclosedPorch</th>\n",
       "                        <td id=\"T_8fe7f_row9_col0\" class=\"data row9 col0\" >0.289811</td>\n",
       "            </tr>\n",
       "            <tr>\n",
       "                        <th id=\"T_8fe7f_level0_row10\" class=\"row_heading level0 row10\" >c_BsmtFinSF1</th>\n",
       "                        <td id=\"T_8fe7f_row10_col0\" class=\"data row10 col0\" >0.268480</td>\n",
       "            </tr>\n",
       "            <tr>\n",
       "                        <th id=\"T_8fe7f_level0_row11\" class=\"row_heading level0 row11\" >c_BedroomAbvGr</th>\n",
       "                        <td id=\"T_8fe7f_row11_col0\" class=\"data row11 col0\" >0.251568</td>\n",
       "            </tr>\n",
       "            <tr>\n",
       "                        <th id=\"T_8fe7f_level0_row12\" class=\"row_heading level0 row12\" >c_2ndFlrSF</th>\n",
       "                        <td id=\"T_8fe7f_row12_col0\" class=\"data row12 col0\" >0.239266</td>\n",
       "            </tr>\n",
       "            <tr>\n",
       "                        <th id=\"T_8fe7f_level0_row13\" class=\"row_heading level0 row13\" >c_BsmtUnfSF</th>\n",
       "                        <td id=\"T_8fe7f_row13_col0\" class=\"data row13 col0\" >0.194188</td>\n",
       "            </tr>\n",
       "            <tr>\n",
       "                        <th id=\"T_8fe7f_level0_row14\" class=\"row_heading level0 row14\" >c_MiscVal</th>\n",
       "                        <td id=\"T_8fe7f_row14_col0\" class=\"data row14 col0\" >0.118514</td>\n",
       "            </tr>\n",
       "            <tr>\n",
       "                        <th id=\"T_8fe7f_level0_row15\" class=\"row_heading level0 row15\" >c_BsmtFinSF2</th>\n",
       "                        <td id=\"T_8fe7f_row15_col0\" class=\"data row15 col0\" >0.096224</td>\n",
       "            </tr>\n",
       "            <tr>\n",
       "                        <th id=\"T_8fe7f_level0_row16\" class=\"row_heading level0 row16\" >c_ScreenPorch</th>\n",
       "                        <td id=\"T_8fe7f_row16_col0\" class=\"data row16 col0\" >0.070366</td>\n",
       "            </tr>\n",
       "            <tr>\n",
       "                        <th id=\"T_8fe7f_level0_row17\" class=\"row_heading level0 row17\" >c_3SsnPorch</th>\n",
       "                        <td id=\"T_8fe7f_row17_col0\" class=\"data row17 col0\" >0.063003</td>\n",
       "            </tr>\n",
       "    </tbody></table>"
      ],
      "text/plain": [
       "<pandas.io.formats.style.Styler at 0x23298190fa0>"
      ]
     },
     "execution_count": 1051,
     "metadata": {},
     "output_type": "execute_result"
    }
   ],
   "source": [
    "corr[[\"tgt_SalePrice\"]].sort_values(by = 'tgt_SalePrice',ascending = False).style.background_gradient()"
   ]
  },
  {
   "cell_type": "code",
   "execution_count": 1052,
   "metadata": {
    "ExecuteTime": {
     "end_time": "2021-08-21T17:15:23.461938Z",
     "start_time": "2021-08-21T17:15:23.451942Z"
    }
   },
   "outputs": [],
   "source": [
    "corr=corr[[\"tgt_SalePrice\"]].sort_values(by = 'tgt_SalePrice',ascending = False)"
   ]
  },
  {
   "cell_type": "code",
   "execution_count": 1053,
   "metadata": {
    "ExecuteTime": {
     "end_time": "2021-08-21T17:15:23.922569Z",
     "start_time": "2021-08-21T17:15:23.904649Z"
    }
   },
   "outputs": [],
   "source": [
    "cols_drop_low_corr=list(corr[corr[\"tgt_SalePrice\"]<.1].index)"
   ]
  },
  {
   "cell_type": "code",
   "execution_count": 1054,
   "metadata": {
    "ExecuteTime": {
     "end_time": "2021-08-21T17:15:24.288127Z",
     "start_time": "2021-08-21T17:15:24.273135Z"
    }
   },
   "outputs": [
    {
     "data": {
      "text/plain": [
       "['c_BsmtFinSF2', 'c_ScreenPorch', 'c_3SsnPorch']"
      ]
     },
     "execution_count": 1054,
     "metadata": {},
     "output_type": "execute_result"
    }
   ],
   "source": [
    "cols_drop_low_corr"
   ]
  },
  {
   "cell_type": "markdown",
   "metadata": {},
   "source": [
    "- 3SsnPorch: área de porche de tres estaciones en pies cuadrados\n",
    "- ScreenPorch: superficie acristalada del porche en pies cuadrados\n",
    "- PoolArea: área de la piscina en pies cuadrados"
   ]
  },
  {
   "cell_type": "code",
   "execution_count": 1055,
   "metadata": {
    "ExecuteTime": {
     "end_time": "2021-08-21T17:15:56.490297Z",
     "start_time": "2021-08-21T17:15:56.473330Z"
    }
   },
   "outputs": [],
   "source": [
    "X_train=X_train.drop(columns=cols_drop_low_corr)\n",
    "X_test=X_test.drop(columns=cols_drop_low_corr)"
   ]
  },
  {
   "cell_type": "markdown",
   "metadata": {},
   "source": [
    "### MULTICOLINEALIDAD"
   ]
  },
  {
   "cell_type": "markdown",
   "metadata": {},
   "source": [
    "#### MULTICOLINEALIDAD CONTINUAS"
   ]
  },
  {
   "cell_type": "code",
   "execution_count": 1056,
   "metadata": {
    "ExecuteTime": {
     "end_time": "2021-08-21T17:16:07.685109Z",
     "start_time": "2021-08-21T17:16:07.678142Z"
    }
   },
   "outputs": [],
   "source": [
    "from statsmodels.stats.outliers_influence import variance_inflation_factor"
   ]
  },
  {
   "cell_type": "code",
   "execution_count": 1057,
   "metadata": {
    "ExecuteTime": {
     "end_time": "2021-08-21T17:16:43.316867Z",
     "start_time": "2021-08-21T17:16:43.302855Z"
    }
   },
   "outputs": [],
   "source": [
    "#Función para multicolineaidad con continuas\n",
    "def calc_vif(X):\n",
    "    vif = pd.DataFrame()\n",
    "    vif[\"variables\"] = X.columns\n",
    "    vif[\"VIF\"] = [variance_inflation_factor(X.values, i) for i in range(X.shape[1])]\n",
    "    return(vif)"
   ]
  },
  {
   "cell_type": "code",
   "execution_count": 1058,
   "metadata": {
    "ExecuteTime": {
     "end_time": "2021-08-21T17:16:43.805853Z",
     "start_time": "2021-08-21T17:16:43.775855Z"
    }
   },
   "outputs": [],
   "source": [
    "X_train.drop(columns=['v_YearBuilt','v_YearRemodAdd','v_GarageYrBlt'],inplace=True)\n",
    "X_test.drop(columns=['v_YearBuilt','v_YearRemodAdd','v_GarageYrBlt'],inplace=True)"
   ]
  },
  {
   "cell_type": "code",
   "execution_count": 1059,
   "metadata": {
    "ExecuteTime": {
     "end_time": "2021-08-21T17:16:57.443231Z",
     "start_time": "2021-08-21T17:16:57.432235Z"
    },
    "scrolled": true
   },
   "outputs": [],
   "source": [
    "for col in X_train.filter(like=\"c_\").columns:\n",
    "    X_train[col]=X_train[col].astype(float)"
   ]
  },
  {
   "cell_type": "code",
   "execution_count": 1060,
   "metadata": {
    "ExecuteTime": {
     "end_time": "2021-08-21T17:16:57.878512Z",
     "start_time": "2021-08-21T17:16:57.840520Z"
    },
    "scrolled": true
   },
   "outputs": [],
   "source": [
    "vif=calc_vif(X_train[[x for x in X_train.filter(like=\"c_\") if x not in [ \"tgt_SalePrice\"]]])"
   ]
  },
  {
   "cell_type": "code",
   "execution_count": 1061,
   "metadata": {
    "ExecuteTime": {
     "end_time": "2021-08-21T17:16:58.223513Z",
     "start_time": "2021-08-21T17:16:58.204515Z"
    }
   },
   "outputs": [
    {
     "data": {
      "text/html": [
       "<div>\n",
       "<style scoped>\n",
       "    .dataframe tbody tr th:only-of-type {\n",
       "        vertical-align: middle;\n",
       "    }\n",
       "\n",
       "    .dataframe tbody tr th {\n",
       "        vertical-align: top;\n",
       "    }\n",
       "\n",
       "    .dataframe thead th {\n",
       "        text-align: right;\n",
       "    }\n",
       "</style>\n",
       "<table border=\"1\" class=\"dataframe\">\n",
       "  <thead>\n",
       "    <tr style=\"text-align: right;\">\n",
       "      <th></th>\n",
       "      <th>variables</th>\n",
       "      <th>VIF</th>\n",
       "    </tr>\n",
       "  </thead>\n",
       "  <tbody>\n",
       "    <tr>\n",
       "      <th>0</th>\n",
       "      <td>c_LotFrontage</td>\n",
       "      <td>23.798841</td>\n",
       "    </tr>\n",
       "    <tr>\n",
       "      <th>1</th>\n",
       "      <td>c_LotArea</td>\n",
       "      <td>16.743894</td>\n",
       "    </tr>\n",
       "    <tr>\n",
       "      <th>2</th>\n",
       "      <td>c_BsmtFinSF1</td>\n",
       "      <td>20.593357</td>\n",
       "    </tr>\n",
       "    <tr>\n",
       "      <th>3</th>\n",
       "      <td>c_BsmtUnfSF</td>\n",
       "      <td>31.519864</td>\n",
       "    </tr>\n",
       "    <tr>\n",
       "      <th>4</th>\n",
       "      <td>c_TotalBsmtSF</td>\n",
       "      <td>93.661133</td>\n",
       "    </tr>\n",
       "    <tr>\n",
       "      <th>5</th>\n",
       "      <td>c_2ndFlrSF</td>\n",
       "      <td>8.837079</td>\n",
       "    </tr>\n",
       "    <tr>\n",
       "      <th>6</th>\n",
       "      <td>c_GrLivArea</td>\n",
       "      <td>67.279042</td>\n",
       "    </tr>\n",
       "    <tr>\n",
       "      <th>7</th>\n",
       "      <td>c_HalfBath</td>\n",
       "      <td>2.712329</td>\n",
       "    </tr>\n",
       "    <tr>\n",
       "      <th>8</th>\n",
       "      <td>c_BedroomAbvGr</td>\n",
       "      <td>22.693887</td>\n",
       "    </tr>\n",
       "    <tr>\n",
       "      <th>9</th>\n",
       "      <td>c_GarageArea</td>\n",
       "      <td>10.142397</td>\n",
       "    </tr>\n",
       "    <tr>\n",
       "      <th>10</th>\n",
       "      <td>c_WoodDeckSF</td>\n",
       "      <td>1.693519</td>\n",
       "    </tr>\n",
       "    <tr>\n",
       "      <th>11</th>\n",
       "      <td>c_OpenPorchSF</td>\n",
       "      <td>1.834151</td>\n",
       "    </tr>\n",
       "    <tr>\n",
       "      <th>12</th>\n",
       "      <td>c_EnclosedPorch</td>\n",
       "      <td>1.260811</td>\n",
       "    </tr>\n",
       "    <tr>\n",
       "      <th>13</th>\n",
       "      <td>c_MiscVal</td>\n",
       "      <td>1.037072</td>\n",
       "    </tr>\n",
       "  </tbody>\n",
       "</table>\n",
       "</div>"
      ],
      "text/plain": [
       "          variables        VIF\n",
       "0     c_LotFrontage  23.798841\n",
       "1         c_LotArea  16.743894\n",
       "2      c_BsmtFinSF1  20.593357\n",
       "3       c_BsmtUnfSF  31.519864\n",
       "4     c_TotalBsmtSF  93.661133\n",
       "5        c_2ndFlrSF   8.837079\n",
       "6       c_GrLivArea  67.279042\n",
       "7        c_HalfBath   2.712329\n",
       "8    c_BedroomAbvGr  22.693887\n",
       "9      c_GarageArea  10.142397\n",
       "10     c_WoodDeckSF   1.693519\n",
       "11    c_OpenPorchSF   1.834151\n",
       "12  c_EnclosedPorch   1.260811\n",
       "13        c_MiscVal   1.037072"
      ]
     },
     "execution_count": 1061,
     "metadata": {},
     "output_type": "execute_result"
    }
   ],
   "source": [
    "vif"
   ]
  },
  {
   "cell_type": "code",
   "execution_count": 1065,
   "metadata": {
    "ExecuteTime": {
     "end_time": "2021-08-21T17:20:53.492806Z",
     "start_time": "2021-08-21T17:20:53.471812Z"
    },
    "scrolled": true
   },
   "outputs": [
    {
     "data": {
      "text/html": [
       "<div>\n",
       "<style scoped>\n",
       "    .dataframe tbody tr th:only-of-type {\n",
       "        vertical-align: middle;\n",
       "    }\n",
       "\n",
       "    .dataframe tbody tr th {\n",
       "        vertical-align: top;\n",
       "    }\n",
       "\n",
       "    .dataframe thead th {\n",
       "        text-align: right;\n",
       "    }\n",
       "</style>\n",
       "<table border=\"1\" class=\"dataframe\">\n",
       "  <thead>\n",
       "    <tr style=\"text-align: right;\">\n",
       "      <th></th>\n",
       "      <th>variables</th>\n",
       "      <th>VIF</th>\n",
       "    </tr>\n",
       "  </thead>\n",
       "  <tbody>\n",
       "    <tr>\n",
       "      <th>4</th>\n",
       "      <td>c_TotalBsmtSF</td>\n",
       "      <td>93.661133</td>\n",
       "    </tr>\n",
       "    <tr>\n",
       "      <th>0</th>\n",
       "      <td>c_LotFrontage</td>\n",
       "      <td>23.798841</td>\n",
       "    </tr>\n",
       "    <tr>\n",
       "      <th>1</th>\n",
       "      <td>c_LotArea</td>\n",
       "      <td>16.743894</td>\n",
       "    </tr>\n",
       "    <tr>\n",
       "      <th>6</th>\n",
       "      <td>c_GrLivArea</td>\n",
       "      <td>67.279042</td>\n",
       "    </tr>\n",
       "    <tr>\n",
       "      <th>9</th>\n",
       "      <td>c_GarageArea</td>\n",
       "      <td>10.142397</td>\n",
       "    </tr>\n",
       "    <tr>\n",
       "      <th>3</th>\n",
       "      <td>c_BsmtUnfSF</td>\n",
       "      <td>31.519864</td>\n",
       "    </tr>\n",
       "    <tr>\n",
       "      <th>2</th>\n",
       "      <td>c_BsmtFinSF1</td>\n",
       "      <td>20.593357</td>\n",
       "    </tr>\n",
       "    <tr>\n",
       "      <th>8</th>\n",
       "      <td>c_BedroomAbvGr</td>\n",
       "      <td>22.693887</td>\n",
       "    </tr>\n",
       "  </tbody>\n",
       "</table>\n",
       "</div>"
      ],
      "text/plain": [
       "        variables        VIF\n",
       "4   c_TotalBsmtSF  93.661133\n",
       "0   c_LotFrontage  23.798841\n",
       "1       c_LotArea  16.743894\n",
       "6     c_GrLivArea  67.279042\n",
       "9    c_GarageArea  10.142397\n",
       "3     c_BsmtUnfSF  31.519864\n",
       "2    c_BsmtFinSF1  20.593357\n",
       "8  c_BedroomAbvGr  22.693887"
      ]
     },
     "execution_count": 1065,
     "metadata": {},
     "output_type": "execute_result"
    }
   ],
   "source": [
    "vif[vif[\"VIF\"]>10].sort_values(by=[\"variables\",\"VIF\"],ascending=False).head(50)"
   ]
  },
  {
   "cell_type": "code",
   "execution_count": 1066,
   "metadata": {
    "ExecuteTime": {
     "end_time": "2021-08-21T17:21:40.254565Z",
     "start_time": "2021-08-21T17:21:40.244531Z"
    }
   },
   "outputs": [],
   "source": [
    "vif_feats=list(vif[vif[\"VIF\"]>10].sort_values(by=[\"variables\",\"VIF\"],ascending=False)[\"variables\"].values)"
   ]
  },
  {
   "cell_type": "code",
   "execution_count": 1067,
   "metadata": {
    "ExecuteTime": {
     "end_time": "2021-08-21T17:21:40.618134Z",
     "start_time": "2021-08-21T17:21:40.599095Z"
    }
   },
   "outputs": [
    {
     "data": {
      "text/plain": [
       "['c_TotalBsmtSF',\n",
       " 'c_LotFrontage',\n",
       " 'c_LotArea',\n",
       " 'c_GrLivArea',\n",
       " 'c_GarageArea',\n",
       " 'c_BsmtUnfSF',\n",
       " 'c_BsmtFinSF1',\n",
       " 'c_BedroomAbvGr']"
      ]
     },
     "execution_count": 1067,
     "metadata": {},
     "output_type": "execute_result"
    }
   ],
   "source": [
    "vif_feats"
   ]
  },
  {
   "cell_type": "code",
   "execution_count": 1068,
   "metadata": {
    "ExecuteTime": {
     "end_time": "2021-08-21T17:21:45.000111Z",
     "start_time": "2021-08-21T17:21:44.982103Z"
    }
   },
   "outputs": [],
   "source": [
    "X_train.drop(columns=[\"c_TotalBsmtSF\"],inplace=True)\n",
    "X_test.drop(columns=[\"c_TotalBsmtSF\"],inplace=True)"
   ]
  },
  {
   "cell_type": "code",
   "execution_count": 1069,
   "metadata": {
    "ExecuteTime": {
     "end_time": "2021-08-21T17:21:45.475105Z",
     "start_time": "2021-08-21T17:21:45.436103Z"
    },
    "scrolled": true
   },
   "outputs": [],
   "source": [
    "vif=calc_vif(X_train[[x for x in X_train.filter(like=\"c_\") if x not in [\"tgt_SalePrice\"]]])"
   ]
  },
  {
   "cell_type": "code",
   "execution_count": 1070,
   "metadata": {
    "ExecuteTime": {
     "end_time": "2021-08-21T17:21:45.975616Z",
     "start_time": "2021-08-21T17:21:45.948620Z"
    }
   },
   "outputs": [
    {
     "data": {
      "text/html": [
       "<div>\n",
       "<style scoped>\n",
       "    .dataframe tbody tr th:only-of-type {\n",
       "        vertical-align: middle;\n",
       "    }\n",
       "\n",
       "    .dataframe tbody tr th {\n",
       "        vertical-align: top;\n",
       "    }\n",
       "\n",
       "    .dataframe thead th {\n",
       "        text-align: right;\n",
       "    }\n",
       "</style>\n",
       "<table border=\"1\" class=\"dataframe\">\n",
       "  <thead>\n",
       "    <tr style=\"text-align: right;\">\n",
       "      <th></th>\n",
       "      <th>variables</th>\n",
       "      <th>VIF</th>\n",
       "    </tr>\n",
       "  </thead>\n",
       "  <tbody>\n",
       "    <tr>\n",
       "      <th>0</th>\n",
       "      <td>c_LotFrontage</td>\n",
       "      <td>23.657512</td>\n",
       "    </tr>\n",
       "    <tr>\n",
       "      <th>1</th>\n",
       "      <td>c_LotArea</td>\n",
       "      <td>16.686685</td>\n",
       "    </tr>\n",
       "    <tr>\n",
       "      <th>5</th>\n",
       "      <td>c_GrLivArea</td>\n",
       "      <td>62.385682</td>\n",
       "    </tr>\n",
       "    <tr>\n",
       "      <th>8</th>\n",
       "      <td>c_GarageArea</td>\n",
       "      <td>10.107876</td>\n",
       "    </tr>\n",
       "    <tr>\n",
       "      <th>7</th>\n",
       "      <td>c_BedroomAbvGr</td>\n",
       "      <td>22.283992</td>\n",
       "    </tr>\n",
       "  </tbody>\n",
       "</table>\n",
       "</div>"
      ],
      "text/plain": [
       "        variables        VIF\n",
       "0   c_LotFrontage  23.657512\n",
       "1       c_LotArea  16.686685\n",
       "5     c_GrLivArea  62.385682\n",
       "8    c_GarageArea  10.107876\n",
       "7  c_BedroomAbvGr  22.283992"
      ]
     },
     "execution_count": 1070,
     "metadata": {},
     "output_type": "execute_result"
    }
   ],
   "source": [
    "vif[vif[\"VIF\"]>10].sort_values(by=[\"variables\",\"VIF\"],ascending=False)"
   ]
  },
  {
   "cell_type": "code",
   "execution_count": 1071,
   "metadata": {
    "ExecuteTime": {
     "end_time": "2021-08-21T17:22:07.195357Z",
     "start_time": "2021-08-21T17:22:07.178322Z"
    }
   },
   "outputs": [],
   "source": [
    "vif_feats=[\"c_GrLivArea\"]"
   ]
  },
  {
   "cell_type": "code",
   "execution_count": 1072,
   "metadata": {
    "ExecuteTime": {
     "end_time": "2021-08-21T17:22:07.688359Z",
     "start_time": "2021-08-21T17:22:07.674323Z"
    }
   },
   "outputs": [],
   "source": [
    "X_train.drop(columns=vif_feats,inplace=True)\n",
    "X_test.drop(columns=vif_feats,inplace=True)"
   ]
  },
  {
   "cell_type": "code",
   "execution_count": 1073,
   "metadata": {
    "ExecuteTime": {
     "end_time": "2021-08-21T17:22:09.023284Z",
     "start_time": "2021-08-21T17:22:08.988278Z"
    },
    "scrolled": true
   },
   "outputs": [
    {
     "data": {
      "text/html": [
       "<div>\n",
       "<style scoped>\n",
       "    .dataframe tbody tr th:only-of-type {\n",
       "        vertical-align: middle;\n",
       "    }\n",
       "\n",
       "    .dataframe tbody tr th {\n",
       "        vertical-align: top;\n",
       "    }\n",
       "\n",
       "    .dataframe thead th {\n",
       "        text-align: right;\n",
       "    }\n",
       "</style>\n",
       "<table border=\"1\" class=\"dataframe\">\n",
       "  <thead>\n",
       "    <tr style=\"text-align: right;\">\n",
       "      <th></th>\n",
       "      <th>variables</th>\n",
       "      <th>VIF</th>\n",
       "    </tr>\n",
       "  </thead>\n",
       "  <tbody>\n",
       "    <tr>\n",
       "      <th>0</th>\n",
       "      <td>c_LotFrontage</td>\n",
       "      <td>23.002075</td>\n",
       "    </tr>\n",
       "    <tr>\n",
       "      <th>1</th>\n",
       "      <td>c_LotArea</td>\n",
       "      <td>16.591958</td>\n",
       "    </tr>\n",
       "    <tr>\n",
       "      <th>7</th>\n",
       "      <td>c_GarageArea</td>\n",
       "      <td>9.249706</td>\n",
       "    </tr>\n",
       "    <tr>\n",
       "      <th>6</th>\n",
       "      <td>c_BedroomAbvGr</td>\n",
       "      <td>18.220271</td>\n",
       "    </tr>\n",
       "  </tbody>\n",
       "</table>\n",
       "</div>"
      ],
      "text/plain": [
       "        variables        VIF\n",
       "0   c_LotFrontage  23.002075\n",
       "1       c_LotArea  16.591958\n",
       "7    c_GarageArea   9.249706\n",
       "6  c_BedroomAbvGr  18.220271"
      ]
     },
     "execution_count": 1073,
     "metadata": {},
     "output_type": "execute_result"
    }
   ],
   "source": [
    "vif=calc_vif(X_train[[x for x in X_train.filter(like=\"c_\") if x not in [ \"tgt_SalePrice\"]]])\n",
    "\n",
    "vif[vif[\"VIF\"]>7].sort_values(by=[\"variables\",\"VIF\"],ascending=False)"
   ]
  },
  {
   "cell_type": "code",
   "execution_count": 1074,
   "metadata": {
    "ExecuteTime": {
     "end_time": "2021-08-21T17:22:20.626274Z",
     "start_time": "2021-08-21T17:22:20.607277Z"
    }
   },
   "outputs": [],
   "source": [
    "vif_feats=list(vif[vif[\"VIF\"]>10].sort_values(by=[\"variables\",\"VIF\"],ascending=False)[\"variables\"].values)"
   ]
  },
  {
   "cell_type": "code",
   "execution_count": 1075,
   "metadata": {
    "ExecuteTime": {
     "end_time": "2021-08-21T17:22:21.039361Z",
     "start_time": "2021-08-21T17:22:21.034327Z"
    }
   },
   "outputs": [
    {
     "data": {
      "text/plain": [
       "['c_LotFrontage', 'c_LotArea', 'c_BedroomAbvGr']"
      ]
     },
     "execution_count": 1075,
     "metadata": {},
     "output_type": "execute_result"
    }
   ],
   "source": [
    "vif_feats"
   ]
  },
  {
   "cell_type": "code",
   "execution_count": 1076,
   "metadata": {
    "ExecuteTime": {
     "end_time": "2021-08-21T17:22:21.499365Z",
     "start_time": "2021-08-21T17:22:21.478329Z"
    }
   },
   "outputs": [],
   "source": [
    "X_train.drop(columns=[\"c_LotFrontage\"],inplace=True)\n",
    "X_test.drop(columns=[\"c_LotFrontage\"],inplace=True)"
   ]
  },
  {
   "cell_type": "code",
   "execution_count": 1077,
   "metadata": {
    "ExecuteTime": {
     "end_time": "2021-08-21T17:22:23.966553Z",
     "start_time": "2021-08-21T17:22:23.946516Z"
    }
   },
   "outputs": [
    {
     "data": {
      "text/plain": [
       "Index(['v_MSSubClass', 'v_MSZoning', 'c_LotArea', 'v_Street', 'v_LotShape',\n",
       "       'v_LandContour', 'v_LotConfig', 'v_LandSlope', 'v_Condition1',\n",
       "       'v_Condition2', 'v_BldgType', 'v_HouseStyle', 'v_OverallQual',\n",
       "       'v_OverallCond', 'v_RoofStyle', 'v_RoofMatl', 'v_MasVnrType',\n",
       "       'v_ExterQual', 'v_ExterCond', 'v_Foundation', 'v_BsmtQual',\n",
       "       'v_BsmtCond', 'v_BsmtExposure', 'v_BsmtFinType1', 'c_BsmtFinSF1',\n",
       "       'v_BsmtFinType2', 'c_BsmtUnfSF', 'v_Heating', 'v_HeatingQC',\n",
       "       'v_CentralAir', 'v_Electrical', 'c_2ndFlrSF', 'v_LowQualFinSF',\n",
       "       'v_BsmtHalfBath', 'v_FullBath', 'c_HalfBath', 'c_BedroomAbvGr',\n",
       "       'v_KitchenAbvGr', 'v_KitchenQual', 'v_Functional', 'v_Fireplaces',\n",
       "       'v_GarageType', 'v_GarageFinish', 'c_GarageArea', 'v_GarageQual',\n",
       "       'v_GarageCond', 'v_PavedDrive', 'c_WoodDeckSF', 'c_OpenPorchSF',\n",
       "       'c_EnclosedPorch', 'c_MiscVal', 'tgt_SalePrice'],\n",
       "      dtype='object')"
      ]
     },
     "execution_count": 1077,
     "metadata": {},
     "output_type": "execute_result"
    }
   ],
   "source": [
    "X_train.columns"
   ]
  },
  {
   "cell_type": "code",
   "execution_count": 1078,
   "metadata": {
    "ExecuteTime": {
     "end_time": "2021-08-21T17:22:24.695635Z",
     "start_time": "2021-08-21T17:22:24.658629Z"
    }
   },
   "outputs": [],
   "source": [
    "vif=calc_vif(X_train[[x for x in X_train.filter(like=\"c_\") if x not in [ \"tgt_SalePrice\"]]])\n",
    "\n",
    "vif_feats=list(vif[vif[\"VIF\"]>7].sort_values(by=[\"VIF\"],ascending=False)[\"variables\"][:10].values)"
   ]
  },
  {
   "cell_type": "code",
   "execution_count": 1079,
   "metadata": {
    "ExecuteTime": {
     "end_time": "2021-08-21T17:22:25.313770Z",
     "start_time": "2021-08-21T17:22:25.291770Z"
    },
    "scrolled": true
   },
   "outputs": [
    {
     "data": {
      "text/html": [
       "<div>\n",
       "<style scoped>\n",
       "    .dataframe tbody tr th:only-of-type {\n",
       "        vertical-align: middle;\n",
       "    }\n",
       "\n",
       "    .dataframe tbody tr th {\n",
       "        vertical-align: top;\n",
       "    }\n",
       "\n",
       "    .dataframe thead th {\n",
       "        text-align: right;\n",
       "    }\n",
       "</style>\n",
       "<table border=\"1\" class=\"dataframe\">\n",
       "  <thead>\n",
       "    <tr style=\"text-align: right;\">\n",
       "      <th></th>\n",
       "      <th>variables</th>\n",
       "      <th>VIF</th>\n",
       "    </tr>\n",
       "  </thead>\n",
       "  <tbody>\n",
       "    <tr>\n",
       "      <th>0</th>\n",
       "      <td>c_LotArea</td>\n",
       "      <td>10.268126</td>\n",
       "    </tr>\n",
       "    <tr>\n",
       "      <th>6</th>\n",
       "      <td>c_GarageArea</td>\n",
       "      <td>9.006685</td>\n",
       "    </tr>\n",
       "    <tr>\n",
       "      <th>5</th>\n",
       "      <td>c_BedroomAbvGr</td>\n",
       "      <td>15.667624</td>\n",
       "    </tr>\n",
       "  </tbody>\n",
       "</table>\n",
       "</div>"
      ],
      "text/plain": [
       "        variables        VIF\n",
       "0       c_LotArea  10.268126\n",
       "6    c_GarageArea   9.006685\n",
       "5  c_BedroomAbvGr  15.667624"
      ]
     },
     "execution_count": 1079,
     "metadata": {},
     "output_type": "execute_result"
    }
   ],
   "source": [
    "\n",
    "\n",
    "vif[vif[\"VIF\"]>7].sort_values(by=[\"variables\",\"VIF\"],ascending=False)"
   ]
  },
  {
   "cell_type": "code",
   "execution_count": 1080,
   "metadata": {
    "ExecuteTime": {
     "end_time": "2021-08-21T17:23:28.093721Z",
     "start_time": "2021-08-21T17:23:28.076696Z"
    }
   },
   "outputs": [],
   "source": [
    "X_train.drop(columns=[\"c_BedroomAbvGr\"],inplace=True)\n",
    "X_test.drop(columns=[\"c_BedroomAbvGr\"],inplace=True)"
   ]
  },
  {
   "cell_type": "code",
   "execution_count": 1081,
   "metadata": {
    "ExecuteTime": {
     "end_time": "2021-08-21T17:23:28.522461Z",
     "start_time": "2021-08-21T17:23:28.519462Z"
    }
   },
   "outputs": [],
   "source": [
    "#BsmtCond: Estado general del sótano\n",
    "#ExterCond: Estado actual del material en el exterior"
   ]
  },
  {
   "cell_type": "code",
   "execution_count": 1083,
   "metadata": {
    "ExecuteTime": {
     "end_time": "2021-08-21T17:24:17.883071Z",
     "start_time": "2021-08-21T17:24:17.845074Z"
    },
    "scrolled": true
   },
   "outputs": [
    {
     "data": {
      "text/html": [
       "<div>\n",
       "<style scoped>\n",
       "    .dataframe tbody tr th:only-of-type {\n",
       "        vertical-align: middle;\n",
       "    }\n",
       "\n",
       "    .dataframe tbody tr th {\n",
       "        vertical-align: top;\n",
       "    }\n",
       "\n",
       "    .dataframe thead th {\n",
       "        text-align: right;\n",
       "    }\n",
       "</style>\n",
       "<table border=\"1\" class=\"dataframe\">\n",
       "  <thead>\n",
       "    <tr style=\"text-align: right;\">\n",
       "      <th></th>\n",
       "      <th>variables</th>\n",
       "      <th>VIF</th>\n",
       "    </tr>\n",
       "  </thead>\n",
       "  <tbody>\n",
       "    <tr>\n",
       "      <th>5</th>\n",
       "      <td>c_GarageArea</td>\n",
       "      <td>8.816316</td>\n",
       "    </tr>\n",
       "    <tr>\n",
       "      <th>0</th>\n",
       "      <td>c_LotArea</td>\n",
       "      <td>7.625926</td>\n",
       "    </tr>\n",
       "  </tbody>\n",
       "</table>\n",
       "</div>"
      ],
      "text/plain": [
       "      variables       VIF\n",
       "5  c_GarageArea  8.816316\n",
       "0     c_LotArea  7.625926"
      ]
     },
     "execution_count": 1083,
     "metadata": {},
     "output_type": "execute_result"
    }
   ],
   "source": [
    "vif=calc_vif(X_train[[x for x in X_train.filter(like=\"c_\") if x not in [ \"tgt_SalePrice\"]]])\n",
    "vif[vif[\"VIF\"]>7].sort_values(by=[\"VIF\"],ascending=False)"
   ]
  },
  {
   "cell_type": "code",
   "execution_count": 1084,
   "metadata": {
    "ExecuteTime": {
     "end_time": "2021-08-21T17:24:19.817357Z",
     "start_time": "2021-08-21T17:24:19.799321Z"
    }
   },
   "outputs": [
    {
     "data": {
      "text/html": [
       "<div>\n",
       "<style scoped>\n",
       "    .dataframe tbody tr th:only-of-type {\n",
       "        vertical-align: middle;\n",
       "    }\n",
       "\n",
       "    .dataframe tbody tr th {\n",
       "        vertical-align: top;\n",
       "    }\n",
       "\n",
       "    .dataframe thead th {\n",
       "        text-align: right;\n",
       "    }\n",
       "</style>\n",
       "<table border=\"1\" class=\"dataframe\">\n",
       "  <thead>\n",
       "    <tr style=\"text-align: right;\">\n",
       "      <th></th>\n",
       "      <th>variables</th>\n",
       "      <th>VIF</th>\n",
       "    </tr>\n",
       "  </thead>\n",
       "  <tbody>\n",
       "    <tr>\n",
       "      <th>0</th>\n",
       "      <td>c_LotArea</td>\n",
       "      <td>7.625926</td>\n",
       "    </tr>\n",
       "    <tr>\n",
       "      <th>1</th>\n",
       "      <td>c_BsmtFinSF1</td>\n",
       "      <td>3.643785</td>\n",
       "    </tr>\n",
       "    <tr>\n",
       "      <th>2</th>\n",
       "      <td>c_BsmtUnfSF</td>\n",
       "      <td>4.941739</td>\n",
       "    </tr>\n",
       "    <tr>\n",
       "      <th>3</th>\n",
       "      <td>c_2ndFlrSF</td>\n",
       "      <td>3.083428</td>\n",
       "    </tr>\n",
       "    <tr>\n",
       "      <th>4</th>\n",
       "      <td>c_HalfBath</td>\n",
       "      <td>2.673205</td>\n",
       "    </tr>\n",
       "    <tr>\n",
       "      <th>5</th>\n",
       "      <td>c_GarageArea</td>\n",
       "      <td>8.816316</td>\n",
       "    </tr>\n",
       "    <tr>\n",
       "      <th>6</th>\n",
       "      <td>c_WoodDeckSF</td>\n",
       "      <td>1.635396</td>\n",
       "    </tr>\n",
       "    <tr>\n",
       "      <th>7</th>\n",
       "      <td>c_OpenPorchSF</td>\n",
       "      <td>1.818149</td>\n",
       "    </tr>\n",
       "    <tr>\n",
       "      <th>8</th>\n",
       "      <td>c_EnclosedPorch</td>\n",
       "      <td>1.213923</td>\n",
       "    </tr>\n",
       "    <tr>\n",
       "      <th>9</th>\n",
       "      <td>c_MiscVal</td>\n",
       "      <td>1.028192</td>\n",
       "    </tr>\n",
       "  </tbody>\n",
       "</table>\n",
       "</div>"
      ],
      "text/plain": [
       "         variables       VIF\n",
       "0        c_LotArea  7.625926\n",
       "1     c_BsmtFinSF1  3.643785\n",
       "2      c_BsmtUnfSF  4.941739\n",
       "3       c_2ndFlrSF  3.083428\n",
       "4       c_HalfBath  2.673205\n",
       "5     c_GarageArea  8.816316\n",
       "6     c_WoodDeckSF  1.635396\n",
       "7    c_OpenPorchSF  1.818149\n",
       "8  c_EnclosedPorch  1.213923\n",
       "9        c_MiscVal  1.028192"
      ]
     },
     "execution_count": 1084,
     "metadata": {},
     "output_type": "execute_result"
    }
   ],
   "source": [
    "vif"
   ]
  },
  {
   "cell_type": "markdown",
   "metadata": {},
   "source": [
    "#### MULTICOLINEALIDAD CATEGORICAS"
   ]
  },
  {
   "cell_type": "code",
   "execution_count": 1085,
   "metadata": {
    "ExecuteTime": {
     "end_time": "2021-08-21T17:29:23.622271Z",
     "start_time": "2021-08-21T17:29:23.559274Z"
    },
    "scrolled": true
   },
   "outputs": [
    {
     "data": {
      "text/html": [
       "<div>\n",
       "<style scoped>\n",
       "    .dataframe tbody tr th:only-of-type {\n",
       "        vertical-align: middle;\n",
       "    }\n",
       "\n",
       "    .dataframe tbody tr th {\n",
       "        vertical-align: top;\n",
       "    }\n",
       "\n",
       "    .dataframe thead th {\n",
       "        text-align: right;\n",
       "    }\n",
       "</style>\n",
       "<table border=\"1\" class=\"dataframe\">\n",
       "  <thead>\n",
       "    <tr style=\"text-align: right;\">\n",
       "      <th></th>\n",
       "      <th>v_MSSubClass</th>\n",
       "      <th>v_MSZoning</th>\n",
       "      <th>c_LotArea</th>\n",
       "      <th>v_Street</th>\n",
       "      <th>v_LotShape</th>\n",
       "      <th>v_LandContour</th>\n",
       "      <th>v_LotConfig</th>\n",
       "      <th>v_LandSlope</th>\n",
       "      <th>v_Condition1</th>\n",
       "      <th>v_Condition2</th>\n",
       "      <th>v_BldgType</th>\n",
       "      <th>v_HouseStyle</th>\n",
       "      <th>v_OverallQual</th>\n",
       "      <th>v_OverallCond</th>\n",
       "      <th>v_RoofStyle</th>\n",
       "      <th>v_RoofMatl</th>\n",
       "      <th>v_MasVnrType</th>\n",
       "      <th>v_ExterQual</th>\n",
       "      <th>v_ExterCond</th>\n",
       "      <th>v_Foundation</th>\n",
       "      <th>v_BsmtQual</th>\n",
       "      <th>v_BsmtCond</th>\n",
       "      <th>v_BsmtExposure</th>\n",
       "      <th>v_BsmtFinType1</th>\n",
       "      <th>c_BsmtFinSF1</th>\n",
       "      <th>v_BsmtFinType2</th>\n",
       "      <th>c_BsmtUnfSF</th>\n",
       "      <th>v_Heating</th>\n",
       "      <th>v_HeatingQC</th>\n",
       "      <th>v_CentralAir</th>\n",
       "      <th>v_Electrical</th>\n",
       "      <th>c_2ndFlrSF</th>\n",
       "      <th>v_LowQualFinSF</th>\n",
       "      <th>v_BsmtHalfBath</th>\n",
       "      <th>v_FullBath</th>\n",
       "      <th>c_HalfBath</th>\n",
       "      <th>v_KitchenAbvGr</th>\n",
       "      <th>v_KitchenQual</th>\n",
       "      <th>v_Functional</th>\n",
       "      <th>v_Fireplaces</th>\n",
       "      <th>v_GarageType</th>\n",
       "      <th>v_GarageFinish</th>\n",
       "      <th>c_GarageArea</th>\n",
       "      <th>v_GarageQual</th>\n",
       "      <th>v_GarageCond</th>\n",
       "      <th>v_PavedDrive</th>\n",
       "      <th>c_WoodDeckSF</th>\n",
       "      <th>c_OpenPorchSF</th>\n",
       "      <th>c_EnclosedPorch</th>\n",
       "      <th>c_MiscVal</th>\n",
       "      <th>tgt_SalePrice</th>\n",
       "    </tr>\n",
       "  </thead>\n",
       "  <tbody>\n",
       "    <tr>\n",
       "      <th>0</th>\n",
       "      <td>90</td>\n",
       "      <td>rm</td>\n",
       "      <td>8472.0</td>\n",
       "      <td>grvl</td>\n",
       "      <td>otro</td>\n",
       "      <td>otro</td>\n",
       "      <td>corner</td>\n",
       "      <td>otro</td>\n",
       "      <td>otro</td>\n",
       "      <td>norm</td>\n",
       "      <td>otro</td>\n",
       "      <td>1story</td>\n",
       "      <td>5</td>\n",
       "      <td>5</td>\n",
       "      <td>gable</td>\n",
       "      <td>compshg</td>\n",
       "      <td>none</td>\n",
       "      <td>1</td>\n",
       "      <td>2</td>\n",
       "      <td>cblock</td>\n",
       "      <td>3.0</td>\n",
       "      <td>2.0</td>\n",
       "      <td>otro</td>\n",
       "      <td>otro</td>\n",
       "      <td>104.0</td>\n",
       "      <td>otro</td>\n",
       "      <td>0.0</td>\n",
       "      <td>gasa</td>\n",
       "      <td>2</td>\n",
       "      <td>n</td>\n",
       "      <td>sbrkr</td>\n",
       "      <td>0.0</td>\n",
       "      <td>0</td>\n",
       "      <td>0</td>\n",
       "      <td>1</td>\n",
       "      <td>0.0</td>\n",
       "      <td>1</td>\n",
       "      <td>2</td>\n",
       "      <td>typ</td>\n",
       "      <td>0</td>\n",
       "      <td>otro</td>\n",
       "      <td>unf</td>\n",
       "      <td>516.0</td>\n",
       "      <td>2.0</td>\n",
       "      <td>2.0</td>\n",
       "      <td>y</td>\n",
       "      <td>106.0</td>\n",
       "      <td>0.0</td>\n",
       "      <td>0.0</td>\n",
       "      <td>0.0</td>\n",
       "      <td>110000</td>\n",
       "    </tr>\n",
       "    <tr>\n",
       "      <th>1</th>\n",
       "      <td>50</td>\n",
       "      <td>rm</td>\n",
       "      <td>6240.0</td>\n",
       "      <td>pave</td>\n",
       "      <td>reg</td>\n",
       "      <td>lvl</td>\n",
       "      <td>inside</td>\n",
       "      <td>gtl</td>\n",
       "      <td>norm</td>\n",
       "      <td>norm</td>\n",
       "      <td>1fam</td>\n",
       "      <td>1 5fin</td>\n",
       "      <td>6</td>\n",
       "      <td>6</td>\n",
       "      <td>gable</td>\n",
       "      <td>compshg</td>\n",
       "      <td>none</td>\n",
       "      <td>2</td>\n",
       "      <td>2</td>\n",
       "      <td>pconc</td>\n",
       "      <td>2.0</td>\n",
       "      <td>2.0</td>\n",
       "      <td>no</td>\n",
       "      <td>unf</td>\n",
       "      <td>0.0</td>\n",
       "      <td>unf</td>\n",
       "      <td>816.0</td>\n",
       "      <td>gasa</td>\n",
       "      <td>2</td>\n",
       "      <td>y</td>\n",
       "      <td>sbrkr</td>\n",
       "      <td>0.0</td>\n",
       "      <td>360</td>\n",
       "      <td>0</td>\n",
       "      <td>1</td>\n",
       "      <td>0.0</td>\n",
       "      <td>1</td>\n",
       "      <td>2</td>\n",
       "      <td>typ</td>\n",
       "      <td>1</td>\n",
       "      <td>detchd</td>\n",
       "      <td>unf</td>\n",
       "      <td>528.0</td>\n",
       "      <td>2.0</td>\n",
       "      <td>2.0</td>\n",
       "      <td>y</td>\n",
       "      <td>112.0</td>\n",
       "      <td>0.0</td>\n",
       "      <td>0.0</td>\n",
       "      <td>400.0</td>\n",
       "      <td>114500</td>\n",
       "    </tr>\n",
       "    <tr>\n",
       "      <th>2</th>\n",
       "      <td>160</td>\n",
       "      <td>otro</td>\n",
       "      <td>2544.0</td>\n",
       "      <td>pave</td>\n",
       "      <td>reg</td>\n",
       "      <td>lvl</td>\n",
       "      <td>inside</td>\n",
       "      <td>gtl</td>\n",
       "      <td>norm</td>\n",
       "      <td>norm</td>\n",
       "      <td>otro</td>\n",
       "      <td>2story</td>\n",
       "      <td>7</td>\n",
       "      <td>5</td>\n",
       "      <td>gable</td>\n",
       "      <td>compshg</td>\n",
       "      <td>none</td>\n",
       "      <td>3</td>\n",
       "      <td>2</td>\n",
       "      <td>pconc</td>\n",
       "      <td>3.0</td>\n",
       "      <td>2.0</td>\n",
       "      <td>no</td>\n",
       "      <td>unf</td>\n",
       "      <td>0.0</td>\n",
       "      <td>unf</td>\n",
       "      <td>600.0</td>\n",
       "      <td>gasa</td>\n",
       "      <td>3</td>\n",
       "      <td>y</td>\n",
       "      <td>sbrkr</td>\n",
       "      <td>623.0</td>\n",
       "      <td>80</td>\n",
       "      <td>0</td>\n",
       "      <td>2</td>\n",
       "      <td>1.0</td>\n",
       "      <td>1</td>\n",
       "      <td>3</td>\n",
       "      <td>typ</td>\n",
       "      <td>0</td>\n",
       "      <td>detchd</td>\n",
       "      <td>rfn</td>\n",
       "      <td>480.0</td>\n",
       "      <td>2.0</td>\n",
       "      <td>2.0</td>\n",
       "      <td>y</td>\n",
       "      <td>0.0</td>\n",
       "      <td>166.0</td>\n",
       "      <td>0.0</td>\n",
       "      <td>0.0</td>\n",
       "      <td>147400</td>\n",
       "    </tr>\n",
       "    <tr>\n",
       "      <th>3</th>\n",
       "      <td>30</td>\n",
       "      <td>rl</td>\n",
       "      <td>11600.0</td>\n",
       "      <td>pave</td>\n",
       "      <td>reg</td>\n",
       "      <td>lvl</td>\n",
       "      <td>inside</td>\n",
       "      <td>gtl</td>\n",
       "      <td>norm</td>\n",
       "      <td>norm</td>\n",
       "      <td>1fam</td>\n",
       "      <td>1story</td>\n",
       "      <td>4</td>\n",
       "      <td>5</td>\n",
       "      <td>gable</td>\n",
       "      <td>compshg</td>\n",
       "      <td>none</td>\n",
       "      <td>2</td>\n",
       "      <td>2</td>\n",
       "      <td>otro</td>\n",
       "      <td>1.0</td>\n",
       "      <td>2.0</td>\n",
       "      <td>no</td>\n",
       "      <td>unf</td>\n",
       "      <td>0.0</td>\n",
       "      <td>unf</td>\n",
       "      <td>700.0</td>\n",
       "      <td>gasa</td>\n",
       "      <td>3</td>\n",
       "      <td>y</td>\n",
       "      <td>sbrkr</td>\n",
       "      <td>0.0</td>\n",
       "      <td>0</td>\n",
       "      <td>0</td>\n",
       "      <td>1</td>\n",
       "      <td>0.0</td>\n",
       "      <td>1</td>\n",
       "      <td>1</td>\n",
       "      <td>typ</td>\n",
       "      <td>1</td>\n",
       "      <td>detchd</td>\n",
       "      <td>unf</td>\n",
       "      <td>252.0</td>\n",
       "      <td>2.0</td>\n",
       "      <td>1.0</td>\n",
       "      <td>y</td>\n",
       "      <td>0.0</td>\n",
       "      <td>0.0</td>\n",
       "      <td>67.0</td>\n",
       "      <td>0.0</td>\n",
       "      <td>137500</td>\n",
       "    </tr>\n",
       "    <tr>\n",
       "      <th>4</th>\n",
       "      <td>30</td>\n",
       "      <td>rm</td>\n",
       "      <td>9786.0</td>\n",
       "      <td>pave</td>\n",
       "      <td>reg</td>\n",
       "      <td>lvl</td>\n",
       "      <td>inside</td>\n",
       "      <td>gtl</td>\n",
       "      <td>norm</td>\n",
       "      <td>norm</td>\n",
       "      <td>1fam</td>\n",
       "      <td>1story</td>\n",
       "      <td>3</td>\n",
       "      <td>4</td>\n",
       "      <td>hip</td>\n",
       "      <td>compshg</td>\n",
       "      <td>none</td>\n",
       "      <td>2</td>\n",
       "      <td>2</td>\n",
       "      <td>otro</td>\n",
       "      <td>2.0</td>\n",
       "      <td>1.0</td>\n",
       "      <td>no</td>\n",
       "      <td>unf</td>\n",
       "      <td>0.0</td>\n",
       "      <td>unf</td>\n",
       "      <td>1007.0</td>\n",
       "      <td>gasa</td>\n",
       "      <td>1</td>\n",
       "      <td>n</td>\n",
       "      <td>sbrkr</td>\n",
       "      <td>0.0</td>\n",
       "      <td>0</td>\n",
       "      <td>0</td>\n",
       "      <td>1</td>\n",
       "      <td>0.0</td>\n",
       "      <td>1</td>\n",
       "      <td>2</td>\n",
       "      <td>typ</td>\n",
       "      <td>1</td>\n",
       "      <td>detchd</td>\n",
       "      <td>unf</td>\n",
       "      <td>210.0</td>\n",
       "      <td>2.0</td>\n",
       "      <td>1.0</td>\n",
       "      <td>p</td>\n",
       "      <td>0.0</td>\n",
       "      <td>100.0</td>\n",
       "      <td>48.0</td>\n",
       "      <td>0.0</td>\n",
       "      <td>91000</td>\n",
       "    </tr>\n",
       "    <tr>\n",
       "      <th>...</th>\n",
       "      <td>...</td>\n",
       "      <td>...</td>\n",
       "      <td>...</td>\n",
       "      <td>...</td>\n",
       "      <td>...</td>\n",
       "      <td>...</td>\n",
       "      <td>...</td>\n",
       "      <td>...</td>\n",
       "      <td>...</td>\n",
       "      <td>...</td>\n",
       "      <td>...</td>\n",
       "      <td>...</td>\n",
       "      <td>...</td>\n",
       "      <td>...</td>\n",
       "      <td>...</td>\n",
       "      <td>...</td>\n",
       "      <td>...</td>\n",
       "      <td>...</td>\n",
       "      <td>...</td>\n",
       "      <td>...</td>\n",
       "      <td>...</td>\n",
       "      <td>...</td>\n",
       "      <td>...</td>\n",
       "      <td>...</td>\n",
       "      <td>...</td>\n",
       "      <td>...</td>\n",
       "      <td>...</td>\n",
       "      <td>...</td>\n",
       "      <td>...</td>\n",
       "      <td>...</td>\n",
       "      <td>...</td>\n",
       "      <td>...</td>\n",
       "      <td>...</td>\n",
       "      <td>...</td>\n",
       "      <td>...</td>\n",
       "      <td>...</td>\n",
       "      <td>...</td>\n",
       "      <td>...</td>\n",
       "      <td>...</td>\n",
       "      <td>...</td>\n",
       "      <td>...</td>\n",
       "      <td>...</td>\n",
       "      <td>...</td>\n",
       "      <td>...</td>\n",
       "      <td>...</td>\n",
       "      <td>...</td>\n",
       "      <td>...</td>\n",
       "      <td>...</td>\n",
       "      <td>...</td>\n",
       "      <td>...</td>\n",
       "      <td>...</td>\n",
       "    </tr>\n",
       "    <tr>\n",
       "      <th>759</th>\n",
       "      <td>70</td>\n",
       "      <td>rl</td>\n",
       "      <td>10592.0</td>\n",
       "      <td>pave</td>\n",
       "      <td>reg</td>\n",
       "      <td>lvl</td>\n",
       "      <td>inside</td>\n",
       "      <td>gtl</td>\n",
       "      <td>norm</td>\n",
       "      <td>norm</td>\n",
       "      <td>1fam</td>\n",
       "      <td>2story</td>\n",
       "      <td>6</td>\n",
       "      <td>7</td>\n",
       "      <td>hip</td>\n",
       "      <td>compshg</td>\n",
       "      <td>none</td>\n",
       "      <td>2</td>\n",
       "      <td>3</td>\n",
       "      <td>pconc</td>\n",
       "      <td>2.0</td>\n",
       "      <td>1.0</td>\n",
       "      <td>no</td>\n",
       "      <td>unf</td>\n",
       "      <td>0.0</td>\n",
       "      <td>unf</td>\n",
       "      <td>602.0</td>\n",
       "      <td>gasa</td>\n",
       "      <td>2</td>\n",
       "      <td>y</td>\n",
       "      <td>sbrkr</td>\n",
       "      <td>602.0</td>\n",
       "      <td>0</td>\n",
       "      <td>0</td>\n",
       "      <td>1</td>\n",
       "      <td>1.0</td>\n",
       "      <td>1</td>\n",
       "      <td>3</td>\n",
       "      <td>typ</td>\n",
       "      <td>2</td>\n",
       "      <td>detchd</td>\n",
       "      <td>unf</td>\n",
       "      <td>180.0</td>\n",
       "      <td>2.0</td>\n",
       "      <td>2.0</td>\n",
       "      <td>y</td>\n",
       "      <td>96.0</td>\n",
       "      <td>0.0</td>\n",
       "      <td>112.0</td>\n",
       "      <td>0.0</td>\n",
       "      <td>165000</td>\n",
       "    </tr>\n",
       "    <tr>\n",
       "      <th>760</th>\n",
       "      <td>60</td>\n",
       "      <td>rl</td>\n",
       "      <td>8750.0</td>\n",
       "      <td>pave</td>\n",
       "      <td>reg</td>\n",
       "      <td>lvl</td>\n",
       "      <td>inside</td>\n",
       "      <td>gtl</td>\n",
       "      <td>norm</td>\n",
       "      <td>norm</td>\n",
       "      <td>1fam</td>\n",
       "      <td>2story</td>\n",
       "      <td>6</td>\n",
       "      <td>5</td>\n",
       "      <td>gable</td>\n",
       "      <td>compshg</td>\n",
       "      <td>brkface</td>\n",
       "      <td>2</td>\n",
       "      <td>2</td>\n",
       "      <td>pconc</td>\n",
       "      <td>3.0</td>\n",
       "      <td>2.0</td>\n",
       "      <td>no</td>\n",
       "      <td>glq</td>\n",
       "      <td>505.0</td>\n",
       "      <td>unf</td>\n",
       "      <td>299.0</td>\n",
       "      <td>gasa</td>\n",
       "      <td>3</td>\n",
       "      <td>y</td>\n",
       "      <td>sbrkr</td>\n",
       "      <td>878.0</td>\n",
       "      <td>0</td>\n",
       "      <td>0</td>\n",
       "      <td>2</td>\n",
       "      <td>1.0</td>\n",
       "      <td>1</td>\n",
       "      <td>3</td>\n",
       "      <td>typ</td>\n",
       "      <td>0</td>\n",
       "      <td>attchd</td>\n",
       "      <td>rfn</td>\n",
       "      <td>523.0</td>\n",
       "      <td>2.0</td>\n",
       "      <td>2.0</td>\n",
       "      <td>y</td>\n",
       "      <td>0.0</td>\n",
       "      <td>77.0</td>\n",
       "      <td>0.0</td>\n",
       "      <td>0.0</td>\n",
       "      <td>200500</td>\n",
       "    </tr>\n",
       "    <tr>\n",
       "      <th>761</th>\n",
       "      <td>85</td>\n",
       "      <td>rl</td>\n",
       "      <td>10205.0</td>\n",
       "      <td>pave</td>\n",
       "      <td>otro</td>\n",
       "      <td>lvl</td>\n",
       "      <td>inside</td>\n",
       "      <td>gtl</td>\n",
       "      <td>norm</td>\n",
       "      <td>norm</td>\n",
       "      <td>1fam</td>\n",
       "      <td>otro</td>\n",
       "      <td>5</td>\n",
       "      <td>5</td>\n",
       "      <td>gable</td>\n",
       "      <td>compshg</td>\n",
       "      <td>none</td>\n",
       "      <td>2</td>\n",
       "      <td>2</td>\n",
       "      <td>cblock</td>\n",
       "      <td>2.0</td>\n",
       "      <td>2.0</td>\n",
       "      <td>otro</td>\n",
       "      <td>otro</td>\n",
       "      <td>784.0</td>\n",
       "      <td>unf</td>\n",
       "      <td>141.0</td>\n",
       "      <td>gasa</td>\n",
       "      <td>2</td>\n",
       "      <td>y</td>\n",
       "      <td>sbrkr</td>\n",
       "      <td>0.0</td>\n",
       "      <td>0</td>\n",
       "      <td>0</td>\n",
       "      <td>1</td>\n",
       "      <td>0.0</td>\n",
       "      <td>1</td>\n",
       "      <td>2</td>\n",
       "      <td>typ</td>\n",
       "      <td>0</td>\n",
       "      <td>attchd</td>\n",
       "      <td>unf</td>\n",
       "      <td>300.0</td>\n",
       "      <td>2.0</td>\n",
       "      <td>2.0</td>\n",
       "      <td>y</td>\n",
       "      <td>150.0</td>\n",
       "      <td>72.0</td>\n",
       "      <td>0.0</td>\n",
       "      <td>0.0</td>\n",
       "      <td>134500</td>\n",
       "    </tr>\n",
       "    <tr>\n",
       "      <th>762</th>\n",
       "      <td>60</td>\n",
       "      <td>rl</td>\n",
       "      <td>8935.0</td>\n",
       "      <td>pave</td>\n",
       "      <td>otro</td>\n",
       "      <td>lvl</td>\n",
       "      <td>inside</td>\n",
       "      <td>gtl</td>\n",
       "      <td>norm</td>\n",
       "      <td>norm</td>\n",
       "      <td>1fam</td>\n",
       "      <td>2story</td>\n",
       "      <td>7</td>\n",
       "      <td>5</td>\n",
       "      <td>gable</td>\n",
       "      <td>compshg</td>\n",
       "      <td>brkface</td>\n",
       "      <td>3</td>\n",
       "      <td>2</td>\n",
       "      <td>pconc</td>\n",
       "      <td>3.0</td>\n",
       "      <td>2.0</td>\n",
       "      <td>no</td>\n",
       "      <td>unf</td>\n",
       "      <td>0.0</td>\n",
       "      <td>unf</td>\n",
       "      <td>831.0</td>\n",
       "      <td>gasa</td>\n",
       "      <td>3</td>\n",
       "      <td>y</td>\n",
       "      <td>sbrkr</td>\n",
       "      <td>829.0</td>\n",
       "      <td>0</td>\n",
       "      <td>0</td>\n",
       "      <td>2</td>\n",
       "      <td>1.0</td>\n",
       "      <td>1</td>\n",
       "      <td>3</td>\n",
       "      <td>typ</td>\n",
       "      <td>0</td>\n",
       "      <td>attchd</td>\n",
       "      <td>rfn</td>\n",
       "      <td>493.0</td>\n",
       "      <td>2.0</td>\n",
       "      <td>2.0</td>\n",
       "      <td>y</td>\n",
       "      <td>144.0</td>\n",
       "      <td>68.0</td>\n",
       "      <td>0.0</td>\n",
       "      <td>0.0</td>\n",
       "      <td>195000</td>\n",
       "    </tr>\n",
       "    <tr>\n",
       "      <th>763</th>\n",
       "      <td>20</td>\n",
       "      <td>rl</td>\n",
       "      <td>9320.0</td>\n",
       "      <td>pave</td>\n",
       "      <td>otro</td>\n",
       "      <td>lvl</td>\n",
       "      <td>inside</td>\n",
       "      <td>gtl</td>\n",
       "      <td>norm</td>\n",
       "      <td>norm</td>\n",
       "      <td>1fam</td>\n",
       "      <td>1story</td>\n",
       "      <td>4</td>\n",
       "      <td>5</td>\n",
       "      <td>gable</td>\n",
       "      <td>compshg</td>\n",
       "      <td>none</td>\n",
       "      <td>2</td>\n",
       "      <td>2</td>\n",
       "      <td>cblock</td>\n",
       "      <td>2.0</td>\n",
       "      <td>2.0</td>\n",
       "      <td>no</td>\n",
       "      <td>alq</td>\n",
       "      <td>569.0</td>\n",
       "      <td>unf</td>\n",
       "      <td>381.0</td>\n",
       "      <td>gasa</td>\n",
       "      <td>1</td>\n",
       "      <td>y</td>\n",
       "      <td>sbrkr</td>\n",
       "      <td>0.0</td>\n",
       "      <td>0</td>\n",
       "      <td>0</td>\n",
       "      <td>1</td>\n",
       "      <td>1.0</td>\n",
       "      <td>1</td>\n",
       "      <td>2</td>\n",
       "      <td>typ</td>\n",
       "      <td>0</td>\n",
       "      <td>attchd</td>\n",
       "      <td>unf</td>\n",
       "      <td>0.0</td>\n",
       "      <td>2.0</td>\n",
       "      <td>2.0</td>\n",
       "      <td>y</td>\n",
       "      <td>352.0</td>\n",
       "      <td>0.0</td>\n",
       "      <td>0.0</td>\n",
       "      <td>400.0</td>\n",
       "      <td>128950</td>\n",
       "    </tr>\n",
       "  </tbody>\n",
       "</table>\n",
       "<p>764 rows × 51 columns</p>\n",
       "</div>"
      ],
      "text/plain": [
       "     v_MSSubClass v_MSZoning  c_LotArea v_Street v_LotShape v_LandContour  \\\n",
       "0              90         rm     8472.0     grvl       otro          otro   \n",
       "1              50         rm     6240.0     pave        reg           lvl   \n",
       "2             160       otro     2544.0     pave        reg           lvl   \n",
       "3              30         rl    11600.0     pave        reg           lvl   \n",
       "4              30         rm     9786.0     pave        reg           lvl   \n",
       "..            ...        ...        ...      ...        ...           ...   \n",
       "759            70         rl    10592.0     pave        reg           lvl   \n",
       "760            60         rl     8750.0     pave        reg           lvl   \n",
       "761            85         rl    10205.0     pave       otro           lvl   \n",
       "762            60         rl     8935.0     pave       otro           lvl   \n",
       "763            20         rl     9320.0     pave       otro           lvl   \n",
       "\n",
       "    v_LotConfig v_LandSlope v_Condition1 v_Condition2 v_BldgType v_HouseStyle  \\\n",
       "0        corner        otro         otro         norm       otro       1story   \n",
       "1        inside         gtl         norm         norm       1fam       1 5fin   \n",
       "2        inside         gtl         norm         norm       otro       2story   \n",
       "3        inside         gtl         norm         norm       1fam       1story   \n",
       "4        inside         gtl         norm         norm       1fam       1story   \n",
       "..          ...         ...          ...          ...        ...          ...   \n",
       "759      inside         gtl         norm         norm       1fam       2story   \n",
       "760      inside         gtl         norm         norm       1fam       2story   \n",
       "761      inside         gtl         norm         norm       1fam         otro   \n",
       "762      inside         gtl         norm         norm       1fam       2story   \n",
       "763      inside         gtl         norm         norm       1fam       1story   \n",
       "\n",
       "    v_OverallQual v_OverallCond v_RoofStyle v_RoofMatl v_MasVnrType  \\\n",
       "0               5             5       gable    compshg         none   \n",
       "1               6             6       gable    compshg         none   \n",
       "2               7             5       gable    compshg         none   \n",
       "3               4             5       gable    compshg         none   \n",
       "4               3             4         hip    compshg         none   \n",
       "..            ...           ...         ...        ...          ...   \n",
       "759             6             7         hip    compshg         none   \n",
       "760             6             5       gable    compshg      brkface   \n",
       "761             5             5       gable    compshg         none   \n",
       "762             7             5       gable    compshg      brkface   \n",
       "763             4             5       gable    compshg         none   \n",
       "\n",
       "     v_ExterQual  v_ExterCond v_Foundation v_BsmtQual v_BsmtCond  \\\n",
       "0              1            2       cblock        3.0        2.0   \n",
       "1              2            2        pconc        2.0        2.0   \n",
       "2              3            2        pconc        3.0        2.0   \n",
       "3              2            2         otro        1.0        2.0   \n",
       "4              2            2         otro        2.0        1.0   \n",
       "..           ...          ...          ...        ...        ...   \n",
       "759            2            3        pconc        2.0        1.0   \n",
       "760            2            2        pconc        3.0        2.0   \n",
       "761            2            2       cblock        2.0        2.0   \n",
       "762            3            2        pconc        3.0        2.0   \n",
       "763            2            2       cblock        2.0        2.0   \n",
       "\n",
       "    v_BsmtExposure v_BsmtFinType1  c_BsmtFinSF1 v_BsmtFinType2  c_BsmtUnfSF  \\\n",
       "0             otro           otro         104.0           otro          0.0   \n",
       "1               no            unf           0.0            unf        816.0   \n",
       "2               no            unf           0.0            unf        600.0   \n",
       "3               no            unf           0.0            unf        700.0   \n",
       "4               no            unf           0.0            unf       1007.0   \n",
       "..             ...            ...           ...            ...          ...   \n",
       "759             no            unf           0.0            unf        602.0   \n",
       "760             no            glq         505.0            unf        299.0   \n",
       "761           otro           otro         784.0            unf        141.0   \n",
       "762             no            unf           0.0            unf        831.0   \n",
       "763             no            alq         569.0            unf        381.0   \n",
       "\n",
       "    v_Heating  v_HeatingQC v_CentralAir v_Electrical  c_2ndFlrSF  \\\n",
       "0        gasa            2            n        sbrkr         0.0   \n",
       "1        gasa            2            y        sbrkr         0.0   \n",
       "2        gasa            3            y        sbrkr       623.0   \n",
       "3        gasa            3            y        sbrkr         0.0   \n",
       "4        gasa            1            n        sbrkr         0.0   \n",
       "..        ...          ...          ...          ...         ...   \n",
       "759      gasa            2            y        sbrkr       602.0   \n",
       "760      gasa            3            y        sbrkr       878.0   \n",
       "761      gasa            2            y        sbrkr         0.0   \n",
       "762      gasa            3            y        sbrkr       829.0   \n",
       "763      gasa            1            y        sbrkr         0.0   \n",
       "\n",
       "    v_LowQualFinSF v_BsmtHalfBath v_FullBath  c_HalfBath v_KitchenAbvGr  \\\n",
       "0                0              0          1         0.0              1   \n",
       "1              360              0          1         0.0              1   \n",
       "2               80              0          2         1.0              1   \n",
       "3                0              0          1         0.0              1   \n",
       "4                0              0          1         0.0              1   \n",
       "..             ...            ...        ...         ...            ...   \n",
       "759              0              0          1         1.0              1   \n",
       "760              0              0          2         1.0              1   \n",
       "761              0              0          1         0.0              1   \n",
       "762              0              0          2         1.0              1   \n",
       "763              0              0          1         1.0              1   \n",
       "\n",
       "     v_KitchenQual v_Functional v_Fireplaces v_GarageType v_GarageFinish  \\\n",
       "0                2          typ            0         otro            unf   \n",
       "1                2          typ            1       detchd            unf   \n",
       "2                3          typ            0       detchd            rfn   \n",
       "3                1          typ            1       detchd            unf   \n",
       "4                2          typ            1       detchd            unf   \n",
       "..             ...          ...          ...          ...            ...   \n",
       "759              3          typ            2       detchd            unf   \n",
       "760              3          typ            0       attchd            rfn   \n",
       "761              2          typ            0       attchd            unf   \n",
       "762              3          typ            0       attchd            rfn   \n",
       "763              2          typ            0       attchd            unf   \n",
       "\n",
       "     c_GarageArea v_GarageQual v_GarageCond v_PavedDrive  c_WoodDeckSF  \\\n",
       "0           516.0          2.0          2.0            y         106.0   \n",
       "1           528.0          2.0          2.0            y         112.0   \n",
       "2           480.0          2.0          2.0            y           0.0   \n",
       "3           252.0          2.0          1.0            y           0.0   \n",
       "4           210.0          2.0          1.0            p           0.0   \n",
       "..            ...          ...          ...          ...           ...   \n",
       "759         180.0          2.0          2.0            y          96.0   \n",
       "760         523.0          2.0          2.0            y           0.0   \n",
       "761         300.0          2.0          2.0            y         150.0   \n",
       "762         493.0          2.0          2.0            y         144.0   \n",
       "763           0.0          2.0          2.0            y         352.0   \n",
       "\n",
       "     c_OpenPorchSF  c_EnclosedPorch  c_MiscVal  tgt_SalePrice  \n",
       "0              0.0              0.0        0.0         110000  \n",
       "1              0.0              0.0      400.0         114500  \n",
       "2            166.0              0.0        0.0         147400  \n",
       "3              0.0             67.0        0.0         137500  \n",
       "4            100.0             48.0        0.0          91000  \n",
       "..             ...              ...        ...            ...  \n",
       "759            0.0            112.0        0.0         165000  \n",
       "760           77.0              0.0        0.0         200500  \n",
       "761           72.0              0.0        0.0         134500  \n",
       "762           68.0              0.0        0.0         195000  \n",
       "763            0.0              0.0      400.0         128950  \n",
       "\n",
       "[764 rows x 51 columns]"
      ]
     },
     "execution_count": 1085,
     "metadata": {},
     "output_type": "execute_result"
    }
   ],
   "source": [
    "X_train"
   ]
  },
  {
   "cell_type": "code",
   "execution_count": 1086,
   "metadata": {
    "ExecuteTime": {
     "end_time": "2021-08-21T17:32:21.217532Z",
     "start_time": "2021-08-21T17:32:21.193533Z"
    }
   },
   "outputs": [],
   "source": [
    "## Multicolinealidad Categoricas##\n",
    "def multicolinealidad_cate(df,y,threshold=5,only_final_vif=False):\n",
    "    '''\n",
    "    Función para calcular el VIF Genralizado, (GVIF, Fox and Monette 1992)\n",
    "    Las variables no deben de deben de estar transformadas con OneHotEncoder ya que la función lo realiza internamnete.\n",
    "    Args:\n",
    "        df\n",
    "        y\n",
    "        threshold\n",
    "        only_final_vif\n",
    "    \n",
    "    Returns:\n",
    "        pandas data frame: a data frame, indexed by factor of the GVIF, GVIF^(1/2Df), VIF^(1/2Df)^2 \n",
    "    '''\n",
    "\n",
    "    df_x = df.drop(y,axis=1)\n",
    "    #Guardamos los nombres de las columnas añadiendo el prefijo\n",
    "\n",
    "    onehot_list = list(df_x.select_dtypes(include=['category', 'object', 'string']).columns)\n",
    "    #Generamos las variables dummy \n",
    "    \n",
    "    df_1hot = pd.get_dummies(df_x, drop_first=True, dummy_na=False, prefix_sep='_')\n",
    "\n",
    "\n",
    "    #Dataframe vacio para guardar los resultados\n",
    "    gvif_df = pd.DataFrame(columns = ['factor','GVIF','Df','GVIF^(1/2Df)', 'VIF'])\n",
    "\n",
    "    # Iteramos sobre las columas\n",
    "    for (columnName, columnData) in df_x.iteritems():\n",
    "        #Si se generaron las de una columna, es decir la variable tiene más de dos posibilidades utilizamos todas las variables creadas\n",
    "        \n",
    "        if columnName in onehot_list:\n",
    "            X1 = df_1hot.loc[:, df_1hot.columns.str.startswith(columnName)]\n",
    "            X2 = df_1hot.loc[:, ~df_1hot.columns.str.startswith(columnName)]\n",
    "        else:\n",
    "            X1 = df_1hot[[columnName]].values\n",
    "            X2 = df_1hot.loc[:, df_1hot.columns != columnName].values\n",
    "        #display(X1)\n",
    "        # Calculamose gvif\n",
    "        #A la matriz de correlación de las variables codificadas en caliente del atributo en consideración.\n",
    "        #B la matriz de correlación de todos los demás atributos del conjunto de datos (uno codificado en dummy y numérico) excluyendo los de A.\n",
    "        #C la matriz de correlación de las variables consideradas tanto en A como en B.\n",
    "        #GVIF= (det(A)*det(B))/det(C)\n",
    "        #display(np.corrcoef(X1, rowvar=False))\n",
    "        gvif = np.linalg.det(np.array(np.corrcoef(X1, rowvar=False), ndmin=2)) * np.linalg.det(np.corrcoef(X2, rowvar=False)) / np.linalg.det(np.corrcoef(np.append(X1, X2, axis=1), rowvar=False))\n",
    "        #(GVIF) elevado a (1 / (2 * grados de libertad))\n",
    "        #Los grados de libertad es 1-n (n=Número de opciones que tiene la variable categorica)\n",
    "        gvif_12df = np.power(gvif, 1 / (2 * X1.shape[1]))\n",
    "        gvif_12df_sq = gvif_12df ** 2\n",
    "        DF =  X1.shape[1]\n",
    "    \n",
    "\n",
    "        # \n",
    "        new_row = {'factor': columnName, 'GVIF': gvif,'Df':DF, 'GVIF^(1/2Df)': gvif_12df, 'VIF': gvif_12df_sq}\n",
    "        gvif_df = gvif_df.append(new_row, ignore_index=True)\n",
    "\n",
    "    gvif_df = gvif_df.set_index('factor')\n",
    "    if only_final_vif:\n",
    "        gvif_df_final = gvif_df.drop(['GVIF','Df','GVIF^(1/2Df)'],axis=1)\n",
    "    else:\n",
    "        gvif_df_final = gvif_df \n",
    "    gvif_filter = gvif_df.loc[gvif_df['VIF'] >= threshold]['VIF'].to_dict()\n",
    "    if gvif_filter:\n",
    "        for i in gvif_filter.keys():\n",
    "            df_x_m = df_x.drop([i],axis=1)\n",
    "    else:\n",
    "        df_x_m = df_x\n",
    "    df_m=pd.concat([df_x_m,df[y]],axis=1)\n",
    "    return gvif_df_final\n"
   ]
  },
  {
   "cell_type": "code",
   "execution_count": 1087,
   "metadata": {
    "ExecuteTime": {
     "end_time": "2021-08-21T17:32:21.792191Z",
     "start_time": "2021-08-21T17:32:21.775190Z"
    }
   },
   "outputs": [],
   "source": [
    "v_feats=list(X_train.filter(like=\"v_\").columns)"
   ]
  },
  {
   "cell_type": "code",
   "execution_count": 1088,
   "metadata": {
    "ExecuteTime": {
     "end_time": "2021-08-21T17:32:23.735017Z",
     "start_time": "2021-08-21T17:32:22.835143Z"
    }
   },
   "outputs": [],
   "source": [
    "results=multicolinealidad_cate(df=X_train[v_feats+[\"tgt_SalePrice\"]],y=\"tgt_SalePrice\")"
   ]
  },
  {
   "cell_type": "code",
   "execution_count": 1093,
   "metadata": {
    "ExecuteTime": {
     "end_time": "2021-08-21T17:35:09.263520Z",
     "start_time": "2021-08-21T17:35:09.242484Z"
    }
   },
   "outputs": [
    {
     "data": {
      "text/plain": [
       "1fam    645\n",
       "otro    119\n",
       "Name: v_BldgType, dtype: int64"
      ]
     },
     "execution_count": 1093,
     "metadata": {},
     "output_type": "execute_result"
    }
   ],
   "source": [
    "X_train[\"v_BldgType\"].value_counts()"
   ]
  },
  {
   "cell_type": "code",
   "execution_count": 1096,
   "metadata": {
    "ExecuteTime": {
     "end_time": "2021-08-21T17:36:29.009011Z",
     "start_time": "2021-08-21T17:36:28.997004Z"
    }
   },
   "outputs": [
    {
     "data": {
      "text/plain": [
       "5     234\n",
       "6     198\n",
       "7     171\n",
       "8      68\n",
       "4      68\n",
       "3      12\n",
       "9      10\n",
       "10      2\n",
       "2       1\n",
       "Name: v_OverallQual, dtype: int64"
      ]
     },
     "execution_count": 1096,
     "metadata": {},
     "output_type": "execute_result"
    }
   ],
   "source": [
    "X_train[\"v_OverallQual\"].value_counts()"
   ]
  },
  {
   "cell_type": "code",
   "execution_count": 1097,
   "metadata": {
    "ExecuteTime": {
     "end_time": "2021-08-21T17:36:37.873347Z",
     "start_time": "2021-08-21T17:36:37.852384Z"
    }
   },
   "outputs": [
    {
     "data": {
      "text/plain": [
       "5    419\n",
       "6    140\n",
       "7    105\n",
       "8     50\n",
       "4     31\n",
       "3      8\n",
       "9      7\n",
       "2      4\n",
       "Name: v_OverallCond, dtype: int64"
      ]
     },
     "execution_count": 1097,
     "metadata": {},
     "output_type": "execute_result"
    }
   ],
   "source": [
    "X_train[\"v_OverallCond\"].value_counts()"
   ]
  },
  {
   "cell_type": "code",
   "execution_count": 1095,
   "metadata": {
    "ExecuteTime": {
     "end_time": "2021-08-21T17:36:01.856858Z",
     "start_time": "2021-08-21T17:36:01.838874Z"
    }
   },
   "outputs": [
    {
     "data": {
      "text/html": [
       "<div>\n",
       "<style scoped>\n",
       "    .dataframe tbody tr th:only-of-type {\n",
       "        vertical-align: middle;\n",
       "    }\n",
       "\n",
       "    .dataframe tbody tr th {\n",
       "        vertical-align: top;\n",
       "    }\n",
       "\n",
       "    .dataframe thead th {\n",
       "        text-align: right;\n",
       "    }\n",
       "</style>\n",
       "<table border=\"1\" class=\"dataframe\">\n",
       "  <thead>\n",
       "    <tr style=\"text-align: right;\">\n",
       "      <th></th>\n",
       "      <th>v_OverallQual</th>\n",
       "      <th>v_OverallCond</th>\n",
       "    </tr>\n",
       "  </thead>\n",
       "  <tbody>\n",
       "    <tr>\n",
       "      <th>0</th>\n",
       "      <td>5</td>\n",
       "      <td>5</td>\n",
       "    </tr>\n",
       "    <tr>\n",
       "      <th>1</th>\n",
       "      <td>6</td>\n",
       "      <td>6</td>\n",
       "    </tr>\n",
       "    <tr>\n",
       "      <th>2</th>\n",
       "      <td>7</td>\n",
       "      <td>5</td>\n",
       "    </tr>\n",
       "    <tr>\n",
       "      <th>3</th>\n",
       "      <td>4</td>\n",
       "      <td>5</td>\n",
       "    </tr>\n",
       "    <tr>\n",
       "      <th>4</th>\n",
       "      <td>3</td>\n",
       "      <td>4</td>\n",
       "    </tr>\n",
       "    <tr>\n",
       "      <th>5</th>\n",
       "      <td>5</td>\n",
       "      <td>7</td>\n",
       "    </tr>\n",
       "    <tr>\n",
       "      <th>6</th>\n",
       "      <td>8</td>\n",
       "      <td>6</td>\n",
       "    </tr>\n",
       "    <tr>\n",
       "      <th>7</th>\n",
       "      <td>8</td>\n",
       "      <td>5</td>\n",
       "    </tr>\n",
       "    <tr>\n",
       "      <th>8</th>\n",
       "      <td>6</td>\n",
       "      <td>6</td>\n",
       "    </tr>\n",
       "    <tr>\n",
       "      <th>9</th>\n",
       "      <td>5</td>\n",
       "      <td>8</td>\n",
       "    </tr>\n",
       "  </tbody>\n",
       "</table>\n",
       "</div>"
      ],
      "text/plain": [
       "  v_OverallQual v_OverallCond\n",
       "0             5             5\n",
       "1             6             6\n",
       "2             7             5\n",
       "3             4             5\n",
       "4             3             4\n",
       "5             5             7\n",
       "6             8             6\n",
       "7             8             5\n",
       "8             6             6\n",
       "9             5             8"
      ]
     },
     "execution_count": 1095,
     "metadata": {},
     "output_type": "execute_result"
    }
   ],
   "source": [
    "X_train[[\"v_OverallQual\",\"v_OverallCond\"]].head(10)"
   ]
  },
  {
   "cell_type": "code",
   "execution_count": 1089,
   "metadata": {
    "ExecuteTime": {
     "end_time": "2021-08-21T17:32:23.767007Z",
     "start_time": "2021-08-21T17:32:23.737005Z"
    },
    "scrolled": true
   },
   "outputs": [
    {
     "data": {
      "text/html": [
       "<div>\n",
       "<style scoped>\n",
       "    .dataframe tbody tr th:only-of-type {\n",
       "        vertical-align: middle;\n",
       "    }\n",
       "\n",
       "    .dataframe tbody tr th {\n",
       "        vertical-align: top;\n",
       "    }\n",
       "\n",
       "    .dataframe thead th {\n",
       "        text-align: right;\n",
       "    }\n",
       "</style>\n",
       "<table border=\"1\" class=\"dataframe\">\n",
       "  <thead>\n",
       "    <tr style=\"text-align: right;\">\n",
       "      <th></th>\n",
       "      <th>GVIF</th>\n",
       "      <th>Df</th>\n",
       "      <th>GVIF^(1/2Df)</th>\n",
       "      <th>VIF</th>\n",
       "    </tr>\n",
       "    <tr>\n",
       "      <th>factor</th>\n",
       "      <th></th>\n",
       "      <th></th>\n",
       "      <th></th>\n",
       "      <th></th>\n",
       "    </tr>\n",
       "  </thead>\n",
       "  <tbody>\n",
       "    <tr>\n",
       "      <th>v_MSSubClass</th>\n",
       "      <td>15.271982</td>\n",
       "      <td>1</td>\n",
       "      <td>3.907938</td>\n",
       "      <td>15.271982</td>\n",
       "    </tr>\n",
       "    <tr>\n",
       "      <th>v_MSZoning</th>\n",
       "      <td>2.261067</td>\n",
       "      <td>2</td>\n",
       "      <td>1.226248</td>\n",
       "      <td>1.503684</td>\n",
       "    </tr>\n",
       "    <tr>\n",
       "      <th>v_Street</th>\n",
       "      <td>1.322214</td>\n",
       "      <td>1</td>\n",
       "      <td>1.149876</td>\n",
       "      <td>1.322214</td>\n",
       "    </tr>\n",
       "    <tr>\n",
       "      <th>v_LotShape</th>\n",
       "      <td>1.364377</td>\n",
       "      <td>1</td>\n",
       "      <td>1.168065</td>\n",
       "      <td>1.364377</td>\n",
       "    </tr>\n",
       "    <tr>\n",
       "      <th>v_LandContour</th>\n",
       "      <td>1.526821</td>\n",
       "      <td>1</td>\n",
       "      <td>1.235646</td>\n",
       "      <td>1.526821</td>\n",
       "    </tr>\n",
       "    <tr>\n",
       "      <th>v_LotConfig</th>\n",
       "      <td>1.332973</td>\n",
       "      <td>2</td>\n",
       "      <td>1.074497</td>\n",
       "      <td>1.154544</td>\n",
       "    </tr>\n",
       "    <tr>\n",
       "      <th>v_LandSlope</th>\n",
       "      <td>1.558815</td>\n",
       "      <td>1</td>\n",
       "      <td>1.248525</td>\n",
       "      <td>1.558815</td>\n",
       "    </tr>\n",
       "    <tr>\n",
       "      <th>v_Condition1</th>\n",
       "      <td>1.280476</td>\n",
       "      <td>1</td>\n",
       "      <td>1.131581</td>\n",
       "      <td>1.280476</td>\n",
       "    </tr>\n",
       "    <tr>\n",
       "      <th>v_Condition2</th>\n",
       "      <td>1.519634</td>\n",
       "      <td>1</td>\n",
       "      <td>1.232734</td>\n",
       "      <td>1.519634</td>\n",
       "    </tr>\n",
       "    <tr>\n",
       "      <th>v_BldgType</th>\n",
       "      <td>12.601065</td>\n",
       "      <td>1</td>\n",
       "      <td>3.549798</td>\n",
       "      <td>12.601065</td>\n",
       "    </tr>\n",
       "    <tr>\n",
       "      <th>v_HouseStyle</th>\n",
       "      <td>10.126120</td>\n",
       "      <td>3</td>\n",
       "      <td>1.470868</td>\n",
       "      <td>2.163454</td>\n",
       "    </tr>\n",
       "    <tr>\n",
       "      <th>v_OverallQual</th>\n",
       "      <td>14.165177</td>\n",
       "      <td>8</td>\n",
       "      <td>1.180188</td>\n",
       "      <td>1.392845</td>\n",
       "    </tr>\n",
       "    <tr>\n",
       "      <th>v_OverallCond</th>\n",
       "      <td>10.746540</td>\n",
       "      <td>7</td>\n",
       "      <td>1.184846</td>\n",
       "      <td>1.403861</td>\n",
       "    </tr>\n",
       "    <tr>\n",
       "      <th>v_RoofStyle</th>\n",
       "      <td>1.690887</td>\n",
       "      <td>2</td>\n",
       "      <td>1.140325</td>\n",
       "      <td>1.300341</td>\n",
       "    </tr>\n",
       "    <tr>\n",
       "      <th>v_RoofMatl</th>\n",
       "      <td>1.312303</td>\n",
       "      <td>1</td>\n",
       "      <td>1.145558</td>\n",
       "      <td>1.312303</td>\n",
       "    </tr>\n",
       "    <tr>\n",
       "      <th>v_MasVnrType</th>\n",
       "      <td>1.929975</td>\n",
       "      <td>2</td>\n",
       "      <td>1.178658</td>\n",
       "      <td>1.389236</td>\n",
       "    </tr>\n",
       "    <tr>\n",
       "      <th>v_ExterQual</th>\n",
       "      <td>3.798954</td>\n",
       "      <td>1</td>\n",
       "      <td>1.949091</td>\n",
       "      <td>3.798954</td>\n",
       "    </tr>\n",
       "    <tr>\n",
       "      <th>v_ExterCond</th>\n",
       "      <td>1.498174</td>\n",
       "      <td>1</td>\n",
       "      <td>1.223999</td>\n",
       "      <td>1.498174</td>\n",
       "    </tr>\n",
       "    <tr>\n",
       "      <th>v_Foundation</th>\n",
       "      <td>6.303720</td>\n",
       "      <td>2</td>\n",
       "      <td>1.584526</td>\n",
       "      <td>2.510721</td>\n",
       "    </tr>\n",
       "    <tr>\n",
       "      <th>v_BsmtQual</th>\n",
       "      <td>4.358377</td>\n",
       "      <td>2</td>\n",
       "      <td>1.444878</td>\n",
       "      <td>2.087673</td>\n",
       "    </tr>\n",
       "    <tr>\n",
       "      <th>v_BsmtCond</th>\n",
       "      <td>1.681973</td>\n",
       "      <td>2</td>\n",
       "      <td>1.138819</td>\n",
       "      <td>1.296909</td>\n",
       "    </tr>\n",
       "    <tr>\n",
       "      <th>v_BsmtExposure</th>\n",
       "      <td>1.433714</td>\n",
       "      <td>1</td>\n",
       "      <td>1.197378</td>\n",
       "      <td>1.433714</td>\n",
       "    </tr>\n",
       "    <tr>\n",
       "      <th>v_BsmtFinType1</th>\n",
       "      <td>3.467212</td>\n",
       "      <td>3</td>\n",
       "      <td>1.230260</td>\n",
       "      <td>1.513539</td>\n",
       "    </tr>\n",
       "    <tr>\n",
       "      <th>v_BsmtFinType2</th>\n",
       "      <td>1.282266</td>\n",
       "      <td>1</td>\n",
       "      <td>1.132372</td>\n",
       "      <td>1.282266</td>\n",
       "    </tr>\n",
       "    <tr>\n",
       "      <th>v_Heating</th>\n",
       "      <td>2.507148</td>\n",
       "      <td>2</td>\n",
       "      <td>1.258331</td>\n",
       "      <td>1.583398</td>\n",
       "    </tr>\n",
       "    <tr>\n",
       "      <th>v_HeatingQC</th>\n",
       "      <td>1.822553</td>\n",
       "      <td>1</td>\n",
       "      <td>1.350020</td>\n",
       "      <td>1.822553</td>\n",
       "    </tr>\n",
       "    <tr>\n",
       "      <th>v_CentralAir</th>\n",
       "      <td>2.055094</td>\n",
       "      <td>1</td>\n",
       "      <td>1.433560</td>\n",
       "      <td>2.055094</td>\n",
       "    </tr>\n",
       "    <tr>\n",
       "      <th>v_Electrical</th>\n",
       "      <td>1.799409</td>\n",
       "      <td>2</td>\n",
       "      <td>1.158197</td>\n",
       "      <td>1.341420</td>\n",
       "    </tr>\n",
       "    <tr>\n",
       "      <th>v_LowQualFinSF</th>\n",
       "      <td>4.677473</td>\n",
       "      <td>8</td>\n",
       "      <td>1.101224</td>\n",
       "      <td>1.212695</td>\n",
       "    </tr>\n",
       "    <tr>\n",
       "      <th>v_BsmtHalfBath</th>\n",
       "      <td>1.151831</td>\n",
       "      <td>1</td>\n",
       "      <td>1.073234</td>\n",
       "      <td>1.151831</td>\n",
       "    </tr>\n",
       "    <tr>\n",
       "      <th>v_FullBath</th>\n",
       "      <td>3.122811</td>\n",
       "      <td>2</td>\n",
       "      <td>1.329341</td>\n",
       "      <td>1.767148</td>\n",
       "    </tr>\n",
       "    <tr>\n",
       "      <th>v_KitchenAbvGr</th>\n",
       "      <td>1.972675</td>\n",
       "      <td>1</td>\n",
       "      <td>1.404520</td>\n",
       "      <td>1.972675</td>\n",
       "    </tr>\n",
       "    <tr>\n",
       "      <th>v_KitchenQual</th>\n",
       "      <td>2.480039</td>\n",
       "      <td>1</td>\n",
       "      <td>1.574814</td>\n",
       "      <td>2.480039</td>\n",
       "    </tr>\n",
       "    <tr>\n",
       "      <th>v_Functional</th>\n",
       "      <td>1.325694</td>\n",
       "      <td>1</td>\n",
       "      <td>1.151388</td>\n",
       "      <td>1.325694</td>\n",
       "    </tr>\n",
       "    <tr>\n",
       "      <th>v_Fireplaces</th>\n",
       "      <td>1.823868</td>\n",
       "      <td>2</td>\n",
       "      <td>1.162113</td>\n",
       "      <td>1.350507</td>\n",
       "    </tr>\n",
       "    <tr>\n",
       "      <th>v_GarageType</th>\n",
       "      <td>3.161101</td>\n",
       "      <td>3</td>\n",
       "      <td>1.211452</td>\n",
       "      <td>1.467617</td>\n",
       "    </tr>\n",
       "    <tr>\n",
       "      <th>v_GarageFinish</th>\n",
       "      <td>3.171758</td>\n",
       "      <td>2</td>\n",
       "      <td>1.334520</td>\n",
       "      <td>1.780943</td>\n",
       "    </tr>\n",
       "    <tr>\n",
       "      <th>v_GarageQual</th>\n",
       "      <td>3.328616</td>\n",
       "      <td>2</td>\n",
       "      <td>1.350722</td>\n",
       "      <td>1.824450</td>\n",
       "    </tr>\n",
       "    <tr>\n",
       "      <th>v_GarageCond</th>\n",
       "      <td>3.491125</td>\n",
       "      <td>2</td>\n",
       "      <td>1.366914</td>\n",
       "      <td>1.868455</td>\n",
       "    </tr>\n",
       "    <tr>\n",
       "      <th>v_PavedDrive</th>\n",
       "      <td>2.009367</td>\n",
       "      <td>2</td>\n",
       "      <td>1.190597</td>\n",
       "      <td>1.417521</td>\n",
       "    </tr>\n",
       "  </tbody>\n",
       "</table>\n",
       "</div>"
      ],
      "text/plain": [
       "                     GVIF Df  GVIF^(1/2Df)        VIF\n",
       "factor                                               \n",
       "v_MSSubClass    15.271982  1      3.907938  15.271982\n",
       "v_MSZoning       2.261067  2      1.226248   1.503684\n",
       "v_Street         1.322214  1      1.149876   1.322214\n",
       "v_LotShape       1.364377  1      1.168065   1.364377\n",
       "v_LandContour    1.526821  1      1.235646   1.526821\n",
       "v_LotConfig      1.332973  2      1.074497   1.154544\n",
       "v_LandSlope      1.558815  1      1.248525   1.558815\n",
       "v_Condition1     1.280476  1      1.131581   1.280476\n",
       "v_Condition2     1.519634  1      1.232734   1.519634\n",
       "v_BldgType      12.601065  1      3.549798  12.601065\n",
       "v_HouseStyle    10.126120  3      1.470868   2.163454\n",
       "v_OverallQual   14.165177  8      1.180188   1.392845\n",
       "v_OverallCond   10.746540  7      1.184846   1.403861\n",
       "v_RoofStyle      1.690887  2      1.140325   1.300341\n",
       "v_RoofMatl       1.312303  1      1.145558   1.312303\n",
       "v_MasVnrType     1.929975  2      1.178658   1.389236\n",
       "v_ExterQual      3.798954  1      1.949091   3.798954\n",
       "v_ExterCond      1.498174  1      1.223999   1.498174\n",
       "v_Foundation     6.303720  2      1.584526   2.510721\n",
       "v_BsmtQual       4.358377  2      1.444878   2.087673\n",
       "v_BsmtCond       1.681973  2      1.138819   1.296909\n",
       "v_BsmtExposure   1.433714  1      1.197378   1.433714\n",
       "v_BsmtFinType1   3.467212  3      1.230260   1.513539\n",
       "v_BsmtFinType2   1.282266  1      1.132372   1.282266\n",
       "v_Heating        2.507148  2      1.258331   1.583398\n",
       "v_HeatingQC      1.822553  1      1.350020   1.822553\n",
       "v_CentralAir     2.055094  1      1.433560   2.055094\n",
       "v_Electrical     1.799409  2      1.158197   1.341420\n",
       "v_LowQualFinSF   4.677473  8      1.101224   1.212695\n",
       "v_BsmtHalfBath   1.151831  1      1.073234   1.151831\n",
       "v_FullBath       3.122811  2      1.329341   1.767148\n",
       "v_KitchenAbvGr   1.972675  1      1.404520   1.972675\n",
       "v_KitchenQual    2.480039  1      1.574814   2.480039\n",
       "v_Functional     1.325694  1      1.151388   1.325694\n",
       "v_Fireplaces     1.823868  2      1.162113   1.350507\n",
       "v_GarageType     3.161101  3      1.211452   1.467617\n",
       "v_GarageFinish   3.171758  2      1.334520   1.780943\n",
       "v_GarageQual     3.328616  2      1.350722   1.824450\n",
       "v_GarageCond     3.491125  2      1.366914   1.868455\n",
       "v_PavedDrive     2.009367  2      1.190597   1.417521"
      ]
     },
     "execution_count": 1089,
     "metadata": {},
     "output_type": "execute_result"
    }
   ],
   "source": [
    "results"
   ]
  },
  {
   "cell_type": "code",
   "execution_count": 1098,
   "metadata": {
    "ExecuteTime": {
     "end_time": "2021-08-21T17:41:52.305748Z",
     "start_time": "2021-08-21T17:41:52.295747Z"
    }
   },
   "outputs": [],
   "source": [
    "X_train=X_train.drop(columns=[\"v_MSSubClass\",\"v_OverallQual\"])\n",
    "X_test=X_test.drop(columns=[\"v_MSSubClass\",\"v_OverallQual\"])"
   ]
  },
  {
   "cell_type": "code",
   "execution_count": 1099,
   "metadata": {
    "ExecuteTime": {
     "end_time": "2021-08-21T17:41:52.844002Z",
     "start_time": "2021-08-21T17:41:52.822000Z"
    }
   },
   "outputs": [],
   "source": [
    "v_feats=list(X_train.filter(like=\"v_\").columns)"
   ]
  },
  {
   "cell_type": "code",
   "execution_count": 1100,
   "metadata": {
    "ExecuteTime": {
     "end_time": "2021-08-21T17:41:53.902174Z",
     "start_time": "2021-08-21T17:41:53.389178Z"
    }
   },
   "outputs": [],
   "source": [
    "results=multicolinealidad_cate(df=X_train[v_feats+[\"tgt_SalePrice\"]],y=\"tgt_SalePrice\")"
   ]
  },
  {
   "cell_type": "code",
   "execution_count": 1101,
   "metadata": {
    "ExecuteTime": {
     "end_time": "2021-08-21T17:41:53.918175Z",
     "start_time": "2021-08-21T17:41:53.904174Z"
    }
   },
   "outputs": [
    {
     "data": {
      "text/html": [
       "<div>\n",
       "<style scoped>\n",
       "    .dataframe tbody tr th:only-of-type {\n",
       "        vertical-align: middle;\n",
       "    }\n",
       "\n",
       "    .dataframe tbody tr th {\n",
       "        vertical-align: top;\n",
       "    }\n",
       "\n",
       "    .dataframe thead th {\n",
       "        text-align: right;\n",
       "    }\n",
       "</style>\n",
       "<table border=\"1\" class=\"dataframe\">\n",
       "  <thead>\n",
       "    <tr style=\"text-align: right;\">\n",
       "      <th></th>\n",
       "      <th>GVIF</th>\n",
       "      <th>Df</th>\n",
       "      <th>GVIF^(1/2Df)</th>\n",
       "      <th>VIF</th>\n",
       "    </tr>\n",
       "    <tr>\n",
       "      <th>factor</th>\n",
       "      <th></th>\n",
       "      <th></th>\n",
       "      <th></th>\n",
       "      <th></th>\n",
       "    </tr>\n",
       "  </thead>\n",
       "  <tbody>\n",
       "    <tr>\n",
       "      <th>v_MSZoning</th>\n",
       "      <td>2.190571</td>\n",
       "      <td>2</td>\n",
       "      <td>1.216576</td>\n",
       "      <td>1.480058</td>\n",
       "    </tr>\n",
       "    <tr>\n",
       "      <th>v_Street</th>\n",
       "      <td>1.271660</td>\n",
       "      <td>1</td>\n",
       "      <td>1.127679</td>\n",
       "      <td>1.271660</td>\n",
       "    </tr>\n",
       "    <tr>\n",
       "      <th>v_LotShape</th>\n",
       "      <td>1.351332</td>\n",
       "      <td>1</td>\n",
       "      <td>1.162468</td>\n",
       "      <td>1.351332</td>\n",
       "    </tr>\n",
       "    <tr>\n",
       "      <th>v_LandContour</th>\n",
       "      <td>1.463163</td>\n",
       "      <td>1</td>\n",
       "      <td>1.209613</td>\n",
       "      <td>1.463163</td>\n",
       "    </tr>\n",
       "    <tr>\n",
       "      <th>v_LotConfig</th>\n",
       "      <td>1.284080</td>\n",
       "      <td>2</td>\n",
       "      <td>1.064506</td>\n",
       "      <td>1.133172</td>\n",
       "    </tr>\n",
       "    <tr>\n",
       "      <th>v_LandSlope</th>\n",
       "      <td>1.525883</td>\n",
       "      <td>1</td>\n",
       "      <td>1.235266</td>\n",
       "      <td>1.525883</td>\n",
       "    </tr>\n",
       "    <tr>\n",
       "      <th>v_Condition1</th>\n",
       "      <td>1.251678</td>\n",
       "      <td>1</td>\n",
       "      <td>1.118784</td>\n",
       "      <td>1.251678</td>\n",
       "    </tr>\n",
       "    <tr>\n",
       "      <th>v_Condition2</th>\n",
       "      <td>1.471850</td>\n",
       "      <td>1</td>\n",
       "      <td>1.213198</td>\n",
       "      <td>1.471850</td>\n",
       "    </tr>\n",
       "    <tr>\n",
       "      <th>v_BldgType</th>\n",
       "      <td>1.673942</td>\n",
       "      <td>1</td>\n",
       "      <td>1.293809</td>\n",
       "      <td>1.673942</td>\n",
       "    </tr>\n",
       "    <tr>\n",
       "      <th>v_HouseStyle</th>\n",
       "      <td>2.869004</td>\n",
       "      <td>3</td>\n",
       "      <td>1.192034</td>\n",
       "      <td>1.420944</td>\n",
       "    </tr>\n",
       "    <tr>\n",
       "      <th>v_OverallCond</th>\n",
       "      <td>8.084528</td>\n",
       "      <td>7</td>\n",
       "      <td>1.161001</td>\n",
       "      <td>1.347923</td>\n",
       "    </tr>\n",
       "    <tr>\n",
       "      <th>v_RoofStyle</th>\n",
       "      <td>1.583570</td>\n",
       "      <td>2</td>\n",
       "      <td>1.121784</td>\n",
       "      <td>1.258400</td>\n",
       "    </tr>\n",
       "    <tr>\n",
       "      <th>v_RoofMatl</th>\n",
       "      <td>1.292282</td>\n",
       "      <td>1</td>\n",
       "      <td>1.136786</td>\n",
       "      <td>1.292282</td>\n",
       "    </tr>\n",
       "    <tr>\n",
       "      <th>v_MasVnrType</th>\n",
       "      <td>1.712879</td>\n",
       "      <td>2</td>\n",
       "      <td>1.144015</td>\n",
       "      <td>1.308770</td>\n",
       "    </tr>\n",
       "    <tr>\n",
       "      <th>v_ExterQual</th>\n",
       "      <td>3.268925</td>\n",
       "      <td>1</td>\n",
       "      <td>1.808017</td>\n",
       "      <td>3.268925</td>\n",
       "    </tr>\n",
       "    <tr>\n",
       "      <th>v_ExterCond</th>\n",
       "      <td>1.456586</td>\n",
       "      <td>1</td>\n",
       "      <td>1.206891</td>\n",
       "      <td>1.456586</td>\n",
       "    </tr>\n",
       "    <tr>\n",
       "      <th>v_Foundation</th>\n",
       "      <td>6.064673</td>\n",
       "      <td>2</td>\n",
       "      <td>1.569285</td>\n",
       "      <td>2.462656</td>\n",
       "    </tr>\n",
       "    <tr>\n",
       "      <th>v_BsmtQual</th>\n",
       "      <td>4.241796</td>\n",
       "      <td>2</td>\n",
       "      <td>1.435117</td>\n",
       "      <td>2.059562</td>\n",
       "    </tr>\n",
       "    <tr>\n",
       "      <th>v_BsmtCond</th>\n",
       "      <td>1.624330</td>\n",
       "      <td>2</td>\n",
       "      <td>1.128934</td>\n",
       "      <td>1.274492</td>\n",
       "    </tr>\n",
       "    <tr>\n",
       "      <th>v_BsmtExposure</th>\n",
       "      <td>1.393031</td>\n",
       "      <td>1</td>\n",
       "      <td>1.180267</td>\n",
       "      <td>1.393031</td>\n",
       "    </tr>\n",
       "    <tr>\n",
       "      <th>v_BsmtFinType1</th>\n",
       "      <td>3.263432</td>\n",
       "      <td>3</td>\n",
       "      <td>1.217902</td>\n",
       "      <td>1.483286</td>\n",
       "    </tr>\n",
       "    <tr>\n",
       "      <th>v_BsmtFinType2</th>\n",
       "      <td>1.273849</td>\n",
       "      <td>1</td>\n",
       "      <td>1.128649</td>\n",
       "      <td>1.273849</td>\n",
       "    </tr>\n",
       "    <tr>\n",
       "      <th>v_Heating</th>\n",
       "      <td>2.376789</td>\n",
       "      <td>2</td>\n",
       "      <td>1.241646</td>\n",
       "      <td>1.541684</td>\n",
       "    </tr>\n",
       "    <tr>\n",
       "      <th>v_HeatingQC</th>\n",
       "      <td>1.810146</td>\n",
       "      <td>1</td>\n",
       "      <td>1.345417</td>\n",
       "      <td>1.810146</td>\n",
       "    </tr>\n",
       "    <tr>\n",
       "      <th>v_CentralAir</th>\n",
       "      <td>2.042381</td>\n",
       "      <td>1</td>\n",
       "      <td>1.429119</td>\n",
       "      <td>2.042381</td>\n",
       "    </tr>\n",
       "    <tr>\n",
       "      <th>v_Electrical</th>\n",
       "      <td>1.708035</td>\n",
       "      <td>2</td>\n",
       "      <td>1.143205</td>\n",
       "      <td>1.306918</td>\n",
       "    </tr>\n",
       "    <tr>\n",
       "      <th>v_LowQualFinSF</th>\n",
       "      <td>4.056704</td>\n",
       "      <td>8</td>\n",
       "      <td>1.091468</td>\n",
       "      <td>1.191301</td>\n",
       "    </tr>\n",
       "    <tr>\n",
       "      <th>v_BsmtHalfBath</th>\n",
       "      <td>1.141361</td>\n",
       "      <td>1</td>\n",
       "      <td>1.068345</td>\n",
       "      <td>1.141361</td>\n",
       "    </tr>\n",
       "    <tr>\n",
       "      <th>v_FullBath</th>\n",
       "      <td>2.965297</td>\n",
       "      <td>2</td>\n",
       "      <td>1.312251</td>\n",
       "      <td>1.722004</td>\n",
       "    </tr>\n",
       "    <tr>\n",
       "      <th>v_KitchenAbvGr</th>\n",
       "      <td>1.863267</td>\n",
       "      <td>1</td>\n",
       "      <td>1.365015</td>\n",
       "      <td>1.863267</td>\n",
       "    </tr>\n",
       "    <tr>\n",
       "      <th>v_KitchenQual</th>\n",
       "      <td>2.396399</td>\n",
       "      <td>1</td>\n",
       "      <td>1.548031</td>\n",
       "      <td>2.396399</td>\n",
       "    </tr>\n",
       "    <tr>\n",
       "      <th>v_Functional</th>\n",
       "      <td>1.271320</td>\n",
       "      <td>1</td>\n",
       "      <td>1.127528</td>\n",
       "      <td>1.271320</td>\n",
       "    </tr>\n",
       "    <tr>\n",
       "      <th>v_Fireplaces</th>\n",
       "      <td>1.609409</td>\n",
       "      <td>2</td>\n",
       "      <td>1.126333</td>\n",
       "      <td>1.268625</td>\n",
       "    </tr>\n",
       "    <tr>\n",
       "      <th>v_GarageType</th>\n",
       "      <td>3.010707</td>\n",
       "      <td>3</td>\n",
       "      <td>1.201650</td>\n",
       "      <td>1.443963</td>\n",
       "    </tr>\n",
       "    <tr>\n",
       "      <th>v_GarageFinish</th>\n",
       "      <td>2.984093</td>\n",
       "      <td>2</td>\n",
       "      <td>1.314326</td>\n",
       "      <td>1.727453</td>\n",
       "    </tr>\n",
       "    <tr>\n",
       "      <th>v_GarageQual</th>\n",
       "      <td>3.264068</td>\n",
       "      <td>2</td>\n",
       "      <td>1.344125</td>\n",
       "      <td>1.806673</td>\n",
       "    </tr>\n",
       "    <tr>\n",
       "      <th>v_GarageCond</th>\n",
       "      <td>3.354756</td>\n",
       "      <td>2</td>\n",
       "      <td>1.353366</td>\n",
       "      <td>1.831599</td>\n",
       "    </tr>\n",
       "    <tr>\n",
       "      <th>v_PavedDrive</th>\n",
       "      <td>1.945664</td>\n",
       "      <td>2</td>\n",
       "      <td>1.181046</td>\n",
       "      <td>1.394871</td>\n",
       "    </tr>\n",
       "  </tbody>\n",
       "</table>\n",
       "</div>"
      ],
      "text/plain": [
       "                    GVIF Df  GVIF^(1/2Df)       VIF\n",
       "factor                                             \n",
       "v_MSZoning      2.190571  2      1.216576  1.480058\n",
       "v_Street        1.271660  1      1.127679  1.271660\n",
       "v_LotShape      1.351332  1      1.162468  1.351332\n",
       "v_LandContour   1.463163  1      1.209613  1.463163\n",
       "v_LotConfig     1.284080  2      1.064506  1.133172\n",
       "v_LandSlope     1.525883  1      1.235266  1.525883\n",
       "v_Condition1    1.251678  1      1.118784  1.251678\n",
       "v_Condition2    1.471850  1      1.213198  1.471850\n",
       "v_BldgType      1.673942  1      1.293809  1.673942\n",
       "v_HouseStyle    2.869004  3      1.192034  1.420944\n",
       "v_OverallCond   8.084528  7      1.161001  1.347923\n",
       "v_RoofStyle     1.583570  2      1.121784  1.258400\n",
       "v_RoofMatl      1.292282  1      1.136786  1.292282\n",
       "v_MasVnrType    1.712879  2      1.144015  1.308770\n",
       "v_ExterQual     3.268925  1      1.808017  3.268925\n",
       "v_ExterCond     1.456586  1      1.206891  1.456586\n",
       "v_Foundation    6.064673  2      1.569285  2.462656\n",
       "v_BsmtQual      4.241796  2      1.435117  2.059562\n",
       "v_BsmtCond      1.624330  2      1.128934  1.274492\n",
       "v_BsmtExposure  1.393031  1      1.180267  1.393031\n",
       "v_BsmtFinType1  3.263432  3      1.217902  1.483286\n",
       "v_BsmtFinType2  1.273849  1      1.128649  1.273849\n",
       "v_Heating       2.376789  2      1.241646  1.541684\n",
       "v_HeatingQC     1.810146  1      1.345417  1.810146\n",
       "v_CentralAir    2.042381  1      1.429119  2.042381\n",
       "v_Electrical    1.708035  2      1.143205  1.306918\n",
       "v_LowQualFinSF  4.056704  8      1.091468  1.191301\n",
       "v_BsmtHalfBath  1.141361  1      1.068345  1.141361\n",
       "v_FullBath      2.965297  2      1.312251  1.722004\n",
       "v_KitchenAbvGr  1.863267  1      1.365015  1.863267\n",
       "v_KitchenQual   2.396399  1      1.548031  2.396399\n",
       "v_Functional    1.271320  1      1.127528  1.271320\n",
       "v_Fireplaces    1.609409  2      1.126333  1.268625\n",
       "v_GarageType    3.010707  3      1.201650  1.443963\n",
       "v_GarageFinish  2.984093  2      1.314326  1.727453\n",
       "v_GarageQual    3.264068  2      1.344125  1.806673\n",
       "v_GarageCond    3.354756  2      1.353366  1.831599\n",
       "v_PavedDrive    1.945664  2      1.181046  1.394871"
      ]
     },
     "execution_count": 1101,
     "metadata": {},
     "output_type": "execute_result"
    }
   ],
   "source": [
    "results"
   ]
  },
  {
   "cell_type": "code",
   "execution_count": null,
   "metadata": {},
   "outputs": [],
   "source": []
  },
  {
   "cell_type": "code",
   "execution_count": 1102,
   "metadata": {
    "ExecuteTime": {
     "end_time": "2021-08-21T17:42:03.155851Z",
     "start_time": "2021-08-21T17:42:03.077821Z"
    }
   },
   "outputs": [
    {
     "data": {
      "text/html": [
       "<div>\n",
       "<style scoped>\n",
       "    .dataframe tbody tr th:only-of-type {\n",
       "        vertical-align: middle;\n",
       "    }\n",
       "\n",
       "    .dataframe tbody tr th {\n",
       "        vertical-align: top;\n",
       "    }\n",
       "\n",
       "    .dataframe thead th {\n",
       "        text-align: right;\n",
       "    }\n",
       "</style>\n",
       "<table border=\"1\" class=\"dataframe\">\n",
       "  <thead>\n",
       "    <tr style=\"text-align: right;\">\n",
       "      <th></th>\n",
       "      <th>v_MSZoning</th>\n",
       "      <th>c_LotArea</th>\n",
       "      <th>v_Street</th>\n",
       "      <th>v_LotShape</th>\n",
       "      <th>v_LandContour</th>\n",
       "      <th>v_LotConfig</th>\n",
       "      <th>v_LandSlope</th>\n",
       "      <th>v_Condition1</th>\n",
       "      <th>v_Condition2</th>\n",
       "      <th>v_BldgType</th>\n",
       "      <th>v_HouseStyle</th>\n",
       "      <th>v_OverallCond</th>\n",
       "      <th>v_RoofStyle</th>\n",
       "      <th>v_RoofMatl</th>\n",
       "      <th>v_MasVnrType</th>\n",
       "      <th>v_ExterQual</th>\n",
       "      <th>v_ExterCond</th>\n",
       "      <th>v_Foundation</th>\n",
       "      <th>v_BsmtQual</th>\n",
       "      <th>v_BsmtCond</th>\n",
       "      <th>v_BsmtExposure</th>\n",
       "      <th>v_BsmtFinType1</th>\n",
       "      <th>c_BsmtFinSF1</th>\n",
       "      <th>v_BsmtFinType2</th>\n",
       "      <th>c_BsmtUnfSF</th>\n",
       "      <th>v_Heating</th>\n",
       "      <th>v_HeatingQC</th>\n",
       "      <th>v_CentralAir</th>\n",
       "      <th>v_Electrical</th>\n",
       "      <th>c_2ndFlrSF</th>\n",
       "      <th>v_LowQualFinSF</th>\n",
       "      <th>v_BsmtHalfBath</th>\n",
       "      <th>v_FullBath</th>\n",
       "      <th>c_HalfBath</th>\n",
       "      <th>v_KitchenAbvGr</th>\n",
       "      <th>v_KitchenQual</th>\n",
       "      <th>v_Functional</th>\n",
       "      <th>v_Fireplaces</th>\n",
       "      <th>v_GarageType</th>\n",
       "      <th>v_GarageFinish</th>\n",
       "      <th>c_GarageArea</th>\n",
       "      <th>v_GarageQual</th>\n",
       "      <th>v_GarageCond</th>\n",
       "      <th>v_PavedDrive</th>\n",
       "      <th>c_WoodDeckSF</th>\n",
       "      <th>c_OpenPorchSF</th>\n",
       "      <th>c_EnclosedPorch</th>\n",
       "      <th>c_MiscVal</th>\n",
       "      <th>tgt_SalePrice</th>\n",
       "    </tr>\n",
       "  </thead>\n",
       "  <tbody>\n",
       "    <tr>\n",
       "      <th>0</th>\n",
       "      <td>rm</td>\n",
       "      <td>8472.0</td>\n",
       "      <td>grvl</td>\n",
       "      <td>otro</td>\n",
       "      <td>otro</td>\n",
       "      <td>corner</td>\n",
       "      <td>otro</td>\n",
       "      <td>otro</td>\n",
       "      <td>norm</td>\n",
       "      <td>otro</td>\n",
       "      <td>1story</td>\n",
       "      <td>5</td>\n",
       "      <td>gable</td>\n",
       "      <td>compshg</td>\n",
       "      <td>none</td>\n",
       "      <td>1</td>\n",
       "      <td>2</td>\n",
       "      <td>cblock</td>\n",
       "      <td>3.0</td>\n",
       "      <td>2.0</td>\n",
       "      <td>otro</td>\n",
       "      <td>otro</td>\n",
       "      <td>104.0</td>\n",
       "      <td>otro</td>\n",
       "      <td>0.0</td>\n",
       "      <td>gasa</td>\n",
       "      <td>2</td>\n",
       "      <td>n</td>\n",
       "      <td>sbrkr</td>\n",
       "      <td>0.0</td>\n",
       "      <td>0</td>\n",
       "      <td>0</td>\n",
       "      <td>1</td>\n",
       "      <td>0.0</td>\n",
       "      <td>1</td>\n",
       "      <td>2</td>\n",
       "      <td>typ</td>\n",
       "      <td>0</td>\n",
       "      <td>otro</td>\n",
       "      <td>unf</td>\n",
       "      <td>516.0</td>\n",
       "      <td>2.0</td>\n",
       "      <td>2.0</td>\n",
       "      <td>y</td>\n",
       "      <td>106.0</td>\n",
       "      <td>0.0</td>\n",
       "      <td>0.0</td>\n",
       "      <td>0.0</td>\n",
       "      <td>110000</td>\n",
       "    </tr>\n",
       "    <tr>\n",
       "      <th>1</th>\n",
       "      <td>rm</td>\n",
       "      <td>6240.0</td>\n",
       "      <td>pave</td>\n",
       "      <td>reg</td>\n",
       "      <td>lvl</td>\n",
       "      <td>inside</td>\n",
       "      <td>gtl</td>\n",
       "      <td>norm</td>\n",
       "      <td>norm</td>\n",
       "      <td>1fam</td>\n",
       "      <td>1 5fin</td>\n",
       "      <td>6</td>\n",
       "      <td>gable</td>\n",
       "      <td>compshg</td>\n",
       "      <td>none</td>\n",
       "      <td>2</td>\n",
       "      <td>2</td>\n",
       "      <td>pconc</td>\n",
       "      <td>2.0</td>\n",
       "      <td>2.0</td>\n",
       "      <td>no</td>\n",
       "      <td>unf</td>\n",
       "      <td>0.0</td>\n",
       "      <td>unf</td>\n",
       "      <td>816.0</td>\n",
       "      <td>gasa</td>\n",
       "      <td>2</td>\n",
       "      <td>y</td>\n",
       "      <td>sbrkr</td>\n",
       "      <td>0.0</td>\n",
       "      <td>360</td>\n",
       "      <td>0</td>\n",
       "      <td>1</td>\n",
       "      <td>0.0</td>\n",
       "      <td>1</td>\n",
       "      <td>2</td>\n",
       "      <td>typ</td>\n",
       "      <td>1</td>\n",
       "      <td>detchd</td>\n",
       "      <td>unf</td>\n",
       "      <td>528.0</td>\n",
       "      <td>2.0</td>\n",
       "      <td>2.0</td>\n",
       "      <td>y</td>\n",
       "      <td>112.0</td>\n",
       "      <td>0.0</td>\n",
       "      <td>0.0</td>\n",
       "      <td>400.0</td>\n",
       "      <td>114500</td>\n",
       "    </tr>\n",
       "    <tr>\n",
       "      <th>2</th>\n",
       "      <td>otro</td>\n",
       "      <td>2544.0</td>\n",
       "      <td>pave</td>\n",
       "      <td>reg</td>\n",
       "      <td>lvl</td>\n",
       "      <td>inside</td>\n",
       "      <td>gtl</td>\n",
       "      <td>norm</td>\n",
       "      <td>norm</td>\n",
       "      <td>otro</td>\n",
       "      <td>2story</td>\n",
       "      <td>5</td>\n",
       "      <td>gable</td>\n",
       "      <td>compshg</td>\n",
       "      <td>none</td>\n",
       "      <td>3</td>\n",
       "      <td>2</td>\n",
       "      <td>pconc</td>\n",
       "      <td>3.0</td>\n",
       "      <td>2.0</td>\n",
       "      <td>no</td>\n",
       "      <td>unf</td>\n",
       "      <td>0.0</td>\n",
       "      <td>unf</td>\n",
       "      <td>600.0</td>\n",
       "      <td>gasa</td>\n",
       "      <td>3</td>\n",
       "      <td>y</td>\n",
       "      <td>sbrkr</td>\n",
       "      <td>623.0</td>\n",
       "      <td>80</td>\n",
       "      <td>0</td>\n",
       "      <td>2</td>\n",
       "      <td>1.0</td>\n",
       "      <td>1</td>\n",
       "      <td>3</td>\n",
       "      <td>typ</td>\n",
       "      <td>0</td>\n",
       "      <td>detchd</td>\n",
       "      <td>rfn</td>\n",
       "      <td>480.0</td>\n",
       "      <td>2.0</td>\n",
       "      <td>2.0</td>\n",
       "      <td>y</td>\n",
       "      <td>0.0</td>\n",
       "      <td>166.0</td>\n",
       "      <td>0.0</td>\n",
       "      <td>0.0</td>\n",
       "      <td>147400</td>\n",
       "    </tr>\n",
       "    <tr>\n",
       "      <th>3</th>\n",
       "      <td>rl</td>\n",
       "      <td>11600.0</td>\n",
       "      <td>pave</td>\n",
       "      <td>reg</td>\n",
       "      <td>lvl</td>\n",
       "      <td>inside</td>\n",
       "      <td>gtl</td>\n",
       "      <td>norm</td>\n",
       "      <td>norm</td>\n",
       "      <td>1fam</td>\n",
       "      <td>1story</td>\n",
       "      <td>5</td>\n",
       "      <td>gable</td>\n",
       "      <td>compshg</td>\n",
       "      <td>none</td>\n",
       "      <td>2</td>\n",
       "      <td>2</td>\n",
       "      <td>otro</td>\n",
       "      <td>1.0</td>\n",
       "      <td>2.0</td>\n",
       "      <td>no</td>\n",
       "      <td>unf</td>\n",
       "      <td>0.0</td>\n",
       "      <td>unf</td>\n",
       "      <td>700.0</td>\n",
       "      <td>gasa</td>\n",
       "      <td>3</td>\n",
       "      <td>y</td>\n",
       "      <td>sbrkr</td>\n",
       "      <td>0.0</td>\n",
       "      <td>0</td>\n",
       "      <td>0</td>\n",
       "      <td>1</td>\n",
       "      <td>0.0</td>\n",
       "      <td>1</td>\n",
       "      <td>1</td>\n",
       "      <td>typ</td>\n",
       "      <td>1</td>\n",
       "      <td>detchd</td>\n",
       "      <td>unf</td>\n",
       "      <td>252.0</td>\n",
       "      <td>2.0</td>\n",
       "      <td>1.0</td>\n",
       "      <td>y</td>\n",
       "      <td>0.0</td>\n",
       "      <td>0.0</td>\n",
       "      <td>67.0</td>\n",
       "      <td>0.0</td>\n",
       "      <td>137500</td>\n",
       "    </tr>\n",
       "    <tr>\n",
       "      <th>4</th>\n",
       "      <td>rm</td>\n",
       "      <td>9786.0</td>\n",
       "      <td>pave</td>\n",
       "      <td>reg</td>\n",
       "      <td>lvl</td>\n",
       "      <td>inside</td>\n",
       "      <td>gtl</td>\n",
       "      <td>norm</td>\n",
       "      <td>norm</td>\n",
       "      <td>1fam</td>\n",
       "      <td>1story</td>\n",
       "      <td>4</td>\n",
       "      <td>hip</td>\n",
       "      <td>compshg</td>\n",
       "      <td>none</td>\n",
       "      <td>2</td>\n",
       "      <td>2</td>\n",
       "      <td>otro</td>\n",
       "      <td>2.0</td>\n",
       "      <td>1.0</td>\n",
       "      <td>no</td>\n",
       "      <td>unf</td>\n",
       "      <td>0.0</td>\n",
       "      <td>unf</td>\n",
       "      <td>1007.0</td>\n",
       "      <td>gasa</td>\n",
       "      <td>1</td>\n",
       "      <td>n</td>\n",
       "      <td>sbrkr</td>\n",
       "      <td>0.0</td>\n",
       "      <td>0</td>\n",
       "      <td>0</td>\n",
       "      <td>1</td>\n",
       "      <td>0.0</td>\n",
       "      <td>1</td>\n",
       "      <td>2</td>\n",
       "      <td>typ</td>\n",
       "      <td>1</td>\n",
       "      <td>detchd</td>\n",
       "      <td>unf</td>\n",
       "      <td>210.0</td>\n",
       "      <td>2.0</td>\n",
       "      <td>1.0</td>\n",
       "      <td>p</td>\n",
       "      <td>0.0</td>\n",
       "      <td>100.0</td>\n",
       "      <td>48.0</td>\n",
       "      <td>0.0</td>\n",
       "      <td>91000</td>\n",
       "    </tr>\n",
       "    <tr>\n",
       "      <th>...</th>\n",
       "      <td>...</td>\n",
       "      <td>...</td>\n",
       "      <td>...</td>\n",
       "      <td>...</td>\n",
       "      <td>...</td>\n",
       "      <td>...</td>\n",
       "      <td>...</td>\n",
       "      <td>...</td>\n",
       "      <td>...</td>\n",
       "      <td>...</td>\n",
       "      <td>...</td>\n",
       "      <td>...</td>\n",
       "      <td>...</td>\n",
       "      <td>...</td>\n",
       "      <td>...</td>\n",
       "      <td>...</td>\n",
       "      <td>...</td>\n",
       "      <td>...</td>\n",
       "      <td>...</td>\n",
       "      <td>...</td>\n",
       "      <td>...</td>\n",
       "      <td>...</td>\n",
       "      <td>...</td>\n",
       "      <td>...</td>\n",
       "      <td>...</td>\n",
       "      <td>...</td>\n",
       "      <td>...</td>\n",
       "      <td>...</td>\n",
       "      <td>...</td>\n",
       "      <td>...</td>\n",
       "      <td>...</td>\n",
       "      <td>...</td>\n",
       "      <td>...</td>\n",
       "      <td>...</td>\n",
       "      <td>...</td>\n",
       "      <td>...</td>\n",
       "      <td>...</td>\n",
       "      <td>...</td>\n",
       "      <td>...</td>\n",
       "      <td>...</td>\n",
       "      <td>...</td>\n",
       "      <td>...</td>\n",
       "      <td>...</td>\n",
       "      <td>...</td>\n",
       "      <td>...</td>\n",
       "      <td>...</td>\n",
       "      <td>...</td>\n",
       "      <td>...</td>\n",
       "      <td>...</td>\n",
       "    </tr>\n",
       "    <tr>\n",
       "      <th>759</th>\n",
       "      <td>rl</td>\n",
       "      <td>10592.0</td>\n",
       "      <td>pave</td>\n",
       "      <td>reg</td>\n",
       "      <td>lvl</td>\n",
       "      <td>inside</td>\n",
       "      <td>gtl</td>\n",
       "      <td>norm</td>\n",
       "      <td>norm</td>\n",
       "      <td>1fam</td>\n",
       "      <td>2story</td>\n",
       "      <td>7</td>\n",
       "      <td>hip</td>\n",
       "      <td>compshg</td>\n",
       "      <td>none</td>\n",
       "      <td>2</td>\n",
       "      <td>3</td>\n",
       "      <td>pconc</td>\n",
       "      <td>2.0</td>\n",
       "      <td>1.0</td>\n",
       "      <td>no</td>\n",
       "      <td>unf</td>\n",
       "      <td>0.0</td>\n",
       "      <td>unf</td>\n",
       "      <td>602.0</td>\n",
       "      <td>gasa</td>\n",
       "      <td>2</td>\n",
       "      <td>y</td>\n",
       "      <td>sbrkr</td>\n",
       "      <td>602.0</td>\n",
       "      <td>0</td>\n",
       "      <td>0</td>\n",
       "      <td>1</td>\n",
       "      <td>1.0</td>\n",
       "      <td>1</td>\n",
       "      <td>3</td>\n",
       "      <td>typ</td>\n",
       "      <td>2</td>\n",
       "      <td>detchd</td>\n",
       "      <td>unf</td>\n",
       "      <td>180.0</td>\n",
       "      <td>2.0</td>\n",
       "      <td>2.0</td>\n",
       "      <td>y</td>\n",
       "      <td>96.0</td>\n",
       "      <td>0.0</td>\n",
       "      <td>112.0</td>\n",
       "      <td>0.0</td>\n",
       "      <td>165000</td>\n",
       "    </tr>\n",
       "    <tr>\n",
       "      <th>760</th>\n",
       "      <td>rl</td>\n",
       "      <td>8750.0</td>\n",
       "      <td>pave</td>\n",
       "      <td>reg</td>\n",
       "      <td>lvl</td>\n",
       "      <td>inside</td>\n",
       "      <td>gtl</td>\n",
       "      <td>norm</td>\n",
       "      <td>norm</td>\n",
       "      <td>1fam</td>\n",
       "      <td>2story</td>\n",
       "      <td>5</td>\n",
       "      <td>gable</td>\n",
       "      <td>compshg</td>\n",
       "      <td>brkface</td>\n",
       "      <td>2</td>\n",
       "      <td>2</td>\n",
       "      <td>pconc</td>\n",
       "      <td>3.0</td>\n",
       "      <td>2.0</td>\n",
       "      <td>no</td>\n",
       "      <td>glq</td>\n",
       "      <td>505.0</td>\n",
       "      <td>unf</td>\n",
       "      <td>299.0</td>\n",
       "      <td>gasa</td>\n",
       "      <td>3</td>\n",
       "      <td>y</td>\n",
       "      <td>sbrkr</td>\n",
       "      <td>878.0</td>\n",
       "      <td>0</td>\n",
       "      <td>0</td>\n",
       "      <td>2</td>\n",
       "      <td>1.0</td>\n",
       "      <td>1</td>\n",
       "      <td>3</td>\n",
       "      <td>typ</td>\n",
       "      <td>0</td>\n",
       "      <td>attchd</td>\n",
       "      <td>rfn</td>\n",
       "      <td>523.0</td>\n",
       "      <td>2.0</td>\n",
       "      <td>2.0</td>\n",
       "      <td>y</td>\n",
       "      <td>0.0</td>\n",
       "      <td>77.0</td>\n",
       "      <td>0.0</td>\n",
       "      <td>0.0</td>\n",
       "      <td>200500</td>\n",
       "    </tr>\n",
       "    <tr>\n",
       "      <th>761</th>\n",
       "      <td>rl</td>\n",
       "      <td>10205.0</td>\n",
       "      <td>pave</td>\n",
       "      <td>otro</td>\n",
       "      <td>lvl</td>\n",
       "      <td>inside</td>\n",
       "      <td>gtl</td>\n",
       "      <td>norm</td>\n",
       "      <td>norm</td>\n",
       "      <td>1fam</td>\n",
       "      <td>otro</td>\n",
       "      <td>5</td>\n",
       "      <td>gable</td>\n",
       "      <td>compshg</td>\n",
       "      <td>none</td>\n",
       "      <td>2</td>\n",
       "      <td>2</td>\n",
       "      <td>cblock</td>\n",
       "      <td>2.0</td>\n",
       "      <td>2.0</td>\n",
       "      <td>otro</td>\n",
       "      <td>otro</td>\n",
       "      <td>784.0</td>\n",
       "      <td>unf</td>\n",
       "      <td>141.0</td>\n",
       "      <td>gasa</td>\n",
       "      <td>2</td>\n",
       "      <td>y</td>\n",
       "      <td>sbrkr</td>\n",
       "      <td>0.0</td>\n",
       "      <td>0</td>\n",
       "      <td>0</td>\n",
       "      <td>1</td>\n",
       "      <td>0.0</td>\n",
       "      <td>1</td>\n",
       "      <td>2</td>\n",
       "      <td>typ</td>\n",
       "      <td>0</td>\n",
       "      <td>attchd</td>\n",
       "      <td>unf</td>\n",
       "      <td>300.0</td>\n",
       "      <td>2.0</td>\n",
       "      <td>2.0</td>\n",
       "      <td>y</td>\n",
       "      <td>150.0</td>\n",
       "      <td>72.0</td>\n",
       "      <td>0.0</td>\n",
       "      <td>0.0</td>\n",
       "      <td>134500</td>\n",
       "    </tr>\n",
       "    <tr>\n",
       "      <th>762</th>\n",
       "      <td>rl</td>\n",
       "      <td>8935.0</td>\n",
       "      <td>pave</td>\n",
       "      <td>otro</td>\n",
       "      <td>lvl</td>\n",
       "      <td>inside</td>\n",
       "      <td>gtl</td>\n",
       "      <td>norm</td>\n",
       "      <td>norm</td>\n",
       "      <td>1fam</td>\n",
       "      <td>2story</td>\n",
       "      <td>5</td>\n",
       "      <td>gable</td>\n",
       "      <td>compshg</td>\n",
       "      <td>brkface</td>\n",
       "      <td>3</td>\n",
       "      <td>2</td>\n",
       "      <td>pconc</td>\n",
       "      <td>3.0</td>\n",
       "      <td>2.0</td>\n",
       "      <td>no</td>\n",
       "      <td>unf</td>\n",
       "      <td>0.0</td>\n",
       "      <td>unf</td>\n",
       "      <td>831.0</td>\n",
       "      <td>gasa</td>\n",
       "      <td>3</td>\n",
       "      <td>y</td>\n",
       "      <td>sbrkr</td>\n",
       "      <td>829.0</td>\n",
       "      <td>0</td>\n",
       "      <td>0</td>\n",
       "      <td>2</td>\n",
       "      <td>1.0</td>\n",
       "      <td>1</td>\n",
       "      <td>3</td>\n",
       "      <td>typ</td>\n",
       "      <td>0</td>\n",
       "      <td>attchd</td>\n",
       "      <td>rfn</td>\n",
       "      <td>493.0</td>\n",
       "      <td>2.0</td>\n",
       "      <td>2.0</td>\n",
       "      <td>y</td>\n",
       "      <td>144.0</td>\n",
       "      <td>68.0</td>\n",
       "      <td>0.0</td>\n",
       "      <td>0.0</td>\n",
       "      <td>195000</td>\n",
       "    </tr>\n",
       "    <tr>\n",
       "      <th>763</th>\n",
       "      <td>rl</td>\n",
       "      <td>9320.0</td>\n",
       "      <td>pave</td>\n",
       "      <td>otro</td>\n",
       "      <td>lvl</td>\n",
       "      <td>inside</td>\n",
       "      <td>gtl</td>\n",
       "      <td>norm</td>\n",
       "      <td>norm</td>\n",
       "      <td>1fam</td>\n",
       "      <td>1story</td>\n",
       "      <td>5</td>\n",
       "      <td>gable</td>\n",
       "      <td>compshg</td>\n",
       "      <td>none</td>\n",
       "      <td>2</td>\n",
       "      <td>2</td>\n",
       "      <td>cblock</td>\n",
       "      <td>2.0</td>\n",
       "      <td>2.0</td>\n",
       "      <td>no</td>\n",
       "      <td>alq</td>\n",
       "      <td>569.0</td>\n",
       "      <td>unf</td>\n",
       "      <td>381.0</td>\n",
       "      <td>gasa</td>\n",
       "      <td>1</td>\n",
       "      <td>y</td>\n",
       "      <td>sbrkr</td>\n",
       "      <td>0.0</td>\n",
       "      <td>0</td>\n",
       "      <td>0</td>\n",
       "      <td>1</td>\n",
       "      <td>1.0</td>\n",
       "      <td>1</td>\n",
       "      <td>2</td>\n",
       "      <td>typ</td>\n",
       "      <td>0</td>\n",
       "      <td>attchd</td>\n",
       "      <td>unf</td>\n",
       "      <td>0.0</td>\n",
       "      <td>2.0</td>\n",
       "      <td>2.0</td>\n",
       "      <td>y</td>\n",
       "      <td>352.0</td>\n",
       "      <td>0.0</td>\n",
       "      <td>0.0</td>\n",
       "      <td>400.0</td>\n",
       "      <td>128950</td>\n",
       "    </tr>\n",
       "  </tbody>\n",
       "</table>\n",
       "<p>764 rows × 49 columns</p>\n",
       "</div>"
      ],
      "text/plain": [
       "    v_MSZoning  c_LotArea v_Street v_LotShape v_LandContour v_LotConfig  \\\n",
       "0           rm     8472.0     grvl       otro          otro      corner   \n",
       "1           rm     6240.0     pave        reg           lvl      inside   \n",
       "2         otro     2544.0     pave        reg           lvl      inside   \n",
       "3           rl    11600.0     pave        reg           lvl      inside   \n",
       "4           rm     9786.0     pave        reg           lvl      inside   \n",
       "..         ...        ...      ...        ...           ...         ...   \n",
       "759         rl    10592.0     pave        reg           lvl      inside   \n",
       "760         rl     8750.0     pave        reg           lvl      inside   \n",
       "761         rl    10205.0     pave       otro           lvl      inside   \n",
       "762         rl     8935.0     pave       otro           lvl      inside   \n",
       "763         rl     9320.0     pave       otro           lvl      inside   \n",
       "\n",
       "    v_LandSlope v_Condition1 v_Condition2 v_BldgType v_HouseStyle  \\\n",
       "0          otro         otro         norm       otro       1story   \n",
       "1           gtl         norm         norm       1fam       1 5fin   \n",
       "2           gtl         norm         norm       otro       2story   \n",
       "3           gtl         norm         norm       1fam       1story   \n",
       "4           gtl         norm         norm       1fam       1story   \n",
       "..          ...          ...          ...        ...          ...   \n",
       "759         gtl         norm         norm       1fam       2story   \n",
       "760         gtl         norm         norm       1fam       2story   \n",
       "761         gtl         norm         norm       1fam         otro   \n",
       "762         gtl         norm         norm       1fam       2story   \n",
       "763         gtl         norm         norm       1fam       1story   \n",
       "\n",
       "    v_OverallCond v_RoofStyle v_RoofMatl v_MasVnrType  v_ExterQual  \\\n",
       "0               5       gable    compshg         none            1   \n",
       "1               6       gable    compshg         none            2   \n",
       "2               5       gable    compshg         none            3   \n",
       "3               5       gable    compshg         none            2   \n",
       "4               4         hip    compshg         none            2   \n",
       "..            ...         ...        ...          ...          ...   \n",
       "759             7         hip    compshg         none            2   \n",
       "760             5       gable    compshg      brkface            2   \n",
       "761             5       gable    compshg         none            2   \n",
       "762             5       gable    compshg      brkface            3   \n",
       "763             5       gable    compshg         none            2   \n",
       "\n",
       "     v_ExterCond v_Foundation v_BsmtQual v_BsmtCond v_BsmtExposure  \\\n",
       "0              2       cblock        3.0        2.0           otro   \n",
       "1              2        pconc        2.0        2.0             no   \n",
       "2              2        pconc        3.0        2.0             no   \n",
       "3              2         otro        1.0        2.0             no   \n",
       "4              2         otro        2.0        1.0             no   \n",
       "..           ...          ...        ...        ...            ...   \n",
       "759            3        pconc        2.0        1.0             no   \n",
       "760            2        pconc        3.0        2.0             no   \n",
       "761            2       cblock        2.0        2.0           otro   \n",
       "762            2        pconc        3.0        2.0             no   \n",
       "763            2       cblock        2.0        2.0             no   \n",
       "\n",
       "    v_BsmtFinType1  c_BsmtFinSF1 v_BsmtFinType2  c_BsmtUnfSF v_Heating  \\\n",
       "0             otro         104.0           otro          0.0      gasa   \n",
       "1              unf           0.0            unf        816.0      gasa   \n",
       "2              unf           0.0            unf        600.0      gasa   \n",
       "3              unf           0.0            unf        700.0      gasa   \n",
       "4              unf           0.0            unf       1007.0      gasa   \n",
       "..             ...           ...            ...          ...       ...   \n",
       "759            unf           0.0            unf        602.0      gasa   \n",
       "760            glq         505.0            unf        299.0      gasa   \n",
       "761           otro         784.0            unf        141.0      gasa   \n",
       "762            unf           0.0            unf        831.0      gasa   \n",
       "763            alq         569.0            unf        381.0      gasa   \n",
       "\n",
       "     v_HeatingQC v_CentralAir v_Electrical  c_2ndFlrSF v_LowQualFinSF  \\\n",
       "0              2            n        sbrkr         0.0              0   \n",
       "1              2            y        sbrkr         0.0            360   \n",
       "2              3            y        sbrkr       623.0             80   \n",
       "3              3            y        sbrkr         0.0              0   \n",
       "4              1            n        sbrkr         0.0              0   \n",
       "..           ...          ...          ...         ...            ...   \n",
       "759            2            y        sbrkr       602.0              0   \n",
       "760            3            y        sbrkr       878.0              0   \n",
       "761            2            y        sbrkr         0.0              0   \n",
       "762            3            y        sbrkr       829.0              0   \n",
       "763            1            y        sbrkr         0.0              0   \n",
       "\n",
       "    v_BsmtHalfBath v_FullBath  c_HalfBath v_KitchenAbvGr  v_KitchenQual  \\\n",
       "0                0          1         0.0              1              2   \n",
       "1                0          1         0.0              1              2   \n",
       "2                0          2         1.0              1              3   \n",
       "3                0          1         0.0              1              1   \n",
       "4                0          1         0.0              1              2   \n",
       "..             ...        ...         ...            ...            ...   \n",
       "759              0          1         1.0              1              3   \n",
       "760              0          2         1.0              1              3   \n",
       "761              0          1         0.0              1              2   \n",
       "762              0          2         1.0              1              3   \n",
       "763              0          1         1.0              1              2   \n",
       "\n",
       "    v_Functional v_Fireplaces v_GarageType v_GarageFinish  c_GarageArea  \\\n",
       "0            typ            0         otro            unf         516.0   \n",
       "1            typ            1       detchd            unf         528.0   \n",
       "2            typ            0       detchd            rfn         480.0   \n",
       "3            typ            1       detchd            unf         252.0   \n",
       "4            typ            1       detchd            unf         210.0   \n",
       "..           ...          ...          ...            ...           ...   \n",
       "759          typ            2       detchd            unf         180.0   \n",
       "760          typ            0       attchd            rfn         523.0   \n",
       "761          typ            0       attchd            unf         300.0   \n",
       "762          typ            0       attchd            rfn         493.0   \n",
       "763          typ            0       attchd            unf           0.0   \n",
       "\n",
       "    v_GarageQual v_GarageCond v_PavedDrive  c_WoodDeckSF  c_OpenPorchSF  \\\n",
       "0            2.0          2.0            y         106.0            0.0   \n",
       "1            2.0          2.0            y         112.0            0.0   \n",
       "2            2.0          2.0            y           0.0          166.0   \n",
       "3            2.0          1.0            y           0.0            0.0   \n",
       "4            2.0          1.0            p           0.0          100.0   \n",
       "..           ...          ...          ...           ...            ...   \n",
       "759          2.0          2.0            y          96.0            0.0   \n",
       "760          2.0          2.0            y           0.0           77.0   \n",
       "761          2.0          2.0            y         150.0           72.0   \n",
       "762          2.0          2.0            y         144.0           68.0   \n",
       "763          2.0          2.0            y         352.0            0.0   \n",
       "\n",
       "     c_EnclosedPorch  c_MiscVal  tgt_SalePrice  \n",
       "0                0.0        0.0         110000  \n",
       "1                0.0      400.0         114500  \n",
       "2                0.0        0.0         147400  \n",
       "3               67.0        0.0         137500  \n",
       "4               48.0        0.0          91000  \n",
       "..               ...        ...            ...  \n",
       "759            112.0        0.0         165000  \n",
       "760              0.0        0.0         200500  \n",
       "761              0.0        0.0         134500  \n",
       "762              0.0        0.0         195000  \n",
       "763              0.0      400.0         128950  \n",
       "\n",
       "[764 rows x 49 columns]"
      ]
     },
     "execution_count": 1102,
     "metadata": {},
     "output_type": "execute_result"
    }
   ],
   "source": [
    "X_train"
   ]
  },
  {
   "cell_type": "code",
   "execution_count": 1103,
   "metadata": {
    "ExecuteTime": {
     "end_time": "2021-08-21T17:42:04.438187Z",
     "start_time": "2021-08-21T17:42:04.422220Z"
    }
   },
   "outputs": [
    {
     "data": {
      "text/plain": [
       "0      754\n",
       "80       2\n",
       "360      2\n",
       "234      1\n",
       "420      1\n",
       "384      1\n",
       "390      1\n",
       "513      1\n",
       "144      1\n",
       "Name: v_LowQualFinSF, dtype: int64"
      ]
     },
     "execution_count": 1103,
     "metadata": {},
     "output_type": "execute_result"
    }
   ],
   "source": [
    "X_train[\"v_LowQualFinSF\"].value_counts()"
   ]
  },
  {
   "cell_type": "code",
   "execution_count": 1104,
   "metadata": {
    "ExecuteTime": {
     "end_time": "2021-08-21T17:42:04.930246Z",
     "start_time": "2021-08-21T17:42:04.919279Z"
    }
   },
   "outputs": [],
   "source": [
    "##CREAR LAS VARIABLES DUMMY"
   ]
  },
  {
   "cell_type": "code",
   "execution_count": 890,
   "metadata": {
    "ExecuteTime": {
     "end_time": "2021-08-21T07:48:11.198342Z",
     "start_time": "2021-08-21T07:48:11.188342Z"
    }
   },
   "outputs": [],
   "source": [
    "from sklearn.preprocessing import OneHotEncoder"
   ]
  },
  {
   "cell_type": "code",
   "execution_count": 1105,
   "metadata": {
    "ExecuteTime": {
     "end_time": "2021-08-21T17:42:25.380307Z",
     "start_time": "2021-08-21T17:42:25.367306Z"
    }
   },
   "outputs": [],
   "source": [
    "dummy_vars=[\"v_MSZoning\",\"v_Street\",\"v_LotShape\",\"v_LandContour\",\"v_LotConfig\",\"v_LandSlope\",\"v_Condition1\",\"v_Condition2\",\"v_BldgType\",\"v_HouseStyle\",\n",
    "\"v_RoofStyle\",\"v_MasVnrType\",\"v_Foundation\",\"v_BsmtExposure\",\"v_BsmtFinType1\",\"v_BsmtFinType2\",\"v_Heating\",\"v_CentralAir\",\n",
    "\"v_Electrical\",\"v_Functional\",\"v_GarageType\",\"v_GarageFinish\",\"v_PavedDrive\",\"v_RoofMatl\",\"v_OverallCond\"]"
   ]
  },
  {
   "cell_type": "code",
   "execution_count": 1106,
   "metadata": {
    "ExecuteTime": {
     "end_time": "2021-08-21T17:42:25.933586Z",
     "start_time": "2021-08-21T17:42:25.926582Z"
    }
   },
   "outputs": [
    {
     "data": {
      "text/plain": [
       "(764, 49)"
      ]
     },
     "execution_count": 1106,
     "metadata": {},
     "output_type": "execute_result"
    }
   ],
   "source": [
    "X_train.shape"
   ]
  },
  {
   "cell_type": "code",
   "execution_count": 1107,
   "metadata": {
    "ExecuteTime": {
     "end_time": "2021-08-21T17:42:26.455587Z",
     "start_time": "2021-08-21T17:42:26.446584Z"
    }
   },
   "outputs": [
    {
     "data": {
      "text/plain": [
       "(192, 49)"
      ]
     },
     "execution_count": 1107,
     "metadata": {},
     "output_type": "execute_result"
    }
   ],
   "source": [
    "X_test.shape"
   ]
  },
  {
   "cell_type": "code",
   "execution_count": 1108,
   "metadata": {
    "ExecuteTime": {
     "end_time": "2021-08-21T17:42:28.029635Z",
     "start_time": "2021-08-21T17:42:27.971611Z"
    }
   },
   "outputs": [
    {
     "data": {
      "text/html": [
       "<div>\n",
       "<style scoped>\n",
       "    .dataframe tbody tr th:only-of-type {\n",
       "        vertical-align: middle;\n",
       "    }\n",
       "\n",
       "    .dataframe tbody tr th {\n",
       "        vertical-align: top;\n",
       "    }\n",
       "\n",
       "    .dataframe thead th {\n",
       "        text-align: right;\n",
       "    }\n",
       "</style>\n",
       "<table border=\"1\" class=\"dataframe\">\n",
       "  <thead>\n",
       "    <tr style=\"text-align: right;\">\n",
       "      <th></th>\n",
       "      <th>v_MSZoning</th>\n",
       "      <th>c_LotArea</th>\n",
       "      <th>v_Street</th>\n",
       "      <th>v_LotShape</th>\n",
       "      <th>v_LandContour</th>\n",
       "      <th>v_LotConfig</th>\n",
       "      <th>v_LandSlope</th>\n",
       "      <th>v_Condition1</th>\n",
       "      <th>v_Condition2</th>\n",
       "      <th>v_BldgType</th>\n",
       "      <th>v_HouseStyle</th>\n",
       "      <th>v_OverallCond</th>\n",
       "      <th>v_RoofStyle</th>\n",
       "      <th>v_RoofMatl</th>\n",
       "      <th>v_MasVnrType</th>\n",
       "      <th>v_ExterQual</th>\n",
       "      <th>v_ExterCond</th>\n",
       "      <th>v_Foundation</th>\n",
       "      <th>v_BsmtQual</th>\n",
       "      <th>v_BsmtCond</th>\n",
       "      <th>v_BsmtExposure</th>\n",
       "      <th>v_BsmtFinType1</th>\n",
       "      <th>c_BsmtFinSF1</th>\n",
       "      <th>v_BsmtFinType2</th>\n",
       "      <th>c_BsmtUnfSF</th>\n",
       "      <th>v_Heating</th>\n",
       "      <th>v_HeatingQC</th>\n",
       "      <th>v_CentralAir</th>\n",
       "      <th>v_Electrical</th>\n",
       "      <th>c_2ndFlrSF</th>\n",
       "      <th>v_LowQualFinSF</th>\n",
       "      <th>v_BsmtHalfBath</th>\n",
       "      <th>v_FullBath</th>\n",
       "      <th>c_HalfBath</th>\n",
       "      <th>v_KitchenAbvGr</th>\n",
       "      <th>v_KitchenQual</th>\n",
       "      <th>v_Functional</th>\n",
       "      <th>v_Fireplaces</th>\n",
       "      <th>v_GarageType</th>\n",
       "      <th>v_GarageFinish</th>\n",
       "      <th>c_GarageArea</th>\n",
       "      <th>v_GarageQual</th>\n",
       "      <th>v_GarageCond</th>\n",
       "      <th>v_PavedDrive</th>\n",
       "      <th>c_WoodDeckSF</th>\n",
       "      <th>c_OpenPorchSF</th>\n",
       "      <th>c_EnclosedPorch</th>\n",
       "      <th>c_MiscVal</th>\n",
       "      <th>tgt_SalePrice</th>\n",
       "    </tr>\n",
       "  </thead>\n",
       "  <tbody>\n",
       "    <tr>\n",
       "      <th>0</th>\n",
       "      <td>rl</td>\n",
       "      <td>13400</td>\n",
       "      <td>pave</td>\n",
       "      <td>reg</td>\n",
       "      <td>lvl</td>\n",
       "      <td>inside</td>\n",
       "      <td>gtl</td>\n",
       "      <td>norm</td>\n",
       "      <td>norm</td>\n",
       "      <td>1fam</td>\n",
       "      <td>otro</td>\n",
       "      <td>5</td>\n",
       "      <td>gable</td>\n",
       "      <td>compshg</td>\n",
       "      <td>brkface</td>\n",
       "      <td>2</td>\n",
       "      <td>2</td>\n",
       "      <td>cblock</td>\n",
       "      <td>2.0</td>\n",
       "      <td>2.0</td>\n",
       "      <td>otro</td>\n",
       "      <td>alq</td>\n",
       "      <td>516</td>\n",
       "      <td>otro</td>\n",
       "      <td>380</td>\n",
       "      <td>gasa</td>\n",
       "      <td>2</td>\n",
       "      <td>y</td>\n",
       "      <td>sbrkr</td>\n",
       "      <td>0</td>\n",
       "      <td>0</td>\n",
       "      <td>0</td>\n",
       "      <td>1</td>\n",
       "      <td>0</td>\n",
       "      <td>1</td>\n",
       "      <td>2</td>\n",
       "      <td>typ</td>\n",
       "      <td>1</td>\n",
       "      <td>attchd</td>\n",
       "      <td>rfn</td>\n",
       "      <td>484</td>\n",
       "      <td>2.0</td>\n",
       "      <td>2.0</td>\n",
       "      <td>y</td>\n",
       "      <td>0</td>\n",
       "      <td>0</td>\n",
       "      <td>0</td>\n",
       "      <td>0</td>\n",
       "      <td>159950</td>\n",
       "    </tr>\n",
       "    <tr>\n",
       "      <th>1</th>\n",
       "      <td>rl</td>\n",
       "      <td>34650</td>\n",
       "      <td>pave</td>\n",
       "      <td>reg</td>\n",
       "      <td>otro</td>\n",
       "      <td>inside</td>\n",
       "      <td>gtl</td>\n",
       "      <td>norm</td>\n",
       "      <td>norm</td>\n",
       "      <td>otro</td>\n",
       "      <td>1story</td>\n",
       "      <td>5</td>\n",
       "      <td>hip</td>\n",
       "      <td>compshg</td>\n",
       "      <td>none</td>\n",
       "      <td>2</td>\n",
       "      <td>2</td>\n",
       "      <td>cblock</td>\n",
       "      <td>2.0</td>\n",
       "      <td>2.0</td>\n",
       "      <td>otro</td>\n",
       "      <td>otro</td>\n",
       "      <td>1056</td>\n",
       "      <td>unf</td>\n",
       "      <td>0</td>\n",
       "      <td>gasa</td>\n",
       "      <td>2</td>\n",
       "      <td>n</td>\n",
       "      <td>sbrkr</td>\n",
       "      <td>0</td>\n",
       "      <td>0</td>\n",
       "      <td>0</td>\n",
       "      <td>1</td>\n",
       "      <td>0</td>\n",
       "      <td>1</td>\n",
       "      <td>2</td>\n",
       "      <td>typ</td>\n",
       "      <td>0</td>\n",
       "      <td>attchd</td>\n",
       "      <td>fin</td>\n",
       "      <td>572</td>\n",
       "      <td>2.0</td>\n",
       "      <td>2.0</td>\n",
       "      <td>y</td>\n",
       "      <td>264</td>\n",
       "      <td>0</td>\n",
       "      <td>0</td>\n",
       "      <td>0</td>\n",
       "      <td>145000</td>\n",
       "    </tr>\n",
       "    <tr>\n",
       "      <th>2</th>\n",
       "      <td>rl</td>\n",
       "      <td>7200</td>\n",
       "      <td>pave</td>\n",
       "      <td>reg</td>\n",
       "      <td>lvl</td>\n",
       "      <td>inside</td>\n",
       "      <td>gtl</td>\n",
       "      <td>norm</td>\n",
       "      <td>norm</td>\n",
       "      <td>1fam</td>\n",
       "      <td>1story</td>\n",
       "      <td>8</td>\n",
       "      <td>gable</td>\n",
       "      <td>compshg</td>\n",
       "      <td>none</td>\n",
       "      <td>2</td>\n",
       "      <td>2</td>\n",
       "      <td>cblock</td>\n",
       "      <td>2.0</td>\n",
       "      <td>2.0</td>\n",
       "      <td>no</td>\n",
       "      <td>alq</td>\n",
       "      <td>398</td>\n",
       "      <td>otro</td>\n",
       "      <td>317</td>\n",
       "      <td>gasa</td>\n",
       "      <td>3</td>\n",
       "      <td>y</td>\n",
       "      <td>sbrkr</td>\n",
       "      <td>0</td>\n",
       "      <td>0</td>\n",
       "      <td>0</td>\n",
       "      <td>1</td>\n",
       "      <td>0</td>\n",
       "      <td>1</td>\n",
       "      <td>3</td>\n",
       "      <td>typ</td>\n",
       "      <td>0</td>\n",
       "      <td>detchd</td>\n",
       "      <td>rfn</td>\n",
       "      <td>720</td>\n",
       "      <td>2.0</td>\n",
       "      <td>2.0</td>\n",
       "      <td>y</td>\n",
       "      <td>194</td>\n",
       "      <td>0</td>\n",
       "      <td>0</td>\n",
       "      <td>0</td>\n",
       "      <td>129000</td>\n",
       "    </tr>\n",
       "    <tr>\n",
       "      <th>3</th>\n",
       "      <td>rl</td>\n",
       "      <td>8123</td>\n",
       "      <td>pave</td>\n",
       "      <td>otro</td>\n",
       "      <td>lvl</td>\n",
       "      <td>inside</td>\n",
       "      <td>gtl</td>\n",
       "      <td>otro</td>\n",
       "      <td>norm</td>\n",
       "      <td>1fam</td>\n",
       "      <td>2story</td>\n",
       "      <td>5</td>\n",
       "      <td>gable</td>\n",
       "      <td>compshg</td>\n",
       "      <td>brkface</td>\n",
       "      <td>2</td>\n",
       "      <td>2</td>\n",
       "      <td>pconc</td>\n",
       "      <td>3.0</td>\n",
       "      <td>2.0</td>\n",
       "      <td>no</td>\n",
       "      <td>unf</td>\n",
       "      <td>0</td>\n",
       "      <td>unf</td>\n",
       "      <td>982</td>\n",
       "      <td>gasa</td>\n",
       "      <td>3</td>\n",
       "      <td>y</td>\n",
       "      <td>sbrkr</td>\n",
       "      <td>793</td>\n",
       "      <td>0</td>\n",
       "      <td>0</td>\n",
       "      <td>2</td>\n",
       "      <td>1</td>\n",
       "      <td>1</td>\n",
       "      <td>2</td>\n",
       "      <td>typ</td>\n",
       "      <td>1</td>\n",
       "      <td>attchd</td>\n",
       "      <td>fin</td>\n",
       "      <td>463</td>\n",
       "      <td>2.0</td>\n",
       "      <td>2.0</td>\n",
       "      <td>y</td>\n",
       "      <td>100</td>\n",
       "      <td>63</td>\n",
       "      <td>0</td>\n",
       "      <td>0</td>\n",
       "      <td>179000</td>\n",
       "    </tr>\n",
       "    <tr>\n",
       "      <th>4</th>\n",
       "      <td>rl</td>\n",
       "      <td>9858</td>\n",
       "      <td>pave</td>\n",
       "      <td>reg</td>\n",
       "      <td>lvl</td>\n",
       "      <td>inside</td>\n",
       "      <td>gtl</td>\n",
       "      <td>norm</td>\n",
       "      <td>norm</td>\n",
       "      <td>1fam</td>\n",
       "      <td>1story</td>\n",
       "      <td>6</td>\n",
       "      <td>gable</td>\n",
       "      <td>compshg</td>\n",
       "      <td>none</td>\n",
       "      <td>2</td>\n",
       "      <td>2</td>\n",
       "      <td>cblock</td>\n",
       "      <td>2.0</td>\n",
       "      <td>2.0</td>\n",
       "      <td>no</td>\n",
       "      <td>otro</td>\n",
       "      <td>510</td>\n",
       "      <td>unf</td>\n",
       "      <td>354</td>\n",
       "      <td>gasa</td>\n",
       "      <td>2</td>\n",
       "      <td>y</td>\n",
       "      <td>sbrkr</td>\n",
       "      <td>0</td>\n",
       "      <td>0</td>\n",
       "      <td>0</td>\n",
       "      <td>1</td>\n",
       "      <td>0</td>\n",
       "      <td>1</td>\n",
       "      <td>2</td>\n",
       "      <td>typ</td>\n",
       "      <td>0</td>\n",
       "      <td>attchd</td>\n",
       "      <td>rfn</td>\n",
       "      <td>288</td>\n",
       "      <td>2.0</td>\n",
       "      <td>2.0</td>\n",
       "      <td>y</td>\n",
       "      <td>33</td>\n",
       "      <td>0</td>\n",
       "      <td>0</td>\n",
       "      <td>600</td>\n",
       "      <td>130000</td>\n",
       "    </tr>\n",
       "    <tr>\n",
       "      <th>...</th>\n",
       "      <td>...</td>\n",
       "      <td>...</td>\n",
       "      <td>...</td>\n",
       "      <td>...</td>\n",
       "      <td>...</td>\n",
       "      <td>...</td>\n",
       "      <td>...</td>\n",
       "      <td>...</td>\n",
       "      <td>...</td>\n",
       "      <td>...</td>\n",
       "      <td>...</td>\n",
       "      <td>...</td>\n",
       "      <td>...</td>\n",
       "      <td>...</td>\n",
       "      <td>...</td>\n",
       "      <td>...</td>\n",
       "      <td>...</td>\n",
       "      <td>...</td>\n",
       "      <td>...</td>\n",
       "      <td>...</td>\n",
       "      <td>...</td>\n",
       "      <td>...</td>\n",
       "      <td>...</td>\n",
       "      <td>...</td>\n",
       "      <td>...</td>\n",
       "      <td>...</td>\n",
       "      <td>...</td>\n",
       "      <td>...</td>\n",
       "      <td>...</td>\n",
       "      <td>...</td>\n",
       "      <td>...</td>\n",
       "      <td>...</td>\n",
       "      <td>...</td>\n",
       "      <td>...</td>\n",
       "      <td>...</td>\n",
       "      <td>...</td>\n",
       "      <td>...</td>\n",
       "      <td>...</td>\n",
       "      <td>...</td>\n",
       "      <td>...</td>\n",
       "      <td>...</td>\n",
       "      <td>...</td>\n",
       "      <td>...</td>\n",
       "      <td>...</td>\n",
       "      <td>...</td>\n",
       "      <td>...</td>\n",
       "      <td>...</td>\n",
       "      <td>...</td>\n",
       "      <td>...</td>\n",
       "    </tr>\n",
       "    <tr>\n",
       "      <th>187</th>\n",
       "      <td>rl</td>\n",
       "      <td>8250</td>\n",
       "      <td>pave</td>\n",
       "      <td>reg</td>\n",
       "      <td>lvl</td>\n",
       "      <td>inside</td>\n",
       "      <td>gtl</td>\n",
       "      <td>otro</td>\n",
       "      <td>norm</td>\n",
       "      <td>1fam</td>\n",
       "      <td>1story</td>\n",
       "      <td>5</td>\n",
       "      <td>hip</td>\n",
       "      <td>compshg</td>\n",
       "      <td>none</td>\n",
       "      <td>2</td>\n",
       "      <td>2</td>\n",
       "      <td>cblock</td>\n",
       "      <td>2.0</td>\n",
       "      <td>2.0</td>\n",
       "      <td>no</td>\n",
       "      <td>otro</td>\n",
       "      <td>250</td>\n",
       "      <td>otro</td>\n",
       "      <td>210</td>\n",
       "      <td>gasa</td>\n",
       "      <td>3</td>\n",
       "      <td>y</td>\n",
       "      <td>sbrkr</td>\n",
       "      <td>0</td>\n",
       "      <td>0</td>\n",
       "      <td>0</td>\n",
       "      <td>1</td>\n",
       "      <td>0</td>\n",
       "      <td>1</td>\n",
       "      <td>2</td>\n",
       "      <td>typ</td>\n",
       "      <td>1</td>\n",
       "      <td>attchd</td>\n",
       "      <td>unf</td>\n",
       "      <td>322</td>\n",
       "      <td>2.0</td>\n",
       "      <td>2.0</td>\n",
       "      <td>y</td>\n",
       "      <td>0</td>\n",
       "      <td>63</td>\n",
       "      <td>0</td>\n",
       "      <td>0</td>\n",
       "      <td>134000</td>\n",
       "    </tr>\n",
       "    <tr>\n",
       "      <th>188</th>\n",
       "      <td>rl</td>\n",
       "      <td>9600</td>\n",
       "      <td>pave</td>\n",
       "      <td>reg</td>\n",
       "      <td>lvl</td>\n",
       "      <td>inside</td>\n",
       "      <td>gtl</td>\n",
       "      <td>norm</td>\n",
       "      <td>norm</td>\n",
       "      <td>1fam</td>\n",
       "      <td>1story</td>\n",
       "      <td>5</td>\n",
       "      <td>hip</td>\n",
       "      <td>compshg</td>\n",
       "      <td>brkface</td>\n",
       "      <td>2</td>\n",
       "      <td>2</td>\n",
       "      <td>cblock</td>\n",
       "      <td>2.0</td>\n",
       "      <td>2.0</td>\n",
       "      <td>no</td>\n",
       "      <td>unf</td>\n",
       "      <td>0</td>\n",
       "      <td>unf</td>\n",
       "      <td>1164</td>\n",
       "      <td>gasa</td>\n",
       "      <td>2</td>\n",
       "      <td>y</td>\n",
       "      <td>sbrkr</td>\n",
       "      <td>0</td>\n",
       "      <td>0</td>\n",
       "      <td>0</td>\n",
       "      <td>1</td>\n",
       "      <td>1</td>\n",
       "      <td>1</td>\n",
       "      <td>2</td>\n",
       "      <td>typ</td>\n",
       "      <td>0</td>\n",
       "      <td>attchd</td>\n",
       "      <td>unf</td>\n",
       "      <td>528</td>\n",
       "      <td>2.0</td>\n",
       "      <td>2.0</td>\n",
       "      <td>y</td>\n",
       "      <td>0</td>\n",
       "      <td>0</td>\n",
       "      <td>0</td>\n",
       "      <td>0</td>\n",
       "      <td>140000</td>\n",
       "    </tr>\n",
       "    <tr>\n",
       "      <th>189</th>\n",
       "      <td>rl</td>\n",
       "      <td>14200</td>\n",
       "      <td>pave</td>\n",
       "      <td>reg</td>\n",
       "      <td>lvl</td>\n",
       "      <td>corner</td>\n",
       "      <td>gtl</td>\n",
       "      <td>norm</td>\n",
       "      <td>norm</td>\n",
       "      <td>1fam</td>\n",
       "      <td>2story</td>\n",
       "      <td>6</td>\n",
       "      <td>gable</td>\n",
       "      <td>compshg</td>\n",
       "      <td>brkface</td>\n",
       "      <td>2</td>\n",
       "      <td>2</td>\n",
       "      <td>cblock</td>\n",
       "      <td>2.0</td>\n",
       "      <td>2.0</td>\n",
       "      <td>no</td>\n",
       "      <td>otro</td>\n",
       "      <td>445</td>\n",
       "      <td>unf</td>\n",
       "      <td>479</td>\n",
       "      <td>gasa</td>\n",
       "      <td>3</td>\n",
       "      <td>y</td>\n",
       "      <td>sbrkr</td>\n",
       "      <td>941</td>\n",
       "      <td>0</td>\n",
       "      <td>0</td>\n",
       "      <td>2</td>\n",
       "      <td>1</td>\n",
       "      <td>1</td>\n",
       "      <td>3</td>\n",
       "      <td>typ</td>\n",
       "      <td>2</td>\n",
       "      <td>attchd</td>\n",
       "      <td>fin</td>\n",
       "      <td>487</td>\n",
       "      <td>2.0</td>\n",
       "      <td>2.0</td>\n",
       "      <td>y</td>\n",
       "      <td>105</td>\n",
       "      <td>66</td>\n",
       "      <td>0</td>\n",
       "      <td>0</td>\n",
       "      <td>226000</td>\n",
       "    </tr>\n",
       "    <tr>\n",
       "      <th>190</th>\n",
       "      <td>rm</td>\n",
       "      <td>3363</td>\n",
       "      <td>pave</td>\n",
       "      <td>reg</td>\n",
       "      <td>lvl</td>\n",
       "      <td>inside</td>\n",
       "      <td>gtl</td>\n",
       "      <td>norm</td>\n",
       "      <td>norm</td>\n",
       "      <td>otro</td>\n",
       "      <td>2story</td>\n",
       "      <td>5</td>\n",
       "      <td>gable</td>\n",
       "      <td>compshg</td>\n",
       "      <td>otro</td>\n",
       "      <td>3</td>\n",
       "      <td>2</td>\n",
       "      <td>pconc</td>\n",
       "      <td>3.0</td>\n",
       "      <td>2.0</td>\n",
       "      <td>no</td>\n",
       "      <td>unf</td>\n",
       "      <td>0</td>\n",
       "      <td>unf</td>\n",
       "      <td>976</td>\n",
       "      <td>gasa</td>\n",
       "      <td>3</td>\n",
       "      <td>y</td>\n",
       "      <td>sbrkr</td>\n",
       "      <td>732</td>\n",
       "      <td>0</td>\n",
       "      <td>0</td>\n",
       "      <td>2</td>\n",
       "      <td>0</td>\n",
       "      <td>1</td>\n",
       "      <td>3</td>\n",
       "      <td>otro</td>\n",
       "      <td>0</td>\n",
       "      <td>detchd</td>\n",
       "      <td>unf</td>\n",
       "      <td>380</td>\n",
       "      <td>2.0</td>\n",
       "      <td>2.0</td>\n",
       "      <td>y</td>\n",
       "      <td>0</td>\n",
       "      <td>40</td>\n",
       "      <td>0</td>\n",
       "      <td>0</td>\n",
       "      <td>130000</td>\n",
       "    </tr>\n",
       "    <tr>\n",
       "      <th>191</th>\n",
       "      <td>rl</td>\n",
       "      <td>10400</td>\n",
       "      <td>pave</td>\n",
       "      <td>reg</td>\n",
       "      <td>lvl</td>\n",
       "      <td>inside</td>\n",
       "      <td>gtl</td>\n",
       "      <td>norm</td>\n",
       "      <td>norm</td>\n",
       "      <td>1fam</td>\n",
       "      <td>1story</td>\n",
       "      <td>5</td>\n",
       "      <td>gable</td>\n",
       "      <td>compshg</td>\n",
       "      <td>brkface</td>\n",
       "      <td>2</td>\n",
       "      <td>2</td>\n",
       "      <td>cblock</td>\n",
       "      <td>3.0</td>\n",
       "      <td>2.0</td>\n",
       "      <td>no</td>\n",
       "      <td>unf</td>\n",
       "      <td>0</td>\n",
       "      <td>unf</td>\n",
       "      <td>1090</td>\n",
       "      <td>gasa</td>\n",
       "      <td>2</td>\n",
       "      <td>y</td>\n",
       "      <td>sbrkr</td>\n",
       "      <td>0</td>\n",
       "      <td>0</td>\n",
       "      <td>0</td>\n",
       "      <td>2</td>\n",
       "      <td>0</td>\n",
       "      <td>1</td>\n",
       "      <td>2</td>\n",
       "      <td>typ</td>\n",
       "      <td>1</td>\n",
       "      <td>attchd</td>\n",
       "      <td>rfn</td>\n",
       "      <td>479</td>\n",
       "      <td>2.0</td>\n",
       "      <td>2.0</td>\n",
       "      <td>y</td>\n",
       "      <td>0</td>\n",
       "      <td>0</td>\n",
       "      <td>0</td>\n",
       "      <td>0</td>\n",
       "      <td>152000</td>\n",
       "    </tr>\n",
       "  </tbody>\n",
       "</table>\n",
       "<p>192 rows × 49 columns</p>\n",
       "</div>"
      ],
      "text/plain": [
       "    v_MSZoning  c_LotArea v_Street v_LotShape v_LandContour v_LotConfig  \\\n",
       "0           rl      13400     pave        reg           lvl      inside   \n",
       "1           rl      34650     pave        reg          otro      inside   \n",
       "2           rl       7200     pave        reg           lvl      inside   \n",
       "3           rl       8123     pave       otro           lvl      inside   \n",
       "4           rl       9858     pave        reg           lvl      inside   \n",
       "..         ...        ...      ...        ...           ...         ...   \n",
       "187         rl       8250     pave        reg           lvl      inside   \n",
       "188         rl       9600     pave        reg           lvl      inside   \n",
       "189         rl      14200     pave        reg           lvl      corner   \n",
       "190         rm       3363     pave        reg           lvl      inside   \n",
       "191         rl      10400     pave        reg           lvl      inside   \n",
       "\n",
       "    v_LandSlope v_Condition1 v_Condition2 v_BldgType v_HouseStyle  \\\n",
       "0           gtl         norm         norm       1fam         otro   \n",
       "1           gtl         norm         norm       otro       1story   \n",
       "2           gtl         norm         norm       1fam       1story   \n",
       "3           gtl         otro         norm       1fam       2story   \n",
       "4           gtl         norm         norm       1fam       1story   \n",
       "..          ...          ...          ...        ...          ...   \n",
       "187         gtl         otro         norm       1fam       1story   \n",
       "188         gtl         norm         norm       1fam       1story   \n",
       "189         gtl         norm         norm       1fam       2story   \n",
       "190         gtl         norm         norm       otro       2story   \n",
       "191         gtl         norm         norm       1fam       1story   \n",
       "\n",
       "    v_OverallCond v_RoofStyle v_RoofMatl v_MasVnrType  v_ExterQual  \\\n",
       "0               5       gable    compshg      brkface            2   \n",
       "1               5         hip    compshg         none            2   \n",
       "2               8       gable    compshg         none            2   \n",
       "3               5       gable    compshg      brkface            2   \n",
       "4               6       gable    compshg         none            2   \n",
       "..            ...         ...        ...          ...          ...   \n",
       "187             5         hip    compshg         none            2   \n",
       "188             5         hip    compshg      brkface            2   \n",
       "189             6       gable    compshg      brkface            2   \n",
       "190             5       gable    compshg         otro            3   \n",
       "191             5       gable    compshg      brkface            2   \n",
       "\n",
       "     v_ExterCond v_Foundation v_BsmtQual v_BsmtCond v_BsmtExposure  \\\n",
       "0              2       cblock        2.0        2.0           otro   \n",
       "1              2       cblock        2.0        2.0           otro   \n",
       "2              2       cblock        2.0        2.0             no   \n",
       "3              2        pconc        3.0        2.0             no   \n",
       "4              2       cblock        2.0        2.0             no   \n",
       "..           ...          ...        ...        ...            ...   \n",
       "187            2       cblock        2.0        2.0             no   \n",
       "188            2       cblock        2.0        2.0             no   \n",
       "189            2       cblock        2.0        2.0             no   \n",
       "190            2        pconc        3.0        2.0             no   \n",
       "191            2       cblock        3.0        2.0             no   \n",
       "\n",
       "    v_BsmtFinType1  c_BsmtFinSF1 v_BsmtFinType2  c_BsmtUnfSF v_Heating  \\\n",
       "0              alq           516           otro          380      gasa   \n",
       "1             otro          1056            unf            0      gasa   \n",
       "2              alq           398           otro          317      gasa   \n",
       "3              unf             0            unf          982      gasa   \n",
       "4             otro           510            unf          354      gasa   \n",
       "..             ...           ...            ...          ...       ...   \n",
       "187           otro           250           otro          210      gasa   \n",
       "188            unf             0            unf         1164      gasa   \n",
       "189           otro           445            unf          479      gasa   \n",
       "190            unf             0            unf          976      gasa   \n",
       "191            unf             0            unf         1090      gasa   \n",
       "\n",
       "     v_HeatingQC v_CentralAir v_Electrical  c_2ndFlrSF v_LowQualFinSF  \\\n",
       "0              2            y        sbrkr           0              0   \n",
       "1              2            n        sbrkr           0              0   \n",
       "2              3            y        sbrkr           0              0   \n",
       "3              3            y        sbrkr         793              0   \n",
       "4              2            y        sbrkr           0              0   \n",
       "..           ...          ...          ...         ...            ...   \n",
       "187            3            y        sbrkr           0              0   \n",
       "188            2            y        sbrkr           0              0   \n",
       "189            3            y        sbrkr         941              0   \n",
       "190            3            y        sbrkr         732              0   \n",
       "191            2            y        sbrkr           0              0   \n",
       "\n",
       "    v_BsmtHalfBath v_FullBath  c_HalfBath v_KitchenAbvGr  v_KitchenQual  \\\n",
       "0                0          1           0              1              2   \n",
       "1                0          1           0              1              2   \n",
       "2                0          1           0              1              3   \n",
       "3                0          2           1              1              2   \n",
       "4                0          1           0              1              2   \n",
       "..             ...        ...         ...            ...            ...   \n",
       "187              0          1           0              1              2   \n",
       "188              0          1           1              1              2   \n",
       "189              0          2           1              1              3   \n",
       "190              0          2           0              1              3   \n",
       "191              0          2           0              1              2   \n",
       "\n",
       "    v_Functional v_Fireplaces v_GarageType v_GarageFinish  c_GarageArea  \\\n",
       "0            typ            1       attchd            rfn           484   \n",
       "1            typ            0       attchd            fin           572   \n",
       "2            typ            0       detchd            rfn           720   \n",
       "3            typ            1       attchd            fin           463   \n",
       "4            typ            0       attchd            rfn           288   \n",
       "..           ...          ...          ...            ...           ...   \n",
       "187          typ            1       attchd            unf           322   \n",
       "188          typ            0       attchd            unf           528   \n",
       "189          typ            2       attchd            fin           487   \n",
       "190         otro            0       detchd            unf           380   \n",
       "191          typ            1       attchd            rfn           479   \n",
       "\n",
       "    v_GarageQual v_GarageCond v_PavedDrive  c_WoodDeckSF  c_OpenPorchSF  \\\n",
       "0            2.0          2.0            y             0              0   \n",
       "1            2.0          2.0            y           264              0   \n",
       "2            2.0          2.0            y           194              0   \n",
       "3            2.0          2.0            y           100             63   \n",
       "4            2.0          2.0            y            33              0   \n",
       "..           ...          ...          ...           ...            ...   \n",
       "187          2.0          2.0            y             0             63   \n",
       "188          2.0          2.0            y             0              0   \n",
       "189          2.0          2.0            y           105             66   \n",
       "190          2.0          2.0            y             0             40   \n",
       "191          2.0          2.0            y             0              0   \n",
       "\n",
       "     c_EnclosedPorch  c_MiscVal  tgt_SalePrice  \n",
       "0                  0          0         159950  \n",
       "1                  0          0         145000  \n",
       "2                  0          0         129000  \n",
       "3                  0          0         179000  \n",
       "4                  0        600         130000  \n",
       "..               ...        ...            ...  \n",
       "187                0          0         134000  \n",
       "188                0          0         140000  \n",
       "189                0          0         226000  \n",
       "190                0          0         130000  \n",
       "191                0          0         152000  \n",
       "\n",
       "[192 rows x 49 columns]"
      ]
     },
     "execution_count": 1108,
     "metadata": {},
     "output_type": "execute_result"
    }
   ],
   "source": [
    "X_test"
   ]
  },
  {
   "cell_type": "code",
   "execution_count": 1109,
   "metadata": {
    "ExecuteTime": {
     "end_time": "2021-08-21T17:42:28.885236Z",
     "start_time": "2021-08-21T17:42:28.768236Z"
    }
   },
   "outputs": [],
   "source": [
    "one=OneHotEncoder(drop=\"first\",handle_unknown =\"error\")\n",
    "#drop=\"first\"\n",
    "\n",
    "one.fit(X_train[dummy_vars])\n",
    "\n",
    "replace_name=dict(zip(list(map(lambda x:f\"x{str(x)}_\",range(len(dummy_vars)))),dummy_vars))\n",
    "\n",
    "features=one.get_feature_names()\n",
    "\n",
    "features=list(map(lambda x:multiple_replace(x, replace_name),features))\n",
    "\n",
    "X_train[features]=pd.DataFrame(one.transform(X_train[dummy_vars]).toarray(),columns=features)\n",
    "X_test[features]=pd.DataFrame(one.transform(X_test[dummy_vars]).toarray(),columns=features)\n",
    "\n",
    "X_train.drop(columns=dummy_vars,inplace=True)\n",
    "X_test.drop(columns=dummy_vars,inplace=True)"
   ]
  },
  {
   "cell_type": "code",
   "execution_count": 1110,
   "metadata": {
    "ExecuteTime": {
     "end_time": "2021-08-21T17:42:46.380904Z",
     "start_time": "2021-08-21T17:42:46.259877Z"
    },
    "scrolled": true
   },
   "outputs": [
    {
     "data": {
      "text/html": [
       "<div>\n",
       "<style scoped>\n",
       "    .dataframe tbody tr th:only-of-type {\n",
       "        vertical-align: middle;\n",
       "    }\n",
       "\n",
       "    .dataframe tbody tr th {\n",
       "        vertical-align: top;\n",
       "    }\n",
       "\n",
       "    .dataframe thead th {\n",
       "        text-align: right;\n",
       "    }\n",
       "</style>\n",
       "<table border=\"1\" class=\"dataframe\">\n",
       "  <thead>\n",
       "    <tr style=\"text-align: right;\">\n",
       "      <th></th>\n",
       "      <th>c_LotArea</th>\n",
       "      <th>v_ExterQual</th>\n",
       "      <th>v_ExterCond</th>\n",
       "      <th>v_BsmtQual</th>\n",
       "      <th>v_BsmtCond</th>\n",
       "      <th>c_BsmtFinSF1</th>\n",
       "      <th>c_BsmtUnfSF</th>\n",
       "      <th>v_HeatingQC</th>\n",
       "      <th>c_2ndFlrSF</th>\n",
       "      <th>v_LowQualFinSF</th>\n",
       "      <th>v_BsmtHalfBath</th>\n",
       "      <th>v_FullBath</th>\n",
       "      <th>c_HalfBath</th>\n",
       "      <th>v_KitchenAbvGr</th>\n",
       "      <th>v_KitchenQual</th>\n",
       "      <th>v_Fireplaces</th>\n",
       "      <th>c_GarageArea</th>\n",
       "      <th>v_GarageQual</th>\n",
       "      <th>v_GarageCond</th>\n",
       "      <th>c_WoodDeckSF</th>\n",
       "      <th>c_OpenPorchSF</th>\n",
       "      <th>c_EnclosedPorch</th>\n",
       "      <th>c_MiscVal</th>\n",
       "      <th>tgt_SalePrice</th>\n",
       "      <th>v_MSZoning_rl</th>\n",
       "      <th>v_MSZoning_rm</th>\n",
       "      <th>v_Street_pave</th>\n",
       "      <th>v_LotShape_reg</th>\n",
       "      <th>v_LandContour_otro</th>\n",
       "      <th>v_LotConfig_inside</th>\n",
       "      <th>v_LotConfig_otro</th>\n",
       "      <th>v_LandSlope_otro</th>\n",
       "      <th>v_Condition1_otro</th>\n",
       "      <th>v_Condition2_otro</th>\n",
       "      <th>v_BldgType_otro</th>\n",
       "      <th>v_HouseStyle_1story</th>\n",
       "      <th>v_HouseStyle_2story</th>\n",
       "      <th>v_HouseStyle_otro</th>\n",
       "      <th>v_RoofStyle_hip</th>\n",
       "      <th>v_RoofStyle_otro</th>\n",
       "      <th>v_MasVnrType_none</th>\n",
       "      <th>v_MasVnrType_otro</th>\n",
       "      <th>v_Foundation_otro</th>\n",
       "      <th>v_Foundation_pconc</th>\n",
       "      <th>v_BsmtExposure_otro</th>\n",
       "      <th>v_BsmtFinType1_glq</th>\n",
       "      <th>v_BsmtFinType1_otro</th>\n",
       "      <th>v_BsmtFinType1_unf</th>\n",
       "      <th>v_BsmtFinType2_unf</th>\n",
       "      <th>v_Heating_otro</th>\n",
       "      <th>v_CentralAir_y</th>\n",
       "      <th>v_Electrical_otro</th>\n",
       "      <th>v_Electrical_sbrkr</th>\n",
       "      <th>v_Functional_typ</th>\n",
       "      <th>v_GarageType_builtin</th>\n",
       "      <th>v_GarageType_detchd</th>\n",
       "      <th>v_GarageType_otro</th>\n",
       "      <th>v_GarageFinish_rfn</th>\n",
       "      <th>v_GarageFinish_unf</th>\n",
       "      <th>v_PavedDrive_p</th>\n",
       "      <th>v_PavedDrive_y</th>\n",
       "      <th>v_RoofMatl_otro</th>\n",
       "      <th>v_OverallCond_3</th>\n",
       "      <th>v_OverallCond_4</th>\n",
       "      <th>v_OverallCond_5</th>\n",
       "      <th>v_OverallCond_6</th>\n",
       "      <th>v_OverallCond_7</th>\n",
       "      <th>v_OverallCond_8</th>\n",
       "      <th>v_OverallCond_9</th>\n",
       "    </tr>\n",
       "  </thead>\n",
       "  <tbody>\n",
       "    <tr>\n",
       "      <th>0</th>\n",
       "      <td>8472.0</td>\n",
       "      <td>1</td>\n",
       "      <td>2</td>\n",
       "      <td>3.0</td>\n",
       "      <td>2.0</td>\n",
       "      <td>104.0</td>\n",
       "      <td>0.0</td>\n",
       "      <td>2</td>\n",
       "      <td>0.0</td>\n",
       "      <td>0</td>\n",
       "      <td>0</td>\n",
       "      <td>1</td>\n",
       "      <td>0.0</td>\n",
       "      <td>1</td>\n",
       "      <td>2</td>\n",
       "      <td>0</td>\n",
       "      <td>516.0</td>\n",
       "      <td>2.0</td>\n",
       "      <td>2.0</td>\n",
       "      <td>106.0</td>\n",
       "      <td>0.0</td>\n",
       "      <td>0.0</td>\n",
       "      <td>0.0</td>\n",
       "      <td>110000</td>\n",
       "      <td>0.0</td>\n",
       "      <td>1.0</td>\n",
       "      <td>0.0</td>\n",
       "      <td>0.0</td>\n",
       "      <td>1.0</td>\n",
       "      <td>0.0</td>\n",
       "      <td>0.0</td>\n",
       "      <td>1.0</td>\n",
       "      <td>1.0</td>\n",
       "      <td>0.0</td>\n",
       "      <td>1.0</td>\n",
       "      <td>1.0</td>\n",
       "      <td>0.0</td>\n",
       "      <td>0.0</td>\n",
       "      <td>0.0</td>\n",
       "      <td>0.0</td>\n",
       "      <td>1.0</td>\n",
       "      <td>0.0</td>\n",
       "      <td>0.0</td>\n",
       "      <td>0.0</td>\n",
       "      <td>1.0</td>\n",
       "      <td>0.0</td>\n",
       "      <td>1.0</td>\n",
       "      <td>0.0</td>\n",
       "      <td>0.0</td>\n",
       "      <td>0.0</td>\n",
       "      <td>0.0</td>\n",
       "      <td>0.0</td>\n",
       "      <td>1.0</td>\n",
       "      <td>1.0</td>\n",
       "      <td>0.0</td>\n",
       "      <td>0.0</td>\n",
       "      <td>1.0</td>\n",
       "      <td>0.0</td>\n",
       "      <td>1.0</td>\n",
       "      <td>0.0</td>\n",
       "      <td>1.0</td>\n",
       "      <td>0.0</td>\n",
       "      <td>0.0</td>\n",
       "      <td>0.0</td>\n",
       "      <td>1.0</td>\n",
       "      <td>0.0</td>\n",
       "      <td>0.0</td>\n",
       "      <td>0.0</td>\n",
       "      <td>0.0</td>\n",
       "    </tr>\n",
       "    <tr>\n",
       "      <th>1</th>\n",
       "      <td>6240.0</td>\n",
       "      <td>2</td>\n",
       "      <td>2</td>\n",
       "      <td>2.0</td>\n",
       "      <td>2.0</td>\n",
       "      <td>0.0</td>\n",
       "      <td>816.0</td>\n",
       "      <td>2</td>\n",
       "      <td>0.0</td>\n",
       "      <td>360</td>\n",
       "      <td>0</td>\n",
       "      <td>1</td>\n",
       "      <td>0.0</td>\n",
       "      <td>1</td>\n",
       "      <td>2</td>\n",
       "      <td>1</td>\n",
       "      <td>528.0</td>\n",
       "      <td>2.0</td>\n",
       "      <td>2.0</td>\n",
       "      <td>112.0</td>\n",
       "      <td>0.0</td>\n",
       "      <td>0.0</td>\n",
       "      <td>400.0</td>\n",
       "      <td>114500</td>\n",
       "      <td>0.0</td>\n",
       "      <td>1.0</td>\n",
       "      <td>1.0</td>\n",
       "      <td>1.0</td>\n",
       "      <td>0.0</td>\n",
       "      <td>1.0</td>\n",
       "      <td>0.0</td>\n",
       "      <td>0.0</td>\n",
       "      <td>0.0</td>\n",
       "      <td>0.0</td>\n",
       "      <td>0.0</td>\n",
       "      <td>0.0</td>\n",
       "      <td>0.0</td>\n",
       "      <td>0.0</td>\n",
       "      <td>0.0</td>\n",
       "      <td>0.0</td>\n",
       "      <td>1.0</td>\n",
       "      <td>0.0</td>\n",
       "      <td>0.0</td>\n",
       "      <td>1.0</td>\n",
       "      <td>0.0</td>\n",
       "      <td>0.0</td>\n",
       "      <td>0.0</td>\n",
       "      <td>1.0</td>\n",
       "      <td>1.0</td>\n",
       "      <td>0.0</td>\n",
       "      <td>1.0</td>\n",
       "      <td>0.0</td>\n",
       "      <td>1.0</td>\n",
       "      <td>1.0</td>\n",
       "      <td>0.0</td>\n",
       "      <td>1.0</td>\n",
       "      <td>0.0</td>\n",
       "      <td>0.0</td>\n",
       "      <td>1.0</td>\n",
       "      <td>0.0</td>\n",
       "      <td>1.0</td>\n",
       "      <td>0.0</td>\n",
       "      <td>0.0</td>\n",
       "      <td>0.0</td>\n",
       "      <td>0.0</td>\n",
       "      <td>1.0</td>\n",
       "      <td>0.0</td>\n",
       "      <td>0.0</td>\n",
       "      <td>0.0</td>\n",
       "    </tr>\n",
       "    <tr>\n",
       "      <th>2</th>\n",
       "      <td>2544.0</td>\n",
       "      <td>3</td>\n",
       "      <td>2</td>\n",
       "      <td>3.0</td>\n",
       "      <td>2.0</td>\n",
       "      <td>0.0</td>\n",
       "      <td>600.0</td>\n",
       "      <td>3</td>\n",
       "      <td>623.0</td>\n",
       "      <td>80</td>\n",
       "      <td>0</td>\n",
       "      <td>2</td>\n",
       "      <td>1.0</td>\n",
       "      <td>1</td>\n",
       "      <td>3</td>\n",
       "      <td>0</td>\n",
       "      <td>480.0</td>\n",
       "      <td>2.0</td>\n",
       "      <td>2.0</td>\n",
       "      <td>0.0</td>\n",
       "      <td>166.0</td>\n",
       "      <td>0.0</td>\n",
       "      <td>0.0</td>\n",
       "      <td>147400</td>\n",
       "      <td>0.0</td>\n",
       "      <td>0.0</td>\n",
       "      <td>1.0</td>\n",
       "      <td>1.0</td>\n",
       "      <td>0.0</td>\n",
       "      <td>1.0</td>\n",
       "      <td>0.0</td>\n",
       "      <td>0.0</td>\n",
       "      <td>0.0</td>\n",
       "      <td>0.0</td>\n",
       "      <td>1.0</td>\n",
       "      <td>0.0</td>\n",
       "      <td>1.0</td>\n",
       "      <td>0.0</td>\n",
       "      <td>0.0</td>\n",
       "      <td>0.0</td>\n",
       "      <td>1.0</td>\n",
       "      <td>0.0</td>\n",
       "      <td>0.0</td>\n",
       "      <td>1.0</td>\n",
       "      <td>0.0</td>\n",
       "      <td>0.0</td>\n",
       "      <td>0.0</td>\n",
       "      <td>1.0</td>\n",
       "      <td>1.0</td>\n",
       "      <td>0.0</td>\n",
       "      <td>1.0</td>\n",
       "      <td>0.0</td>\n",
       "      <td>1.0</td>\n",
       "      <td>1.0</td>\n",
       "      <td>0.0</td>\n",
       "      <td>1.0</td>\n",
       "      <td>0.0</td>\n",
       "      <td>1.0</td>\n",
       "      <td>0.0</td>\n",
       "      <td>0.0</td>\n",
       "      <td>1.0</td>\n",
       "      <td>0.0</td>\n",
       "      <td>0.0</td>\n",
       "      <td>0.0</td>\n",
       "      <td>1.0</td>\n",
       "      <td>0.0</td>\n",
       "      <td>0.0</td>\n",
       "      <td>0.0</td>\n",
       "      <td>0.0</td>\n",
       "    </tr>\n",
       "    <tr>\n",
       "      <th>3</th>\n",
       "      <td>11600.0</td>\n",
       "      <td>2</td>\n",
       "      <td>2</td>\n",
       "      <td>1.0</td>\n",
       "      <td>2.0</td>\n",
       "      <td>0.0</td>\n",
       "      <td>700.0</td>\n",
       "      <td>3</td>\n",
       "      <td>0.0</td>\n",
       "      <td>0</td>\n",
       "      <td>0</td>\n",
       "      <td>1</td>\n",
       "      <td>0.0</td>\n",
       "      <td>1</td>\n",
       "      <td>1</td>\n",
       "      <td>1</td>\n",
       "      <td>252.0</td>\n",
       "      <td>2.0</td>\n",
       "      <td>1.0</td>\n",
       "      <td>0.0</td>\n",
       "      <td>0.0</td>\n",
       "      <td>67.0</td>\n",
       "      <td>0.0</td>\n",
       "      <td>137500</td>\n",
       "      <td>1.0</td>\n",
       "      <td>0.0</td>\n",
       "      <td>1.0</td>\n",
       "      <td>1.0</td>\n",
       "      <td>0.0</td>\n",
       "      <td>1.0</td>\n",
       "      <td>0.0</td>\n",
       "      <td>0.0</td>\n",
       "      <td>0.0</td>\n",
       "      <td>0.0</td>\n",
       "      <td>0.0</td>\n",
       "      <td>1.0</td>\n",
       "      <td>0.0</td>\n",
       "      <td>0.0</td>\n",
       "      <td>0.0</td>\n",
       "      <td>0.0</td>\n",
       "      <td>1.0</td>\n",
       "      <td>0.0</td>\n",
       "      <td>1.0</td>\n",
       "      <td>0.0</td>\n",
       "      <td>0.0</td>\n",
       "      <td>0.0</td>\n",
       "      <td>0.0</td>\n",
       "      <td>1.0</td>\n",
       "      <td>1.0</td>\n",
       "      <td>0.0</td>\n",
       "      <td>1.0</td>\n",
       "      <td>0.0</td>\n",
       "      <td>1.0</td>\n",
       "      <td>1.0</td>\n",
       "      <td>0.0</td>\n",
       "      <td>1.0</td>\n",
       "      <td>0.0</td>\n",
       "      <td>0.0</td>\n",
       "      <td>1.0</td>\n",
       "      <td>0.0</td>\n",
       "      <td>1.0</td>\n",
       "      <td>0.0</td>\n",
       "      <td>0.0</td>\n",
       "      <td>0.0</td>\n",
       "      <td>1.0</td>\n",
       "      <td>0.0</td>\n",
       "      <td>0.0</td>\n",
       "      <td>0.0</td>\n",
       "      <td>0.0</td>\n",
       "    </tr>\n",
       "    <tr>\n",
       "      <th>4</th>\n",
       "      <td>9786.0</td>\n",
       "      <td>2</td>\n",
       "      <td>2</td>\n",
       "      <td>2.0</td>\n",
       "      <td>1.0</td>\n",
       "      <td>0.0</td>\n",
       "      <td>1007.0</td>\n",
       "      <td>1</td>\n",
       "      <td>0.0</td>\n",
       "      <td>0</td>\n",
       "      <td>0</td>\n",
       "      <td>1</td>\n",
       "      <td>0.0</td>\n",
       "      <td>1</td>\n",
       "      <td>2</td>\n",
       "      <td>1</td>\n",
       "      <td>210.0</td>\n",
       "      <td>2.0</td>\n",
       "      <td>1.0</td>\n",
       "      <td>0.0</td>\n",
       "      <td>100.0</td>\n",
       "      <td>48.0</td>\n",
       "      <td>0.0</td>\n",
       "      <td>91000</td>\n",
       "      <td>0.0</td>\n",
       "      <td>1.0</td>\n",
       "      <td>1.0</td>\n",
       "      <td>1.0</td>\n",
       "      <td>0.0</td>\n",
       "      <td>1.0</td>\n",
       "      <td>0.0</td>\n",
       "      <td>0.0</td>\n",
       "      <td>0.0</td>\n",
       "      <td>0.0</td>\n",
       "      <td>0.0</td>\n",
       "      <td>1.0</td>\n",
       "      <td>0.0</td>\n",
       "      <td>0.0</td>\n",
       "      <td>1.0</td>\n",
       "      <td>0.0</td>\n",
       "      <td>1.0</td>\n",
       "      <td>0.0</td>\n",
       "      <td>1.0</td>\n",
       "      <td>0.0</td>\n",
       "      <td>0.0</td>\n",
       "      <td>0.0</td>\n",
       "      <td>0.0</td>\n",
       "      <td>1.0</td>\n",
       "      <td>1.0</td>\n",
       "      <td>0.0</td>\n",
       "      <td>0.0</td>\n",
       "      <td>0.0</td>\n",
       "      <td>1.0</td>\n",
       "      <td>1.0</td>\n",
       "      <td>0.0</td>\n",
       "      <td>1.0</td>\n",
       "      <td>0.0</td>\n",
       "      <td>0.0</td>\n",
       "      <td>1.0</td>\n",
       "      <td>1.0</td>\n",
       "      <td>0.0</td>\n",
       "      <td>0.0</td>\n",
       "      <td>0.0</td>\n",
       "      <td>1.0</td>\n",
       "      <td>0.0</td>\n",
       "      <td>0.0</td>\n",
       "      <td>0.0</td>\n",
       "      <td>0.0</td>\n",
       "      <td>0.0</td>\n",
       "    </tr>\n",
       "    <tr>\n",
       "      <th>...</th>\n",
       "      <td>...</td>\n",
       "      <td>...</td>\n",
       "      <td>...</td>\n",
       "      <td>...</td>\n",
       "      <td>...</td>\n",
       "      <td>...</td>\n",
       "      <td>...</td>\n",
       "      <td>...</td>\n",
       "      <td>...</td>\n",
       "      <td>...</td>\n",
       "      <td>...</td>\n",
       "      <td>...</td>\n",
       "      <td>...</td>\n",
       "      <td>...</td>\n",
       "      <td>...</td>\n",
       "      <td>...</td>\n",
       "      <td>...</td>\n",
       "      <td>...</td>\n",
       "      <td>...</td>\n",
       "      <td>...</td>\n",
       "      <td>...</td>\n",
       "      <td>...</td>\n",
       "      <td>...</td>\n",
       "      <td>...</td>\n",
       "      <td>...</td>\n",
       "      <td>...</td>\n",
       "      <td>...</td>\n",
       "      <td>...</td>\n",
       "      <td>...</td>\n",
       "      <td>...</td>\n",
       "      <td>...</td>\n",
       "      <td>...</td>\n",
       "      <td>...</td>\n",
       "      <td>...</td>\n",
       "      <td>...</td>\n",
       "      <td>...</td>\n",
       "      <td>...</td>\n",
       "      <td>...</td>\n",
       "      <td>...</td>\n",
       "      <td>...</td>\n",
       "      <td>...</td>\n",
       "      <td>...</td>\n",
       "      <td>...</td>\n",
       "      <td>...</td>\n",
       "      <td>...</td>\n",
       "      <td>...</td>\n",
       "      <td>...</td>\n",
       "      <td>...</td>\n",
       "      <td>...</td>\n",
       "      <td>...</td>\n",
       "      <td>...</td>\n",
       "      <td>...</td>\n",
       "      <td>...</td>\n",
       "      <td>...</td>\n",
       "      <td>...</td>\n",
       "      <td>...</td>\n",
       "      <td>...</td>\n",
       "      <td>...</td>\n",
       "      <td>...</td>\n",
       "      <td>...</td>\n",
       "      <td>...</td>\n",
       "      <td>...</td>\n",
       "      <td>...</td>\n",
       "      <td>...</td>\n",
       "      <td>...</td>\n",
       "      <td>...</td>\n",
       "      <td>...</td>\n",
       "      <td>...</td>\n",
       "      <td>...</td>\n",
       "    </tr>\n",
       "    <tr>\n",
       "      <th>759</th>\n",
       "      <td>10592.0</td>\n",
       "      <td>2</td>\n",
       "      <td>3</td>\n",
       "      <td>2.0</td>\n",
       "      <td>1.0</td>\n",
       "      <td>0.0</td>\n",
       "      <td>602.0</td>\n",
       "      <td>2</td>\n",
       "      <td>602.0</td>\n",
       "      <td>0</td>\n",
       "      <td>0</td>\n",
       "      <td>1</td>\n",
       "      <td>1.0</td>\n",
       "      <td>1</td>\n",
       "      <td>3</td>\n",
       "      <td>2</td>\n",
       "      <td>180.0</td>\n",
       "      <td>2.0</td>\n",
       "      <td>2.0</td>\n",
       "      <td>96.0</td>\n",
       "      <td>0.0</td>\n",
       "      <td>112.0</td>\n",
       "      <td>0.0</td>\n",
       "      <td>165000</td>\n",
       "      <td>1.0</td>\n",
       "      <td>0.0</td>\n",
       "      <td>1.0</td>\n",
       "      <td>1.0</td>\n",
       "      <td>0.0</td>\n",
       "      <td>1.0</td>\n",
       "      <td>0.0</td>\n",
       "      <td>0.0</td>\n",
       "      <td>0.0</td>\n",
       "      <td>0.0</td>\n",
       "      <td>0.0</td>\n",
       "      <td>0.0</td>\n",
       "      <td>1.0</td>\n",
       "      <td>0.0</td>\n",
       "      <td>1.0</td>\n",
       "      <td>0.0</td>\n",
       "      <td>1.0</td>\n",
       "      <td>0.0</td>\n",
       "      <td>0.0</td>\n",
       "      <td>1.0</td>\n",
       "      <td>0.0</td>\n",
       "      <td>0.0</td>\n",
       "      <td>0.0</td>\n",
       "      <td>1.0</td>\n",
       "      <td>1.0</td>\n",
       "      <td>0.0</td>\n",
       "      <td>1.0</td>\n",
       "      <td>0.0</td>\n",
       "      <td>1.0</td>\n",
       "      <td>1.0</td>\n",
       "      <td>0.0</td>\n",
       "      <td>1.0</td>\n",
       "      <td>0.0</td>\n",
       "      <td>0.0</td>\n",
       "      <td>1.0</td>\n",
       "      <td>0.0</td>\n",
       "      <td>1.0</td>\n",
       "      <td>0.0</td>\n",
       "      <td>0.0</td>\n",
       "      <td>0.0</td>\n",
       "      <td>0.0</td>\n",
       "      <td>0.0</td>\n",
       "      <td>1.0</td>\n",
       "      <td>0.0</td>\n",
       "      <td>0.0</td>\n",
       "    </tr>\n",
       "    <tr>\n",
       "      <th>760</th>\n",
       "      <td>8750.0</td>\n",
       "      <td>2</td>\n",
       "      <td>2</td>\n",
       "      <td>3.0</td>\n",
       "      <td>2.0</td>\n",
       "      <td>505.0</td>\n",
       "      <td>299.0</td>\n",
       "      <td>3</td>\n",
       "      <td>878.0</td>\n",
       "      <td>0</td>\n",
       "      <td>0</td>\n",
       "      <td>2</td>\n",
       "      <td>1.0</td>\n",
       "      <td>1</td>\n",
       "      <td>3</td>\n",
       "      <td>0</td>\n",
       "      <td>523.0</td>\n",
       "      <td>2.0</td>\n",
       "      <td>2.0</td>\n",
       "      <td>0.0</td>\n",
       "      <td>77.0</td>\n",
       "      <td>0.0</td>\n",
       "      <td>0.0</td>\n",
       "      <td>200500</td>\n",
       "      <td>1.0</td>\n",
       "      <td>0.0</td>\n",
       "      <td>1.0</td>\n",
       "      <td>1.0</td>\n",
       "      <td>0.0</td>\n",
       "      <td>1.0</td>\n",
       "      <td>0.0</td>\n",
       "      <td>0.0</td>\n",
       "      <td>0.0</td>\n",
       "      <td>0.0</td>\n",
       "      <td>0.0</td>\n",
       "      <td>0.0</td>\n",
       "      <td>1.0</td>\n",
       "      <td>0.0</td>\n",
       "      <td>0.0</td>\n",
       "      <td>0.0</td>\n",
       "      <td>0.0</td>\n",
       "      <td>0.0</td>\n",
       "      <td>0.0</td>\n",
       "      <td>1.0</td>\n",
       "      <td>0.0</td>\n",
       "      <td>1.0</td>\n",
       "      <td>0.0</td>\n",
       "      <td>0.0</td>\n",
       "      <td>1.0</td>\n",
       "      <td>0.0</td>\n",
       "      <td>1.0</td>\n",
       "      <td>0.0</td>\n",
       "      <td>1.0</td>\n",
       "      <td>1.0</td>\n",
       "      <td>0.0</td>\n",
       "      <td>0.0</td>\n",
       "      <td>0.0</td>\n",
       "      <td>1.0</td>\n",
       "      <td>0.0</td>\n",
       "      <td>0.0</td>\n",
       "      <td>1.0</td>\n",
       "      <td>0.0</td>\n",
       "      <td>0.0</td>\n",
       "      <td>0.0</td>\n",
       "      <td>1.0</td>\n",
       "      <td>0.0</td>\n",
       "      <td>0.0</td>\n",
       "      <td>0.0</td>\n",
       "      <td>0.0</td>\n",
       "    </tr>\n",
       "    <tr>\n",
       "      <th>761</th>\n",
       "      <td>10205.0</td>\n",
       "      <td>2</td>\n",
       "      <td>2</td>\n",
       "      <td>2.0</td>\n",
       "      <td>2.0</td>\n",
       "      <td>784.0</td>\n",
       "      <td>141.0</td>\n",
       "      <td>2</td>\n",
       "      <td>0.0</td>\n",
       "      <td>0</td>\n",
       "      <td>0</td>\n",
       "      <td>1</td>\n",
       "      <td>0.0</td>\n",
       "      <td>1</td>\n",
       "      <td>2</td>\n",
       "      <td>0</td>\n",
       "      <td>300.0</td>\n",
       "      <td>2.0</td>\n",
       "      <td>2.0</td>\n",
       "      <td>150.0</td>\n",
       "      <td>72.0</td>\n",
       "      <td>0.0</td>\n",
       "      <td>0.0</td>\n",
       "      <td>134500</td>\n",
       "      <td>1.0</td>\n",
       "      <td>0.0</td>\n",
       "      <td>1.0</td>\n",
       "      <td>0.0</td>\n",
       "      <td>0.0</td>\n",
       "      <td>1.0</td>\n",
       "      <td>0.0</td>\n",
       "      <td>0.0</td>\n",
       "      <td>0.0</td>\n",
       "      <td>0.0</td>\n",
       "      <td>0.0</td>\n",
       "      <td>0.0</td>\n",
       "      <td>0.0</td>\n",
       "      <td>1.0</td>\n",
       "      <td>0.0</td>\n",
       "      <td>0.0</td>\n",
       "      <td>1.0</td>\n",
       "      <td>0.0</td>\n",
       "      <td>0.0</td>\n",
       "      <td>0.0</td>\n",
       "      <td>1.0</td>\n",
       "      <td>0.0</td>\n",
       "      <td>1.0</td>\n",
       "      <td>0.0</td>\n",
       "      <td>1.0</td>\n",
       "      <td>0.0</td>\n",
       "      <td>1.0</td>\n",
       "      <td>0.0</td>\n",
       "      <td>1.0</td>\n",
       "      <td>1.0</td>\n",
       "      <td>0.0</td>\n",
       "      <td>0.0</td>\n",
       "      <td>0.0</td>\n",
       "      <td>0.0</td>\n",
       "      <td>1.0</td>\n",
       "      <td>0.0</td>\n",
       "      <td>1.0</td>\n",
       "      <td>0.0</td>\n",
       "      <td>0.0</td>\n",
       "      <td>0.0</td>\n",
       "      <td>1.0</td>\n",
       "      <td>0.0</td>\n",
       "      <td>0.0</td>\n",
       "      <td>0.0</td>\n",
       "      <td>0.0</td>\n",
       "    </tr>\n",
       "    <tr>\n",
       "      <th>762</th>\n",
       "      <td>8935.0</td>\n",
       "      <td>3</td>\n",
       "      <td>2</td>\n",
       "      <td>3.0</td>\n",
       "      <td>2.0</td>\n",
       "      <td>0.0</td>\n",
       "      <td>831.0</td>\n",
       "      <td>3</td>\n",
       "      <td>829.0</td>\n",
       "      <td>0</td>\n",
       "      <td>0</td>\n",
       "      <td>2</td>\n",
       "      <td>1.0</td>\n",
       "      <td>1</td>\n",
       "      <td>3</td>\n",
       "      <td>0</td>\n",
       "      <td>493.0</td>\n",
       "      <td>2.0</td>\n",
       "      <td>2.0</td>\n",
       "      <td>144.0</td>\n",
       "      <td>68.0</td>\n",
       "      <td>0.0</td>\n",
       "      <td>0.0</td>\n",
       "      <td>195000</td>\n",
       "      <td>1.0</td>\n",
       "      <td>0.0</td>\n",
       "      <td>1.0</td>\n",
       "      <td>0.0</td>\n",
       "      <td>0.0</td>\n",
       "      <td>1.0</td>\n",
       "      <td>0.0</td>\n",
       "      <td>0.0</td>\n",
       "      <td>0.0</td>\n",
       "      <td>0.0</td>\n",
       "      <td>0.0</td>\n",
       "      <td>0.0</td>\n",
       "      <td>1.0</td>\n",
       "      <td>0.0</td>\n",
       "      <td>0.0</td>\n",
       "      <td>0.0</td>\n",
       "      <td>0.0</td>\n",
       "      <td>0.0</td>\n",
       "      <td>0.0</td>\n",
       "      <td>1.0</td>\n",
       "      <td>0.0</td>\n",
       "      <td>0.0</td>\n",
       "      <td>0.0</td>\n",
       "      <td>1.0</td>\n",
       "      <td>1.0</td>\n",
       "      <td>0.0</td>\n",
       "      <td>1.0</td>\n",
       "      <td>0.0</td>\n",
       "      <td>1.0</td>\n",
       "      <td>1.0</td>\n",
       "      <td>0.0</td>\n",
       "      <td>0.0</td>\n",
       "      <td>0.0</td>\n",
       "      <td>1.0</td>\n",
       "      <td>0.0</td>\n",
       "      <td>0.0</td>\n",
       "      <td>1.0</td>\n",
       "      <td>0.0</td>\n",
       "      <td>0.0</td>\n",
       "      <td>0.0</td>\n",
       "      <td>1.0</td>\n",
       "      <td>0.0</td>\n",
       "      <td>0.0</td>\n",
       "      <td>0.0</td>\n",
       "      <td>0.0</td>\n",
       "    </tr>\n",
       "    <tr>\n",
       "      <th>763</th>\n",
       "      <td>9320.0</td>\n",
       "      <td>2</td>\n",
       "      <td>2</td>\n",
       "      <td>2.0</td>\n",
       "      <td>2.0</td>\n",
       "      <td>569.0</td>\n",
       "      <td>381.0</td>\n",
       "      <td>1</td>\n",
       "      <td>0.0</td>\n",
       "      <td>0</td>\n",
       "      <td>0</td>\n",
       "      <td>1</td>\n",
       "      <td>1.0</td>\n",
       "      <td>1</td>\n",
       "      <td>2</td>\n",
       "      <td>0</td>\n",
       "      <td>0.0</td>\n",
       "      <td>2.0</td>\n",
       "      <td>2.0</td>\n",
       "      <td>352.0</td>\n",
       "      <td>0.0</td>\n",
       "      <td>0.0</td>\n",
       "      <td>400.0</td>\n",
       "      <td>128950</td>\n",
       "      <td>1.0</td>\n",
       "      <td>0.0</td>\n",
       "      <td>1.0</td>\n",
       "      <td>0.0</td>\n",
       "      <td>0.0</td>\n",
       "      <td>1.0</td>\n",
       "      <td>0.0</td>\n",
       "      <td>0.0</td>\n",
       "      <td>0.0</td>\n",
       "      <td>0.0</td>\n",
       "      <td>0.0</td>\n",
       "      <td>1.0</td>\n",
       "      <td>0.0</td>\n",
       "      <td>0.0</td>\n",
       "      <td>0.0</td>\n",
       "      <td>0.0</td>\n",
       "      <td>1.0</td>\n",
       "      <td>0.0</td>\n",
       "      <td>0.0</td>\n",
       "      <td>0.0</td>\n",
       "      <td>0.0</td>\n",
       "      <td>0.0</td>\n",
       "      <td>0.0</td>\n",
       "      <td>0.0</td>\n",
       "      <td>1.0</td>\n",
       "      <td>0.0</td>\n",
       "      <td>1.0</td>\n",
       "      <td>0.0</td>\n",
       "      <td>1.0</td>\n",
       "      <td>1.0</td>\n",
       "      <td>0.0</td>\n",
       "      <td>0.0</td>\n",
       "      <td>0.0</td>\n",
       "      <td>0.0</td>\n",
       "      <td>1.0</td>\n",
       "      <td>0.0</td>\n",
       "      <td>1.0</td>\n",
       "      <td>0.0</td>\n",
       "      <td>0.0</td>\n",
       "      <td>0.0</td>\n",
       "      <td>1.0</td>\n",
       "      <td>0.0</td>\n",
       "      <td>0.0</td>\n",
       "      <td>0.0</td>\n",
       "      <td>0.0</td>\n",
       "    </tr>\n",
       "  </tbody>\n",
       "</table>\n",
       "<p>764 rows × 69 columns</p>\n",
       "</div>"
      ],
      "text/plain": [
       "     c_LotArea  v_ExterQual  v_ExterCond v_BsmtQual v_BsmtCond  c_BsmtFinSF1  \\\n",
       "0       8472.0            1            2        3.0        2.0         104.0   \n",
       "1       6240.0            2            2        2.0        2.0           0.0   \n",
       "2       2544.0            3            2        3.0        2.0           0.0   \n",
       "3      11600.0            2            2        1.0        2.0           0.0   \n",
       "4       9786.0            2            2        2.0        1.0           0.0   \n",
       "..         ...          ...          ...        ...        ...           ...   \n",
       "759    10592.0            2            3        2.0        1.0           0.0   \n",
       "760     8750.0            2            2        3.0        2.0         505.0   \n",
       "761    10205.0            2            2        2.0        2.0         784.0   \n",
       "762     8935.0            3            2        3.0        2.0           0.0   \n",
       "763     9320.0            2            2        2.0        2.0         569.0   \n",
       "\n",
       "     c_BsmtUnfSF  v_HeatingQC  c_2ndFlrSF v_LowQualFinSF v_BsmtHalfBath  \\\n",
       "0            0.0            2         0.0              0              0   \n",
       "1          816.0            2         0.0            360              0   \n",
       "2          600.0            3       623.0             80              0   \n",
       "3          700.0            3         0.0              0              0   \n",
       "4         1007.0            1         0.0              0              0   \n",
       "..           ...          ...         ...            ...            ...   \n",
       "759        602.0            2       602.0              0              0   \n",
       "760        299.0            3       878.0              0              0   \n",
       "761        141.0            2         0.0              0              0   \n",
       "762        831.0            3       829.0              0              0   \n",
       "763        381.0            1         0.0              0              0   \n",
       "\n",
       "    v_FullBath  c_HalfBath v_KitchenAbvGr  v_KitchenQual v_Fireplaces  \\\n",
       "0            1         0.0              1              2            0   \n",
       "1            1         0.0              1              2            1   \n",
       "2            2         1.0              1              3            0   \n",
       "3            1         0.0              1              1            1   \n",
       "4            1         0.0              1              2            1   \n",
       "..         ...         ...            ...            ...          ...   \n",
       "759          1         1.0              1              3            2   \n",
       "760          2         1.0              1              3            0   \n",
       "761          1         0.0              1              2            0   \n",
       "762          2         1.0              1              3            0   \n",
       "763          1         1.0              1              2            0   \n",
       "\n",
       "     c_GarageArea v_GarageQual v_GarageCond  c_WoodDeckSF  c_OpenPorchSF  \\\n",
       "0           516.0          2.0          2.0         106.0            0.0   \n",
       "1           528.0          2.0          2.0         112.0            0.0   \n",
       "2           480.0          2.0          2.0           0.0          166.0   \n",
       "3           252.0          2.0          1.0           0.0            0.0   \n",
       "4           210.0          2.0          1.0           0.0          100.0   \n",
       "..            ...          ...          ...           ...            ...   \n",
       "759         180.0          2.0          2.0          96.0            0.0   \n",
       "760         523.0          2.0          2.0           0.0           77.0   \n",
       "761         300.0          2.0          2.0         150.0           72.0   \n",
       "762         493.0          2.0          2.0         144.0           68.0   \n",
       "763           0.0          2.0          2.0         352.0            0.0   \n",
       "\n",
       "     c_EnclosedPorch  c_MiscVal  tgt_SalePrice  v_MSZoning_rl  v_MSZoning_rm  \\\n",
       "0                0.0        0.0         110000            0.0            1.0   \n",
       "1                0.0      400.0         114500            0.0            1.0   \n",
       "2                0.0        0.0         147400            0.0            0.0   \n",
       "3               67.0        0.0         137500            1.0            0.0   \n",
       "4               48.0        0.0          91000            0.0            1.0   \n",
       "..               ...        ...            ...            ...            ...   \n",
       "759            112.0        0.0         165000            1.0            0.0   \n",
       "760              0.0        0.0         200500            1.0            0.0   \n",
       "761              0.0        0.0         134500            1.0            0.0   \n",
       "762              0.0        0.0         195000            1.0            0.0   \n",
       "763              0.0      400.0         128950            1.0            0.0   \n",
       "\n",
       "     v_Street_pave  v_LotShape_reg  v_LandContour_otro  v_LotConfig_inside  \\\n",
       "0              0.0             0.0                 1.0                 0.0   \n",
       "1              1.0             1.0                 0.0                 1.0   \n",
       "2              1.0             1.0                 0.0                 1.0   \n",
       "3              1.0             1.0                 0.0                 1.0   \n",
       "4              1.0             1.0                 0.0                 1.0   \n",
       "..             ...             ...                 ...                 ...   \n",
       "759            1.0             1.0                 0.0                 1.0   \n",
       "760            1.0             1.0                 0.0                 1.0   \n",
       "761            1.0             0.0                 0.0                 1.0   \n",
       "762            1.0             0.0                 0.0                 1.0   \n",
       "763            1.0             0.0                 0.0                 1.0   \n",
       "\n",
       "     v_LotConfig_otro  v_LandSlope_otro  v_Condition1_otro  v_Condition2_otro  \\\n",
       "0                 0.0               1.0                1.0                0.0   \n",
       "1                 0.0               0.0                0.0                0.0   \n",
       "2                 0.0               0.0                0.0                0.0   \n",
       "3                 0.0               0.0                0.0                0.0   \n",
       "4                 0.0               0.0                0.0                0.0   \n",
       "..                ...               ...                ...                ...   \n",
       "759               0.0               0.0                0.0                0.0   \n",
       "760               0.0               0.0                0.0                0.0   \n",
       "761               0.0               0.0                0.0                0.0   \n",
       "762               0.0               0.0                0.0                0.0   \n",
       "763               0.0               0.0                0.0                0.0   \n",
       "\n",
       "     v_BldgType_otro  v_HouseStyle_1story  v_HouseStyle_2story  \\\n",
       "0                1.0                  1.0                  0.0   \n",
       "1                0.0                  0.0                  0.0   \n",
       "2                1.0                  0.0                  1.0   \n",
       "3                0.0                  1.0                  0.0   \n",
       "4                0.0                  1.0                  0.0   \n",
       "..               ...                  ...                  ...   \n",
       "759              0.0                  0.0                  1.0   \n",
       "760              0.0                  0.0                  1.0   \n",
       "761              0.0                  0.0                  0.0   \n",
       "762              0.0                  0.0                  1.0   \n",
       "763              0.0                  1.0                  0.0   \n",
       "\n",
       "     v_HouseStyle_otro  v_RoofStyle_hip  v_RoofStyle_otro  v_MasVnrType_none  \\\n",
       "0                  0.0              0.0               0.0                1.0   \n",
       "1                  0.0              0.0               0.0                1.0   \n",
       "2                  0.0              0.0               0.0                1.0   \n",
       "3                  0.0              0.0               0.0                1.0   \n",
       "4                  0.0              1.0               0.0                1.0   \n",
       "..                 ...              ...               ...                ...   \n",
       "759                0.0              1.0               0.0                1.0   \n",
       "760                0.0              0.0               0.0                0.0   \n",
       "761                1.0              0.0               0.0                1.0   \n",
       "762                0.0              0.0               0.0                0.0   \n",
       "763                0.0              0.0               0.0                1.0   \n",
       "\n",
       "     v_MasVnrType_otro  v_Foundation_otro  v_Foundation_pconc  \\\n",
       "0                  0.0                0.0                 0.0   \n",
       "1                  0.0                0.0                 1.0   \n",
       "2                  0.0                0.0                 1.0   \n",
       "3                  0.0                1.0                 0.0   \n",
       "4                  0.0                1.0                 0.0   \n",
       "..                 ...                ...                 ...   \n",
       "759                0.0                0.0                 1.0   \n",
       "760                0.0                0.0                 1.0   \n",
       "761                0.0                0.0                 0.0   \n",
       "762                0.0                0.0                 1.0   \n",
       "763                0.0                0.0                 0.0   \n",
       "\n",
       "     v_BsmtExposure_otro  v_BsmtFinType1_glq  v_BsmtFinType1_otro  \\\n",
       "0                    1.0                 0.0                  1.0   \n",
       "1                    0.0                 0.0                  0.0   \n",
       "2                    0.0                 0.0                  0.0   \n",
       "3                    0.0                 0.0                  0.0   \n",
       "4                    0.0                 0.0                  0.0   \n",
       "..                   ...                 ...                  ...   \n",
       "759                  0.0                 0.0                  0.0   \n",
       "760                  0.0                 1.0                  0.0   \n",
       "761                  1.0                 0.0                  1.0   \n",
       "762                  0.0                 0.0                  0.0   \n",
       "763                  0.0                 0.0                  0.0   \n",
       "\n",
       "     v_BsmtFinType1_unf  v_BsmtFinType2_unf  v_Heating_otro  v_CentralAir_y  \\\n",
       "0                   0.0                 0.0             0.0             0.0   \n",
       "1                   1.0                 1.0             0.0             1.0   \n",
       "2                   1.0                 1.0             0.0             1.0   \n",
       "3                   1.0                 1.0             0.0             1.0   \n",
       "4                   1.0                 1.0             0.0             0.0   \n",
       "..                  ...                 ...             ...             ...   \n",
       "759                 1.0                 1.0             0.0             1.0   \n",
       "760                 0.0                 1.0             0.0             1.0   \n",
       "761                 0.0                 1.0             0.0             1.0   \n",
       "762                 1.0                 1.0             0.0             1.0   \n",
       "763                 0.0                 1.0             0.0             1.0   \n",
       "\n",
       "     v_Electrical_otro  v_Electrical_sbrkr  v_Functional_typ  \\\n",
       "0                  0.0                 1.0               1.0   \n",
       "1                  0.0                 1.0               1.0   \n",
       "2                  0.0                 1.0               1.0   \n",
       "3                  0.0                 1.0               1.0   \n",
       "4                  0.0                 1.0               1.0   \n",
       "..                 ...                 ...               ...   \n",
       "759                0.0                 1.0               1.0   \n",
       "760                0.0                 1.0               1.0   \n",
       "761                0.0                 1.0               1.0   \n",
       "762                0.0                 1.0               1.0   \n",
       "763                0.0                 1.0               1.0   \n",
       "\n",
       "     v_GarageType_builtin  v_GarageType_detchd  v_GarageType_otro  \\\n",
       "0                     0.0                  0.0                1.0   \n",
       "1                     0.0                  1.0                0.0   \n",
       "2                     0.0                  1.0                0.0   \n",
       "3                     0.0                  1.0                0.0   \n",
       "4                     0.0                  1.0                0.0   \n",
       "..                    ...                  ...                ...   \n",
       "759                   0.0                  1.0                0.0   \n",
       "760                   0.0                  0.0                0.0   \n",
       "761                   0.0                  0.0                0.0   \n",
       "762                   0.0                  0.0                0.0   \n",
       "763                   0.0                  0.0                0.0   \n",
       "\n",
       "     v_GarageFinish_rfn  v_GarageFinish_unf  v_PavedDrive_p  v_PavedDrive_y  \\\n",
       "0                   0.0                 1.0             0.0             1.0   \n",
       "1                   0.0                 1.0             0.0             1.0   \n",
       "2                   1.0                 0.0             0.0             1.0   \n",
       "3                   0.0                 1.0             0.0             1.0   \n",
       "4                   0.0                 1.0             1.0             0.0   \n",
       "..                  ...                 ...             ...             ...   \n",
       "759                 0.0                 1.0             0.0             1.0   \n",
       "760                 1.0                 0.0             0.0             1.0   \n",
       "761                 0.0                 1.0             0.0             1.0   \n",
       "762                 1.0                 0.0             0.0             1.0   \n",
       "763                 0.0                 1.0             0.0             1.0   \n",
       "\n",
       "     v_RoofMatl_otro  v_OverallCond_3  v_OverallCond_4  v_OverallCond_5  \\\n",
       "0                0.0              0.0              0.0              1.0   \n",
       "1                0.0              0.0              0.0              0.0   \n",
       "2                0.0              0.0              0.0              1.0   \n",
       "3                0.0              0.0              0.0              1.0   \n",
       "4                0.0              0.0              1.0              0.0   \n",
       "..               ...              ...              ...              ...   \n",
       "759              0.0              0.0              0.0              0.0   \n",
       "760              0.0              0.0              0.0              1.0   \n",
       "761              0.0              0.0              0.0              1.0   \n",
       "762              0.0              0.0              0.0              1.0   \n",
       "763              0.0              0.0              0.0              1.0   \n",
       "\n",
       "     v_OverallCond_6  v_OverallCond_7  v_OverallCond_8  v_OverallCond_9  \n",
       "0                0.0              0.0              0.0              0.0  \n",
       "1                1.0              0.0              0.0              0.0  \n",
       "2                0.0              0.0              0.0              0.0  \n",
       "3                0.0              0.0              0.0              0.0  \n",
       "4                0.0              0.0              0.0              0.0  \n",
       "..               ...              ...              ...              ...  \n",
       "759              0.0              1.0              0.0              0.0  \n",
       "760              0.0              0.0              0.0              0.0  \n",
       "761              0.0              0.0              0.0              0.0  \n",
       "762              0.0              0.0              0.0              0.0  \n",
       "763              0.0              0.0              0.0              0.0  \n",
       "\n",
       "[764 rows x 69 columns]"
      ]
     },
     "execution_count": 1110,
     "metadata": {},
     "output_type": "execute_result"
    }
   ],
   "source": [
    "X_train"
   ]
  },
  {
   "cell_type": "markdown",
   "metadata": {},
   "source": [
    "### PCA"
   ]
  },
  {
   "cell_type": "code",
   "execution_count": 1111,
   "metadata": {
    "ExecuteTime": {
     "end_time": "2021-08-21T17:43:32.743636Z",
     "start_time": "2021-08-21T17:43:32.727637Z"
    }
   },
   "outputs": [],
   "source": [
    "from sklearn.decomposition import PCA\n",
    "from sklearn.preprocessing import StandardScaler"
   ]
  },
  {
   "cell_type": "markdown",
   "metadata": {},
   "source": [
    "**Necesitamos normalizar los datos antes del análisis de componentes principales (PCA)**\n",
    "- El PCA calcula una nueva proyección de su conjunto de datos. Y el nuevo eje se basa en la desviación estándar de sus variables. Por tanto, una variable con una desviación estándar alta tendrá un peso mayor para el cálculo del eje que una variable con una desviación estándar baja. Si normaliza sus datos, todas las variables tienen la misma desviación estándar, por lo que todas las variables tienen el mismo peso y su PCA calcula el eje relevante."
   ]
  },
  {
   "cell_type": "code",
   "execution_count": 1112,
   "metadata": {
    "ExecuteTime": {
     "end_time": "2021-08-21T17:43:35.825873Z",
     "start_time": "2021-08-21T17:43:35.798932Z"
    }
   },
   "outputs": [
    {
     "data": {
      "text/html": [
       "<div>\n",
       "<style scoped>\n",
       "    .dataframe tbody tr th:only-of-type {\n",
       "        vertical-align: middle;\n",
       "    }\n",
       "\n",
       "    .dataframe tbody tr th {\n",
       "        vertical-align: top;\n",
       "    }\n",
       "\n",
       "    .dataframe thead th {\n",
       "        text-align: right;\n",
       "    }\n",
       "</style>\n",
       "<table border=\"1\" class=\"dataframe\">\n",
       "  <thead>\n",
       "    <tr style=\"text-align: right;\">\n",
       "      <th></th>\n",
       "      <th>c_LotArea</th>\n",
       "      <th>c_BsmtFinSF1</th>\n",
       "      <th>c_BsmtUnfSF</th>\n",
       "      <th>c_2ndFlrSF</th>\n",
       "      <th>c_HalfBath</th>\n",
       "      <th>c_GarageArea</th>\n",
       "      <th>c_WoodDeckSF</th>\n",
       "      <th>c_OpenPorchSF</th>\n",
       "      <th>c_EnclosedPorch</th>\n",
       "      <th>c_MiscVal</th>\n",
       "    </tr>\n",
       "  </thead>\n",
       "  <tbody>\n",
       "    <tr>\n",
       "      <th>0</th>\n",
       "      <td>8472.0</td>\n",
       "      <td>104.0</td>\n",
       "      <td>0.0</td>\n",
       "      <td>0.0</td>\n",
       "      <td>0.0</td>\n",
       "      <td>516.0</td>\n",
       "      <td>106.0</td>\n",
       "      <td>0.0</td>\n",
       "      <td>0.0</td>\n",
       "      <td>0.0</td>\n",
       "    </tr>\n",
       "    <tr>\n",
       "      <th>1</th>\n",
       "      <td>6240.0</td>\n",
       "      <td>0.0</td>\n",
       "      <td>816.0</td>\n",
       "      <td>0.0</td>\n",
       "      <td>0.0</td>\n",
       "      <td>528.0</td>\n",
       "      <td>112.0</td>\n",
       "      <td>0.0</td>\n",
       "      <td>0.0</td>\n",
       "      <td>400.0</td>\n",
       "    </tr>\n",
       "    <tr>\n",
       "      <th>2</th>\n",
       "      <td>2544.0</td>\n",
       "      <td>0.0</td>\n",
       "      <td>600.0</td>\n",
       "      <td>623.0</td>\n",
       "      <td>1.0</td>\n",
       "      <td>480.0</td>\n",
       "      <td>0.0</td>\n",
       "      <td>166.0</td>\n",
       "      <td>0.0</td>\n",
       "      <td>0.0</td>\n",
       "    </tr>\n",
       "    <tr>\n",
       "      <th>3</th>\n",
       "      <td>11600.0</td>\n",
       "      <td>0.0</td>\n",
       "      <td>700.0</td>\n",
       "      <td>0.0</td>\n",
       "      <td>0.0</td>\n",
       "      <td>252.0</td>\n",
       "      <td>0.0</td>\n",
       "      <td>0.0</td>\n",
       "      <td>67.0</td>\n",
       "      <td>0.0</td>\n",
       "    </tr>\n",
       "    <tr>\n",
       "      <th>4</th>\n",
       "      <td>9786.0</td>\n",
       "      <td>0.0</td>\n",
       "      <td>1007.0</td>\n",
       "      <td>0.0</td>\n",
       "      <td>0.0</td>\n",
       "      <td>210.0</td>\n",
       "      <td>0.0</td>\n",
       "      <td>100.0</td>\n",
       "      <td>48.0</td>\n",
       "      <td>0.0</td>\n",
       "    </tr>\n",
       "    <tr>\n",
       "      <th>...</th>\n",
       "      <td>...</td>\n",
       "      <td>...</td>\n",
       "      <td>...</td>\n",
       "      <td>...</td>\n",
       "      <td>...</td>\n",
       "      <td>...</td>\n",
       "      <td>...</td>\n",
       "      <td>...</td>\n",
       "      <td>...</td>\n",
       "      <td>...</td>\n",
       "    </tr>\n",
       "    <tr>\n",
       "      <th>759</th>\n",
       "      <td>10592.0</td>\n",
       "      <td>0.0</td>\n",
       "      <td>602.0</td>\n",
       "      <td>602.0</td>\n",
       "      <td>1.0</td>\n",
       "      <td>180.0</td>\n",
       "      <td>96.0</td>\n",
       "      <td>0.0</td>\n",
       "      <td>112.0</td>\n",
       "      <td>0.0</td>\n",
       "    </tr>\n",
       "    <tr>\n",
       "      <th>760</th>\n",
       "      <td>8750.0</td>\n",
       "      <td>505.0</td>\n",
       "      <td>299.0</td>\n",
       "      <td>878.0</td>\n",
       "      <td>1.0</td>\n",
       "      <td>523.0</td>\n",
       "      <td>0.0</td>\n",
       "      <td>77.0</td>\n",
       "      <td>0.0</td>\n",
       "      <td>0.0</td>\n",
       "    </tr>\n",
       "    <tr>\n",
       "      <th>761</th>\n",
       "      <td>10205.0</td>\n",
       "      <td>784.0</td>\n",
       "      <td>141.0</td>\n",
       "      <td>0.0</td>\n",
       "      <td>0.0</td>\n",
       "      <td>300.0</td>\n",
       "      <td>150.0</td>\n",
       "      <td>72.0</td>\n",
       "      <td>0.0</td>\n",
       "      <td>0.0</td>\n",
       "    </tr>\n",
       "    <tr>\n",
       "      <th>762</th>\n",
       "      <td>8935.0</td>\n",
       "      <td>0.0</td>\n",
       "      <td>831.0</td>\n",
       "      <td>829.0</td>\n",
       "      <td>1.0</td>\n",
       "      <td>493.0</td>\n",
       "      <td>144.0</td>\n",
       "      <td>68.0</td>\n",
       "      <td>0.0</td>\n",
       "      <td>0.0</td>\n",
       "    </tr>\n",
       "    <tr>\n",
       "      <th>763</th>\n",
       "      <td>9320.0</td>\n",
       "      <td>569.0</td>\n",
       "      <td>381.0</td>\n",
       "      <td>0.0</td>\n",
       "      <td>1.0</td>\n",
       "      <td>0.0</td>\n",
       "      <td>352.0</td>\n",
       "      <td>0.0</td>\n",
       "      <td>0.0</td>\n",
       "      <td>400.0</td>\n",
       "    </tr>\n",
       "  </tbody>\n",
       "</table>\n",
       "<p>764 rows × 10 columns</p>\n",
       "</div>"
      ],
      "text/plain": [
       "     c_LotArea  c_BsmtFinSF1  c_BsmtUnfSF  c_2ndFlrSF  c_HalfBath  \\\n",
       "0       8472.0         104.0          0.0         0.0         0.0   \n",
       "1       6240.0           0.0        816.0         0.0         0.0   \n",
       "2       2544.0           0.0        600.0       623.0         1.0   \n",
       "3      11600.0           0.0        700.0         0.0         0.0   \n",
       "4       9786.0           0.0       1007.0         0.0         0.0   \n",
       "..         ...           ...          ...         ...         ...   \n",
       "759    10592.0           0.0        602.0       602.0         1.0   \n",
       "760     8750.0         505.0        299.0       878.0         1.0   \n",
       "761    10205.0         784.0        141.0         0.0         0.0   \n",
       "762     8935.0           0.0        831.0       829.0         1.0   \n",
       "763     9320.0         569.0        381.0         0.0         1.0   \n",
       "\n",
       "     c_GarageArea  c_WoodDeckSF  c_OpenPorchSF  c_EnclosedPorch  c_MiscVal  \n",
       "0           516.0         106.0            0.0              0.0        0.0  \n",
       "1           528.0         112.0            0.0              0.0      400.0  \n",
       "2           480.0           0.0          166.0              0.0        0.0  \n",
       "3           252.0           0.0            0.0             67.0        0.0  \n",
       "4           210.0           0.0          100.0             48.0        0.0  \n",
       "..            ...           ...            ...              ...        ...  \n",
       "759         180.0          96.0            0.0            112.0        0.0  \n",
       "760         523.0           0.0           77.0              0.0        0.0  \n",
       "761         300.0         150.0           72.0              0.0        0.0  \n",
       "762         493.0         144.0           68.0              0.0        0.0  \n",
       "763           0.0         352.0            0.0              0.0      400.0  \n",
       "\n",
       "[764 rows x 10 columns]"
      ]
     },
     "execution_count": 1112,
     "metadata": {},
     "output_type": "execute_result"
    }
   ],
   "source": [
    "X_train.filter(like=\"c_\")"
   ]
  },
  {
   "cell_type": "code",
   "execution_count": 1113,
   "metadata": {
    "ExecuteTime": {
     "end_time": "2021-08-21T17:43:51.412135Z",
     "start_time": "2021-08-21T17:43:51.392139Z"
    }
   },
   "outputs": [],
   "source": [
    "scaler = StandardScaler()\n",
    "scaler.fit(X_train.filter(like=\"c_\"))\n",
    "df_train_sc=pd.DataFrame(scaler.transform(X_train.filter(like=\"c_\")))\n",
    "df_test_sc=pd.DataFrame(scaler.transform(X_test.filter(like=\"c_\")))"
   ]
  },
  {
   "cell_type": "code",
   "execution_count": 1123,
   "metadata": {
    "ExecuteTime": {
     "end_time": "2021-08-21T17:46:20.158319Z",
     "start_time": "2021-08-21T17:46:20.123318Z"
    }
   },
   "outputs": [
    {
     "data": {
      "text/html": [
       "<div>\n",
       "<style scoped>\n",
       "    .dataframe tbody tr th:only-of-type {\n",
       "        vertical-align: middle;\n",
       "    }\n",
       "\n",
       "    .dataframe tbody tr th {\n",
       "        vertical-align: top;\n",
       "    }\n",
       "\n",
       "    .dataframe thead th {\n",
       "        text-align: right;\n",
       "    }\n",
       "</style>\n",
       "<table border=\"1\" class=\"dataframe\">\n",
       "  <thead>\n",
       "    <tr style=\"text-align: right;\">\n",
       "      <th></th>\n",
       "      <th>0</th>\n",
       "      <th>1</th>\n",
       "      <th>2</th>\n",
       "      <th>3</th>\n",
       "      <th>4</th>\n",
       "      <th>5</th>\n",
       "      <th>6</th>\n",
       "      <th>7</th>\n",
       "      <th>8</th>\n",
       "      <th>9</th>\n",
       "    </tr>\n",
       "  </thead>\n",
       "  <tbody>\n",
       "    <tr>\n",
       "      <th>0</th>\n",
       "      <td>-0.128731</td>\n",
       "      <td>-0.719432</td>\n",
       "      <td>-1.470354</td>\n",
       "      <td>-0.801587</td>\n",
       "      <td>-0.720338</td>\n",
       "      <td>0.366998</td>\n",
       "      <td>0.315636</td>\n",
       "      <td>-0.740327</td>\n",
       "      <td>-0.394367</td>\n",
       "      <td>-0.112717</td>\n",
       "    </tr>\n",
       "    <tr>\n",
       "      <th>1</th>\n",
       "      <td>-0.826453</td>\n",
       "      <td>-0.991272</td>\n",
       "      <td>0.632087</td>\n",
       "      <td>-0.801587</td>\n",
       "      <td>-0.720338</td>\n",
       "      <td>0.432388</td>\n",
       "      <td>0.373908</td>\n",
       "      <td>-0.740327</td>\n",
       "      <td>-0.394367</td>\n",
       "      <td>4.050496</td>\n",
       "    </tr>\n",
       "    <tr>\n",
       "      <th>2</th>\n",
       "      <td>-1.981821</td>\n",
       "      <td>-0.991272</td>\n",
       "      <td>0.075559</td>\n",
       "      <td>0.820129</td>\n",
       "      <td>1.388237</td>\n",
       "      <td>0.170828</td>\n",
       "      <td>-0.713824</td>\n",
       "      <td>2.676635</td>\n",
       "      <td>-0.394367</td>\n",
       "      <td>-0.112717</td>\n",
       "    </tr>\n",
       "    <tr>\n",
       "      <th>3</th>\n",
       "      <td>0.849080</td>\n",
       "      <td>-0.991272</td>\n",
       "      <td>0.333211</td>\n",
       "      <td>-0.801587</td>\n",
       "      <td>-0.720338</td>\n",
       "      <td>-1.071580</td>\n",
       "      <td>-0.713824</td>\n",
       "      <td>-0.740327</td>\n",
       "      <td>0.719329</td>\n",
       "      <td>-0.112717</td>\n",
       "    </tr>\n",
       "    <tr>\n",
       "      <th>4</th>\n",
       "      <td>0.282024</td>\n",
       "      <td>-0.991272</td>\n",
       "      <td>1.124203</td>\n",
       "      <td>-0.801587</td>\n",
       "      <td>-0.720338</td>\n",
       "      <td>-1.300445</td>\n",
       "      <td>-0.713824</td>\n",
       "      <td>1.318083</td>\n",
       "      <td>0.403505</td>\n",
       "      <td>-0.112717</td>\n",
       "    </tr>\n",
       "    <tr>\n",
       "      <th>...</th>\n",
       "      <td>...</td>\n",
       "      <td>...</td>\n",
       "      <td>...</td>\n",
       "      <td>...</td>\n",
       "      <td>...</td>\n",
       "      <td>...</td>\n",
       "      <td>...</td>\n",
       "      <td>...</td>\n",
       "      <td>...</td>\n",
       "      <td>...</td>\n",
       "    </tr>\n",
       "    <tr>\n",
       "      <th>759</th>\n",
       "      <td>0.533980</td>\n",
       "      <td>-0.991272</td>\n",
       "      <td>0.080712</td>\n",
       "      <td>0.765465</td>\n",
       "      <td>1.388237</td>\n",
       "      <td>-1.463920</td>\n",
       "      <td>0.218518</td>\n",
       "      <td>-0.740327</td>\n",
       "      <td>1.467333</td>\n",
       "      <td>-0.112717</td>\n",
       "    </tr>\n",
       "    <tr>\n",
       "      <th>760</th>\n",
       "      <td>-0.041829</td>\n",
       "      <td>0.328723</td>\n",
       "      <td>-0.699974</td>\n",
       "      <td>1.483914</td>\n",
       "      <td>1.388237</td>\n",
       "      <td>0.405142</td>\n",
       "      <td>-0.713824</td>\n",
       "      <td>0.844649</td>\n",
       "      <td>-0.394367</td>\n",
       "      <td>-0.112717</td>\n",
       "    </tr>\n",
       "    <tr>\n",
       "      <th>761</th>\n",
       "      <td>0.413004</td>\n",
       "      <td>1.057987</td>\n",
       "      <td>-1.107064</td>\n",
       "      <td>-0.801587</td>\n",
       "      <td>-0.720338</td>\n",
       "      <td>-0.810021</td>\n",
       "      <td>0.742960</td>\n",
       "      <td>0.741728</td>\n",
       "      <td>-0.394367</td>\n",
       "      <td>-0.112717</td>\n",
       "    </tr>\n",
       "    <tr>\n",
       "      <th>762</th>\n",
       "      <td>0.016002</td>\n",
       "      <td>-0.991272</td>\n",
       "      <td>0.670735</td>\n",
       "      <td>1.356363</td>\n",
       "      <td>1.388237</td>\n",
       "      <td>0.241667</td>\n",
       "      <td>0.684688</td>\n",
       "      <td>0.659392</td>\n",
       "      <td>-0.394367</td>\n",
       "      <td>-0.112717</td>\n",
       "    </tr>\n",
       "    <tr>\n",
       "      <th>763</th>\n",
       "      <td>0.136353</td>\n",
       "      <td>0.496009</td>\n",
       "      <td>-0.488699</td>\n",
       "      <td>-0.801587</td>\n",
       "      <td>1.388237</td>\n",
       "      <td>-2.444769</td>\n",
       "      <td>2.704762</td>\n",
       "      <td>-0.740327</td>\n",
       "      <td>-0.394367</td>\n",
       "      <td>4.050496</td>\n",
       "    </tr>\n",
       "  </tbody>\n",
       "</table>\n",
       "<p>764 rows × 10 columns</p>\n",
       "</div>"
      ],
      "text/plain": [
       "            0         1         2         3         4         5         6  \\\n",
       "0   -0.128731 -0.719432 -1.470354 -0.801587 -0.720338  0.366998  0.315636   \n",
       "1   -0.826453 -0.991272  0.632087 -0.801587 -0.720338  0.432388  0.373908   \n",
       "2   -1.981821 -0.991272  0.075559  0.820129  1.388237  0.170828 -0.713824   \n",
       "3    0.849080 -0.991272  0.333211 -0.801587 -0.720338 -1.071580 -0.713824   \n",
       "4    0.282024 -0.991272  1.124203 -0.801587 -0.720338 -1.300445 -0.713824   \n",
       "..        ...       ...       ...       ...       ...       ...       ...   \n",
       "759  0.533980 -0.991272  0.080712  0.765465  1.388237 -1.463920  0.218518   \n",
       "760 -0.041829  0.328723 -0.699974  1.483914  1.388237  0.405142 -0.713824   \n",
       "761  0.413004  1.057987 -1.107064 -0.801587 -0.720338 -0.810021  0.742960   \n",
       "762  0.016002 -0.991272  0.670735  1.356363  1.388237  0.241667  0.684688   \n",
       "763  0.136353  0.496009 -0.488699 -0.801587  1.388237 -2.444769  2.704762   \n",
       "\n",
       "            7         8         9  \n",
       "0   -0.740327 -0.394367 -0.112717  \n",
       "1   -0.740327 -0.394367  4.050496  \n",
       "2    2.676635 -0.394367 -0.112717  \n",
       "3   -0.740327  0.719329 -0.112717  \n",
       "4    1.318083  0.403505 -0.112717  \n",
       "..        ...       ...       ...  \n",
       "759 -0.740327  1.467333 -0.112717  \n",
       "760  0.844649 -0.394367 -0.112717  \n",
       "761  0.741728 -0.394367 -0.112717  \n",
       "762  0.659392 -0.394367 -0.112717  \n",
       "763 -0.740327 -0.394367  4.050496  \n",
       "\n",
       "[764 rows x 10 columns]"
      ]
     },
     "execution_count": 1123,
     "metadata": {},
     "output_type": "execute_result"
    }
   ],
   "source": [
    "df_train_sc"
   ]
  },
  {
   "cell_type": "code",
   "execution_count": 1114,
   "metadata": {
    "ExecuteTime": {
     "end_time": "2021-08-21T17:43:53.160016Z",
     "start_time": "2021-08-21T17:43:53.116984Z"
    }
   },
   "outputs": [
    {
     "data": {
      "text/html": [
       "<div>\n",
       "<style scoped>\n",
       "    .dataframe tbody tr th:only-of-type {\n",
       "        vertical-align: middle;\n",
       "    }\n",
       "\n",
       "    .dataframe tbody tr th {\n",
       "        vertical-align: top;\n",
       "    }\n",
       "\n",
       "    .dataframe thead th {\n",
       "        text-align: right;\n",
       "    }\n",
       "</style>\n",
       "<table border=\"1\" class=\"dataframe\">\n",
       "  <thead>\n",
       "    <tr style=\"text-align: right;\">\n",
       "      <th></th>\n",
       "      <th>0</th>\n",
       "      <th>1</th>\n",
       "      <th>2</th>\n",
       "      <th>3</th>\n",
       "      <th>4</th>\n",
       "      <th>5</th>\n",
       "      <th>6</th>\n",
       "      <th>7</th>\n",
       "      <th>8</th>\n",
       "      <th>9</th>\n",
       "    </tr>\n",
       "  </thead>\n",
       "  <tbody>\n",
       "    <tr>\n",
       "      <th>count</th>\n",
       "      <td>7.640000e+02</td>\n",
       "      <td>7.640000e+02</td>\n",
       "      <td>7.640000e+02</td>\n",
       "      <td>7.640000e+02</td>\n",
       "      <td>7.640000e+02</td>\n",
       "      <td>7.640000e+02</td>\n",
       "      <td>7.640000e+02</td>\n",
       "      <td>7.640000e+02</td>\n",
       "      <td>7.640000e+02</td>\n",
       "      <td>7.640000e+02</td>\n",
       "    </tr>\n",
       "    <tr>\n",
       "      <th>mean</th>\n",
       "      <td>1.627552e-16</td>\n",
       "      <td>-3.255104e-17</td>\n",
       "      <td>-1.627552e-17</td>\n",
       "      <td>4.650149e-18</td>\n",
       "      <td>-2.790089e-17</td>\n",
       "      <td>6.975223e-18</td>\n",
       "      <td>-3.720119e-17</td>\n",
       "      <td>5.115164e-17</td>\n",
       "      <td>2.325074e-18</td>\n",
       "      <td>3.487612e-17</td>\n",
       "    </tr>\n",
       "    <tr>\n",
       "      <th>std</th>\n",
       "      <td>1.000655e+00</td>\n",
       "      <td>1.000655e+00</td>\n",
       "      <td>1.000655e+00</td>\n",
       "      <td>1.000655e+00</td>\n",
       "      <td>1.000655e+00</td>\n",
       "      <td>1.000655e+00</td>\n",
       "      <td>1.000655e+00</td>\n",
       "      <td>1.000655e+00</td>\n",
       "      <td>1.000655e+00</td>\n",
       "      <td>1.000655e+00</td>\n",
       "    </tr>\n",
       "    <tr>\n",
       "      <th>min</th>\n",
       "      <td>-2.370694e+00</td>\n",
       "      <td>-9.912724e-01</td>\n",
       "      <td>-1.470354e+00</td>\n",
       "      <td>-8.015873e-01</td>\n",
       "      <td>-7.203379e-01</td>\n",
       "      <td>-2.444769e+00</td>\n",
       "      <td>-7.138240e-01</td>\n",
       "      <td>-7.403274e-01</td>\n",
       "      <td>-3.943668e-01</td>\n",
       "      <td>-1.127174e-01</td>\n",
       "    </tr>\n",
       "    <tr>\n",
       "      <th>25%</th>\n",
       "      <td>-5.263577e-01</td>\n",
       "      <td>-9.912724e-01</td>\n",
       "      <td>-7.650312e-01</td>\n",
       "      <td>-8.015873e-01</td>\n",
       "      <td>-7.203379e-01</td>\n",
       "      <td>-7.664272e-01</td>\n",
       "      <td>-7.138240e-01</td>\n",
       "      <td>-7.403274e-01</td>\n",
       "      <td>-3.943668e-01</td>\n",
       "      <td>-1.127174e-01</td>\n",
       "    </tr>\n",
       "    <tr>\n",
       "      <th>50%</th>\n",
       "      <td>-2.909957e-03</td>\n",
       "      <td>-1.313153e-01</td>\n",
       "      <td>-1.073742e-01</td>\n",
       "      <td>-8.015873e-01</td>\n",
       "      <td>-7.203379e-01</td>\n",
       "      <td>6.184512e-02</td>\n",
       "      <td>-7.138240e-01</td>\n",
       "      <td>-3.698134e-01</td>\n",
       "      <td>-3.943668e-01</td>\n",
       "      <td>-1.127174e-01</td>\n",
       "    </tr>\n",
       "    <tr>\n",
       "      <th>75%</th>\n",
       "      <td>5.075649e-01</td>\n",
       "      <td>7.253746e-01</td>\n",
       "      <td>5.947279e-01</td>\n",
       "      <td>9.613460e-01</td>\n",
       "      <td>1.388237e+00</td>\n",
       "      <td>5.686170e-01</td>\n",
       "      <td>6.846883e-01</td>\n",
       "      <td>4.123827e-01</td>\n",
       "      <td>-3.943668e-01</td>\n",
       "      <td>-1.127174e-01</td>\n",
       "    </tr>\n",
       "    <tr>\n",
       "      <th>max</th>\n",
       "      <td>7.154210e+00</td>\n",
       "      <td>2.963485e+00</td>\n",
       "      <td>3.260139e+00</td>\n",
       "      <td>2.764627e+00</td>\n",
       "      <td>1.388237e+00</td>\n",
       "      <td>3.293197e+00</td>\n",
       "      <td>5.453227e+00</td>\n",
       "      <td>4.343947e+00</td>\n",
       "      <td>5.091000e+00</td>\n",
       "      <td>2.070335e+01</td>\n",
       "    </tr>\n",
       "  </tbody>\n",
       "</table>\n",
       "</div>"
      ],
      "text/plain": [
       "                  0             1             2             3             4  \\\n",
       "count  7.640000e+02  7.640000e+02  7.640000e+02  7.640000e+02  7.640000e+02   \n",
       "mean   1.627552e-16 -3.255104e-17 -1.627552e-17  4.650149e-18 -2.790089e-17   \n",
       "std    1.000655e+00  1.000655e+00  1.000655e+00  1.000655e+00  1.000655e+00   \n",
       "min   -2.370694e+00 -9.912724e-01 -1.470354e+00 -8.015873e-01 -7.203379e-01   \n",
       "25%   -5.263577e-01 -9.912724e-01 -7.650312e-01 -8.015873e-01 -7.203379e-01   \n",
       "50%   -2.909957e-03 -1.313153e-01 -1.073742e-01 -8.015873e-01 -7.203379e-01   \n",
       "75%    5.075649e-01  7.253746e-01  5.947279e-01  9.613460e-01  1.388237e+00   \n",
       "max    7.154210e+00  2.963485e+00  3.260139e+00  2.764627e+00  1.388237e+00   \n",
       "\n",
       "                  5             6             7             8             9  \n",
       "count  7.640000e+02  7.640000e+02  7.640000e+02  7.640000e+02  7.640000e+02  \n",
       "mean   6.975223e-18 -3.720119e-17  5.115164e-17  2.325074e-18  3.487612e-17  \n",
       "std    1.000655e+00  1.000655e+00  1.000655e+00  1.000655e+00  1.000655e+00  \n",
       "min   -2.444769e+00 -7.138240e-01 -7.403274e-01 -3.943668e-01 -1.127174e-01  \n",
       "25%   -7.664272e-01 -7.138240e-01 -7.403274e-01 -3.943668e-01 -1.127174e-01  \n",
       "50%    6.184512e-02 -7.138240e-01 -3.698134e-01 -3.943668e-01 -1.127174e-01  \n",
       "75%    5.686170e-01  6.846883e-01  4.123827e-01 -3.943668e-01 -1.127174e-01  \n",
       "max    3.293197e+00  5.453227e+00  4.343947e+00  5.091000e+00  2.070335e+01  "
      ]
     },
     "execution_count": 1114,
     "metadata": {},
     "output_type": "execute_result"
    }
   ],
   "source": [
    "df_train_sc.describe()"
   ]
  },
  {
   "cell_type": "code",
   "execution_count": 1115,
   "metadata": {
    "ExecuteTime": {
     "end_time": "2021-08-21T17:43:59.234791Z",
     "start_time": "2021-08-21T17:43:59.181787Z"
    }
   },
   "outputs": [
    {
     "name": "stdout",
     "output_type": "stream",
     "text": [
      "N componentes : 1\n",
      "0.19592803365844028\n",
      "\n",
      "\n",
      "N componentes : 2\n",
      "0.3731029282882202\n",
      "\n",
      "\n",
      "N componentes : 3\n",
      "0.508940235939656\n",
      "\n",
      "\n",
      "N componentes : 4\n",
      "0.61186623625348\n",
      "\n",
      "\n",
      "N componentes : 5\n",
      "0.709575253879116\n",
      "\n",
      "\n",
      "N componentes : 6\n",
      "0.7960753905672743\n",
      "\n",
      "\n",
      "N componentes : 7\n",
      "0.872895721468241\n",
      "\n",
      "\n",
      "N componentes : 8\n",
      "0.9395289572642904\n",
      "\n",
      "\n",
      "N componentes : 9\n",
      "0.9755411857468836\n",
      "\n",
      "\n",
      "N componentes : 10\n",
      "1.0000000000000002\n",
      "\n",
      "\n"
     ]
    }
   ],
   "source": [
    "for n_compo in range(1,11):\n",
    "    print(f\"N componentes : {n_compo}\")\n",
    "    pca = PCA(n_components=n_compo)\n",
    "    pca.fit(df_train_sc)\n",
    "    print(sum(pca.explained_variance_ratio_))\n",
    "    print(\"\\n\")"
   ]
  },
  {
   "cell_type": "code",
   "execution_count": 1116,
   "metadata": {
    "ExecuteTime": {
     "end_time": "2021-08-21T17:44:15.519762Z",
     "start_time": "2021-08-21T17:44:15.498762Z"
    }
   },
   "outputs": [
    {
     "data": {
      "text/plain": [
       "PCA(n_components=7)"
      ]
     },
     "execution_count": 1116,
     "metadata": {},
     "output_type": "execute_result"
    }
   ],
   "source": [
    "pca = PCA(n_components=7)\n",
    "pca.fit(df_train_sc)"
   ]
  },
  {
   "cell_type": "code",
   "execution_count": 1117,
   "metadata": {
    "ExecuteTime": {
     "end_time": "2021-08-21T17:44:16.903761Z",
     "start_time": "2021-08-21T17:44:16.891760Z"
    }
   },
   "outputs": [],
   "source": [
    "X_train_pca=pd.DataFrame(pca.transform(df_train_sc))\n",
    "X_test_pca=pd.DataFrame(pca.transform(df_test_sc))"
   ]
  },
  {
   "cell_type": "code",
   "execution_count": 1118,
   "metadata": {
    "ExecuteTime": {
     "end_time": "2021-08-21T17:44:19.487430Z",
     "start_time": "2021-08-21T17:44:19.472446Z"
    }
   },
   "outputs": [
    {
     "data": {
      "text/plain": [
       "array([0.19592803, 0.17717489, 0.13583731, 0.102926  , 0.09770902,\n",
       "       0.08650014, 0.07682033])"
      ]
     },
     "execution_count": 1118,
     "metadata": {},
     "output_type": "execute_result"
    }
   ],
   "source": [
    "#Porcentaje de varianza explicada por cada uno de los componentes seleccionados.\n",
    "pca.explained_variance_ratio_"
   ]
  },
  {
   "cell_type": "code",
   "execution_count": 1119,
   "metadata": {
    "ExecuteTime": {
     "end_time": "2021-08-21T17:44:19.852825Z",
     "start_time": "2021-08-21T17:44:19.844812Z"
    }
   },
   "outputs": [
    {
     "data": {
      "text/plain": [
       "0.8728957214682418"
      ]
     },
     "execution_count": 1119,
     "metadata": {},
     "output_type": "execute_result"
    }
   ],
   "source": [
    "sum(pca.explained_variance_ratio_)"
   ]
  },
  {
   "cell_type": "code",
   "execution_count": 1122,
   "metadata": {
    "ExecuteTime": {
     "end_time": "2021-08-21T17:45:19.075401Z",
     "start_time": "2021-08-21T17:45:18.996365Z"
    }
   },
   "outputs": [
    {
     "data": {
      "application/vnd.plotly.v1+json": {
       "config": {
        "plotlyServerURL": "https://plot.ly"
       },
       "data": [
        {
         "hovertemplate": "Componente Principal 1=%{x}<br>Componente Principal 2=%{y}<extra></extra>",
         "legendgroup": "",
         "marker": {
          "color": "#636efa",
          "symbol": "circle"
         },
         "mode": "markers",
         "name": "",
         "orientation": "v",
         "showlegend": false,
         "type": "scatter",
         "x": [
          -1.0223274759574963,
          -1.0023056356736637,
          1.948064822125302,
          -1.4408908486588723,
          -0.5861477430513753,
          -1.0393024437613667,
          1.3498581360562656,
          0.4503967770695577,
          -1.2926585365050407,
          -1.2514480614946937,
          -1.5428143420253,
          -1.0643144364430925,
          0.6590043181186498,
          -1.1335348193855188,
          0.5616118589750021,
          -0.7325707687534896,
          -0.5817574547885155,
          2.714089159865814,
          3.182663040410658,
          -0.06631093972052633,
          2.1704570862561385,
          -0.12013308559970035,
          -1.3563412730396327,
          0.3879782682682302,
          0.49907162762287155,
          0.39794319145295287,
          0.3301518010692121,
          1.0828849072029787,
          1.9425862969176257,
          1.299203647265383,
          -1.6284684117344277,
          0.06158230917745216,
          -0.3433284605604994,
          0.5573281801314123,
          -0.5437997858557777,
          -1.552138467567801,
          -1.9996018722229887,
          -1.2251520220052559,
          -0.20553768873227343,
          2.38565102737749,
          -1.5694769027901136,
          2.9059450203688644,
          -1.0113296290970952,
          -0.7561340856910035,
          -0.7595509801351766,
          -0.9856492157880127,
          -1.466621833971989,
          -1.199574803475801,
          -0.6236839019985965,
          1.3101274543318462,
          2.2454821097015603,
          -0.1633437922234404,
          -1.2484284788458329,
          -0.1807909314768609,
          0.05129930085946832,
          0.3137161653107747,
          2.4421995137198786,
          -0.5693648618398939,
          -0.9462007013602606,
          3.1909639342844267,
          -0.1575700830754783,
          2.3764263642870755,
          -1.2897950342939175,
          -1.667863679279876,
          -0.5588696531526067,
          -1.0871396933816388,
          1.1344603967755844,
          -0.9445835241492451,
          0.8728689934090353,
          -0.8636553094826207,
          -1.5279948681669409,
          3.0333360652654777,
          -0.8313162919927994,
          3.2918820618461417,
          -0.6016343414566374,
          2.7438490318585558,
          2.7034955323733643,
          0.014519561129862267,
          1.2031060929011164,
          1.5586036084127257,
          2.147307636036928,
          2.3844385816950577,
          1.0716406536152414,
          -1.9480751120710276,
          0.1509794130316495,
          -0.3773362160607289,
          2.4445307817933855,
          1.499354999265836,
          1.0546099349575286,
          -0.06637675654237724,
          -0.02239891284228998,
          -0.3436781311291157,
          0.1474722954829627,
          -1.0943525038750446,
          0.3376823862362373,
          0.690864369040868,
          -0.7227476859563802,
          -0.9698135262710554,
          0.05346837920689648,
          -0.47926754671557686,
          -1.6987194396502794,
          -1.1295613831340299,
          -1.9426717659704362,
          -0.7263605946657963,
          -1.0889702794159541,
          -1.4607487091195972,
          4.640791265780375,
          1.1199431016069354,
          -1.059238244629585,
          -1.8205738477068238,
          0.4662944366776696,
          -0.8215422386187498,
          -0.22272908680416037,
          -0.9111309049645362,
          -0.03211833897580388,
          -0.6645858108423693,
          -2.3810800049708134,
          -1.6085774743685548,
          -1.987566591430706,
          -0.32157577831359935,
          0.09887016054591194,
          2.3727439039336184,
          2.3658238889083774,
          -1.7945681062577339,
          -0.6570011818134681,
          1.2898002163288205,
          -0.7620091818609126,
          1.9754433951818855,
          -0.695693868899511,
          -0.8765559651505456,
          -1.2737295115585199,
          1.9436787050455744,
          0.21929896912640276,
          0.33487731408905275,
          1.3867289877432325,
          -0.45221029430454335,
          0.4792510680660781,
          1.421736358643552,
          -1.0563297054427516,
          -0.17861871460728276,
          -1.6808884637498875,
          -0.763597540810257,
          0.4346945759043665,
          1.4334925102424516,
          -1.481092295002074,
          0.6035970945535558,
          -0.786105639331943,
          2.1292038152300674,
          1.21291292665881,
          -1.0053965825737972,
          -0.5999250244111095,
          0.3116659884519218,
          1.656308659039406,
          -1.7780213263614641,
          1.5308234112563204,
          0.1479588476529173,
          -0.2776047473933977,
          -0.49809874295316164,
          -1.4323280215534264,
          1.7835867192088974,
          2.1230999663276764,
          0.4062283073350127,
          -2.257335309009116,
          2.5699399855751897,
          -0.28761582298781924,
          -0.13930816766831086,
          -1.1595594335153168,
          2.674586903127456,
          -0.05376346707678958,
          -0.14578845575156138,
          -0.01651358178784248,
          -0.9694201835220075,
          0.047945432574739905,
          -1.1342328891509932,
          -0.8514343379501285,
          -1.2739532348098899,
          0.19806309685609155,
          2.3954877531611745,
          1.3962063880887627,
          1.3620953277231547,
          -0.7905752581626408,
          -0.8725421909892492,
          -2.463309596598585,
          -1.6216009545032004,
          0.6788610851750942,
          -0.06585967187541023,
          -2.090897562848877,
          -0.7820639174244257,
          0.7125542098967189,
          0.7664115259015013,
          -0.3698720693387479,
          1.3952591364881137,
          -0.22865941391872963,
          2.7078412168486534,
          -1.4250206392154208,
          -1.093812934515953,
          0.16666357149325275,
          -0.48950837880587206,
          -1.0080431409196882,
          0.6222894132586585,
          0.5092232135504385,
          2.5008456105857104,
          2.052714904418619,
          -2.301053063697667,
          2.03527383847557,
          1.1376605696450588,
          0.6072779641602947,
          1.3264489850637886,
          1.3933428078688563,
          0.21752602260447473,
          -1.455952758241655,
          1.4413724837853246,
          -1.3788704511794145,
          -0.7834373802382562,
          1.1269446181560516,
          0.5306608394918743,
          3.2888575023029607,
          -0.9390795405425417,
          0.3815397727216355,
          -1.4757922719234409,
          -0.6151442014551051,
          -1.7495957043592634,
          -0.5913991702548237,
          2.0987882921493757,
          1.3112112349458793,
          -0.11793749177532235,
          0.3491056299838459,
          2.4307526376752353,
          -1.245612354979159,
          2.7561089870019564,
          -1.5533185866288208,
          -1.964150259709485,
          2.4648441060555046,
          -0.6964585604662072,
          -0.9026587606518257,
          -2.662482304034396,
          1.8409871982299424,
          -1.6815384552767287,
          -1.218692592288891,
          -0.5443931910819478,
          0.18147962729908879,
          -0.6768700811907203,
          -1.9153095045075719,
          -1.2458611772945003,
          1.574584088593526,
          0.3196465364845388,
          -0.6971371840264933,
          -2.2642932627346846,
          -1.2539693795722668,
          0.37192476610995534,
          1.034063332285965,
          1.8891859810873366,
          0.19131340009969314,
          4.162208598090921,
          -0.5125798865047211,
          -0.9008299683203208,
          -2.0910114827428115,
          0.16200074194254352,
          -0.05520455427923322,
          0.2854027584313495,
          0.49569292731084447,
          -1.3850648580130795,
          -0.9235073208325116,
          -0.3620448471597082,
          0.007711343216428075,
          0.5368459676468698,
          -0.3025627493931906,
          -0.1585704616491397,
          2.0376902731006274,
          -1.1117844593959312,
          -1.8379809784875754,
          -0.7120786348666976,
          1.6377560206879407,
          -0.657941774193827,
          -0.1563276741411817,
          -0.5339441605493989,
          0.7596160467791649,
          0.451994141559826,
          0.3641663706133296,
          -0.2739056814626241,
          -1.3032213576094553,
          -0.4996119752855474,
          -1.73314948556664,
          -1.3256390627727144,
          2.239547881213797,
          -0.9610857265542992,
          -1.8074570104949845,
          -0.171230349306394,
          -1.4776366809365102,
          -2.1633748400711887,
          -1.2894953042153297,
          -1.3231687628051383,
          -1.2238045340820112,
          3.1151199431219254,
          2.377796671023559,
          0.998570482131703,
          3.1570257166384357,
          1.756578541337923,
          -1.5858703050656413,
          0.005288130367373303,
          -1.0080548655602948,
          1.3405853940897656,
          -0.3411983800024961,
          -1.2883163649126441,
          -0.42153057982830977,
          0.0416380347293501,
          -2.328669768158491,
          1.3588935987806217,
          -0.06362029594994524,
          -0.11787122170377994,
          -0.04363534689623266,
          0.16238391229727506,
          0.5199227152050798,
          -1.8765010920405552,
          2.267808904614497,
          -1.3020928253312993,
          1.8924905165610444,
          -1.594332292028782,
          -1.2996253341100388,
          -0.7216755864250405,
          -0.7752891886731347,
          0.31086213780380945,
          0.6259510065546362,
          -1.495089026074277,
          -0.3458806809989835,
          -0.6960726224678232,
          -1.4654960464446818,
          -0.6302966960228518,
          -0.03829808052311602,
          -0.14098617022673376,
          0.5484800679229456,
          -1.2375536020179918,
          1.9265763229198625,
          -0.5920682960980189,
          0.7197412519752701,
          2.6425111776949217,
          -0.5745326176299292,
          -1.6349169562686927,
          -1.4076714701919648,
          1.1436794678237725,
          -1.4147657975162717,
          0.49715175755374136,
          2.666664373418395,
          -1.6103079169806407,
          2.0102811192189396,
          2.516295072731285,
          -0.6599908547654315,
          2.176286095733563,
          0.09676395879405261,
          2.438496501360775,
          1.1210084449375988,
          -0.233387939730163,
          1.092507427854453,
          0.4016264765463617,
          0.7785694656774957,
          -0.15254024575516062,
          -1.4444354489934468,
          -1.7217490238739663,
          2.4049236298476226,
          -0.8741653060897351,
          -2.953838889279551,
          -1.3536286995140394,
          2.5408510222422835,
          -0.12913311481486758,
          -1.9678257137367496,
          -0.9877900527945529,
          -0.9979511263920363,
          2.1292252278011983,
          -0.8592329967799657,
          0.5426746864036978,
          -0.4631399233408492,
          -1.0253844403425343,
          -0.1183974327940332,
          -0.08987217526336212,
          -0.28198803300056974,
          0.2955199041497582,
          3.4622119219476204,
          1.3434063890297,
          -0.6940597601263189,
          1.8211871117745524,
          0.23804936290729414,
          -0.7905659045528519,
          0.4539047569795953,
          -0.22572865107977444,
          0.20833027481669913,
          3.0090968573865453,
          -0.41807987625207227,
          -1.3046844711395365,
          1.3732700586753654,
          0.45120969368940356,
          1.3635402591164896,
          0.9138262030649013,
          -0.32946097577578404,
          0.8483501295704398,
          0.9856375455939741,
          -0.4792405717774987,
          3.000986563842493,
          0.24320790738794515,
          -0.11793749177532235,
          -0.2614971920912617,
          -0.29418719505038626,
          -0.1438838961435823,
          1.5857534879158421,
          -1.5841067920321603,
          -0.21380859006576183,
          -0.033808789567703855,
          -1.3362443151984347,
          -0.36813227956596245,
          0.5706352344611553,
          -1.0742322838664837,
          -0.16043992472814517,
          -0.4732425266943934,
          -0.8715748446855659,
          -0.6978242895533748,
          -0.09151621858276657,
          -0.28914274531438816,
          2.599171409891901,
          -1.4783394320174759,
          1.8929711179998714,
          1.1875068725640383,
          0.9501270284652208,
          -1.7582341139642124,
          -2.2916132974132175,
          -2.1355733072158163,
          2.306936054635431,
          1.8722497193028838,
          0.21622375630037674,
          -0.19571332501640318,
          -0.8271800948199279,
          1.7120179553459243,
          -0.7498003850087981,
          0.31835316887686366,
          -1.6995546300435165,
          -0.762858945099345,
          -0.3612692876512302,
          -1.5717458628137275,
          -0.49605810236242237,
          4.01924186454142,
          0.17596123367316646,
          -0.5587857239992668,
          1.180417041891469,
          -1.3543750057950403,
          -1.311012777373897,
          -1.8939868459372673,
          1.2521204819832161,
          -1.4706272205041693,
          -1.387974582510002,
          0.8944084478471145,
          -0.11793749177532235,
          1.636940737555043,
          -1.0765030137430829,
          0.7423492523635363,
          1.8694546790266133,
          -0.37809310194418044,
          -0.14448680762544405,
          1.703518168995933,
          -0.9317450551464445,
          3.3999384415031733,
          -0.6351787612413518,
          -2.3038938010828804,
          -0.8578113787598445,
          0.6248786350634868,
          -0.20462859858167676,
          -1.9034051205051308,
          -1.1043449666116019,
          0.3098550797709125,
          2.3111837666118604,
          -0.3085598948559275,
          0.16630095950838023,
          1.4281080649116014,
          0.2801828318500421,
          -1.5336535492949614,
          -0.9041054131410675,
          -1.4993110021896834,
          -2.2646684620760835,
          -1.119057695532369,
          -1.9256795683221801,
          -1.3617698826967648,
          0.3827292353642709,
          1.1629011621383019,
          -0.3389581165089505,
          -1.190462725097737,
          -1.023750390212855,
          -0.6004018859492691,
          2.341922099605586,
          -0.10412312720324782,
          -2.5212403098832645,
          -1.922919558272842,
          -1.5097899925337868,
          0.9183878356400763,
          -0.4559053810982663,
          -0.8608556207115586,
          -0.322537273792556,
          -0.6466263473974639,
          0.8743737650217682,
          2.274547780796291,
          0.9806842517520834,
          1.398132043803461,
          -1.7372325521763068,
          -1.6664856846514426,
          -1.5917717830860234,
          1.2942339374281109,
          -0.54223453626294,
          2.0186406760048032,
          2.000988521353693,
          -1.3297247531525056,
          -0.37931179996378095,
          0.6038945401805882,
          -1.7379464003700078,
          1.5840313749913386,
          -1.7575279166714601,
          2.64580156232658,
          0.455044592340181,
          -0.5138578919619204,
          -0.8805852738164313,
          1.5052597856219825,
          -0.6327182186779714,
          -0.8458913346081552,
          -0.5589854070213548,
          -1.231398037870156,
          3.461639846755476,
          0.2746696682640627,
          -0.040282824254434996,
          -0.8139005420236695,
          0.7996073050579664,
          1.202252722998947,
          -0.44134823695055403,
          -1.7719063984497372,
          -1.372438502994698,
          0.7938315763505481,
          3.0988441032664604,
          0.7692376381394733,
          2.5941324447100094,
          -1.3058715523648035,
          0.24519758526896226,
          2.469405018678707,
          -1.1156882933612327,
          -0.10755493735586716,
          -0.06721764224026494,
          -1.0275660289144966,
          1.1142389773775445,
          -0.3270962016710674,
          1.038290512942698,
          0.6930284521434721,
          -0.052774000558025044,
          -1.3487981809461003,
          1.1432672312924168,
          -1.43418765464545,
          2.6610777463022077,
          2.7971820218425862,
          -0.2665981001025898,
          1.1247604585994213,
          0.18581040414563765,
          1.7384880988202118,
          -0.3071840869485656,
          0.1526801119955708,
          -1.8428612118216876,
          0.5255393476034022,
          -1.2983894710145614,
          -0.7998254685459816,
          -2.2664396182598208,
          -0.9506946998227074,
          -0.4886172396656341,
          -0.12322514886214572,
          -0.8620511227537487,
          -0.3043900569529363,
          -1.3524258346658484,
          -0.07189560206526079,
          -0.6721315688791496,
          -0.5734004223754504,
          -0.6180415292922891,
          -1.4482580083617456,
          3.4433365548956,
          -1.747546188076752,
          -2.191085148636444,
          -0.14843366235885064,
          -1.2503641878488818,
          -2.178751662819268,
          -0.48916375493955094,
          -2.1545925653602658,
          3.5151120214445153,
          1.4267228970155965,
          -2.330093768509932,
          -0.3117850776736445,
          -1.0038385834392933,
          3.677251953360756,
          -1.0390251669492037,
          0.688757533822789,
          0.6778320364976292,
          0.8806859543321226,
          -0.9388577373864825,
          1.0395664904935071,
          -0.11681278137803415,
          -0.37202597667435394,
          1.9044657205020197,
          1.5440117560979862,
          0.48058651411990494,
          1.3246509982669683,
          -0.9252410138142309,
          1.9590608070973576,
          -0.0205029915148615,
          -1.0742059335508682,
          -1.638623966385149,
          -1.687814405699815,
          0.6037022661230194,
          -1.5295025363460302,
          -0.7730242904552331,
          -0.4927903084123616,
          -1.8577069838984528,
          3.354935018441926,
          -1.4089289479821112,
          0.05338083655739851,
          -1.4475909933417384,
          -1.076050743648449,
          -0.16170893043722032,
          -1.0069733120470064,
          -0.4227270770309618,
          -1.4414647735561268,
          -0.9663930386118239,
          -1.1319359131962743,
          -0.38589047525294956,
          2.8242980910936906,
          -0.8445911062717735,
          3.2648551794057963,
          2.0299737621042464,
          -0.25388777262950646,
          -0.7321488876295121,
          1.0802570490102545,
          0.6378137015706435,
          -1.5810446635022593,
          -0.5411373074226887,
          1.2523473033756285,
          -0.44941479550713187,
          0.24432350597484467,
          -0.898708206680629,
          1.9075138207581877,
          2.5811344527255224,
          -1.3715892654778072,
          0.9627224632891656,
          0.8578156106619785,
          2.047921211704727,
          -0.9153571324845685,
          0.0804854568938951,
          0.5235374929256664,
          0.4125354911965776,
          -0.924879223123371,
          -1.4743991501099725,
          0.4064173940289515,
          -0.6874316704429552,
          -0.8899797765161567,
          0.05787091826619509,
          0.29329257918377905,
          -1.4310837809042376,
          0.41091299682735477,
          0.5921006686353251,
          -0.18865450207237452,
          -2.1924673682898423,
          -0.8812803531626954,
          -0.3680273116432982,
          1.696674521343519,
          0.2760461474115934,
          -2.0800330122053103,
          -0.8269956641742608,
          0.583159265328799,
          -0.42111501393562395,
          -0.8045165689586028,
          1.8363737673035716,
          -0.2591035105974185,
          -1.5725853268103034,
          1.486036946599312,
          -1.2137541775461735,
          -0.9633678803993317,
          3.3362150907698744,
          0.3610243080889966,
          -0.8691509997466996,
          -1.444989753494338,
          -0.808820045706058,
          -1.4401898779808013,
          -1.5158635768435533,
          0.34467343333358735,
          0.10685063427190142,
          -0.6326110108613722,
          -0.9558164008390614,
          2.504243302342321,
          0.6512117451344812,
          2.7966374297381775,
          0.024701449008033734,
          1.1835008762530543,
          -1.101258373937676,
          -0.9719906833286972,
          0.6030658011154272,
          0.44788111264131114,
          0.03475836130902208,
          -1.4618811192977967,
          0.3868319321538427,
          1.3802416167303702,
          0.5190719708005516,
          -1.2466288007491446,
          0.7392624487571573,
          0.796794464457345,
          -1.1038157493123806,
          -0.434325472769159,
          1.491667041709581,
          0.17309721675186207,
          -0.9742829830318147,
          1.8602055133369206,
          -1.6585035619549406,
          1.4554212971912592,
          -1.4502984334295503,
          0.9124635184052309,
          1.3890328658752011,
          0.1313732242147619,
          1.314022060626006,
          2.930598418163085,
          0.8394091150310421,
          -1.1938402364047462,
          -0.5243820020118309,
          -0.6053195526748788,
          -2.353786671823542,
          -2.037557924672293,
          0.10097825494823318,
          -0.34775699071266,
          -0.9654643227604726,
          0.18496016536368615,
          -1.2762160536023641,
          -0.9977768992670082,
          1.7741140704136154,
          -1.1802241812057988,
          0.22117903620558788,
          2.8224621120446955,
          -1.3399626966858416,
          -1.0715731994363142,
          -1.6003814006994945,
          0.9475536791682397,
          2.729468693314655,
          -1.2390125786155022,
          -2.3829844410370136,
          0.5022873752631138,
          2.4196324030455387,
          -0.21521603172393408,
          -0.07023018463373965,
          -0.9622840157296312,
          -2.6683699019165865,
          -1.346517522367863,
          -0.007672116901728416,
          -1.489625027255264,
          -1.6105709771957821,
          2.258386547700476,
          -1.7319333269990314,
          0.34060218655645724,
          -1.4917752049284545,
          0.3473009984651236,
          -1.5755991576214197,
          -2.2053850551182768,
          0.6414725823578098,
          0.555964950074948,
          -1.2273613943220758,
          3.1876935405132505,
          1.7551581454104417,
          0.24097340148871968,
          1.75624904427165,
          -0.730315461050187,
          2.207634414338577,
          -0.5864868929127165
         ],
         "xaxis": "x",
         "y": [
          0.6489197962709251,
          -0.399591997043764,
          -1.2883221009715926,
          -1.150367198587563,
          -1.3825205420492614,
          0.35178614590222756,
          0.3547788418688016,
          2.6509631863371967,
          0.4579597285866962,
          1.465255105026928,
          -0.6677263433796796,
          1.4960144812390623,
          1.1924729608077314,
          1.046811053873831,
          -0.4347415817066117,
          2.5082551615544384,
          1.764191277555505,
          -0.9193337028856715,
          1.3476064587748138,
          1.2011851281703148,
          -0.5565237547216847,
          3.7798752276278065,
          0.23225101064038586,
          -0.5802133786338471,
          -1.7279930164317114,
          0.5122575611945049,
          -0.5587233643958056,
          0.10780854341893546,
          -1.2785115568719103,
          2.088800762012041,
          0.2205762176252731,
          -0.33988702928576575,
          -1.6726904853317037,
          1.085104524761475,
          -1.2851028087098384,
          -2.152001066229146,
          -0.21169821229370248,
          0.15212793236290675,
          1.5295503688493863,
          -1.3119634149785495,
          0.28362999824201457,
          -0.6525739539455212,
          1.6218280159812017,
          2.4097873691244924,
          -1.8864391501398545,
          -0.09695083504753142,
          1.153291496621375,
          2.317602904274183,
          0.05909688189628058,
          -0.8826947457986678,
          -1.4761529731504692,
          -0.8652701125727893,
          -0.04493708096058205,
          -0.06426651892254062,
          -1.198343309393944,
          0.8330489367582812,
          -0.2721331391843246,
          -2.380984827881603,
          -1.18732523019479,
          2.021512184423651,
          -0.11340969199787596,
          -0.07482536074142493,
          1.1404752375676848,
          -2.830086675176415,
          0.7814426480671548,
          2.3733950153528993,
          0.9940078872058585,
          1.4600965249664104,
          -1.8402266062687411,
          2.1213308126310175,
          -0.06277108666274075,
          1.2327662901541925,
          0.23725451643086715,
          -1.1151468691320365,
          -2.3072532868603437,
          -0.9095644169716277,
          -1.0092363964572872,
          1.5605388217987857,
          2.7097282384748107,
          -0.39585757801454047,
          -0.01588458446273649,
          -1.5064442771468682,
          -0.2385091609320151,
          -2.3099121797959725,
          -1.4379768754807638,
          -0.08674752365687173,
          1.5103235573701608,
          -1.1249909982572974,
          -0.8830827605797508,
          2.301280076562289,
          -1.826955610037972,
          -1.663378790922953,
          -0.735821933601512,
          -1.0892533543049234,
          -0.8455944925660823,
          -0.569226495780879,
          -0.8144475628598814,
          1.7995786493082302,
          -1.700280654647085,
          -0.8939118821273763,
          -2.1350424436456295,
          0.4631084002484586,
          0.2938848278518424,
          -1.4284422154398393,
          -0.2883409574708261,
          0.40195189062460374,
          -0.11134835527012982,
          -1.1279169341443955,
          1.866148231459004,
          0.8129788831784113,
          -0.6307599352507391,
          1.1891992215515579,
          0.7389567523514214,
          1.931969067295805,
          -2.422276329390753,
          2.504243295042172,
          -0.8499046195673051,
          -0.49431663100044987,
          0.8831630248347696,
          -0.4940877623543051,
          1.4542199810835776,
          0.7738150610641498,
          -0.741440361903907,
          -0.277030174433486,
          -1.7662496202987785,
          1.1359766869005083,
          0.8801418888219742,
          0.7217664899241968,
          -2.220280097096771,
          0.19369461312395314,
          -1.1512980238232116,
          -1.7021418093808467,
          -1.7747852624149476,
          3.219703153917692,
          0.822859341352304,
          1.1877346908477433,
          -0.3473025140847427,
          -1.1892002124448067,
          -1.674351007605253,
          0.23355085599720607,
          -2.616263062695478,
          -1.1514275998158159,
          -0.8337658876206192,
          -1.5851506463235259,
          2.0984440614948134,
          -0.27272813700997994,
          0.056676646807832805,
          0.27581974564434836,
          -1.3116604024983562,
          2.796132114691626,
          -1.5039606261944705,
          -0.852168922855716,
          -1.3191299085804677,
          0.9219167165062409,
          -1.4701179405569382,
          0.7530890024057536,
          0.8144206322655005,
          -0.7633017879799321,
          1.1286915814131984,
          -1.0002174716212127,
          -1.4375274523661536,
          0.004999426655471837,
          -1.1144132585192204,
          -0.7053188422405664,
          -0.6128327057155841,
          -0.9232878100536897,
          -0.7333756098107437,
          1.2708651982441057,
          -1.8602241428856672,
          2.4193019481353226,
          1.1686255611796617,
          0.4879895914053187,
          -0.3047409740147972,
          -0.777544864086244,
          -1.4578863737135495,
          -0.18550838435823447,
          -0.6558020558943856,
          -1.2214231081065887,
          -1.5844447080348834,
          -0.47510539919071826,
          -0.5811666852930746,
          2.432094660964424,
          -0.44910826708828633,
          -1.6540977622758242,
          -1.1386975957481458,
          2.0170088420150063,
          -1.2754736075364983,
          1.0886123065574047,
          3.599271016191706,
          0.2984520335727433,
          -0.16654145203251805,
          2.636734534345144,
          1.1823312697613788,
          -0.7063474675744646,
          -1.3158440803006546,
          0.46447224823357575,
          -0.05137813659066142,
          0.35544481531782646,
          0.02459904205222316,
          -0.3017239048759842,
          -0.2659071735751248,
          -0.9317693652685459,
          0.3224824938184187,
          -2.7331924317489484,
          1.6391532539954659,
          -1.4824488505989246,
          -2.464196312138202,
          -1.1904322881843803,
          -2.5128791732404077,
          -0.1933037730250758,
          0.8295431246214184,
          0.3841923383659695,
          -3.4850971590560587,
          1.8247973503109665,
          -0.7493587420811819,
          -0.12439589715283389,
          -1.0962675977107246,
          -1.4215010754964132,
          -2.636255613585465,
          -1.80236800212101,
          2.2966433055316453,
          -2.0012541101904886,
          -1.072627058539657,
          -1.370266780026672,
          3.0781997770657523,
          -1.873150360089746,
          -0.9523598755413228,
          -0.7364288311608503,
          0.6168557704404443,
          0.005890641809511258,
          0.4792277604462508,
          -0.5516257726550864,
          1.5276086001105686,
          -0.8894851394328752,
          0.36680639379860125,
          -1.3442912254494181,
          -1.177261309082798,
          -2.0612684759677125,
          -0.1449093090885929,
          -1.0760723741123492,
          -0.4244156382760538,
          0.1854866576340979,
          0.7011158490135206,
          1.156485675522435,
          -1.3452722209493428,
          -3.300132233433882,
          2.2628960272482335,
          -0.00797236504616094,
          0.48371415422395275,
          -0.851112827118351,
          -0.02608871508299519,
          -1.1855103136945144,
          0.1282898876446069,
          -0.5683815764445582,
          1.0470777635669541,
          0.9725943603985298,
          -1.5573946029992092,
          -2.01052135526894,
          0.5849433847194497,
          -0.05435691904615904,
          -0.8180604140839008,
          0.39108655308382073,
          1.1109269045835268,
          0.33666618541748483,
          1.7256495641095537,
          2.206578120803428,
          -0.6347605591323374,
          -0.7792472035684648,
          1.0248531530020246,
          0.35490438712722966,
          -1.7196139010092684,
          -1.0786953899114775,
          -1.1925048666000602,
          0.4943166858140426,
          1.3708333714062875,
          1.2844771501283652,
          -0.9160499332176857,
          -0.40202182621692606,
          -0.9688984038090219,
          -2.326140663462838,
          -1.7028302923911636,
          -0.40198484530213474,
          0.8483306298340674,
          0.30633997289580867,
          -0.794780667461976,
          0.1646293724378743,
          0.525917458141593,
          -0.547647178038553,
          -1.3819367133635116,
          0.5989839679769685,
          1.291116772067072,
          1.92131324083983,
          0.38759089296970245,
          -0.5436031614112469,
          -0.7843966588185641,
          -0.7041596646882775,
          -0.8116447061699358,
          0.3086976744009953,
          -0.01733178164612381,
          -0.7876188556597702,
          -0.3960501176048162,
          0.8880863855548402,
          1.6713600807416849,
          -1.2101030500770855,
          2.2414255215680785,
          2.0344379249596845,
          0.16133799495307893,
          -0.010495834538722819,
          1.2219304445376573,
          0.6218759029167804,
          -0.6061534735871257,
          1.3341144294361336,
          -2.272704932712875,
          -1.6720662899638243,
          2.575567665929728,
          -1.9708081357600644,
          0.6708237349010066,
          -0.5762246818131371,
          1.1417164749408069,
          0.7729412770871921,
          0.0181122429753735,
          -0.08979706482745546,
          1.7656496291144501,
          0.2907787595848211,
          -0.1695571556171012,
          1.2186790234260858,
          -2.0298357064225057,
          0.925983766007224,
          -0.7362981480106309,
          1.796852205341802,
          -1.4524407181112937,
          0.4013604301347654,
          -0.2724898660132612,
          2.2300256688693003,
          -2.664773702740134,
          1.5483275528281129,
          1.700171992854083,
          -0.04463526752906358,
          -0.15957266297904424,
          -1.8492235116293967,
          -0.5034366294751114,
          3.6844316018485803,
          0.08815975815936729,
          -1.2286976042827817,
          -1.2212293807410879,
          -0.9856355485900412,
          -1.2291360130400901,
          0.49492156758391503,
          2.3399068876721443,
          0.1131460678834802,
          0.7439234541584558,
          -1.994242041396909,
          -0.3152322633955621,
          -0.6084151465733116,
          -0.6741050896239194,
          2.9211016245654924,
          0.9321248162422204,
          1.2183718574984919,
          1.139265064096741,
          -1.6828601022272451,
          -0.13773766604403712,
          -0.8556201049527852,
          0.716702440950321,
          0.9764994265957742,
          -0.03275142439877985,
          2.0140196761547586,
          2.033988715246785,
          0.5518435835748274,
          0.7821653073606283,
          -0.15589919717199,
          -0.20406293203536238,
          -0.11205472001710519,
          0.9058048931719964,
          -0.3922793095693276,
          0.9393800064934207,
          0.005695996233705818,
          0.5825645009629623,
          -0.5343746223467972,
          1.878136198059454,
          -1.3414464201986636,
          2.7108037373691998,
          1.0043728742533504,
          -1.398150900587737,
          -0.9669460298670594,
          1.3140614090707552,
          -0.8770597314690561,
          -0.7232845424877565,
          1.0410370328939036,
          -0.7348033414199943,
          0.6511652991550803,
          -1.3218325774192805,
          -0.3257199408630256,
          -0.8643241160644874,
          -0.6621001529413195,
          1.3607191941807337,
          1.0429428779806658,
          -1.0458240911693621,
          -1.7397058448164966,
          -1.873150360089746,
          1.7183417868770077,
          -0.9436009533275634,
          -0.8969304233768342,
          1.2959907953380319,
          0.6081390999260297,
          2.029106682921964,
          1.8574049460339905,
          -1.2252845711525817,
          0.19135418449634498,
          -0.5902281764535457,
          0.24369261440317894,
          -0.7067690785822629,
          0.7910577639230395,
          1.3088851252456364,
          2.269688861163662,
          -1.05229337441776,
          1.2200272087600361,
          2.028037866949588,
          -0.0899851929900228,
          3.4163858537807688,
          -0.6242640280987021,
          -0.04000380641586785,
          1.062367244156525,
          -1.3645099609662277,
          -0.05811505478528795,
          1.1050923553139904,
          -1.2855417341855357,
          -0.5512747299989438,
          3.2070951411200546,
          -1.1562436048923161,
          1.2838045575856452,
          -0.0004693527397958365,
          1.8953458575147422,
          -0.19078424099335212,
          -1.6433336850301927,
          2.1998184475838922,
          0.29346425735487475,
          -1.3151318681436697,
          -0.7255018851349138,
          -0.22604872969013154,
          -0.8921503775238521,
          -1.5679942607352158,
          0.669169614723664,
          -0.25255532079854526,
          0.5262458745911268,
          0.8013307278455726,
          -1.8860570989674852,
          0.8915492533735342,
          -1.2961587002607782,
          -1.873150360089746,
          -0.09120822136736932,
          -0.24250180414596584,
          -0.30256872061249157,
          -0.9641358482177464,
          -0.9671216023063879,
          -1.490512058119745,
          0.8549434018688843,
          1.6932186741085329,
          -0.4673692636556877,
          2.2834660726997806,
          -2.565759962661178,
          1.8817749143475837,
          -0.7553977195306166,
          -2.8678072178535694,
          1.0891634402816077,
          -0.10295230079897251,
          -0.7284150365034265,
          0.8499435719808023,
          -0.5184611220332607,
          2.4801400757175798,
          2.770703304075259,
          1.2490759167141678,
          0.8443865588193804,
          -0.7971288609092543,
          -0.4075301516020355,
          -1.3297280596067969,
          1.596693108351056,
          -1.2295170429527884,
          0.499905210359299,
          3.0390070725171654,
          1.5765296657257395,
          1.2008248915454183,
          -0.9015882986182182,
          0.28813306691760393,
          -1.076842530826379,
          -0.14242695650106227,
          -0.19700303281812542,
          -2.3601966019917042,
          0.9705755373874368,
          -0.11823130221720225,
          0.24617691833465974,
          2.6309639985681073,
          1.753836530540974,
          0.19052668133726008,
          3.2075765592979493,
          -0.5135370686439426,
          -0.5558015954974836,
          -0.6790654683906032,
          1.9454990655869162,
          1.0138399560973443,
          -2.4481953992637493,
          1.508730173325525,
          0.06741626546199668,
          1.0877956754920477,
          -0.9688252914494007,
          -1.0355132768175697,
          1.1232844841127805,
          -0.8783178183763852,
          0.7895780917887071,
          -1.1540135060405405,
          2.0379753117185526,
          -0.4708516965874727,
          0.8182610520389283,
          2.0711271906801327,
          0.872571365254893,
          1.3272333895558404,
          0.5423209786004016,
          -1.1506125603707609,
          0.8885489280148722,
          -1.2397759980283949,
          -0.041600183773215976,
          0.300875012586467,
          0.3453250546131079,
          -1.0709105188013814,
          2.3497121861386754,
          3.5176707465762136,
          -1.2673569185229452,
          0.10606059861483236,
          0.264401905156783,
          -1.8032441458165478,
          2.993074953842789,
          -0.24854766411465565,
          0.5454950490610072,
          1.667081566332334,
          1.3173834878763615,
          -0.595545178603447,
          0.03075544334884785,
          -2.572584774843361,
          -1.736814170396223,
          1.1121346482013028,
          -1.7092788154846739,
          0.7857126045098433,
          2.1270468146526436,
          -0.4142635243804573,
          -1.4744456104553811,
          3.322616354346705,
          2.4472604230286965,
          1.0708030727903644,
          0.6436114521164928,
          1.1765593015451612,
          -0.7091484400544852,
          -0.04680877244360012,
          -1.0680565134785953,
          -1.0698875911392522,
          -0.19342735244469744,
          1.3132823686449016,
          -2.402612841982229,
          0.40883769971772255,
          -1.3317653366491433,
          0.8029643316587388,
          1.3737882753608062,
          -0.06046639162472472,
          -1.23951545092084,
          2.119356571609442,
          -1.0903165215624078,
          0.26974868134265984,
          2.8836173973867427,
          -1.1019062277062535,
          -0.7591465372950336,
          0.23618331860180797,
          -1.7398426129610272,
          1.2080260777444105,
          1.0798546817267618,
          -0.206353309951546,
          -0.5678373271581753,
          -1.3828535858839868,
          -0.9235928922415748,
          0.8513353700437576,
          -0.08000959743169786,
          1.8243617690471305,
          -2.056943542257493,
          -0.07648174909603628,
          -0.08659487858356604,
          -2.0672237283125625,
          -0.22690600372694575,
          1.1191504268107084,
          0.6569709444673991,
          0.10376745894890269,
          0.14188760714967583,
          -0.002594935432943473,
          -0.3562776259718899,
          -0.28649097392656114,
          0.36264904066238385,
          3.3304710592497146,
          1.8433412019835858,
          -1.0623198877052402,
          -0.5562435096226968,
          -1.8909395047797657,
          -1.404407308578069,
          1.707592168452176,
          -1.231371601347284,
          1.3194843573526307,
          0.2547655506670709,
          -1.7125689406685736,
          -0.08381924102458031,
          -1.1180977001665164,
          -0.13450826843150476,
          -1.4187859886081573,
          0.42741810162828303,
          -1.2916652347848856,
          0.5768911920412114,
          -2.257556893461039,
          1.1464715843124262,
          -0.015805578599995162,
          -0.3228763938159439,
          1.788293508741074,
          -0.3613920030210672,
          2.9881373846759534,
          -1.0561873461845823,
          -2.699223787351355,
          1.088714736448369,
          -1.2570115111268656,
          1.1634922470288722,
          -1.2928394010946545,
          -1.2312567290829874,
          1.3859548013529985,
          -1.0196031009434734,
          1.3743303296192426,
          -1.1898840411743064,
          -0.9862680258659265,
          -2.2211672241489127,
          -1.15894260127256,
          1.5593556585064507,
          0.08880333624772584,
          -1.7350541465162805,
          -1.3691371043125524,
          -0.5185651478625154,
          -1.0123987645254908,
          1.57836612736461,
          -0.7088958069505225,
          -0.30498821841436646,
          0.22943325107166834,
          -0.32185188148990995,
          -0.7843311666314615,
          -1.3325901706723373,
          -1.3014250405031804,
          1.9007137654190454,
          0.17633830521904015,
          -0.27569177214078916,
          1.108866264442019,
          -0.7626019301573581,
          0.5214406928870325,
          3.4165724710300625,
          -0.03415160778507666,
          -0.19303855198953684,
          0.3875542115808724,
          -0.30915316665165804,
          -1.3087279871804949,
          0.3989037672917166,
          1.8474186023506105,
          -1.273041758772437,
          -0.6951953759392238,
          -0.25480749243249173,
          2.0567321151887215,
          -1.6508648528045666,
          -1.1074098959000012,
          0.611495883397558,
          0.12075920734608847,
          2.420124481257736,
          -2.9278285407616713,
          -1.0592258658479528,
          1.3313582746383439,
          0.026837112028195106,
          -0.16566687610072364,
          -0.3126964612229249,
          -0.1940835368301645,
          -0.19733930372029204,
          -1.7930641860473882,
          -1.360710906013907,
          0.29972595750834985,
          -0.8474994113582477,
          -1.276195069948311,
          2.0128236102681223,
          1.675277565837938,
          2.753665894915867,
          -1.009558342722606,
          -0.5464562473556256,
          1.8306274316687556,
          -0.2558029510569047,
          2.0585808086148085,
          -0.37137928091536815,
          -2.1460831846761073,
          -1.019159160346272,
          -1.473883142471192,
          -0.3078347359264464,
          1.2566398797273994,
          -1.495597239939205,
          -0.6474931276073159,
          -0.9081269058087218,
          0.3948415960626374,
          -0.05398226374264177,
          1.2239874483657653,
          1.1059428449173838,
          -0.5646480424300026,
          -2.101700166472007,
          -0.5792128706315394,
          0.763135403687292,
          0.014358703487860879,
          -1.0643880279802553,
          1.0880143278261634,
          -0.06759679576858856,
          -1.169162728379035,
          1.7093285531695421,
          -0.4011702351506551,
          0.37140071023057675,
          -0.1642867135030598,
          1.7092304962863298,
          2.5147252104937357,
          0.5302966334880286,
          -0.6308004908687428,
          -0.8425136312863021,
          0.020065222889824277,
          1.8579570926318354,
          0.23249342445162496,
          2.104978064134701,
          0.06814661489738426,
          0.8105980368861796,
          -0.19448657825913318,
          0.9967465300618203,
          -1.1038878960035359,
          1.508096418062161,
          -0.12356140711511002,
          0.2834941954030569,
          0.9897156671295426,
          -1.0293115416252467,
          -0.20656174121788526,
          0.3997729909483993,
          -1.2514157892307296,
          -1.3628902403962644,
          -1.1749283449819856,
          -0.9562264127731092,
          1.4432371579970533,
          0.2581282017563791,
          -1.0058015019615743,
          0.6132672881478795,
          -1.8109542568124661,
          -2.613636254924023,
          1.400787535671239,
          -0.24978536804415946,
          -1.6131114544953682,
          2.9033433369224517,
          0.27033741358401575,
          -0.43625694065404164,
          0.5118586693904743,
          -0.12874875700991656,
          -0.7104826117246147,
          -0.3603916158814539,
          -1.059154688180104,
          -0.37262493814360476,
          -0.49826434514758666,
          -1.8240243237486236,
          0.03871144413726947,
          1.6758380606938759,
          -0.9439025056153951,
          0.8402047648525871
         ],
         "yaxis": "y"
        }
       ],
       "layout": {
        "legend": {
         "tracegroupgap": 0
        },
        "template": {
         "data": {
          "bar": [
           {
            "error_x": {
             "color": "#2a3f5f"
            },
            "error_y": {
             "color": "#2a3f5f"
            },
            "marker": {
             "line": {
              "color": "#E5ECF6",
              "width": 0.5
             }
            },
            "type": "bar"
           }
          ],
          "barpolar": [
           {
            "marker": {
             "line": {
              "color": "#E5ECF6",
              "width": 0.5
             }
            },
            "type": "barpolar"
           }
          ],
          "carpet": [
           {
            "aaxis": {
             "endlinecolor": "#2a3f5f",
             "gridcolor": "white",
             "linecolor": "white",
             "minorgridcolor": "white",
             "startlinecolor": "#2a3f5f"
            },
            "baxis": {
             "endlinecolor": "#2a3f5f",
             "gridcolor": "white",
             "linecolor": "white",
             "minorgridcolor": "white",
             "startlinecolor": "#2a3f5f"
            },
            "type": "carpet"
           }
          ],
          "choropleth": [
           {
            "colorbar": {
             "outlinewidth": 0,
             "ticks": ""
            },
            "type": "choropleth"
           }
          ],
          "contour": [
           {
            "colorbar": {
             "outlinewidth": 0,
             "ticks": ""
            },
            "colorscale": [
             [
              0,
              "#0d0887"
             ],
             [
              0.1111111111111111,
              "#46039f"
             ],
             [
              0.2222222222222222,
              "#7201a8"
             ],
             [
              0.3333333333333333,
              "#9c179e"
             ],
             [
              0.4444444444444444,
              "#bd3786"
             ],
             [
              0.5555555555555556,
              "#d8576b"
             ],
             [
              0.6666666666666666,
              "#ed7953"
             ],
             [
              0.7777777777777778,
              "#fb9f3a"
             ],
             [
              0.8888888888888888,
              "#fdca26"
             ],
             [
              1,
              "#f0f921"
             ]
            ],
            "type": "contour"
           }
          ],
          "contourcarpet": [
           {
            "colorbar": {
             "outlinewidth": 0,
             "ticks": ""
            },
            "type": "contourcarpet"
           }
          ],
          "heatmap": [
           {
            "colorbar": {
             "outlinewidth": 0,
             "ticks": ""
            },
            "colorscale": [
             [
              0,
              "#0d0887"
             ],
             [
              0.1111111111111111,
              "#46039f"
             ],
             [
              0.2222222222222222,
              "#7201a8"
             ],
             [
              0.3333333333333333,
              "#9c179e"
             ],
             [
              0.4444444444444444,
              "#bd3786"
             ],
             [
              0.5555555555555556,
              "#d8576b"
             ],
             [
              0.6666666666666666,
              "#ed7953"
             ],
             [
              0.7777777777777778,
              "#fb9f3a"
             ],
             [
              0.8888888888888888,
              "#fdca26"
             ],
             [
              1,
              "#f0f921"
             ]
            ],
            "type": "heatmap"
           }
          ],
          "heatmapgl": [
           {
            "colorbar": {
             "outlinewidth": 0,
             "ticks": ""
            },
            "colorscale": [
             [
              0,
              "#0d0887"
             ],
             [
              0.1111111111111111,
              "#46039f"
             ],
             [
              0.2222222222222222,
              "#7201a8"
             ],
             [
              0.3333333333333333,
              "#9c179e"
             ],
             [
              0.4444444444444444,
              "#bd3786"
             ],
             [
              0.5555555555555556,
              "#d8576b"
             ],
             [
              0.6666666666666666,
              "#ed7953"
             ],
             [
              0.7777777777777778,
              "#fb9f3a"
             ],
             [
              0.8888888888888888,
              "#fdca26"
             ],
             [
              1,
              "#f0f921"
             ]
            ],
            "type": "heatmapgl"
           }
          ],
          "histogram": [
           {
            "marker": {
             "colorbar": {
              "outlinewidth": 0,
              "ticks": ""
             }
            },
            "type": "histogram"
           }
          ],
          "histogram2d": [
           {
            "colorbar": {
             "outlinewidth": 0,
             "ticks": ""
            },
            "colorscale": [
             [
              0,
              "#0d0887"
             ],
             [
              0.1111111111111111,
              "#46039f"
             ],
             [
              0.2222222222222222,
              "#7201a8"
             ],
             [
              0.3333333333333333,
              "#9c179e"
             ],
             [
              0.4444444444444444,
              "#bd3786"
             ],
             [
              0.5555555555555556,
              "#d8576b"
             ],
             [
              0.6666666666666666,
              "#ed7953"
             ],
             [
              0.7777777777777778,
              "#fb9f3a"
             ],
             [
              0.8888888888888888,
              "#fdca26"
             ],
             [
              1,
              "#f0f921"
             ]
            ],
            "type": "histogram2d"
           }
          ],
          "histogram2dcontour": [
           {
            "colorbar": {
             "outlinewidth": 0,
             "ticks": ""
            },
            "colorscale": [
             [
              0,
              "#0d0887"
             ],
             [
              0.1111111111111111,
              "#46039f"
             ],
             [
              0.2222222222222222,
              "#7201a8"
             ],
             [
              0.3333333333333333,
              "#9c179e"
             ],
             [
              0.4444444444444444,
              "#bd3786"
             ],
             [
              0.5555555555555556,
              "#d8576b"
             ],
             [
              0.6666666666666666,
              "#ed7953"
             ],
             [
              0.7777777777777778,
              "#fb9f3a"
             ],
             [
              0.8888888888888888,
              "#fdca26"
             ],
             [
              1,
              "#f0f921"
             ]
            ],
            "type": "histogram2dcontour"
           }
          ],
          "mesh3d": [
           {
            "colorbar": {
             "outlinewidth": 0,
             "ticks": ""
            },
            "type": "mesh3d"
           }
          ],
          "parcoords": [
           {
            "line": {
             "colorbar": {
              "outlinewidth": 0,
              "ticks": ""
             }
            },
            "type": "parcoords"
           }
          ],
          "pie": [
           {
            "automargin": true,
            "type": "pie"
           }
          ],
          "scatter": [
           {
            "marker": {
             "colorbar": {
              "outlinewidth": 0,
              "ticks": ""
             }
            },
            "type": "scatter"
           }
          ],
          "scatter3d": [
           {
            "line": {
             "colorbar": {
              "outlinewidth": 0,
              "ticks": ""
             }
            },
            "marker": {
             "colorbar": {
              "outlinewidth": 0,
              "ticks": ""
             }
            },
            "type": "scatter3d"
           }
          ],
          "scattercarpet": [
           {
            "marker": {
             "colorbar": {
              "outlinewidth": 0,
              "ticks": ""
             }
            },
            "type": "scattercarpet"
           }
          ],
          "scattergeo": [
           {
            "marker": {
             "colorbar": {
              "outlinewidth": 0,
              "ticks": ""
             }
            },
            "type": "scattergeo"
           }
          ],
          "scattergl": [
           {
            "marker": {
             "colorbar": {
              "outlinewidth": 0,
              "ticks": ""
             }
            },
            "type": "scattergl"
           }
          ],
          "scattermapbox": [
           {
            "marker": {
             "colorbar": {
              "outlinewidth": 0,
              "ticks": ""
             }
            },
            "type": "scattermapbox"
           }
          ],
          "scatterpolar": [
           {
            "marker": {
             "colorbar": {
              "outlinewidth": 0,
              "ticks": ""
             }
            },
            "type": "scatterpolar"
           }
          ],
          "scatterpolargl": [
           {
            "marker": {
             "colorbar": {
              "outlinewidth": 0,
              "ticks": ""
             }
            },
            "type": "scatterpolargl"
           }
          ],
          "scatterternary": [
           {
            "marker": {
             "colorbar": {
              "outlinewidth": 0,
              "ticks": ""
             }
            },
            "type": "scatterternary"
           }
          ],
          "surface": [
           {
            "colorbar": {
             "outlinewidth": 0,
             "ticks": ""
            },
            "colorscale": [
             [
              0,
              "#0d0887"
             ],
             [
              0.1111111111111111,
              "#46039f"
             ],
             [
              0.2222222222222222,
              "#7201a8"
             ],
             [
              0.3333333333333333,
              "#9c179e"
             ],
             [
              0.4444444444444444,
              "#bd3786"
             ],
             [
              0.5555555555555556,
              "#d8576b"
             ],
             [
              0.6666666666666666,
              "#ed7953"
             ],
             [
              0.7777777777777778,
              "#fb9f3a"
             ],
             [
              0.8888888888888888,
              "#fdca26"
             ],
             [
              1,
              "#f0f921"
             ]
            ],
            "type": "surface"
           }
          ],
          "table": [
           {
            "cells": {
             "fill": {
              "color": "#EBF0F8"
             },
             "line": {
              "color": "white"
             }
            },
            "header": {
             "fill": {
              "color": "#C8D4E3"
             },
             "line": {
              "color": "white"
             }
            },
            "type": "table"
           }
          ]
         },
         "layout": {
          "annotationdefaults": {
           "arrowcolor": "#2a3f5f",
           "arrowhead": 0,
           "arrowwidth": 1
          },
          "autotypenumbers": "strict",
          "coloraxis": {
           "colorbar": {
            "outlinewidth": 0,
            "ticks": ""
           }
          },
          "colorscale": {
           "diverging": [
            [
             0,
             "#8e0152"
            ],
            [
             0.1,
             "#c51b7d"
            ],
            [
             0.2,
             "#de77ae"
            ],
            [
             0.3,
             "#f1b6da"
            ],
            [
             0.4,
             "#fde0ef"
            ],
            [
             0.5,
             "#f7f7f7"
            ],
            [
             0.6,
             "#e6f5d0"
            ],
            [
             0.7,
             "#b8e186"
            ],
            [
             0.8,
             "#7fbc41"
            ],
            [
             0.9,
             "#4d9221"
            ],
            [
             1,
             "#276419"
            ]
           ],
           "sequential": [
            [
             0,
             "#0d0887"
            ],
            [
             0.1111111111111111,
             "#46039f"
            ],
            [
             0.2222222222222222,
             "#7201a8"
            ],
            [
             0.3333333333333333,
             "#9c179e"
            ],
            [
             0.4444444444444444,
             "#bd3786"
            ],
            [
             0.5555555555555556,
             "#d8576b"
            ],
            [
             0.6666666666666666,
             "#ed7953"
            ],
            [
             0.7777777777777778,
             "#fb9f3a"
            ],
            [
             0.8888888888888888,
             "#fdca26"
            ],
            [
             1,
             "#f0f921"
            ]
           ],
           "sequentialminus": [
            [
             0,
             "#0d0887"
            ],
            [
             0.1111111111111111,
             "#46039f"
            ],
            [
             0.2222222222222222,
             "#7201a8"
            ],
            [
             0.3333333333333333,
             "#9c179e"
            ],
            [
             0.4444444444444444,
             "#bd3786"
            ],
            [
             0.5555555555555556,
             "#d8576b"
            ],
            [
             0.6666666666666666,
             "#ed7953"
            ],
            [
             0.7777777777777778,
             "#fb9f3a"
            ],
            [
             0.8888888888888888,
             "#fdca26"
            ],
            [
             1,
             "#f0f921"
            ]
           ]
          },
          "colorway": [
           "#636efa",
           "#EF553B",
           "#00cc96",
           "#ab63fa",
           "#FFA15A",
           "#19d3f3",
           "#FF6692",
           "#B6E880",
           "#FF97FF",
           "#FECB52"
          ],
          "font": {
           "color": "#2a3f5f"
          },
          "geo": {
           "bgcolor": "white",
           "lakecolor": "white",
           "landcolor": "#E5ECF6",
           "showlakes": true,
           "showland": true,
           "subunitcolor": "white"
          },
          "hoverlabel": {
           "align": "left"
          },
          "hovermode": "closest",
          "mapbox": {
           "style": "light"
          },
          "paper_bgcolor": "white",
          "plot_bgcolor": "#E5ECF6",
          "polar": {
           "angularaxis": {
            "gridcolor": "white",
            "linecolor": "white",
            "ticks": ""
           },
           "bgcolor": "#E5ECF6",
           "radialaxis": {
            "gridcolor": "white",
            "linecolor": "white",
            "ticks": ""
           }
          },
          "scene": {
           "xaxis": {
            "backgroundcolor": "#E5ECF6",
            "gridcolor": "white",
            "gridwidth": 2,
            "linecolor": "white",
            "showbackground": true,
            "ticks": "",
            "zerolinecolor": "white"
           },
           "yaxis": {
            "backgroundcolor": "#E5ECF6",
            "gridcolor": "white",
            "gridwidth": 2,
            "linecolor": "white",
            "showbackground": true,
            "ticks": "",
            "zerolinecolor": "white"
           },
           "zaxis": {
            "backgroundcolor": "#E5ECF6",
            "gridcolor": "white",
            "gridwidth": 2,
            "linecolor": "white",
            "showbackground": true,
            "ticks": "",
            "zerolinecolor": "white"
           }
          },
          "shapedefaults": {
           "line": {
            "color": "#2a3f5f"
           }
          },
          "ternary": {
           "aaxis": {
            "gridcolor": "white",
            "linecolor": "white",
            "ticks": ""
           },
           "baxis": {
            "gridcolor": "white",
            "linecolor": "white",
            "ticks": ""
           },
           "bgcolor": "#E5ECF6",
           "caxis": {
            "gridcolor": "white",
            "linecolor": "white",
            "ticks": ""
           }
          },
          "title": {
           "x": 0.05
          },
          "xaxis": {
           "automargin": true,
           "gridcolor": "white",
           "linecolor": "white",
           "ticks": "",
           "title": {
            "standoff": 15
           },
           "zerolinecolor": "white",
           "zerolinewidth": 2
          },
          "yaxis": {
           "automargin": true,
           "gridcolor": "white",
           "linecolor": "white",
           "ticks": "",
           "title": {
            "standoff": 15
           },
           "zerolinecolor": "white",
           "zerolinewidth": 2
          }
         }
        },
        "title": {
         "text": "Total de Varianza Explicada: 37.31%"
        },
        "xaxis": {
         "anchor": "y",
         "domain": [
          0,
          1
         ],
         "title": {
          "text": "Componente Principal 1"
         }
        },
        "yaxis": {
         "anchor": "x",
         "domain": [
          0,
          1
         ],
         "title": {
          "text": "Componente Principal 2"
         }
        }
       }
      },
      "text/html": [
       "<div>                            <div id=\"b9aeb4a2-77e6-460c-93b1-9b7aaadfeaa7\" class=\"plotly-graph-div\" style=\"height:525px; width:100%;\"></div>            <script type=\"text/javascript\">                require([\"plotly\"], function(Plotly) {                    window.PLOTLYENV=window.PLOTLYENV || {};                                    if (document.getElementById(\"b9aeb4a2-77e6-460c-93b1-9b7aaadfeaa7\")) {                    Plotly.newPlot(                        \"b9aeb4a2-77e6-460c-93b1-9b7aaadfeaa7\",                        [{\"hovertemplate\": \"Componente Principal 1=%{x}<br>Componente Principal 2=%{y}<extra></extra>\", \"legendgroup\": \"\", \"marker\": {\"color\": \"#636efa\", \"symbol\": \"circle\"}, \"mode\": \"markers\", \"name\": \"\", \"orientation\": \"v\", \"showlegend\": false, \"type\": \"scatter\", \"x\": [-1.0223274759574963, -1.0023056356736637, 1.948064822125302, -1.4408908486588723, -0.5861477430513753, -1.0393024437613667, 1.3498581360562656, 0.4503967770695577, -1.2926585365050407, -1.2514480614946937, -1.5428143420253, -1.0643144364430925, 0.6590043181186498, -1.1335348193855188, 0.5616118589750021, -0.7325707687534896, -0.5817574547885155, 2.714089159865814, 3.182663040410658, -0.06631093972052633, 2.1704570862561385, -0.12013308559970035, -1.3563412730396327, 0.3879782682682302, 0.49907162762287155, 0.39794319145295287, 0.3301518010692121, 1.0828849072029787, 1.9425862969176257, 1.299203647265383, -1.6284684117344277, 0.06158230917745216, -0.3433284605604994, 0.5573281801314123, -0.5437997858557777, -1.552138467567801, -1.9996018722229887, -1.2251520220052559, -0.20553768873227343, 2.38565102737749, -1.5694769027901136, 2.9059450203688644, -1.0113296290970952, -0.7561340856910035, -0.7595509801351766, -0.9856492157880127, -1.466621833971989, -1.199574803475801, -0.6236839019985965, 1.3101274543318462, 2.2454821097015603, -0.1633437922234404, -1.2484284788458329, -0.1807909314768609, 0.05129930085946832, 0.3137161653107747, 2.4421995137198786, -0.5693648618398939, -0.9462007013602606, 3.1909639342844267, -0.1575700830754783, 2.3764263642870755, -1.2897950342939175, -1.667863679279876, -0.5588696531526067, -1.0871396933816388, 1.1344603967755844, -0.9445835241492451, 0.8728689934090353, -0.8636553094826207, -1.5279948681669409, 3.0333360652654777, -0.8313162919927994, 3.2918820618461417, -0.6016343414566374, 2.7438490318585558, 2.7034955323733643, 0.014519561129862267, 1.2031060929011164, 1.5586036084127257, 2.147307636036928, 2.3844385816950577, 1.0716406536152414, -1.9480751120710276, 0.1509794130316495, -0.3773362160607289, 2.4445307817933855, 1.499354999265836, 1.0546099349575286, -0.06637675654237724, -0.02239891284228998, -0.3436781311291157, 0.1474722954829627, -1.0943525038750446, 0.3376823862362373, 0.690864369040868, -0.7227476859563802, -0.9698135262710554, 0.05346837920689648, -0.47926754671557686, -1.6987194396502794, -1.1295613831340299, -1.9426717659704362, -0.7263605946657963, -1.0889702794159541, -1.4607487091195972, 4.640791265780375, 1.1199431016069354, -1.059238244629585, -1.8205738477068238, 0.4662944366776696, -0.8215422386187498, -0.22272908680416037, -0.9111309049645362, -0.03211833897580388, -0.6645858108423693, -2.3810800049708134, -1.6085774743685548, -1.987566591430706, -0.32157577831359935, 0.09887016054591194, 2.3727439039336184, 2.3658238889083774, -1.7945681062577339, -0.6570011818134681, 1.2898002163288205, -0.7620091818609126, 1.9754433951818855, -0.695693868899511, -0.8765559651505456, -1.2737295115585199, 1.9436787050455744, 0.21929896912640276, 0.33487731408905275, 1.3867289877432325, -0.45221029430454335, 0.4792510680660781, 1.421736358643552, -1.0563297054427516, -0.17861871460728276, -1.6808884637498875, -0.763597540810257, 0.4346945759043665, 1.4334925102424516, -1.481092295002074, 0.6035970945535558, -0.786105639331943, 2.1292038152300674, 1.21291292665881, -1.0053965825737972, -0.5999250244111095, 0.3116659884519218, 1.656308659039406, -1.7780213263614641, 1.5308234112563204, 0.1479588476529173, -0.2776047473933977, -0.49809874295316164, -1.4323280215534264, 1.7835867192088974, 2.1230999663276764, 0.4062283073350127, -2.257335309009116, 2.5699399855751897, -0.28761582298781924, -0.13930816766831086, -1.1595594335153168, 2.674586903127456, -0.05376346707678958, -0.14578845575156138, -0.01651358178784248, -0.9694201835220075, 0.047945432574739905, -1.1342328891509932, -0.8514343379501285, -1.2739532348098899, 0.19806309685609155, 2.3954877531611745, 1.3962063880887627, 1.3620953277231547, -0.7905752581626408, -0.8725421909892492, -2.463309596598585, -1.6216009545032004, 0.6788610851750942, -0.06585967187541023, -2.090897562848877, -0.7820639174244257, 0.7125542098967189, 0.7664115259015013, -0.3698720693387479, 1.3952591364881137, -0.22865941391872963, 2.7078412168486534, -1.4250206392154208, -1.093812934515953, 0.16666357149325275, -0.48950837880587206, -1.0080431409196882, 0.6222894132586585, 0.5092232135504385, 2.5008456105857104, 2.052714904418619, -2.301053063697667, 2.03527383847557, 1.1376605696450588, 0.6072779641602947, 1.3264489850637886, 1.3933428078688563, 0.21752602260447473, -1.455952758241655, 1.4413724837853246, -1.3788704511794145, -0.7834373802382562, 1.1269446181560516, 0.5306608394918743, 3.2888575023029607, -0.9390795405425417, 0.3815397727216355, -1.4757922719234409, -0.6151442014551051, -1.7495957043592634, -0.5913991702548237, 2.0987882921493757, 1.3112112349458793, -0.11793749177532235, 0.3491056299838459, 2.4307526376752353, -1.245612354979159, 2.7561089870019564, -1.5533185866288208, -1.964150259709485, 2.4648441060555046, -0.6964585604662072, -0.9026587606518257, -2.662482304034396, 1.8409871982299424, -1.6815384552767287, -1.218692592288891, -0.5443931910819478, 0.18147962729908879, -0.6768700811907203, -1.9153095045075719, -1.2458611772945003, 1.574584088593526, 0.3196465364845388, -0.6971371840264933, -2.2642932627346846, -1.2539693795722668, 0.37192476610995534, 1.034063332285965, 1.8891859810873366, 0.19131340009969314, 4.162208598090921, -0.5125798865047211, -0.9008299683203208, -2.0910114827428115, 0.16200074194254352, -0.05520455427923322, 0.2854027584313495, 0.49569292731084447, -1.3850648580130795, -0.9235073208325116, -0.3620448471597082, 0.007711343216428075, 0.5368459676468698, -0.3025627493931906, -0.1585704616491397, 2.0376902731006274, -1.1117844593959312, -1.8379809784875754, -0.7120786348666976, 1.6377560206879407, -0.657941774193827, -0.1563276741411817, -0.5339441605493989, 0.7596160467791649, 0.451994141559826, 0.3641663706133296, -0.2739056814626241, -1.3032213576094553, -0.4996119752855474, -1.73314948556664, -1.3256390627727144, 2.239547881213797, -0.9610857265542992, -1.8074570104949845, -0.171230349306394, -1.4776366809365102, -2.1633748400711887, -1.2894953042153297, -1.3231687628051383, -1.2238045340820112, 3.1151199431219254, 2.377796671023559, 0.998570482131703, 3.1570257166384357, 1.756578541337923, -1.5858703050656413, 0.005288130367373303, -1.0080548655602948, 1.3405853940897656, -0.3411983800024961, -1.2883163649126441, -0.42153057982830977, 0.0416380347293501, -2.328669768158491, 1.3588935987806217, -0.06362029594994524, -0.11787122170377994, -0.04363534689623266, 0.16238391229727506, 0.5199227152050798, -1.8765010920405552, 2.267808904614497, -1.3020928253312993, 1.8924905165610444, -1.594332292028782, -1.2996253341100388, -0.7216755864250405, -0.7752891886731347, 0.31086213780380945, 0.6259510065546362, -1.495089026074277, -0.3458806809989835, -0.6960726224678232, -1.4654960464446818, -0.6302966960228518, -0.03829808052311602, -0.14098617022673376, 0.5484800679229456, -1.2375536020179918, 1.9265763229198625, -0.5920682960980189, 0.7197412519752701, 2.6425111776949217, -0.5745326176299292, -1.6349169562686927, -1.4076714701919648, 1.1436794678237725, -1.4147657975162717, 0.49715175755374136, 2.666664373418395, -1.6103079169806407, 2.0102811192189396, 2.516295072731285, -0.6599908547654315, 2.176286095733563, 0.09676395879405261, 2.438496501360775, 1.1210084449375988, -0.233387939730163, 1.092507427854453, 0.4016264765463617, 0.7785694656774957, -0.15254024575516062, -1.4444354489934468, -1.7217490238739663, 2.4049236298476226, -0.8741653060897351, -2.953838889279551, -1.3536286995140394, 2.5408510222422835, -0.12913311481486758, -1.9678257137367496, -0.9877900527945529, -0.9979511263920363, 2.1292252278011983, -0.8592329967799657, 0.5426746864036978, -0.4631399233408492, -1.0253844403425343, -0.1183974327940332, -0.08987217526336212, -0.28198803300056974, 0.2955199041497582, 3.4622119219476204, 1.3434063890297, -0.6940597601263189, 1.8211871117745524, 0.23804936290729414, -0.7905659045528519, 0.4539047569795953, -0.22572865107977444, 0.20833027481669913, 3.0090968573865453, -0.41807987625207227, -1.3046844711395365, 1.3732700586753654, 0.45120969368940356, 1.3635402591164896, 0.9138262030649013, -0.32946097577578404, 0.8483501295704398, 0.9856375455939741, -0.4792405717774987, 3.000986563842493, 0.24320790738794515, -0.11793749177532235, -0.2614971920912617, -0.29418719505038626, -0.1438838961435823, 1.5857534879158421, -1.5841067920321603, -0.21380859006576183, -0.033808789567703855, -1.3362443151984347, -0.36813227956596245, 0.5706352344611553, -1.0742322838664837, -0.16043992472814517, -0.4732425266943934, -0.8715748446855659, -0.6978242895533748, -0.09151621858276657, -0.28914274531438816, 2.599171409891901, -1.4783394320174759, 1.8929711179998714, 1.1875068725640383, 0.9501270284652208, -1.7582341139642124, -2.2916132974132175, -2.1355733072158163, 2.306936054635431, 1.8722497193028838, 0.21622375630037674, -0.19571332501640318, -0.8271800948199279, 1.7120179553459243, -0.7498003850087981, 0.31835316887686366, -1.6995546300435165, -0.762858945099345, -0.3612692876512302, -1.5717458628137275, -0.49605810236242237, 4.01924186454142, 0.17596123367316646, -0.5587857239992668, 1.180417041891469, -1.3543750057950403, -1.311012777373897, -1.8939868459372673, 1.2521204819832161, -1.4706272205041693, -1.387974582510002, 0.8944084478471145, -0.11793749177532235, 1.636940737555043, -1.0765030137430829, 0.7423492523635363, 1.8694546790266133, -0.37809310194418044, -0.14448680762544405, 1.703518168995933, -0.9317450551464445, 3.3999384415031733, -0.6351787612413518, -2.3038938010828804, -0.8578113787598445, 0.6248786350634868, -0.20462859858167676, -1.9034051205051308, -1.1043449666116019, 0.3098550797709125, 2.3111837666118604, -0.3085598948559275, 0.16630095950838023, 1.4281080649116014, 0.2801828318500421, -1.5336535492949614, -0.9041054131410675, -1.4993110021896834, -2.2646684620760835, -1.119057695532369, -1.9256795683221801, -1.3617698826967648, 0.3827292353642709, 1.1629011621383019, -0.3389581165089505, -1.190462725097737, -1.023750390212855, -0.6004018859492691, 2.341922099605586, -0.10412312720324782, -2.5212403098832645, -1.922919558272842, -1.5097899925337868, 0.9183878356400763, -0.4559053810982663, -0.8608556207115586, -0.322537273792556, -0.6466263473974639, 0.8743737650217682, 2.274547780796291, 0.9806842517520834, 1.398132043803461, -1.7372325521763068, -1.6664856846514426, -1.5917717830860234, 1.2942339374281109, -0.54223453626294, 2.0186406760048032, 2.000988521353693, -1.3297247531525056, -0.37931179996378095, 0.6038945401805882, -1.7379464003700078, 1.5840313749913386, -1.7575279166714601, 2.64580156232658, 0.455044592340181, -0.5138578919619204, -0.8805852738164313, 1.5052597856219825, -0.6327182186779714, -0.8458913346081552, -0.5589854070213548, -1.231398037870156, 3.461639846755476, 0.2746696682640627, -0.040282824254434996, -0.8139005420236695, 0.7996073050579664, 1.202252722998947, -0.44134823695055403, -1.7719063984497372, -1.372438502994698, 0.7938315763505481, 3.0988441032664604, 0.7692376381394733, 2.5941324447100094, -1.3058715523648035, 0.24519758526896226, 2.469405018678707, -1.1156882933612327, -0.10755493735586716, -0.06721764224026494, -1.0275660289144966, 1.1142389773775445, -0.3270962016710674, 1.038290512942698, 0.6930284521434721, -0.052774000558025044, -1.3487981809461003, 1.1432672312924168, -1.43418765464545, 2.6610777463022077, 2.7971820218425862, -0.2665981001025898, 1.1247604585994213, 0.18581040414563765, 1.7384880988202118, -0.3071840869485656, 0.1526801119955708, -1.8428612118216876, 0.5255393476034022, -1.2983894710145614, -0.7998254685459816, -2.2664396182598208, -0.9506946998227074, -0.4886172396656341, -0.12322514886214572, -0.8620511227537487, -0.3043900569529363, -1.3524258346658484, -0.07189560206526079, -0.6721315688791496, -0.5734004223754504, -0.6180415292922891, -1.4482580083617456, 3.4433365548956, -1.747546188076752, -2.191085148636444, -0.14843366235885064, -1.2503641878488818, -2.178751662819268, -0.48916375493955094, -2.1545925653602658, 3.5151120214445153, 1.4267228970155965, -2.330093768509932, -0.3117850776736445, -1.0038385834392933, 3.677251953360756, -1.0390251669492037, 0.688757533822789, 0.6778320364976292, 0.8806859543321226, -0.9388577373864825, 1.0395664904935071, -0.11681278137803415, -0.37202597667435394, 1.9044657205020197, 1.5440117560979862, 0.48058651411990494, 1.3246509982669683, -0.9252410138142309, 1.9590608070973576, -0.0205029915148615, -1.0742059335508682, -1.638623966385149, -1.687814405699815, 0.6037022661230194, -1.5295025363460302, -0.7730242904552331, -0.4927903084123616, -1.8577069838984528, 3.354935018441926, -1.4089289479821112, 0.05338083655739851, -1.4475909933417384, -1.076050743648449, -0.16170893043722032, -1.0069733120470064, -0.4227270770309618, -1.4414647735561268, -0.9663930386118239, -1.1319359131962743, -0.38589047525294956, 2.8242980910936906, -0.8445911062717735, 3.2648551794057963, 2.0299737621042464, -0.25388777262950646, -0.7321488876295121, 1.0802570490102545, 0.6378137015706435, -1.5810446635022593, -0.5411373074226887, 1.2523473033756285, -0.44941479550713187, 0.24432350597484467, -0.898708206680629, 1.9075138207581877, 2.5811344527255224, -1.3715892654778072, 0.9627224632891656, 0.8578156106619785, 2.047921211704727, -0.9153571324845685, 0.0804854568938951, 0.5235374929256664, 0.4125354911965776, -0.924879223123371, -1.4743991501099725, 0.4064173940289515, -0.6874316704429552, -0.8899797765161567, 0.05787091826619509, 0.29329257918377905, -1.4310837809042376, 0.41091299682735477, 0.5921006686353251, -0.18865450207237452, -2.1924673682898423, -0.8812803531626954, -0.3680273116432982, 1.696674521343519, 0.2760461474115934, -2.0800330122053103, -0.8269956641742608, 0.583159265328799, -0.42111501393562395, -0.8045165689586028, 1.8363737673035716, -0.2591035105974185, -1.5725853268103034, 1.486036946599312, -1.2137541775461735, -0.9633678803993317, 3.3362150907698744, 0.3610243080889966, -0.8691509997466996, -1.444989753494338, -0.808820045706058, -1.4401898779808013, -1.5158635768435533, 0.34467343333358735, 0.10685063427190142, -0.6326110108613722, -0.9558164008390614, 2.504243302342321, 0.6512117451344812, 2.7966374297381775, 0.024701449008033734, 1.1835008762530543, -1.101258373937676, -0.9719906833286972, 0.6030658011154272, 0.44788111264131114, 0.03475836130902208, -1.4618811192977967, 0.3868319321538427, 1.3802416167303702, 0.5190719708005516, -1.2466288007491446, 0.7392624487571573, 0.796794464457345, -1.1038157493123806, -0.434325472769159, 1.491667041709581, 0.17309721675186207, -0.9742829830318147, 1.8602055133369206, -1.6585035619549406, 1.4554212971912592, -1.4502984334295503, 0.9124635184052309, 1.3890328658752011, 0.1313732242147619, 1.314022060626006, 2.930598418163085, 0.8394091150310421, -1.1938402364047462, -0.5243820020118309, -0.6053195526748788, -2.353786671823542, -2.037557924672293, 0.10097825494823318, -0.34775699071266, -0.9654643227604726, 0.18496016536368615, -1.2762160536023641, -0.9977768992670082, 1.7741140704136154, -1.1802241812057988, 0.22117903620558788, 2.8224621120446955, -1.3399626966858416, -1.0715731994363142, -1.6003814006994945, 0.9475536791682397, 2.729468693314655, -1.2390125786155022, -2.3829844410370136, 0.5022873752631138, 2.4196324030455387, -0.21521603172393408, -0.07023018463373965, -0.9622840157296312, -2.6683699019165865, -1.346517522367863, -0.007672116901728416, -1.489625027255264, -1.6105709771957821, 2.258386547700476, -1.7319333269990314, 0.34060218655645724, -1.4917752049284545, 0.3473009984651236, -1.5755991576214197, -2.2053850551182768, 0.6414725823578098, 0.555964950074948, -1.2273613943220758, 3.1876935405132505, 1.7551581454104417, 0.24097340148871968, 1.75624904427165, -0.730315461050187, 2.207634414338577, -0.5864868929127165], \"xaxis\": \"x\", \"y\": [0.6489197962709251, -0.399591997043764, -1.2883221009715926, -1.150367198587563, -1.3825205420492614, 0.35178614590222756, 0.3547788418688016, 2.6509631863371967, 0.4579597285866962, 1.465255105026928, -0.6677263433796796, 1.4960144812390623, 1.1924729608077314, 1.046811053873831, -0.4347415817066117, 2.5082551615544384, 1.764191277555505, -0.9193337028856715, 1.3476064587748138, 1.2011851281703148, -0.5565237547216847, 3.7798752276278065, 0.23225101064038586, -0.5802133786338471, -1.7279930164317114, 0.5122575611945049, -0.5587233643958056, 0.10780854341893546, -1.2785115568719103, 2.088800762012041, 0.2205762176252731, -0.33988702928576575, -1.6726904853317037, 1.085104524761475, -1.2851028087098384, -2.152001066229146, -0.21169821229370248, 0.15212793236290675, 1.5295503688493863, -1.3119634149785495, 0.28362999824201457, -0.6525739539455212, 1.6218280159812017, 2.4097873691244924, -1.8864391501398545, -0.09695083504753142, 1.153291496621375, 2.317602904274183, 0.05909688189628058, -0.8826947457986678, -1.4761529731504692, -0.8652701125727893, -0.04493708096058205, -0.06426651892254062, -1.198343309393944, 0.8330489367582812, -0.2721331391843246, -2.380984827881603, -1.18732523019479, 2.021512184423651, -0.11340969199787596, -0.07482536074142493, 1.1404752375676848, -2.830086675176415, 0.7814426480671548, 2.3733950153528993, 0.9940078872058585, 1.4600965249664104, -1.8402266062687411, 2.1213308126310175, -0.06277108666274075, 1.2327662901541925, 0.23725451643086715, -1.1151468691320365, -2.3072532868603437, -0.9095644169716277, -1.0092363964572872, 1.5605388217987857, 2.7097282384748107, -0.39585757801454047, -0.01588458446273649, -1.5064442771468682, -0.2385091609320151, -2.3099121797959725, -1.4379768754807638, -0.08674752365687173, 1.5103235573701608, -1.1249909982572974, -0.8830827605797508, 2.301280076562289, -1.826955610037972, -1.663378790922953, -0.735821933601512, -1.0892533543049234, -0.8455944925660823, -0.569226495780879, -0.8144475628598814, 1.7995786493082302, -1.700280654647085, -0.8939118821273763, -2.1350424436456295, 0.4631084002484586, 0.2938848278518424, -1.4284422154398393, -0.2883409574708261, 0.40195189062460374, -0.11134835527012982, -1.1279169341443955, 1.866148231459004, 0.8129788831784113, -0.6307599352507391, 1.1891992215515579, 0.7389567523514214, 1.931969067295805, -2.422276329390753, 2.504243295042172, -0.8499046195673051, -0.49431663100044987, 0.8831630248347696, -0.4940877623543051, 1.4542199810835776, 0.7738150610641498, -0.741440361903907, -0.277030174433486, -1.7662496202987785, 1.1359766869005083, 0.8801418888219742, 0.7217664899241968, -2.220280097096771, 0.19369461312395314, -1.1512980238232116, -1.7021418093808467, -1.7747852624149476, 3.219703153917692, 0.822859341352304, 1.1877346908477433, -0.3473025140847427, -1.1892002124448067, -1.674351007605253, 0.23355085599720607, -2.616263062695478, -1.1514275998158159, -0.8337658876206192, -1.5851506463235259, 2.0984440614948134, -0.27272813700997994, 0.056676646807832805, 0.27581974564434836, -1.3116604024983562, 2.796132114691626, -1.5039606261944705, -0.852168922855716, -1.3191299085804677, 0.9219167165062409, -1.4701179405569382, 0.7530890024057536, 0.8144206322655005, -0.7633017879799321, 1.1286915814131984, -1.0002174716212127, -1.4375274523661536, 0.004999426655471837, -1.1144132585192204, -0.7053188422405664, -0.6128327057155841, -0.9232878100536897, -0.7333756098107437, 1.2708651982441057, -1.8602241428856672, 2.4193019481353226, 1.1686255611796617, 0.4879895914053187, -0.3047409740147972, -0.777544864086244, -1.4578863737135495, -0.18550838435823447, -0.6558020558943856, -1.2214231081065887, -1.5844447080348834, -0.47510539919071826, -0.5811666852930746, 2.432094660964424, -0.44910826708828633, -1.6540977622758242, -1.1386975957481458, 2.0170088420150063, -1.2754736075364983, 1.0886123065574047, 3.599271016191706, 0.2984520335727433, -0.16654145203251805, 2.636734534345144, 1.1823312697613788, -0.7063474675744646, -1.3158440803006546, 0.46447224823357575, -0.05137813659066142, 0.35544481531782646, 0.02459904205222316, -0.3017239048759842, -0.2659071735751248, -0.9317693652685459, 0.3224824938184187, -2.7331924317489484, 1.6391532539954659, -1.4824488505989246, -2.464196312138202, -1.1904322881843803, -2.5128791732404077, -0.1933037730250758, 0.8295431246214184, 0.3841923383659695, -3.4850971590560587, 1.8247973503109665, -0.7493587420811819, -0.12439589715283389, -1.0962675977107246, -1.4215010754964132, -2.636255613585465, -1.80236800212101, 2.2966433055316453, -2.0012541101904886, -1.072627058539657, -1.370266780026672, 3.0781997770657523, -1.873150360089746, -0.9523598755413228, -0.7364288311608503, 0.6168557704404443, 0.005890641809511258, 0.4792277604462508, -0.5516257726550864, 1.5276086001105686, -0.8894851394328752, 0.36680639379860125, -1.3442912254494181, -1.177261309082798, -2.0612684759677125, -0.1449093090885929, -1.0760723741123492, -0.4244156382760538, 0.1854866576340979, 0.7011158490135206, 1.156485675522435, -1.3452722209493428, -3.300132233433882, 2.2628960272482335, -0.00797236504616094, 0.48371415422395275, -0.851112827118351, -0.02608871508299519, -1.1855103136945144, 0.1282898876446069, -0.5683815764445582, 1.0470777635669541, 0.9725943603985298, -1.5573946029992092, -2.01052135526894, 0.5849433847194497, -0.05435691904615904, -0.8180604140839008, 0.39108655308382073, 1.1109269045835268, 0.33666618541748483, 1.7256495641095537, 2.206578120803428, -0.6347605591323374, -0.7792472035684648, 1.0248531530020246, 0.35490438712722966, -1.7196139010092684, -1.0786953899114775, -1.1925048666000602, 0.4943166858140426, 1.3708333714062875, 1.2844771501283652, -0.9160499332176857, -0.40202182621692606, -0.9688984038090219, -2.326140663462838, -1.7028302923911636, -0.40198484530213474, 0.8483306298340674, 0.30633997289580867, -0.794780667461976, 0.1646293724378743, 0.525917458141593, -0.547647178038553, -1.3819367133635116, 0.5989839679769685, 1.291116772067072, 1.92131324083983, 0.38759089296970245, -0.5436031614112469, -0.7843966588185641, -0.7041596646882775, -0.8116447061699358, 0.3086976744009953, -0.01733178164612381, -0.7876188556597702, -0.3960501176048162, 0.8880863855548402, 1.6713600807416849, -1.2101030500770855, 2.2414255215680785, 2.0344379249596845, 0.16133799495307893, -0.010495834538722819, 1.2219304445376573, 0.6218759029167804, -0.6061534735871257, 1.3341144294361336, -2.272704932712875, -1.6720662899638243, 2.575567665929728, -1.9708081357600644, 0.6708237349010066, -0.5762246818131371, 1.1417164749408069, 0.7729412770871921, 0.0181122429753735, -0.08979706482745546, 1.7656496291144501, 0.2907787595848211, -0.1695571556171012, 1.2186790234260858, -2.0298357064225057, 0.925983766007224, -0.7362981480106309, 1.796852205341802, -1.4524407181112937, 0.4013604301347654, -0.2724898660132612, 2.2300256688693003, -2.664773702740134, 1.5483275528281129, 1.700171992854083, -0.04463526752906358, -0.15957266297904424, -1.8492235116293967, -0.5034366294751114, 3.6844316018485803, 0.08815975815936729, -1.2286976042827817, -1.2212293807410879, -0.9856355485900412, -1.2291360130400901, 0.49492156758391503, 2.3399068876721443, 0.1131460678834802, 0.7439234541584558, -1.994242041396909, -0.3152322633955621, -0.6084151465733116, -0.6741050896239194, 2.9211016245654924, 0.9321248162422204, 1.2183718574984919, 1.139265064096741, -1.6828601022272451, -0.13773766604403712, -0.8556201049527852, 0.716702440950321, 0.9764994265957742, -0.03275142439877985, 2.0140196761547586, 2.033988715246785, 0.5518435835748274, 0.7821653073606283, -0.15589919717199, -0.20406293203536238, -0.11205472001710519, 0.9058048931719964, -0.3922793095693276, 0.9393800064934207, 0.005695996233705818, 0.5825645009629623, -0.5343746223467972, 1.878136198059454, -1.3414464201986636, 2.7108037373691998, 1.0043728742533504, -1.398150900587737, -0.9669460298670594, 1.3140614090707552, -0.8770597314690561, -0.7232845424877565, 1.0410370328939036, -0.7348033414199943, 0.6511652991550803, -1.3218325774192805, -0.3257199408630256, -0.8643241160644874, -0.6621001529413195, 1.3607191941807337, 1.0429428779806658, -1.0458240911693621, -1.7397058448164966, -1.873150360089746, 1.7183417868770077, -0.9436009533275634, -0.8969304233768342, 1.2959907953380319, 0.6081390999260297, 2.029106682921964, 1.8574049460339905, -1.2252845711525817, 0.19135418449634498, -0.5902281764535457, 0.24369261440317894, -0.7067690785822629, 0.7910577639230395, 1.3088851252456364, 2.269688861163662, -1.05229337441776, 1.2200272087600361, 2.028037866949588, -0.0899851929900228, 3.4163858537807688, -0.6242640280987021, -0.04000380641586785, 1.062367244156525, -1.3645099609662277, -0.05811505478528795, 1.1050923553139904, -1.2855417341855357, -0.5512747299989438, 3.2070951411200546, -1.1562436048923161, 1.2838045575856452, -0.0004693527397958365, 1.8953458575147422, -0.19078424099335212, -1.6433336850301927, 2.1998184475838922, 0.29346425735487475, -1.3151318681436697, -0.7255018851349138, -0.22604872969013154, -0.8921503775238521, -1.5679942607352158, 0.669169614723664, -0.25255532079854526, 0.5262458745911268, 0.8013307278455726, -1.8860570989674852, 0.8915492533735342, -1.2961587002607782, -1.873150360089746, -0.09120822136736932, -0.24250180414596584, -0.30256872061249157, -0.9641358482177464, -0.9671216023063879, -1.490512058119745, 0.8549434018688843, 1.6932186741085329, -0.4673692636556877, 2.2834660726997806, -2.565759962661178, 1.8817749143475837, -0.7553977195306166, -2.8678072178535694, 1.0891634402816077, -0.10295230079897251, -0.7284150365034265, 0.8499435719808023, -0.5184611220332607, 2.4801400757175798, 2.770703304075259, 1.2490759167141678, 0.8443865588193804, -0.7971288609092543, -0.4075301516020355, -1.3297280596067969, 1.596693108351056, -1.2295170429527884, 0.499905210359299, 3.0390070725171654, 1.5765296657257395, 1.2008248915454183, -0.9015882986182182, 0.28813306691760393, -1.076842530826379, -0.14242695650106227, -0.19700303281812542, -2.3601966019917042, 0.9705755373874368, -0.11823130221720225, 0.24617691833465974, 2.6309639985681073, 1.753836530540974, 0.19052668133726008, 3.2075765592979493, -0.5135370686439426, -0.5558015954974836, -0.6790654683906032, 1.9454990655869162, 1.0138399560973443, -2.4481953992637493, 1.508730173325525, 0.06741626546199668, 1.0877956754920477, -0.9688252914494007, -1.0355132768175697, 1.1232844841127805, -0.8783178183763852, 0.7895780917887071, -1.1540135060405405, 2.0379753117185526, -0.4708516965874727, 0.8182610520389283, 2.0711271906801327, 0.872571365254893, 1.3272333895558404, 0.5423209786004016, -1.1506125603707609, 0.8885489280148722, -1.2397759980283949, -0.041600183773215976, 0.300875012586467, 0.3453250546131079, -1.0709105188013814, 2.3497121861386754, 3.5176707465762136, -1.2673569185229452, 0.10606059861483236, 0.264401905156783, -1.8032441458165478, 2.993074953842789, -0.24854766411465565, 0.5454950490610072, 1.667081566332334, 1.3173834878763615, -0.595545178603447, 0.03075544334884785, -2.572584774843361, -1.736814170396223, 1.1121346482013028, -1.7092788154846739, 0.7857126045098433, 2.1270468146526436, -0.4142635243804573, -1.4744456104553811, 3.322616354346705, 2.4472604230286965, 1.0708030727903644, 0.6436114521164928, 1.1765593015451612, -0.7091484400544852, -0.04680877244360012, -1.0680565134785953, -1.0698875911392522, -0.19342735244469744, 1.3132823686449016, -2.402612841982229, 0.40883769971772255, -1.3317653366491433, 0.8029643316587388, 1.3737882753608062, -0.06046639162472472, -1.23951545092084, 2.119356571609442, -1.0903165215624078, 0.26974868134265984, 2.8836173973867427, -1.1019062277062535, -0.7591465372950336, 0.23618331860180797, -1.7398426129610272, 1.2080260777444105, 1.0798546817267618, -0.206353309951546, -0.5678373271581753, -1.3828535858839868, -0.9235928922415748, 0.8513353700437576, -0.08000959743169786, 1.8243617690471305, -2.056943542257493, -0.07648174909603628, -0.08659487858356604, -2.0672237283125625, -0.22690600372694575, 1.1191504268107084, 0.6569709444673991, 0.10376745894890269, 0.14188760714967583, -0.002594935432943473, -0.3562776259718899, -0.28649097392656114, 0.36264904066238385, 3.3304710592497146, 1.8433412019835858, -1.0623198877052402, -0.5562435096226968, -1.8909395047797657, -1.404407308578069, 1.707592168452176, -1.231371601347284, 1.3194843573526307, 0.2547655506670709, -1.7125689406685736, -0.08381924102458031, -1.1180977001665164, -0.13450826843150476, -1.4187859886081573, 0.42741810162828303, -1.2916652347848856, 0.5768911920412114, -2.257556893461039, 1.1464715843124262, -0.015805578599995162, -0.3228763938159439, 1.788293508741074, -0.3613920030210672, 2.9881373846759534, -1.0561873461845823, -2.699223787351355, 1.088714736448369, -1.2570115111268656, 1.1634922470288722, -1.2928394010946545, -1.2312567290829874, 1.3859548013529985, -1.0196031009434734, 1.3743303296192426, -1.1898840411743064, -0.9862680258659265, -2.2211672241489127, -1.15894260127256, 1.5593556585064507, 0.08880333624772584, -1.7350541465162805, -1.3691371043125524, -0.5185651478625154, -1.0123987645254908, 1.57836612736461, -0.7088958069505225, -0.30498821841436646, 0.22943325107166834, -0.32185188148990995, -0.7843311666314615, -1.3325901706723373, -1.3014250405031804, 1.9007137654190454, 0.17633830521904015, -0.27569177214078916, 1.108866264442019, -0.7626019301573581, 0.5214406928870325, 3.4165724710300625, -0.03415160778507666, -0.19303855198953684, 0.3875542115808724, -0.30915316665165804, -1.3087279871804949, 0.3989037672917166, 1.8474186023506105, -1.273041758772437, -0.6951953759392238, -0.25480749243249173, 2.0567321151887215, -1.6508648528045666, -1.1074098959000012, 0.611495883397558, 0.12075920734608847, 2.420124481257736, -2.9278285407616713, -1.0592258658479528, 1.3313582746383439, 0.026837112028195106, -0.16566687610072364, -0.3126964612229249, -0.1940835368301645, -0.19733930372029204, -1.7930641860473882, -1.360710906013907, 0.29972595750834985, -0.8474994113582477, -1.276195069948311, 2.0128236102681223, 1.675277565837938, 2.753665894915867, -1.009558342722606, -0.5464562473556256, 1.8306274316687556, -0.2558029510569047, 2.0585808086148085, -0.37137928091536815, -2.1460831846761073, -1.019159160346272, -1.473883142471192, -0.3078347359264464, 1.2566398797273994, -1.495597239939205, -0.6474931276073159, -0.9081269058087218, 0.3948415960626374, -0.05398226374264177, 1.2239874483657653, 1.1059428449173838, -0.5646480424300026, -2.101700166472007, -0.5792128706315394, 0.763135403687292, 0.014358703487860879, -1.0643880279802553, 1.0880143278261634, -0.06759679576858856, -1.169162728379035, 1.7093285531695421, -0.4011702351506551, 0.37140071023057675, -0.1642867135030598, 1.7092304962863298, 2.5147252104937357, 0.5302966334880286, -0.6308004908687428, -0.8425136312863021, 0.020065222889824277, 1.8579570926318354, 0.23249342445162496, 2.104978064134701, 0.06814661489738426, 0.8105980368861796, -0.19448657825913318, 0.9967465300618203, -1.1038878960035359, 1.508096418062161, -0.12356140711511002, 0.2834941954030569, 0.9897156671295426, -1.0293115416252467, -0.20656174121788526, 0.3997729909483993, -1.2514157892307296, -1.3628902403962644, -1.1749283449819856, -0.9562264127731092, 1.4432371579970533, 0.2581282017563791, -1.0058015019615743, 0.6132672881478795, -1.8109542568124661, -2.613636254924023, 1.400787535671239, -0.24978536804415946, -1.6131114544953682, 2.9033433369224517, 0.27033741358401575, -0.43625694065404164, 0.5118586693904743, -0.12874875700991656, -0.7104826117246147, -0.3603916158814539, -1.059154688180104, -0.37262493814360476, -0.49826434514758666, -1.8240243237486236, 0.03871144413726947, 1.6758380606938759, -0.9439025056153951, 0.8402047648525871], \"yaxis\": \"y\"}],                        {\"legend\": {\"tracegroupgap\": 0}, \"template\": {\"data\": {\"bar\": [{\"error_x\": {\"color\": \"#2a3f5f\"}, \"error_y\": {\"color\": \"#2a3f5f\"}, \"marker\": {\"line\": {\"color\": \"#E5ECF6\", \"width\": 0.5}}, \"type\": \"bar\"}], \"barpolar\": [{\"marker\": {\"line\": {\"color\": \"#E5ECF6\", \"width\": 0.5}}, \"type\": \"barpolar\"}], \"carpet\": [{\"aaxis\": {\"endlinecolor\": \"#2a3f5f\", \"gridcolor\": \"white\", \"linecolor\": \"white\", \"minorgridcolor\": \"white\", \"startlinecolor\": \"#2a3f5f\"}, \"baxis\": {\"endlinecolor\": \"#2a3f5f\", \"gridcolor\": \"white\", \"linecolor\": \"white\", \"minorgridcolor\": \"white\", \"startlinecolor\": \"#2a3f5f\"}, \"type\": \"carpet\"}], \"choropleth\": [{\"colorbar\": {\"outlinewidth\": 0, \"ticks\": \"\"}, \"type\": \"choropleth\"}], \"contour\": [{\"colorbar\": {\"outlinewidth\": 0, \"ticks\": \"\"}, \"colorscale\": [[0.0, \"#0d0887\"], [0.1111111111111111, \"#46039f\"], [0.2222222222222222, \"#7201a8\"], [0.3333333333333333, \"#9c179e\"], [0.4444444444444444, \"#bd3786\"], [0.5555555555555556, \"#d8576b\"], [0.6666666666666666, \"#ed7953\"], [0.7777777777777778, \"#fb9f3a\"], [0.8888888888888888, \"#fdca26\"], [1.0, \"#f0f921\"]], \"type\": \"contour\"}], \"contourcarpet\": [{\"colorbar\": {\"outlinewidth\": 0, \"ticks\": \"\"}, \"type\": \"contourcarpet\"}], \"heatmap\": [{\"colorbar\": {\"outlinewidth\": 0, \"ticks\": \"\"}, \"colorscale\": [[0.0, \"#0d0887\"], [0.1111111111111111, \"#46039f\"], [0.2222222222222222, \"#7201a8\"], [0.3333333333333333, \"#9c179e\"], [0.4444444444444444, \"#bd3786\"], [0.5555555555555556, \"#d8576b\"], [0.6666666666666666, \"#ed7953\"], [0.7777777777777778, \"#fb9f3a\"], [0.8888888888888888, \"#fdca26\"], [1.0, \"#f0f921\"]], \"type\": \"heatmap\"}], \"heatmapgl\": [{\"colorbar\": {\"outlinewidth\": 0, \"ticks\": \"\"}, \"colorscale\": [[0.0, \"#0d0887\"], [0.1111111111111111, \"#46039f\"], [0.2222222222222222, \"#7201a8\"], [0.3333333333333333, \"#9c179e\"], [0.4444444444444444, \"#bd3786\"], [0.5555555555555556, \"#d8576b\"], [0.6666666666666666, \"#ed7953\"], [0.7777777777777778, \"#fb9f3a\"], [0.8888888888888888, \"#fdca26\"], [1.0, \"#f0f921\"]], \"type\": \"heatmapgl\"}], \"histogram\": [{\"marker\": {\"colorbar\": {\"outlinewidth\": 0, \"ticks\": \"\"}}, \"type\": \"histogram\"}], \"histogram2d\": [{\"colorbar\": {\"outlinewidth\": 0, \"ticks\": \"\"}, \"colorscale\": [[0.0, \"#0d0887\"], [0.1111111111111111, \"#46039f\"], [0.2222222222222222, \"#7201a8\"], [0.3333333333333333, \"#9c179e\"], [0.4444444444444444, \"#bd3786\"], [0.5555555555555556, \"#d8576b\"], [0.6666666666666666, \"#ed7953\"], [0.7777777777777778, \"#fb9f3a\"], [0.8888888888888888, \"#fdca26\"], [1.0, \"#f0f921\"]], \"type\": \"histogram2d\"}], \"histogram2dcontour\": [{\"colorbar\": {\"outlinewidth\": 0, \"ticks\": \"\"}, \"colorscale\": [[0.0, \"#0d0887\"], [0.1111111111111111, \"#46039f\"], [0.2222222222222222, \"#7201a8\"], [0.3333333333333333, \"#9c179e\"], [0.4444444444444444, \"#bd3786\"], [0.5555555555555556, \"#d8576b\"], [0.6666666666666666, \"#ed7953\"], [0.7777777777777778, \"#fb9f3a\"], [0.8888888888888888, \"#fdca26\"], [1.0, \"#f0f921\"]], \"type\": \"histogram2dcontour\"}], \"mesh3d\": [{\"colorbar\": {\"outlinewidth\": 0, \"ticks\": \"\"}, \"type\": \"mesh3d\"}], \"parcoords\": [{\"line\": {\"colorbar\": {\"outlinewidth\": 0, \"ticks\": \"\"}}, \"type\": \"parcoords\"}], \"pie\": [{\"automargin\": true, \"type\": \"pie\"}], \"scatter\": [{\"marker\": {\"colorbar\": {\"outlinewidth\": 0, \"ticks\": \"\"}}, \"type\": \"scatter\"}], \"scatter3d\": [{\"line\": {\"colorbar\": {\"outlinewidth\": 0, \"ticks\": \"\"}}, \"marker\": {\"colorbar\": {\"outlinewidth\": 0, \"ticks\": \"\"}}, \"type\": \"scatter3d\"}], \"scattercarpet\": [{\"marker\": {\"colorbar\": {\"outlinewidth\": 0, \"ticks\": \"\"}}, \"type\": \"scattercarpet\"}], \"scattergeo\": [{\"marker\": {\"colorbar\": {\"outlinewidth\": 0, \"ticks\": \"\"}}, \"type\": \"scattergeo\"}], \"scattergl\": [{\"marker\": {\"colorbar\": {\"outlinewidth\": 0, \"ticks\": \"\"}}, \"type\": \"scattergl\"}], \"scattermapbox\": [{\"marker\": {\"colorbar\": {\"outlinewidth\": 0, \"ticks\": \"\"}}, \"type\": \"scattermapbox\"}], \"scatterpolar\": [{\"marker\": {\"colorbar\": {\"outlinewidth\": 0, \"ticks\": \"\"}}, \"type\": \"scatterpolar\"}], \"scatterpolargl\": [{\"marker\": {\"colorbar\": {\"outlinewidth\": 0, \"ticks\": \"\"}}, \"type\": \"scatterpolargl\"}], \"scatterternary\": [{\"marker\": {\"colorbar\": {\"outlinewidth\": 0, \"ticks\": \"\"}}, \"type\": \"scatterternary\"}], \"surface\": [{\"colorbar\": {\"outlinewidth\": 0, \"ticks\": \"\"}, \"colorscale\": [[0.0, \"#0d0887\"], [0.1111111111111111, \"#46039f\"], [0.2222222222222222, \"#7201a8\"], [0.3333333333333333, \"#9c179e\"], [0.4444444444444444, \"#bd3786\"], [0.5555555555555556, \"#d8576b\"], [0.6666666666666666, \"#ed7953\"], [0.7777777777777778, \"#fb9f3a\"], [0.8888888888888888, \"#fdca26\"], [1.0, \"#f0f921\"]], \"type\": \"surface\"}], \"table\": [{\"cells\": {\"fill\": {\"color\": \"#EBF0F8\"}, \"line\": {\"color\": \"white\"}}, \"header\": {\"fill\": {\"color\": \"#C8D4E3\"}, \"line\": {\"color\": \"white\"}}, \"type\": \"table\"}]}, \"layout\": {\"annotationdefaults\": {\"arrowcolor\": \"#2a3f5f\", \"arrowhead\": 0, \"arrowwidth\": 1}, \"autotypenumbers\": \"strict\", \"coloraxis\": {\"colorbar\": {\"outlinewidth\": 0, \"ticks\": \"\"}}, \"colorscale\": {\"diverging\": [[0, \"#8e0152\"], [0.1, \"#c51b7d\"], [0.2, \"#de77ae\"], [0.3, \"#f1b6da\"], [0.4, \"#fde0ef\"], [0.5, \"#f7f7f7\"], [0.6, \"#e6f5d0\"], [0.7, \"#b8e186\"], [0.8, \"#7fbc41\"], [0.9, \"#4d9221\"], [1, \"#276419\"]], \"sequential\": [[0.0, \"#0d0887\"], [0.1111111111111111, \"#46039f\"], [0.2222222222222222, \"#7201a8\"], [0.3333333333333333, \"#9c179e\"], [0.4444444444444444, \"#bd3786\"], [0.5555555555555556, \"#d8576b\"], [0.6666666666666666, \"#ed7953\"], [0.7777777777777778, \"#fb9f3a\"], [0.8888888888888888, \"#fdca26\"], [1.0, \"#f0f921\"]], \"sequentialminus\": [[0.0, \"#0d0887\"], [0.1111111111111111, \"#46039f\"], [0.2222222222222222, \"#7201a8\"], [0.3333333333333333, \"#9c179e\"], [0.4444444444444444, \"#bd3786\"], [0.5555555555555556, \"#d8576b\"], [0.6666666666666666, \"#ed7953\"], [0.7777777777777778, \"#fb9f3a\"], [0.8888888888888888, \"#fdca26\"], [1.0, \"#f0f921\"]]}, \"colorway\": [\"#636efa\", \"#EF553B\", \"#00cc96\", \"#ab63fa\", \"#FFA15A\", \"#19d3f3\", \"#FF6692\", \"#B6E880\", \"#FF97FF\", \"#FECB52\"], \"font\": {\"color\": \"#2a3f5f\"}, \"geo\": {\"bgcolor\": \"white\", \"lakecolor\": \"white\", \"landcolor\": \"#E5ECF6\", \"showlakes\": true, \"showland\": true, \"subunitcolor\": \"white\"}, \"hoverlabel\": {\"align\": \"left\"}, \"hovermode\": \"closest\", \"mapbox\": {\"style\": \"light\"}, \"paper_bgcolor\": \"white\", \"plot_bgcolor\": \"#E5ECF6\", \"polar\": {\"angularaxis\": {\"gridcolor\": \"white\", \"linecolor\": \"white\", \"ticks\": \"\"}, \"bgcolor\": \"#E5ECF6\", \"radialaxis\": {\"gridcolor\": \"white\", \"linecolor\": \"white\", \"ticks\": \"\"}}, \"scene\": {\"xaxis\": {\"backgroundcolor\": \"#E5ECF6\", \"gridcolor\": \"white\", \"gridwidth\": 2, \"linecolor\": \"white\", \"showbackground\": true, \"ticks\": \"\", \"zerolinecolor\": \"white\"}, \"yaxis\": {\"backgroundcolor\": \"#E5ECF6\", \"gridcolor\": \"white\", \"gridwidth\": 2, \"linecolor\": \"white\", \"showbackground\": true, \"ticks\": \"\", \"zerolinecolor\": \"white\"}, \"zaxis\": {\"backgroundcolor\": \"#E5ECF6\", \"gridcolor\": \"white\", \"gridwidth\": 2, \"linecolor\": \"white\", \"showbackground\": true, \"ticks\": \"\", \"zerolinecolor\": \"white\"}}, \"shapedefaults\": {\"line\": {\"color\": \"#2a3f5f\"}}, \"ternary\": {\"aaxis\": {\"gridcolor\": \"white\", \"linecolor\": \"white\", \"ticks\": \"\"}, \"baxis\": {\"gridcolor\": \"white\", \"linecolor\": \"white\", \"ticks\": \"\"}, \"bgcolor\": \"#E5ECF6\", \"caxis\": {\"gridcolor\": \"white\", \"linecolor\": \"white\", \"ticks\": \"\"}}, \"title\": {\"x\": 0.05}, \"xaxis\": {\"automargin\": true, \"gridcolor\": \"white\", \"linecolor\": \"white\", \"ticks\": \"\", \"title\": {\"standoff\": 15}, \"zerolinecolor\": \"white\", \"zerolinewidth\": 2}, \"yaxis\": {\"automargin\": true, \"gridcolor\": \"white\", \"linecolor\": \"white\", \"ticks\": \"\", \"title\": {\"standoff\": 15}, \"zerolinecolor\": \"white\", \"zerolinewidth\": 2}}}, \"title\": {\"text\": \"Total de Varianza Explicada: 37.31%\"}, \"xaxis\": {\"anchor\": \"y\", \"domain\": [0.0, 1.0], \"title\": {\"text\": \"Componente Principal 1\"}}, \"yaxis\": {\"anchor\": \"x\", \"domain\": [0.0, 1.0], \"title\": {\"text\": \"Componente Principal 2\"}}},                        {\"responsive\": true}                    ).then(function(){\n",
       "                            \n",
       "var gd = document.getElementById('b9aeb4a2-77e6-460c-93b1-9b7aaadfeaa7');\n",
       "var x = new MutationObserver(function (mutations, observer) {{\n",
       "        var display = window.getComputedStyle(gd).display;\n",
       "        if (!display || display === 'none') {{\n",
       "            console.log([gd, 'removed!']);\n",
       "            Plotly.purge(gd);\n",
       "            observer.disconnect();\n",
       "        }}\n",
       "}});\n",
       "\n",
       "// Listen for the removal of the full notebook cells\n",
       "var notebookContainer = gd.closest('#notebook-container');\n",
       "if (notebookContainer) {{\n",
       "    x.observe(notebookContainer, {childList: true});\n",
       "}}\n",
       "\n",
       "// Listen for the clearing of the current output cell\n",
       "var outputEl = gd.closest('.output');\n",
       "if (outputEl) {{\n",
       "    x.observe(outputEl, {childList: true});\n",
       "}}\n",
       "\n",
       "                        })                };                });            </script>        </div>"
      ]
     },
     "metadata": {},
     "output_type": "display_data"
    }
   ],
   "source": [
    "#Para visualización creamos dos o tres componentes para tener una idea de como se ve nuestra información continua\n",
    "#Tomando en cuenta la varianza explicada (algunas veces no es tan representativo)\n",
    "pca = PCA(n_components=2)\n",
    "dimention_2=pca.fit_transform(df_train_sc)\n",
    "total_var = pca.explained_variance_ratio_.sum() * 100\n",
    "fig = px.scatter(dimention_2, x=0, y=1,title=f'Total de Varianza Explicada: {total_var:.2f}%',\n",
    "                 labels={'0': 'Componente Principal 1', '1': 'Componente Principal 2'})\n",
    "fig.show()"
   ]
  },
  {
   "cell_type": "code",
   "execution_count": 1124,
   "metadata": {
    "ExecuteTime": {
     "end_time": "2021-08-21T17:47:26.284920Z",
     "start_time": "2021-08-21T17:47:26.203917Z"
    }
   },
   "outputs": [
    {
     "data": {
      "application/vnd.plotly.v1+json": {
       "config": {
        "plotlyServerURL": "https://plot.ly"
       },
       "data": [
        {
         "hovertemplate": "CP 1=%{x}<br>CP 2=%{y}<br>CP 3=%{z}<extra></extra>",
         "legendgroup": "",
         "marker": {
          "color": "#636efa",
          "symbol": "circle"
         },
         "mode": "markers",
         "name": "",
         "scene": "scene",
         "showlegend": false,
         "type": "scatter3d",
         "x": [
          -1.022327475957496,
          -1.0023056356736553,
          1.9480648221253016,
          -1.4408908486588714,
          -0.5861477430513742,
          -1.0393024437613656,
          1.3498581360562627,
          0.450396777069558,
          -1.2926585365050403,
          -1.251448061494694,
          -1.542814342025295,
          -1.0643144364430912,
          0.6590043181186485,
          -1.1335348193855141,
          0.5616118589749982,
          -0.7325707687534885,
          -0.5817574547885142,
          2.7140891598658157,
          3.182663040410659,
          -0.0663109397205271,
          2.170457086256138,
          -0.12013308559969929,
          -1.3563412730396318,
          0.3879782682682359,
          0.4990716276228686,
          0.3979431914529532,
          0.3301518010692083,
          1.0828849072029754,
          1.9425862969176249,
          1.299203647265384,
          -1.6284684117344284,
          0.061582309177452846,
          -0.3433284605605006,
          0.5573281801314106,
          -0.5437997858557739,
          -1.5521384675678025,
          -1.9996018722229894,
          -1.2251520220052556,
          -0.20553768873227324,
          2.3856510273774894,
          -1.5694769027901139,
          2.905945020368865,
          -1.0113296290970943,
          -0.7561340856910032,
          -0.759550980135177,
          -0.9856492157880136,
          -1.4666218339719899,
          -1.1995748034758018,
          -0.6236839019985969,
          1.3101274543318442,
          2.2454821097015585,
          -0.16334379222343715,
          -1.2484284788458335,
          -0.18079093147685998,
          0.05129930085946809,
          0.313716165310776,
          2.4421995137198755,
          -0.5693648618398948,
          -0.9462007013602588,
          3.1909639342844236,
          -0.15757008307547635,
          2.3764263642870733,
          -1.2897950342939173,
          -1.6678636792798778,
          -0.5588696531526047,
          -1.0871396933816402,
          1.1344603967755849,
          -0.9445835241492448,
          0.8728689934090335,
          -0.8636553094826208,
          -1.5279948681669435,
          3.0333360652654755,
          -0.8313162919928013,
          3.291882061846142,
          -0.6016343414566431,
          2.743849031858557,
          2.703495532373362,
          0.014519561129864056,
          1.2031060929011153,
          1.558603608412721,
          2.1473076360369263,
          2.384438581695055,
          1.0716406536152479,
          -1.9480751120710276,
          0.15097941303165077,
          -0.37733621606073225,
          2.4445307817933832,
          1.499354999265835,
          1.0546099349575253,
          -0.06637675654237926,
          -0.022398912842292003,
          -0.3436781311291168,
          0.14747229548296661,
          -1.0943525038750428,
          0.33768238623623303,
          0.6908643690408699,
          -0.7227476859563821,
          -0.9698135262710552,
          0.053468379206893936,
          -0.4792675467155738,
          -1.6987194396502803,
          -1.1295613831340288,
          -1.9426717659704376,
          -0.7263605946657976,
          -1.0889702794159533,
          -1.4607487091195965,
          4.640791265780377,
          1.1199431016069332,
          -1.0592382446295854,
          -1.8205738477068247,
          0.4662944366776731,
          -0.8215422386187501,
          -0.22272908680416242,
          -0.9111309049645364,
          -0.03211833897580794,
          -0.6645858108423692,
          -2.381080004970817,
          -1.6085774743685544,
          -1.9875665914307072,
          -0.3215757783135956,
          0.09887016054591076,
          2.372743903933617,
          2.365823888908377,
          -1.7945681062577186,
          -0.6570011818134742,
          1.2898002163288214,
          -0.7620091818609117,
          1.975443395181883,
          -0.6956938688995131,
          -0.8765559651505439,
          -1.2737295115585183,
          1.9436787050455733,
          0.2192989691263975,
          0.33487731408905563,
          1.386728987743235,
          -0.452210294304542,
          0.4792510680660788,
          1.421736358643551,
          -1.0563297054427532,
          -0.17861871460728326,
          -1.6808884637498895,
          -0.7635975408102547,
          0.43469457590436444,
          1.4334925102424505,
          -1.4810922950020753,
          0.6035970945535585,
          -0.7861056393319408,
          2.129203815230065,
          1.212912926658808,
          -1.0053965825737967,
          -0.5999250244111103,
          0.3116659884519215,
          1.6563086590394047,
          -1.7780213263614648,
          1.5308234112563193,
          0.1479588476529166,
          -0.2776047473933966,
          -0.4980987429531631,
          -1.4323280215534273,
          1.7835867192088963,
          2.1230999663276746,
          0.40622830733501225,
          -2.2573353090091177,
          2.56993998557519,
          -0.28761582298781563,
          -0.13930816766831064,
          -1.1595594335153159,
          2.6745869031274534,
          -0.05376346707679354,
          -0.1457884557515594,
          -0.016513581787843328,
          -0.9694201835220058,
          0.04794543257473829,
          -1.1342328891509919,
          -0.8514343379501277,
          -1.2739532348098908,
          0.1980630968560959,
          2.3954877531611736,
          1.3962063880887623,
          1.362095327723154,
          -0.7905752581626421,
          -0.8725421909892451,
          -2.4633095965985863,
          -1.621600954503203,
          0.6788610851750964,
          -0.06585967187540646,
          -2.0908975628488777,
          -0.7820639174244248,
          0.7125542098967221,
          0.7664115259015021,
          -0.3698720693387488,
          1.3952591364881126,
          -0.228659413918727,
          2.707841216848655,
          -1.4250206392154197,
          -1.0938129345159542,
          0.16666357149324804,
          -0.4895083788058759,
          -1.0080431409196866,
          0.6222894132586562,
          0.5092232135504418,
          2.5008456105857113,
          2.0527149044186164,
          -2.3010530636976694,
          2.0352738384755673,
          1.1376605696450572,
          0.6072779641602924,
          1.3264489850637875,
          1.3933428078688535,
          0.21752602260447493,
          -1.4559527582416563,
          1.441372483785323,
          -1.3788704511794174,
          -0.7834373802382545,
          1.1269446181560558,
          0.5306608394918718,
          3.2888575023029616,
          -0.93907954054254,
          0.38153977272163203,
          -1.4757922719234395,
          -0.6151442014551053,
          -1.7495957043592658,
          -0.5913991702548232,
          2.0987882921493752,
          1.3112112349458858,
          -0.11793749177532338,
          0.3491056299838429,
          2.4307526376752353,
          -1.245612354979158,
          2.756108987001956,
          -1.5533185866288215,
          -1.9641502597094875,
          2.464844106055501,
          -0.6964585604662042,
          -0.902658760651829,
          -2.6624823040343992,
          1.8409871982299413,
          -1.6815384552767287,
          -1.2186925922888903,
          -0.5443931910819473,
          0.18147962729909076,
          -0.6768700811907211,
          -1.9153095045075696,
          -1.2458611772944999,
          1.5745840885935256,
          0.31964653648453534,
          -0.6971371840264922,
          -2.264293262734687,
          -1.2539693795722662,
          0.3719247661099594,
          1.0340633322859698,
          1.8891859810873366,
          0.1913134000996975,
          4.162208598090923,
          -0.5125798865047202,
          -0.9008299683203198,
          -2.0910114827428123,
          0.16200074194253966,
          -0.05520455427923163,
          0.28540275843134966,
          0.4956929273108502,
          -1.3850648580130753,
          -0.9235073208325113,
          -0.362044847159708,
          0.007711343216430624,
          0.5368459676468682,
          -0.3025627493931874,
          -0.15857046164913977,
          2.0376902731006266,
          -1.1117844593959314,
          -1.8379809784875754,
          -0.7120786348666948,
          1.6377560206879398,
          -0.6579417741938294,
          -0.15632767414118193,
          -0.5339441605493974,
          0.7596160467791696,
          0.4519941415598249,
          0.3641663706133266,
          -0.2739056814626279,
          -1.303221357609457,
          -0.4996119752855473,
          -1.733149485566641,
          -1.325639062772718,
          2.2395478812137948,
          -0.9610857265542992,
          -1.8074570104949856,
          -0.17123034930639597,
          -1.477636680936509,
          -2.163374840071191,
          -1.2894953042153303,
          -1.3231687628051392,
          -1.2238045340820105,
          3.115119943121927,
          2.3777966710235594,
          0.9985704821317011,
          3.1570257166384357,
          1.7565785413379196,
          -1.5858703050656429,
          0.00528813036737769,
          -1.0080548655602926,
          1.3405853940897632,
          -0.3411983800024967,
          -1.2883163649126428,
          -0.4215305798283093,
          0.041638034729350536,
          -2.3286697681584925,
          1.3588935987806186,
          -0.0636202959499459,
          -0.11787122170377928,
          -0.04363534689622992,
          0.16238391229727414,
          0.5199227152050776,
          -1.876501092040557,
          2.267808904614495,
          -1.3020928253313004,
          1.892490516561043,
          -1.5943322920287821,
          -1.299625334110038,
          -0.7216755864250395,
          -0.7752891886731346,
          0.310862137803806,
          0.6259510065546363,
          -1.4950890260742764,
          -0.34588068099898156,
          -0.6960726224678238,
          -1.46549604644468,
          -0.6302966960228497,
          -0.03829808052311841,
          -0.14098617022673227,
          0.5484800679229436,
          -1.2375536020179905,
          1.9265763229198596,
          -0.5920682960980174,
          0.719741251975266,
          2.6425111776949195,
          -0.5745326176299291,
          -1.6349169562686934,
          -1.4076714701919655,
          1.1436794678237698,
          -1.4147657975162755,
          0.49715175755374535,
          2.6666643734183912,
          -1.610307916980641,
          2.0102811192189374,
          2.5162950727312827,
          -0.659990854765429,
          2.176286095733566,
          0.09676395879405367,
          2.438496501360776,
          1.1210084449375959,
          -0.23338793973016314,
          1.0925074278544602,
          0.40162647654635847,
          0.7785694656775026,
          -0.15254024575515934,
          -1.444435448993447,
          -1.7217490238739677,
          2.4049236298476204,
          -0.8741653060897351,
          -2.9538388892795555,
          -1.3536286995140383,
          2.540851022242281,
          -0.12913311481487022,
          -1.9678257137367512,
          -0.9877900527945539,
          -0.9979511263920362,
          2.1292252278011974,
          -0.8592329967799637,
          0.542674686403693,
          -0.4631399233408509,
          -1.0253844403425356,
          -0.11839743279403328,
          -0.0898721752633545,
          -0.2819880330005679,
          0.29551990414975576,
          3.4622119219476244,
          1.3434063890297059,
          -0.6940597601263189,
          1.8211871117745508,
          0.23804936290729675,
          -0.7905659045528504,
          0.4539047569795978,
          -0.22572865107977108,
          0.20833027481669664,
          3.009096857386545,
          -0.4180798762520772,
          -1.3046844711395362,
          1.3732700586753703,
          0.45120969368940667,
          1.3635402591164874,
          0.913826203064902,
          -0.3294609757757887,
          0.8483501295704401,
          0.9856375455939744,
          -0.4792405717774974,
          3.0009865638424924,
          0.2432079073879427,
          -0.11793749177532338,
          -0.2614971920912632,
          -0.29418719505038265,
          -0.14388389614357835,
          1.5857534879158388,
          -1.5841067920321608,
          -0.21380859006575925,
          -0.033808789567702925,
          -1.3362443151984342,
          -0.3681322795659599,
          0.5706352344611609,
          -1.074232283866483,
          -0.16043992472814153,
          -0.4732425266943952,
          -0.8715748446855646,
          -0.6978242895533738,
          -0.09151621858276224,
          -0.28914274531438616,
          2.5991714098918997,
          -1.4783394320174768,
          1.89297111799987,
          1.1875068725640394,
          0.9501270284652177,
          -1.7582341139642133,
          -2.291613297413219,
          -2.1355733072158145,
          2.306936054635429,
          1.8722497193028822,
          0.21622375630038154,
          -0.19571332501640124,
          -0.8271800948199283,
          1.712017955345922,
          -0.7498003850087982,
          0.318353168876863,
          -1.6995546300435178,
          -0.7628589450993457,
          -0.36126928765122823,
          -1.571745862813728,
          -0.496058102362422,
          4.01924186454142,
          0.17596123367317187,
          -0.5587857239992631,
          1.1804170418914668,
          -1.3543750057950408,
          -1.3110127773738964,
          -1.8939868459372688,
          1.252120481983212,
          -1.470627220504168,
          -1.3879745825100027,
          0.8944084478471132,
          -0.11793749177532338,
          1.636940737555041,
          -1.0765030137430838,
          0.7423492523635318,
          1.869454679026613,
          -0.3780931019441773,
          -0.1444868076254442,
          1.7035181689959307,
          -0.9317450551464448,
          3.399938441503174,
          -0.635178761241353,
          -2.303893801082882,
          -0.8578113787598437,
          0.624878635063485,
          -0.20462859858168017,
          -1.903405120505132,
          -1.1043449666116045,
          0.30985507977091375,
          2.3111837666118595,
          -0.3085598948559286,
          0.16630095950838472,
          1.428108064911605,
          0.28018283185004167,
          -1.533653549294961,
          -0.9041054131410649,
          -1.4993110021896834,
          -2.264668462076086,
          -1.1190576955323688,
          -1.9256795683221801,
          -1.3617698826967646,
          0.38272923536427406,
          1.162901162138302,
          -0.3389581165089493,
          -1.1904627250977355,
          -1.023750390212856,
          -0.6004018859492659,
          2.3419220996055845,
          -0.1041231272032489,
          -2.5212403098832663,
          -1.9229195582728444,
          -1.5097899925337877,
          0.9183878356400731,
          -0.45590538109826606,
          -0.8608556207115577,
          -0.3225372737925546,
          -0.6466263473974639,
          0.8743737650217698,
          2.2745477807962904,
          0.9806842517520901,
          1.3981320438034606,
          -1.7372325521763075,
          -1.6664856846514409,
          -1.5917717830860252,
          1.2942339374281076,
          -0.5422345362629382,
          2.0186406760048023,
          2.0009885213536927,
          -1.329724753152506,
          -0.37931179996378545,
          0.6038945401805882,
          -1.737946400370009,
          1.5840313749913366,
          -1.7575279166714564,
          2.6458015623265814,
          0.45504459234018085,
          -0.51385789196192,
          -0.8805852738164297,
          1.5052597856219794,
          -0.632718218677969,
          -0.8458913346081554,
          -0.558985407021352,
          -1.2313980378701563,
          3.461639846755476,
          0.27466966826405803,
          -0.040282824254435155,
          -0.8139005420236688,
          0.7996073050579695,
          1.202252722998946,
          -0.44134823695055003,
          -1.7719063984497387,
          -1.3724385029946973,
          0.7938315763505486,
          3.0988441032664604,
          0.7692376381394733,
          2.5941324447100085,
          -1.3058715523648043,
          0.24519758526896693,
          2.4694050186787058,
          -1.1156882933612342,
          -0.10755493735587061,
          -0.06721764224026272,
          -1.0275660289144972,
          1.1142389773775416,
          -0.3270962016710658,
          1.038290512942696,
          0.6930284521434742,
          -0.05277400055802363,
          -1.3487981809461005,
          1.1432672312924141,
          -1.4341876546454495,
          2.661077746302205,
          2.7971820218425867,
          -0.26659810010258894,
          1.1247604585994218,
          0.1858104041456337,
          1.738488098820209,
          -0.3071840869485646,
          0.15268011199556794,
          -1.842861211821689,
          0.525539347603401,
          -1.2983894710145614,
          -0.7998254685459809,
          -2.2664396182598168,
          -0.9506946998227052,
          -0.4886172396656328,
          -0.12322514886214396,
          -0.862051122753747,
          -0.3043900569529348,
          -1.3524258346658482,
          -0.07189560206526065,
          -0.6721315688791468,
          -0.5734004223754515,
          -0.6180415292922883,
          -1.4482580083617467,
          3.443336554895604,
          -1.747546188076752,
          -2.191085148636446,
          -0.1484336623588477,
          -1.2503641878488834,
          -2.17875166281927,
          -0.4891637549395488,
          -2.154592565360267,
          3.5151120214445184,
          1.426722897015603,
          -2.3300937685099314,
          -0.3117850776736435,
          -1.003838583439292,
          3.677251953360754,
          -1.0390251669492039,
          0.6887575338227867,
          0.6778320364976247,
          0.8806859543321286,
          -0.9388577373864821,
          1.0395664904935065,
          -0.1168127813780316,
          -0.3720259766743535,
          1.9044657205020195,
          1.5440117560979925,
          0.48058651411990394,
          1.3246509982669676,
          -0.9252410138142303,
          1.9590608070973548,
          -0.02050299151486225,
          -1.074205933550869,
          -1.6386239663851507,
          -1.6878144056998161,
          0.6037022661230187,
          -1.5295025363460306,
          -0.7730242904552334,
          -0.4927903084123589,
          -1.8577069838984537,
          3.3549350184419295,
          -1.4089289479821137,
          0.05338083655739839,
          -1.4475909933417388,
          -1.0760507436484474,
          -0.16170893043721976,
          -1.0069733120470052,
          -0.4227270770309606,
          -1.441464773556128,
          -0.9663930386118256,
          -1.1319359131962743,
          -0.3858904752529448,
          2.8242980910936883,
          -0.8445911062717706,
          3.2648551794057967,
          2.0299737621042473,
          -0.2538877726295063,
          -0.7321488876295111,
          1.0802570490102565,
          0.6378137015706474,
          -1.5810446635022617,
          -0.5411373074226853,
          1.252347303375627,
          -0.44941479550713465,
          0.24432350597484442,
          -0.8987082066806273,
          1.9075138207581859,
          2.5811344527255238,
          -1.3715892654778086,
          0.9627224632891639,
          0.8578156106619818,
          2.047921211704725,
          -0.915357132484567,
          0.08048545689389948,
          0.5235374929256649,
          0.41253549119657335,
          -0.9248792231233708,
          -1.4743991501099716,
          0.40641739402894694,
          -0.687431670442956,
          -0.8899797765161546,
          0.05787091826619612,
          0.2932925791837812,
          -1.431083780904238,
          0.41091299682735544,
          0.5921006686353225,
          -0.18865450207237267,
          -2.1924673682898446,
          -0.8812803531626937,
          -0.36802731164329777,
          1.6966745213435164,
          0.27604614741159234,
          -2.080033012205312,
          -0.8269956641742606,
          0.5831592653287968,
          -0.42111501393562023,
          -0.8045165689586057,
          1.8363737673035705,
          -0.2591035105974167,
          -1.5725853268103058,
          1.486036946599312,
          -1.2137541775461742,
          -0.9633678803993299,
          3.336215090769876,
          0.3610243080890012,
          -0.8691509997467003,
          -1.444989753494338,
          -0.8088200457060591,
          -1.4401898779807996,
          -1.515863576843554,
          0.34467343333358674,
          0.10685063427190643,
          -0.6326110108613708,
          -0.9558164008390613,
          2.50424330234232,
          0.6512117451344838,
          2.796637429738178,
          0.024701449008036305,
          1.1835008762530501,
          -1.1012583739376758,
          -0.9719906833286991,
          0.6030658011154268,
          0.44788111264131236,
          0.034758361309023156,
          -1.4618811192977963,
          0.38683193215384104,
          1.38024161673037,
          0.5190719708005499,
          -1.2466288007491442,
          0.739262448757154,
          0.7967944644573464,
          -1.1038157493123801,
          -0.43432547276915817,
          1.4916670417095865,
          0.17309721675185805,
          -0.974282983031812,
          1.8602055133369177,
          -1.658503561954941,
          1.455421297191258,
          -1.4502984334295512,
          0.9124635184052275,
          1.3890328658751987,
          0.13137322421476155,
          1.3140220606260036,
          2.930598418163084,
          0.8394091150310482,
          -1.193840236404746,
          -0.5243820020118299,
          -0.6053195526748777,
          -2.3537866718235447,
          -2.0375579246722935,
          0.10097825494823934,
          -0.34775699071265964,
          -0.9654643227604709,
          0.18496016536369164,
          -1.2762160536023637,
          -0.9977768992670066,
          1.7741140704136131,
          -1.1802241812057983,
          0.2211790362055937,
          2.822462112044693,
          -1.3399626966858404,
          -1.0715731994363136,
          -1.6003814006994959,
          0.9475536791682412,
          2.7294686933146544,
          -1.2390125786155013,
          -2.3829844410370162,
          0.5022873752631122,
          2.4196324030455374,
          -0.21521603172393078,
          -0.07023018463374041,
          -0.9622840157296314,
          -2.66836990191659,
          -1.3465175223678623,
          -0.00767211690173207,
          -1.4896250272552667,
          -1.6105709771957832,
          2.2583865477004794,
          -1.731933326999031,
          0.3406021865564609,
          -1.4917752049284545,
          0.34730099846512735,
          -1.5755991576214206,
          -2.2053850551182785,
          0.6414725823578057,
          0.5559649500749538,
          -1.227361394322074,
          3.187693540513251,
          1.7551581454104423,
          0.24097340148871704,
          1.756249044271647,
          -0.7303154610501875,
          2.207634414338577,
          -0.5864868929127159
         ],
         "y": [
          0.6489197962709301,
          -0.3995919970437701,
          -1.288322100971593,
          -1.1503671985875659,
          -1.3825205420492641,
          0.3517861459022257,
          0.35477884186880515,
          2.650963186337201,
          0.45795972858669576,
          1.4652551050269285,
          -0.6677263433796788,
          1.49601448123906,
          1.1924729608077336,
          1.0468110538738338,
          -0.4347415817066053,
          2.508255161554436,
          1.764191277555503,
          -0.9193337028856748,
          1.347606458774814,
          1.2011851281703165,
          -0.5565237547216849,
          3.779875227627807,
          0.23225101064038498,
          -0.5802133786338556,
          -1.7279930164317068,
          0.5122575611945028,
          -0.5587233643958005,
          0.10780854341893811,
          -1.2785115568719099,
          2.088800762012043,
          0.2205762176252744,
          -0.3398870292857696,
          -1.6726904853317035,
          1.0851045247614781,
          -1.2851028087098446,
          -2.152001066229146,
          -0.21169821229370178,
          0.152127932362906,
          1.5295503688493892,
          -1.3119634149785484,
          0.28362999824201407,
          -0.6525739539455214,
          1.6218280159812,
          2.409787369124492,
          -1.8864391501398554,
          -0.09695083504752983,
          1.1532914966213774,
          2.3176029042741857,
          0.059096881896281664,
          -0.8826947457986657,
          -1.4761529731504694,
          -0.8652701125727924,
          -0.04493708096058117,
          -0.06426651892254245,
          -1.1983433093939453,
          0.8330489367582797,
          -0.2721331391843175,
          -2.380984827881603,
          -1.1873252301947905,
          2.021512184423655,
          -0.11340969199787619,
          -0.07482536074142196,
          1.1404752375676857,
          -2.830086675176415,
          0.7814426480671537,
          2.373395015352904,
          0.9940078872058596,
          1.4600965249664108,
          -1.8402266062687396,
          2.1213308126310197,
          -0.06277108666273787,
          1.2327662901541967,
          0.23725451643086784,
          -1.115146869132039,
          -2.307253286860339,
          -0.9095644169716309,
          -1.0092363964572821,
          1.5605388217987846,
          2.7097282384748143,
          -0.3958575780145341,
          -0.015884584462735246,
          -1.506444277146865,
          -0.23850916093202174,
          -2.3099121797959734,
          -1.4379768754807674,
          -0.08674752365686621,
          1.510323557370164,
          -1.124990998257298,
          -0.8830827605797482,
          2.3012800765622923,
          -1.8269556100379716,
          -1.6633787909229532,
          -0.7358219336015162,
          -1.0892533543049263,
          -0.8455944925660768,
          -0.5692264957808822,
          -0.8144475628598804,
          1.7995786493082306,
          -1.7002806546470832,
          -0.893911882127382,
          -2.1350424436456303,
          0.4631084002484575,
          0.29388482785184383,
          -1.4284422154398397,
          -0.2883409574708274,
          0.40195189062460474,
          -0.11134835527013147,
          -1.1279169341443922,
          1.866148231459004,
          0.8129788831784132,
          -0.6307599352507425,
          1.18919922155156,
          0.7389567523514238,
          1.931969067295804,
          -2.422276329390749,
          2.5042432950421727,
          -0.8499046195673032,
          -0.49431663100044976,
          0.8831630248347715,
          -0.4940877623543099,
          1.4542199810835792,
          0.773815061064154,
          -0.7414403619039084,
          -0.27703017443347555,
          -1.7662496202987736,
          1.135976686900508,
          0.8801418888219721,
          0.7217664899241992,
          -2.2202800970967704,
          0.19369461312395153,
          -1.151298023823214,
          -1.7021418093808467,
          -1.7747852624149412,
          3.2197031539176875,
          0.822859341352299,
          1.1877346908477413,
          -0.34730251408474344,
          -1.189200212444805,
          -1.6743510076052517,
          0.23355085599720507,
          -2.6162630626954777,
          -1.1514275998158174,
          -0.833765887620617,
          -1.5851506463235254,
          2.0984440614948157,
          -0.27272813700998444,
          0.05667664680783045,
          0.27581974564435013,
          -1.3116604024983527,
          2.796132114691626,
          -1.50396062619447,
          -0.8521689228557175,
          -1.3191299085804673,
          0.9219167165062421,
          -1.4701179405569362,
          0.753089002405754,
          0.8144206322655003,
          -0.76330178797993,
          1.1286915814131986,
          -1.000217471621214,
          -1.4375274523661525,
          0.004999426655471592,
          -1.1144132585192186,
          -0.7053188422405691,
          -0.612832705715589,
          -0.9232878100536904,
          -0.7333756098107465,
          1.270865198244109,
          -1.8602241428856614,
          2.419301948135323,
          1.1686255611796628,
          0.48798959140531684,
          -0.30474097401479555,
          -0.7775448640862448,
          -1.457886373713552,
          -0.18550838435823397,
          -0.6558020558943909,
          -1.2214231081065894,
          -1.584444708034884,
          -0.4751053991907193,
          -0.5811666852930744,
          2.432094660964425,
          -0.44910826708828466,
          -1.6540977622758222,
          -1.13869759574815,
          2.017008842015003,
          -1.2754736075364994,
          1.0886123065574045,
          3.599271016191704,
          0.2984520335727419,
          -0.16654145203251755,
          2.6367345343451465,
          1.182331269761376,
          -0.706347467574467,
          -1.3158440803006555,
          0.4644722482335781,
          -0.051378136590655425,
          0.35544481531783234,
          0.024599042052220847,
          -0.30172390487598305,
          -0.2659071735751324,
          -0.9317693652685446,
          0.3224824938184221,
          -2.7331924317489484,
          1.6391532539954696,
          -1.4824488505989235,
          -2.4641963121382013,
          -1.1904322881843796,
          -2.512879173240406,
          -0.19330377302507606,
          0.8295431246214198,
          0.38419233836596994,
          -3.4850971590560587,
          1.8247973503109656,
          -0.7493587420811865,
          -0.12439589715283114,
          -1.0962675977107275,
          -1.421501075496414,
          -2.6362556135854627,
          -1.8023680021210133,
          2.296643305531648,
          -2.0012541101904873,
          -1.072627058539659,
          -1.3702667800266706,
          3.0781997770657394,
          -1.8731503600897443,
          -0.9523598755413176,
          -0.7364288311608507,
          0.616855770440445,
          0.005890641809510189,
          0.47922776044625126,
          -0.5516257726550834,
          1.5276086001105726,
          -0.8894851394328799,
          0.3668063937986062,
          -1.3442912254494168,
          -1.177261309082797,
          -2.0612684759677142,
          -0.14490930908859398,
          -1.0760723741123488,
          -0.4244156382760542,
          0.18548665763409888,
          0.7011158490135243,
          1.156485675522436,
          -1.345272220949343,
          -3.300132233433881,
          2.262896027248232,
          -0.00797236504615925,
          0.48371415422395236,
          -0.8511128271183547,
          -0.026088715082999973,
          -1.1855103136945138,
          0.12828988764460084,
          -0.568381576444559,
          1.047077763566954,
          0.9725943603985281,
          -1.5573946029992096,
          -2.0105213552689345,
          0.584943384719448,
          -0.05435691904615958,
          -0.8180604140839063,
          0.39108655308382323,
          1.110926904583527,
          0.33666618541748555,
          1.7256495641095508,
          2.2065781208034316,
          -0.6347605591323413,
          -0.7792472035684654,
          1.0248531530020255,
          0.35490438712722944,
          -1.7196139010092681,
          -1.0786953899114788,
          -1.19250486660006,
          0.49431668581404464,
          1.3708333714062904,
          1.284477150128364,
          -0.9160499332176908,
          -0.40202182621692406,
          -0.9688984038090169,
          -2.326140663462838,
          -1.7028302923911625,
          -0.40198484530213474,
          0.8483306298340684,
          0.30633997289581333,
          -0.794780667461974,
          0.1646293724378728,
          0.5259174581415941,
          -0.5476471780385511,
          -1.381936713363513,
          0.598983967976971,
          1.291116772067073,
          1.921313240839831,
          0.38759089296970195,
          -0.5436031614112489,
          -0.7843966588185655,
          -0.7041596646882766,
          -0.8116447061699359,
          0.3086976744009983,
          -0.01733178164612182,
          -0.787618855659776,
          -0.39605011760481784,
          0.8880863855548423,
          1.6713600807416882,
          -1.2101030500770882,
          2.2414255215680776,
          2.034437924959686,
          0.16133799495308143,
          -0.010495834538718838,
          1.2219304445376593,
          0.6218759029167803,
          -0.606153473587129,
          1.3341144294361356,
          -2.272704932712873,
          -1.672066289963825,
          2.575567665929728,
          -1.9708081357600644,
          0.6708237349010083,
          -0.5762246818131358,
          1.1417164749408057,
          0.7729412770871918,
          0.018112242975371513,
          -0.08979706482744913,
          1.7656496291144512,
          0.2907787595848204,
          -0.16955715561710263,
          1.2186790234260865,
          -2.029835706422509,
          0.9259837660072222,
          -0.7362981480106289,
          1.7968522053418003,
          -1.452440718111293,
          0.40136043013476314,
          -0.2724898660132567,
          2.2300256688692977,
          -2.66477370274013,
          1.5483275528281144,
          1.7001719928540842,
          -0.04463526752906294,
          -0.15957266297904374,
          -1.8492235116293927,
          -0.5034366294751073,
          3.6844316018485763,
          0.08815975815937262,
          -1.228697604282783,
          -1.2212293807410828,
          -0.9856355485900394,
          -1.2291360130400917,
          0.49492156758391026,
          2.3399068876721434,
          0.11314606788348057,
          0.7439234541584586,
          -1.9942420413969133,
          -0.31523226339557164,
          -0.6084151465733068,
          -0.6741050896239258,
          2.9211016245654906,
          0.9321248162422203,
          1.2183718574984943,
          1.1392650640967426,
          -1.682860102227246,
          -0.1377376660440329,
          -0.855620104952788,
          0.7167024409503255,
          0.9764994265957776,
          -0.0327514243987765,
          2.014019676154762,
          2.033988715246785,
          0.5518435835748289,
          0.7821653073606266,
          -0.15589919717198228,
          -0.20406293203536033,
          -0.11205472001710508,
          0.9058048931719976,
          -0.3922793095693264,
          0.9393800064934195,
          0.005695996233707461,
          0.5825645009629555,
          -0.5343746223468029,
          1.878136198059454,
          -1.3414464201986622,
          2.7108037373691976,
          1.0043728742533484,
          -1.3981509005877413,
          -0.9669460298670632,
          1.3140614090707614,
          -0.8770597314690554,
          -0.7232845424877498,
          1.0410370328939038,
          -0.7348033414199989,
          0.6511652991550775,
          -1.321832577419279,
          -0.3257199408630258,
          -0.8643241160644808,
          -0.6621001529413204,
          1.360719194180736,
          1.042942877980664,
          -1.0458240911693621,
          -1.739705844816496,
          -1.8731503600897443,
          1.71834178687701,
          -0.943600953327569,
          -0.8969304233768397,
          1.2959907953380363,
          0.6081390999260303,
          2.029106682921963,
          1.8574049460339892,
          -1.2252845711525833,
          0.19135418449634195,
          -0.5902281764535534,
          0.24369261440317877,
          -0.7067690785822673,
          0.7910577639230416,
          1.3088851252456364,
          2.2696888611636594,
          -1.0522933744177667,
          1.2200272087600361,
          2.028037866949588,
          -0.08998519299002188,
          3.416385853780772,
          -0.6242640280987054,
          -0.04000380641586588,
          1.0623672441565268,
          -1.364509960966228,
          -0.05811505478528529,
          1.1050923553139933,
          -1.2855417341855344,
          -0.5512747299989488,
          3.2070951411200523,
          -1.1562436048923155,
          1.2838045575856452,
          -0.00046935273979528615,
          1.895345857514743,
          -0.19078424099335106,
          -1.6433336850301925,
          2.199818447583888,
          0.29346425735487447,
          -1.31513186814367,
          -0.7255018851349128,
          -0.22604872969014142,
          -0.8921503775238576,
          -1.5679942607352133,
          0.6691696147236657,
          -0.25255532079854653,
          0.5262458745911289,
          0.8013307278455777,
          -1.8860570989674885,
          0.891549253373534,
          -1.2961587002607784,
          -1.8731503600897443,
          -0.09120822136736687,
          -0.24250180414596542,
          -0.30256872061248413,
          -0.9641358482177469,
          -0.9671216023063927,
          -1.4905120581197469,
          0.8549434018688863,
          1.693218674108535,
          -0.46736926365568915,
          2.283466072699782,
          -2.5657599626611804,
          1.8817749143475848,
          -0.755397719530616,
          -2.867807217853567,
          1.08916344028161,
          -0.10295230079897116,
          -0.7284150365034286,
          0.8499435719808043,
          -0.5184611220332621,
          2.4801400757175798,
          2.7707033040752553,
          1.249075916714169,
          0.8443865588193796,
          -0.7971288609092567,
          -0.407530151602036,
          -1.3297280596067957,
          1.5966931083510554,
          -1.2295170429527889,
          0.49990521035929925,
          3.0390070725171627,
          1.5765296657257413,
          1.2008248915454187,
          -0.9015882986182191,
          0.2881330669176051,
          -1.0768425308263856,
          -0.14242695650106196,
          -0.1970030328181256,
          -2.360196601991703,
          0.9705755373874387,
          -0.11823130221720116,
          0.246176918334665,
          2.6309639985681077,
          1.7538365305409738,
          0.19052668133725864,
          3.20757655929795,
          -0.513537068643945,
          -0.5558015954974823,
          -0.6790654683906093,
          1.9454990655869184,
          1.0138399560973461,
          -2.448195399263754,
          1.5087301733255278,
          0.06741626546200008,
          1.0877956754920444,
          -0.968825291449401,
          -1.0355132768175725,
          1.1232844841127814,
          -0.878317818376378,
          0.7895780917887072,
          -1.1540135060405403,
          2.037975311718555,
          -0.4708516965874718,
          0.8182610520389244,
          2.071127190680133,
          0.8725713652548933,
          1.32723338955584,
          0.5423209786004057,
          -1.150612560370762,
          0.8885489280148737,
          -1.2397759980283993,
          -0.041600183773214866,
          0.30087501258646404,
          0.3453250546131163,
          -1.070910518801383,
          2.3497121861386723,
          3.5176707465762123,
          -1.2673569185229447,
          0.1060605986148243,
          0.2644019051567844,
          -1.8032441458165502,
          2.993074953842789,
          -0.2485476641146573,
          0.5454950490610073,
          1.667081566332335,
          1.3173834878763626,
          -0.5955451786034522,
          0.030755443348850976,
          -2.5725847748433623,
          -1.7368141703962168,
          1.1121346482013001,
          -1.7092788154846734,
          0.7857126045098457,
          2.1270468146526413,
          -0.41426352438045644,
          -1.4744456104553831,
          3.3226163543467044,
          2.447260423028697,
          1.0708030727903675,
          0.6436114521164933,
          1.1765593015451663,
          -0.7091484400544871,
          -0.046808772443600294,
          -1.068056513478595,
          -1.0698875911392463,
          -0.19342735244469814,
          1.3132823686449016,
          -2.402612841982227,
          0.4088376997177237,
          -1.3317653366491427,
          0.8029643316587387,
          1.373788275360804,
          -0.06046639162471861,
          -1.239515450920841,
          2.119356571609441,
          -1.0903165215624095,
          0.2697486813426584,
          2.8836173973867427,
          -1.101906227706255,
          -0.759146537295034,
          0.23618331860180491,
          -1.739842612961026,
          1.2080260777444107,
          1.0798546817267638,
          -0.206353309951548,
          -0.5678373271581747,
          -1.3828535858839852,
          -0.9235928922415779,
          0.8513353700437615,
          -0.0800095974316969,
          1.8243617690471277,
          -2.0569435422574935,
          -0.0764817490960384,
          -0.08659487858357358,
          -2.067223728312562,
          -0.22690600372694714,
          1.1191504268107073,
          0.6569709444674013,
          0.10376745894890113,
          0.14188760714967813,
          -0.0025949354329358994,
          -0.35627762597189716,
          -0.2864909739265599,
          0.3626490406623859,
          3.330471059249714,
          1.843341201983588,
          -1.0623198877052396,
          -0.5562435096227029,
          -1.8909395047797675,
          -1.4044073085780706,
          1.7075921684521755,
          -1.231371601347278,
          1.3194843573526325,
          0.2547655506670733,
          -1.712568940668573,
          -0.0838192410245789,
          -1.1180977001665142,
          -0.13450826843150346,
          -1.4187859886081577,
          0.427418101628279,
          -1.2916652347848863,
          0.5768911920412109,
          -2.2575568934610386,
          1.1464715843124254,
          -0.015805578599996324,
          -0.32287639381594585,
          1.7882935087410747,
          -0.36139200302107055,
          2.9881373846759516,
          -1.056187346184582,
          -2.699223787351354,
          1.0887147364483685,
          -1.257011511126872,
          1.163492247028875,
          -1.2928394010946591,
          -1.2312567290829886,
          1.3859548013529983,
          -1.0196031009434752,
          1.3743303296192428,
          -1.1898840411743055,
          -0.9862680258659302,
          -2.2211672241489127,
          -1.1589426012725648,
          1.5593556585064512,
          0.08880333624772763,
          -1.735054146516281,
          -1.3691371043125533,
          -0.5185651478625126,
          -1.0123987645254926,
          1.5783661273646112,
          -0.7088958069505217,
          -0.3049882184143702,
          0.2294332510716708,
          -0.3218518814899129,
          -0.7843311666314667,
          -1.3325901706723364,
          -1.3014250405031764,
          1.9007137654190474,
          0.17633830521903954,
          -0.2756917721407823,
          1.108866264442024,
          -0.7626019301573602,
          0.5214406928870329,
          3.416572471030062,
          -0.03415160778507641,
          -0.19303855198953757,
          0.3875542115808749,
          -0.30915316665165876,
          -1.3087279871804938,
          0.398903767291713,
          1.8474186023506116,
          -1.2730417587724339,
          -0.6951953759392231,
          -0.2548074924324912,
          2.056732115188722,
          -1.650864852804566,
          -1.1074098959000074,
          0.6114958833975628,
          0.12075920734608991,
          2.420124481257734,
          -2.9278285407616718,
          -1.059225865847953,
          1.3313582746383434,
          0.026837112028192677,
          -0.16566687610072628,
          -0.31269646122293027,
          -0.19408353683016577,
          -0.19733930372029182,
          -1.7930641860473897,
          -1.3607109060139093,
          0.29972595750835207,
          -0.8474994113582474,
          -1.2761950699483178,
          2.0128236102681223,
          1.6752775658379369,
          2.75366589491587,
          -1.009558342722611,
          -0.5464562473556319,
          1.830627431668753,
          -0.2558029510569019,
          2.05858080861481,
          -0.37137928091536715,
          -2.146083184676108,
          -1.019159160346274,
          -1.473883142471197,
          -0.30783473592644733,
          1.2566398797274045,
          -1.4955972399392048,
          -0.6474931276073153,
          -0.908126905808722,
          0.3948415960626417,
          -0.05398226374264487,
          1.2239874483657665,
          1.1059428449173836,
          -0.5646480424300091,
          -2.101700166472005,
          -0.5792128706315418,
          0.7631354036872957,
          0.014358703487861611,
          -1.0643880279802551,
          1.0880143278261658,
          -0.06759679576858436,
          -1.169162728379031,
          1.7093285531695441,
          -0.40117023515065103,
          0.3714007102305769,
          -0.16428671350306653,
          1.7092304962863296,
          2.514725210493734,
          0.5302966334880266,
          -0.6308004908687416,
          -0.8425136312863027,
          0.02006522288981312,
          1.857957092631837,
          0.23249342445162377,
          2.104978064134692,
          0.06814661489738014,
          0.8105980368861775,
          -0.19448657825913052,
          0.9967465300618206,
          -1.1038878960035436,
          1.508096418062164,
          -0.12356140711511394,
          0.2834941954030556,
          0.9897156671295447,
          -1.0293115416252483,
          -0.20656174121788676,
          0.399772990948399,
          -1.2514157892307272,
          -1.3628902403962642,
          -1.1749283449819865,
          -0.9562264127731138,
          1.4432371579970544,
          0.25812820175637907,
          -1.0058015019615725,
          0.6132672881478789,
          -1.8109542568124608,
          -2.61363625492402,
          1.4007875356712405,
          -0.24978536804416498,
          -1.6131114544953713,
          2.9033433369224477,
          0.27033741358401614,
          -0.43625694065404524,
          0.5118586693904756,
          -0.1287487570099155,
          -0.7104826117246088,
          -0.360391615881461,
          -1.0591546881801066,
          -0.3726249381436044,
          -0.4982643451475889,
          -1.824024323748624,
          0.03871144413727316,
          1.6758380606938765,
          -0.9439025056153957,
          0.8402047648525903
         ],
         "z": [
          -0.0874826499486174,
          1.5744799701019383,
          -0.8242586367274596,
          0.619172725385688,
          1.1597780825984378,
          0.43703711616322155,
          -1.8045630706448645,
          0.34702275317735076,
          -0.0011161391609862516,
          -0.4840245915243477,
          1.1624733810642622,
          0.27875009911966125,
          -0.702606628551365,
          0.8461572716780548,
          -1.9396149937803677,
          0.10485732672725763,
          0.3269425137735988,
          0.9965756220509807,
          -0.0665931640329361,
          -0.937332801411269,
          -0.11107228634415851,
          0.10450781303319497,
          0.22489869544327673,
          3.0793639296630357,
          -1.3342382633198853,
          -0.028330678205169598,
          -2.011109189605155,
          -1.5571534421987532,
          -0.0799174474886915,
          0.8314834050218192,
          -0.37090340696182744,
          0.5446140010343086,
          0.04510389504965739,
          -0.35840733170445116,
          2.2424687535532453,
          -0.312356503097796,
          -0.6156520473546891,
          -0.11344736680212016,
          0.19196989635539025,
          -0.05423307205744003,
          -0.1624255644923424,
          0.19604410669394445,
          0.3522397035822153,
          0.05161523521237571,
          0.2963699925139451,
          -0.4665150241362831,
          -0.6622973148560388,
          -0.5587802764095386,
          -0.14908124505170361,
          -0.6575690802389604,
          -0.6101892226169506,
          2.1235453879335013,
          -0.35985790006908164,
          0.9508688904989124,
          -0.011760295534876038,
          0.32520098138526476,
          -1.151333592997492,
          -0.03063687613833761,
          1.1350838426143637,
          -1.4139800806464449,
          1.1986314546307444,
          -0.8151363489285122,
          -0.1396571784351035,
          -0.4367793265858428,
          0.9258276207874486,
          -0.7906742272092254,
          0.012181043844561505,
          -0.05535614204519986,
          -0.6665413919035689,
          -0.22805773219685008,
          -1.5802025631944678,
          -0.9575210721051194,
          -1.026700991082259,
          0.30451210127988165,
          -2.2065748729340675,
          1.50968869545117,
          -0.4216916566391721,
          1.0240717199606268,
          -0.6516623724062298,
          -1.349194319867967,
          -0.9068589956603859,
          -0.08237000974871918,
          3.4355817643906383,
          0.4439625671261366,
          0.8589324899368175,
          -1.5408842962231153,
          -1.144967554902741,
          -0.29309663171735556,
          -1.6405111482371875,
          -1.5963423874421951,
          -1.0398312915564796,
          -0.3737930938586863,
          2.3378291370676516,
          1.1331345103898744,
          -2.0121824753825646,
          0.8517625325785411,
          -0.7866820748800243,
          -0.10491261902479043,
          -1.1431917544071128,
          1.8009046040750418,
          -0.0041397068578768615,
          0.47990797329077695,
          -0.9019594262223691,
          -0.4724544850055522,
          0.5182878186164525,
          -0.028018656871736162,
          1.378136561383645,
          -0.7444161249903537,
          -0.4348417783127927,
          -0.8768819633838822,
          2.2592868732907783,
          -0.12412128750958246,
          -1.4477263306879753,
          -0.24069631013684484,
          -1.783998452225234,
          -0.15717361351493875,
          -1.3045758763707613,
          0.049597436295539435,
          -1.0619053329355188,
          1.9528606694497987,
          -1.1303786569495844,
          -1.3563091483511294,
          0.029549586995479243,
          3.033943131427593,
          -3.0938927319207625,
          0.19857955199099014,
          0.4677086063094513,
          -1.3548182350740694,
          -0.5173226082562855,
          0.7621204565814452,
          0.8600493794388039,
          -0.4644076960256064,
          -2.2395535112289764,
          1.3735915431632164,
          1.0811792220826002,
          0.45778679729953625,
          0.21146554666819586,
          -0.5609401868694477,
          -0.5928789270480743,
          -0.2022032537197629,
          -0.6633225545182739,
          1.5899891105706514,
          -1.0031828155049682,
          -0.18421350282320487,
          -0.73089574087435,
          1.2236087891757246,
          0.9593313724121507,
          -1.00813398686459,
          -0.8101864583101641,
          -0.2882577632693362,
          -0.1737090681612906,
          -0.04327574295683627,
          -0.3112328313866288,
          -0.7775726564449836,
          -0.5125224761276835,
          -0.6201884327736891,
          0.7132816942213411,
          -0.5428288601619866,
          -0.5005409529732633,
          -0.5673264526182641,
          -0.6355385604157705,
          -0.0008020899371584195,
          -0.8707818727278913,
          0.3708444129272344,
          1.965915087043295,
          0.22592429888897858,
          0.6685109509818968,
          -0.8672250283212655,
          -1.7581072299351956,
          0.8007202497900415,
          -0.6239577253676266,
          0.6709638892594365,
          -0.7272276370256836,
          0.6590131071050875,
          0.5504150593376442,
          -0.1418958166720928,
          2.5543417781883573,
          -0.34993275181767636,
          -0.2487304468209311,
          -0.351547093837166,
          -0.6067616273154764,
          0.7283218939341407,
          -1.3375158680996895,
          -1.2397906730740014,
          1.0679151517259828,
          1.5447608507856088,
          -0.24491575276507502,
          0.30748152014822927,
          1.2685793563585723,
          0.1543990947598471,
          -0.6177799657307108,
          -0.6675982897827277,
          1.2724552169798584,
          0.40663683326699035,
          0.6698783020332673,
          -0.4151667282376481,
          -2.418020853800827,
          -1.5027721233203557,
          0.8120653972224245,
          -1.3424230887871749,
          1.4511268618394726,
          0.17007861753610098,
          -1.5422896349078807,
          -0.6800225539960275,
          -1.621858173428483,
          -0.7007153529955652,
          -1.0529206543284302,
          -0.6196288273631106,
          -0.9763909948974736,
          -0.11599379003443318,
          -0.5878616008010368,
          -1.2149472100998406,
          -0.9784745467027508,
          0.47634833227430334,
          3.0107875803417006,
          -1.2972989164801763,
          0.4792946688465459,
          1.0756202647095146,
          -1.064281086887074,
          0.9318594612609102,
          -0.1784890209490255,
          -0.8161125647378582,
          0.48971646088005855,
          -0.25382090301842747,
          2.6324326022745406,
          0.036152175106381176,
          -1.5184095395390054,
          0.06269213522581951,
          0.008417882268623205,
          0.02430588520136845,
          -0.34746179118870163,
          -0.9513109768262388,
          -1.562373748792418,
          1.6624207144919858,
          -1.6062143504425532,
          -1.3760938776970306,
          -0.28505286848151856,
          0.7052475462964517,
          0.5492517383818762,
          0.7451559556816045,
          1.427860112455324,
          0.015357971541115347,
          0.07877272841848451,
          -0.2067273401970796,
          0.05336744164464856,
          -1.2812111980511203,
          0.18233005089836557,
          -0.9250096787983163,
          0.13001890298054447,
          2.519374671561075,
          2.81295415922697,
          -0.25349173996294466,
          2.344282090047626,
          1.5511431815177126,
          0.7165918979877143,
          0.45520553750189796,
          -0.14434836169555446,
          -1.66064869167659,
          0.9162289457589249,
          -0.033515901167662884,
          3.1645692047830476,
          0.6326644034629798,
          0.22982447983448537,
          0.12640034832668712,
          1.429451018194849,
          -1.2569240135399218,
          1.8725774019439754,
          -0.24022732826028448,
          -1.367738556026848,
          0.18945780361742195,
          -0.02542137944247445,
          1.4137922903764808,
          -0.30396067502258145,
          -1.3257519541741225,
          0.20146570724696813,
          0.6593335264475391,
          2.8939693099025368,
          -0.6703074344702837,
          -1.535776096491784,
          -1.6930470941193319,
          0.14401201117555668,
          0.7732363964922548,
          -0.7184237044527366,
          -1.8039499120497418,
          -1.1928989487786064,
          -0.04232431835137686,
          -0.6103331034210532,
          -0.516371730244007,
          0.651286861202039,
          -1.2272385261397942,
          -0.44933018065165314,
          -0.5418045732476668,
          0.28068601223115547,
          0.9555214480208192,
          0.08620608978255519,
          -0.9920834867622057,
          0.5518935571014733,
          -1.7494346248962844,
          -0.7745375898640766,
          2.5581711534156977,
          0.7989820639022118,
          -1.7820130460730386,
          -0.20838298860823187,
          0.8799157734246371,
          0.19068484944577685,
          0.39138593240330805,
          -1.4226713705199827,
          -1.5130738859952553,
          -0.8763247124977749,
          0.14474799735669194,
          1.827185244930152,
          -0.8256993539109933,
          -1.274566159372372,
          -0.7422096198354534,
          -1.5293265888308878,
          -0.67788138722068,
          -1.150938998519267,
          -0.5169805786740792,
          -0.1186228582920521,
          0.6091649911839108,
          0.2503204720047801,
          -2.034932383079782,
          -0.555599548855037,
          0.023616627243761023,
          1.2685809939464772,
          -0.10675210900309529,
          1.1503264838530662,
          0.893740882524786,
          -1.36246843080909,
          0.631618558574696,
          -0.9150872770041459,
          0.4833526273078821,
          -1.2663130556905826,
          0.5743428324604306,
          -1.347364347609576,
          -0.9196560665636053,
          0.25947031368004025,
          -0.18015937558366288,
          -0.5566453632644249,
          -1.1218307344017726,
          -2.130541872904506,
          1.3847306042717353,
          -1.535613288488716,
          0.3311309975331432,
          -0.7318013937280902,
          -0.5327646106048944,
          1.6174977326311168,
          1.8244712803267147,
          0.4038291727598764,
          0.5722138953543032,
          -1.6442089835384328,
          0.2556077151692402,
          3.7354983599119134,
          -1.6590844536998695,
          3.5074689744619305,
          0.4301364403295853,
          -0.17812190519226742,
          -0.8394794656052669,
          -1.210615834243309,
          0.14381678782414015,
          -2.035634253774927,
          0.5746191302535808,
          -1.4318186211916302,
          -1.601393564259071,
          -0.9798271122291464,
          -0.44503820515745424,
          -0.08014518970863314,
          -0.8359037069742924,
          0.5916048945276646,
          -2.294547066946713,
          -1.0562685242486718,
          -0.5565761527988683,
          0.4118849763299277,
          1.8463599103295554,
          1.016009902295006,
          -1.4936015330072832,
          1.076106293605962,
          3.3260951096642186,
          -0.15069659553646447,
          -0.3769011296684929,
          1.1204037257743367,
          0.7613373185217432,
          1.3444948960637124,
          2.06738907170262,
          -1.4519447446757259,
          0.15578813725804183,
          -2.615362733497198,
          -0.15856901244566826,
          3.338103164871881,
          1.9283718508290095,
          -0.838317369425437,
          0.3538060889753766,
          -2.4240245255066504,
          0.437668043971077,
          0.7438544918696909,
          0.8305106030480297,
          -0.10987448222992112,
          -1.0564611182471728,
          0.036152175106381176,
          -0.3912944822092382,
          2.09871224072076,
          2.201825175264764,
          -1.8751205300278797,
          -0.45486184625413184,
          1.0347603394703093,
          0.4396527562898741,
          0.7613433029209395,
          1.477956541703321,
          3.194619013062173,
          -0.04292390592744959,
          2.1004890927585365,
          -1.3051947350025188,
          0.3165435383208407,
          0.11780553579780137,
          2.515365426569169,
          0.6528452527236267,
          -1.073116184979457,
          -0.42334144121068623,
          -1.397267816966814,
          0.7139221910969845,
          -1.5191953266990292,
          -0.7854794871786478,
          -0.6590082594567189,
          0.09968859252378286,
          -1.1999198377081814,
          -0.4366560185141278,
          2.5181417705053506,
          0.45909179907686304,
          0.04255145525476728,
          -1.3452032257742892,
          0.3961423819954151,
          -1.0243001292873657,
          -0.4676924727210546,
          -0.08138671132066859,
          0.677025706218159,
          -0.2922703883982567,
          0.8945919357657318,
          0.20793274134149828,
          2.863286819253037,
          1.9669163817566155,
          -0.8807764018851654,
          -0.4584622477798273,
          0.4060228937409141,
          -0.8551785689972113,
          -2.0469853338249635,
          0.9193812406126155,
          -0.3271401608349216,
          -0.7104155210432099,
          0.036152175106381176,
          -1.2129515150429075,
          -0.5859191319066941,
          -2.396964531604913,
          -0.46074921919969436,
          1.965716447380253,
          0.009541452811680241,
          -1.5266917270620952,
          -0.2918642820014721,
          0.7855414517149735,
          -0.5542255462890758,
          0.16537952031086867,
          0.04644567248660627,
          -1.3558069845231147,
          -1.2039142438018802,
          -1.005276834919028,
          -1.2358587472161962,
          0.5228552582470184,
          -0.8720649003198842,
          -0.544321469389927,
          0.765246750985396,
          1.8075468543669044,
          -0.656996837588987,
          -0.13134168572903104,
          1.1710519704436935,
          0.06704016392026017,
          -0.6182319226593935,
          -0.21479367383163203,
          -0.02662773144334091,
          -0.24068206661218725,
          1.2194803861878538,
          -0.14832439047866716,
          0.6501046821724735,
          0.903499616859672,
          -0.5371943673341787,
          1.687417132253131,
          -0.37123306875470713,
          -0.331343643027956,
          -0.4730610644701566,
          -1.194320154943437,
          -0.45787711735895076,
          -1.7639237803346575,
          0.04430762414032184,
          0.2851198604109464,
          1.0162224994429574,
          -0.33899874985263684,
          0.9289106988312422,
          -0.4374697582342343,
          3.662199408159836,
          -0.10728737932593586,
          -0.6977355622351987,
          1.1227981906314393,
          -0.8917120332822102,
          -1.4591104774564063,
          0.8618264810028623,
          -0.2773609824298495,
          0.16237317947517282,
          -0.24020890571833847,
          -2.49008900248752,
          -0.07171678381322016,
          -0.6871015557245189,
          -1.3116508297093676,
          0.5422037240833023,
          1.302535361798819,
          0.3276923992597761,
          0.39937639617419673,
          0.3807998473387792,
          -1.7885673111979166,
          1.5999000499794376,
          -0.2527005415577855,
          1.9202477396224649,
          -0.35515541554007396,
          0.1630334537548187,
          -2.6118372760665087,
          0.1197869495431651,
          0.09123774228027184,
          1.407392254908359,
          -0.43240553058257547,
          1.7206124619858365,
          -0.7969599487366162,
          0.8763201434620503,
          -0.20752455149760446,
          0.24592003016310462,
          -0.16580003460349915,
          -1.0269182515803177,
          -0.4807202736275058,
          2.6264036508065978,
          -0.9142108394536868,
          -0.5246819794115573,
          -1.720283346426575,
          1.280967863317549,
          0.23567589859501062,
          -1.6933157850990967,
          0.6971540880031125,
          -1.033721372156439,
          1.118135432642946,
          0.33762000565251554,
          -0.6409538252235791,
          -1.8043234444194107,
          -0.11662654114389076,
          -1.625504783077585,
          0.48340946677255253,
          0.904294883505219,
          0.06530646873076212,
          -1.9281304691115413,
          -1.2792446687951005,
          0.6555628752258366,
          -1.2116724271656798,
          -0.7186289706428709,
          0.28832860435636176,
          -0.2687945841367286,
          -0.06740145624163699,
          0.12840780477210492,
          1.3329883832852107,
          0.4722967919360159,
          0.9613480445950141,
          0.8000205051979822,
          0.5754215051166051,
          0.1472317738744054,
          0.20207940459079413,
          1.3540133308945632,
          -0.4065085465692823,
          0.4821167376074279,
          -0.6029571264830338,
          1.3518143034220478,
          -0.21880824828444742,
          -0.8069321675563832,
          2.026566526402387,
          -0.7524497409397534,
          -0.7673641149779667,
          0.8462452227674289,
          -0.13214861989639734,
          1.465625499826679,
          3.7440348660566225,
          -0.4147115582162095,
          0.4993775446078787,
          0.4287877079469514,
          -0.5543275188989103,
          -0.1691531841242406,
          -1.492535715222789,
          -2.367703510922704,
          3.3915943297476994,
          0.40281565128975444,
          -0.42421674121755026,
          0.9091594487268339,
          0.22178860103051914,
          -0.11770270476907212,
          3.639669674111745,
          0.15485024844784417,
          -0.2864324603340348,
          -0.0001338089757264453,
          -0.7460844376800317,
          -0.9064028627876661,
          -0.03454351486683858,
          -0.7021230280274782,
          -0.32129889861958144,
          0.16814054263144862,
          -0.47643407029959645,
          0.21916915440470558,
          1.2092599968895732,
          -0.15689942759459452,
          1.4194192032227138,
          -0.8719649101642737,
          -0.32550183159607476,
          -0.28877810255408204,
          0.7141512276002809,
          0.41749202469049074,
          0.7611114936428697,
          0.3084480052265077,
          -0.6403044950634834,
          -0.5015305230393773,
          0.005556032572273467,
          2.493253531813642,
          -1.015057086177894,
          1.742059269903583,
          0.226565666967232,
          -0.3359417224152457,
          0.2631942632148812,
          0.5130769593137517,
          2.1534999255145384,
          2.4524411050511206,
          -0.8700085905946334,
          1.9227679798537962,
          -1.1183532066217858,
          -1.3667579113541968,
          0.15505330360891237,
          1.3491502360201435,
          -0.9222550989903255,
          0.3687822898130936,
          -0.7254473961209227,
          -0.9969135600470839,
          2.4504168487865456,
          -1.0735765633271876,
          0.8062649877221777,
          2.6120033863307355,
          -0.7677514913140937,
          -2.090915763299256,
          -0.21544709872082388,
          0.038686388941746655,
          -2.270993346664088,
          -0.4055683140993996,
          1.1244174677715384,
          0.867865159685524,
          0.7283652904051023,
          -0.3424586218664832,
          0.14818115151755895,
          -1.6456642330871425,
          1.4610409767489345,
          -0.6055832201715594,
          0.5770643107073686,
          0.2272319023430047,
          -0.876257812567023,
          -0.08534231895337466,
          -0.6040506365223951,
          -0.13581256927062896,
          -1.062346461184642,
          2.1371688874517,
          -1.3627843504505177,
          -0.900754358221588,
          0.6856363043782062,
          -0.928651781935942,
          0.22570840341391926,
          -0.3634050554906311,
          0.8433954045541532,
          0.6909474095662088,
          2.5814363201203556,
          -0.30804941464467034,
          -0.054445674897216544,
          -0.21023527957396596,
          0.6685022119738985,
          -0.5898366312104161,
          -0.07448353874925709,
          3.0144179520891816,
          0.1754681807288031,
          -0.2528925411702008,
          -0.6496179394442694,
          1.1967483983354197,
          0.2277860174454684,
          1.3859899853506568,
          -1.8294358897700647,
          -0.4505137668196359,
          -1.086069741356296,
          0.31014995307902726,
          0.7385636493108734,
          0.5020475516991666,
          -0.28559647390124243,
          -0.051427131545605714,
          -0.11884846293920527,
          -1.1223026342208897,
          0.42062341692822647,
          -2.0887112065126483,
          0.3709468425159577,
          -0.08889166534895629,
          0.3193734523636864,
          3.375095963155921,
          -2.1586209012121054,
          1.3242593968785135,
          -1.4702579491141952,
          -0.23413902605088424,
          -0.5115859068962386,
          -0.609550480746701,
          -0.9826786906996274,
          -0.650728087481411,
          -0.8987473613881315,
          -1.4679564887975778,
          -0.14097153439405133,
          3.3125743222179853,
          -0.2028670260193613,
          0.24585598443369733,
          0.4774854664719038,
          -0.9804644199597123,
          -0.3845637847460274,
          2.636803842895701,
          0.2476401831977196,
          0.6776838328431409,
          1.9164369983799339,
          0.3532864892422224,
          0.5627807813522405,
          -1.1435557616673193,
          -0.022027338407401214,
          3.086057750962473,
          -1.2056225918300956,
          0.5034977429438098,
          0.04098596902137917,
          -0.5719503087576528,
          0.9032822108961681,
          0.15934933119647232,
          0.29493081046304237,
          -1.0357949587984114,
          -1.0196158661245378,
          -0.2868363716704598,
          2.0816996864435096,
          -0.8343365973960997,
          0.15336185092721197,
          -1.2091495860677588,
          -0.03089364453047127,
          -1.6347578734405799,
          -0.8816471471297628,
          -0.8065540967796503,
          2.157287844748403,
          0.43438899323009456,
          1.5916420390389499,
          -0.14362362010883337,
          2.3642578604232676,
          -0.37541271152887706,
          -0.8182601327339342,
          -1.9038977752848265,
          3.1494503745649296,
          0.9025873368791073,
          0.17205740689041166,
          1.0768552634520727,
          -1.2181390428623224,
          -1.436614974688554,
          -0.2899756042984279,
          -0.15143204299531496,
          -0.7864388450631583
         ]
        }
       ],
       "layout": {
        "legend": {
         "tracegroupgap": 0
        },
        "scene": {
         "domain": {
          "x": [
           0,
           1
          ],
          "y": [
           0,
           1
          ]
         },
         "xaxis": {
          "title": {
           "text": "CP 1"
          }
         },
         "yaxis": {
          "title": {
           "text": "CP 2"
          }
         },
         "zaxis": {
          "title": {
           "text": "CP 3"
          }
         }
        },
        "template": {
         "data": {
          "bar": [
           {
            "error_x": {
             "color": "#2a3f5f"
            },
            "error_y": {
             "color": "#2a3f5f"
            },
            "marker": {
             "line": {
              "color": "#E5ECF6",
              "width": 0.5
             }
            },
            "type": "bar"
           }
          ],
          "barpolar": [
           {
            "marker": {
             "line": {
              "color": "#E5ECF6",
              "width": 0.5
             }
            },
            "type": "barpolar"
           }
          ],
          "carpet": [
           {
            "aaxis": {
             "endlinecolor": "#2a3f5f",
             "gridcolor": "white",
             "linecolor": "white",
             "minorgridcolor": "white",
             "startlinecolor": "#2a3f5f"
            },
            "baxis": {
             "endlinecolor": "#2a3f5f",
             "gridcolor": "white",
             "linecolor": "white",
             "minorgridcolor": "white",
             "startlinecolor": "#2a3f5f"
            },
            "type": "carpet"
           }
          ],
          "choropleth": [
           {
            "colorbar": {
             "outlinewidth": 0,
             "ticks": ""
            },
            "type": "choropleth"
           }
          ],
          "contour": [
           {
            "colorbar": {
             "outlinewidth": 0,
             "ticks": ""
            },
            "colorscale": [
             [
              0,
              "#0d0887"
             ],
             [
              0.1111111111111111,
              "#46039f"
             ],
             [
              0.2222222222222222,
              "#7201a8"
             ],
             [
              0.3333333333333333,
              "#9c179e"
             ],
             [
              0.4444444444444444,
              "#bd3786"
             ],
             [
              0.5555555555555556,
              "#d8576b"
             ],
             [
              0.6666666666666666,
              "#ed7953"
             ],
             [
              0.7777777777777778,
              "#fb9f3a"
             ],
             [
              0.8888888888888888,
              "#fdca26"
             ],
             [
              1,
              "#f0f921"
             ]
            ],
            "type": "contour"
           }
          ],
          "contourcarpet": [
           {
            "colorbar": {
             "outlinewidth": 0,
             "ticks": ""
            },
            "type": "contourcarpet"
           }
          ],
          "heatmap": [
           {
            "colorbar": {
             "outlinewidth": 0,
             "ticks": ""
            },
            "colorscale": [
             [
              0,
              "#0d0887"
             ],
             [
              0.1111111111111111,
              "#46039f"
             ],
             [
              0.2222222222222222,
              "#7201a8"
             ],
             [
              0.3333333333333333,
              "#9c179e"
             ],
             [
              0.4444444444444444,
              "#bd3786"
             ],
             [
              0.5555555555555556,
              "#d8576b"
             ],
             [
              0.6666666666666666,
              "#ed7953"
             ],
             [
              0.7777777777777778,
              "#fb9f3a"
             ],
             [
              0.8888888888888888,
              "#fdca26"
             ],
             [
              1,
              "#f0f921"
             ]
            ],
            "type": "heatmap"
           }
          ],
          "heatmapgl": [
           {
            "colorbar": {
             "outlinewidth": 0,
             "ticks": ""
            },
            "colorscale": [
             [
              0,
              "#0d0887"
             ],
             [
              0.1111111111111111,
              "#46039f"
             ],
             [
              0.2222222222222222,
              "#7201a8"
             ],
             [
              0.3333333333333333,
              "#9c179e"
             ],
             [
              0.4444444444444444,
              "#bd3786"
             ],
             [
              0.5555555555555556,
              "#d8576b"
             ],
             [
              0.6666666666666666,
              "#ed7953"
             ],
             [
              0.7777777777777778,
              "#fb9f3a"
             ],
             [
              0.8888888888888888,
              "#fdca26"
             ],
             [
              1,
              "#f0f921"
             ]
            ],
            "type": "heatmapgl"
           }
          ],
          "histogram": [
           {
            "marker": {
             "colorbar": {
              "outlinewidth": 0,
              "ticks": ""
             }
            },
            "type": "histogram"
           }
          ],
          "histogram2d": [
           {
            "colorbar": {
             "outlinewidth": 0,
             "ticks": ""
            },
            "colorscale": [
             [
              0,
              "#0d0887"
             ],
             [
              0.1111111111111111,
              "#46039f"
             ],
             [
              0.2222222222222222,
              "#7201a8"
             ],
             [
              0.3333333333333333,
              "#9c179e"
             ],
             [
              0.4444444444444444,
              "#bd3786"
             ],
             [
              0.5555555555555556,
              "#d8576b"
             ],
             [
              0.6666666666666666,
              "#ed7953"
             ],
             [
              0.7777777777777778,
              "#fb9f3a"
             ],
             [
              0.8888888888888888,
              "#fdca26"
             ],
             [
              1,
              "#f0f921"
             ]
            ],
            "type": "histogram2d"
           }
          ],
          "histogram2dcontour": [
           {
            "colorbar": {
             "outlinewidth": 0,
             "ticks": ""
            },
            "colorscale": [
             [
              0,
              "#0d0887"
             ],
             [
              0.1111111111111111,
              "#46039f"
             ],
             [
              0.2222222222222222,
              "#7201a8"
             ],
             [
              0.3333333333333333,
              "#9c179e"
             ],
             [
              0.4444444444444444,
              "#bd3786"
             ],
             [
              0.5555555555555556,
              "#d8576b"
             ],
             [
              0.6666666666666666,
              "#ed7953"
             ],
             [
              0.7777777777777778,
              "#fb9f3a"
             ],
             [
              0.8888888888888888,
              "#fdca26"
             ],
             [
              1,
              "#f0f921"
             ]
            ],
            "type": "histogram2dcontour"
           }
          ],
          "mesh3d": [
           {
            "colorbar": {
             "outlinewidth": 0,
             "ticks": ""
            },
            "type": "mesh3d"
           }
          ],
          "parcoords": [
           {
            "line": {
             "colorbar": {
              "outlinewidth": 0,
              "ticks": ""
             }
            },
            "type": "parcoords"
           }
          ],
          "pie": [
           {
            "automargin": true,
            "type": "pie"
           }
          ],
          "scatter": [
           {
            "marker": {
             "colorbar": {
              "outlinewidth": 0,
              "ticks": ""
             }
            },
            "type": "scatter"
           }
          ],
          "scatter3d": [
           {
            "line": {
             "colorbar": {
              "outlinewidth": 0,
              "ticks": ""
             }
            },
            "marker": {
             "colorbar": {
              "outlinewidth": 0,
              "ticks": ""
             }
            },
            "type": "scatter3d"
           }
          ],
          "scattercarpet": [
           {
            "marker": {
             "colorbar": {
              "outlinewidth": 0,
              "ticks": ""
             }
            },
            "type": "scattercarpet"
           }
          ],
          "scattergeo": [
           {
            "marker": {
             "colorbar": {
              "outlinewidth": 0,
              "ticks": ""
             }
            },
            "type": "scattergeo"
           }
          ],
          "scattergl": [
           {
            "marker": {
             "colorbar": {
              "outlinewidth": 0,
              "ticks": ""
             }
            },
            "type": "scattergl"
           }
          ],
          "scattermapbox": [
           {
            "marker": {
             "colorbar": {
              "outlinewidth": 0,
              "ticks": ""
             }
            },
            "type": "scattermapbox"
           }
          ],
          "scatterpolar": [
           {
            "marker": {
             "colorbar": {
              "outlinewidth": 0,
              "ticks": ""
             }
            },
            "type": "scatterpolar"
           }
          ],
          "scatterpolargl": [
           {
            "marker": {
             "colorbar": {
              "outlinewidth": 0,
              "ticks": ""
             }
            },
            "type": "scatterpolargl"
           }
          ],
          "scatterternary": [
           {
            "marker": {
             "colorbar": {
              "outlinewidth": 0,
              "ticks": ""
             }
            },
            "type": "scatterternary"
           }
          ],
          "surface": [
           {
            "colorbar": {
             "outlinewidth": 0,
             "ticks": ""
            },
            "colorscale": [
             [
              0,
              "#0d0887"
             ],
             [
              0.1111111111111111,
              "#46039f"
             ],
             [
              0.2222222222222222,
              "#7201a8"
             ],
             [
              0.3333333333333333,
              "#9c179e"
             ],
             [
              0.4444444444444444,
              "#bd3786"
             ],
             [
              0.5555555555555556,
              "#d8576b"
             ],
             [
              0.6666666666666666,
              "#ed7953"
             ],
             [
              0.7777777777777778,
              "#fb9f3a"
             ],
             [
              0.8888888888888888,
              "#fdca26"
             ],
             [
              1,
              "#f0f921"
             ]
            ],
            "type": "surface"
           }
          ],
          "table": [
           {
            "cells": {
             "fill": {
              "color": "#EBF0F8"
             },
             "line": {
              "color": "white"
             }
            },
            "header": {
             "fill": {
              "color": "#C8D4E3"
             },
             "line": {
              "color": "white"
             }
            },
            "type": "table"
           }
          ]
         },
         "layout": {
          "annotationdefaults": {
           "arrowcolor": "#2a3f5f",
           "arrowhead": 0,
           "arrowwidth": 1
          },
          "autotypenumbers": "strict",
          "coloraxis": {
           "colorbar": {
            "outlinewidth": 0,
            "ticks": ""
           }
          },
          "colorscale": {
           "diverging": [
            [
             0,
             "#8e0152"
            ],
            [
             0.1,
             "#c51b7d"
            ],
            [
             0.2,
             "#de77ae"
            ],
            [
             0.3,
             "#f1b6da"
            ],
            [
             0.4,
             "#fde0ef"
            ],
            [
             0.5,
             "#f7f7f7"
            ],
            [
             0.6,
             "#e6f5d0"
            ],
            [
             0.7,
             "#b8e186"
            ],
            [
             0.8,
             "#7fbc41"
            ],
            [
             0.9,
             "#4d9221"
            ],
            [
             1,
             "#276419"
            ]
           ],
           "sequential": [
            [
             0,
             "#0d0887"
            ],
            [
             0.1111111111111111,
             "#46039f"
            ],
            [
             0.2222222222222222,
             "#7201a8"
            ],
            [
             0.3333333333333333,
             "#9c179e"
            ],
            [
             0.4444444444444444,
             "#bd3786"
            ],
            [
             0.5555555555555556,
             "#d8576b"
            ],
            [
             0.6666666666666666,
             "#ed7953"
            ],
            [
             0.7777777777777778,
             "#fb9f3a"
            ],
            [
             0.8888888888888888,
             "#fdca26"
            ],
            [
             1,
             "#f0f921"
            ]
           ],
           "sequentialminus": [
            [
             0,
             "#0d0887"
            ],
            [
             0.1111111111111111,
             "#46039f"
            ],
            [
             0.2222222222222222,
             "#7201a8"
            ],
            [
             0.3333333333333333,
             "#9c179e"
            ],
            [
             0.4444444444444444,
             "#bd3786"
            ],
            [
             0.5555555555555556,
             "#d8576b"
            ],
            [
             0.6666666666666666,
             "#ed7953"
            ],
            [
             0.7777777777777778,
             "#fb9f3a"
            ],
            [
             0.8888888888888888,
             "#fdca26"
            ],
            [
             1,
             "#f0f921"
            ]
           ]
          },
          "colorway": [
           "#636efa",
           "#EF553B",
           "#00cc96",
           "#ab63fa",
           "#FFA15A",
           "#19d3f3",
           "#FF6692",
           "#B6E880",
           "#FF97FF",
           "#FECB52"
          ],
          "font": {
           "color": "#2a3f5f"
          },
          "geo": {
           "bgcolor": "white",
           "lakecolor": "white",
           "landcolor": "#E5ECF6",
           "showlakes": true,
           "showland": true,
           "subunitcolor": "white"
          },
          "hoverlabel": {
           "align": "left"
          },
          "hovermode": "closest",
          "mapbox": {
           "style": "light"
          },
          "paper_bgcolor": "white",
          "plot_bgcolor": "#E5ECF6",
          "polar": {
           "angularaxis": {
            "gridcolor": "white",
            "linecolor": "white",
            "ticks": ""
           },
           "bgcolor": "#E5ECF6",
           "radialaxis": {
            "gridcolor": "white",
            "linecolor": "white",
            "ticks": ""
           }
          },
          "scene": {
           "xaxis": {
            "backgroundcolor": "#E5ECF6",
            "gridcolor": "white",
            "gridwidth": 2,
            "linecolor": "white",
            "showbackground": true,
            "ticks": "",
            "zerolinecolor": "white"
           },
           "yaxis": {
            "backgroundcolor": "#E5ECF6",
            "gridcolor": "white",
            "gridwidth": 2,
            "linecolor": "white",
            "showbackground": true,
            "ticks": "",
            "zerolinecolor": "white"
           },
           "zaxis": {
            "backgroundcolor": "#E5ECF6",
            "gridcolor": "white",
            "gridwidth": 2,
            "linecolor": "white",
            "showbackground": true,
            "ticks": "",
            "zerolinecolor": "white"
           }
          },
          "shapedefaults": {
           "line": {
            "color": "#2a3f5f"
           }
          },
          "ternary": {
           "aaxis": {
            "gridcolor": "white",
            "linecolor": "white",
            "ticks": ""
           },
           "baxis": {
            "gridcolor": "white",
            "linecolor": "white",
            "ticks": ""
           },
           "bgcolor": "#E5ECF6",
           "caxis": {
            "gridcolor": "white",
            "linecolor": "white",
            "ticks": ""
           }
          },
          "title": {
           "x": 0.05
          },
          "xaxis": {
           "automargin": true,
           "gridcolor": "white",
           "linecolor": "white",
           "ticks": "",
           "title": {
            "standoff": 15
           },
           "zerolinecolor": "white",
           "zerolinewidth": 2
          },
          "yaxis": {
           "automargin": true,
           "gridcolor": "white",
           "linecolor": "white",
           "ticks": "",
           "title": {
            "standoff": 15
           },
           "zerolinecolor": "white",
           "zerolinewidth": 2
          }
         }
        },
        "title": {
         "text": "Total de Varianza Explicada: 50.89%"
        }
       }
      },
      "text/html": [
       "<div>                            <div id=\"f6fe2dec-b92e-43af-a1af-5cd0dcfdf527\" class=\"plotly-graph-div\" style=\"height:525px; width:100%;\"></div>            <script type=\"text/javascript\">                require([\"plotly\"], function(Plotly) {                    window.PLOTLYENV=window.PLOTLYENV || {};                                    if (document.getElementById(\"f6fe2dec-b92e-43af-a1af-5cd0dcfdf527\")) {                    Plotly.newPlot(                        \"f6fe2dec-b92e-43af-a1af-5cd0dcfdf527\",                        [{\"hovertemplate\": \"CP 1=%{x}<br>CP 2=%{y}<br>CP 3=%{z}<extra></extra>\", \"legendgroup\": \"\", \"marker\": {\"color\": \"#636efa\", \"symbol\": \"circle\"}, \"mode\": \"markers\", \"name\": \"\", \"scene\": \"scene\", \"showlegend\": false, \"type\": \"scatter3d\", \"x\": [-1.022327475957496, -1.0023056356736553, 1.9480648221253016, -1.4408908486588714, -0.5861477430513742, -1.0393024437613656, 1.3498581360562627, 0.450396777069558, -1.2926585365050403, -1.251448061494694, -1.542814342025295, -1.0643144364430912, 0.6590043181186485, -1.1335348193855141, 0.5616118589749982, -0.7325707687534885, -0.5817574547885142, 2.7140891598658157, 3.182663040410659, -0.0663109397205271, 2.170457086256138, -0.12013308559969929, -1.3563412730396318, 0.3879782682682359, 0.4990716276228686, 0.3979431914529532, 0.3301518010692083, 1.0828849072029754, 1.9425862969176249, 1.299203647265384, -1.6284684117344284, 0.061582309177452846, -0.3433284605605006, 0.5573281801314106, -0.5437997858557739, -1.5521384675678025, -1.9996018722229894, -1.2251520220052556, -0.20553768873227324, 2.3856510273774894, -1.5694769027901139, 2.905945020368865, -1.0113296290970943, -0.7561340856910032, -0.759550980135177, -0.9856492157880136, -1.4666218339719899, -1.1995748034758018, -0.6236839019985969, 1.3101274543318442, 2.2454821097015585, -0.16334379222343715, -1.2484284788458335, -0.18079093147685998, 0.05129930085946809, 0.313716165310776, 2.4421995137198755, -0.5693648618398948, -0.9462007013602588, 3.1909639342844236, -0.15757008307547635, 2.3764263642870733, -1.2897950342939173, -1.6678636792798778, -0.5588696531526047, -1.0871396933816402, 1.1344603967755849, -0.9445835241492448, 0.8728689934090335, -0.8636553094826208, -1.5279948681669435, 3.0333360652654755, -0.8313162919928013, 3.291882061846142, -0.6016343414566431, 2.743849031858557, 2.703495532373362, 0.014519561129864056, 1.2031060929011153, 1.558603608412721, 2.1473076360369263, 2.384438581695055, 1.0716406536152479, -1.9480751120710276, 0.15097941303165077, -0.37733621606073225, 2.4445307817933832, 1.499354999265835, 1.0546099349575253, -0.06637675654237926, -0.022398912842292003, -0.3436781311291168, 0.14747229548296661, -1.0943525038750428, 0.33768238623623303, 0.6908643690408699, -0.7227476859563821, -0.9698135262710552, 0.053468379206893936, -0.4792675467155738, -1.6987194396502803, -1.1295613831340288, -1.9426717659704376, -0.7263605946657976, -1.0889702794159533, -1.4607487091195965, 4.640791265780377, 1.1199431016069332, -1.0592382446295854, -1.8205738477068247, 0.4662944366776731, -0.8215422386187501, -0.22272908680416242, -0.9111309049645364, -0.03211833897580794, -0.6645858108423692, -2.381080004970817, -1.6085774743685544, -1.9875665914307072, -0.3215757783135956, 0.09887016054591076, 2.372743903933617, 2.365823888908377, -1.7945681062577186, -0.6570011818134742, 1.2898002163288214, -0.7620091818609117, 1.975443395181883, -0.6956938688995131, -0.8765559651505439, -1.2737295115585183, 1.9436787050455733, 0.2192989691263975, 0.33487731408905563, 1.386728987743235, -0.452210294304542, 0.4792510680660788, 1.421736358643551, -1.0563297054427532, -0.17861871460728326, -1.6808884637498895, -0.7635975408102547, 0.43469457590436444, 1.4334925102424505, -1.4810922950020753, 0.6035970945535585, -0.7861056393319408, 2.129203815230065, 1.212912926658808, -1.0053965825737967, -0.5999250244111103, 0.3116659884519215, 1.6563086590394047, -1.7780213263614648, 1.5308234112563193, 0.1479588476529166, -0.2776047473933966, -0.4980987429531631, -1.4323280215534273, 1.7835867192088963, 2.1230999663276746, 0.40622830733501225, -2.2573353090091177, 2.56993998557519, -0.28761582298781563, -0.13930816766831064, -1.1595594335153159, 2.6745869031274534, -0.05376346707679354, -0.1457884557515594, -0.016513581787843328, -0.9694201835220058, 0.04794543257473829, -1.1342328891509919, -0.8514343379501277, -1.2739532348098908, 0.1980630968560959, 2.3954877531611736, 1.3962063880887623, 1.362095327723154, -0.7905752581626421, -0.8725421909892451, -2.4633095965985863, -1.621600954503203, 0.6788610851750964, -0.06585967187540646, -2.0908975628488777, -0.7820639174244248, 0.7125542098967221, 0.7664115259015021, -0.3698720693387488, 1.3952591364881126, -0.228659413918727, 2.707841216848655, -1.4250206392154197, -1.0938129345159542, 0.16666357149324804, -0.4895083788058759, -1.0080431409196866, 0.6222894132586562, 0.5092232135504418, 2.5008456105857113, 2.0527149044186164, -2.3010530636976694, 2.0352738384755673, 1.1376605696450572, 0.6072779641602924, 1.3264489850637875, 1.3933428078688535, 0.21752602260447493, -1.4559527582416563, 1.441372483785323, -1.3788704511794174, -0.7834373802382545, 1.1269446181560558, 0.5306608394918718, 3.2888575023029616, -0.93907954054254, 0.38153977272163203, -1.4757922719234395, -0.6151442014551053, -1.7495957043592658, -0.5913991702548232, 2.0987882921493752, 1.3112112349458858, -0.11793749177532338, 0.3491056299838429, 2.4307526376752353, -1.245612354979158, 2.756108987001956, -1.5533185866288215, -1.9641502597094875, 2.464844106055501, -0.6964585604662042, -0.902658760651829, -2.6624823040343992, 1.8409871982299413, -1.6815384552767287, -1.2186925922888903, -0.5443931910819473, 0.18147962729909076, -0.6768700811907211, -1.9153095045075696, -1.2458611772944999, 1.5745840885935256, 0.31964653648453534, -0.6971371840264922, -2.264293262734687, -1.2539693795722662, 0.3719247661099594, 1.0340633322859698, 1.8891859810873366, 0.1913134000996975, 4.162208598090923, -0.5125798865047202, -0.9008299683203198, -2.0910114827428123, 0.16200074194253966, -0.05520455427923163, 0.28540275843134966, 0.4956929273108502, -1.3850648580130753, -0.9235073208325113, -0.362044847159708, 0.007711343216430624, 0.5368459676468682, -0.3025627493931874, -0.15857046164913977, 2.0376902731006266, -1.1117844593959314, -1.8379809784875754, -0.7120786348666948, 1.6377560206879398, -0.6579417741938294, -0.15632767414118193, -0.5339441605493974, 0.7596160467791696, 0.4519941415598249, 0.3641663706133266, -0.2739056814626279, -1.303221357609457, -0.4996119752855473, -1.733149485566641, -1.325639062772718, 2.2395478812137948, -0.9610857265542992, -1.8074570104949856, -0.17123034930639597, -1.477636680936509, -2.163374840071191, -1.2894953042153303, -1.3231687628051392, -1.2238045340820105, 3.115119943121927, 2.3777966710235594, 0.9985704821317011, 3.1570257166384357, 1.7565785413379196, -1.5858703050656429, 0.00528813036737769, -1.0080548655602926, 1.3405853940897632, -0.3411983800024967, -1.2883163649126428, -0.4215305798283093, 0.041638034729350536, -2.3286697681584925, 1.3588935987806186, -0.0636202959499459, -0.11787122170377928, -0.04363534689622992, 0.16238391229727414, 0.5199227152050776, -1.876501092040557, 2.267808904614495, -1.3020928253313004, 1.892490516561043, -1.5943322920287821, -1.299625334110038, -0.7216755864250395, -0.7752891886731346, 0.310862137803806, 0.6259510065546363, -1.4950890260742764, -0.34588068099898156, -0.6960726224678238, -1.46549604644468, -0.6302966960228497, -0.03829808052311841, -0.14098617022673227, 0.5484800679229436, -1.2375536020179905, 1.9265763229198596, -0.5920682960980174, 0.719741251975266, 2.6425111776949195, -0.5745326176299291, -1.6349169562686934, -1.4076714701919655, 1.1436794678237698, -1.4147657975162755, 0.49715175755374535, 2.6666643734183912, -1.610307916980641, 2.0102811192189374, 2.5162950727312827, -0.659990854765429, 2.176286095733566, 0.09676395879405367, 2.438496501360776, 1.1210084449375959, -0.23338793973016314, 1.0925074278544602, 0.40162647654635847, 0.7785694656775026, -0.15254024575515934, -1.444435448993447, -1.7217490238739677, 2.4049236298476204, -0.8741653060897351, -2.9538388892795555, -1.3536286995140383, 2.540851022242281, -0.12913311481487022, -1.9678257137367512, -0.9877900527945539, -0.9979511263920362, 2.1292252278011974, -0.8592329967799637, 0.542674686403693, -0.4631399233408509, -1.0253844403425356, -0.11839743279403328, -0.0898721752633545, -0.2819880330005679, 0.29551990414975576, 3.4622119219476244, 1.3434063890297059, -0.6940597601263189, 1.8211871117745508, 0.23804936290729675, -0.7905659045528504, 0.4539047569795978, -0.22572865107977108, 0.20833027481669664, 3.009096857386545, -0.4180798762520772, -1.3046844711395362, 1.3732700586753703, 0.45120969368940667, 1.3635402591164874, 0.913826203064902, -0.3294609757757887, 0.8483501295704401, 0.9856375455939744, -0.4792405717774974, 3.0009865638424924, 0.2432079073879427, -0.11793749177532338, -0.2614971920912632, -0.29418719505038265, -0.14388389614357835, 1.5857534879158388, -1.5841067920321608, -0.21380859006575925, -0.033808789567702925, -1.3362443151984342, -0.3681322795659599, 0.5706352344611609, -1.074232283866483, -0.16043992472814153, -0.4732425266943952, -0.8715748446855646, -0.6978242895533738, -0.09151621858276224, -0.28914274531438616, 2.5991714098918997, -1.4783394320174768, 1.89297111799987, 1.1875068725640394, 0.9501270284652177, -1.7582341139642133, -2.291613297413219, -2.1355733072158145, 2.306936054635429, 1.8722497193028822, 0.21622375630038154, -0.19571332501640124, -0.8271800948199283, 1.712017955345922, -0.7498003850087982, 0.318353168876863, -1.6995546300435178, -0.7628589450993457, -0.36126928765122823, -1.571745862813728, -0.496058102362422, 4.01924186454142, 0.17596123367317187, -0.5587857239992631, 1.1804170418914668, -1.3543750057950408, -1.3110127773738964, -1.8939868459372688, 1.252120481983212, -1.470627220504168, -1.3879745825100027, 0.8944084478471132, -0.11793749177532338, 1.636940737555041, -1.0765030137430838, 0.7423492523635318, 1.869454679026613, -0.3780931019441773, -0.1444868076254442, 1.7035181689959307, -0.9317450551464448, 3.399938441503174, -0.635178761241353, -2.303893801082882, -0.8578113787598437, 0.624878635063485, -0.20462859858168017, -1.903405120505132, -1.1043449666116045, 0.30985507977091375, 2.3111837666118595, -0.3085598948559286, 0.16630095950838472, 1.428108064911605, 0.28018283185004167, -1.533653549294961, -0.9041054131410649, -1.4993110021896834, -2.264668462076086, -1.1190576955323688, -1.9256795683221801, -1.3617698826967646, 0.38272923536427406, 1.162901162138302, -0.3389581165089493, -1.1904627250977355, -1.023750390212856, -0.6004018859492659, 2.3419220996055845, -0.1041231272032489, -2.5212403098832663, -1.9229195582728444, -1.5097899925337877, 0.9183878356400731, -0.45590538109826606, -0.8608556207115577, -0.3225372737925546, -0.6466263473974639, 0.8743737650217698, 2.2745477807962904, 0.9806842517520901, 1.3981320438034606, -1.7372325521763075, -1.6664856846514409, -1.5917717830860252, 1.2942339374281076, -0.5422345362629382, 2.0186406760048023, 2.0009885213536927, -1.329724753152506, -0.37931179996378545, 0.6038945401805882, -1.737946400370009, 1.5840313749913366, -1.7575279166714564, 2.6458015623265814, 0.45504459234018085, -0.51385789196192, -0.8805852738164297, 1.5052597856219794, -0.632718218677969, -0.8458913346081554, -0.558985407021352, -1.2313980378701563, 3.461639846755476, 0.27466966826405803, -0.040282824254435155, -0.8139005420236688, 0.7996073050579695, 1.202252722998946, -0.44134823695055003, -1.7719063984497387, -1.3724385029946973, 0.7938315763505486, 3.0988441032664604, 0.7692376381394733, 2.5941324447100085, -1.3058715523648043, 0.24519758526896693, 2.4694050186787058, -1.1156882933612342, -0.10755493735587061, -0.06721764224026272, -1.0275660289144972, 1.1142389773775416, -0.3270962016710658, 1.038290512942696, 0.6930284521434742, -0.05277400055802363, -1.3487981809461005, 1.1432672312924141, -1.4341876546454495, 2.661077746302205, 2.7971820218425867, -0.26659810010258894, 1.1247604585994218, 0.1858104041456337, 1.738488098820209, -0.3071840869485646, 0.15268011199556794, -1.842861211821689, 0.525539347603401, -1.2983894710145614, -0.7998254685459809, -2.2664396182598168, -0.9506946998227052, -0.4886172396656328, -0.12322514886214396, -0.862051122753747, -0.3043900569529348, -1.3524258346658482, -0.07189560206526065, -0.6721315688791468, -0.5734004223754515, -0.6180415292922883, -1.4482580083617467, 3.443336554895604, -1.747546188076752, -2.191085148636446, -0.1484336623588477, -1.2503641878488834, -2.17875166281927, -0.4891637549395488, -2.154592565360267, 3.5151120214445184, 1.426722897015603, -2.3300937685099314, -0.3117850776736435, -1.003838583439292, 3.677251953360754, -1.0390251669492039, 0.6887575338227867, 0.6778320364976247, 0.8806859543321286, -0.9388577373864821, 1.0395664904935065, -0.1168127813780316, -0.3720259766743535, 1.9044657205020195, 1.5440117560979925, 0.48058651411990394, 1.3246509982669676, -0.9252410138142303, 1.9590608070973548, -0.02050299151486225, -1.074205933550869, -1.6386239663851507, -1.6878144056998161, 0.6037022661230187, -1.5295025363460306, -0.7730242904552334, -0.4927903084123589, -1.8577069838984537, 3.3549350184419295, -1.4089289479821137, 0.05338083655739839, -1.4475909933417388, -1.0760507436484474, -0.16170893043721976, -1.0069733120470052, -0.4227270770309606, -1.441464773556128, -0.9663930386118256, -1.1319359131962743, -0.3858904752529448, 2.8242980910936883, -0.8445911062717706, 3.2648551794057967, 2.0299737621042473, -0.2538877726295063, -0.7321488876295111, 1.0802570490102565, 0.6378137015706474, -1.5810446635022617, -0.5411373074226853, 1.252347303375627, -0.44941479550713465, 0.24432350597484442, -0.8987082066806273, 1.9075138207581859, 2.5811344527255238, -1.3715892654778086, 0.9627224632891639, 0.8578156106619818, 2.047921211704725, -0.915357132484567, 0.08048545689389948, 0.5235374929256649, 0.41253549119657335, -0.9248792231233708, -1.4743991501099716, 0.40641739402894694, -0.687431670442956, -0.8899797765161546, 0.05787091826619612, 0.2932925791837812, -1.431083780904238, 0.41091299682735544, 0.5921006686353225, -0.18865450207237267, -2.1924673682898446, -0.8812803531626937, -0.36802731164329777, 1.6966745213435164, 0.27604614741159234, -2.080033012205312, -0.8269956641742606, 0.5831592653287968, -0.42111501393562023, -0.8045165689586057, 1.8363737673035705, -0.2591035105974167, -1.5725853268103058, 1.486036946599312, -1.2137541775461742, -0.9633678803993299, 3.336215090769876, 0.3610243080890012, -0.8691509997467003, -1.444989753494338, -0.8088200457060591, -1.4401898779807996, -1.515863576843554, 0.34467343333358674, 0.10685063427190643, -0.6326110108613708, -0.9558164008390613, 2.50424330234232, 0.6512117451344838, 2.796637429738178, 0.024701449008036305, 1.1835008762530501, -1.1012583739376758, -0.9719906833286991, 0.6030658011154268, 0.44788111264131236, 0.034758361309023156, -1.4618811192977963, 0.38683193215384104, 1.38024161673037, 0.5190719708005499, -1.2466288007491442, 0.739262448757154, 0.7967944644573464, -1.1038157493123801, -0.43432547276915817, 1.4916670417095865, 0.17309721675185805, -0.974282983031812, 1.8602055133369177, -1.658503561954941, 1.455421297191258, -1.4502984334295512, 0.9124635184052275, 1.3890328658751987, 0.13137322421476155, 1.3140220606260036, 2.930598418163084, 0.8394091150310482, -1.193840236404746, -0.5243820020118299, -0.6053195526748777, -2.3537866718235447, -2.0375579246722935, 0.10097825494823934, -0.34775699071265964, -0.9654643227604709, 0.18496016536369164, -1.2762160536023637, -0.9977768992670066, 1.7741140704136131, -1.1802241812057983, 0.2211790362055937, 2.822462112044693, -1.3399626966858404, -1.0715731994363136, -1.6003814006994959, 0.9475536791682412, 2.7294686933146544, -1.2390125786155013, -2.3829844410370162, 0.5022873752631122, 2.4196324030455374, -0.21521603172393078, -0.07023018463374041, -0.9622840157296314, -2.66836990191659, -1.3465175223678623, -0.00767211690173207, -1.4896250272552667, -1.6105709771957832, 2.2583865477004794, -1.731933326999031, 0.3406021865564609, -1.4917752049284545, 0.34730099846512735, -1.5755991576214206, -2.2053850551182785, 0.6414725823578057, 0.5559649500749538, -1.227361394322074, 3.187693540513251, 1.7551581454104423, 0.24097340148871704, 1.756249044271647, -0.7303154610501875, 2.207634414338577, -0.5864868929127159], \"y\": [0.6489197962709301, -0.3995919970437701, -1.288322100971593, -1.1503671985875659, -1.3825205420492641, 0.3517861459022257, 0.35477884186880515, 2.650963186337201, 0.45795972858669576, 1.4652551050269285, -0.6677263433796788, 1.49601448123906, 1.1924729608077336, 1.0468110538738338, -0.4347415817066053, 2.508255161554436, 1.764191277555503, -0.9193337028856748, 1.347606458774814, 1.2011851281703165, -0.5565237547216849, 3.779875227627807, 0.23225101064038498, -0.5802133786338556, -1.7279930164317068, 0.5122575611945028, -0.5587233643958005, 0.10780854341893811, -1.2785115568719099, 2.088800762012043, 0.2205762176252744, -0.3398870292857696, -1.6726904853317035, 1.0851045247614781, -1.2851028087098446, -2.152001066229146, -0.21169821229370178, 0.152127932362906, 1.5295503688493892, -1.3119634149785484, 0.28362999824201407, -0.6525739539455214, 1.6218280159812, 2.409787369124492, -1.8864391501398554, -0.09695083504752983, 1.1532914966213774, 2.3176029042741857, 0.059096881896281664, -0.8826947457986657, -1.4761529731504694, -0.8652701125727924, -0.04493708096058117, -0.06426651892254245, -1.1983433093939453, 0.8330489367582797, -0.2721331391843175, -2.380984827881603, -1.1873252301947905, 2.021512184423655, -0.11340969199787619, -0.07482536074142196, 1.1404752375676857, -2.830086675176415, 0.7814426480671537, 2.373395015352904, 0.9940078872058596, 1.4600965249664108, -1.8402266062687396, 2.1213308126310197, -0.06277108666273787, 1.2327662901541967, 0.23725451643086784, -1.115146869132039, -2.307253286860339, -0.9095644169716309, -1.0092363964572821, 1.5605388217987846, 2.7097282384748143, -0.3958575780145341, -0.015884584462735246, -1.506444277146865, -0.23850916093202174, -2.3099121797959734, -1.4379768754807674, -0.08674752365686621, 1.510323557370164, -1.124990998257298, -0.8830827605797482, 2.3012800765622923, -1.8269556100379716, -1.6633787909229532, -0.7358219336015162, -1.0892533543049263, -0.8455944925660768, -0.5692264957808822, -0.8144475628598804, 1.7995786493082306, -1.7002806546470832, -0.893911882127382, -2.1350424436456303, 0.4631084002484575, 0.29388482785184383, -1.4284422154398397, -0.2883409574708274, 0.40195189062460474, -0.11134835527013147, -1.1279169341443922, 1.866148231459004, 0.8129788831784132, -0.6307599352507425, 1.18919922155156, 0.7389567523514238, 1.931969067295804, -2.422276329390749, 2.5042432950421727, -0.8499046195673032, -0.49431663100044976, 0.8831630248347715, -0.4940877623543099, 1.4542199810835792, 0.773815061064154, -0.7414403619039084, -0.27703017443347555, -1.7662496202987736, 1.135976686900508, 0.8801418888219721, 0.7217664899241992, -2.2202800970967704, 0.19369461312395153, -1.151298023823214, -1.7021418093808467, -1.7747852624149412, 3.2197031539176875, 0.822859341352299, 1.1877346908477413, -0.34730251408474344, -1.189200212444805, -1.6743510076052517, 0.23355085599720507, -2.6162630626954777, -1.1514275998158174, -0.833765887620617, -1.5851506463235254, 2.0984440614948157, -0.27272813700998444, 0.05667664680783045, 0.27581974564435013, -1.3116604024983527, 2.796132114691626, -1.50396062619447, -0.8521689228557175, -1.3191299085804673, 0.9219167165062421, -1.4701179405569362, 0.753089002405754, 0.8144206322655003, -0.76330178797993, 1.1286915814131986, -1.000217471621214, -1.4375274523661525, 0.004999426655471592, -1.1144132585192186, -0.7053188422405691, -0.612832705715589, -0.9232878100536904, -0.7333756098107465, 1.270865198244109, -1.8602241428856614, 2.419301948135323, 1.1686255611796628, 0.48798959140531684, -0.30474097401479555, -0.7775448640862448, -1.457886373713552, -0.18550838435823397, -0.6558020558943909, -1.2214231081065894, -1.584444708034884, -0.4751053991907193, -0.5811666852930744, 2.432094660964425, -0.44910826708828466, -1.6540977622758222, -1.13869759574815, 2.017008842015003, -1.2754736075364994, 1.0886123065574045, 3.599271016191704, 0.2984520335727419, -0.16654145203251755, 2.6367345343451465, 1.182331269761376, -0.706347467574467, -1.3158440803006555, 0.4644722482335781, -0.051378136590655425, 0.35544481531783234, 0.024599042052220847, -0.30172390487598305, -0.2659071735751324, -0.9317693652685446, 0.3224824938184221, -2.7331924317489484, 1.6391532539954696, -1.4824488505989235, -2.4641963121382013, -1.1904322881843796, -2.512879173240406, -0.19330377302507606, 0.8295431246214198, 0.38419233836596994, -3.4850971590560587, 1.8247973503109656, -0.7493587420811865, -0.12439589715283114, -1.0962675977107275, -1.421501075496414, -2.6362556135854627, -1.8023680021210133, 2.296643305531648, -2.0012541101904873, -1.072627058539659, -1.3702667800266706, 3.0781997770657394, -1.8731503600897443, -0.9523598755413176, -0.7364288311608507, 0.616855770440445, 0.005890641809510189, 0.47922776044625126, -0.5516257726550834, 1.5276086001105726, -0.8894851394328799, 0.3668063937986062, -1.3442912254494168, -1.177261309082797, -2.0612684759677142, -0.14490930908859398, -1.0760723741123488, -0.4244156382760542, 0.18548665763409888, 0.7011158490135243, 1.156485675522436, -1.345272220949343, -3.300132233433881, 2.262896027248232, -0.00797236504615925, 0.48371415422395236, -0.8511128271183547, -0.026088715082999973, -1.1855103136945138, 0.12828988764460084, -0.568381576444559, 1.047077763566954, 0.9725943603985281, -1.5573946029992096, -2.0105213552689345, 0.584943384719448, -0.05435691904615958, -0.8180604140839063, 0.39108655308382323, 1.110926904583527, 0.33666618541748555, 1.7256495641095508, 2.2065781208034316, -0.6347605591323413, -0.7792472035684654, 1.0248531530020255, 0.35490438712722944, -1.7196139010092681, -1.0786953899114788, -1.19250486660006, 0.49431668581404464, 1.3708333714062904, 1.284477150128364, -0.9160499332176908, -0.40202182621692406, -0.9688984038090169, -2.326140663462838, -1.7028302923911625, -0.40198484530213474, 0.8483306298340684, 0.30633997289581333, -0.794780667461974, 0.1646293724378728, 0.5259174581415941, -0.5476471780385511, -1.381936713363513, 0.598983967976971, 1.291116772067073, 1.921313240839831, 0.38759089296970195, -0.5436031614112489, -0.7843966588185655, -0.7041596646882766, -0.8116447061699359, 0.3086976744009983, -0.01733178164612182, -0.787618855659776, -0.39605011760481784, 0.8880863855548423, 1.6713600807416882, -1.2101030500770882, 2.2414255215680776, 2.034437924959686, 0.16133799495308143, -0.010495834538718838, 1.2219304445376593, 0.6218759029167803, -0.606153473587129, 1.3341144294361356, -2.272704932712873, -1.672066289963825, 2.575567665929728, -1.9708081357600644, 0.6708237349010083, -0.5762246818131358, 1.1417164749408057, 0.7729412770871918, 0.018112242975371513, -0.08979706482744913, 1.7656496291144512, 0.2907787595848204, -0.16955715561710263, 1.2186790234260865, -2.029835706422509, 0.9259837660072222, -0.7362981480106289, 1.7968522053418003, -1.452440718111293, 0.40136043013476314, -0.2724898660132567, 2.2300256688692977, -2.66477370274013, 1.5483275528281144, 1.7001719928540842, -0.04463526752906294, -0.15957266297904374, -1.8492235116293927, -0.5034366294751073, 3.6844316018485763, 0.08815975815937262, -1.228697604282783, -1.2212293807410828, -0.9856355485900394, -1.2291360130400917, 0.49492156758391026, 2.3399068876721434, 0.11314606788348057, 0.7439234541584586, -1.9942420413969133, -0.31523226339557164, -0.6084151465733068, -0.6741050896239258, 2.9211016245654906, 0.9321248162422203, 1.2183718574984943, 1.1392650640967426, -1.682860102227246, -0.1377376660440329, -0.855620104952788, 0.7167024409503255, 0.9764994265957776, -0.0327514243987765, 2.014019676154762, 2.033988715246785, 0.5518435835748289, 0.7821653073606266, -0.15589919717198228, -0.20406293203536033, -0.11205472001710508, 0.9058048931719976, -0.3922793095693264, 0.9393800064934195, 0.005695996233707461, 0.5825645009629555, -0.5343746223468029, 1.878136198059454, -1.3414464201986622, 2.7108037373691976, 1.0043728742533484, -1.3981509005877413, -0.9669460298670632, 1.3140614090707614, -0.8770597314690554, -0.7232845424877498, 1.0410370328939038, -0.7348033414199989, 0.6511652991550775, -1.321832577419279, -0.3257199408630258, -0.8643241160644808, -0.6621001529413204, 1.360719194180736, 1.042942877980664, -1.0458240911693621, -1.739705844816496, -1.8731503600897443, 1.71834178687701, -0.943600953327569, -0.8969304233768397, 1.2959907953380363, 0.6081390999260303, 2.029106682921963, 1.8574049460339892, -1.2252845711525833, 0.19135418449634195, -0.5902281764535534, 0.24369261440317877, -0.7067690785822673, 0.7910577639230416, 1.3088851252456364, 2.2696888611636594, -1.0522933744177667, 1.2200272087600361, 2.028037866949588, -0.08998519299002188, 3.416385853780772, -0.6242640280987054, -0.04000380641586588, 1.0623672441565268, -1.364509960966228, -0.05811505478528529, 1.1050923553139933, -1.2855417341855344, -0.5512747299989488, 3.2070951411200523, -1.1562436048923155, 1.2838045575856452, -0.00046935273979528615, 1.895345857514743, -0.19078424099335106, -1.6433336850301925, 2.199818447583888, 0.29346425735487447, -1.31513186814367, -0.7255018851349128, -0.22604872969014142, -0.8921503775238576, -1.5679942607352133, 0.6691696147236657, -0.25255532079854653, 0.5262458745911289, 0.8013307278455777, -1.8860570989674885, 0.891549253373534, -1.2961587002607784, -1.8731503600897443, -0.09120822136736687, -0.24250180414596542, -0.30256872061248413, -0.9641358482177469, -0.9671216023063927, -1.4905120581197469, 0.8549434018688863, 1.693218674108535, -0.46736926365568915, 2.283466072699782, -2.5657599626611804, 1.8817749143475848, -0.755397719530616, -2.867807217853567, 1.08916344028161, -0.10295230079897116, -0.7284150365034286, 0.8499435719808043, -0.5184611220332621, 2.4801400757175798, 2.7707033040752553, 1.249075916714169, 0.8443865588193796, -0.7971288609092567, -0.407530151602036, -1.3297280596067957, 1.5966931083510554, -1.2295170429527889, 0.49990521035929925, 3.0390070725171627, 1.5765296657257413, 1.2008248915454187, -0.9015882986182191, 0.2881330669176051, -1.0768425308263856, -0.14242695650106196, -0.1970030328181256, -2.360196601991703, 0.9705755373874387, -0.11823130221720116, 0.246176918334665, 2.6309639985681077, 1.7538365305409738, 0.19052668133725864, 3.20757655929795, -0.513537068643945, -0.5558015954974823, -0.6790654683906093, 1.9454990655869184, 1.0138399560973461, -2.448195399263754, 1.5087301733255278, 0.06741626546200008, 1.0877956754920444, -0.968825291449401, -1.0355132768175725, 1.1232844841127814, -0.878317818376378, 0.7895780917887072, -1.1540135060405403, 2.037975311718555, -0.4708516965874718, 0.8182610520389244, 2.071127190680133, 0.8725713652548933, 1.32723338955584, 0.5423209786004057, -1.150612560370762, 0.8885489280148737, -1.2397759980283993, -0.041600183773214866, 0.30087501258646404, 0.3453250546131163, -1.070910518801383, 2.3497121861386723, 3.5176707465762123, -1.2673569185229447, 0.1060605986148243, 0.2644019051567844, -1.8032441458165502, 2.993074953842789, -0.2485476641146573, 0.5454950490610073, 1.667081566332335, 1.3173834878763626, -0.5955451786034522, 0.030755443348850976, -2.5725847748433623, -1.7368141703962168, 1.1121346482013001, -1.7092788154846734, 0.7857126045098457, 2.1270468146526413, -0.41426352438045644, -1.4744456104553831, 3.3226163543467044, 2.447260423028697, 1.0708030727903675, 0.6436114521164933, 1.1765593015451663, -0.7091484400544871, -0.046808772443600294, -1.068056513478595, -1.0698875911392463, -0.19342735244469814, 1.3132823686449016, -2.402612841982227, 0.4088376997177237, -1.3317653366491427, 0.8029643316587387, 1.373788275360804, -0.06046639162471861, -1.239515450920841, 2.119356571609441, -1.0903165215624095, 0.2697486813426584, 2.8836173973867427, -1.101906227706255, -0.759146537295034, 0.23618331860180491, -1.739842612961026, 1.2080260777444107, 1.0798546817267638, -0.206353309951548, -0.5678373271581747, -1.3828535858839852, -0.9235928922415779, 0.8513353700437615, -0.0800095974316969, 1.8243617690471277, -2.0569435422574935, -0.0764817490960384, -0.08659487858357358, -2.067223728312562, -0.22690600372694714, 1.1191504268107073, 0.6569709444674013, 0.10376745894890113, 0.14188760714967813, -0.0025949354329358994, -0.35627762597189716, -0.2864909739265599, 0.3626490406623859, 3.330471059249714, 1.843341201983588, -1.0623198877052396, -0.5562435096227029, -1.8909395047797675, -1.4044073085780706, 1.7075921684521755, -1.231371601347278, 1.3194843573526325, 0.2547655506670733, -1.712568940668573, -0.0838192410245789, -1.1180977001665142, -0.13450826843150346, -1.4187859886081577, 0.427418101628279, -1.2916652347848863, 0.5768911920412109, -2.2575568934610386, 1.1464715843124254, -0.015805578599996324, -0.32287639381594585, 1.7882935087410747, -0.36139200302107055, 2.9881373846759516, -1.056187346184582, -2.699223787351354, 1.0887147364483685, -1.257011511126872, 1.163492247028875, -1.2928394010946591, -1.2312567290829886, 1.3859548013529983, -1.0196031009434752, 1.3743303296192428, -1.1898840411743055, -0.9862680258659302, -2.2211672241489127, -1.1589426012725648, 1.5593556585064512, 0.08880333624772763, -1.735054146516281, -1.3691371043125533, -0.5185651478625126, -1.0123987645254926, 1.5783661273646112, -0.7088958069505217, -0.3049882184143702, 0.2294332510716708, -0.3218518814899129, -0.7843311666314667, -1.3325901706723364, -1.3014250405031764, 1.9007137654190474, 0.17633830521903954, -0.2756917721407823, 1.108866264442024, -0.7626019301573602, 0.5214406928870329, 3.416572471030062, -0.03415160778507641, -0.19303855198953757, 0.3875542115808749, -0.30915316665165876, -1.3087279871804938, 0.398903767291713, 1.8474186023506116, -1.2730417587724339, -0.6951953759392231, -0.2548074924324912, 2.056732115188722, -1.650864852804566, -1.1074098959000074, 0.6114958833975628, 0.12075920734608991, 2.420124481257734, -2.9278285407616718, -1.059225865847953, 1.3313582746383434, 0.026837112028192677, -0.16566687610072628, -0.31269646122293027, -0.19408353683016577, -0.19733930372029182, -1.7930641860473897, -1.3607109060139093, 0.29972595750835207, -0.8474994113582474, -1.2761950699483178, 2.0128236102681223, 1.6752775658379369, 2.75366589491587, -1.009558342722611, -0.5464562473556319, 1.830627431668753, -0.2558029510569019, 2.05858080861481, -0.37137928091536715, -2.146083184676108, -1.019159160346274, -1.473883142471197, -0.30783473592644733, 1.2566398797274045, -1.4955972399392048, -0.6474931276073153, -0.908126905808722, 0.3948415960626417, -0.05398226374264487, 1.2239874483657665, 1.1059428449173836, -0.5646480424300091, -2.101700166472005, -0.5792128706315418, 0.7631354036872957, 0.014358703487861611, -1.0643880279802551, 1.0880143278261658, -0.06759679576858436, -1.169162728379031, 1.7093285531695441, -0.40117023515065103, 0.3714007102305769, -0.16428671350306653, 1.7092304962863296, 2.514725210493734, 0.5302966334880266, -0.6308004908687416, -0.8425136312863027, 0.02006522288981312, 1.857957092631837, 0.23249342445162377, 2.104978064134692, 0.06814661489738014, 0.8105980368861775, -0.19448657825913052, 0.9967465300618206, -1.1038878960035436, 1.508096418062164, -0.12356140711511394, 0.2834941954030556, 0.9897156671295447, -1.0293115416252483, -0.20656174121788676, 0.399772990948399, -1.2514157892307272, -1.3628902403962642, -1.1749283449819865, -0.9562264127731138, 1.4432371579970544, 0.25812820175637907, -1.0058015019615725, 0.6132672881478789, -1.8109542568124608, -2.61363625492402, 1.4007875356712405, -0.24978536804416498, -1.6131114544953713, 2.9033433369224477, 0.27033741358401614, -0.43625694065404524, 0.5118586693904756, -0.1287487570099155, -0.7104826117246088, -0.360391615881461, -1.0591546881801066, -0.3726249381436044, -0.4982643451475889, -1.824024323748624, 0.03871144413727316, 1.6758380606938765, -0.9439025056153957, 0.8402047648525903], \"z\": [-0.0874826499486174, 1.5744799701019383, -0.8242586367274596, 0.619172725385688, 1.1597780825984378, 0.43703711616322155, -1.8045630706448645, 0.34702275317735076, -0.0011161391609862516, -0.4840245915243477, 1.1624733810642622, 0.27875009911966125, -0.702606628551365, 0.8461572716780548, -1.9396149937803677, 0.10485732672725763, 0.3269425137735988, 0.9965756220509807, -0.0665931640329361, -0.937332801411269, -0.11107228634415851, 0.10450781303319497, 0.22489869544327673, 3.0793639296630357, -1.3342382633198853, -0.028330678205169598, -2.011109189605155, -1.5571534421987532, -0.0799174474886915, 0.8314834050218192, -0.37090340696182744, 0.5446140010343086, 0.04510389504965739, -0.35840733170445116, 2.2424687535532453, -0.312356503097796, -0.6156520473546891, -0.11344736680212016, 0.19196989635539025, -0.05423307205744003, -0.1624255644923424, 0.19604410669394445, 0.3522397035822153, 0.05161523521237571, 0.2963699925139451, -0.4665150241362831, -0.6622973148560388, -0.5587802764095386, -0.14908124505170361, -0.6575690802389604, -0.6101892226169506, 2.1235453879335013, -0.35985790006908164, 0.9508688904989124, -0.011760295534876038, 0.32520098138526476, -1.151333592997492, -0.03063687613833761, 1.1350838426143637, -1.4139800806464449, 1.1986314546307444, -0.8151363489285122, -0.1396571784351035, -0.4367793265858428, 0.9258276207874486, -0.7906742272092254, 0.012181043844561505, -0.05535614204519986, -0.6665413919035689, -0.22805773219685008, -1.5802025631944678, -0.9575210721051194, -1.026700991082259, 0.30451210127988165, -2.2065748729340675, 1.50968869545117, -0.4216916566391721, 1.0240717199606268, -0.6516623724062298, -1.349194319867967, -0.9068589956603859, -0.08237000974871918, 3.4355817643906383, 0.4439625671261366, 0.8589324899368175, -1.5408842962231153, -1.144967554902741, -0.29309663171735556, -1.6405111482371875, -1.5963423874421951, -1.0398312915564796, -0.3737930938586863, 2.3378291370676516, 1.1331345103898744, -2.0121824753825646, 0.8517625325785411, -0.7866820748800243, -0.10491261902479043, -1.1431917544071128, 1.8009046040750418, -0.0041397068578768615, 0.47990797329077695, -0.9019594262223691, -0.4724544850055522, 0.5182878186164525, -0.028018656871736162, 1.378136561383645, -0.7444161249903537, -0.4348417783127927, -0.8768819633838822, 2.2592868732907783, -0.12412128750958246, -1.4477263306879753, -0.24069631013684484, -1.783998452225234, -0.15717361351493875, -1.3045758763707613, 0.049597436295539435, -1.0619053329355188, 1.9528606694497987, -1.1303786569495844, -1.3563091483511294, 0.029549586995479243, 3.033943131427593, -3.0938927319207625, 0.19857955199099014, 0.4677086063094513, -1.3548182350740694, -0.5173226082562855, 0.7621204565814452, 0.8600493794388039, -0.4644076960256064, -2.2395535112289764, 1.3735915431632164, 1.0811792220826002, 0.45778679729953625, 0.21146554666819586, -0.5609401868694477, -0.5928789270480743, -0.2022032537197629, -0.6633225545182739, 1.5899891105706514, -1.0031828155049682, -0.18421350282320487, -0.73089574087435, 1.2236087891757246, 0.9593313724121507, -1.00813398686459, -0.8101864583101641, -0.2882577632693362, -0.1737090681612906, -0.04327574295683627, -0.3112328313866288, -0.7775726564449836, -0.5125224761276835, -0.6201884327736891, 0.7132816942213411, -0.5428288601619866, -0.5005409529732633, -0.5673264526182641, -0.6355385604157705, -0.0008020899371584195, -0.8707818727278913, 0.3708444129272344, 1.965915087043295, 0.22592429888897858, 0.6685109509818968, -0.8672250283212655, -1.7581072299351956, 0.8007202497900415, -0.6239577253676266, 0.6709638892594365, -0.7272276370256836, 0.6590131071050875, 0.5504150593376442, -0.1418958166720928, 2.5543417781883573, -0.34993275181767636, -0.2487304468209311, -0.351547093837166, -0.6067616273154764, 0.7283218939341407, -1.3375158680996895, -1.2397906730740014, 1.0679151517259828, 1.5447608507856088, -0.24491575276507502, 0.30748152014822927, 1.2685793563585723, 0.1543990947598471, -0.6177799657307108, -0.6675982897827277, 1.2724552169798584, 0.40663683326699035, 0.6698783020332673, -0.4151667282376481, -2.418020853800827, -1.5027721233203557, 0.8120653972224245, -1.3424230887871749, 1.4511268618394726, 0.17007861753610098, -1.5422896349078807, -0.6800225539960275, -1.621858173428483, -0.7007153529955652, -1.0529206543284302, -0.6196288273631106, -0.9763909948974736, -0.11599379003443318, -0.5878616008010368, -1.2149472100998406, -0.9784745467027508, 0.47634833227430334, 3.0107875803417006, -1.2972989164801763, 0.4792946688465459, 1.0756202647095146, -1.064281086887074, 0.9318594612609102, -0.1784890209490255, -0.8161125647378582, 0.48971646088005855, -0.25382090301842747, 2.6324326022745406, 0.036152175106381176, -1.5184095395390054, 0.06269213522581951, 0.008417882268623205, 0.02430588520136845, -0.34746179118870163, -0.9513109768262388, -1.562373748792418, 1.6624207144919858, -1.6062143504425532, -1.3760938776970306, -0.28505286848151856, 0.7052475462964517, 0.5492517383818762, 0.7451559556816045, 1.427860112455324, 0.015357971541115347, 0.07877272841848451, -0.2067273401970796, 0.05336744164464856, -1.2812111980511203, 0.18233005089836557, -0.9250096787983163, 0.13001890298054447, 2.519374671561075, 2.81295415922697, -0.25349173996294466, 2.344282090047626, 1.5511431815177126, 0.7165918979877143, 0.45520553750189796, -0.14434836169555446, -1.66064869167659, 0.9162289457589249, -0.033515901167662884, 3.1645692047830476, 0.6326644034629798, 0.22982447983448537, 0.12640034832668712, 1.429451018194849, -1.2569240135399218, 1.8725774019439754, -0.24022732826028448, -1.367738556026848, 0.18945780361742195, -0.02542137944247445, 1.4137922903764808, -0.30396067502258145, -1.3257519541741225, 0.20146570724696813, 0.6593335264475391, 2.8939693099025368, -0.6703074344702837, -1.535776096491784, -1.6930470941193319, 0.14401201117555668, 0.7732363964922548, -0.7184237044527366, -1.8039499120497418, -1.1928989487786064, -0.04232431835137686, -0.6103331034210532, -0.516371730244007, 0.651286861202039, -1.2272385261397942, -0.44933018065165314, -0.5418045732476668, 0.28068601223115547, 0.9555214480208192, 0.08620608978255519, -0.9920834867622057, 0.5518935571014733, -1.7494346248962844, -0.7745375898640766, 2.5581711534156977, 0.7989820639022118, -1.7820130460730386, -0.20838298860823187, 0.8799157734246371, 0.19068484944577685, 0.39138593240330805, -1.4226713705199827, -1.5130738859952553, -0.8763247124977749, 0.14474799735669194, 1.827185244930152, -0.8256993539109933, -1.274566159372372, -0.7422096198354534, -1.5293265888308878, -0.67788138722068, -1.150938998519267, -0.5169805786740792, -0.1186228582920521, 0.6091649911839108, 0.2503204720047801, -2.034932383079782, -0.555599548855037, 0.023616627243761023, 1.2685809939464772, -0.10675210900309529, 1.1503264838530662, 0.893740882524786, -1.36246843080909, 0.631618558574696, -0.9150872770041459, 0.4833526273078821, -1.2663130556905826, 0.5743428324604306, -1.347364347609576, -0.9196560665636053, 0.25947031368004025, -0.18015937558366288, -0.5566453632644249, -1.1218307344017726, -2.130541872904506, 1.3847306042717353, -1.535613288488716, 0.3311309975331432, -0.7318013937280902, -0.5327646106048944, 1.6174977326311168, 1.8244712803267147, 0.4038291727598764, 0.5722138953543032, -1.6442089835384328, 0.2556077151692402, 3.7354983599119134, -1.6590844536998695, 3.5074689744619305, 0.4301364403295853, -0.17812190519226742, -0.8394794656052669, -1.210615834243309, 0.14381678782414015, -2.035634253774927, 0.5746191302535808, -1.4318186211916302, -1.601393564259071, -0.9798271122291464, -0.44503820515745424, -0.08014518970863314, -0.8359037069742924, 0.5916048945276646, -2.294547066946713, -1.0562685242486718, -0.5565761527988683, 0.4118849763299277, 1.8463599103295554, 1.016009902295006, -1.4936015330072832, 1.076106293605962, 3.3260951096642186, -0.15069659553646447, -0.3769011296684929, 1.1204037257743367, 0.7613373185217432, 1.3444948960637124, 2.06738907170262, -1.4519447446757259, 0.15578813725804183, -2.615362733497198, -0.15856901244566826, 3.338103164871881, 1.9283718508290095, -0.838317369425437, 0.3538060889753766, -2.4240245255066504, 0.437668043971077, 0.7438544918696909, 0.8305106030480297, -0.10987448222992112, -1.0564611182471728, 0.036152175106381176, -0.3912944822092382, 2.09871224072076, 2.201825175264764, -1.8751205300278797, -0.45486184625413184, 1.0347603394703093, 0.4396527562898741, 0.7613433029209395, 1.477956541703321, 3.194619013062173, -0.04292390592744959, 2.1004890927585365, -1.3051947350025188, 0.3165435383208407, 0.11780553579780137, 2.515365426569169, 0.6528452527236267, -1.073116184979457, -0.42334144121068623, -1.397267816966814, 0.7139221910969845, -1.5191953266990292, -0.7854794871786478, -0.6590082594567189, 0.09968859252378286, -1.1999198377081814, -0.4366560185141278, 2.5181417705053506, 0.45909179907686304, 0.04255145525476728, -1.3452032257742892, 0.3961423819954151, -1.0243001292873657, -0.4676924727210546, -0.08138671132066859, 0.677025706218159, -0.2922703883982567, 0.8945919357657318, 0.20793274134149828, 2.863286819253037, 1.9669163817566155, -0.8807764018851654, -0.4584622477798273, 0.4060228937409141, -0.8551785689972113, -2.0469853338249635, 0.9193812406126155, -0.3271401608349216, -0.7104155210432099, 0.036152175106381176, -1.2129515150429075, -0.5859191319066941, -2.396964531604913, -0.46074921919969436, 1.965716447380253, 0.009541452811680241, -1.5266917270620952, -0.2918642820014721, 0.7855414517149735, -0.5542255462890758, 0.16537952031086867, 0.04644567248660627, -1.3558069845231147, -1.2039142438018802, -1.005276834919028, -1.2358587472161962, 0.5228552582470184, -0.8720649003198842, -0.544321469389927, 0.765246750985396, 1.8075468543669044, -0.656996837588987, -0.13134168572903104, 1.1710519704436935, 0.06704016392026017, -0.6182319226593935, -0.21479367383163203, -0.02662773144334091, -0.24068206661218725, 1.2194803861878538, -0.14832439047866716, 0.6501046821724735, 0.903499616859672, -0.5371943673341787, 1.687417132253131, -0.37123306875470713, -0.331343643027956, -0.4730610644701566, -1.194320154943437, -0.45787711735895076, -1.7639237803346575, 0.04430762414032184, 0.2851198604109464, 1.0162224994429574, -0.33899874985263684, 0.9289106988312422, -0.4374697582342343, 3.662199408159836, -0.10728737932593586, -0.6977355622351987, 1.1227981906314393, -0.8917120332822102, -1.4591104774564063, 0.8618264810028623, -0.2773609824298495, 0.16237317947517282, -0.24020890571833847, -2.49008900248752, -0.07171678381322016, -0.6871015557245189, -1.3116508297093676, 0.5422037240833023, 1.302535361798819, 0.3276923992597761, 0.39937639617419673, 0.3807998473387792, -1.7885673111979166, 1.5999000499794376, -0.2527005415577855, 1.9202477396224649, -0.35515541554007396, 0.1630334537548187, -2.6118372760665087, 0.1197869495431651, 0.09123774228027184, 1.407392254908359, -0.43240553058257547, 1.7206124619858365, -0.7969599487366162, 0.8763201434620503, -0.20752455149760446, 0.24592003016310462, -0.16580003460349915, -1.0269182515803177, -0.4807202736275058, 2.6264036508065978, -0.9142108394536868, -0.5246819794115573, -1.720283346426575, 1.280967863317549, 0.23567589859501062, -1.6933157850990967, 0.6971540880031125, -1.033721372156439, 1.118135432642946, 0.33762000565251554, -0.6409538252235791, -1.8043234444194107, -0.11662654114389076, -1.625504783077585, 0.48340946677255253, 0.904294883505219, 0.06530646873076212, -1.9281304691115413, -1.2792446687951005, 0.6555628752258366, -1.2116724271656798, -0.7186289706428709, 0.28832860435636176, -0.2687945841367286, -0.06740145624163699, 0.12840780477210492, 1.3329883832852107, 0.4722967919360159, 0.9613480445950141, 0.8000205051979822, 0.5754215051166051, 0.1472317738744054, 0.20207940459079413, 1.3540133308945632, -0.4065085465692823, 0.4821167376074279, -0.6029571264830338, 1.3518143034220478, -0.21880824828444742, -0.8069321675563832, 2.026566526402387, -0.7524497409397534, -0.7673641149779667, 0.8462452227674289, -0.13214861989639734, 1.465625499826679, 3.7440348660566225, -0.4147115582162095, 0.4993775446078787, 0.4287877079469514, -0.5543275188989103, -0.1691531841242406, -1.492535715222789, -2.367703510922704, 3.3915943297476994, 0.40281565128975444, -0.42421674121755026, 0.9091594487268339, 0.22178860103051914, -0.11770270476907212, 3.639669674111745, 0.15485024844784417, -0.2864324603340348, -0.0001338089757264453, -0.7460844376800317, -0.9064028627876661, -0.03454351486683858, -0.7021230280274782, -0.32129889861958144, 0.16814054263144862, -0.47643407029959645, 0.21916915440470558, 1.2092599968895732, -0.15689942759459452, 1.4194192032227138, -0.8719649101642737, -0.32550183159607476, -0.28877810255408204, 0.7141512276002809, 0.41749202469049074, 0.7611114936428697, 0.3084480052265077, -0.6403044950634834, -0.5015305230393773, 0.005556032572273467, 2.493253531813642, -1.015057086177894, 1.742059269903583, 0.226565666967232, -0.3359417224152457, 0.2631942632148812, 0.5130769593137517, 2.1534999255145384, 2.4524411050511206, -0.8700085905946334, 1.9227679798537962, -1.1183532066217858, -1.3667579113541968, 0.15505330360891237, 1.3491502360201435, -0.9222550989903255, 0.3687822898130936, -0.7254473961209227, -0.9969135600470839, 2.4504168487865456, -1.0735765633271876, 0.8062649877221777, 2.6120033863307355, -0.7677514913140937, -2.090915763299256, -0.21544709872082388, 0.038686388941746655, -2.270993346664088, -0.4055683140993996, 1.1244174677715384, 0.867865159685524, 0.7283652904051023, -0.3424586218664832, 0.14818115151755895, -1.6456642330871425, 1.4610409767489345, -0.6055832201715594, 0.5770643107073686, 0.2272319023430047, -0.876257812567023, -0.08534231895337466, -0.6040506365223951, -0.13581256927062896, -1.062346461184642, 2.1371688874517, -1.3627843504505177, -0.900754358221588, 0.6856363043782062, -0.928651781935942, 0.22570840341391926, -0.3634050554906311, 0.8433954045541532, 0.6909474095662088, 2.5814363201203556, -0.30804941464467034, -0.054445674897216544, -0.21023527957396596, 0.6685022119738985, -0.5898366312104161, -0.07448353874925709, 3.0144179520891816, 0.1754681807288031, -0.2528925411702008, -0.6496179394442694, 1.1967483983354197, 0.2277860174454684, 1.3859899853506568, -1.8294358897700647, -0.4505137668196359, -1.086069741356296, 0.31014995307902726, 0.7385636493108734, 0.5020475516991666, -0.28559647390124243, -0.051427131545605714, -0.11884846293920527, -1.1223026342208897, 0.42062341692822647, -2.0887112065126483, 0.3709468425159577, -0.08889166534895629, 0.3193734523636864, 3.375095963155921, -2.1586209012121054, 1.3242593968785135, -1.4702579491141952, -0.23413902605088424, -0.5115859068962386, -0.609550480746701, -0.9826786906996274, -0.650728087481411, -0.8987473613881315, -1.4679564887975778, -0.14097153439405133, 3.3125743222179853, -0.2028670260193613, 0.24585598443369733, 0.4774854664719038, -0.9804644199597123, -0.3845637847460274, 2.636803842895701, 0.2476401831977196, 0.6776838328431409, 1.9164369983799339, 0.3532864892422224, 0.5627807813522405, -1.1435557616673193, -0.022027338407401214, 3.086057750962473, -1.2056225918300956, 0.5034977429438098, 0.04098596902137917, -0.5719503087576528, 0.9032822108961681, 0.15934933119647232, 0.29493081046304237, -1.0357949587984114, -1.0196158661245378, -0.2868363716704598, 2.0816996864435096, -0.8343365973960997, 0.15336185092721197, -1.2091495860677588, -0.03089364453047127, -1.6347578734405799, -0.8816471471297628, -0.8065540967796503, 2.157287844748403, 0.43438899323009456, 1.5916420390389499, -0.14362362010883337, 2.3642578604232676, -0.37541271152887706, -0.8182601327339342, -1.9038977752848265, 3.1494503745649296, 0.9025873368791073, 0.17205740689041166, 1.0768552634520727, -1.2181390428623224, -1.436614974688554, -0.2899756042984279, -0.15143204299531496, -0.7864388450631583]}],                        {\"legend\": {\"tracegroupgap\": 0}, \"scene\": {\"domain\": {\"x\": [0.0, 1.0], \"y\": [0.0, 1.0]}, \"xaxis\": {\"title\": {\"text\": \"CP 1\"}}, \"yaxis\": {\"title\": {\"text\": \"CP 2\"}}, \"zaxis\": {\"title\": {\"text\": \"CP 3\"}}}, \"template\": {\"data\": {\"bar\": [{\"error_x\": {\"color\": \"#2a3f5f\"}, \"error_y\": {\"color\": \"#2a3f5f\"}, \"marker\": {\"line\": {\"color\": \"#E5ECF6\", \"width\": 0.5}}, \"type\": \"bar\"}], \"barpolar\": [{\"marker\": {\"line\": {\"color\": \"#E5ECF6\", \"width\": 0.5}}, \"type\": \"barpolar\"}], \"carpet\": [{\"aaxis\": {\"endlinecolor\": \"#2a3f5f\", \"gridcolor\": \"white\", \"linecolor\": \"white\", \"minorgridcolor\": \"white\", \"startlinecolor\": \"#2a3f5f\"}, \"baxis\": {\"endlinecolor\": \"#2a3f5f\", \"gridcolor\": \"white\", \"linecolor\": \"white\", \"minorgridcolor\": \"white\", \"startlinecolor\": \"#2a3f5f\"}, \"type\": \"carpet\"}], \"choropleth\": [{\"colorbar\": {\"outlinewidth\": 0, \"ticks\": \"\"}, \"type\": \"choropleth\"}], \"contour\": [{\"colorbar\": {\"outlinewidth\": 0, \"ticks\": \"\"}, \"colorscale\": [[0.0, \"#0d0887\"], [0.1111111111111111, \"#46039f\"], [0.2222222222222222, \"#7201a8\"], [0.3333333333333333, \"#9c179e\"], [0.4444444444444444, \"#bd3786\"], [0.5555555555555556, \"#d8576b\"], [0.6666666666666666, \"#ed7953\"], [0.7777777777777778, \"#fb9f3a\"], [0.8888888888888888, \"#fdca26\"], [1.0, \"#f0f921\"]], \"type\": \"contour\"}], \"contourcarpet\": [{\"colorbar\": {\"outlinewidth\": 0, \"ticks\": \"\"}, \"type\": \"contourcarpet\"}], \"heatmap\": [{\"colorbar\": {\"outlinewidth\": 0, \"ticks\": \"\"}, \"colorscale\": [[0.0, \"#0d0887\"], [0.1111111111111111, \"#46039f\"], [0.2222222222222222, \"#7201a8\"], [0.3333333333333333, \"#9c179e\"], [0.4444444444444444, \"#bd3786\"], [0.5555555555555556, \"#d8576b\"], [0.6666666666666666, \"#ed7953\"], [0.7777777777777778, \"#fb9f3a\"], [0.8888888888888888, \"#fdca26\"], [1.0, \"#f0f921\"]], \"type\": \"heatmap\"}], \"heatmapgl\": [{\"colorbar\": {\"outlinewidth\": 0, \"ticks\": \"\"}, \"colorscale\": [[0.0, \"#0d0887\"], [0.1111111111111111, \"#46039f\"], [0.2222222222222222, \"#7201a8\"], [0.3333333333333333, \"#9c179e\"], [0.4444444444444444, \"#bd3786\"], [0.5555555555555556, \"#d8576b\"], [0.6666666666666666, \"#ed7953\"], [0.7777777777777778, \"#fb9f3a\"], [0.8888888888888888, \"#fdca26\"], [1.0, \"#f0f921\"]], \"type\": \"heatmapgl\"}], \"histogram\": [{\"marker\": {\"colorbar\": {\"outlinewidth\": 0, \"ticks\": \"\"}}, \"type\": \"histogram\"}], \"histogram2d\": [{\"colorbar\": {\"outlinewidth\": 0, \"ticks\": \"\"}, \"colorscale\": [[0.0, \"#0d0887\"], [0.1111111111111111, \"#46039f\"], [0.2222222222222222, \"#7201a8\"], [0.3333333333333333, \"#9c179e\"], [0.4444444444444444, \"#bd3786\"], [0.5555555555555556, \"#d8576b\"], [0.6666666666666666, \"#ed7953\"], [0.7777777777777778, \"#fb9f3a\"], [0.8888888888888888, \"#fdca26\"], [1.0, \"#f0f921\"]], \"type\": \"histogram2d\"}], \"histogram2dcontour\": [{\"colorbar\": {\"outlinewidth\": 0, \"ticks\": \"\"}, \"colorscale\": [[0.0, \"#0d0887\"], [0.1111111111111111, \"#46039f\"], [0.2222222222222222, \"#7201a8\"], [0.3333333333333333, \"#9c179e\"], [0.4444444444444444, \"#bd3786\"], [0.5555555555555556, \"#d8576b\"], [0.6666666666666666, \"#ed7953\"], [0.7777777777777778, \"#fb9f3a\"], [0.8888888888888888, \"#fdca26\"], [1.0, \"#f0f921\"]], \"type\": \"histogram2dcontour\"}], \"mesh3d\": [{\"colorbar\": {\"outlinewidth\": 0, \"ticks\": \"\"}, \"type\": \"mesh3d\"}], \"parcoords\": [{\"line\": {\"colorbar\": {\"outlinewidth\": 0, \"ticks\": \"\"}}, \"type\": \"parcoords\"}], \"pie\": [{\"automargin\": true, \"type\": \"pie\"}], \"scatter\": [{\"marker\": {\"colorbar\": {\"outlinewidth\": 0, \"ticks\": \"\"}}, \"type\": \"scatter\"}], \"scatter3d\": [{\"line\": {\"colorbar\": {\"outlinewidth\": 0, \"ticks\": \"\"}}, \"marker\": {\"colorbar\": {\"outlinewidth\": 0, \"ticks\": \"\"}}, \"type\": \"scatter3d\"}], \"scattercarpet\": [{\"marker\": {\"colorbar\": {\"outlinewidth\": 0, \"ticks\": \"\"}}, \"type\": \"scattercarpet\"}], \"scattergeo\": [{\"marker\": {\"colorbar\": {\"outlinewidth\": 0, \"ticks\": \"\"}}, \"type\": \"scattergeo\"}], \"scattergl\": [{\"marker\": {\"colorbar\": {\"outlinewidth\": 0, \"ticks\": \"\"}}, \"type\": \"scattergl\"}], \"scattermapbox\": [{\"marker\": {\"colorbar\": {\"outlinewidth\": 0, \"ticks\": \"\"}}, \"type\": \"scattermapbox\"}], \"scatterpolar\": [{\"marker\": {\"colorbar\": {\"outlinewidth\": 0, \"ticks\": \"\"}}, \"type\": \"scatterpolar\"}], \"scatterpolargl\": [{\"marker\": {\"colorbar\": {\"outlinewidth\": 0, \"ticks\": \"\"}}, \"type\": \"scatterpolargl\"}], \"scatterternary\": [{\"marker\": {\"colorbar\": {\"outlinewidth\": 0, \"ticks\": \"\"}}, \"type\": \"scatterternary\"}], \"surface\": [{\"colorbar\": {\"outlinewidth\": 0, \"ticks\": \"\"}, \"colorscale\": [[0.0, \"#0d0887\"], [0.1111111111111111, \"#46039f\"], [0.2222222222222222, \"#7201a8\"], [0.3333333333333333, \"#9c179e\"], [0.4444444444444444, \"#bd3786\"], [0.5555555555555556, \"#d8576b\"], [0.6666666666666666, \"#ed7953\"], [0.7777777777777778, \"#fb9f3a\"], [0.8888888888888888, \"#fdca26\"], [1.0, \"#f0f921\"]], \"type\": \"surface\"}], \"table\": [{\"cells\": {\"fill\": {\"color\": \"#EBF0F8\"}, \"line\": {\"color\": \"white\"}}, \"header\": {\"fill\": {\"color\": \"#C8D4E3\"}, \"line\": {\"color\": \"white\"}}, \"type\": \"table\"}]}, \"layout\": {\"annotationdefaults\": {\"arrowcolor\": \"#2a3f5f\", \"arrowhead\": 0, \"arrowwidth\": 1}, \"autotypenumbers\": \"strict\", \"coloraxis\": {\"colorbar\": {\"outlinewidth\": 0, \"ticks\": \"\"}}, \"colorscale\": {\"diverging\": [[0, \"#8e0152\"], [0.1, \"#c51b7d\"], [0.2, \"#de77ae\"], [0.3, \"#f1b6da\"], [0.4, \"#fde0ef\"], [0.5, \"#f7f7f7\"], [0.6, \"#e6f5d0\"], [0.7, \"#b8e186\"], [0.8, \"#7fbc41\"], [0.9, \"#4d9221\"], [1, \"#276419\"]], \"sequential\": [[0.0, \"#0d0887\"], [0.1111111111111111, \"#46039f\"], [0.2222222222222222, \"#7201a8\"], [0.3333333333333333, \"#9c179e\"], [0.4444444444444444, \"#bd3786\"], [0.5555555555555556, \"#d8576b\"], [0.6666666666666666, \"#ed7953\"], [0.7777777777777778, \"#fb9f3a\"], [0.8888888888888888, \"#fdca26\"], [1.0, \"#f0f921\"]], \"sequentialminus\": [[0.0, \"#0d0887\"], [0.1111111111111111, \"#46039f\"], [0.2222222222222222, \"#7201a8\"], [0.3333333333333333, \"#9c179e\"], [0.4444444444444444, \"#bd3786\"], [0.5555555555555556, \"#d8576b\"], [0.6666666666666666, \"#ed7953\"], [0.7777777777777778, \"#fb9f3a\"], [0.8888888888888888, \"#fdca26\"], [1.0, \"#f0f921\"]]}, \"colorway\": [\"#636efa\", \"#EF553B\", \"#00cc96\", \"#ab63fa\", \"#FFA15A\", \"#19d3f3\", \"#FF6692\", \"#B6E880\", \"#FF97FF\", \"#FECB52\"], \"font\": {\"color\": \"#2a3f5f\"}, \"geo\": {\"bgcolor\": \"white\", \"lakecolor\": \"white\", \"landcolor\": \"#E5ECF6\", \"showlakes\": true, \"showland\": true, \"subunitcolor\": \"white\"}, \"hoverlabel\": {\"align\": \"left\"}, \"hovermode\": \"closest\", \"mapbox\": {\"style\": \"light\"}, \"paper_bgcolor\": \"white\", \"plot_bgcolor\": \"#E5ECF6\", \"polar\": {\"angularaxis\": {\"gridcolor\": \"white\", \"linecolor\": \"white\", \"ticks\": \"\"}, \"bgcolor\": \"#E5ECF6\", \"radialaxis\": {\"gridcolor\": \"white\", \"linecolor\": \"white\", \"ticks\": \"\"}}, \"scene\": {\"xaxis\": {\"backgroundcolor\": \"#E5ECF6\", \"gridcolor\": \"white\", \"gridwidth\": 2, \"linecolor\": \"white\", \"showbackground\": true, \"ticks\": \"\", \"zerolinecolor\": \"white\"}, \"yaxis\": {\"backgroundcolor\": \"#E5ECF6\", \"gridcolor\": \"white\", \"gridwidth\": 2, \"linecolor\": \"white\", \"showbackground\": true, \"ticks\": \"\", \"zerolinecolor\": \"white\"}, \"zaxis\": {\"backgroundcolor\": \"#E5ECF6\", \"gridcolor\": \"white\", \"gridwidth\": 2, \"linecolor\": \"white\", \"showbackground\": true, \"ticks\": \"\", \"zerolinecolor\": \"white\"}}, \"shapedefaults\": {\"line\": {\"color\": \"#2a3f5f\"}}, \"ternary\": {\"aaxis\": {\"gridcolor\": \"white\", \"linecolor\": \"white\", \"ticks\": \"\"}, \"baxis\": {\"gridcolor\": \"white\", \"linecolor\": \"white\", \"ticks\": \"\"}, \"bgcolor\": \"#E5ECF6\", \"caxis\": {\"gridcolor\": \"white\", \"linecolor\": \"white\", \"ticks\": \"\"}}, \"title\": {\"x\": 0.05}, \"xaxis\": {\"automargin\": true, \"gridcolor\": \"white\", \"linecolor\": \"white\", \"ticks\": \"\", \"title\": {\"standoff\": 15}, \"zerolinecolor\": \"white\", \"zerolinewidth\": 2}, \"yaxis\": {\"automargin\": true, \"gridcolor\": \"white\", \"linecolor\": \"white\", \"ticks\": \"\", \"title\": {\"standoff\": 15}, \"zerolinecolor\": \"white\", \"zerolinewidth\": 2}}}, \"title\": {\"text\": \"Total de Varianza Explicada: 50.89%\"}},                        {\"responsive\": true}                    ).then(function(){\n",
       "                            \n",
       "var gd = document.getElementById('f6fe2dec-b92e-43af-a1af-5cd0dcfdf527');\n",
       "var x = new MutationObserver(function (mutations, observer) {{\n",
       "        var display = window.getComputedStyle(gd).display;\n",
       "        if (!display || display === 'none') {{\n",
       "            console.log([gd, 'removed!']);\n",
       "            Plotly.purge(gd);\n",
       "            observer.disconnect();\n",
       "        }}\n",
       "}});\n",
       "\n",
       "// Listen for the removal of the full notebook cells\n",
       "var notebookContainer = gd.closest('#notebook-container');\n",
       "if (notebookContainer) {{\n",
       "    x.observe(notebookContainer, {childList: true});\n",
       "}}\n",
       "\n",
       "// Listen for the clearing of the current output cell\n",
       "var outputEl = gd.closest('.output');\n",
       "if (outputEl) {{\n",
       "    x.observe(outputEl, {childList: true});\n",
       "}}\n",
       "\n",
       "                        })                };                });            </script>        </div>"
      ]
     },
     "metadata": {},
     "output_type": "display_data"
    }
   ],
   "source": [
    "pca = PCA(n_components=3)\n",
    "dimention_3=pca.fit_transform(df_train_sc)\n",
    "\n",
    "total_var = pca.explained_variance_ratio_.sum() * 100\n",
    "\n",
    "fig = px.scatter_3d(\n",
    "    dimention_3, x=0, y=1, z=2, \n",
    "    title=f'Total de Varianza Explicada: {total_var:.2f}%',\n",
    "    labels={'0': 'CP 1', '1': 'CP 2', '2': 'CP 3'}\n",
    ")\n",
    "fig.show()"
   ]
  },
  {
   "cell_type": "markdown",
   "metadata": {},
   "source": [
    "### K- Best"
   ]
  },
  {
   "cell_type": "markdown",
   "metadata": {},
   "source": [
    "Score function:\n",
    "- For regression: f_regression, mutual_info_regression\n",
    "- For classification: chi2, f_classif, mutual_info_classif"
   ]
  },
  {
   "cell_type": "markdown",
   "metadata": {},
   "source": [
    "**f_regression**\n",
    "- Pruebas de regresión lineal univariante.\n",
    "\n",
    "- Modelo lineal para probar el efecto individual de cada uno de los muchos regresores. Esta es una función de puntuación que se utilizará en un procedimiento de selección de características\n",
    "\n",
    "- Esto se hace en 2 pasos:\n",
    "\n",
    "- Se calcula la correlación entre cada regresor y el objetivo, es decir, ((X [:, i] - mean (X [:, i])) * (y - mean_y)) / (std (X [:, i] ) * estándar (y)).\n",
    "\n",
    "- Se convierte en una puntuación F y luego en un valor p."
   ]
  },
  {
   "cell_type": "markdown",
   "metadata": {},
   "source": [
    "- mutual_info_classif : para discretas y continuas\n",
    "- f_regressión : solo continuas"
   ]
  },
  {
   "cell_type": "markdown",
   "metadata": {},
   "source": [
    "https://towardsdatascience.com/fisher-test-for-regression-analysis-1e1687867259"
   ]
  },
  {
   "cell_type": "markdown",
   "metadata": {},
   "source": [
    "** Estime la información mutua para una variable objetivo discreta.\n",
    "\n",
    "** La información mutua (MI) [1] entre dos variables aleatorias es un valor no negativo, que mide la dependencia entre las variables. Es igual a cero si y solo si dos variables aleatorias son independientes, y los valores más altos significan una mayor dependencia.\n",
    "\n",
    "** La función se basa en métodos no paramétricos basados ​​en la estimación de la entropía a partir de distancias de los vecinos más cercanos k."
   ]
  },
  {
   "cell_type": "code",
   "execution_count": 914,
   "metadata": {
    "ExecuteTime": {
     "end_time": "2021-08-21T07:51:33.889815Z",
     "start_time": "2021-08-21T07:51:33.882841Z"
    }
   },
   "outputs": [],
   "source": [
    "X=X_train[[x for x in X_train if x!=\"tgt_SalePrice\"]].filter(like=\"c_\")\n",
    "y=X_train[[x for x in X_train if x==\"tgt_SalePrice\"]]"
   ]
  },
  {
   "cell_type": "code",
   "execution_count": 915,
   "metadata": {
    "ExecuteTime": {
     "end_time": "2021-08-21T07:51:34.438717Z",
     "start_time": "2021-08-21T07:51:34.432752Z"
    }
   },
   "outputs": [],
   "source": [
    "from sklearn.feature_selection import SelectKBest,mutual_info_classif "
   ]
  },
  {
   "cell_type": "code",
   "execution_count": 920,
   "metadata": {
    "ExecuteTime": {
     "end_time": "2021-08-21T07:51:53.847633Z",
     "start_time": "2021-08-21T07:51:53.839635Z"
    }
   },
   "outputs": [],
   "source": [
    "kb = SelectKBest(mutual_info_classif , k=5)"
   ]
  },
  {
   "cell_type": "code",
   "execution_count": 921,
   "metadata": {
    "ExecuteTime": {
     "end_time": "2021-08-21T07:51:54.390282Z",
     "start_time": "2021-08-21T07:51:54.359258Z"
    }
   },
   "outputs": [
    {
     "data": {
      "text/html": [
       "<div>\n",
       "<style scoped>\n",
       "    .dataframe tbody tr th:only-of-type {\n",
       "        vertical-align: middle;\n",
       "    }\n",
       "\n",
       "    .dataframe tbody tr th {\n",
       "        vertical-align: top;\n",
       "    }\n",
       "\n",
       "    .dataframe thead th {\n",
       "        text-align: right;\n",
       "    }\n",
       "</style>\n",
       "<table border=\"1\" class=\"dataframe\">\n",
       "  <thead>\n",
       "    <tr style=\"text-align: right;\">\n",
       "      <th></th>\n",
       "      <th>c_LotArea</th>\n",
       "      <th>c_MasVnrArea</th>\n",
       "      <th>c_BsmtFinSF1</th>\n",
       "      <th>c_BsmtUnfSF</th>\n",
       "      <th>c_2ndFlrSF</th>\n",
       "      <th>c_HalfBath</th>\n",
       "      <th>c_GarageArea</th>\n",
       "      <th>c_WoodDeckSF</th>\n",
       "      <th>c_OpenPorchSF</th>\n",
       "      <th>c_EnclosedPorch</th>\n",
       "      <th>c_MiscVal</th>\n",
       "    </tr>\n",
       "  </thead>\n",
       "  <tbody>\n",
       "    <tr>\n",
       "      <th>0</th>\n",
       "      <td>6240.0</td>\n",
       "      <td>0.0</td>\n",
       "      <td>0.0</td>\n",
       "      <td>816.0</td>\n",
       "      <td>0.0</td>\n",
       "      <td>0.0</td>\n",
       "      <td>528.0</td>\n",
       "      <td>112.0</td>\n",
       "      <td>0.0</td>\n",
       "      <td>0.0</td>\n",
       "      <td>400.0</td>\n",
       "    </tr>\n",
       "    <tr>\n",
       "      <th>1</th>\n",
       "      <td>7742.0</td>\n",
       "      <td>0.0</td>\n",
       "      <td>763.0</td>\n",
       "      <td>192.0</td>\n",
       "      <td>0.0</td>\n",
       "      <td>0.0</td>\n",
       "      <td>386.0</td>\n",
       "      <td>0.0</td>\n",
       "      <td>0.0</td>\n",
       "      <td>0.0</td>\n",
       "      <td>0.0</td>\n",
       "    </tr>\n",
       "    <tr>\n",
       "      <th>2</th>\n",
       "      <td>9600.0</td>\n",
       "      <td>0.0</td>\n",
       "      <td>442.0</td>\n",
       "      <td>625.0</td>\n",
       "      <td>0.0</td>\n",
       "      <td>0.0</td>\n",
       "      <td>436.0</td>\n",
       "      <td>290.0</td>\n",
       "      <td>0.0</td>\n",
       "      <td>0.0</td>\n",
       "      <td>0.0</td>\n",
       "    </tr>\n",
       "    <tr>\n",
       "      <th>3</th>\n",
       "      <td>11600.0</td>\n",
       "      <td>0.0</td>\n",
       "      <td>0.0</td>\n",
       "      <td>700.0</td>\n",
       "      <td>0.0</td>\n",
       "      <td>0.0</td>\n",
       "      <td>252.0</td>\n",
       "      <td>0.0</td>\n",
       "      <td>0.0</td>\n",
       "      <td>67.0</td>\n",
       "      <td>0.0</td>\n",
       "    </tr>\n",
       "    <tr>\n",
       "      <th>4</th>\n",
       "      <td>10206.0</td>\n",
       "      <td>0.0</td>\n",
       "      <td>0.0</td>\n",
       "      <td>0.0</td>\n",
       "      <td>0.0</td>\n",
       "      <td>0.0</td>\n",
       "      <td>528.0</td>\n",
       "      <td>0.0</td>\n",
       "      <td>0.0</td>\n",
       "      <td>0.0</td>\n",
       "      <td>0.0</td>\n",
       "    </tr>\n",
       "    <tr>\n",
       "      <th>...</th>\n",
       "      <td>...</td>\n",
       "      <td>...</td>\n",
       "      <td>...</td>\n",
       "      <td>...</td>\n",
       "      <td>...</td>\n",
       "      <td>...</td>\n",
       "      <td>...</td>\n",
       "      <td>...</td>\n",
       "      <td>...</td>\n",
       "      <td>...</td>\n",
       "      <td>...</td>\n",
       "    </tr>\n",
       "    <tr>\n",
       "      <th>759</th>\n",
       "      <td>21286.0</td>\n",
       "      <td>0.0</td>\n",
       "      <td>0.0</td>\n",
       "      <td>720.0</td>\n",
       "      <td>551.0</td>\n",
       "      <td>0.0</td>\n",
       "      <td>312.0</td>\n",
       "      <td>0.0</td>\n",
       "      <td>0.0</td>\n",
       "      <td>108.0</td>\n",
       "      <td>0.0</td>\n",
       "    </tr>\n",
       "    <tr>\n",
       "      <th>760</th>\n",
       "      <td>8834.0</td>\n",
       "      <td>216.0</td>\n",
       "      <td>1170.0</td>\n",
       "      <td>292.0</td>\n",
       "      <td>762.0</td>\n",
       "      <td>1.0</td>\n",
       "      <td>738.0</td>\n",
       "      <td>184.0</td>\n",
       "      <td>0.0</td>\n",
       "      <td>0.0</td>\n",
       "      <td>0.0</td>\n",
       "    </tr>\n",
       "    <tr>\n",
       "      <th>761</th>\n",
       "      <td>7094.0</td>\n",
       "      <td>0.0</td>\n",
       "      <td>180.0</td>\n",
       "      <td>340.0</td>\n",
       "      <td>0.0</td>\n",
       "      <td>0.0</td>\n",
       "      <td>384.0</td>\n",
       "      <td>0.0</td>\n",
       "      <td>0.0</td>\n",
       "      <td>0.0</td>\n",
       "      <td>0.0</td>\n",
       "    </tr>\n",
       "    <tr>\n",
       "      <th>762</th>\n",
       "      <td>2645.0</td>\n",
       "      <td>456.0</td>\n",
       "      <td>0.0</td>\n",
       "      <td>776.0</td>\n",
       "      <td>677.0</td>\n",
       "      <td>1.0</td>\n",
       "      <td>492.0</td>\n",
       "      <td>206.0</td>\n",
       "      <td>0.0</td>\n",
       "      <td>0.0</td>\n",
       "      <td>0.0</td>\n",
       "    </tr>\n",
       "    <tr>\n",
       "      <th>763</th>\n",
       "      <td>10402.0</td>\n",
       "      <td>0.0</td>\n",
       "      <td>0.0</td>\n",
       "      <td>1226.0</td>\n",
       "      <td>0.0</td>\n",
       "      <td>0.0</td>\n",
       "      <td>740.0</td>\n",
       "      <td>0.0</td>\n",
       "      <td>36.0</td>\n",
       "      <td>0.0</td>\n",
       "      <td>0.0</td>\n",
       "    </tr>\n",
       "  </tbody>\n",
       "</table>\n",
       "<p>764 rows × 11 columns</p>\n",
       "</div>"
      ],
      "text/plain": [
       "     c_LotArea  c_MasVnrArea  c_BsmtFinSF1  c_BsmtUnfSF  c_2ndFlrSF  \\\n",
       "0       6240.0           0.0           0.0        816.0         0.0   \n",
       "1       7742.0           0.0         763.0        192.0         0.0   \n",
       "2       9600.0           0.0         442.0        625.0         0.0   \n",
       "3      11600.0           0.0           0.0        700.0         0.0   \n",
       "4      10206.0           0.0           0.0          0.0         0.0   \n",
       "..         ...           ...           ...          ...         ...   \n",
       "759    21286.0           0.0           0.0        720.0       551.0   \n",
       "760     8834.0         216.0        1170.0        292.0       762.0   \n",
       "761     7094.0           0.0         180.0        340.0         0.0   \n",
       "762     2645.0         456.0           0.0        776.0       677.0   \n",
       "763    10402.0           0.0           0.0       1226.0         0.0   \n",
       "\n",
       "     c_HalfBath  c_GarageArea  c_WoodDeckSF  c_OpenPorchSF  c_EnclosedPorch  \\\n",
       "0           0.0         528.0         112.0            0.0              0.0   \n",
       "1           0.0         386.0           0.0            0.0              0.0   \n",
       "2           0.0         436.0         290.0            0.0              0.0   \n",
       "3           0.0         252.0           0.0            0.0             67.0   \n",
       "4           0.0         528.0           0.0            0.0              0.0   \n",
       "..          ...           ...           ...            ...              ...   \n",
       "759         0.0         312.0           0.0            0.0            108.0   \n",
       "760         1.0         738.0         184.0            0.0              0.0   \n",
       "761         0.0         384.0           0.0            0.0              0.0   \n",
       "762         1.0         492.0         206.0            0.0              0.0   \n",
       "763         0.0         740.0           0.0           36.0              0.0   \n",
       "\n",
       "     c_MiscVal  \n",
       "0        400.0  \n",
       "1          0.0  \n",
       "2          0.0  \n",
       "3          0.0  \n",
       "4          0.0  \n",
       "..         ...  \n",
       "759        0.0  \n",
       "760        0.0  \n",
       "761        0.0  \n",
       "762        0.0  \n",
       "763        0.0  \n",
       "\n",
       "[764 rows x 11 columns]"
      ]
     },
     "execution_count": 921,
     "metadata": {},
     "output_type": "execute_result"
    }
   ],
   "source": [
    "X"
   ]
  },
  {
   "cell_type": "code",
   "execution_count": 922,
   "metadata": {
    "ExecuteTime": {
     "end_time": "2021-08-21T07:51:55.418253Z",
     "start_time": "2021-08-21T07:51:54.778255Z"
    }
   },
   "outputs": [],
   "source": [
    "X_new=kb.fit_transform(X, y)"
   ]
  },
  {
   "cell_type": "code",
   "execution_count": 923,
   "metadata": {
    "ExecuteTime": {
     "end_time": "2021-08-21T07:51:58.905308Z",
     "start_time": "2021-08-21T07:51:58.902307Z"
    }
   },
   "outputs": [],
   "source": [
    "cols=X.columns[kb.get_support()]"
   ]
  },
  {
   "cell_type": "code",
   "execution_count": 924,
   "metadata": {
    "ExecuteTime": {
     "end_time": "2021-08-21T07:51:59.618848Z",
     "start_time": "2021-08-21T07:51:59.606848Z"
    }
   },
   "outputs": [
    {
     "data": {
      "text/html": [
       "<div>\n",
       "<style scoped>\n",
       "    .dataframe tbody tr th:only-of-type {\n",
       "        vertical-align: middle;\n",
       "    }\n",
       "\n",
       "    .dataframe tbody tr th {\n",
       "        vertical-align: top;\n",
       "    }\n",
       "\n",
       "    .dataframe thead th {\n",
       "        text-align: right;\n",
       "    }\n",
       "</style>\n",
       "<table border=\"1\" class=\"dataframe\">\n",
       "  <thead>\n",
       "    <tr style=\"text-align: right;\">\n",
       "      <th></th>\n",
       "      <th>c_LotArea</th>\n",
       "      <th>c_MasVnrArea</th>\n",
       "      <th>c_HalfBath</th>\n",
       "      <th>c_GarageArea</th>\n",
       "      <th>c_OpenPorchSF</th>\n",
       "    </tr>\n",
       "  </thead>\n",
       "  <tbody>\n",
       "    <tr>\n",
       "      <th>0</th>\n",
       "      <td>6240.0</td>\n",
       "      <td>0.0</td>\n",
       "      <td>0.0</td>\n",
       "      <td>528.0</td>\n",
       "      <td>0.0</td>\n",
       "    </tr>\n",
       "    <tr>\n",
       "      <th>1</th>\n",
       "      <td>7742.0</td>\n",
       "      <td>0.0</td>\n",
       "      <td>0.0</td>\n",
       "      <td>386.0</td>\n",
       "      <td>0.0</td>\n",
       "    </tr>\n",
       "    <tr>\n",
       "      <th>2</th>\n",
       "      <td>9600.0</td>\n",
       "      <td>0.0</td>\n",
       "      <td>0.0</td>\n",
       "      <td>436.0</td>\n",
       "      <td>0.0</td>\n",
       "    </tr>\n",
       "    <tr>\n",
       "      <th>3</th>\n",
       "      <td>11600.0</td>\n",
       "      <td>0.0</td>\n",
       "      <td>0.0</td>\n",
       "      <td>252.0</td>\n",
       "      <td>0.0</td>\n",
       "    </tr>\n",
       "    <tr>\n",
       "      <th>4</th>\n",
       "      <td>10206.0</td>\n",
       "      <td>0.0</td>\n",
       "      <td>0.0</td>\n",
       "      <td>528.0</td>\n",
       "      <td>0.0</td>\n",
       "    </tr>\n",
       "    <tr>\n",
       "      <th>...</th>\n",
       "      <td>...</td>\n",
       "      <td>...</td>\n",
       "      <td>...</td>\n",
       "      <td>...</td>\n",
       "      <td>...</td>\n",
       "    </tr>\n",
       "    <tr>\n",
       "      <th>759</th>\n",
       "      <td>21286.0</td>\n",
       "      <td>0.0</td>\n",
       "      <td>0.0</td>\n",
       "      <td>312.0</td>\n",
       "      <td>0.0</td>\n",
       "    </tr>\n",
       "    <tr>\n",
       "      <th>760</th>\n",
       "      <td>8834.0</td>\n",
       "      <td>216.0</td>\n",
       "      <td>1.0</td>\n",
       "      <td>738.0</td>\n",
       "      <td>0.0</td>\n",
       "    </tr>\n",
       "    <tr>\n",
       "      <th>761</th>\n",
       "      <td>7094.0</td>\n",
       "      <td>0.0</td>\n",
       "      <td>0.0</td>\n",
       "      <td>384.0</td>\n",
       "      <td>0.0</td>\n",
       "    </tr>\n",
       "    <tr>\n",
       "      <th>762</th>\n",
       "      <td>2645.0</td>\n",
       "      <td>456.0</td>\n",
       "      <td>1.0</td>\n",
       "      <td>492.0</td>\n",
       "      <td>0.0</td>\n",
       "    </tr>\n",
       "    <tr>\n",
       "      <th>763</th>\n",
       "      <td>10402.0</td>\n",
       "      <td>0.0</td>\n",
       "      <td>0.0</td>\n",
       "      <td>740.0</td>\n",
       "      <td>36.0</td>\n",
       "    </tr>\n",
       "  </tbody>\n",
       "</table>\n",
       "<p>764 rows × 5 columns</p>\n",
       "</div>"
      ],
      "text/plain": [
       "     c_LotArea  c_MasVnrArea  c_HalfBath  c_GarageArea  c_OpenPorchSF\n",
       "0       6240.0           0.0         0.0         528.0            0.0\n",
       "1       7742.0           0.0         0.0         386.0            0.0\n",
       "2       9600.0           0.0         0.0         436.0            0.0\n",
       "3      11600.0           0.0         0.0         252.0            0.0\n",
       "4      10206.0           0.0         0.0         528.0            0.0\n",
       "..         ...           ...         ...           ...            ...\n",
       "759    21286.0           0.0         0.0         312.0            0.0\n",
       "760     8834.0         216.0         1.0         738.0            0.0\n",
       "761     7094.0           0.0         0.0         384.0            0.0\n",
       "762     2645.0         456.0         1.0         492.0            0.0\n",
       "763    10402.0           0.0         0.0         740.0           36.0\n",
       "\n",
       "[764 rows x 5 columns]"
      ]
     },
     "execution_count": 924,
     "metadata": {},
     "output_type": "execute_result"
    }
   ],
   "source": [
    "pd.DataFrame(X_new,columns=cols)"
   ]
  },
  {
   "cell_type": "code",
   "execution_count": 925,
   "metadata": {
    "ExecuteTime": {
     "end_time": "2021-08-21T07:52:02.596957Z",
     "start_time": "2021-08-21T07:52:02.577956Z"
    }
   },
   "outputs": [],
   "source": [
    "scores=pd.DataFrame(kb.scores_)\n",
    "scores[\"Variable\"]=X.columns\n",
    "scores.rename(columns={0:\"Score\"},inplace=True)"
   ]
  },
  {
   "cell_type": "code",
   "execution_count": 926,
   "metadata": {
    "ExecuteTime": {
     "end_time": "2021-08-21T07:52:03.025606Z",
     "start_time": "2021-08-21T07:52:03.008592Z"
    }
   },
   "outputs": [],
   "source": [
    "scores=scores.sort_values(by=\"Score\",ascending=False)\n",
    "scores.reset_index(drop=True,inplace=True)"
   ]
  },
  {
   "cell_type": "code",
   "execution_count": 927,
   "metadata": {
    "ExecuteTime": {
     "end_time": "2021-08-21T07:52:03.481498Z",
     "start_time": "2021-08-21T07:52:03.470468Z"
    },
    "scrolled": true
   },
   "outputs": [
    {
     "data": {
      "text/html": [
       "<div>\n",
       "<style scoped>\n",
       "    .dataframe tbody tr th:only-of-type {\n",
       "        vertical-align: middle;\n",
       "    }\n",
       "\n",
       "    .dataframe tbody tr th {\n",
       "        vertical-align: top;\n",
       "    }\n",
       "\n",
       "    .dataframe thead th {\n",
       "        text-align: right;\n",
       "    }\n",
       "</style>\n",
       "<table border=\"1\" class=\"dataframe\">\n",
       "  <thead>\n",
       "    <tr style=\"text-align: right;\">\n",
       "      <th></th>\n",
       "      <th>Score</th>\n",
       "      <th>Variable</th>\n",
       "    </tr>\n",
       "  </thead>\n",
       "  <tbody>\n",
       "    <tr>\n",
       "      <th>0</th>\n",
       "      <td>0.335697</td>\n",
       "      <td>c_HalfBath</td>\n",
       "    </tr>\n",
       "    <tr>\n",
       "      <th>1</th>\n",
       "      <td>0.249196</td>\n",
       "      <td>c_GarageArea</td>\n",
       "    </tr>\n",
       "    <tr>\n",
       "      <th>2</th>\n",
       "      <td>0.195370</td>\n",
       "      <td>c_OpenPorchSF</td>\n",
       "    </tr>\n",
       "    <tr>\n",
       "      <th>3</th>\n",
       "      <td>0.164919</td>\n",
       "      <td>c_LotArea</td>\n",
       "    </tr>\n",
       "    <tr>\n",
       "      <th>4</th>\n",
       "      <td>0.117103</td>\n",
       "      <td>c_MasVnrArea</td>\n",
       "    </tr>\n",
       "    <tr>\n",
       "      <th>5</th>\n",
       "      <td>0.074608</td>\n",
       "      <td>c_WoodDeckSF</td>\n",
       "    </tr>\n",
       "    <tr>\n",
       "      <th>6</th>\n",
       "      <td>0.065104</td>\n",
       "      <td>c_MiscVal</td>\n",
       "    </tr>\n",
       "    <tr>\n",
       "      <th>7</th>\n",
       "      <td>0.055629</td>\n",
       "      <td>c_2ndFlrSF</td>\n",
       "    </tr>\n",
       "    <tr>\n",
       "      <th>8</th>\n",
       "      <td>0.044195</td>\n",
       "      <td>c_BsmtUnfSF</td>\n",
       "    </tr>\n",
       "    <tr>\n",
       "      <th>9</th>\n",
       "      <td>0.030172</td>\n",
       "      <td>c_BsmtFinSF1</td>\n",
       "    </tr>\n",
       "    <tr>\n",
       "      <th>10</th>\n",
       "      <td>0.000000</td>\n",
       "      <td>c_EnclosedPorch</td>\n",
       "    </tr>\n",
       "  </tbody>\n",
       "</table>\n",
       "</div>"
      ],
      "text/plain": [
       "       Score         Variable\n",
       "0   0.335697       c_HalfBath\n",
       "1   0.249196     c_GarageArea\n",
       "2   0.195370    c_OpenPorchSF\n",
       "3   0.164919        c_LotArea\n",
       "4   0.117103     c_MasVnrArea\n",
       "5   0.074608     c_WoodDeckSF\n",
       "6   0.065104        c_MiscVal\n",
       "7   0.055629       c_2ndFlrSF\n",
       "8   0.044195      c_BsmtUnfSF\n",
       "9   0.030172     c_BsmtFinSF1\n",
       "10  0.000000  c_EnclosedPorch"
      ]
     },
     "execution_count": 927,
     "metadata": {},
     "output_type": "execute_result"
    }
   ],
   "source": [
    "scores"
   ]
  },
  {
   "cell_type": "code",
   "execution_count": 928,
   "metadata": {
    "ExecuteTime": {
     "end_time": "2021-08-21T07:52:07.824274Z",
     "start_time": "2021-08-21T07:52:07.808277Z"
    },
    "scrolled": true
   },
   "outputs": [
    {
     "data": {
      "text/html": [
       "<div>\n",
       "<style scoped>\n",
       "    .dataframe tbody tr th:only-of-type {\n",
       "        vertical-align: middle;\n",
       "    }\n",
       "\n",
       "    .dataframe tbody tr th {\n",
       "        vertical-align: top;\n",
       "    }\n",
       "\n",
       "    .dataframe thead th {\n",
       "        text-align: right;\n",
       "    }\n",
       "</style>\n",
       "<table border=\"1\" class=\"dataframe\">\n",
       "  <thead>\n",
       "    <tr style=\"text-align: right;\">\n",
       "      <th></th>\n",
       "      <th>c_LotArea</th>\n",
       "      <th>c_MasVnrArea</th>\n",
       "      <th>c_HalfBath</th>\n",
       "      <th>c_GarageArea</th>\n",
       "      <th>c_OpenPorchSF</th>\n",
       "    </tr>\n",
       "  </thead>\n",
       "  <tbody>\n",
       "    <tr>\n",
       "      <th>0</th>\n",
       "      <td>6240.0</td>\n",
       "      <td>0.0</td>\n",
       "      <td>0.0</td>\n",
       "      <td>528.0</td>\n",
       "      <td>0.0</td>\n",
       "    </tr>\n",
       "    <tr>\n",
       "      <th>1</th>\n",
       "      <td>7742.0</td>\n",
       "      <td>0.0</td>\n",
       "      <td>0.0</td>\n",
       "      <td>386.0</td>\n",
       "      <td>0.0</td>\n",
       "    </tr>\n",
       "    <tr>\n",
       "      <th>2</th>\n",
       "      <td>9600.0</td>\n",
       "      <td>0.0</td>\n",
       "      <td>0.0</td>\n",
       "      <td>436.0</td>\n",
       "      <td>0.0</td>\n",
       "    </tr>\n",
       "    <tr>\n",
       "      <th>3</th>\n",
       "      <td>11600.0</td>\n",
       "      <td>0.0</td>\n",
       "      <td>0.0</td>\n",
       "      <td>252.0</td>\n",
       "      <td>0.0</td>\n",
       "    </tr>\n",
       "    <tr>\n",
       "      <th>4</th>\n",
       "      <td>10206.0</td>\n",
       "      <td>0.0</td>\n",
       "      <td>0.0</td>\n",
       "      <td>528.0</td>\n",
       "      <td>0.0</td>\n",
       "    </tr>\n",
       "    <tr>\n",
       "      <th>...</th>\n",
       "      <td>...</td>\n",
       "      <td>...</td>\n",
       "      <td>...</td>\n",
       "      <td>...</td>\n",
       "      <td>...</td>\n",
       "    </tr>\n",
       "    <tr>\n",
       "      <th>759</th>\n",
       "      <td>21286.0</td>\n",
       "      <td>0.0</td>\n",
       "      <td>0.0</td>\n",
       "      <td>312.0</td>\n",
       "      <td>0.0</td>\n",
       "    </tr>\n",
       "    <tr>\n",
       "      <th>760</th>\n",
       "      <td>8834.0</td>\n",
       "      <td>216.0</td>\n",
       "      <td>1.0</td>\n",
       "      <td>738.0</td>\n",
       "      <td>0.0</td>\n",
       "    </tr>\n",
       "    <tr>\n",
       "      <th>761</th>\n",
       "      <td>7094.0</td>\n",
       "      <td>0.0</td>\n",
       "      <td>0.0</td>\n",
       "      <td>384.0</td>\n",
       "      <td>0.0</td>\n",
       "    </tr>\n",
       "    <tr>\n",
       "      <th>762</th>\n",
       "      <td>2645.0</td>\n",
       "      <td>456.0</td>\n",
       "      <td>1.0</td>\n",
       "      <td>492.0</td>\n",
       "      <td>0.0</td>\n",
       "    </tr>\n",
       "    <tr>\n",
       "      <th>763</th>\n",
       "      <td>10402.0</td>\n",
       "      <td>0.0</td>\n",
       "      <td>0.0</td>\n",
       "      <td>740.0</td>\n",
       "      <td>36.0</td>\n",
       "    </tr>\n",
       "  </tbody>\n",
       "</table>\n",
       "<p>764 rows × 5 columns</p>\n",
       "</div>"
      ],
      "text/plain": [
       "     c_LotArea  c_MasVnrArea  c_HalfBath  c_GarageArea  c_OpenPorchSF\n",
       "0       6240.0           0.0         0.0         528.0            0.0\n",
       "1       7742.0           0.0         0.0         386.0            0.0\n",
       "2       9600.0           0.0         0.0         436.0            0.0\n",
       "3      11600.0           0.0         0.0         252.0            0.0\n",
       "4      10206.0           0.0         0.0         528.0            0.0\n",
       "..         ...           ...         ...           ...            ...\n",
       "759    21286.0           0.0         0.0         312.0            0.0\n",
       "760     8834.0         216.0         1.0         738.0            0.0\n",
       "761     7094.0           0.0         0.0         384.0            0.0\n",
       "762     2645.0         456.0         1.0         492.0            0.0\n",
       "763    10402.0           0.0         0.0         740.0           36.0\n",
       "\n",
       "[764 rows x 5 columns]"
      ]
     },
     "execution_count": 928,
     "metadata": {},
     "output_type": "execute_result"
    }
   ],
   "source": [
    "X[list(scores[:20][\"Variable\"].values)][cols]"
   ]
  },
  {
   "cell_type": "markdown",
   "metadata": {
    "ExecuteTime": {
     "end_time": "2021-08-21T07:58:46.012464Z",
     "start_time": "2021-08-21T07:58:45.998501Z"
    }
   },
   "source": [
    "## VarClus"
   ]
  },
  {
   "cell_type": "markdown",
   "metadata": {},
   "source": [
    "- Varclus es un buen algoritmo de reducción de dimensiones. Aquí hay una breve descripción:\n",
    "- Se elige un grupo para dividir.\n",
    "- El grupo elegido se divide en dos grupos al encontrar los dos primeros componentes principales, realizar una rotación ortoblicua y asignar cada variable al componente girado con el que tiene la correlación al cuadrado más alto.\n",
    "- Las variables se reasignan iterativamente a los conglomerados para maximizar la varianza contabilizada por los componentes del conglomerado"
   ]
  },
  {
   "cell_type": "code",
   "execution_count": 1126,
   "metadata": {
    "ExecuteTime": {
     "end_time": "2021-08-21T17:48:52.057267Z",
     "start_time": "2021-08-21T17:48:52.048268Z"
    }
   },
   "outputs": [],
   "source": [
    "from varclushi import VarClusHi"
   ]
  },
  {
   "cell_type": "code",
   "execution_count": 1133,
   "metadata": {
    "ExecuteTime": {
     "end_time": "2021-08-21T17:49:33.235743Z",
     "start_time": "2021-08-21T17:49:33.223743Z"
    }
   },
   "outputs": [],
   "source": [
    "vc = VarClusHi(X,maxeigval2=.7)"
   ]
  },
  {
   "cell_type": "code",
   "execution_count": 1134,
   "metadata": {
    "ExecuteTime": {
     "end_time": "2021-08-21T17:49:33.903742Z",
     "start_time": "2021-08-21T17:49:33.681758Z"
    }
   },
   "outputs": [
    {
     "data": {
      "text/plain": [
       "<varclushi.varclushi.VarClusHi at 0x2329820bd30>"
      ]
     },
     "execution_count": 1134,
     "metadata": {},
     "output_type": "execute_result"
    }
   ],
   "source": [
    "vc.varclus()"
   ]
  },
  {
   "cell_type": "code",
   "execution_count": 1135,
   "metadata": {
    "ExecuteTime": {
     "end_time": "2021-08-21T17:49:34.076742Z",
     "start_time": "2021-08-21T17:49:33.955745Z"
    }
   },
   "outputs": [
    {
     "data": {
      "text/html": [
       "<div>\n",
       "<style scoped>\n",
       "    .dataframe tbody tr th:only-of-type {\n",
       "        vertical-align: middle;\n",
       "    }\n",
       "\n",
       "    .dataframe tbody tr th {\n",
       "        vertical-align: top;\n",
       "    }\n",
       "\n",
       "    .dataframe thead th {\n",
       "        text-align: right;\n",
       "    }\n",
       "</style>\n",
       "<table border=\"1\" class=\"dataframe\">\n",
       "  <thead>\n",
       "    <tr style=\"text-align: right;\">\n",
       "      <th></th>\n",
       "      <th>Cluster</th>\n",
       "      <th>Variable</th>\n",
       "      <th>RS_Own</th>\n",
       "      <th>RS_NC</th>\n",
       "      <th>RS_Ratio</th>\n",
       "    </tr>\n",
       "  </thead>\n",
       "  <tbody>\n",
       "    <tr>\n",
       "      <th>0</th>\n",
       "      <td>0</td>\n",
       "      <td>c_EnclosedPorch</td>\n",
       "      <td>1.000000</td>\n",
       "      <td>0.033443</td>\n",
       "      <td>0.000000</td>\n",
       "    </tr>\n",
       "    <tr>\n",
       "      <th>1</th>\n",
       "      <td>1</td>\n",
       "      <td>c_BsmtFinSF1</td>\n",
       "      <td>0.786901</td>\n",
       "      <td>0.039508</td>\n",
       "      <td>0.221865</td>\n",
       "    </tr>\n",
       "    <tr>\n",
       "      <th>2</th>\n",
       "      <td>1</td>\n",
       "      <td>c_BsmtUnfSF</td>\n",
       "      <td>0.786901</td>\n",
       "      <td>0.037686</td>\n",
       "      <td>0.221445</td>\n",
       "    </tr>\n",
       "    <tr>\n",
       "      <th>3</th>\n",
       "      <td>2</td>\n",
       "      <td>c_2ndFlrSF</td>\n",
       "      <td>0.821109</td>\n",
       "      <td>0.031683</td>\n",
       "      <td>0.184744</td>\n",
       "    </tr>\n",
       "    <tr>\n",
       "      <th>4</th>\n",
       "      <td>2</td>\n",
       "      <td>c_HalfBath</td>\n",
       "      <td>0.821109</td>\n",
       "      <td>0.037034</td>\n",
       "      <td>0.185771</td>\n",
       "    </tr>\n",
       "    <tr>\n",
       "      <th>5</th>\n",
       "      <td>3</td>\n",
       "      <td>c_WoodDeckSF</td>\n",
       "      <td>1.000000</td>\n",
       "      <td>0.043775</td>\n",
       "      <td>0.000000</td>\n",
       "    </tr>\n",
       "    <tr>\n",
       "      <th>6</th>\n",
       "      <td>4</td>\n",
       "      <td>c_MiscVal</td>\n",
       "      <td>1.000000</td>\n",
       "      <td>0.004830</td>\n",
       "      <td>0.000000</td>\n",
       "    </tr>\n",
       "    <tr>\n",
       "      <th>7</th>\n",
       "      <td>5</td>\n",
       "      <td>c_GarageArea</td>\n",
       "      <td>1.000000</td>\n",
       "      <td>0.064245</td>\n",
       "      <td>0.000000</td>\n",
       "    </tr>\n",
       "    <tr>\n",
       "      <th>8</th>\n",
       "      <td>6</td>\n",
       "      <td>c_LotArea</td>\n",
       "      <td>1.000000</td>\n",
       "      <td>0.049686</td>\n",
       "      <td>0.000000</td>\n",
       "    </tr>\n",
       "    <tr>\n",
       "      <th>9</th>\n",
       "      <td>7</td>\n",
       "      <td>c_OpenPorchSF</td>\n",
       "      <td>1.000000</td>\n",
       "      <td>0.062331</td>\n",
       "      <td>0.000000</td>\n",
       "    </tr>\n",
       "    <tr>\n",
       "      <th>10</th>\n",
       "      <td>8</td>\n",
       "      <td>c_MasVnrArea</td>\n",
       "      <td>1.000000</td>\n",
       "      <td>0.064245</td>\n",
       "      <td>0.000000</td>\n",
       "    </tr>\n",
       "  </tbody>\n",
       "</table>\n",
       "</div>"
      ],
      "text/plain": [
       "   Cluster         Variable    RS_Own     RS_NC  RS_Ratio\n",
       "0        0  c_EnclosedPorch  1.000000  0.033443  0.000000\n",
       "1        1     c_BsmtFinSF1  0.786901  0.039508  0.221865\n",
       "2        1      c_BsmtUnfSF  0.786901  0.037686  0.221445\n",
       "3        2       c_2ndFlrSF  0.821109  0.031683  0.184744\n",
       "4        2       c_HalfBath  0.821109  0.037034  0.185771\n",
       "5        3     c_WoodDeckSF  1.000000  0.043775  0.000000\n",
       "6        4        c_MiscVal  1.000000  0.004830  0.000000\n",
       "7        5     c_GarageArea  1.000000  0.064245  0.000000\n",
       "8        6        c_LotArea  1.000000  0.049686  0.000000\n",
       "9        7    c_OpenPorchSF  1.000000  0.062331  0.000000\n",
       "10       8     c_MasVnrArea  1.000000  0.064245  0.000000"
      ]
     },
     "execution_count": 1135,
     "metadata": {},
     "output_type": "execute_result"
    }
   ],
   "source": [
    "vc.rsquare"
   ]
  },
  {
   "cell_type": "code",
   "execution_count": 1137,
   "metadata": {
    "ExecuteTime": {
     "end_time": "2021-08-21T17:57:23.174283Z",
     "start_time": "2021-08-21T17:57:23.064243Z"
    }
   },
   "outputs": [
    {
     "data": {
      "text/html": [
       "<div>\n",
       "<style scoped>\n",
       "    .dataframe tbody tr th:only-of-type {\n",
       "        vertical-align: middle;\n",
       "    }\n",
       "\n",
       "    .dataframe tbody tr th {\n",
       "        vertical-align: top;\n",
       "    }\n",
       "\n",
       "    .dataframe thead th {\n",
       "        text-align: right;\n",
       "    }\n",
       "</style>\n",
       "<table border=\"1\" class=\"dataframe\">\n",
       "  <thead>\n",
       "    <tr style=\"text-align: right;\">\n",
       "      <th></th>\n",
       "      <th>Cluster</th>\n",
       "      <th>Variable</th>\n",
       "      <th>RS_Own</th>\n",
       "      <th>RS_NC</th>\n",
       "      <th>RS_Ratio</th>\n",
       "    </tr>\n",
       "  </thead>\n",
       "  <tbody>\n",
       "    <tr>\n",
       "      <th>0</th>\n",
       "      <td>0</td>\n",
       "      <td>c_EnclosedPorch</td>\n",
       "      <td>1.000000</td>\n",
       "      <td>0.033443</td>\n",
       "      <td>0.000000</td>\n",
       "    </tr>\n",
       "    <tr>\n",
       "      <th>2</th>\n",
       "      <td>1</td>\n",
       "      <td>c_BsmtUnfSF</td>\n",
       "      <td>0.786901</td>\n",
       "      <td>0.037686</td>\n",
       "      <td>0.221445</td>\n",
       "    </tr>\n",
       "    <tr>\n",
       "      <th>3</th>\n",
       "      <td>2</td>\n",
       "      <td>c_2ndFlrSF</td>\n",
       "      <td>0.821109</td>\n",
       "      <td>0.031683</td>\n",
       "      <td>0.184744</td>\n",
       "    </tr>\n",
       "    <tr>\n",
       "      <th>5</th>\n",
       "      <td>3</td>\n",
       "      <td>c_WoodDeckSF</td>\n",
       "      <td>1.000000</td>\n",
       "      <td>0.043775</td>\n",
       "      <td>0.000000</td>\n",
       "    </tr>\n",
       "    <tr>\n",
       "      <th>6</th>\n",
       "      <td>4</td>\n",
       "      <td>c_MiscVal</td>\n",
       "      <td>1.000000</td>\n",
       "      <td>0.004830</td>\n",
       "      <td>0.000000</td>\n",
       "    </tr>\n",
       "    <tr>\n",
       "      <th>7</th>\n",
       "      <td>5</td>\n",
       "      <td>c_GarageArea</td>\n",
       "      <td>1.000000</td>\n",
       "      <td>0.064245</td>\n",
       "      <td>0.000000</td>\n",
       "    </tr>\n",
       "    <tr>\n",
       "      <th>8</th>\n",
       "      <td>6</td>\n",
       "      <td>c_LotArea</td>\n",
       "      <td>1.000000</td>\n",
       "      <td>0.049686</td>\n",
       "      <td>0.000000</td>\n",
       "    </tr>\n",
       "    <tr>\n",
       "      <th>9</th>\n",
       "      <td>7</td>\n",
       "      <td>c_OpenPorchSF</td>\n",
       "      <td>1.000000</td>\n",
       "      <td>0.062331</td>\n",
       "      <td>0.000000</td>\n",
       "    </tr>\n",
       "    <tr>\n",
       "      <th>10</th>\n",
       "      <td>8</td>\n",
       "      <td>c_MasVnrArea</td>\n",
       "      <td>1.000000</td>\n",
       "      <td>0.064245</td>\n",
       "      <td>0.000000</td>\n",
       "    </tr>\n",
       "  </tbody>\n",
       "</table>\n",
       "</div>"
      ],
      "text/plain": [
       "   Cluster         Variable    RS_Own     RS_NC  RS_Ratio\n",
       "0        0  c_EnclosedPorch  1.000000  0.033443  0.000000\n",
       "2        1      c_BsmtUnfSF  0.786901  0.037686  0.221445\n",
       "3        2       c_2ndFlrSF  0.821109  0.031683  0.184744\n",
       "5        3     c_WoodDeckSF  1.000000  0.043775  0.000000\n",
       "6        4        c_MiscVal  1.000000  0.004830  0.000000\n",
       "7        5     c_GarageArea  1.000000  0.064245  0.000000\n",
       "8        6        c_LotArea  1.000000  0.049686  0.000000\n",
       "9        7    c_OpenPorchSF  1.000000  0.062331  0.000000\n",
       "10       8     c_MasVnrArea  1.000000  0.064245  0.000000"
      ]
     },
     "execution_count": 1137,
     "metadata": {},
     "output_type": "execute_result"
    }
   ],
   "source": [
    "vc.rsquare.sort_values([\"Cluster\",\"RS_Ratio\"],ascending=True).drop_duplicates(subset=[\"Cluster\"],keep=\"first\")"
   ]
  },
  {
   "cell_type": "code",
   "execution_count": 1138,
   "metadata": {
    "ExecuteTime": {
     "end_time": "2021-08-21T17:58:16.349179Z",
     "start_time": "2021-08-21T17:58:16.181143Z"
    }
   },
   "outputs": [],
   "source": [
    "columns=list(vc.rsquare.sort_values([\"Cluster\",\"RS_Ratio\"],ascending=True).drop_duplicates(subset=[\"Cluster\"],keep=\"first\")[\"Variable\"].values)"
   ]
  },
  {
   "cell_type": "code",
   "execution_count": 1139,
   "metadata": {
    "ExecuteTime": {
     "end_time": "2021-08-21T17:58:16.585044Z",
     "start_time": "2021-08-21T17:58:16.573046Z"
    }
   },
   "outputs": [
    {
     "data": {
      "text/plain": [
       "['c_EnclosedPorch',\n",
       " 'c_BsmtUnfSF',\n",
       " 'c_2ndFlrSF',\n",
       " 'c_WoodDeckSF',\n",
       " 'c_MiscVal',\n",
       " 'c_GarageArea',\n",
       " 'c_LotArea',\n",
       " 'c_OpenPorchSF',\n",
       " 'c_MasVnrArea']"
      ]
     },
     "execution_count": 1139,
     "metadata": {},
     "output_type": "execute_result"
    }
   ],
   "source": [
    "columns"
   ]
  },
  {
   "cell_type": "code",
   "execution_count": null,
   "metadata": {},
   "outputs": [],
   "source": []
  },
  {
   "cell_type": "code",
   "execution_count": null,
   "metadata": {},
   "outputs": [],
   "source": []
  },
  {
   "cell_type": "code",
   "execution_count": null,
   "metadata": {},
   "outputs": [],
   "source": []
  },
  {
   "cell_type": "code",
   "execution_count": null,
   "metadata": {},
   "outputs": [],
   "source": []
  },
  {
   "cell_type": "markdown",
   "metadata": {
    "heading_collapsed": true
   },
   "source": [
    "## Arboles de decision"
   ]
  },
  {
   "cell_type": "code",
   "execution_count": 1140,
   "metadata": {
    "ExecuteTime": {
     "end_time": "2021-08-21T18:00:33.876542Z",
     "start_time": "2021-08-21T18:00:33.854515Z"
    },
    "hidden": true
   },
   "outputs": [],
   "source": [
    "x_train=X_train[[x for x in X_train if x!=\"tgt_SalePrice\"]]\n",
    "y_train=X_train[[x for x in X_train if x==\"tgt_SalePrice\"]]\n",
    "\n",
    "x_test=X_test[[x for x in X_test if x!=\"tgt_SalePrice\"]]\n",
    "y_test=X_test[[x for x in X_test if x==\"tgt_SalePrice\"]]"
   ]
  },
  {
   "cell_type": "code",
   "execution_count": 1141,
   "metadata": {
    "ExecuteTime": {
     "end_time": "2021-08-21T18:00:34.478027Z",
     "start_time": "2021-08-21T18:00:34.459032Z"
    },
    "hidden": true
   },
   "outputs": [],
   "source": [
    "from sklearn.tree import DecisionTreeRegressor\n",
    "from sklearn.metrics import mean_absolute_error\n",
    "from sklearn.metrics import mean_squared_error\n",
    "from sklearn.metrics import r2_score\n",
    "from sklearn.metrics import mean_absolute_percentage_error"
   ]
  },
  {
   "cell_type": "code",
   "execution_count": 1142,
   "metadata": {
    "ExecuteTime": {
     "end_time": "2021-08-21T18:00:35.836624Z",
     "start_time": "2021-08-21T18:00:35.808653Z"
    },
    "hidden": true
   },
   "outputs": [],
   "source": [
    "\n",
    "model = DecisionTreeRegressor()\n",
    "\n",
    "model.fit(x_train, y_train)\n",
    "\n",
    "importance = model.feature_importances_"
   ]
  },
  {
   "cell_type": "code",
   "execution_count": 1144,
   "metadata": {
    "ExecuteTime": {
     "end_time": "2021-08-21T18:00:40.547475Z",
     "start_time": "2021-08-21T18:00:40.532461Z"
    },
    "hidden": true
   },
   "outputs": [],
   "source": [
    "pred_test=model.predict(x_test)\n",
    "pred_train=model.predict(x_train)"
   ]
  },
  {
   "cell_type": "code",
   "execution_count": 1145,
   "metadata": {
    "ExecuteTime": {
     "end_time": "2021-08-21T18:00:41.790567Z",
     "start_time": "2021-08-21T18:00:41.769607Z"
    },
    "hidden": true
   },
   "outputs": [
    {
     "data": {
      "text/plain": [
       "0.6989273028429442"
      ]
     },
     "execution_count": 1145,
     "metadata": {},
     "output_type": "execute_result"
    }
   ],
   "source": [
    "r2_score(y_test,pred_test)"
   ]
  },
  {
   "cell_type": "code",
   "execution_count": 1146,
   "metadata": {
    "ExecuteTime": {
     "end_time": "2021-08-21T18:00:42.453639Z",
     "start_time": "2021-08-21T18:00:42.436639Z"
    },
    "hidden": true
   },
   "outputs": [
    {
     "data": {
      "text/plain": [
       "0.9999852187046931"
      ]
     },
     "execution_count": 1146,
     "metadata": {},
     "output_type": "execute_result"
    }
   ],
   "source": [
    "r2_score(y_train,pred_train)"
   ]
  },
  {
   "cell_type": "code",
   "execution_count": 1147,
   "metadata": {
    "ExecuteTime": {
     "end_time": "2021-08-21T18:00:42.865666Z",
     "start_time": "2021-08-21T18:00:42.849683Z"
    },
    "hidden": true
   },
   "outputs": [
    {
     "data": {
      "text/plain": [
       "array([4.18103789e-02, 4.36254336e-01, 3.15006835e-03, 8.80264421e-03,\n",
       "       6.53011674e-04, 1.29870031e-01, 1.14560603e-02, 3.54091831e-03,\n",
       "       3.42749154e-02, 3.26916675e-04, 3.14964113e-04, 7.05767053e-02,\n",
       "       1.37512445e-02, 1.51362701e-06, 8.36091745e-04, 2.62773738e-03,\n",
       "       8.58508651e-02, 1.94896863e-03, 3.31009712e-04, 1.10538852e-02,\n",
       "       2.49457530e-02, 5.42280353e-03, 2.23829565e-05, 1.22720956e-03,\n",
       "       2.01817710e-03, 0.00000000e+00, 1.11280634e-03, 1.90569020e-04,\n",
       "       1.27640821e-03, 6.88829755e-04, 4.03771216e-04, 1.85608944e-03,\n",
       "       0.00000000e+00, 2.21599040e-02, 3.01903590e-03, 9.28453355e-04,\n",
       "       1.52346138e-03, 2.97465201e-03, 4.90687953e-05, 2.61027638e-03,\n",
       "       5.19249246e-03, 8.56935570e-04, 2.14210405e-03, 1.64135924e-04,\n",
       "       1.19267648e-03, 4.96978287e-03, 3.98911184e-03, 7.31931164e-04,\n",
       "       0.00000000e+00, 2.30210495e-02, 0.00000000e+00, 6.76496613e-04,\n",
       "       5.34938878e-04, 4.02385653e-05, 2.67059568e-03, 2.70406655e-04,\n",
       "       4.03847338e-03, 5.05211119e-05, 2.73786483e-04, 4.20238206e-03,\n",
       "       0.00000000e+00, 9.46016883e-06, 1.01717641e-03, 6.13645693e-03,\n",
       "       7.27344253e-03, 1.76784136e-04, 3.94886615e-04, 1.11815035e-04])"
      ]
     },
     "execution_count": 1147,
     "metadata": {},
     "output_type": "execute_result"
    }
   ],
   "source": [
    "importance"
   ]
  },
  {
   "cell_type": "code",
   "execution_count": 1151,
   "metadata": {
    "ExecuteTime": {
     "end_time": "2021-08-21T18:01:23.115453Z",
     "start_time": "2021-08-21T18:01:23.105431Z"
    },
    "hidden": true
   },
   "outputs": [],
   "source": [
    "scores=pd.DataFrame()\n",
    "scores[\"gini_index\"]=importance\n",
    "scores[\"feature\"]=x_train.columns"
   ]
  },
  {
   "cell_type": "code",
   "execution_count": 1152,
   "metadata": {
    "ExecuteTime": {
     "end_time": "2021-08-21T18:01:23.543419Z",
     "start_time": "2021-08-21T18:01:23.533418Z"
    },
    "hidden": true
   },
   "outputs": [],
   "source": [
    "scores=scores.sort_values(by=\"gini_index\",ascending=False)\n",
    "scores.reset_index(drop=True,inplace=True)"
   ]
  },
  {
   "cell_type": "code",
   "execution_count": 1153,
   "metadata": {
    "ExecuteTime": {
     "end_time": "2021-08-21T18:01:23.957414Z",
     "start_time": "2021-08-21T18:01:23.943418Z"
    },
    "hidden": true
   },
   "outputs": [],
   "source": [
    "feats=list(scores[:10][\"feature\"].values)"
   ]
  },
  {
   "cell_type": "code",
   "execution_count": 1154,
   "metadata": {
    "ExecuteTime": {
     "end_time": "2021-08-21T18:01:24.573490Z",
     "start_time": "2021-08-21T18:01:24.544496Z"
    },
    "hidden": true,
    "scrolled": true
   },
   "outputs": [
    {
     "data": {
      "text/html": [
       "<div>\n",
       "<style scoped>\n",
       "    .dataframe tbody tr th:only-of-type {\n",
       "        vertical-align: middle;\n",
       "    }\n",
       "\n",
       "    .dataframe tbody tr th {\n",
       "        vertical-align: top;\n",
       "    }\n",
       "\n",
       "    .dataframe thead th {\n",
       "        text-align: right;\n",
       "    }\n",
       "</style>\n",
       "<table border=\"1\" class=\"dataframe\">\n",
       "  <thead>\n",
       "    <tr style=\"text-align: right;\">\n",
       "      <th></th>\n",
       "      <th>gini_index</th>\n",
       "      <th>feature</th>\n",
       "    </tr>\n",
       "  </thead>\n",
       "  <tbody>\n",
       "    <tr>\n",
       "      <th>0</th>\n",
       "      <td>0.436254</td>\n",
       "      <td>v_ExterQual</td>\n",
       "    </tr>\n",
       "    <tr>\n",
       "      <th>1</th>\n",
       "      <td>0.129870</td>\n",
       "      <td>c_BsmtFinSF1</td>\n",
       "    </tr>\n",
       "    <tr>\n",
       "      <th>2</th>\n",
       "      <td>0.085851</td>\n",
       "      <td>c_GarageArea</td>\n",
       "    </tr>\n",
       "    <tr>\n",
       "      <th>3</th>\n",
       "      <td>0.070577</td>\n",
       "      <td>v_FullBath</td>\n",
       "    </tr>\n",
       "    <tr>\n",
       "      <th>4</th>\n",
       "      <td>0.041810</td>\n",
       "      <td>c_LotArea</td>\n",
       "    </tr>\n",
       "    <tr>\n",
       "      <th>...</th>\n",
       "      <td>...</td>\n",
       "      <td>...</td>\n",
       "    </tr>\n",
       "    <tr>\n",
       "      <th>63</th>\n",
       "      <td>0.000000</td>\n",
       "      <td>v_Heating_otro</td>\n",
       "    </tr>\n",
       "    <tr>\n",
       "      <th>64</th>\n",
       "      <td>0.000000</td>\n",
       "      <td>v_RoofMatl_otro</td>\n",
       "    </tr>\n",
       "    <tr>\n",
       "      <th>65</th>\n",
       "      <td>0.000000</td>\n",
       "      <td>v_Condition2_otro</td>\n",
       "    </tr>\n",
       "    <tr>\n",
       "      <th>66</th>\n",
       "      <td>0.000000</td>\n",
       "      <td>v_Electrical_otro</td>\n",
       "    </tr>\n",
       "    <tr>\n",
       "      <th>67</th>\n",
       "      <td>0.000000</td>\n",
       "      <td>v_Street_pave</td>\n",
       "    </tr>\n",
       "  </tbody>\n",
       "</table>\n",
       "<p>68 rows × 2 columns</p>\n",
       "</div>"
      ],
      "text/plain": [
       "    gini_index            feature\n",
       "0     0.436254        v_ExterQual\n",
       "1     0.129870       c_BsmtFinSF1\n",
       "2     0.085851       c_GarageArea\n",
       "3     0.070577         v_FullBath\n",
       "4     0.041810          c_LotArea\n",
       "..         ...                ...\n",
       "63    0.000000     v_Heating_otro\n",
       "64    0.000000    v_RoofMatl_otro\n",
       "65    0.000000  v_Condition2_otro\n",
       "66    0.000000  v_Electrical_otro\n",
       "67    0.000000      v_Street_pave\n",
       "\n",
       "[68 rows x 2 columns]"
      ]
     },
     "execution_count": 1154,
     "metadata": {},
     "output_type": "execute_result"
    }
   ],
   "source": [
    "scores"
   ]
  },
  {
   "cell_type": "code",
   "execution_count": null,
   "metadata": {
    "hidden": true
   },
   "outputs": [],
   "source": []
  },
  {
   "cell_type": "code",
   "execution_count": null,
   "metadata": {
    "hidden": true
   },
   "outputs": [],
   "source": []
  },
  {
   "cell_type": "code",
   "execution_count": null,
   "metadata": {
    "hidden": true
   },
   "outputs": [],
   "source": []
  },
  {
   "cell_type": "code",
   "execution_count": null,
   "metadata": {
    "hidden": true
   },
   "outputs": [],
   "source": []
  }
 ],
 "metadata": {
  "hide_input": false,
  "kernelspec": {
   "display_name": "Python 3 (ipykernel)",
   "language": "python",
   "name": "python3"
  },
  "language_info": {
   "codemirror_mode": {
    "name": "ipython",
    "version": 3
   },
   "file_extension": ".py",
   "mimetype": "text/x-python",
   "name": "python",
   "nbconvert_exporter": "python",
   "pygments_lexer": "ipython3",
   "version": "3.8.10"
  },
  "toc": {
   "base_numbering": 1,
   "nav_menu": {},
   "number_sections": true,
   "sideBar": true,
   "skip_h1_title": false,
   "title_cell": "Table of Contents",
   "title_sidebar": "Contents",
   "toc_cell": false,
   "toc_position": {},
   "toc_section_display": true,
   "toc_window_display": false
  }
 },
 "nbformat": 4,
 "nbformat_minor": 2
}
